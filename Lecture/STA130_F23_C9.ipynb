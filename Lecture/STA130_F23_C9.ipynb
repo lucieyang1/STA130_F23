{
 "cells": [
  {
   "cell_type": "markdown",
   "id": "b9d600da",
   "metadata": {},
   "source": [
    "# Classification (as opposed [Simple Lineal Model / Multiple Linear] Regression)\n",
    "\n",
    "- Machine Learning (Predictive Modeling)\n",
    "    - Predictive Modeling refers to both classification and regression\n",
    "    - It generally would refer to Machine Learning (more than statistical modeling); but, when you do, e.g., Multiple Linear Regression you are also doing predictive modeling (although you may be more focussed on model interpretation... which is the nice thing that you can do with SLR/MLR)"
   ]
  },
  {
   "cell_type": "code",
   "execution_count": 1,
   "id": "8e7f6989",
   "metadata": {},
   "outputs": [
    {
     "data": {
      "text/html": [
       "<div>\n",
       "<style scoped>\n",
       "    .dataframe tbody tr th:only-of-type {\n",
       "        vertical-align: middle;\n",
       "    }\n",
       "\n",
       "    .dataframe tbody tr th {\n",
       "        vertical-align: top;\n",
       "    }\n",
       "\n",
       "    .dataframe thead th {\n",
       "        text-align: right;\n",
       "    }\n",
       "</style>\n",
       "<table border=\"1\" class=\"dataframe\">\n",
       "  <thead>\n",
       "    <tr style=\"text-align: right;\">\n",
       "      <th></th>\n",
       "      <th>Title</th>\n",
       "      <th>Author</th>\n",
       "      <th>List Price</th>\n",
       "      <th>Amazon Price</th>\n",
       "      <th>Hard_or_Paper</th>\n",
       "      <th>NumPages</th>\n",
       "      <th>Publisher</th>\n",
       "      <th>Pub year</th>\n",
       "      <th>ISBN-10</th>\n",
       "      <th>Height</th>\n",
       "      <th>Width</th>\n",
       "      <th>Thick</th>\n",
       "      <th>Weight_oz</th>\n",
       "    </tr>\n",
       "  </thead>\n",
       "  <tbody>\n",
       "    <tr>\n",
       "      <th>0</th>\n",
       "      <td>1,001 Facts that Will Scare the S#*t Out of Yo...</td>\n",
       "      <td>Cary McNeal</td>\n",
       "      <td>12.95</td>\n",
       "      <td>5.18</td>\n",
       "      <td>P</td>\n",
       "      <td>304.0</td>\n",
       "      <td>Adams Media</td>\n",
       "      <td>2010.0</td>\n",
       "      <td>1605506249</td>\n",
       "      <td>7.8</td>\n",
       "      <td>5.5</td>\n",
       "      <td>0.8</td>\n",
       "      <td>11.2</td>\n",
       "    </tr>\n",
       "    <tr>\n",
       "      <th>1</th>\n",
       "      <td>21: Bringing Down the House - Movie Tie-In: Th...</td>\n",
       "      <td>Ben Mezrich</td>\n",
       "      <td>15.00</td>\n",
       "      <td>10.20</td>\n",
       "      <td>P</td>\n",
       "      <td>273.0</td>\n",
       "      <td>Free Press</td>\n",
       "      <td>2008.0</td>\n",
       "      <td>1416564195</td>\n",
       "      <td>8.4</td>\n",
       "      <td>5.5</td>\n",
       "      <td>0.7</td>\n",
       "      <td>7.2</td>\n",
       "    </tr>\n",
       "    <tr>\n",
       "      <th>2</th>\n",
       "      <td>100 Best-Loved Poems (Dover Thrift Editions)</td>\n",
       "      <td>Smith</td>\n",
       "      <td>1.50</td>\n",
       "      <td>1.50</td>\n",
       "      <td>P</td>\n",
       "      <td>96.0</td>\n",
       "      <td>Dover Publications</td>\n",
       "      <td>1995.0</td>\n",
       "      <td>486285537</td>\n",
       "      <td>8.3</td>\n",
       "      <td>5.2</td>\n",
       "      <td>0.3</td>\n",
       "      <td>4.0</td>\n",
       "    </tr>\n",
       "    <tr>\n",
       "      <th>3</th>\n",
       "      <td>1421: The Year China Discovered America</td>\n",
       "      <td>Gavin Menzies</td>\n",
       "      <td>15.99</td>\n",
       "      <td>10.87</td>\n",
       "      <td>P</td>\n",
       "      <td>672.0</td>\n",
       "      <td>Harper Perennial</td>\n",
       "      <td>2008.0</td>\n",
       "      <td>61564893</td>\n",
       "      <td>8.8</td>\n",
       "      <td>6.0</td>\n",
       "      <td>1.6</td>\n",
       "      <td>28.8</td>\n",
       "    </tr>\n",
       "    <tr>\n",
       "      <th>4</th>\n",
       "      <td>1493: Uncovering the New World Columbus Created</td>\n",
       "      <td>Charles C. Mann</td>\n",
       "      <td>30.50</td>\n",
       "      <td>16.77</td>\n",
       "      <td>P</td>\n",
       "      <td>720.0</td>\n",
       "      <td>Knopf</td>\n",
       "      <td>2011.0</td>\n",
       "      <td>307265722</td>\n",
       "      <td>8.0</td>\n",
       "      <td>5.2</td>\n",
       "      <td>1.4</td>\n",
       "      <td>22.4</td>\n",
       "    </tr>\n",
       "    <tr>\n",
       "      <th>...</th>\n",
       "      <td>...</td>\n",
       "      <td>...</td>\n",
       "      <td>...</td>\n",
       "      <td>...</td>\n",
       "      <td>...</td>\n",
       "      <td>...</td>\n",
       "      <td>...</td>\n",
       "      <td>...</td>\n",
       "      <td>...</td>\n",
       "      <td>...</td>\n",
       "      <td>...</td>\n",
       "      <td>...</td>\n",
       "      <td>...</td>\n",
       "    </tr>\n",
       "    <tr>\n",
       "      <th>320</th>\n",
       "      <td>Where the Sidewalk Ends</td>\n",
       "      <td>Shel Silverstein</td>\n",
       "      <td>18.99</td>\n",
       "      <td>12.24</td>\n",
       "      <td>H</td>\n",
       "      <td>192.0</td>\n",
       "      <td>HarperCollins</td>\n",
       "      <td>2004.0</td>\n",
       "      <td>60572345</td>\n",
       "      <td>9.3</td>\n",
       "      <td>6.6</td>\n",
       "      <td>1.1</td>\n",
       "      <td>24.0</td>\n",
       "    </tr>\n",
       "    <tr>\n",
       "      <th>321</th>\n",
       "      <td>White Privilege</td>\n",
       "      <td>Paula S. Rothenberg</td>\n",
       "      <td>27.55</td>\n",
       "      <td>27.55</td>\n",
       "      <td>P</td>\n",
       "      <td>160.0</td>\n",
       "      <td>Worth Publishers</td>\n",
       "      <td>2011.0</td>\n",
       "      <td>1429233443</td>\n",
       "      <td>9.1</td>\n",
       "      <td>6.1</td>\n",
       "      <td>0.7</td>\n",
       "      <td>8.0</td>\n",
       "    </tr>\n",
       "    <tr>\n",
       "      <th>322</th>\n",
       "      <td>Why I wore lipstick</td>\n",
       "      <td>Geralyn Lucas</td>\n",
       "      <td>12.95</td>\n",
       "      <td>5.18</td>\n",
       "      <td>P</td>\n",
       "      <td>224.0</td>\n",
       "      <td>St Martin's Griffin</td>\n",
       "      <td>2005.0</td>\n",
       "      <td>031233446X</td>\n",
       "      <td>8.0</td>\n",
       "      <td>5.4</td>\n",
       "      <td>0.7</td>\n",
       "      <td>6.4</td>\n",
       "    </tr>\n",
       "    <tr>\n",
       "      <th>323</th>\n",
       "      <td>Worlds Together, Worlds Apart: A History of th...</td>\n",
       "      <td>Robert Tignor</td>\n",
       "      <td>97.50</td>\n",
       "      <td>97.50</td>\n",
       "      <td>P</td>\n",
       "      <td>480.0</td>\n",
       "      <td>W. W. Norton &amp; Company</td>\n",
       "      <td>2010.0</td>\n",
       "      <td>393934942</td>\n",
       "      <td>10.7</td>\n",
       "      <td>8.9</td>\n",
       "      <td>0.9</td>\n",
       "      <td>14.4</td>\n",
       "    </tr>\n",
       "    <tr>\n",
       "      <th>324</th>\n",
       "      <td>Wuthering Heights</td>\n",
       "      <td>Emily Bronte</td>\n",
       "      <td>16.99</td>\n",
       "      <td>4.95</td>\n",
       "      <td>P</td>\n",
       "      <td>344.0</td>\n",
       "      <td>CreatSpace</td>\n",
       "      <td>2011.0</td>\n",
       "      <td>1463533411</td>\n",
       "      <td>7.8</td>\n",
       "      <td>5.1</td>\n",
       "      <td>1.0</td>\n",
       "      <td>16.0</td>\n",
       "    </tr>\n",
       "  </tbody>\n",
       "</table>\n",
       "<p>325 rows × 13 columns</p>\n",
       "</div>"
      ],
      "text/plain": [
       "                                                 Title               Author  \\\n",
       "0    1,001 Facts that Will Scare the S#*t Out of Yo...          Cary McNeal   \n",
       "1    21: Bringing Down the House - Movie Tie-In: Th...          Ben Mezrich   \n",
       "2         100 Best-Loved Poems (Dover Thrift Editions)                Smith   \n",
       "3              1421: The Year China Discovered America        Gavin Menzies   \n",
       "4      1493: Uncovering the New World Columbus Created      Charles C. Mann   \n",
       "..                                                 ...                  ...   \n",
       "320                            Where the Sidewalk Ends     Shel Silverstein   \n",
       "321                                    White Privilege  Paula S. Rothenberg   \n",
       "322                                Why I wore lipstick        Geralyn Lucas   \n",
       "323  Worlds Together, Worlds Apart: A History of th...        Robert Tignor   \n",
       "324                                  Wuthering Heights         Emily Bronte   \n",
       "\n",
       "     List Price  Amazon Price Hard_or_Paper  NumPages               Publisher  \\\n",
       "0         12.95          5.18             P     304.0             Adams Media   \n",
       "1         15.00         10.20             P     273.0              Free Press   \n",
       "2          1.50          1.50             P      96.0      Dover Publications   \n",
       "3         15.99         10.87             P     672.0        Harper Perennial   \n",
       "4         30.50         16.77             P     720.0                   Knopf   \n",
       "..          ...           ...           ...       ...                     ...   \n",
       "320       18.99         12.24             H     192.0           HarperCollins   \n",
       "321       27.55         27.55             P     160.0        Worth Publishers   \n",
       "322       12.95          5.18             P     224.0     St Martin's Griffin   \n",
       "323       97.50         97.50             P     480.0  W. W. Norton & Company   \n",
       "324       16.99          4.95             P     344.0              CreatSpace   \n",
       "\n",
       "     Pub year     ISBN-10  Height  Width  Thick  Weight_oz  \n",
       "0      2010.0  1605506249     7.8    5.5    0.8       11.2  \n",
       "1      2008.0  1416564195     8.4    5.5    0.7        7.2  \n",
       "2      1995.0   486285537     8.3    5.2    0.3        4.0  \n",
       "3      2008.0    61564893     8.8    6.0    1.6       28.8  \n",
       "4      2011.0   307265722     8.0    5.2    1.4       22.4  \n",
       "..        ...         ...     ...    ...    ...        ...  \n",
       "320    2004.0    60572345     9.3    6.6    1.1       24.0  \n",
       "321    2011.0  1429233443     9.1    6.1    0.7        8.0  \n",
       "322    2005.0  031233446X     8.0    5.4    0.7        6.4  \n",
       "323    2010.0   393934942    10.7    8.9    0.9       14.4  \n",
       "324    2011.0  1463533411     7.8    5.1    1.0       16.0  \n",
       "\n",
       "[325 rows x 13 columns]"
      ]
     },
     "execution_count": 1,
     "metadata": {},
     "output_type": "execute_result"
    }
   ],
   "source": [
    "import pandas as pd\n",
    "amazonbooks = pd.read_csv(\"amazonbooks.csv\", encoding=\"ISO-8859-1\")\n",
    "amazonbooks"
   ]
  },
  {
   "cell_type": "markdown",
   "id": "f943c115",
   "metadata": {},
   "source": [
    "Previously, we predicted/modeled a continuous real-valued outcome:\n",
    "\n",
    "```python\n",
    "import statsmodels.formula.api as smf\n",
    "fit_model = smf.ols(formula='Q(\"Amazon Price\") ~ Q(\"List Price\") + Height + Width + C(Hard_or_Paper)', \n",
    "                    data=amazonbooks).fit()\n",
    "```"
   ]
  },
  {
   "cell_type": "code",
   "execution_count": 5,
   "id": "9a18eeb6",
   "metadata": {},
   "outputs": [
    {
     "data": {
      "text/html": [
       "<div>\n",
       "<style scoped>\n",
       "    .dataframe tbody tr th:only-of-type {\n",
       "        vertical-align: middle;\n",
       "    }\n",
       "\n",
       "    .dataframe tbody tr th {\n",
       "        vertical-align: top;\n",
       "    }\n",
       "\n",
       "    .dataframe thead th {\n",
       "        text-align: right;\n",
       "    }\n",
       "</style>\n",
       "<table border=\"1\" class=\"dataframe\">\n",
       "  <thead>\n",
       "    <tr style=\"text-align: right;\">\n",
       "      <th></th>\n",
       "      <th>H</th>\n",
       "      <th>P</th>\n",
       "    </tr>\n",
       "  </thead>\n",
       "  <tbody>\n",
       "    <tr>\n",
       "      <th>0</th>\n",
       "      <td>0</td>\n",
       "      <td>1</td>\n",
       "    </tr>\n",
       "    <tr>\n",
       "      <th>1</th>\n",
       "      <td>0</td>\n",
       "      <td>1</td>\n",
       "    </tr>\n",
       "    <tr>\n",
       "      <th>2</th>\n",
       "      <td>0</td>\n",
       "      <td>1</td>\n",
       "    </tr>\n",
       "    <tr>\n",
       "      <th>3</th>\n",
       "      <td>0</td>\n",
       "      <td>1</td>\n",
       "    </tr>\n",
       "    <tr>\n",
       "      <th>4</th>\n",
       "      <td>0</td>\n",
       "      <td>1</td>\n",
       "    </tr>\n",
       "    <tr>\n",
       "      <th>...</th>\n",
       "      <td>...</td>\n",
       "      <td>...</td>\n",
       "    </tr>\n",
       "    <tr>\n",
       "      <th>320</th>\n",
       "      <td>1</td>\n",
       "      <td>0</td>\n",
       "    </tr>\n",
       "    <tr>\n",
       "      <th>321</th>\n",
       "      <td>0</td>\n",
       "      <td>1</td>\n",
       "    </tr>\n",
       "    <tr>\n",
       "      <th>322</th>\n",
       "      <td>0</td>\n",
       "      <td>1</td>\n",
       "    </tr>\n",
       "    <tr>\n",
       "      <th>323</th>\n",
       "      <td>0</td>\n",
       "      <td>1</td>\n",
       "    </tr>\n",
       "    <tr>\n",
       "      <th>324</th>\n",
       "      <td>0</td>\n",
       "      <td>1</td>\n",
       "    </tr>\n",
       "  </tbody>\n",
       "</table>\n",
       "<p>325 rows × 2 columns</p>\n",
       "</div>"
      ],
      "text/plain": [
       "     H  P\n",
       "0    0  1\n",
       "1    0  1\n",
       "2    0  1\n",
       "3    0  1\n",
       "4    0  1\n",
       "..  .. ..\n",
       "320  1  0\n",
       "321  0  1\n",
       "322  0  1\n",
       "323  0  1\n",
       "324  0  1\n",
       "\n",
       "[325 rows x 2 columns]"
      ]
     },
     "execution_count": 5,
     "metadata": {},
     "output_type": "execute_result"
    }
   ],
   "source": [
    "pd.get_dummies(amazonbooks[\"Hard_or_Paper\"])"
   ]
  },
  {
   "cell_type": "code",
   "execution_count": 7,
   "id": "c22d7a8c",
   "metadata": {},
   "outputs": [],
   "source": [
    "amazonbooks['Hardback'] = pd.get_dummies(amazonbooks[\"Hard_or_Paper\"])['H']"
   ]
  },
  {
   "cell_type": "code",
   "execution_count": 17,
   "id": "5f4d5740",
   "metadata": {},
   "outputs": [
    {
     "data": {
      "text/plain": [
       "(-0.6949418720658613,\n",
       " array([ 0.84629319, -0.33262274,  0.23157493, -2.03048415]))"
      ]
     },
     "execution_count": 17,
     "metadata": {},
     "output_type": "execute_result"
    }
   ],
   "source": [
    "# scikit-learn: THE ML (machine learning) page \n",
    "from sklearn.linear_model import LinearRegression\n",
    "\n",
    "\n",
    "# X features (ML) [covariates in stats]; y is the outcome\n",
    "# X = amazonbooks[[\"List Price\",\"Height\",\"Width\",\"Hard_or_Paper\"]] # fixed with pd.get_dumies up above\n",
    "amazonbooks_selectfeatures_nonans = amazonbooks[['Amazon Price',\"List Price\",\"Height\",\"Width\",\"Hardback\"]].dropna()\n",
    "X = amazonbooks_selectfeatures_nonans[[\"List Price\",\"Height\",\"Width\",\"Hardback\"]] # now X is fully numeric\n",
    "# so we won't get this error: `ValueError: could not convert string to float: 'P'`\n",
    "y = amazonbooks_selectfeatures_nonans['Amazon Price']\n",
    "reg = LinearRegression().fit(X, y)\n",
    "reg.intercept_, reg.coef_ # all sklearn gives is y-hats\n",
    "# sklearn does not give any statistical analysis... because\n",
    "# sklearn is a machine learning library only concerned with prediction...\n",
    "# not statistical analysis..."
   ]
  },
  {
   "cell_type": "code",
   "execution_count": 21,
   "id": "175020f2",
   "metadata": {
    "scrolled": true
   },
   "outputs": [
    {
     "data": {
      "text/plain": [
       "array([  8.94375967,  10.47908707,  -0.98208118,  11.29965569,\n",
       "        23.6602081 ,  20.27334147,  12.83332752,  10.49929663,\n",
       "        25.20689433,  20.95227089,  12.31187939,  12.10093998,\n",
       "        13.05711105,  14.62676683,  31.58273634,  11.99331105,\n",
       "         3.08328397,  10.58897867,   4.37314191,   9.37973468,\n",
       "         8.96586477,   7.80564373,   9.6963705 ,  10.5336113 ,\n",
       "        15.55616094,  10.50940141,  13.08154325,   2.56770907,\n",
       "        10.54371608,  10.50034902,   2.94916876,   9.33931556,\n",
       "        14.82044461,   9.70942321,  22.69981439,   7.92584871,\n",
       "         8.78637352,   9.63089834,  10.57592596,   0.56413731,\n",
       "         8.89639229,   9.69801234,  16.75806755,  18.46134816,\n",
       "        10.52350652,   3.64301639,   3.06197692,   9.65405584,\n",
       "        18.61527835,  16.01892663,  11.30222276,  11.26766102,\n",
       "        11.05859681,  10.51950619,   5.32634046,   4.54700108,\n",
       "        10.08810526,  13.1193953 ,  95.25009017,  38.52549701,\n",
       "        11.34664221,  11.34664221,  13.13501508,  71.57703839,\n",
       "        10.55276846,  11.11501658,  10.56876911,   7.55327111,\n",
       "        18.59506879,   3.96468988,  10.49929663,  11.35864253,\n",
       "        43.34831578,  10.90139184,   3.87500784,   8.0138889 ,\n",
       "        13.52720519,   9.70037082,   9.99673595,  20.97542839,\n",
       "         4.77772079,   4.48135335,  11.43691371,  18.44829545,\n",
       "        19.32490298,  12.10093998,   3.94153238,   8.62481048,\n",
       "        12.96154687,  11.25590778,   3.93016661,  11.28917005,\n",
       "         5.45938955,  11.39906165,  11.1104268 ,   3.34091031,\n",
       "        10.24813297,   9.66310822,  21.31185658, 116.1169032 ,\n",
       "        19.04749304,  10.4237197 ,   3.67653168,  17.50773044,\n",
       "        17.5873077 ,   6.40193218,  12.24994462,   5.75647362,\n",
       "        10.54961194,  11.34664221,  13.56383324,   9.6963705 ,\n",
       "        14.6600291 ,  10.44287686,  10.57992628,  11.3929572 ,\n",
       "        10.53420075,   9.66310822,   8.79765787,  16.88581024,\n",
       "        10.59908345,  10.54266368,  17.94414033,  16.88837731,\n",
       "         6.33725807,  18.57123977,  10.60514266,   8.54544181,\n",
       "        10.60918823,  18.92370492,  10.98786335,  11.31232754,\n",
       "        10.53420075,  12.82322274,   4.74445852,  10.98912433,\n",
       "         9.71952799,   8.92919096,  11.36874731,   7.35570514,\n",
       "         8.0500991 ,  10.51045381,  10.54266368,  10.30198566,\n",
       "        10.54266368,   3.77337057,   9.67910886,  10.58603074,\n",
       "        12.75375026,  11.45548142,  10.56582118,  11.43527186,\n",
       "        10.54561161,  10.58603074,  11.31232754,   5.38932762,\n",
       "         3.38323389,  11.34558982,  10.60918823,   9.77594775,\n",
       "        28.1150384 ,  10.38683796,   2.47928801,  79.45660983,\n",
       "        28.11377807,  12.59935845,  27.67419861,  10.51045381,\n",
       "         8.8732348 ,  11.34959014,  17.64372747,   3.15165896,\n",
       "        10.51399119,  11.34558982,   6.07115988,  11.48263924,\n",
       "        10.4676762 ,   9.62984595,   9.63384627,  10.65255529,\n",
       "        11.42516708,  59.09188412,  23.50525557,  18.43760122,\n",
       "         9.76220979,  10.56582118,  15.97135066,   3.88621011,\n",
       "        11.33548504,  11.39906165,  18.54159696,  18.38597982,\n",
       "         4.58993887,  13.04217652,  28.01651323,   3.89438237,\n",
       "         6.13768443,   3.96468988,  10.77255167,   9.39827763,\n",
       "         6.26062875,   9.52160281,  10.5557164 ,  18.09572576,\n",
       "        11.41211436,  10.91903433,  11.32538026,   7.98921607,\n",
       "         4.26978006,   7.96440301,   0.59739958,   9.59047922,\n",
       "        16.57534661,   8.85171916,  11.21418918,   5.55563899,\n",
       "         3.3640678 ,   2.75675197,  10.52245412,  12.32619309,\n",
       "         8.90354914,   9.12371321,  57.60540807,  38.50233951,\n",
       "         4.2301446 ,  23.11917802,  10.44287686,   9.73973755,\n",
       "        12.31646917,  14.36549839,   2.76294529,   6.40546956,\n",
       "        10.33003733,  10.46708675,  11.74910937,   7.21496309,\n",
       "        12.2523031 ,  19.36957612,  16.69764746,  10.57592596,\n",
       "        10.57592596,   8.62501907,  12.27146026,   9.50795403,\n",
       "        11.24285507,   7.16759571,   5.45644162,  10.87923273,\n",
       "        11.38895687,  10.55276846,   8.12967636,  13.12950008,\n",
       "        16.53783033,  11.41316676,  18.86644202,  11.37885209,\n",
       "         5.00890726,   9.667698  ,  13.02384877,   9.72963277,\n",
       "        10.5557164 ,  12.14956835,   6.30568274,  10.50034902,\n",
       "         7.17054364,  12.24114592,  11.07465147,   6.26062875,\n",
       "        16.82059177,   9.97257346,  11.05859681,  23.14022262,\n",
       "        12.2600494 ,  27.18095937,  11.42327154,   4.46733099,\n",
       "         1.36880109,  -0.52567231,   3.97246755,  14.07204271,\n",
       "        14.53708479,  12.85943294,  10.72556383,  14.42317914,\n",
       "        10.49024424,  11.08638918,  11.32243232,  10.50034902,\n",
       "        16.99111206,   9.60963639,  10.55676879,  17.66393703,\n",
       "        15.98772885,  12.80006524,   8.93975935,   9.73422255,\n",
       "        11.31691732,   8.76755344,   7.16208071,  18.69545168,\n",
       "        19.3796809 ,  25.34710027,  11.37990449,   3.89690434,\n",
       "        10.5336113 ,  10.45698197,  10.47003468,  16.9709025 ,\n",
       "        18.45675838,  10.54266368,  10.54266368,  11.37990449,\n",
       "        10.48013946,  19.73778823,  11.7806847 ,  21.00617562,\n",
       "         8.85407763,  80.32059754,  12.27015418])"
      ]
     },
     "execution_count": 21,
     "metadata": {},
     "output_type": "execute_result"
    }
   ],
   "source": [
    "# all sklearn does is fit a model so that I can make predicitons with it\n",
    "reg.predict(X)"
   ]
  },
  {
   "cell_type": "code",
   "execution_count": 18,
   "id": "e30e8a26",
   "metadata": {},
   "outputs": [
    {
     "data": {
      "text/plain": [
       "Intercept                      -0.694942\n",
       "Hard_or_Paper == \"H\"[T.True]   -2.030484\n",
       "Q(\"List Price\")                 0.846293\n",
       "Height                         -0.332623\n",
       "Width                           0.231575\n",
       "dtype: float64"
      ]
     },
     "execution_count": 18,
     "metadata": {},
     "output_type": "execute_result"
    }
   ],
   "source": [
    "import statsmodels.formula.api as smf\n",
    "fit_model = smf.ols(formula='Q(\"Amazon Price\") ~ Q(\"List Price\") + Height + Width + (Hard_or_Paper==\"H\")', \n",
    "                    data=amazonbooks).fit()\n",
    "fit_model.params"
   ]
  },
  {
   "cell_type": "code",
   "execution_count": 19,
   "id": "eefdadef",
   "metadata": {},
   "outputs": [
    {
     "data": {
      "text/html": [
       "<table class=\"simpletable\">\n",
       "<caption>OLS Regression Results</caption>\n",
       "<tr>\n",
       "  <th>Dep. Variable:</th>    <td>Q(\"Amazon Price\")</td> <th>  R-squared:         </th> <td>   0.911</td> \n",
       "</tr>\n",
       "<tr>\n",
       "  <th>Model:</th>                   <td>OLS</td>        <th>  Adj. R-squared:    </th> <td>   0.909</td> \n",
       "</tr>\n",
       "<tr>\n",
       "  <th>Method:</th>             <td>Least Squares</td>   <th>  F-statistic:       </th> <td>   799.5</td> \n",
       "</tr>\n",
       "<tr>\n",
       "  <th>Date:</th>             <td>Tue, 09 May 2023</td>  <th>  Prob (F-statistic):</th> <td>3.32e-163</td>\n",
       "</tr>\n",
       "<tr>\n",
       "  <th>Time:</th>                 <td>15:00:25</td>      <th>  Log-Likelihood:    </th> <td> -873.34</td> \n",
       "</tr>\n",
       "<tr>\n",
       "  <th>No. Observations:</th>      <td>   319</td>       <th>  AIC:               </th> <td>   1757.</td> \n",
       "</tr>\n",
       "<tr>\n",
       "  <th>Df Residuals:</th>          <td>   314</td>       <th>  BIC:               </th> <td>   1776.</td> \n",
       "</tr>\n",
       "<tr>\n",
       "  <th>Df Model:</th>              <td>     4</td>       <th>                     </th>     <td> </td>    \n",
       "</tr>\n",
       "<tr>\n",
       "  <th>Covariance Type:</th>      <td>nonrobust</td>     <th>                     </th>     <td> </td>    \n",
       "</tr>\n",
       "</table>\n",
       "<table class=\"simpletable\">\n",
       "<tr>\n",
       "                <td></td>                  <th>coef</th>     <th>std err</th>      <th>t</th>      <th>P>|t|</th>  <th>[0.025</th>    <th>0.975]</th>  \n",
       "</tr>\n",
       "<tr>\n",
       "  <th>Intercept</th>                    <td>   -0.6949</td> <td>    2.232</td> <td>   -0.311</td> <td> 0.756</td> <td>   -5.087</td> <td>    3.697</td>\n",
       "</tr>\n",
       "<tr>\n",
       "  <th>Hard_or_Paper == \"H\"[T.True]</th> <td>   -2.0305</td> <td>    0.498</td> <td>   -4.081</td> <td> 0.000</td> <td>   -3.009</td> <td>   -1.051</td>\n",
       "</tr>\n",
       "<tr>\n",
       "  <th>Q(\"List Price\")</th>              <td>    0.8463</td> <td>    0.018</td> <td>   46.533</td> <td> 0.000</td> <td>    0.811</td> <td>    0.882</td>\n",
       "</tr>\n",
       "<tr>\n",
       "  <th>Height</th>                       <td>   -0.3326</td> <td>    0.289</td> <td>   -1.151</td> <td> 0.251</td> <td>   -0.901</td> <td>    0.236</td>\n",
       "</tr>\n",
       "<tr>\n",
       "  <th>Width</th>                        <td>    0.2316</td> <td>    0.306</td> <td>    0.756</td> <td> 0.450</td> <td>   -0.371</td> <td>    0.834</td>\n",
       "</tr>\n",
       "</table>\n",
       "<table class=\"simpletable\">\n",
       "<tr>\n",
       "  <th>Omnibus:</th>       <td>100.776</td> <th>  Durbin-Watson:     </th> <td>   1.968</td>\n",
       "</tr>\n",
       "<tr>\n",
       "  <th>Prob(Omnibus):</th> <td> 0.000</td>  <th>  Jarque-Bera (JB):  </th> <td>1617.753</td>\n",
       "</tr>\n",
       "<tr>\n",
       "  <th>Skew:</th>          <td> 0.818</td>  <th>  Prob(JB):          </th> <td>    0.00</td>\n",
       "</tr>\n",
       "<tr>\n",
       "  <th>Kurtosis:</th>      <td>13.910</td>  <th>  Cond. No.          </th> <td>    265.</td>\n",
       "</tr>\n",
       "</table><br/><br/>Notes:<br/>[1] Standard Errors assume that the covariance matrix of the errors is correctly specified."
      ],
      "text/plain": [
       "<class 'statsmodels.iolib.summary.Summary'>\n",
       "\"\"\"\n",
       "                            OLS Regression Results                            \n",
       "==============================================================================\n",
       "Dep. Variable:      Q(\"Amazon Price\")   R-squared:                       0.911\n",
       "Model:                            OLS   Adj. R-squared:                  0.909\n",
       "Method:                 Least Squares   F-statistic:                     799.5\n",
       "Date:                Tue, 09 May 2023   Prob (F-statistic):          3.32e-163\n",
       "Time:                        15:00:25   Log-Likelihood:                -873.34\n",
       "No. Observations:                 319   AIC:                             1757.\n",
       "Df Residuals:                     314   BIC:                             1776.\n",
       "Df Model:                           4                                         \n",
       "Covariance Type:            nonrobust                                         \n",
       "================================================================================================\n",
       "                                   coef    std err          t      P>|t|      [0.025      0.975]\n",
       "------------------------------------------------------------------------------------------------\n",
       "Intercept                       -0.6949      2.232     -0.311      0.756      -5.087       3.697\n",
       "Hard_or_Paper == \"H\"[T.True]    -2.0305      0.498     -4.081      0.000      -3.009      -1.051\n",
       "Q(\"List Price\")                  0.8463      0.018     46.533      0.000       0.811       0.882\n",
       "Height                          -0.3326      0.289     -1.151      0.251      -0.901       0.236\n",
       "Width                            0.2316      0.306      0.756      0.450      -0.371       0.834\n",
       "==============================================================================\n",
       "Omnibus:                      100.776   Durbin-Watson:                   1.968\n",
       "Prob(Omnibus):                  0.000   Jarque-Bera (JB):             1617.753\n",
       "Skew:                           0.818   Prob(JB):                         0.00\n",
       "Kurtosis:                      13.910   Cond. No.                         265.\n",
       "==============================================================================\n",
       "\n",
       "Notes:\n",
       "[1] Standard Errors assume that the covariance matrix of the errors is correctly specified.\n",
       "\"\"\""
      ]
     },
     "execution_count": 19,
     "metadata": {},
     "output_type": "execute_result"
    }
   ],
   "source": [
    "# sklearn doesn't do any of this statistical analysis\n",
    "fit_model.summary()\n",
    "# because sklearn is machine learning (predictive model)\n",
    "# it's not stats analysis -- sklearn doesn't care about stats analysis"
   ]
  },
  {
   "cell_type": "code",
   "execution_count": 29,
   "id": "123d7108",
   "metadata": {},
   "outputs": [
    {
     "data": {
      "text/html": [
       "<style>#sk-container-id-2 {color: black;background-color: white;}#sk-container-id-2 pre{padding: 0;}#sk-container-id-2 div.sk-toggleable {background-color: white;}#sk-container-id-2 label.sk-toggleable__label {cursor: pointer;display: block;width: 100%;margin-bottom: 0;padding: 0.3em;box-sizing: border-box;text-align: center;}#sk-container-id-2 label.sk-toggleable__label-arrow:before {content: \"▸\";float: left;margin-right: 0.25em;color: #696969;}#sk-container-id-2 label.sk-toggleable__label-arrow:hover:before {color: black;}#sk-container-id-2 div.sk-estimator:hover label.sk-toggleable__label-arrow:before {color: black;}#sk-container-id-2 div.sk-toggleable__content {max-height: 0;max-width: 0;overflow: hidden;text-align: left;background-color: #f0f8ff;}#sk-container-id-2 div.sk-toggleable__content pre {margin: 0.2em;color: black;border-radius: 0.25em;background-color: #f0f8ff;}#sk-container-id-2 input.sk-toggleable__control:checked~div.sk-toggleable__content {max-height: 200px;max-width: 100%;overflow: auto;}#sk-container-id-2 input.sk-toggleable__control:checked~label.sk-toggleable__label-arrow:before {content: \"▾\";}#sk-container-id-2 div.sk-estimator input.sk-toggleable__control:checked~label.sk-toggleable__label {background-color: #d4ebff;}#sk-container-id-2 div.sk-label input.sk-toggleable__control:checked~label.sk-toggleable__label {background-color: #d4ebff;}#sk-container-id-2 input.sk-hidden--visually {border: 0;clip: rect(1px 1px 1px 1px);clip: rect(1px, 1px, 1px, 1px);height: 1px;margin: -1px;overflow: hidden;padding: 0;position: absolute;width: 1px;}#sk-container-id-2 div.sk-estimator {font-family: monospace;background-color: #f0f8ff;border: 1px dotted black;border-radius: 0.25em;box-sizing: border-box;margin-bottom: 0.5em;}#sk-container-id-2 div.sk-estimator:hover {background-color: #d4ebff;}#sk-container-id-2 div.sk-parallel-item::after {content: \"\";width: 100%;border-bottom: 1px solid gray;flex-grow: 1;}#sk-container-id-2 div.sk-label:hover label.sk-toggleable__label {background-color: #d4ebff;}#sk-container-id-2 div.sk-serial::before {content: \"\";position: absolute;border-left: 1px solid gray;box-sizing: border-box;top: 0;bottom: 0;left: 50%;z-index: 0;}#sk-container-id-2 div.sk-serial {display: flex;flex-direction: column;align-items: center;background-color: white;padding-right: 0.2em;padding-left: 0.2em;position: relative;}#sk-container-id-2 div.sk-item {position: relative;z-index: 1;}#sk-container-id-2 div.sk-parallel {display: flex;align-items: stretch;justify-content: center;background-color: white;position: relative;}#sk-container-id-2 div.sk-item::before, #sk-container-id-2 div.sk-parallel-item::before {content: \"\";position: absolute;border-left: 1px solid gray;box-sizing: border-box;top: 0;bottom: 0;left: 50%;z-index: -1;}#sk-container-id-2 div.sk-parallel-item {display: flex;flex-direction: column;z-index: 1;position: relative;background-color: white;}#sk-container-id-2 div.sk-parallel-item:first-child::after {align-self: flex-end;width: 50%;}#sk-container-id-2 div.sk-parallel-item:last-child::after {align-self: flex-start;width: 50%;}#sk-container-id-2 div.sk-parallel-item:only-child::after {width: 0;}#sk-container-id-2 div.sk-dashed-wrapped {border: 1px dashed gray;margin: 0 0.4em 0.5em 0.4em;box-sizing: border-box;padding-bottom: 0.4em;background-color: white;}#sk-container-id-2 div.sk-label label {font-family: monospace;font-weight: bold;display: inline-block;line-height: 1.2em;}#sk-container-id-2 div.sk-label-container {text-align: center;}#sk-container-id-2 div.sk-container {/* jupyter's `normalize.less` sets `[hidden] { display: none; }` but bootstrap.min.css set `[hidden] { display: none !important; }` so we also need the `!important` here to be able to override the default hidden behavior on the sphinx rendered scikit-learn.org. See: https://github.com/scikit-learn/scikit-learn/issues/21755 */display: inline-block !important;position: relative;}#sk-container-id-2 div.sk-text-repr-fallback {display: none;}</style><div id=\"sk-container-id-2\" class=\"sk-top-container\"><div class=\"sk-text-repr-fallback\"><pre>DecisionTreeClassifier()</pre><b>In a Jupyter environment, please rerun this cell to show the HTML representation or trust the notebook. <br />On GitHub, the HTML representation is unable to render, please try loading this page with nbviewer.org.</b></div><div class=\"sk-container\" hidden><div class=\"sk-item\"><div class=\"sk-estimator sk-toggleable\"><input class=\"sk-toggleable__control sk-hidden--visually\" id=\"sk-estimator-id-2\" type=\"checkbox\" checked><label for=\"sk-estimator-id-2\" class=\"sk-toggleable__label sk-toggleable__label-arrow\">DecisionTreeClassifier</label><div class=\"sk-toggleable__content\"><pre>DecisionTreeClassifier()</pre></div></div></div></div></div>"
      ],
      "text/plain": [
       "DecisionTreeClassifier()"
      ]
     },
     "execution_count": 29,
     "metadata": {},
     "output_type": "execute_result"
    }
   ],
   "source": [
    "# Now we'll do Classification (rather than regression); so, our formula should now look instead like\n",
    "from sklearn import tree\n",
    "clf = tree.DecisionTreeClassifier()\n",
    "# formula = \"Hard_or_Paper ~ Height + Width\"\n",
    "\n",
    "amazonbooks_selectfeatures_nonans = \\\n",
    "  amazonbooks[[\"Hard_or_Paper\",'Amazon Price',\"List Price\",\n",
    "               \"Height\",\"Width\",\"Thick\",\"Weight_oz\",\"NumPages\",\"Pub year\"]].dropna()\n",
    "#X = amazonbooks_selectfeatures_nonans # now X is fully numeric\n",
    "# so we won't get this error: `ValueError: could not convert string to float: 'P'`\n",
    "#y = amazonbooks_selectfeatures_nonans['Amazon Price']\n",
    "\n",
    "X = amazonbooks_selectfeatures_nonans.iloc[:,1:]\n",
    "Y = amazonbooks_selectfeatures_nonans.Hard_or_Paper\n",
    "clf = clf.fit(X, Y)\n",
    "clf"
   ]
  },
  {
   "cell_type": "code",
   "execution_count": 31,
   "id": "3fb0360d",
   "metadata": {},
   "outputs": [
    {
     "data": {
      "image/png": "[encoded data removed]",
      "text/plain": [
       "<Figure size 640x480 with 1 Axes>"
      ]
     },
     "metadata": {},
     "output_type": "display_data"
    }
   ],
   "source": [
    "_ = tree.plot_tree(clf)"
   ]
  },
  {
   "cell_type": "code",
   "execution_count": 33,
   "id": "3d3b44fc",
   "metadata": {},
   "outputs": [
    {
     "data": {
      "image/png": "[encoded data removed]",
      "text/plain": [
       "<Figure size 640x480 with 1 Axes>"
      ]
     },
     "metadata": {},
     "output_type": "display_data"
    }
   ],
   "source": [
    "X = amazonbooks_selectfeatures_nonans[['Amazon Price',\"Weight_oz\"]]\n",
    "Y = amazonbooks_selectfeatures_nonans.Hard_or_Paper\n",
    "clf = clf.fit(X, Y)\n",
    "_ = tree.plot_tree(clf)"
   ]
  },
  {
   "cell_type": "code",
   "execution_count": 42,
   "id": "6025a4f6",
   "metadata": {},
   "outputs": [
    {
     "data": {
      "image/png": "[encoded data removed]",
      "text/plain": [
       "<Figure size 640x480 with 1 Axes>"
      ]
     },
     "metadata": {},
     "output_type": "display_data"
    }
   ],
   "source": [
    "# I can control \"model complexity\" of the decision tree\n",
    "# based on \"hyperparameters\" / \"tuning parameters\"\n",
    "# such `max_depth`\n",
    "clf = tree.DecisionTreeClassifier(max_depth=2)\n",
    "clf = clf.fit(X, Y)\n",
    "_ = tree.plot_tree(clf, proportion=True,\n",
    "                   feature_names=['Amazon Price',\"Weight_oz\"], class_names=['H','P'])\n",
    "# x[0]: 'Amazon Price'\n",
    "# x[1]: \"Weight_oz\"\n",
    "\n",
    "# Class 0: H\n",
    "# Class 1: P"
   ]
  },
  {
   "cell_type": "code",
   "execution_count": 43,
   "id": "ebed1ac8",
   "metadata": {},
   "outputs": [
    {
     "data": {
      "image/png": "[encoded data removed]",
      "text/plain": [
       "<Figure size 640x480 with 1 Axes>"
      ]
     },
     "metadata": {},
     "output_type": "display_data"
    }
   ],
   "source": [
    "_ = tree.plot_tree(clf, feature_names=['Amazon Price',\"Weight_oz\"], class_names=['H','P'])"
   ]
  },
  {
   "cell_type": "code",
   "execution_count": 47,
   "id": "b348eb49",
   "metadata": {},
   "outputs": [],
   "source": [
    "# The way we determine how good a fitted machine learning ML model is\n",
    "# is by fitting the data with training data\n",
    "# and seeing how good the model prediction is no new testing data (not used to fit the mode)\n",
    "\n",
    "from sklearn.model_selection import train_test_split\n",
    "X_train, X_test, Y_train, Y_test = train_test_split(X, Y, test_size=0.2)\n",
    "\n",
    "# powerful modularity/templating in sklearn\n",
    "clf = tree.DecisionTreeClassifier(max_depth=2)# <- we chose this... \n",
    "                                              # instead of any other model we might choose, like SVC(...)#\n",
    "clf = clf.fit(X_train, Y_train)\n",
    "# I only fit the model with 80% of the data"
   ]
  },
  {
   "cell_type": "code",
   "execution_count": 48,
   "id": "5f7bc3cd",
   "metadata": {},
   "outputs": [
    {
     "data": {
      "text/plain": [
       "array(['P', 'H', 'P', 'P', 'P', 'H', 'P', 'P', 'P', 'P', 'P', 'H', 'P',\n",
       "       'P', 'P', 'P', 'P', 'P', 'H', 'P', 'P', 'P', 'P', 'P', 'P', 'P',\n",
       "       'P', 'H', 'P', 'P', 'P', 'P', 'P', 'H', 'H', 'H', 'P', 'P', 'H',\n",
       "       'P', 'P', 'P', 'P', 'H', 'P', 'P', 'H', 'P', 'P', 'P', 'P', 'P',\n",
       "       'P', 'P', 'P', 'P', 'P', 'P', 'P', 'P', 'P', 'P', 'P'],\n",
       "      dtype=object)"
      ]
     },
     "execution_count": 48,
     "metadata": {},
     "output_type": "execute_result"
    }
   ],
   "source": [
    "clf.predict(X_test)"
   ]
  },
  {
   "cell_type": "code",
   "execution_count": 49,
   "id": "1e7cd937",
   "metadata": {},
   "outputs": [
    {
     "data": {
      "text/plain": [
       "1      P\n",
       "28     P\n",
       "267    P\n",
       "271    P\n",
       "85     P\n",
       "      ..\n",
       "124    H\n",
       "65     H\n",
       "59     P\n",
       "187    H\n",
       "75     P\n",
       "Name: Hard_or_Paper, Length: 63, dtype: object"
      ]
     },
     "execution_count": 49,
     "metadata": {},
     "output_type": "execute_result"
    }
   ],
   "source": [
    "Y_test"
   ]
  },
  {
   "cell_type": "code",
   "execution_count": 54,
   "id": "e8eb5945",
   "metadata": {},
   "outputs": [
    {
     "data": {
      "text/plain": [
       "<sklearn.metrics._plot.confusion_matrix.ConfusionMatrixDisplay at 0x7fd5746a0130>"
      ]
     },
     "execution_count": 54,
     "metadata": {},
     "output_type": "execute_result"
    },
    {
     "data": {
      "image/png": "[encoded data removed]",
      "text/plain": [
       "<Figure size 640x480 with 2 Axes>"
      ]
     },
     "metadata": {},
     "output_type": "display_data"
    }
   ],
   "source": [
    "# A confusion matrix is a way to evaluate classification predictions\n",
    "from sklearn.metrics import confusion_matrix, ConfusionMatrixDisplay\n",
    "cm_disp = ConfusionMatrixDisplay(confusion_matrix(Y_test, clf.predict(X_test), labels=['H','P']),\n",
    "                                 display_labels=['H','P'])\n",
    "cm_disp.plot()\n",
    "#plt.show()"
   ]
  },
  {
   "cell_type": "markdown",
   "id": "4cb67842",
   "metadata": {},
   "source": [
    "- note the **class imbalance**: there are more P than H... \n",
    "    - and then we are inclined to predict more P than H..."
   ]
  },
  {
   "cell_type": "markdown",
   "id": "ef52033c",
   "metadata": {},
   "source": [
    "# Confusion Matrices are often presented in terms of FP/FN(TP/TN)\n",
    "\n",
    "|         |Pred H(-) |Pred P(+) |\n",
    "|---------|----------|----------|\n",
    "|True H(-)|TruNeg(TN)|FalsePositive(FP)|       \n",
    "|True P(+)|FalsePositive(FN)|TuePos(TP)|\n",
    "\n",
    "- **Sensitivity** [proportion of correct predictions in the positive class] : TP/(TP+FN), e.g., up above our sensitivity is 37/40=92.5% sensitivity\n",
    "- **Specificity** [proportion of correct predictions in the negative class]: TN/(TN+FP), e.g., up above our specificity is 8/23=34.8% specificity\n",
    "- **Accuracy** [overall proportion of correct predictions]: (TP+TN)/(TP+TN+FP+FN)[=N], e.g., up above our accurac is 71.4%\n",
    "\n",
    "Note that these are \"out of sample metrics\" -- this is performance on test data -- not training used to fit the model (which would over optimistically estimate these metric scores)"
   ]
  },
  {
   "cell_type": "code",
   "execution_count": 57,
   "id": "ca4cd24c",
   "metadata": {},
   "outputs": [
    {
     "data": {
      "text/plain": [
       "(0.925, 0.34782608695652173, 0.7142857142857143)"
      ]
     },
     "execution_count": 57,
     "metadata": {},
     "output_type": "execute_result"
    }
   ],
   "source": [
    "37/40, 8/23, (8+37)/(8+37+3+15)"
   ]
  },
  {
   "cell_type": "code",
   "execution_count": 58,
   "id": "f23060a3",
   "metadata": {},
   "outputs": [
    {
     "data": {
      "text/plain": [
       "<sklearn.metrics._plot.confusion_matrix.ConfusionMatrixDisplay at 0x7fd574674280>"
      ]
     },
     "execution_count": 58,
     "metadata": {},
     "output_type": "execute_result"
    },
    {
     "data": {
      "image/png": "[encoded data removed]",
      "text/plain": [
       "<Figure size 640x480 with 2 Axes>"
      ]
     },
     "metadata": {},
     "output_type": "display_data"
    }
   ],
   "source": [
    "cm_disp = ConfusionMatrixDisplay(confusion_matrix(Y_train, clf.predict(X_train), labels=['H','P']),\n",
    "                                 display_labels=['H','P'])\n",
    "cm_disp.plot()\n"
   ]
  },
  {
   "cell_type": "markdown",
   "id": "2c95216a",
   "metadata": {},
   "source": [
    "- Sensitivity: 177/(177+16)=91.7%\n",
    "- Specificity: 33/55=60%  \n",
    "- Accuracy: 210/(210+16+22)=84.6%"
   ]
  },
  {
   "cell_type": "code",
   "execution_count": 61,
   "id": "34b2497a",
   "metadata": {},
   "outputs": [
    {
     "data": {
      "text/plain": [
       "(0.917098445595855, 0.6, 0.8467741935483871)"
      ]
     },
     "execution_count": 61,
     "metadata": {},
     "output_type": "execute_result"
    }
   ],
   "source": [
    "177/(177+16), 33/55, 210/(210+16+22)"
   ]
  },
  {
   "cell_type": "code",
   "execution_count": 92,
   "id": "4f2f60f6",
   "metadata": {},
   "outputs": [
    {
     "data": {
      "text/html": [
       "<style>#sk-container-id-12 {color: black;background-color: white;}#sk-container-id-12 pre{padding: 0;}#sk-container-id-12 div.sk-toggleable {background-color: white;}#sk-container-id-12 label.sk-toggleable__label {cursor: pointer;display: block;width: 100%;margin-bottom: 0;padding: 0.3em;box-sizing: border-box;text-align: center;}#sk-container-id-12 label.sk-toggleable__label-arrow:before {content: \"▸\";float: left;margin-right: 0.25em;color: #696969;}#sk-container-id-12 label.sk-toggleable__label-arrow:hover:before {color: black;}#sk-container-id-12 div.sk-estimator:hover label.sk-toggleable__label-arrow:before {color: black;}#sk-container-id-12 div.sk-toggleable__content {max-height: 0;max-width: 0;overflow: hidden;text-align: left;background-color: #f0f8ff;}#sk-container-id-12 div.sk-toggleable__content pre {margin: 0.2em;color: black;border-radius: 0.25em;background-color: #f0f8ff;}#sk-container-id-12 input.sk-toggleable__control:checked~div.sk-toggleable__content {max-height: 200px;max-width: 100%;overflow: auto;}#sk-container-id-12 input.sk-toggleable__control:checked~label.sk-toggleable__label-arrow:before {content: \"▾\";}#sk-container-id-12 div.sk-estimator input.sk-toggleable__control:checked~label.sk-toggleable__label {background-color: #d4ebff;}#sk-container-id-12 div.sk-label input.sk-toggleable__control:checked~label.sk-toggleable__label {background-color: #d4ebff;}#sk-container-id-12 input.sk-hidden--visually {border: 0;clip: rect(1px 1px 1px 1px);clip: rect(1px, 1px, 1px, 1px);height: 1px;margin: -1px;overflow: hidden;padding: 0;position: absolute;width: 1px;}#sk-container-id-12 div.sk-estimator {font-family: monospace;background-color: #f0f8ff;border: 1px dotted black;border-radius: 0.25em;box-sizing: border-box;margin-bottom: 0.5em;}#sk-container-id-12 div.sk-estimator:hover {background-color: #d4ebff;}#sk-container-id-12 div.sk-parallel-item::after {content: \"\";width: 100%;border-bottom: 1px solid gray;flex-grow: 1;}#sk-container-id-12 div.sk-label:hover label.sk-toggleable__label {background-color: #d4ebff;}#sk-container-id-12 div.sk-serial::before {content: \"\";position: absolute;border-left: 1px solid gray;box-sizing: border-box;top: 0;bottom: 0;left: 50%;z-index: 0;}#sk-container-id-12 div.sk-serial {display: flex;flex-direction: column;align-items: center;background-color: white;padding-right: 0.2em;padding-left: 0.2em;position: relative;}#sk-container-id-12 div.sk-item {position: relative;z-index: 1;}#sk-container-id-12 div.sk-parallel {display: flex;align-items: stretch;justify-content: center;background-color: white;position: relative;}#sk-container-id-12 div.sk-item::before, #sk-container-id-12 div.sk-parallel-item::before {content: \"\";position: absolute;border-left: 1px solid gray;box-sizing: border-box;top: 0;bottom: 0;left: 50%;z-index: -1;}#sk-container-id-12 div.sk-parallel-item {display: flex;flex-direction: column;z-index: 1;position: relative;background-color: white;}#sk-container-id-12 div.sk-parallel-item:first-child::after {align-self: flex-end;width: 50%;}#sk-container-id-12 div.sk-parallel-item:last-child::after {align-self: flex-start;width: 50%;}#sk-container-id-12 div.sk-parallel-item:only-child::after {width: 0;}#sk-container-id-12 div.sk-dashed-wrapped {border: 1px dashed gray;margin: 0 0.4em 0.5em 0.4em;box-sizing: border-box;padding-bottom: 0.4em;background-color: white;}#sk-container-id-12 div.sk-label label {font-family: monospace;font-weight: bold;display: inline-block;line-height: 1.2em;}#sk-container-id-12 div.sk-label-container {text-align: center;}#sk-container-id-12 div.sk-container {/* jupyter's `normalize.less` sets `[hidden] { display: none; }` but bootstrap.min.css set `[hidden] { display: none !important; }` so we also need the `!important` here to be able to override the default hidden behavior on the sphinx rendered scikit-learn.org. See: https://github.com/scikit-learn/scikit-learn/issues/21755 */display: inline-block !important;position: relative;}#sk-container-id-12 div.sk-text-repr-fallback {display: none;}</style><div id=\"sk-container-id-12\" class=\"sk-top-container\"><div class=\"sk-text-repr-fallback\"><pre>GridSearchCV(estimator=DecisionTreeClassifier(),\n",
       "             param_grid={&#x27;max_depth&#x27;: [1, 2, 3, 4, 5, 6, 7, 8, 9, 10, 11, 12,\n",
       "                                       13, 14, 15]},\n",
       "             refit=False,\n",
       "             scoring={&#x27;accuracy&#x27;: make_scorer(accuracy_score),\n",
       "                      &#x27;sensitivity&#x27;: make_scorer(recall_score, pos_label=P),\n",
       "                      &#x27;specificity&#x27;: make_scorer(recall_score, pos_label=H)})</pre><b>In a Jupyter environment, please rerun this cell to show the HTML representation or trust the notebook. <br />On GitHub, the HTML representation is unable to render, please try loading this page with nbviewer.org.</b></div><div class=\"sk-container\" hidden><div class=\"sk-item sk-dashed-wrapped\"><div class=\"sk-label-container\"><div class=\"sk-label sk-toggleable\"><input class=\"sk-toggleable__control sk-hidden--visually\" id=\"sk-estimator-id-20\" type=\"checkbox\" ><label for=\"sk-estimator-id-20\" class=\"sk-toggleable__label sk-toggleable__label-arrow\">GridSearchCV</label><div class=\"sk-toggleable__content\"><pre>GridSearchCV(estimator=DecisionTreeClassifier(),\n",
       "             param_grid={&#x27;max_depth&#x27;: [1, 2, 3, 4, 5, 6, 7, 8, 9, 10, 11, 12,\n",
       "                                       13, 14, 15]},\n",
       "             refit=False,\n",
       "             scoring={&#x27;accuracy&#x27;: make_scorer(accuracy_score),\n",
       "                      &#x27;sensitivity&#x27;: make_scorer(recall_score, pos_label=P),\n",
       "                      &#x27;specificity&#x27;: make_scorer(recall_score, pos_label=H)})</pre></div></div></div><div class=\"sk-parallel\"><div class=\"sk-parallel-item\"><div class=\"sk-item\"><div class=\"sk-label-container\"><div class=\"sk-label sk-toggleable\"><input class=\"sk-toggleable__control sk-hidden--visually\" id=\"sk-estimator-id-21\" type=\"checkbox\" ><label for=\"sk-estimator-id-21\" class=\"sk-toggleable__label sk-toggleable__label-arrow\">estimator: DecisionTreeClassifier</label><div class=\"sk-toggleable__content\"><pre>DecisionTreeClassifier()</pre></div></div></div><div class=\"sk-serial\"><div class=\"sk-item\"><div class=\"sk-estimator sk-toggleable\"><input class=\"sk-toggleable__control sk-hidden--visually\" id=\"sk-estimator-id-22\" type=\"checkbox\" ><label for=\"sk-estimator-id-22\" class=\"sk-toggleable__label sk-toggleable__label-arrow\">DecisionTreeClassifier</label><div class=\"sk-toggleable__content\"><pre>DecisionTreeClassifier()</pre></div></div></div></div></div></div></div></div></div></div>"
      ],
      "text/plain": [
       "GridSearchCV(estimator=DecisionTreeClassifier(),\n",
       "             param_grid={'max_depth': [1, 2, 3, 4, 5, 6, 7, 8, 9, 10, 11, 12,\n",
       "                                       13, 14, 15]},\n",
       "             refit=False,\n",
       "             scoring={'accuracy': make_scorer(accuracy_score),\n",
       "                      'sensitivity': make_scorer(recall_score, pos_label=P),\n",
       "                      'specificity': make_scorer(recall_score, pos_label=H)})"
      ]
     },
     "execution_count": 92,
     "metadata": {},
     "output_type": "execute_result"
    }
   ],
   "source": [
    "# sklearn templating to explore/try different models (complexity) is excellent\n",
    "from sklearn.model_selection import GridSearchCV\n",
    "\n",
    "X = amazonbooks_selectfeatures_nonans.iloc[:,1:]\n",
    "Y = amazonbooks_selectfeatures_nonans.Hard_or_Paper\n",
    "\n",
    "clf_estimator = tree.DecisionTreeClassifier()\n",
    "max_depth_grid = {'max_depth': [1,2,3,4,5,6,7,8,9,10,11,12,13,14,15]} \n",
    "\n",
    "from sklearn.metrics import make_scorer,recall_score,accuracy_score\n",
    "scoring = {\n",
    "    'accuracy': make_scorer(accuracy_score),\n",
    "    'sensitivity': make_scorer(recall_score,pos_label='P'),\n",
    "    'specificity': make_scorer(recall_score,pos_label='H')\n",
    "}\n",
    "gridsearch_obj = GridSearchCV(clf_estimator, max_depth_grid, scoring=scoring, refit=False)\n",
    "# we can control the kind of train-test split and evaluation that gets used\n",
    "# e.g., up above we did cv=train_test_split(X, Y, test_size=0.2)\n",
    "# but, I need to troubleshoot and figure out how to make the code do it, so I'm skipping for now\n",
    "\n",
    "gridsearch_obj.fit(X,Y)"
   ]
  },
  {
   "cell_type": "code",
   "execution_count": 93,
   "id": "6aaf3352",
   "metadata": {},
   "outputs": [
    {
     "data": {
      "text/plain": [
       "{'mean_fit_time': array([0.00192714, 0.00189934, 0.00210056, 0.00226536, 0.00232191,\n",
       "        0.00235167, 0.00234551, 0.00241532, 0.00248685, 0.00239315,\n",
       "        0.00238571, 0.00237951, 0.00240798, 0.00254173, 0.00237207]),\n",
       " 'std_fit_time': array([2.39749768e-04, 1.44950653e-05, 2.58807074e-05, 8.00719631e-05,\n",
       "        6.37498290e-05, 1.40327918e-05, 3.21118584e-05, 5.13495395e-05,\n",
       "        1.95572864e-04, 2.37972796e-05, 6.04185986e-05, 4.01706935e-05,\n",
       "        4.17863913e-05, 3.46111239e-04, 4.78874622e-05]),\n",
       " 'mean_score_time': array([0.00401793, 0.00406837, 0.00399871, 0.00403795, 0.0039885 ,\n",
       "        0.00407672, 0.00397415, 0.00403323, 0.00407419, 0.00404596,\n",
       "        0.00391617, 0.00393085, 0.00401359, 0.00428157, 0.00391107]),\n",
       " 'std_score_time': array([1.60496729e-04, 2.42948415e-04, 2.27078646e-05, 1.21871462e-04,\n",
       "        5.21765320e-05, 1.60470051e-04, 3.59173930e-05, 1.04232349e-04,\n",
       "        2.76685541e-04, 2.53910839e-04, 2.30631499e-05, 1.17526518e-04,\n",
       "        2.06789625e-04, 4.61053880e-04, 5.56521058e-05]),\n",
       " 'param_max_depth': masked_array(data=[1, 2, 3, 4, 5, 6, 7, 8, 9, 10, 11, 12, 13, 14, 15],\n",
       "              mask=[False, False, False, False, False, False, False, False,\n",
       "                    False, False, False, False, False, False, False],\n",
       "        fill_value='?',\n",
       "             dtype=object),\n",
       " 'params': [{'max_depth': 1},\n",
       "  {'max_depth': 2},\n",
       "  {'max_depth': 3},\n",
       "  {'max_depth': 4},\n",
       "  {'max_depth': 5},\n",
       "  {'max_depth': 6},\n",
       "  {'max_depth': 7},\n",
       "  {'max_depth': 8},\n",
       "  {'max_depth': 9},\n",
       "  {'max_depth': 10},\n",
       "  {'max_depth': 11},\n",
       "  {'max_depth': 12},\n",
       "  {'max_depth': 13},\n",
       "  {'max_depth': 14},\n",
       "  {'max_depth': 15}],\n",
       " 'split0_test_accuracy': array([0.74603175, 0.79365079, 0.79365079, 0.79365079, 0.74603175,\n",
       "        0.71428571, 0.80952381, 0.80952381, 0.77777778, 0.74603175,\n",
       "        0.77777778, 0.76190476, 0.77777778, 0.82539683, 0.79365079]),\n",
       " 'split1_test_accuracy': array([0.82258065, 0.87096774, 0.82258065, 0.87096774, 0.80645161,\n",
       "        0.79032258, 0.82258065, 0.85483871, 0.82258065, 0.82258065,\n",
       "        0.80645161, 0.82258065, 0.80645161, 0.83870968, 0.79032258]),\n",
       " 'split2_test_accuracy': array([0.85483871, 0.88709677, 0.85483871, 0.82258065, 0.83870968,\n",
       "        0.83870968, 0.82258065, 0.82258065, 0.82258065, 0.82258065,\n",
       "        0.80645161, 0.80645161, 0.80645161, 0.80645161, 0.80645161]),\n",
       " 'split3_test_accuracy': array([0.74193548, 0.69354839, 0.69354839, 0.74193548, 0.72580645,\n",
       "        0.74193548, 0.75806452, 0.69354839, 0.70967742, 0.70967742,\n",
       "        0.72580645, 0.69354839, 0.67741935, 0.70967742, 0.69354839]),\n",
       " 'split4_test_accuracy': array([0.87096774, 0.93548387, 0.91935484, 0.91935484, 0.91935484,\n",
       "        0.91935484, 0.93548387, 0.88709677, 0.90322581, 0.88709677,\n",
       "        0.87096774, 0.85483871, 0.87096774, 0.88709677, 0.87096774]),\n",
       " 'mean_test_accuracy': array([0.80727087, 0.83614951, 0.81679467, 0.8296979 , 0.80727087,\n",
       "        0.80092166, 0.8296467 , 0.81351767, 0.80716846, 0.79759345,\n",
       "        0.79749104, 0.78786482, 0.78781362, 0.81346646, 0.79098822]),\n",
       " 'std_test_accuracy': array([0.05398763, 0.08463624, 0.07446435, 0.06130882, 0.06919331,\n",
       "        0.07287228, 0.05801776, 0.06574501, 0.06335677, 0.06268557,\n",
       "        0.04708864, 0.05586712, 0.06308244, 0.05834784, 0.05681178]),\n",
       " 'rank_test_accuracy': array([ 7,  1,  4,  2,  8, 10,  3,  5,  9, 11, 12, 14, 15,  6, 13],\n",
       "       dtype=int32),\n",
       " 'split0_test_sensitivity': array([0.76595745, 0.85106383, 0.85106383, 0.82978723, 0.87234043,\n",
       "        0.78723404, 0.87234043, 0.85106383, 0.82978723, 0.78723404,\n",
       "        0.87234043, 0.82978723, 0.82978723, 0.85106383, 0.82978723]),\n",
       " 'split1_test_sensitivity': array([0.85106383, 0.89361702, 0.91489362, 0.93617021, 0.87234043,\n",
       "        0.85106383, 0.89361702, 0.89361702, 0.89361702, 0.85106383,\n",
       "        0.87234043, 0.89361702, 0.87234043, 0.87234043, 0.85106383]),\n",
       " 'split2_test_sensitivity': array([0.91489362, 0.9787234 , 0.9787234 , 0.93617021, 0.91489362,\n",
       "        0.93617021, 0.91489362, 0.91489362, 0.91489362, 0.91489362,\n",
       "        0.89361702, 0.89361702, 0.89361702, 0.89361702, 0.89361702]),\n",
       " 'split3_test_sensitivity': array([0.82608696, 0.84782609, 0.82608696, 0.86956522, 0.84782609,\n",
       "        0.86956522, 0.86956522, 0.80434783, 0.80434783, 0.80434783,\n",
       "        0.82608696, 0.7826087 , 0.7826087 , 0.80434783, 0.7826087 ]),\n",
       " 'split4_test_sensitivity': array([0.84782609, 0.93478261, 0.93478261, 0.95652174, 0.93478261,\n",
       "        0.91304348, 0.95652174, 0.93478261, 0.93478261, 0.91304348,\n",
       "        0.91304348, 0.89130435, 0.89130435, 0.91304348, 0.91304348]),\n",
       " 'mean_test_sensitivity': array([0.84116559, 0.90120259, 0.90111008, 0.90564292, 0.88843663,\n",
       "        0.87141536, 0.9013876 , 0.87974098, 0.87548566, 0.85411656,\n",
       "        0.87548566, 0.85818686, 0.85393154, 0.86688252, 0.85402405]),\n",
       " 'std_test_sensitivity': array([0.04787857, 0.05011503, 0.05564306, 0.04797535, 0.03167117,\n",
       "        0.05182701, 0.03205923, 0.04682807, 0.05009351, 0.05315214,\n",
       "        0.02898052, 0.04500213, 0.04238029, 0.03751313, 0.04636213]),\n",
       " 'rank_test_sensitivity': array([15,  3,  4,  1,  5,  9,  2,  6,  7, 12,  7, 11, 14, 10, 13],\n",
       "       dtype=int32),\n",
       " 'split0_test_specificity': array([0.6875, 0.625 , 0.625 , 0.6875, 0.375 , 0.5   , 0.625 , 0.6875,\n",
       "        0.625 , 0.625 , 0.5   , 0.5625, 0.625 , 0.75  , 0.6875]),\n",
       " 'split1_test_specificity': array([0.73333333, 0.8       , 0.53333333, 0.66666667, 0.6       ,\n",
       "        0.6       , 0.6       , 0.73333333, 0.6       , 0.73333333,\n",
       "        0.6       , 0.6       , 0.6       , 0.73333333, 0.6       ]),\n",
       " 'split2_test_specificity': array([0.66666667, 0.6       , 0.46666667, 0.46666667, 0.6       ,\n",
       "        0.53333333, 0.53333333, 0.53333333, 0.53333333, 0.53333333,\n",
       "        0.53333333, 0.53333333, 0.53333333, 0.53333333, 0.53333333]),\n",
       " 'split3_test_specificity': array([0.5   , 0.25  , 0.3125, 0.375 , 0.375 , 0.375 , 0.4375, 0.375 ,\n",
       "        0.4375, 0.4375, 0.4375, 0.4375, 0.375 , 0.4375, 0.4375]),\n",
       " 'split4_test_specificity': array([0.9375, 0.9375, 0.875 , 0.8125, 0.875 , 0.9375, 0.875 , 0.75  ,\n",
       "        0.8125, 0.8125, 0.75  , 0.75  , 0.8125, 0.8125, 0.75  ]),\n",
       " 'mean_test_specificity': array([0.705     , 0.6425    , 0.5625    , 0.60166667, 0.565     ,\n",
       "        0.58916667, 0.61416667, 0.61583333, 0.60166667, 0.62833333,\n",
       "        0.56416667, 0.57666667, 0.58916667, 0.65333333, 0.60166667]),\n",
       " 'std_test_specificity': array([0.14047044, 0.23151674, 0.18659969, 0.15852182, 0.18479719,\n",
       "        0.18888562, 0.14566895, 0.14265343, 0.12378857, 0.13445879,\n",
       "        0.10670572, 0.10201443, 0.14160783, 0.14287232, 0.11044732]),\n",
       " 'rank_test_specificity': array([ 1,  3, 15,  7, 13, 10,  6,  5,  7,  4, 14, 12, 10,  2,  7],\n",
       "       dtype=int32)}"
      ]
     },
     "execution_count": 93,
     "metadata": {},
     "output_type": "execute_result"
    }
   ],
   "source": [
    "gridsearch_obj.cv_results_"
   ]
  },
  {
   "cell_type": "code",
   "execution_count": 73,
   "id": "5cbf677b",
   "metadata": {},
   "outputs": [
    {
     "data": {
      "text/html": [
       "<style>#sk-container-id-9 {color: black;background-color: white;}#sk-container-id-9 pre{padding: 0;}#sk-container-id-9 div.sk-toggleable {background-color: white;}#sk-container-id-9 label.sk-toggleable__label {cursor: pointer;display: block;width: 100%;margin-bottom: 0;padding: 0.3em;box-sizing: border-box;text-align: center;}#sk-container-id-9 label.sk-toggleable__label-arrow:before {content: \"▸\";float: left;margin-right: 0.25em;color: #696969;}#sk-container-id-9 label.sk-toggleable__label-arrow:hover:before {color: black;}#sk-container-id-9 div.sk-estimator:hover label.sk-toggleable__label-arrow:before {color: black;}#sk-container-id-9 div.sk-toggleable__content {max-height: 0;max-width: 0;overflow: hidden;text-align: left;background-color: #f0f8ff;}#sk-container-id-9 div.sk-toggleable__content pre {margin: 0.2em;color: black;border-radius: 0.25em;background-color: #f0f8ff;}#sk-container-id-9 input.sk-toggleable__control:checked~div.sk-toggleable__content {max-height: 200px;max-width: 100%;overflow: auto;}#sk-container-id-9 input.sk-toggleable__control:checked~label.sk-toggleable__label-arrow:before {content: \"▾\";}#sk-container-id-9 div.sk-estimator input.sk-toggleable__control:checked~label.sk-toggleable__label {background-color: #d4ebff;}#sk-container-id-9 div.sk-label input.sk-toggleable__control:checked~label.sk-toggleable__label {background-color: #d4ebff;}#sk-container-id-9 input.sk-hidden--visually {border: 0;clip: rect(1px 1px 1px 1px);clip: rect(1px, 1px, 1px, 1px);height: 1px;margin: -1px;overflow: hidden;padding: 0;position: absolute;width: 1px;}#sk-container-id-9 div.sk-estimator {font-family: monospace;background-color: #f0f8ff;border: 1px dotted black;border-radius: 0.25em;box-sizing: border-box;margin-bottom: 0.5em;}#sk-container-id-9 div.sk-estimator:hover {background-color: #d4ebff;}#sk-container-id-9 div.sk-parallel-item::after {content: \"\";width: 100%;border-bottom: 1px solid gray;flex-grow: 1;}#sk-container-id-9 div.sk-label:hover label.sk-toggleable__label {background-color: #d4ebff;}#sk-container-id-9 div.sk-serial::before {content: \"\";position: absolute;border-left: 1px solid gray;box-sizing: border-box;top: 0;bottom: 0;left: 50%;z-index: 0;}#sk-container-id-9 div.sk-serial {display: flex;flex-direction: column;align-items: center;background-color: white;padding-right: 0.2em;padding-left: 0.2em;position: relative;}#sk-container-id-9 div.sk-item {position: relative;z-index: 1;}#sk-container-id-9 div.sk-parallel {display: flex;align-items: stretch;justify-content: center;background-color: white;position: relative;}#sk-container-id-9 div.sk-item::before, #sk-container-id-9 div.sk-parallel-item::before {content: \"\";position: absolute;border-left: 1px solid gray;box-sizing: border-box;top: 0;bottom: 0;left: 50%;z-index: -1;}#sk-container-id-9 div.sk-parallel-item {display: flex;flex-direction: column;z-index: 1;position: relative;background-color: white;}#sk-container-id-9 div.sk-parallel-item:first-child::after {align-self: flex-end;width: 50%;}#sk-container-id-9 div.sk-parallel-item:last-child::after {align-self: flex-start;width: 50%;}#sk-container-id-9 div.sk-parallel-item:only-child::after {width: 0;}#sk-container-id-9 div.sk-dashed-wrapped {border: 1px dashed gray;margin: 0 0.4em 0.5em 0.4em;box-sizing: border-box;padding-bottom: 0.4em;background-color: white;}#sk-container-id-9 div.sk-label label {font-family: monospace;font-weight: bold;display: inline-block;line-height: 1.2em;}#sk-container-id-9 div.sk-label-container {text-align: center;}#sk-container-id-9 div.sk-container {/* jupyter's `normalize.less` sets `[hidden] { display: none; }` but bootstrap.min.css set `[hidden] { display: none !important; }` so we also need the `!important` here to be able to override the default hidden behavior on the sphinx rendered scikit-learn.org. See: https://github.com/scikit-learn/scikit-learn/issues/21755 */display: inline-block !important;position: relative;}#sk-container-id-9 div.sk-text-repr-fallback {display: none;}</style><div id=\"sk-container-id-9\" class=\"sk-top-container\"><div class=\"sk-text-repr-fallback\"><pre>DecisionTreeClassifier(max_depth=2)</pre><b>In a Jupyter environment, please rerun this cell to show the HTML representation or trust the notebook. <br />On GitHub, the HTML representation is unable to render, please try loading this page with nbviewer.org.</b></div><div class=\"sk-container\" hidden><div class=\"sk-item\"><div class=\"sk-estimator sk-toggleable\"><input class=\"sk-toggleable__control sk-hidden--visually\" id=\"sk-estimator-id-15\" type=\"checkbox\" checked><label for=\"sk-estimator-id-15\" class=\"sk-toggleable__label sk-toggleable__label-arrow\">DecisionTreeClassifier</label><div class=\"sk-toggleable__content\"><pre>DecisionTreeClassifier(max_depth=2)</pre></div></div></div></div></div>"
      ],
      "text/plain": [
       "DecisionTreeClassifier(max_depth=2)"
      ]
     },
     "execution_count": 73,
     "metadata": {},
     "output_type": "execute_result"
    }
   ],
   "source": [
    "clf"
   ]
  },
  {
   "cell_type": "code",
   "execution_count": 75,
   "id": "9aa1ec9b",
   "metadata": {},
   "outputs": [
    {
     "data": {
      "text/plain": [
       "{'max_depth': 2}"
      ]
     },
     "execution_count": 75,
     "metadata": {},
     "output_type": "execute_result"
    }
   ],
   "source": [
    "gridsearch_obj.best_params_"
   ]
  },
  {
   "cell_type": "code",
   "execution_count": 76,
   "id": "df26a2ed",
   "metadata": {},
   "outputs": [
    {
     "data": {
      "text/plain": [
       "0.8361495135688685"
      ]
     },
     "execution_count": 76,
     "metadata": {},
     "output_type": "execute_result"
    }
   ],
   "source": [
    "gridsearch_obj.best_score_"
   ]
  },
  {
   "cell_type": "code",
   "execution_count": 94,
   "id": "d2199fbe",
   "metadata": {},
   "outputs": [
    {
     "ename": "AttributeError",
     "evalue": "'GridSearchCV' object has no attribute 'best_estimator_'",
     "output_type": "error",
     "traceback": [
      "\u001B[0;31m---------------------------------------------------------------------------\u001B[0m",
      "\u001B[0;31mAttributeError\u001B[0m                            Traceback (most recent call last)",
      "Cell \u001B[0;32mIn[94], line 1\u001B[0m\n\u001B[0;32m----> 1\u001B[0m \u001B[43mgridsearch_obj\u001B[49m\u001B[38;5;241;43m.\u001B[39;49m\u001B[43mbest_estimator_\u001B[49m\n\u001B[1;32m      2\u001B[0m \u001B[38;5;66;03m#_ = tree.plot_tree(gridsearch_obj.best_estimator_, feature_names=['Amazon Price',\"Weight_oz\"], class_names=['H','P'])\u001B[39;00m\n",
      "\u001B[0;31mAttributeError\u001B[0m: 'GridSearchCV' object has no attribute 'best_estimator_'"
     ]
    }
   ],
   "source": [
    "gridsearch_obj.best_estimator_\n",
    "#_ = tree.plot_tree(gridsearch_obj.best_estimator_, feature_names=['Amazon Price',\"Weight_oz\"], class_names=['H','P'])"
   ]
  },
  {
   "cell_type": "code",
   "execution_count": 78,
   "id": "825453da",
   "metadata": {},
   "outputs": [
    {
     "data": {
      "text/plain": [
       "array(['P', 'P', 'P', 'P', 'H', 'H', 'H', 'P', 'H', 'P', 'P', 'H', 'H',\n",
       "       'P', 'H', 'P', 'P', 'P', 'P', 'P', 'P', 'P', 'P', 'H', 'P', 'H',\n",
       "       'P', 'P', 'P', 'P', 'P', 'H', 'P', 'P', 'P', 'P', 'P', 'P', 'H',\n",
       "       'P', 'P', 'H', 'H', 'P', 'P', 'P', 'P', 'P', 'H', 'P', 'P', 'H',\n",
       "       'P', 'P', 'H', 'P', 'H', 'P', 'P', 'P', 'P', 'H', 'P', 'P', 'H',\n",
       "       'P', 'P', 'H', 'P', 'P', 'P', 'P', 'P', 'P', 'P', 'P', 'P', 'H',\n",
       "       'P', 'P', 'P', 'H', 'H', 'P', 'P', 'H', 'H', 'P', 'P', 'P', 'P',\n",
       "       'P', 'H', 'H', 'P', 'P', 'P', 'P', 'H', 'P', 'H', 'H', 'P', 'P',\n",
       "       'H', 'P', 'P', 'H', 'P', 'H', 'P', 'P', 'P', 'P', 'P', 'P', 'H',\n",
       "       'P', 'P', 'P', 'H', 'P', 'H', 'H', 'P', 'P', 'P', 'H', 'P', 'P',\n",
       "       'H', 'P', 'H', 'P', 'P', 'P', 'P', 'P', 'P', 'P', 'P', 'P', 'P',\n",
       "       'P', 'P', 'H', 'P', 'P', 'P', 'P', 'P', 'P', 'P', 'P', 'P', 'P',\n",
       "       'P', 'P', 'P', 'P', 'P', 'P', 'P', 'P', 'H', 'P', 'P', 'P', 'P',\n",
       "       'P', 'P', 'P', 'P', 'P', 'P', 'P', 'H', 'P', 'P', 'H', 'P', 'P',\n",
       "       'P', 'H', 'H', 'P', 'P', 'P', 'P', 'P', 'P', 'P', 'P', 'P', 'P',\n",
       "       'P', 'H', 'P', 'P', 'P', 'P', 'P', 'P', 'H', 'P', 'P', 'P', 'P',\n",
       "       'P', 'H', 'P', 'P', 'P', 'P', 'P', 'P', 'P', 'P', 'P', 'P', 'P',\n",
       "       'P', 'H', 'P', 'P', 'P', 'P', 'H', 'P', 'P', 'H', 'H', 'P', 'P',\n",
       "       'P', 'P', 'P', 'P', 'P', 'P', 'H', 'P', 'P', 'P', 'H', 'H', 'P',\n",
       "       'P', 'P', 'P', 'P', 'H', 'P', 'P', 'P', 'P', 'P', 'P', 'P', 'P',\n",
       "       'P', 'H', 'P', 'H', 'P', 'P', 'P', 'P', 'P', 'P', 'P', 'H', 'H',\n",
       "       'H', 'H', 'P', 'H', 'P', 'H', 'P', 'P', 'H', 'P', 'P', 'H', 'H',\n",
       "       'P', 'P', 'P', 'P', 'P', 'H', 'H', 'P', 'P', 'P', 'P', 'P', 'P',\n",
       "       'H', 'H', 'P', 'P', 'P', 'P', 'H', 'H', 'P', 'P', 'P', 'P'],\n",
       "      dtype=object)"
      ]
     },
     "execution_count": 78,
     "metadata": {},
     "output_type": "execute_result"
    }
   ],
   "source": [
    "gridsearch_obj.best_estimator_.predict(X)"
   ]
  },
  {
   "cell_type": "code",
   "execution_count": 80,
   "id": "99029114",
   "metadata": {},
   "outputs": [
    {
     "data": {
      "text/plain": [
       "['__abstractmethods__',\n",
       " '__annotations__',\n",
       " '__class__',\n",
       " '__delattr__',\n",
       " '__dict__',\n",
       " '__dir__',\n",
       " '__doc__',\n",
       " '__eq__',\n",
       " '__format__',\n",
       " '__ge__',\n",
       " '__getattribute__',\n",
       " '__getstate__',\n",
       " '__gt__',\n",
       " '__hash__',\n",
       " '__init__',\n",
       " '__init_subclass__',\n",
       " '__le__',\n",
       " '__lt__',\n",
       " '__module__',\n",
       " '__ne__',\n",
       " '__new__',\n",
       " '__reduce__',\n",
       " '__reduce_ex__',\n",
       " '__repr__',\n",
       " '__setattr__',\n",
       " '__setstate__',\n",
       " '__sizeof__',\n",
       " '__str__',\n",
       " '__subclasshook__',\n",
       " '__weakref__',\n",
       " '_abc_impl',\n",
       " '_check_feature_names',\n",
       " '_check_n_features',\n",
       " '_estimator_type',\n",
       " '_get_param_names',\n",
       " '_get_tags',\n",
       " '_more_tags',\n",
       " '_parameter_constraints',\n",
       " '_prune_tree',\n",
       " '_repr_html_',\n",
       " '_repr_html_inner',\n",
       " '_repr_mimebundle_',\n",
       " '_validate_X_predict',\n",
       " '_validate_data',\n",
       " '_validate_params',\n",
       " 'apply',\n",
       " 'ccp_alpha',\n",
       " 'class_weight',\n",
       " 'classes_',\n",
       " 'cost_complexity_pruning_path',\n",
       " 'criterion',\n",
       " 'decision_path',\n",
       " 'feature_importances_',\n",
       " 'feature_names_in_',\n",
       " 'fit',\n",
       " 'get_depth',\n",
       " 'get_n_leaves',\n",
       " 'get_params',\n",
       " 'max_depth',\n",
       " 'max_features',\n",
       " 'max_features_',\n",
       " 'max_leaf_nodes',\n",
       " 'min_impurity_decrease',\n",
       " 'min_samples_leaf',\n",
       " 'min_samples_split',\n",
       " 'min_weight_fraction_leaf',\n",
       " 'n_classes_',\n",
       " 'n_features_in_',\n",
       " 'n_outputs_',\n",
       " 'predict',\n",
       " 'predict_log_proba',\n",
       " 'predict_proba',\n",
       " 'random_state',\n",
       " 'score',\n",
       " 'set_params',\n",
       " 'splitter',\n",
       " 'tree_']"
      ]
     },
     "execution_count": 80,
     "metadata": {},
     "output_type": "execute_result"
    }
   ],
   "source": [
    "dir(gridsearch_obj.best_estimator_)"
   ]
  },
  {
   "cell_type": "code",
   "execution_count": 85,
   "id": "0adc97e8",
   "metadata": {},
   "outputs": [
    {
     "ename": "TypeError",
     "evalue": "<sklearn.tree._tree.Tree object at 0x7fd54bcd7600> is not an estimator instance.",
     "output_type": "error",
     "traceback": [
      "\u001B[0;31m---------------------------------------------------------------------------\u001B[0m",
      "\u001B[0;31mTypeError\u001B[0m                                 Traceback (most recent call last)",
      "Cell \u001B[0;32mIn[85], line 1\u001B[0m\n\u001B[0;32m----> 1\u001B[0m _ \u001B[38;5;241m=\u001B[39m \u001B[43mtree\u001B[49m\u001B[38;5;241;43m.\u001B[39;49m\u001B[43mplot_tree\u001B[49m\u001B[43m(\u001B[49m\u001B[43mgridsearch_obj\u001B[49m\u001B[38;5;241;43m.\u001B[39;49m\u001B[43mbest_estimator_\u001B[49m\u001B[38;5;241;43m.\u001B[39;49m\u001B[43mtree_\u001B[49m\u001B[43m,\u001B[49m\u001B[43m \u001B[49m\u001B[43mfeature_names\u001B[49m\u001B[38;5;241;43m=\u001B[39;49m\u001B[43m[\u001B[49m\u001B[38;5;124;43m'\u001B[39;49m\u001B[38;5;124;43mAmazon Price\u001B[39;49m\u001B[38;5;124;43m'\u001B[39;49m\u001B[43m,\u001B[49m\u001B[38;5;124;43m\"\u001B[39;49m\u001B[38;5;124;43mWeight_oz\u001B[39;49m\u001B[38;5;124;43m\"\u001B[39;49m\u001B[43m]\u001B[49m\u001B[43m,\u001B[49m\u001B[43m \u001B[49m\u001B[43mclass_names\u001B[49m\u001B[38;5;241;43m=\u001B[39;49m\u001B[43m[\u001B[49m\u001B[38;5;124;43m'\u001B[39;49m\u001B[38;5;124;43mH\u001B[39;49m\u001B[38;5;124;43m'\u001B[39;49m\u001B[43m,\u001B[49m\u001B[38;5;124;43m'\u001B[39;49m\u001B[38;5;124;43mP\u001B[39;49m\u001B[38;5;124;43m'\u001B[39;49m\u001B[43m]\u001B[49m\u001B[43m)\u001B[49m\n",
      "File \u001B[0;32m/opt/conda/lib/python3.10/site-packages/sklearn/tree/_export.py:179\u001B[0m, in \u001B[0;36mplot_tree\u001B[0;34m(decision_tree, max_depth, feature_names, class_names, label, filled, impurity, node_ids, proportion, rounded, precision, ax, fontsize)\u001B[0m\n\u001B[1;32m     78\u001B[0m \u001B[38;5;28;01mdef\u001B[39;00m \u001B[38;5;21mplot_tree\u001B[39m(\n\u001B[1;32m     79\u001B[0m     decision_tree,\n\u001B[1;32m     80\u001B[0m     \u001B[38;5;241m*\u001B[39m,\n\u001B[0;32m   (...)\u001B[0m\n\u001B[1;32m     92\u001B[0m     fontsize\u001B[38;5;241m=\u001B[39m\u001B[38;5;28;01mNone\u001B[39;00m,\n\u001B[1;32m     93\u001B[0m ):\n\u001B[1;32m     94\u001B[0m \u001B[38;5;250m    \u001B[39m\u001B[38;5;124;03m\"\"\"Plot a decision tree.\u001B[39;00m\n\u001B[1;32m     95\u001B[0m \n\u001B[1;32m     96\u001B[0m \u001B[38;5;124;03m    The sample counts that are shown are weighted with any sample_weights that\u001B[39;00m\n\u001B[0;32m   (...)\u001B[0m\n\u001B[1;32m    176\u001B[0m \u001B[38;5;124;03m    [...]\u001B[39;00m\n\u001B[1;32m    177\u001B[0m \u001B[38;5;124;03m    \"\"\"\u001B[39;00m\n\u001B[0;32m--> 179\u001B[0m     \u001B[43mcheck_is_fitted\u001B[49m\u001B[43m(\u001B[49m\u001B[43mdecision_tree\u001B[49m\u001B[43m)\u001B[49m\n\u001B[1;32m    181\u001B[0m     exporter \u001B[38;5;241m=\u001B[39m _MPLTreeExporter(\n\u001B[1;32m    182\u001B[0m         max_depth\u001B[38;5;241m=\u001B[39mmax_depth,\n\u001B[1;32m    183\u001B[0m         feature_names\u001B[38;5;241m=\u001B[39mfeature_names,\n\u001B[0;32m   (...)\u001B[0m\n\u001B[1;32m    192\u001B[0m         fontsize\u001B[38;5;241m=\u001B[39mfontsize,\n\u001B[1;32m    193\u001B[0m     )\n\u001B[1;32m    194\u001B[0m     \u001B[38;5;28;01mreturn\u001B[39;00m exporter\u001B[38;5;241m.\u001B[39mexport(decision_tree, ax\u001B[38;5;241m=\u001B[39max)\n",
      "File \u001B[0;32m/opt/conda/lib/python3.10/site-packages/sklearn/utils/validation.py:1376\u001B[0m, in \u001B[0;36mcheck_is_fitted\u001B[0;34m(estimator, attributes, msg, all_or_any)\u001B[0m\n\u001B[1;32m   1370\u001B[0m     msg \u001B[38;5;241m=\u001B[39m (\n\u001B[1;32m   1371\u001B[0m         \u001B[38;5;124m\"\u001B[39m\u001B[38;5;124mThis \u001B[39m\u001B[38;5;132;01m%(name)s\u001B[39;00m\u001B[38;5;124m instance is not fitted yet. Call \u001B[39m\u001B[38;5;124m'\u001B[39m\u001B[38;5;124mfit\u001B[39m\u001B[38;5;124m'\u001B[39m\u001B[38;5;124m with \u001B[39m\u001B[38;5;124m\"\u001B[39m\n\u001B[1;32m   1372\u001B[0m         \u001B[38;5;124m\"\u001B[39m\u001B[38;5;124mappropriate arguments before using this estimator.\u001B[39m\u001B[38;5;124m\"\u001B[39m\n\u001B[1;32m   1373\u001B[0m     )\n\u001B[1;32m   1375\u001B[0m \u001B[38;5;28;01mif\u001B[39;00m \u001B[38;5;129;01mnot\u001B[39;00m \u001B[38;5;28mhasattr\u001B[39m(estimator, \u001B[38;5;124m\"\u001B[39m\u001B[38;5;124mfit\u001B[39m\u001B[38;5;124m\"\u001B[39m):\n\u001B[0;32m-> 1376\u001B[0m     \u001B[38;5;28;01mraise\u001B[39;00m \u001B[38;5;167;01mTypeError\u001B[39;00m(\u001B[38;5;124m\"\u001B[39m\u001B[38;5;132;01m%s\u001B[39;00m\u001B[38;5;124m is not an estimator instance.\u001B[39m\u001B[38;5;124m\"\u001B[39m \u001B[38;5;241m%\u001B[39m (estimator))\n\u001B[1;32m   1378\u001B[0m \u001B[38;5;28;01mif\u001B[39;00m attributes \u001B[38;5;129;01mis\u001B[39;00m \u001B[38;5;129;01mnot\u001B[39;00m \u001B[38;5;28;01mNone\u001B[39;00m:\n\u001B[1;32m   1379\u001B[0m     \u001B[38;5;28;01mif\u001B[39;00m \u001B[38;5;129;01mnot\u001B[39;00m \u001B[38;5;28misinstance\u001B[39m(attributes, (\u001B[38;5;28mlist\u001B[39m, \u001B[38;5;28mtuple\u001B[39m)):\n",
      "\u001B[0;31mTypeError\u001B[0m: <sklearn.tree._tree.Tree object at 0x7fd54bcd7600> is not an estimator instance."
     ]
    }
   ],
   "source": [
    "_ = tree.plot_tree(gridsearch_obj.best_estimator_.tree_, feature_names=['Amazon Price',\"Weight_oz\"], class_names=['H','P'])\n"
   ]
  },
  {
   "cell_type": "code",
   "execution_count": null,
   "id": "a0426022",
   "metadata": {},
   "outputs": [],
   "source": [
    "\n",
    "\n",
    "\n",
    "\n",
    "\n",
    "\n",
    "\n",
    "\n",
    "\n",
    "\n",
    "\n",
    "\n",
    "\n",
    "\n",
    "\n",
    "\n",
    "\n",
    "\n",
    "\n",
    "\n",
    "\n",
    "\n",
    "\n",
    "\n",
    "\n",
    "\n",
    "\n",
    "\n",
    "\n",
    "\n",
    "\n",
    "\n",
    "\n",
    "\n",
    "\n",
    "\n",
    "\n",
    "\n",
    "\n",
    "\n",
    "\n",
    "\n",
    "\n",
    "\n",
    "\n",
    "\n",
    "\n",
    "\n",
    "\n",
    "\n",
    "\n",
    "\n"
   ]
  },
  {
   "cell_type": "code",
   "execution_count": 35,
   "id": "efce1072",
   "metadata": {},
   "outputs": [
    {
     "name": "stdout",
     "output_type": "stream",
     "text": [
      "Collecting graphviz\n",
      "  Downloading graphviz-0.20.1-py3-none-any.whl (47 kB)\n",
      "\u001B[2K     \u001B[90m━━━━━━━━━━━━━━━━━━━━━━━━━━━━━━━━━━━━━━━\u001B[0m \u001B[32m47.0/47.0 kB\u001B[0m \u001B[31m518.2 kB/s\u001B[0m eta \u001B[36m0:00:00\u001B[0ma \u001B[36m0:00:01\u001B[0m\n",
      "\u001B[?25hInstalling collected packages: graphviz\n",
      "Successfully installed graphviz-0.20.1\n"
     ]
    }
   ],
   "source": [
    "# ! pip install graphviz # -- didn't end up being workable"
   ]
  },
  {
   "cell_type": "code",
   "execution_count": 36,
   "id": "518c8214",
   "metadata": {
    "scrolled": true
   },
   "outputs": [
    {
     "ename": "ExecutableNotFound",
     "evalue": "failed to execute PosixPath('dot'), make sure the Graphviz executables are on your systems' PATH",
     "output_type": "error",
     "traceback": [
      "\u001B[0;31m---------------------------------------------------------------------------\u001B[0m",
      "\u001B[0;31mFileNotFoundError\u001B[0m                         Traceback (most recent call last)",
      "File \u001B[0;32m/opt/conda/lib/python3.10/site-packages/graphviz/backend/execute.py:81\u001B[0m, in \u001B[0;36mrun_check\u001B[0;34m(cmd, input_lines, encoding, quiet, **kwargs)\u001B[0m\n\u001B[1;32m     80\u001B[0m     \u001B[38;5;28;01melse\u001B[39;00m:\n\u001B[0;32m---> 81\u001B[0m         proc \u001B[38;5;241m=\u001B[39m \u001B[43msubprocess\u001B[49m\u001B[38;5;241;43m.\u001B[39;49m\u001B[43mrun\u001B[49m\u001B[43m(\u001B[49m\u001B[43mcmd\u001B[49m\u001B[43m,\u001B[49m\u001B[43m \u001B[49m\u001B[38;5;241;43m*\u001B[39;49m\u001B[38;5;241;43m*\u001B[39;49m\u001B[43mkwargs\u001B[49m\u001B[43m)\u001B[49m\n\u001B[1;32m     82\u001B[0m \u001B[38;5;28;01mexcept\u001B[39;00m \u001B[38;5;167;01mOSError\u001B[39;00m \u001B[38;5;28;01mas\u001B[39;00m e:\n",
      "File \u001B[0;32m/opt/conda/lib/python3.10/subprocess.py:503\u001B[0m, in \u001B[0;36mrun\u001B[0;34m(input, capture_output, timeout, check, *popenargs, **kwargs)\u001B[0m\n\u001B[1;32m    501\u001B[0m     kwargs[\u001B[38;5;124m'\u001B[39m\u001B[38;5;124mstderr\u001B[39m\u001B[38;5;124m'\u001B[39m] \u001B[38;5;241m=\u001B[39m PIPE\n\u001B[0;32m--> 503\u001B[0m \u001B[38;5;28;01mwith\u001B[39;00m \u001B[43mPopen\u001B[49m\u001B[43m(\u001B[49m\u001B[38;5;241;43m*\u001B[39;49m\u001B[43mpopenargs\u001B[49m\u001B[43m,\u001B[49m\u001B[43m \u001B[49m\u001B[38;5;241;43m*\u001B[39;49m\u001B[38;5;241;43m*\u001B[39;49m\u001B[43mkwargs\u001B[49m\u001B[43m)\u001B[49m \u001B[38;5;28;01mas\u001B[39;00m process:\n\u001B[1;32m    504\u001B[0m     \u001B[38;5;28;01mtry\u001B[39;00m:\n",
      "File \u001B[0;32m/opt/conda/lib/python3.10/subprocess.py:971\u001B[0m, in \u001B[0;36mPopen.__init__\u001B[0;34m(self, args, bufsize, executable, stdin, stdout, stderr, preexec_fn, close_fds, shell, cwd, env, universal_newlines, startupinfo, creationflags, restore_signals, start_new_session, pass_fds, user, group, extra_groups, encoding, errors, text, umask, pipesize)\u001B[0m\n\u001B[1;32m    968\u001B[0m             \u001B[38;5;28mself\u001B[39m\u001B[38;5;241m.\u001B[39mstderr \u001B[38;5;241m=\u001B[39m io\u001B[38;5;241m.\u001B[39mTextIOWrapper(\u001B[38;5;28mself\u001B[39m\u001B[38;5;241m.\u001B[39mstderr,\n\u001B[1;32m    969\u001B[0m                     encoding\u001B[38;5;241m=\u001B[39mencoding, errors\u001B[38;5;241m=\u001B[39merrors)\n\u001B[0;32m--> 971\u001B[0m     \u001B[38;5;28;43mself\u001B[39;49m\u001B[38;5;241;43m.\u001B[39;49m\u001B[43m_execute_child\u001B[49m\u001B[43m(\u001B[49m\u001B[43margs\u001B[49m\u001B[43m,\u001B[49m\u001B[43m \u001B[49m\u001B[43mexecutable\u001B[49m\u001B[43m,\u001B[49m\u001B[43m \u001B[49m\u001B[43mpreexec_fn\u001B[49m\u001B[43m,\u001B[49m\u001B[43m \u001B[49m\u001B[43mclose_fds\u001B[49m\u001B[43m,\u001B[49m\n\u001B[1;32m    972\u001B[0m \u001B[43m                        \u001B[49m\u001B[43mpass_fds\u001B[49m\u001B[43m,\u001B[49m\u001B[43m \u001B[49m\u001B[43mcwd\u001B[49m\u001B[43m,\u001B[49m\u001B[43m \u001B[49m\u001B[43menv\u001B[49m\u001B[43m,\u001B[49m\n\u001B[1;32m    973\u001B[0m \u001B[43m                        \u001B[49m\u001B[43mstartupinfo\u001B[49m\u001B[43m,\u001B[49m\u001B[43m \u001B[49m\u001B[43mcreationflags\u001B[49m\u001B[43m,\u001B[49m\u001B[43m \u001B[49m\u001B[43mshell\u001B[49m\u001B[43m,\u001B[49m\n\u001B[1;32m    974\u001B[0m \u001B[43m                        \u001B[49m\u001B[43mp2cread\u001B[49m\u001B[43m,\u001B[49m\u001B[43m \u001B[49m\u001B[43mp2cwrite\u001B[49m\u001B[43m,\u001B[49m\n\u001B[1;32m    975\u001B[0m \u001B[43m                        \u001B[49m\u001B[43mc2pread\u001B[49m\u001B[43m,\u001B[49m\u001B[43m \u001B[49m\u001B[43mc2pwrite\u001B[49m\u001B[43m,\u001B[49m\n\u001B[1;32m    976\u001B[0m \u001B[43m                        \u001B[49m\u001B[43merrread\u001B[49m\u001B[43m,\u001B[49m\u001B[43m \u001B[49m\u001B[43merrwrite\u001B[49m\u001B[43m,\u001B[49m\n\u001B[1;32m    977\u001B[0m \u001B[43m                        \u001B[49m\u001B[43mrestore_signals\u001B[49m\u001B[43m,\u001B[49m\n\u001B[1;32m    978\u001B[0m \u001B[43m                        \u001B[49m\u001B[43mgid\u001B[49m\u001B[43m,\u001B[49m\u001B[43m \u001B[49m\u001B[43mgids\u001B[49m\u001B[43m,\u001B[49m\u001B[43m \u001B[49m\u001B[43muid\u001B[49m\u001B[43m,\u001B[49m\u001B[43m \u001B[49m\u001B[43mumask\u001B[49m\u001B[43m,\u001B[49m\n\u001B[1;32m    979\u001B[0m \u001B[43m                        \u001B[49m\u001B[43mstart_new_session\u001B[49m\u001B[43m)\u001B[49m\n\u001B[1;32m    980\u001B[0m \u001B[38;5;28;01mexcept\u001B[39;00m:\n\u001B[1;32m    981\u001B[0m     \u001B[38;5;66;03m# Cleanup if the child failed starting.\u001B[39;00m\n",
      "File \u001B[0;32m/opt/conda/lib/python3.10/subprocess.py:1847\u001B[0m, in \u001B[0;36mPopen._execute_child\u001B[0;34m(self, args, executable, preexec_fn, close_fds, pass_fds, cwd, env, startupinfo, creationflags, shell, p2cread, p2cwrite, c2pread, c2pwrite, errread, errwrite, restore_signals, gid, gids, uid, umask, start_new_session)\u001B[0m\n\u001B[1;32m   1846\u001B[0m         err_msg \u001B[38;5;241m=\u001B[39m os\u001B[38;5;241m.\u001B[39mstrerror(errno_num)\n\u001B[0;32m-> 1847\u001B[0m     \u001B[38;5;28;01mraise\u001B[39;00m child_exception_type(errno_num, err_msg, err_filename)\n\u001B[1;32m   1848\u001B[0m \u001B[38;5;28;01mraise\u001B[39;00m child_exception_type(err_msg)\n",
      "\u001B[0;31mFileNotFoundError\u001B[0m: [Errno 2] No such file or directory: PosixPath('dot')",
      "\nThe above exception was the direct cause of the following exception:\n",
      "\u001B[0;31mExecutableNotFound\u001B[0m                        Traceback (most recent call last)",
      "Cell \u001B[0;32mIn[36], line 4\u001B[0m\n\u001B[1;32m      2\u001B[0m dot_data \u001B[38;5;241m=\u001B[39m tree\u001B[38;5;241m.\u001B[39mexport_graphviz(clf, out_file\u001B[38;5;241m=\u001B[39m\u001B[38;5;28;01mNone\u001B[39;00m) \n\u001B[1;32m      3\u001B[0m graph \u001B[38;5;241m=\u001B[39m graphviz\u001B[38;5;241m.\u001B[39mSource(dot_data) \n\u001B[0;32m----> 4\u001B[0m \u001B[43mgraph\u001B[49m\u001B[38;5;241;43m.\u001B[39;49m\u001B[43mrender\u001B[49m\u001B[43m(\u001B[49m\u001B[38;5;124;43m\"\u001B[39;49m\u001B[38;5;124;43mHorP\u001B[39;49m\u001B[38;5;124;43m\"\u001B[39;49m\u001B[43m)\u001B[49m \n",
      "File \u001B[0;32m/opt/conda/lib/python3.10/site-packages/graphviz/_tools.py:171\u001B[0m, in \u001B[0;36mdeprecate_positional_args.<locals>.decorator.<locals>.wrapper\u001B[0;34m(*args, **kwargs)\u001B[0m\n\u001B[1;32m    162\u001B[0m     wanted \u001B[38;5;241m=\u001B[39m \u001B[38;5;124m'\u001B[39m\u001B[38;5;124m, \u001B[39m\u001B[38;5;124m'\u001B[39m\u001B[38;5;241m.\u001B[39mjoin(\u001B[38;5;124mf\u001B[39m\u001B[38;5;124m'\u001B[39m\u001B[38;5;132;01m{\u001B[39;00mname\u001B[38;5;132;01m}\u001B[39;00m\u001B[38;5;124m=\u001B[39m\u001B[38;5;132;01m{\u001B[39;00mvalue\u001B[38;5;132;01m!r}\u001B[39;00m\u001B[38;5;124m'\u001B[39m\n\u001B[1;32m    163\u001B[0m                        \u001B[38;5;28;01mfor\u001B[39;00m name, value \u001B[38;5;129;01min\u001B[39;00m deprecated\u001B[38;5;241m.\u001B[39mitems())\n\u001B[1;32m    164\u001B[0m     warnings\u001B[38;5;241m.\u001B[39mwarn(\u001B[38;5;124mf\u001B[39m\u001B[38;5;124m'\u001B[39m\u001B[38;5;124mThe signature of \u001B[39m\u001B[38;5;132;01m{\u001B[39;00mfunc\u001B[38;5;241m.\u001B[39m\u001B[38;5;18m__name__\u001B[39m\u001B[38;5;132;01m}\u001B[39;00m\u001B[38;5;124m will be reduced\u001B[39m\u001B[38;5;124m'\u001B[39m\n\u001B[1;32m    165\u001B[0m                   \u001B[38;5;124mf\u001B[39m\u001B[38;5;124m'\u001B[39m\u001B[38;5;124m to \u001B[39m\u001B[38;5;132;01m{\u001B[39;00msupported_number\u001B[38;5;132;01m}\u001B[39;00m\u001B[38;5;124m positional args\u001B[39m\u001B[38;5;124m'\u001B[39m\n\u001B[1;32m    166\u001B[0m                   \u001B[38;5;124mf\u001B[39m\u001B[38;5;124m'\u001B[39m\u001B[38;5;124m \u001B[39m\u001B[38;5;132;01m{\u001B[39;00m\u001B[38;5;28mlist\u001B[39m(supported)\u001B[38;5;132;01m}\u001B[39;00m\u001B[38;5;124m: pass \u001B[39m\u001B[38;5;132;01m{\u001B[39;00mwanted\u001B[38;5;132;01m}\u001B[39;00m\u001B[38;5;124m'\u001B[39m\n\u001B[1;32m    167\u001B[0m                   \u001B[38;5;124m'\u001B[39m\u001B[38;5;124m as keyword arg(s)\u001B[39m\u001B[38;5;124m'\u001B[39m,\n\u001B[1;32m    168\u001B[0m                   stacklevel\u001B[38;5;241m=\u001B[39mstacklevel,\n\u001B[1;32m    169\u001B[0m                   category\u001B[38;5;241m=\u001B[39mcategory)\n\u001B[0;32m--> 171\u001B[0m \u001B[38;5;28;01mreturn\u001B[39;00m \u001B[43mfunc\u001B[49m\u001B[43m(\u001B[49m\u001B[38;5;241;43m*\u001B[39;49m\u001B[43margs\u001B[49m\u001B[43m,\u001B[49m\u001B[43m \u001B[49m\u001B[38;5;241;43m*\u001B[39;49m\u001B[38;5;241;43m*\u001B[39;49m\u001B[43mkwargs\u001B[49m\u001B[43m)\u001B[49m\n",
      "File \u001B[0;32m/opt/conda/lib/python3.10/site-packages/graphviz/rendering.py:122\u001B[0m, in \u001B[0;36mRender.render\u001B[0;34m(self, filename, directory, view, cleanup, format, renderer, formatter, neato_no_op, quiet, quiet_view, outfile, engine, raise_if_result_exists, overwrite_source)\u001B[0m\n\u001B[1;32m    118\u001B[0m filepath \u001B[38;5;241m=\u001B[39m \u001B[38;5;28mself\u001B[39m\u001B[38;5;241m.\u001B[39msave(filename, directory\u001B[38;5;241m=\u001B[39mdirectory, skip_existing\u001B[38;5;241m=\u001B[39m\u001B[38;5;28;01mNone\u001B[39;00m)\n\u001B[1;32m    120\u001B[0m args\u001B[38;5;241m.\u001B[39mappend(filepath)\n\u001B[0;32m--> 122\u001B[0m rendered \u001B[38;5;241m=\u001B[39m \u001B[38;5;28;43mself\u001B[39;49m\u001B[38;5;241;43m.\u001B[39;49m\u001B[43m_render\u001B[49m\u001B[43m(\u001B[49m\u001B[38;5;241;43m*\u001B[39;49m\u001B[43margs\u001B[49m\u001B[43m,\u001B[49m\u001B[43m \u001B[49m\u001B[38;5;241;43m*\u001B[39;49m\u001B[38;5;241;43m*\u001B[39;49m\u001B[43mkwargs\u001B[49m\u001B[43m)\u001B[49m\n\u001B[1;32m    124\u001B[0m \u001B[38;5;28;01mif\u001B[39;00m cleanup:\n\u001B[1;32m    125\u001B[0m     log\u001B[38;5;241m.\u001B[39mdebug(\u001B[38;5;124m'\u001B[39m\u001B[38;5;124mdelete \u001B[39m\u001B[38;5;132;01m%r\u001B[39;00m\u001B[38;5;124m'\u001B[39m, filepath)\n",
      "File \u001B[0;32m/opt/conda/lib/python3.10/site-packages/graphviz/_tools.py:171\u001B[0m, in \u001B[0;36mdeprecate_positional_args.<locals>.decorator.<locals>.wrapper\u001B[0;34m(*args, **kwargs)\u001B[0m\n\u001B[1;32m    162\u001B[0m     wanted \u001B[38;5;241m=\u001B[39m \u001B[38;5;124m'\u001B[39m\u001B[38;5;124m, \u001B[39m\u001B[38;5;124m'\u001B[39m\u001B[38;5;241m.\u001B[39mjoin(\u001B[38;5;124mf\u001B[39m\u001B[38;5;124m'\u001B[39m\u001B[38;5;132;01m{\u001B[39;00mname\u001B[38;5;132;01m}\u001B[39;00m\u001B[38;5;124m=\u001B[39m\u001B[38;5;132;01m{\u001B[39;00mvalue\u001B[38;5;132;01m!r}\u001B[39;00m\u001B[38;5;124m'\u001B[39m\n\u001B[1;32m    163\u001B[0m                        \u001B[38;5;28;01mfor\u001B[39;00m name, value \u001B[38;5;129;01min\u001B[39;00m deprecated\u001B[38;5;241m.\u001B[39mitems())\n\u001B[1;32m    164\u001B[0m     warnings\u001B[38;5;241m.\u001B[39mwarn(\u001B[38;5;124mf\u001B[39m\u001B[38;5;124m'\u001B[39m\u001B[38;5;124mThe signature of \u001B[39m\u001B[38;5;132;01m{\u001B[39;00mfunc\u001B[38;5;241m.\u001B[39m\u001B[38;5;18m__name__\u001B[39m\u001B[38;5;132;01m}\u001B[39;00m\u001B[38;5;124m will be reduced\u001B[39m\u001B[38;5;124m'\u001B[39m\n\u001B[1;32m    165\u001B[0m                   \u001B[38;5;124mf\u001B[39m\u001B[38;5;124m'\u001B[39m\u001B[38;5;124m to \u001B[39m\u001B[38;5;132;01m{\u001B[39;00msupported_number\u001B[38;5;132;01m}\u001B[39;00m\u001B[38;5;124m positional args\u001B[39m\u001B[38;5;124m'\u001B[39m\n\u001B[1;32m    166\u001B[0m                   \u001B[38;5;124mf\u001B[39m\u001B[38;5;124m'\u001B[39m\u001B[38;5;124m \u001B[39m\u001B[38;5;132;01m{\u001B[39;00m\u001B[38;5;28mlist\u001B[39m(supported)\u001B[38;5;132;01m}\u001B[39;00m\u001B[38;5;124m: pass \u001B[39m\u001B[38;5;132;01m{\u001B[39;00mwanted\u001B[38;5;132;01m}\u001B[39;00m\u001B[38;5;124m'\u001B[39m\n\u001B[1;32m    167\u001B[0m                   \u001B[38;5;124m'\u001B[39m\u001B[38;5;124m as keyword arg(s)\u001B[39m\u001B[38;5;124m'\u001B[39m,\n\u001B[1;32m    168\u001B[0m                   stacklevel\u001B[38;5;241m=\u001B[39mstacklevel,\n\u001B[1;32m    169\u001B[0m                   category\u001B[38;5;241m=\u001B[39mcategory)\n\u001B[0;32m--> 171\u001B[0m \u001B[38;5;28;01mreturn\u001B[39;00m \u001B[43mfunc\u001B[49m\u001B[43m(\u001B[49m\u001B[38;5;241;43m*\u001B[39;49m\u001B[43margs\u001B[49m\u001B[43m,\u001B[49m\u001B[43m \u001B[49m\u001B[38;5;241;43m*\u001B[39;49m\u001B[38;5;241;43m*\u001B[39;49m\u001B[43mkwargs\u001B[49m\u001B[43m)\u001B[49m\n",
      "File \u001B[0;32m/opt/conda/lib/python3.10/site-packages/graphviz/backend/rendering.py:324\u001B[0m, in \u001B[0;36mrender\u001B[0;34m(engine, format, filepath, renderer, formatter, neato_no_op, quiet, outfile, raise_if_result_exists, overwrite_filepath)\u001B[0m\n\u001B[1;32m    320\u001B[0m     \u001B[38;5;28;01mraise\u001B[39;00m exceptions\u001B[38;5;241m.\u001B[39mFileExistsError(\u001B[38;5;124mf\u001B[39m\u001B[38;5;124m'\u001B[39m\u001B[38;5;124moutput file exists: \u001B[39m\u001B[38;5;132;01m{\u001B[39;00mos\u001B[38;5;241m.\u001B[39mfspath(outfile)\u001B[38;5;132;01m!r}\u001B[39;00m\u001B[38;5;124m'\u001B[39m)\n\u001B[1;32m    322\u001B[0m cmd \u001B[38;5;241m+\u001B[39m\u001B[38;5;241m=\u001B[39m args\n\u001B[0;32m--> 324\u001B[0m \u001B[43mexecute\u001B[49m\u001B[38;5;241;43m.\u001B[39;49m\u001B[43mrun_check\u001B[49m\u001B[43m(\u001B[49m\u001B[43mcmd\u001B[49m\u001B[43m,\u001B[49m\n\u001B[1;32m    325\u001B[0m \u001B[43m                  \u001B[49m\u001B[43mcwd\u001B[49m\u001B[38;5;241;43m=\u001B[39;49m\u001B[43mfilepath\u001B[49m\u001B[38;5;241;43m.\u001B[39;49m\u001B[43mparent\u001B[49m\u001B[43m \u001B[49m\u001B[38;5;28;43;01mif\u001B[39;49;00m\u001B[43m \u001B[49m\u001B[43mfilepath\u001B[49m\u001B[38;5;241;43m.\u001B[39;49m\u001B[43mparent\u001B[49m\u001B[38;5;241;43m.\u001B[39;49m\u001B[43mparts\u001B[49m\u001B[43m \u001B[49m\u001B[38;5;28;43;01melse\u001B[39;49;00m\u001B[43m \u001B[49m\u001B[38;5;28;43;01mNone\u001B[39;49;00m\u001B[43m,\u001B[49m\n\u001B[1;32m    326\u001B[0m \u001B[43m                  \u001B[49m\u001B[43mquiet\u001B[49m\u001B[38;5;241;43m=\u001B[39;49m\u001B[43mquiet\u001B[49m\u001B[43m,\u001B[49m\n\u001B[1;32m    327\u001B[0m \u001B[43m                  \u001B[49m\u001B[43mcapture_output\u001B[49m\u001B[38;5;241;43m=\u001B[39;49m\u001B[38;5;28;43;01mTrue\u001B[39;49;00m\u001B[43m)\u001B[49m\n\u001B[1;32m    329\u001B[0m \u001B[38;5;28;01mreturn\u001B[39;00m os\u001B[38;5;241m.\u001B[39mfspath(outfile)\n",
      "File \u001B[0;32m/opt/conda/lib/python3.10/site-packages/graphviz/backend/execute.py:84\u001B[0m, in \u001B[0;36mrun_check\u001B[0;34m(cmd, input_lines, encoding, quiet, **kwargs)\u001B[0m\n\u001B[1;32m     82\u001B[0m \u001B[38;5;28;01mexcept\u001B[39;00m \u001B[38;5;167;01mOSError\u001B[39;00m \u001B[38;5;28;01mas\u001B[39;00m e:\n\u001B[1;32m     83\u001B[0m     \u001B[38;5;28;01mif\u001B[39;00m e\u001B[38;5;241m.\u001B[39merrno \u001B[38;5;241m==\u001B[39m errno\u001B[38;5;241m.\u001B[39mENOENT:\n\u001B[0;32m---> 84\u001B[0m         \u001B[38;5;28;01mraise\u001B[39;00m ExecutableNotFound(cmd) \u001B[38;5;28;01mfrom\u001B[39;00m \u001B[38;5;21;01me\u001B[39;00m\n\u001B[1;32m     85\u001B[0m     \u001B[38;5;28;01mraise\u001B[39;00m\n\u001B[1;32m     87\u001B[0m \u001B[38;5;28;01mif\u001B[39;00m \u001B[38;5;129;01mnot\u001B[39;00m quiet \u001B[38;5;129;01mand\u001B[39;00m proc\u001B[38;5;241m.\u001B[39mstderr:\n",
      "\u001B[0;31mExecutableNotFound\u001B[0m: failed to execute PosixPath('dot'), make sure the Graphviz executables are on your systems' PATH"
     ]
    }
   ],
   "source": [
    "# wasn't able to get this working out of the box on UofT jupyterhub -- np\n",
    "# import graphviz \n",
    "#dot_data = tree.export_graphviz(clf, out_file=None) \n",
    "#graph = graphviz.Source(dot_data) \n",
    "#graph.render(\"HorP\") "
   ]
  }
 ],
 "metadata": {
  "kernelspec": {
   "display_name": "Python 3 (ipykernel)",
   "language": "python",
   "name": "python3"
  },
  "language_info": {
   "codemirror_mode": {
    "name": "ipython",
    "version": 3
   },
   "file_extension": ".py",
   "mimetype": "text/x-python",
   "name": "python",
   "nbconvert_exporter": "python",
   "pygments_lexer": "ipython3",
   "version": "3.10.8"
  }
 },
 "nbformat": 4,
 "nbformat_minor": 5
}
