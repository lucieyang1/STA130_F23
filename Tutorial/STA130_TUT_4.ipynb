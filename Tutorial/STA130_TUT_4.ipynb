{
 "cells": [
  {
   "cell_type": "markdown",
   "id": "e046f0a2",
   "metadata": {
    "slideshow": {
     "slide_type": "slide"
    }
   },
   "source": [
    "# STA130 Tutorial 3 (with \\<Your Favorite TA\\>): Bootstrapping\n",
    "Today we're interested in how well samples approximate parameters!\n",
    "![](im/4/garfield_confint.png)"
   ]
  },
  {
   "cell_type": "markdown",
   "id": "070f797a",
   "metadata": {
    "slideshow": {
     "slide_type": "slide"
    }
   },
   "source": [
    "## Confidence Interval Widths (15 mins) [Click \"down\" next]\n",
    "Compare:\n",
    "- \"We have 99% confidence that tomorrow's high temperature will be between -40 and 200 degrees!\"\n",
    "- \"We have 70% confidence that tomorrow's high temperature will be between 10 and 20 degrees!\"\n",
    "\n",
    "> At a fixed confidence level, narrower intervals are more meaningful and therefore more likely actionable"
   ]
  },
  {
   "cell_type": "markdown",
   "id": "332e983f",
   "metadata": {
    "slideshow": {
     "slide_type": "subslide"
    }
   },
   "source": [
    "#### Confidence Interval Widths (continued...) [Click \"down\" next]\n",
    "### Full Class Discussion: How Do We Get Narrower Confidence Intervals?\n",
    "- `n` is the size of the sample used for bootstrapping\n",
    "![](im/4/confint_width_graph.JPG)"
   ]
  },
  {
   "cell_type": "markdown",
   "id": "b97317ac",
   "metadata": {
    "slideshow": {
     "slide_type": "subslide"
    }
   },
   "source": [
    "#### Confidence Interval Widths (continued...) [Click \"down\" next]\n",
    "### Full Class Discussion: How does the variation and skew of sample means change with sample size?\n",
    "The Sampling Distribution of $\\bar x$ VS Skewness \n",
    "![](im/4/sampling_dist_graphs.JPG)"
   ]
  },
  {
   "cell_type": "markdown",
   "id": "75a11406",
   "metadata": {
    "slideshow": {
     "slide_type": "slide"
    }
   },
   "source": [
    "# Tutorial Activity: Quiz (15 mins) [Click \"down\" next]\n",
    "*Turn this in for your Tutorial Activity mark*\n",
    "> - Question credit for attempting to provide an answer: answers will not be reviewed in detail during marking   \n",
    "\n",
    "0. What's your name?\n",
    "1. What is the difference between a statistic and a parameter?  \n",
    "2. What is the purpose of bootstrapping?\n",
    "3. When bootstrapping a sampling distribution, should we sample with replacement? <!-- Yes -->\n",
    "4. Describe what the code below does. Assume `x` is a numpy array of numbers.\n",
    "```python\n",
    "boot_sample = np.random.choice(x, 500)\n",
    "```\n",
    "5. Suppose we want to simulate bootstrap samples and calculate the median of the original sample `orig_sample`. Assume that the size of `orig_sample` is 222. Should we set the size of each bootstrapped sample to be less than, greater than, or equal to 222? <!-- 222 -->\n",
    "6. Write code to return the 80% confidence interval. Assume we already have the bootstrapped medians in `boot_medians`. <!--np.quantile(boot_medians, (0.1, 0.9)) -->\n",
    "7. Suppose our 80% confidence interval for the code in `Q5` was (0.62, 0.93). Interpret its meaning.\n",
    "8. If we want to be more confident in capturing the true median, should we use a larger or smaller confidence interval?\n",
    "9. If we repeat the bootstrapping procedure 100 times, how many times would we expect to return a 80% confidence interval that captures the true median?"
   ]
  },
  {
   "cell_type": "markdown",
   "id": "6b180acc",
   "metadata": {
    "slideshow": {
     "slide_type": "subslide"
    }
   },
   "source": [
    "# Tutorial Activity: Quiz Review (10 mins)\n",
    "\n",
    "- Review the quiz and address any open questions or concerns\n",
    "\n",
    "1. A statistic is calculated from a sample, whereas a parameter is calculated from a population\n",
    "2. To estimate parameters and their sampling distributions from a sample\n",
    "3. Yes, to get variability in bootstrap samples\n",
    "4. It generates a bootstrap sample of 500 from the \"population\" `x`, with replacement\n",
    "5. Equal to 222, we want the size of bootstrap samples to match the size of the original sample\n",
    "6. `np.quantile(boot_medians, (0.1, 0.9))\n",
    "7. There is an 80% chance that this 80% confidence interval construction procedure captured the true median\n",
    "8. Larger\n",
    "9. Close to 80"
   ]
  },
  {
   "cell_type": "markdown",
   "id": "48f3bcee",
   "metadata": {
    "slideshow": {
     "slide_type": "slide"
    }
   },
   "source": [
    "# Hedging (10 mins)\n",
    "Hedging is helpful whenever you can’t say something is 100% one way or another, as is often the case.\n",
    "In statistics, hedging should always be used with respect to the limitations of data and the strength and\n",
    "generalizability of the conclusions.\n",
    "\n",
    "Play this video for students: [https://web.microsoftstream.com/video/22f20d20-f096-4934-bfb4-86c0caf9da85](https://web.microsoftstream.com/video/22f20d20-f096-4934-bfb4-86c0caf9da85)\n",
    "\n",
    "> We hope a **sample** is representative of a **population**; but, small sample sizes mean generalizations -- such as the accuracy of **sample statistics** estimating **population parameters** -- should be viewed cautiously and not be used overconfidently"
   ]
  },
  {
   "cell_type": "markdown",
   "id": "d8d5903e",
   "metadata": {},
   "source": [
    "# Practice/Discussion (20-30 mins)\n",
    "*not sure what to put here*"
   ]
  },
  {
   "cell_type": "markdown",
   "id": "a3d8c362",
   "metadata": {
    "slideshow": {
     "slide_type": "slide"
    }
   },
   "source": [
    "## Tutorial Assignment (get started...) *[next click is down not right]*\n",
    "\n",
    "- Submit your work for the assignment through Quercus\n",
    "\n",
    "- Don't spend more than 60 minutes on this assignment (unless really needed...)    \n",
    "\n",
    "    - Aim for something close to 200 to 500 words\n",
    "    - Grammar is *not* the main focus of the assessment, but it is important that you communicate in a clear and professional manner; so, \n",
    "        - use full sentences (without slang or emojis) \n",
    "    \n",
    "\n",
    "\n"
   ]
  },
  {
   "cell_type": "markdown",
   "id": "51153b4f",
   "metadata": {
    "slideshow": {
     "slide_type": "subslide"
    }
   },
   "source": [
    "## Tutorial Assignment *[next click is down not right]* \n",
    "\n",
    "### <div align=\"center\"> Vocabulary:</div>\n",
    "\n",
    "| | | |\n",
    "|-|-|-|\n",
    "|Parameter |Statistic |Population |        \n",
    "|Sample |Sampling distribution |Random sampling |     \n",
    "|Resampling |Bootstrap |Percentile (quantile) |         \n",
    "|Confidence interval |Confidence level |Estimation |      \n",
    "|Representative  | | | "
   ]
  },
  {
   "cell_type": "markdown",
   "id": "dd2860c1",
   "metadata": {
    "slideshow": {
     "slide_type": "subslide"
    }
   },
   "source": [
    "## Tutorial Assignment (complete at home if needed)\n",
    "\n",
    "You are once again chatting on the phone to your friend. Your friend enjoyed your previous conversation about data visualization so much that your friend asked you if you had learned anything new in your STA130 course. You decided to tell them about the fancy new technique you just learned: <mark>bootstrapping</mark>! Be sure to include at least 2 vocabulary words from this week and explain them in simple terms for a lay audience."
   ]
  }
 ],
 "metadata": {
  "celltoolbar": "Slideshow",
  "kernelspec": {
   "display_name": "Python 3 (ipykernel)",
   "language": "python",
   "name": "python3"
  },
  "language_info": {
   "codemirror_mode": {
    "name": "ipython",
    "version": 3
   },
   "file_extension": ".py",
   "mimetype": "text/x-python",
   "name": "python",
   "nbconvert_exporter": "python",
   "pygments_lexer": "ipython3",
   "version": "3.10.8"
  }
 },
 "nbformat": 4,
 "nbformat_minor": 5
}
