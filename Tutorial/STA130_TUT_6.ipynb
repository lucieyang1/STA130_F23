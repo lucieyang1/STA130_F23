{
 "cells": [
  {
   "cell_type": "markdown",
   "id": "0c21f68c",
   "metadata": {
    "slideshow": {
     "slide_type": "slide"
    }
   },
   "source": [
    "# STA130 Tutorial 6 (with \\<Your Favorite TA\\>): <br>Two Sample Hypothesis Testing"
   ]
  },
  {
   "cell_type": "markdown",
   "id": "ee5fb960",
   "metadata": {
    "slideshow": {
     "slide_type": "slide"
    }
   },
   "source": [
    "# Today's agenda (5 minutes)\n",
    "\n",
    "- Two-sample Hypothesis testing lecture/example: Gratitude Journaling\n",
    "\n",
    "    - **Parameters** versus **Statistics**, **independent** samples, etc.\n",
    "\n",
    "- Group Presentations\n",
    "\n",
    "- Gender Disparity Readings"
   ]
  },
  {
   "cell_type": "markdown",
   "id": "fcfa454f",
   "metadata": {
    "slideshow": {
     "slide_type": "slide"
    }
   },
   "source": [
    "### Gratitude Journaling (5 minutes) *[click down...]*\n",
    "**Skip over the videos and links for now**  \n",
    "\n",
    "There are multiple studies exploring the relationship between gratitude journaling and life satisfaction, mental health, adjusting to university and more. An example of gratitude journaling is writing down three things that you are thankful for at the end of the day. We might all be able to benefit from this science-backed way to live more satisfying lives. To learn more, check out this 10-minute video [An antidote to dissatisfaction](https://www.youtube.com/watch?v=WPPPFqsECz0) from the Kurzgesagt YouTube channel.  To hear a little bit more about mental health more generally, check out this 20-minute TED talk [This could be why you're depressed or anxious](https://www.ted.com/talks/johann_hari_this_could_be_why_you_re_depressed_or_anxious?language=en) by Johann Hari."
   ]
  },
  {
   "cell_type": "markdown",
   "id": "9469c0c8",
   "metadata": {
    "slideshow": {
     "slide_type": "subslide"
    }
   },
   "source": [
    "The data this week is synthetic, but is loosely based on a study of students in their first year of a five-year college in Turkey. Specifically, 61 Turkish students in their first year of college were randomly assigned to either practice gratitude journaling for three weeks (treatment group, n=30) or to write down a factual account of their day for three weeks (control group, n=31). At the end of the three week period, their life satisfaction (on a scale from 0 to 100) was measured as was their adjustment to university life (on a scale from 48 to 336, where scores over 144 are considered to indicate successful adjustment while scores lower than this indicate difficulties with adjusting). To read more about the study, you can read the original [article](https://link.springer.com/article/10.1007/s10447-017-9289-8)."
   ]
  },
  {
   "cell_type": "code",
   "execution_count": null,
   "id": "42b72180",
   "metadata": {},
   "outputs": [],
   "source": [
    "import pandas as pd\n",
    "gratitude = pd.read_csv(\"gratitude.csv\", encoding=\"ISO-8859-1\"); gratitude"
   ]
  },
  {
   "cell_type": "code",
   "execution_count": null,
   "id": "9925f1ad",
   "metadata": {
    "slideshow": {
     "slide_type": "-"
    }
   },
   "outputs": [],
   "source": [
    "print(gratitude.isnull().sum())  # check for missing data\n",
    "gratitude = gratitude.dropna()  # technically no change as no missing data"
   ]
  },
  {
   "cell_type": "markdown",
   "id": "8a2aa21b",
   "metadata": {
    "slideshow": {
     "slide_type": "slide"
    }
   },
   "source": [
    "## Tutorial Activity I: Thinking about two-sample hypothesis testing (5 minutes)\n",
    "0. How could we examine the effectiveness of gratitude journaling?\n",
    "1. What is the null hypothesis in two-sample context? Hint: Involves statistics for multiple groups\n",
    "2. (*As class*) Discuss how `LINE 2` and `LINE 4` in the code below calculates our test statistic, and how it differs from a one-sample problem"
   ]
  },
  {
   "cell_type": "code",
   "execution_count": null,
   "id": "52eff612",
   "metadata": {},
   "outputs": [],
   "source": [
    "import numpy as np\n",
    "adjust_college_means = gratitude.groupby('treatment')[\"adjust_college\"].mean()  # LINE 2\n",
    "print(adjust_college_means)\n",
    "observed_test_statistic = np.diff(adjust_college_means)  # LINE 4\n",
    "observed_test_statistic_numeric = observed_test_statistic[0]  # convert to number\n",
    "print('\\nOur observed test statistic is ' + str(observed_test_statistic_numeric))"
   ]
  },
  {
   "cell_type": "markdown",
   "id": "2dc62d54",
   "metadata": {
    "slideshow": {
     "slide_type": "slide"
    }
   },
   "source": [
    "#### Sample Answer:\n",
    "- Two sample hypothesis test!\n",
    "- We can use the `treatment` and `control` groups to form our two samples\n",
    "\n",
    "> Let's work with the means ($\\mu$) for each group\n",
    "\n",
    "$$\n",
    "\\begin{align}\n",
    "H_0 &{}: {} \\mu_{treatment} = \\mu_{control} \\quad\\text{mean adjust_college of control and treatment are equal}\\\\\n",
    "H_1 &:{} \\mu_{treatment} \\neq \\mu_{control} \\quad\\text{mean adjust_college of control and treatment are not equal}\n",
    "\\end{align}\n",
    "$$\n",
    "\n",
    "Our test statistic would still be a single value, but now the calculated **difference** between the means of each group"
   ]
  },
  {
   "cell_type": "markdown",
   "id": "1b5413f0",
   "metadata": {
    "slideshow": {
     "slide_type": "slide"
    }
   },
   "source": [
    "## Tutorial Activity II: Data Distribution and Taking Samples (10 minutes)\n",
    "The distplot below helps us visualize the *data distribution* of `adjust_college` scores for each group.  \n",
    "\n",
    "3. Does it appear gratitude journalling is effective? Why?"
   ]
  },
  {
   "cell_type": "code",
   "execution_count": null,
   "id": "ca167a33",
   "metadata": {},
   "outputs": [],
   "source": [
    "import plotly.figure_factory as ff\n",
    "gratitude_data = [gratitude.adjust_college[gratitude.treatment=='treatment'],  # Group data by treatment type\n",
    "             gratitude.adjust_college[gratitude.treatment=='control']]\n",
    "group_labels = ['treatment', 'control']\n",
    "fig = ff.create_distplot(gratitude_data, group_labels, bin_size = 8)\n",
    "fig.update_layout(xaxis_title = \"adjust_college\"); fig.show()"
   ]
  },
  {
   "cell_type": "markdown",
   "id": "5873efcf",
   "metadata": {
    "slideshow": {
     "slide_type": "slide"
    }
   },
   "source": [
    "4. How do we take samples from the population?  \n",
    "   - Would this be independent or dependent sampling?  \n",
    "   - What would a *sampling distribution* look like for `adjust_college` scores?  "
   ]
  },
  {
   "cell_type": "markdown",
   "id": "b2ab68a6",
   "metadata": {
    "slideshow": {
     "slide_type": "fragment"
    }
   },
   "source": [
    "#### Sample Answer:\n",
    "- By the assumption of the null hypothesis, there is no difference between $\\mu_{treatment}$ and $\\mu_{control}$\n",
    "    - Treatment type gives no indication on `adjust_college` scores\n",
    "    - To get an *independent* sample, we can shuffle these labels randomly in our given population"
   ]
  },
  {
   "cell_type": "code",
   "execution_count": null,
   "id": "8c337b8f",
   "metadata": {
    "slideshow": {
     "slide_type": "slide"
    }
   },
   "outputs": [],
   "source": [
    "np.random.seed(130)\n",
    "gratitude_copy = gratitude.copy()  # work on a copy to preserve original data\n",
    "gratitude_copy.treatment = gratitude.treatment.sample(frac=1).values  # .values is crucial so \n",
    "# values don't become unshuffled on assignment\n",
    "gratitude_copy.head()  # notice how treatment column is different!"
   ]
  },
  {
   "cell_type": "code",
   "execution_count": null,
   "id": "981474a5",
   "metadata": {},
   "outputs": [],
   "source": [
    "gratitude_copy.groupby('treatment').size()  # verify only treatment labels were shuffled, \n",
    "# we still have 31 control and 30 treatment"
   ]
  },
  {
   "cell_type": "code",
   "execution_count": null,
   "id": "5594fac8",
   "metadata": {
    "slideshow": {
     "slide_type": "skip"
    }
   },
   "outputs": [],
   "source": [
    "def A(): np.random.seed(1)\n",
    "def B(): return 1000\n",
    "def C(): return []\n",
    "def D(): return gratitude.treatment.sample(frac=1).values\n",
    "def E(): return gratitude_copy.groupby('treatment')[\"adjust_college\"].mean()\n",
    "def F(x: pd.core.series.Series): return np.diff(x)[0]"
   ]
  },
  {
   "cell_type": "markdown",
   "id": "71d557d9",
   "metadata": {
    "slideshow": {
     "slide_type": "slide"
    }
   },
   "source": [
    "## Simulating Sampling Distribution (10 minutes)\n",
    "The nonparametric permutation test for two samples resembles the one-sample permutation test, with exceptions to how our sample is taken and our calculation for the test statistic (under assumption null hypothesis is true)\n",
    "\n",
    "As a class, fill in the `...` in the code block below with the letters below (including the `()` after the letter) to complete the sampling distribution simulation\n",
    "- `A(): np.random.seed(1)`\n",
    "- `B(): 1000`\n",
    "- `C(): []`\n",
    "- `D(): gratitude.treatment.sample(frac=1).values`\n",
    "- `E(): gratitude_copy.groupby('treatment')[\"adjust_college\"].mean()`\n",
    "- `F(): np.diff(...)[0]`"
   ]
  },
  {
   "cell_type": "code",
   "execution_count": null,
   "id": "a35272c1",
   "metadata": {},
   "outputs": [],
   "source": [
    "try:  # ignore the try-except, just so all cells can be run at beginning\n",
    "    ...\n",
    "    difference_in_means = ...\n",
    "    for i in range(...):\n",
    "        gratitude_copy.treatment = ...\n",
    "        difference_in_means += [...] \n",
    "except TypeError: pass"
   ]
  },
  {
   "cell_type": "code",
   "execution_count": null,
   "id": "0aba7f62",
   "metadata": {
    "slideshow": {
     "slide_type": "slide"
    }
   },
   "outputs": [],
   "source": [
    "# SOLUTION\n",
    "A()\n",
    "difference_in_means = C()\n",
    "for i in range(B()):\n",
    "    gratitude_copy.treatment = D()\n",
    "    difference_in_means += [F(E())]"
   ]
  },
  {
   "cell_type": "code",
   "execution_count": null,
   "id": "86fb3cc5",
   "metadata": {
    "slideshow": {
     "slide_type": "notes"
    }
   },
   "outputs": [],
   "source": [
    "np.random.seed(1); num_samples = 1000; difference_in_means = []  # record test statistic\n",
    "for i in range(num_samples):\n",
    "    gratitude_copy.treatment = gratitude.treatment.sample(frac=1).values  # same shuffle as above\n",
    "    difference_in_means += [np.diff(gratitude_copy.groupby('treatment')[\"adjust_college\"].mean())[0]]  # treatment-control"
   ]
  },
  {
   "cell_type": "code",
   "execution_count": null,
   "id": "31d4db40",
   "metadata": {
    "scrolled": true,
    "slideshow": {
     "slide_type": "-"
    }
   },
   "outputs": [],
   "source": [
    "import plotly.express as px\n",
    "fig = px.histogram(pd.DataFrame({'Difference in Means': difference_in_means}), x='Difference in Means')\n",
    "fig.update_layout(title='$$\\\\text{Sampling Distribution of } \\mu_{treatment} - \\mu_{control}$$'); \n",
    "fig.add_vline(x=np.quantile(difference_in_means,(0.05, .95))[0], line_dash = 'dash', line_color = 'red', \n",
    "              annotation_text = '90% confidence interval')\n",
    "fig.add_vline(x=np.quantile(difference_in_means,(0.05, .95))[1], line_dash = 'dash', line_color = 'red', \n",
    "              annotation_text = '90% confidence interval')\n",
    "fig.show()\n",
    "print(\"90% confidence interval for the difference in means\", np.quantile(difference_in_means,(0.05, .95)))"
   ]
  },
  {
   "cell_type": "markdown",
   "id": "862b0cc6",
   "metadata": {
    "slideshow": {
     "slide_type": "slide"
    }
   },
   "source": [
    "## Follow up on Graph\n",
    "- Data should appear centered at 0 - as expected under assumption of null hypothesis!\n",
    "- We can tie our simulated sampling distribution back to confidence intervals!\n",
    "    5. What does the 90% confidence interval tell us?\n",
    "    6. How can we shrink the range of this interval?"
   ]
  },
  {
   "cell_type": "markdown",
   "id": "4aa883d0",
   "metadata": {
    "slideshow": {
     "slide_type": "fragment"
    }
   },
   "source": [
    "### Sample Solution\n",
    "- For a 90% confidence interval, we are 90% confident that the true difference in means is captured in the interval of the difference in means from -16.060 to 15.988\n",
    "- To shrink this interval's range, we can tighten the interval, resulting in a lower confidence level\n",
    "- Alternatively we could take more samples (more data, tighter estimate, better inference). Diminishing returns concern?"
   ]
  },
  {
   "cell_type": "code",
   "execution_count": null,
   "id": "ed0e6970",
   "metadata": {
    "slideshow": {
     "slide_type": "skip"
    }
   },
   "outputs": [],
   "source": [
    "from typing import Any\n",
    "def G(): return np.array(difference_in_means)\n",
    "def H(): return observed_test_statistic_numeric\n",
    "def I(x: Any): return abs(x)"
   ]
  },
  {
   "cell_type": "markdown",
   "id": "faf218f8",
   "metadata": {
    "slideshow": {
     "slide_type": "slide"
    }
   },
   "source": [
    "## P-value calculation and null hypothesis conclusion (10 minutes)\n",
    "As a class, fill in the `...` in the code block below with the letters below (including the `()` after the letter) and any other required functions to complete the p-value calculation for our observed test statistic of 37.779...\n",
    "- `G(): np.array(difference_in_means)`\n",
    "- `H(): observed_test_statistic_numeric`\n",
    "- `I(): abs(...)`"
   ]
  },
  {
   "cell_type": "code",
   "execution_count": null,
   "id": "735b4dd3",
   "metadata": {},
   "outputs": [],
   "source": [
    "num_as_or_more_extreme = ...\n",
    "p_value = ..."
   ]
  },
  {
   "cell_type": "code",
   "execution_count": null,
   "id": "73f36a5e",
   "metadata": {
    "slideshow": {
     "slide_type": "fragment"
    }
   },
   "outputs": [],
   "source": [
    "# SOLUTION\n",
    "num_as_or_more_extreme = (I(G()) >= I(H())).sum()\n",
    "p_value = num_as_or_more_extreme / B()\n",
    "print(str(num_as_or_more_extreme) + ' sample statistics out of ' + str(B()) + \n",
    "    ' were as or more extreme than our observed test statistic of ' + str(H()) + \n",
    "    '\\ngiving us a p-value of ' + str(p_value))"
   ]
  },
  {
   "cell_type": "code",
   "execution_count": null,
   "id": "a4071175",
   "metadata": {
    "slideshow": {
     "slide_type": "notes"
    }
   },
   "outputs": [],
   "source": [
    "# our observed test stat was 37.7796...\n",
    "num_as_or_more_extreme = \\\n",
    "  (abs(np.array(difference_in_means)) >= abs(observed_test_statistic_numeric)).sum()\n",
    "p_value = num_as_or_more_extreme / num_samples\n",
    "print(str(num_as_or_more_extreme) + ' sample statistics out of ' + str(num_samples) + \n",
    "    ' were as or more extreme than our observed test statistic of ' + str(observed_test_statistic_numeric) + \n",
    "    '\\ngiving us a p-value of ' + str(p_value))"
   ]
  },
  {
   "cell_type": "markdown",
   "id": "d935d344",
   "metadata": {
    "slideshow": {
     "slide_type": "slide"
    }
   },
   "source": [
    "### Conclusion?\n",
    "<img src=\"https://www.jcpcarchives.org/userfiles/values-of-p-Inference.jpg\" style=\"height: 700px; width: 1400px\"/>"
   ]
  },
  {
   "cell_type": "markdown",
   "id": "1aa665dd",
   "metadata": {
    "slideshow": {
     "slide_type": "slide"
    }
   },
   "source": [
    "## Some theoretical parametric and non-parametric test alternatives from last week ... but in two sample context! (5 minutes)"
   ]
  },
  {
   "cell_type": "markdown",
   "id": "82eaa24f",
   "metadata": {
    "slideshow": {
     "slide_type": "slide"
    }
   },
   "source": [
    "### Two-sample ttest\n",
    "- Null hypothesis: means of two independent samples are the same\n",
    "- Parametric, each independent sample is drawn from a theoretical normal population"
   ]
  },
  {
   "cell_type": "code",
   "execution_count": null,
   "id": "db214769",
   "metadata": {},
   "outputs": [],
   "source": [
    "fig = ff.create_distplot(gratitude_data, group_labels, bin_size = 8, curve_type = 'normal')  # add a normal distribution curve\n",
    "fig.update_layout(xaxis_title = \"adjust_college\"); fig.show()"
   ]
  },
  {
   "cell_type": "code",
   "execution_count": null,
   "id": "f1c9d563",
   "metadata": {
    "scrolled": true,
    "slideshow": {
     "slide_type": "-"
    }
   },
   "outputs": [],
   "source": [
    "from scipy import stats\n",
    "stats.ttest_ind(gratitude.adjust_college[gratitude.treatment=='treatment'],\n",
    "               gratitude.adjust_college[gratitude.treatment=='control'])"
   ]
  },
  {
   "cell_type": "markdown",
   "id": "cce82e69",
   "metadata": {
    "slideshow": {
     "slide_type": "slide"
    }
   },
   "source": [
    "## Nonparametric Median test\n",
    "> Now working with medians instead of $\\mu$\n",
    "\n",
    "$$\n",
    "\\begin{align}\n",
    "H_0 &{}: {} median_{treatment} = median_{control} \\quad\\text{median adjust_college of control and treatment are equal}\\\\\n",
    "H_1 &:{} median_{treatment} \\neq median_{control} \\quad\\text{median adjust_college of control and treatment are not equal}\n",
    "\\end{align}\n",
    "$$\n"
   ]
  },
  {
   "cell_type": "code",
   "execution_count": null,
   "id": "e28c6ebd",
   "metadata": {},
   "outputs": [],
   "source": [
    "stats.median_test(gratitude.adjust_college[gratitude.treatment=='treatment'], \n",
    "                  gratitude.adjust_college[gratitude.treatment=='control'])"
   ]
  },
  {
   "cell_type": "markdown",
   "id": "8110684e",
   "metadata": {
    "slideshow": {
     "slide_type": "slide"
    }
   },
   "source": [
    "(As class) Consider the null hypothesis and respective p-values for these tests. Do they align with our conclusion for our nonparametric permuatation test?"
   ]
  },
  {
   "cell_type": "markdown",
   "id": "10fb68f8",
   "metadata": {
    "slideshow": {
     "slide_type": "fragment"
    }
   },
   "source": [
    "#### Sample Solution\n",
    "- Both p-values are very small, provide good evidence against their respective null hypothesis\n",
    "- We have strong evidence that the mean/median `adjust_college` of control and treatment groups are different"
   ]
  },
  {
   "cell_type": "markdown",
   "id": "9a786fcc",
   "metadata": {
    "slideshow": {
     "slide_type": "slide"
    }
   },
   "source": [
    "## Vocabulary Review (10 min max, skip if all clear)\n",
    "\n",
    "- statistical inference   \n",
    "- population    \n",
    "- assumptions    \n",
    "- random sample  \n",
    "- independent, dependent sample   \n",
    "- sampling distribution   \n",
    "- one and two-sample hypothesis tests\n",
    "- permutation tests  \n",
    "- simulation  \n",
    "- parameter  \n",
    "- simulation statistic   \n",
    "- test statistic  \n",
    "- p-value  \n",
    "- parametric, nonparametric  "
   ]
  },
  {
   "cell_type": "markdown",
   "id": "fa1600b7",
   "metadata": {
    "slideshow": {
     "slide_type": "slide"
    }
   },
   "source": [
    "## Code/Functions Review (5 min max, skip if all clear)\n",
    "- `numpy.random.seed()`  \n",
    "- `numpy.random.choice()`  \n",
    "- `(sample == 'H').sum()`  \n",
    "- `(abs(...) >= abs(...)).sum()`  \n",
    "- `numpy.diff()`  \n",
    "- `dataframe.groupby()`  \n",
    "- `dataframe.column.sample(frac=1).values`  \n",
    "- `series.mean()`, `series.median()`, `series.std()`  "
   ]
  },
  {
   "cell_type": "markdown",
   "id": "7f431a2d",
   "metadata": {
    "slideshow": {
     "slide_type": "slide"
    }
   },
   "source": [
    "# MOVE TO ANOTHER WEEK?\n",
    "## Gender Disparity Paper\n",
    "*I will post the following material on Quercus in advance for students to access*  \n",
    "\n",
    "Prior to this tutorial, students should have reviewed the videos on Plagiarism and Hedging\n",
    "Please read the following article: Ross et al. (2022) “Women are Credited Less in Science than are Men”.\n",
    "This article is available on quercus(**LINK LATER**) and the [paper online.](https://www.nature.com/articles/s41586-022-04966-w.) Consider reading everything up to [\"Ethical approval\"](https://www.nature.com/articles/s41586-022-04966-w#Sec7) section. Everything after is more information about the author's study that you're welcome to read at your own interest.\n",
    "\n",
    "(If you don’t yet know how to get access to a journal article through UT library, it’s a good time to ask for\n",
    "help from your TA or your peers.)\n",
    "\n",
    "Once you have watched the videos and read the artcile, you will prepare a 10-min group presentation providing\n",
    "a summary of the above study.\n",
    "\n"
   ]
  },
  {
   "cell_type": "markdown",
   "id": "957adfe7",
   "metadata": {
    "slideshow": {
     "slide_type": "slide"
    }
   },
   "source": [
    "# MOVE TO ANOTHER WEEK?\n",
    "### Make sure you explain the following, at a minimum:\n",
    "- Objective: What are the authors interested in studying? Why is it important to conduct this study?\n",
    "- Methods: What type of study design is used? Who are the participants? What statistical tests are used?\n",
    "- Results: What are the main findings of the study? Make sure you support any statements with facts (e.g. proportions, p-values, etc.), and present the results in the context of the study.\n",
    "- Conclusions: What are the most important take away messages to you? Are there any important limitations or future directions?\n",
    "\n",
    "### Some things to keep in mind\n",
    "- The introduction should state the overall purpose of the presentation\n",
    "- Each main point should be “signaled.” Use signal phrases or signposts to transition between your points.\n",
    "- Every group member must speak during the presentation or marks will be deducted for participation.\n"
   ]
  },
  {
   "cell_type": "markdown",
   "id": "d825f9a0",
   "metadata": {
    "slideshow": {
     "slide_type": "slide"
    }
   },
   "source": [
    "# Group Presentation (Remaining Time) :\n",
    "> Presentations begin at the start of the next tutorial! Use this time to introduce scenarios, form groups, come up with plan...\n",
    "\n",
    "*I will post the following material on Quercus in advance for students to access*\n",
    "\n",
    "You are an amateur data detective that reads studies in your free time and checks whether the researchers conform to academic integrity. Here are some studies that you recently found. Identify the hypotheses (One-Group or Two-Group) of the researchers and describe how you could validate the findings using a simulation test. Make a presentation on your hypothesis test.\n",
    "\n",
    "### 5 SCENARIOS: (continued below) *[click down...]*"
   ]
  },
  {
   "cell_type": "markdown",
   "id": "443b62f5",
   "metadata": {
    "slideshow": {
     "slide_type": "subslide"
    }
   },
   "source": [
    "(a) A health survey asked 200 individuals aged 20-45 living in Toronto to report the number minutes they exercised last week. Researchers were interested in determining whether the average duration of exercise differed between people who consume cannabis and those who do not consume cannabis. Assume the researchers who conducted this study found that people who used cannabis exercised, on average, 20 minutes per week. In contrast, people who did not use cannabis exercised 40 minutes per week, on average. The researchers reported a p-value of 0.249."
   ]
  },
  {
   "cell_type": "markdown",
   "id": "5b08b729",
   "metadata": {
    "slideshow": {
     "slide_type": "subslide"
    }
   },
   "source": [
    "(b) A study was conducted to examine whether a mother's exposure to alcohol while she was pregnant affects the odds of developemntal disabilities. The researchers used a birth registry of all children born in Ontario in 2018, which included approximately 130,000 births. The researchers found that 0.6% of mothers reported that their babies have developmental disabilities and 56% of babies born to mothers who consumed alcohol at least once during pregnancy. In contrast, 55% of healthy babies were born to mothers who were not exposed to alcohol. The researchers reported a p-value of 0.50."
   ]
  },
  {
   "cell_type": "markdown",
   "id": "ec2d29b7",
   "metadata": {
    "slideshow": {
     "slide_type": "subslide"
    }
   },
   "source": [
    "(c) A group of researchers wanted to find out whether completing a degree in Statistics is a worthy inverstment for an individual. They conducted a survey of graduates from the University of Toronto and included 1,000 recent graduates who completed their Bachelor’s degree in the last five years in the study; 80% of the respondents were female and 20% were male.The median reported income of a UofT graduate was \\\\$76,000. Among statistics graduates, the median reported income was \\\\$84,000. The researchers reported a p-value of 0.014."
   ]
  },
  {
   "cell_type": "markdown",
   "id": "3ee658e9",
   "metadata": {
    "slideshow": {
     "slide_type": "subslide"
    }
   },
   "source": [
    "(d) A team of researchers were interested in understanding millennial’s views regarding housing affordability in Toronto. The team interviewed 850 millennials currently living in Toronto. 84% reported that they felt housing prices were unaffordable in the city. Suppose the researchers were interested in testing whether this proportion was different from a study published last year, which found that 92% of millennials reported that housing costs were unaffordable. The researchers reported a p-value of 0.023."
   ]
  },
  {
   "cell_type": "markdown",
   "id": "4bc761e4",
   "metadata": {
    "slideshow": {
     "slide_type": "subslide"
    }
   },
   "source": [
    "(e) Suppose a drug company was interested in testing a new weight-loss drug. They enrolled 20,000 participants and assigned 10,000 to take their new drug, SlimX, and 10,000 to take a placebo. The researchers found that over 2 months, participants who took SlimX lost, on average, 5 lbs. In comparison, the control group lost 4.5 lbs during the same time. The researchers reported a p-value of <0.0001."
   ]
  },
  {
   "cell_type": "markdown",
   "id": "f895fcdf",
   "metadata": {
    "slideshow": {
     "slide_type": "slide"
    }
   },
   "source": [
    "## In your presentation, it is important to:  \n",
    "\n",
    "- Give an introduction of the question\n",
    "- State the hypotheses $H_0$ and $H_A$ \n",
    "- Specify the assumption(s) of your hypothesis test, if any\n",
    "- Describe the procedures for data collection (sampling) and simulation\n",
    "- Include and explain at least two terms from the vocabulary\n",
    "- Summarize your findings and interpret the results \n",
    "- Provide limitations (optional but good practice) (e.g. sample size, study design issue)"
   ]
  },
  {
   "cell_type": "markdown",
   "id": "ffcc33f8",
   "metadata": {
    "slideshow": {
     "slide_type": "slide"
    }
   },
   "source": [
    "## Some things to keep in mind  \n",
    "\n",
    "- The introduction should state the overall purpose of the presentation   \n",
    "\n",
    "- Each main point should be “signaled.” Use [*signal phrases*](STA130_Oral_Presentation_useful_phrases.docx) or [*signposts*](Signposting.pdf) to transition between your points.\n",
    "\n",
    "- Every group member must speak during the presentation or marks will be deducted for participation."
   ]
  }
 ],
 "metadata": {
  "celltoolbar": "Slideshow",
  "kernelspec": {
   "display_name": "Python 3 (ipykernel)",
   "language": "python",
   "name": "python3"
  },
  "language_info": {
   "codemirror_mode": {
    "name": "ipython",
    "version": 3
   },
   "file_extension": ".py",
   "mimetype": "text/x-python",
   "name": "python",
   "nbconvert_exporter": "python",
   "pygments_lexer": "ipython3",
   "version": "3.10.8"
  }
 },
 "nbformat": 4,
 "nbformat_minor": 5
}
