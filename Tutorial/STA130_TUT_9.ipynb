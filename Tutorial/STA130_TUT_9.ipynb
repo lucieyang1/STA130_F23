{
 "cells": [
  {
   "cell_type": "markdown",
   "id": "e3ef9e6c",
   "metadata": {
    "slideshow": {
     "slide_type": "slide"
    }
   },
   "source": [
    "# STA130 Tutorial 9: Classification and Ethics\n",
    "\n",
    "\n",
    "\n",
    "| | |\n",
    "|-|-|\n",
    "|<img src=\"im/9/dt.png\" style=\"width:650px;\">|<img src=\"https://external-preview.redd.it/o5nt6RbYwOhXWPgeCChWCs-QACGPjOYhTERAncS0r-Y.jpg?auto=webp&s=7281ad9e816a5ddaec415c415f0ec8f05ca83181\" style=\"width:400px;\">|\n"
   ]
  },
  {
   "cell_type": "markdown",
   "id": "b703dafd",
   "metadata": {
    "slideshow": {
     "slide_type": "fragment"
    }
   },
   "source": [
    "This week we'll be doing something a little different, and we'll be focusing on ethical topics in anticipation of our upcoming embedded ethics guest lecture.\n",
    "Remember! It's always a good time for questions and discussions. If you don't understand something ask.\n"
   ]
  },
  {
   "cell_type": "markdown",
   "id": "64ba93df",
   "metadata": {
    "slideshow": {
     "slide_type": "fragment"
    }
   },
   "source": [
    "- **[Click 'down' next for this weeks vocabulary review]**"
   ]
  },
  {
   "cell_type": "markdown",
   "id": "c3f215dd",
   "metadata": {
    "slideshow": {
     "slide_type": "subslide"
    }
   },
   "source": [
    "## This Week's Vocab (10 minutes)\n",
    "If you are not familiar with any of these words, now is the time to ask!\n",
    "\n",
    "| | |\n",
    "|-|-|\n",
    "|<h1>Classification/Classifier |<h1>Class, Categorical, Binary [Outcomes]|    \n",
    "|<h1>Features~/Covariates~ |<h1>Predictors/Prediction, Inputs/Outputs |\n",
    "|<h1>Decision Tree |<h1>Tree, Node, Terminal/Leaf Node |    \n",
    "|<h1>Model Fitting and Validation |<h1>Training and Test(ing) sets/samples | \n",
    "|<h1>Accuracy |<h1>False Positive / False Negative | \n",
    "|<h1> Confusion matrix|<h1>Sensitivity / Specificity<br>(True Positive Rate / True Negative Rate) |    \n"
   ]
  },
  {
   "cell_type": "markdown",
   "id": "2ef343be",
   "metadata": {
    "slideshow": {
     "slide_type": "slide"
    }
   },
   "source": [
    "### Case Study 1: Medical Testing and False Positives and Negatives (10 minutes)\n",
    "\n",
    "| | |\n",
    "|-|-|\n",
    "|<img src=\"im/9/common_cold.png\">|Let's begin by practicing with confusion matrices. Suppose that we have a classification model designed to assist doctors in deciding whether patients have the common cold.|\n",
    "\n",
    "\n",
    "\n",
    "Based on information the doctor feeds the classification model, such as body temperature and the presence or absence of certain symptoms, the classification model predicts whether a patient has a cold. The classification model has the following confusion matrix for test data.\n",
    "\n",
    "\n",
    "|            | Predict disease | Predict no disease |\n",
    "|------------|-----------------|--------------------|\n",
    "| Disease    | 17              | 2                  |\n",
    "| No Disease | 61              | 168                |\n"
   ]
  },
  {
   "cell_type": "markdown",
   "id": "22acf655",
   "metadata": {
    "slideshow": {
     "slide_type": "fragment"
    }
   },
   "source": [
    "- Interpret the confusion matrix: what do the numbers in the different cells represent? \n",
    "- What are the accuracy, sensitivity,  specificity metrics for this data? Compute them.\n",
    "- Notice how this data is \"class imbalanced\"... <br>What does this mean(?) and what are its implications in terms of FN and FP counts?"
   ]
  },
  {
   "cell_type": "markdown",
   "id": "4e8ec3c1",
   "metadata": {
    "slideshow": {
     "slide_type": "slide"
    }
   },
   "source": [
    "### Tutorial Activity: Small Group Discussion (15 minutes) [Click \"down\" for answers]<br><sub>*$\\bullet$ Students individually write/submit group answers for this activity (with their quiz answers later)*</sub>\n",
    "\n",
    "When evaluating the performance of this classifier, is accuracy (185/(2+17+61+168)), sensitivity (17/19), or specificity (168/(61+168)) the most important consideration?<!-- <br>The framework of impacts and rights can help us to answer this question.-->\n",
    "\n",
    "Consider the following stakeholders: tested patients who (a) have the illness and (b) do not have the illness. Come to a consensus about your answers, or write down your disagreement. **[In standard detection terminology illness (no illness) is the \"positive\" (\"negative\") class.]**\n",
    "\n",
    "1. <sub><sup>What are some impacts (benefits or harms) of a false negative in this case? Which groups of stakeholders can be affected?</sup></sub>\n",
    "2. <sub><sup>What are some impacts (benefits or harms) of a false positive in this case? Which groups of stakeholders can be affected?</sup></sub>\n",
    "3. <sub><sup>Arrange short answers from 1 and 2 into a table\n",
    "    formatted like a *confusion matrix* (making a so-called \"cost~-benefit~\" analysis). </sup></sub> \n",
    "4. <sub><sup>Which metric (accuracy, sensitivity, specificity) should you the designer of the classification model be more concerned about based on your answers above? In your answer, take into account the relative number of people in each stakeholder group and the extent of the benefits or harms that would happen to them <!--, and (c) whether any of their rights are infringed by the error.--></sup></sub>\n",
    "5. <sub><sup>Would your answer to the last question (4) change if the disease being tested for is a serious life-threatening condition?</sup></sub> "
   ]
  },
  {
   "cell_type": "markdown",
   "id": "65503ba8",
   "metadata": {
    "slideshow": {
     "slide_type": "subslide"
    }
   },
   "source": [
    "### Tutorial Activity: Small Group Discussion Quick Review (5 minutes) <br><sub>*$\\bullet$ Answers are only reviewed for completeness and not reviewed for correctness during marking*</sub>\n",
    "When evaluating the performance of this classifier, is accuracy (185/(2+17+61+168)), sensitivity (17/19), or specificity (168/(61+168)) the most important consideration?<!-- <br>The framework of impacts and rights can help us to answer this question.-->\n",
    "\n",
    "1-3 <sub><sup>group (a) FN impact means possible harm from missing potentially helpful treatment, perhaps spreading disease, etc.(?); whereas, <br>&nbsp;&nbsp;&nbsp;&nbsp;&nbsp;&nbsp;&nbsp;&nbsp;&nbsp;&nbsp;&nbsp;&nbsp; group (b) FP impact means potential harm (waste?) from getting unnecessary treatment, maybe losing sick-day wages(?), etc.(?)...\n",
    "\n",
    "| | Predict Illness | Predict No Illness | |\n",
    "|-|:-:|:-:|-|\n",
    "| Has Illness<br>\"group (a)\" | 17 :) | 2 FN: undiagnosed cold cost!<br>*[Only affecting \"group (a)\"]* | Sensitivity 17/19 measures<br>\"accuracy\" for \"group (a)\" |\n",
    "| No Illness<br>\"group (b)\" | 61 FP: wrongly diagnosed cold cost!<br>*[Only affecting \"group (b)\"]* | 168 :) | Specificity 168/229 measures<br>\"accuracy\" for \"group (b)\" |\n",
    "\n",
    "4. <sub><sup>If more people have no illness then specificity could be the most relevant performance characterization, especially if the cost of the (FP and FN) mistakes are somewhat similar (or if a FP is perhaps even more costly than a FN...); however, ... </sup></sub> \n",
    "\n",
    "5. <sub><sup>If going undetected (FN) means missing out on critical care then sensitivity could be much more important than specificity<br>even if few people actually had the illness</sup></sub> "
   ]
  },
  {
   "cell_type": "markdown",
   "id": "4de0e4ff",
   "metadata": {
    "slideshow": {
     "slide_type": "slide"
    }
   },
   "source": [
    "## Ethics Primer\n",
    "As we have just seen, doing statistics in the real world is different from doing textbook exercises: <br>it can have consequences on the real world and the people in it. "
   ]
  },
  {
   "cell_type": "markdown",
   "id": "bfad42da",
   "metadata": {
    "slideshow": {
     "slide_type": "fragment"
    }
   },
   "source": [
    "### Discussion (5 minutes)\n",
    "\n",
    "What are some other cases where statistical and data science methods have consequences in the real world? <!-- when they're used to make real-world decisions --> Brainstorm some examples of how analyses from the course (or elsewhere)<br>could impact the real world (or otherwise have impact on people)."
   ]
  },
  {
   "cell_type": "markdown",
   "id": "0ad83f9f",
   "metadata": {
    "slideshow": {
     "slide_type": "fragment"
    }
   },
   "source": [
    "Since choices about how to perform quantiative analyses can drive decisions that impact real people, it's important to consider and address possible ethical repercussions of our choices. \n",
    "- Warning: there won’t be much statistics and data science in the next 15 minutes, <br>but we will be coming back to that soon enough!"
   ]
  },
  {
   "cell_type": "markdown",
   "id": "2b3510c5",
   "metadata": {
    "slideshow": {
     "slide_type": "slide"
    }
   },
   "source": [
    "# One simple framework for thinking about the ethics of our actions (including statistical analyses): \n",
    "1. Consider the impacts of your action: **does it help or harm people overall**<br>(e.g. their life, health, money, other things)?<br>*[If the action would harm people overall, you usually shouldn’t do it]*\n",
    "\n",
    "\n",
    "2. Does your action violate anyone’s rights?<br>*[If it violates someone’s rights, you usually shouldn’t do it]*\n",
    "\n",
    "> Keep this in mind and try to apply it in our remaining examples!"
   ]
  },
  {
   "cell_type": "markdown",
   "id": "a99c440e",
   "metadata": {
    "slideshow": {
     "slide_type": "slide"
    }
   },
   "source": [
    "### What's the difference between impacts and rights? [Click \"down\" next]\n",
    "\n",
    "Consider the following case (which we'll label *Organ Transplant*):\n",
    "\n",
    "<center><img src=\"im/9/kidney.jpg\"></center>\n",
    "\n",
    "Imagine you are a doctor. You have a sick patient who needs a kidney transplant, otherwise they will likely die. A healthy patient walks into the clinic for a routine procedure. You realize that while you are doing the procedure that you could remove one of the healthy patient's kidneys and give it to the sick patient, saving the sick patient's life. The healthy patient would be a little less healthy, but the impact on their life and well-being would not be significant. Suppose that...\n",
    "- you know the healthy patient would refuse to donate their kidney if asked \n",
    "- but you could remove the kidney from the healthy patient without them ever finding out, so you wouldn't get in trouble. "
   ]
  },
  {
   "cell_type": "markdown",
   "id": "191ad217",
   "metadata": {
    "slideshow": {
     "slide_type": "subslide"
    }
   },
   "source": [
    "## Question (to the whole group): (Think for a bit then vote)\n",
    "\n",
    "Let us suppose that you must choose from only the following two options below. Which option would you take if you were the doctor?\n",
    "\n",
    "1. Remove one of the healthy patient’s kidneys and give it to the sick patient.\n",
    "2. Do not remove the healthy patient’s kidney."
   ]
  },
  {
   "cell_type": "markdown",
   "id": "28a4fbd8",
   "metadata": {
    "slideshow": {
     "slide_type": "fragment"
    }
   },
   "source": [
    "Expected answer: The majority of students will likely choose (B), they wouldn't take the patient's kidney."
   ]
  },
  {
   "cell_type": "markdown",
   "id": "bb35d663",
   "metadata": {
    "slideshow": {
     "slide_type": "fragment"
    }
   },
   "source": [
    "### Discussion question (to the whole group): (5 minutes) [Click \"down\" next]\n",
    "What are the benefits and harms associated to options 1 and 2? "
   ]
  },
  {
   "cell_type": "markdown",
   "id": "5f76e0ff",
   "metadata": {
    "slideshow": {
     "slide_type": "subslide"
    }
   },
   "source": [
    "Sample Answer: option (A) has better impact than option (B): option (A) saves one person's life at the cost of one person's health, while option (B) gives one patient a little more health but at the loss of one person's life. This assumes that life is more valuable than health.\n",
    "\n",
    "<sub>You may have also come up with additional benefits or harms, e.g., other people will be sad if lives are lost, etc. That's fine, but shouldn't impact the overall calculus: option (A) seems to have better impact than option (B).</sub>  "
   ]
  },
  {
   "cell_type": "markdown",
   "id": "818407d6",
   "metadata": {
    "slideshow": {
     "slide_type": "fragment"
    }
   },
   "source": [
    "### Why do most students think that we shouldn't take the healthy patient's kidney, even though it produces the best impacts?<br>We can describe their reasoning in terms of rights. \n",
    "\n",
    "The main point in *Organ Transplant* is that it seems like the healthy patient has a right not to have their organs taken without their permission, even if it brings the greatest overall benefits.\n"
   ]
  },
  {
   "cell_type": "markdown",
   "id": "a342cbc5",
   "metadata": {
    "slideshow": {
     "slide_type": "fragment"
    }
   },
   "source": [
    "### Discussion question (to the whole group): [Click \"down\" next for some answers]<br>What are some other rights that you think people have? (5 minutes)"
   ]
  },
  {
   "cell_type": "markdown",
   "id": "f480ab29",
   "metadata": {
    "slideshow": {
     "slide_type": "subslide"
    }
   },
   "source": [
    "Some examples of answers that students might give:\n",
    "- Right to privacy\n",
    "- Right to vote\n",
    "- Right to freedom of speech\n",
    "- Right not to be harmed (in certain ways) \n",
    "\n",
    "> Note (which may have come up earlier): Students are going to disagree about how to compare different harms and benefits, and what rights we have! That’s fine. The goal isn’t to find the single correct answer, just to get clearer on how to think about these problems and justify your answers to them. The guest lecturer will say something about this next week. "
   ]
  },
  {
   "cell_type": "markdown",
   "id": "18cad76d",
   "metadata": {
    "slideshow": {
     "slide_type": "slide"
    }
   },
   "source": [
    "### Follow-up discussion question: (5 minutes) [Click \"down\" next for answers]<br>Which of the rights you identified are most likely to be relevant in Stats/DS? \n"
   ]
  },
  {
   "cell_type": "markdown",
   "id": "6647346c",
   "metadata": {
    "slideshow": {
     "slide_type": "fragment"
    }
   },
   "source": [
    "One particularly important answer is the right to privacy, because it affects data collection. "
   ]
  },
  {
   "cell_type": "markdown",
   "id": "384bc8cd",
   "metadata": {
    "slideshow": {
     "slide_type": "fragment"
    }
   },
   "source": [
    "Let's now use use the \"impacts + rights\" framework (reiterated below) to help us think about another case study, mixing together statistics and data science review with ethical analysis!\n",
    "\n",
    "> 1. Consider the impacts of your action:<br>**does it help or harm people overall**<br>(e.g. their life, health, money, other things)?<br>*[If action harms people overall, you usually shouldn’t do it]*\n",
    "> 2. Does your action violate anyone’s rights?<br>*[If it violates someone’s rights, you usually shouldn’t do it]*\n"
   ]
  },
  {
   "cell_type": "markdown",
   "id": "b3787570",
   "metadata": {
    "slideshow": {
     "slide_type": "slide"
    }
   },
   "source": [
    "#### Tutorial Activity: Quiz (Case Study 2) Mortgage Applications (2 minutes) [Click \"down\" next]\n",
    "- *Answer individually: submit answers along with answers to the previous small group exercise.*\n",
    "\n",
    "Many banks use classification models to predict whether someone will be likely to pay back their mortgage loan (for buying something, often a residential property like a house or condo.)\n",
    "\n",
    "Imagine we are a mortgage lender, and we have a dataset stored in the `pd.DataFrame` `mortgage_applications` with the following fields (monetary values in thousands):\n",
    "- `\"Accept or Deny\"`\n",
    "- ```\"Applicant's income\", \"Net Worth\", \"Undergraduate GPA\"```\n",
    "- ```\"Application Random ID#\", \"Dummy Variable\"```"
   ]
  },
  {
   "cell_type": "markdown",
   "id": "72a1656b",
   "metadata": {
    "slideshow": {
     "slide_type": "subslide"
    }
   },
   "source": [
    "#### Tutorial Activity: Quiz (Case Study 2) Mortgage Applications (8 minutes) [Click \"down\" for answers]\n",
    "- *Answer individually: submit answers along with answers to the previous small group exercise.*\n",
    "\n",
    "We want to make a classification model which captures the relationships leveraged between features in the dataset and historical \"Accept or Deny\" decisions in order to automate future decisions to accept or deny new applications.\n",
    "\n",
    "Find five (5) problems with the following code snippet. \n",
    "\n",
    "> For now focus on identifying coding errors only."
   ]
  },
  {
   "cell_type": "code",
   "execution_count": null,
   "id": "8d228c55",
   "metadata": {
    "slideshow": {
     "slide_type": "-"
    }
   },
   "outputs": [],
   "source": [
    "clf = tree.DecisionTreeClassifier()\n",
    "mortgage_applications_nonans = \\\n",
    "  mortgage_applications[[\"Applicant's income\", \"Net Worth\", \"Undergraduate GPA\", \"Application Random ID#\"]] \n",
    "  # The \"Dummy Variable\" feature is known to be unimportant and so it can be safely ignored\n",
    "X = mortgage_applications_nonans.iloc[:,1:].dropna()\n",
    "Y = mortgage_applications[\"Accept or Deny\"].dropna()\n",
    "\n",
    "clf = clf.fit(Y ~ X) # We fit our model with the availible data\n",
    "clf.predict(60,200,3.5) # We want to know whether to accept the application of someone\n",
    "                        # who makes 60k, has a net worth of 200k, and had a 3.5 gpa"
   ]
  },
  {
   "cell_type": "markdown",
   "id": "5304735d",
   "metadata": {
    "slideshow": {
     "slide_type": "subslide"
    }
   },
   "source": [
    "### Tutorial Activity: Quiz Review (Case Study 2) Mortgage Applications (5 minutes) \n",
    "\n",
    "*Here are the problems we were hoping you would have noticed!*<br>***Answers are only reviewed for completeness and not reviewed for correctness during marking***\n",
    "\n",
    "- ***It appears not training-testing framework has been applied!?***\n",
    "- We should include `.dropna()` at the end of the line where we define `mortgage_applications_nonans` instead of on `X` and `Y` since the way it is done above could lead to different rows being dropped in `X` and `Y` ruining the data\n",
    "- `\"Application Random ID\"` should not be included in the analysis since a randomly generaged number would not have predictive power and would only gives the decision tree an opportunity to identify spurious associations\n",
    "- `Y ~ X` is the format for giving a formula in linear regression; so, we need different syntax when fitting a decision tree; namely, the format should be `clf.fit(X,Y)`\n",
    "- When using `clf.predict()`, we need to pass an array or dataframe containing the parameters instead of passing them directly as function arguments."
   ]
  },
  {
   "cell_type": "markdown",
   "id": "fa7b552b",
   "metadata": {
    "slideshow": {
     "slide_type": "slide"
    }
   },
   "source": [
    "### Tutorial Assignment: (Case Study 2) Mortgage Applications [Click \"down\" next]\n",
    "<!-- ### Small Group Discussion: (Case Study 2) Mortgage Applications (5 minutes) -->\n",
    "\n",
    "> #### TAs will review your answers and provide suggestions and feedback based on their own thoughts and insightful answers from your peers\n",
    "> - Hand in your written submission on Quercus.\n",
    "> - Grammar isn't the focus of the assessment, but it is important that you communicate in a clear and professional manner; so, use full sentences (without slang or emojis).\n",
    "> - Don't spend more than 60 minutes on this assignment (unless really needed...); so, aim for around 200 to 500 words.\n",
    "\n",
    "Imagine that you work for a mortgage company, and you are building a classification model to decide whether to accept mortgage applications. Answer the following questions (1-4) below:\n",
    "\n",
    "1. Why is it often useful for the algorithm to have more information about the applicant? "
   ]
  },
  {
   "cell_type": "markdown",
   "id": "21555a9f",
   "metadata": {
    "slideshow": {
     "slide_type": "subslide"
    }
   },
   "source": [
    "### Tutorial Assignment: (Case Study 2) Mortgage Applications [Click \"down\" next]\n",
    "\n",
    "2. It's also important to remember that **we choose** what information we use for prediction. Evaluate `Applicant’s income`, `net worth`, `undergraduate GPA`, `profession`, `criminal history`, `marriage status`, and `age` as either \n",
    "\n",
    "    - information which you think is ethically appropriate/inappropriate for the bank to take into consideration in deciding whether to give someone a mortgage.\n",
    "\n",
    "  For each bit of information that you think might be ethically inappropriate to take into consideration, expand on why you think it might inappropriate by picking one of the following options and briefly explaining the rationale for your selection:  \n",
    "    - Taking it into consideration would produce more harm than benefit overall. \n",
    "    - Taking it into consideration would violate someone's rights. \n",
    "    - Taking it into consideration would be ethically wrong for some other reason. "
   ]
  },
  {
   "cell_type": "markdown",
   "id": "456895ae",
   "metadata": {
    "slideshow": {
     "slide_type": "subslide"
    }
   },
   "source": [
    "### Tutorial Assignment: (Case Study 2) Mortgage Applications [Click \"down\" next]\n",
    "\n",
    "*Hint: part of how to think about the previous and the next question is to ask,<br>\"If I make a mistake based on using this information, who is affected and how are they affected?\"*\n",
    "\n",
    "3. Repeat the previous question (2) but this time suppose that (for the purposes of reviewing applications to a prestigious medical school) we're designing a classification model to predict the likelihood that an applicant will graduate, and evalute `undergraduate GPA`, `MCAT score`, `volunteer activity`, `criminal history`, `marriage status (including common law)`, and `age` as either\n",
    "\n",
    "  - ethically appropriate or inappropriate to use in admission decisions; and, ***note how/if your answers differ from the \"Mortgage Company\" (Case Study 2) example***.\n",
    "\n",
    "4. Which metric or metrics (accuracy, sensitivity, specificity) do you think would be the most relevant in evaluting the performance of your \"Mortgage Application\" and \"School Applications\" models?  And why is it that you have come to that conclusion?"
   ]
  },
  {
   "cell_type": "markdown",
   "id": "2397e626",
   "metadata": {
    "slideshow": {
     "slide_type": "skip"
    }
   },
   "source": [
    "## Tutorial Assignment (get started... )\n",
    "Suppose we are designing a classification model for reviewing applications to a prestigious medical school, with the goal of predicting the likelihood that they will graduate, which would then be used to determine who should be admitted. Using the framework discussed, please answer the following two questions:\n",
    "1. Consider the following information: {undergraduate GPA, MCAT score, volunteer activity, criminal history, marriage status (including common law), age}. \n",
    "- Sort the information into informations which is ethically appropriate or inappropriate to take into consideration whether to admit someone.\n",
    "- For each bit of information that you think is ethically inappropriate to take into consideration, explain why you think it is inappropriate, by picking one of the following options and expanding on it in a couple sentences:  \n",
    "    1. Taking it into consideration would produce more harm than benefit overall. \n",
    "    2. Taking it into consideration would violate someone’s rights. \n",
    "    3. Taking it into consideration would be ethically wrong for some other reason. \n",
    "2. Which metric or metrics (accuracy, sensitivity, specificity) should you prioritize in judging the performance of your model? How is your answer different from the mortgage company case discussed in tutorial?"
   ]
  }
 ],
 "metadata": {
  "celltoolbar": "Slideshow",
  "kernelspec": {
   "display_name": "Python 3 (ipykernel)",
   "language": "python",
   "name": "python3"
  },
  "language_info": {
   "codemirror_mode": {
    "name": "ipython",
    "version": 3
   },
   "file_extension": ".py",
   "mimetype": "text/x-python",
   "name": "python",
   "nbconvert_exporter": "python",
   "pygments_lexer": "ipython3",
   "version": "3.11.4"
  }
 },
 "nbformat": 4,
 "nbformat_minor": 5
}
