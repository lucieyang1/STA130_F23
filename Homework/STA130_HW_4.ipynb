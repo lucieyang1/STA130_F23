{
 "cells": [
  {
   "cell_type": "markdown",
   "id": "42ab3d54",
   "metadata": {},
   "source": [
    "# Coding Homework 4: [Your Name]\n",
    "\n",
    "Go through this notebook, following the instructions! \n",
    "- You can add new cells if you need (with the \"+\" button above); but, deleting (or resorting) cells could very likely cause your notebook to fail MarkUs autotesting (and you'd have to start over and re-enter your answers into a completely fresh version of the notebook to get things to work again...)\n",
    "\n",
    "> TAs will mark this assignment by checking ***MarkUs*** autotests; then, manually confirming the correctness of plot in `Q2` and `Q13` (based on correct code usage of `replace=False`); then, manually reviewing the written response to question `Q6`. TAs may or may not spot check the presence of plots for `Q8` and `Q9` and written answers for `Q8`.\n",
    "> - The autotests for questions `Q8`, and `Q9` \"automatically fail\" during automated testing with ***MarkUs*** in order to expose example answers for student consideration and review.  These \"failed ***MarkUs*** tests\" are not counted against the student. "
   ]
  },
  {
   "cell_type": "markdown",
   "id": "c6b08913",
   "metadata": {},
   "source": [
    "## Driving on the \"Right\" Side of the Road\n",
    "Let's explore how cars drive on the right or left side of the road in different countries. World Standards' [list of left driving countries](https://www.worldstandards.eu/cars/list-of-left-driving-countries/) shows that 86 of all 270 countries in the world drive on the left side of the road."
   ]
  },
  {
   "cell_type": "code",
   "execution_count": 1,
   "id": "07099e61",
   "metadata": {},
   "outputs": [],
   "source": [
    "# Run the following code to get the data\n",
    "import pandas as pd # used immediately\n",
    "import numpy as np # to be used eventually!\n",
    "\n",
    "roaddata = pd.DataFrame({\"road_side\": [\"left\"] * 86 + [\"right\"] * (270 - 86)})"
   ]
  },
  {
   "cell_type": "code",
   "execution_count": 3,
   "id": "26ecf996",
   "metadata": {},
   "outputs": [],
   "source": [
    "# Have a look at the data!\n"
   ]
  },
  {
   "cell_type": "markdown",
   "id": "4debf2c3",
   "metadata": {},
   "source": [
    "### Q0: Are the observations (rows) in `roaddata` the entire population or a sample from a population?\n",
    "A. The entire population    \n",
    "B. A sample from the population"
   ]
  },
  {
   "cell_type": "code",
   "execution_count": 4,
   "id": "d512c280",
   "metadata": {},
   "outputs": [],
   "source": [
    "# Q0: your answer will be tested!\n",
    "Q0 = None # Assign either 'A' or 'B' to `Q0` instead of `None`\n",
    "# E.g., Q0 = 'A'"
   ]
  },
  {
   "cell_type": "markdown",
   "id": "255ce211",
   "metadata": {},
   "source": [
    "### Q1: Select a random sample of 100 *unique* countries from `roaddata` and call it `roaddata_sample`.\n",
    "> - Hint 1: Use `roaddata.sample()`; or, [google \"python pandas sample\"](https://letmegooglethat.com/?q=python+pandas+sample) and you'll want that first `pd.sample()` link that comes up.\n",
    ">\n",
    ">\n",
    "> - Hint 2: Do not use `replace=True` because this means after one of the countries is drawn, it is put back (\"replaced\" with `replace=True`) and can be drawn again (twice or even more!) but this is not what we want for this question! "
   ]
  },
  {
   "cell_type": "code",
   "execution_count": 17,
   "id": "a29cca1d",
   "metadata": {},
   "outputs": [],
   "source": [
    "# Q1: Your answer will be tested based on your `roaddata_sample` object itself:\n",
    "#     you don't need to assign anything to a `Q1` object.\n",
    "np.random.seed(130) # Do NOT change this line: it sets the \"random number generation seed\"\n",
    "# which makes the \"pseudorandomness\" gererated in the code the same every time and this\n",
    "# makes the code reproducible which ensures that our testing code works properly every time\n"
   ]
  },
  {
   "cell_type": "markdown",
   "id": "cb8f68da",
   "metadata": {},
   "source": [
    "### Q2: Using `roaddata_sample` (as opposed to `roaddata`!) create 2000 bootstrap samples and calculate and visualize the proportion of countries where cars drive on the left side of the road for each of these 2000 bootstrap samples. \n",
    "\n",
    "#### Which of the following best describes how the `plotly` histogram of the bootstrap sampling distribution of the proportion of countries that drive on the left side compares to the proportion observed in the original sample?\n",
    "\n",
    "- A. The proportion observed in the orginal sample is on the left side of the (sampling) distribution of bootstrap sample proportions, which makes sense since the sample size is less than the population size  \n",
    "- B. The proportion observed in the orginal sample is pretty much in the middle of the (sampling) distribution of bootstrap sample proportions, which makes sense since bootstrap data is resampled versions of the original sample  \n",
    "- C. The proportion observed in the orginal sample is on the right side of the (sampling) distribution of bootstrap sample proportions, which makes sense since there are more bootstrap samples than the orignal sample size  \n",
    "- D. None of the above  \n",
    "\n",
    "> - Hint 1: **A bootstrap sample is a resampling of another sample with replacement based on that original sample; so, bootstrapping means creating many new samples from an original sample that (a) have the same sample size as the original sample and (b) are each based on `replace=True`**.\n",
    ">   - If `replace=False` then the resamples (of the same size as the original sample) would just recreate the original sample!\n",
    ">\n",
    ">\n",
    "> - Hint 2: To calculate a proportion you can use coercion to change 'left' and 'right' into `0`'s and `1`'s as you create the average `(roaddata_sample['road_side'] == 'left').mean()` (which is a proportion). \n",
    ">\n",
    ">\n",
    "> - Hint 3: You can mark the proportion in the original sample on your histogram with `fig.add_vline(x=roaddata_sample['road_side'] == 'left').mean())`.\n",
    ">\n",
    ">\n",
    "> - Hint 4: The population is `roaddata`, whereas `roaddata_sample` is a sample from this population... <br>**Bootstrapping samples from samples... samples from populations are just samples...**\n",
    ">\n",
    ">\n",
    "> - Hint 5: In the multiple choice options above, the reason \"(sampling)\" is emphasized in front of \"distribution of bootstrap sample proportions\" is because a \"sampling distribution\" refers specifically to the notion of the distribution of a statistic (here a proportion) created from a sample (which is distinct from the distribution of the population or the sample itself). A \"sampling distribution\" can be derived theoretically in some cases; or, simulated by resampling from the population (if it's available) over and over (and recalculating the statistic in each sample and visualing the distribution of these \"sampled\" statistics). What we're doing in this problem is creating what can be referred to \"bootstrap sampling distribution of the sample statistic\", wherein we presume the sample we have is sufficiently representative of the population to allow us to proceed by using it as such: the sample \"replaces\" the population with us pretending that the sample is a suitable stand in for the population. \n",
    ">   - If you had the whole population then you'd know everything about it exactly without concerning yourself with sampling *per se*; so, for situations we're you don't have the population you can emulate sampling from the population by instead bootstrap sampling from the sample that you do have as if it was the population itself...\n"
   ]
  },
  {
   "cell_type": "code",
   "execution_count": null,
   "id": "1b4624b8",
   "metadata": {},
   "outputs": [],
   "source": [
    "# put the necessary code here and add scratch work cells if needed\n",
    "\n",
    "np.random.seed(130) # Use this line to create reproducible pseudorandomness for your bootstrapping\n",
    "\n",
    "number_of_bootstrap_samples = 2000\n",
    "# -> use one of these \n",
    "#bootstrapped_proportions_v1 = []\n",
    "#bootstrapped_proportions_v2 = np.array([0.0]*number_of_bootstrap_samples, dtype='float')\n",
    "for i in range(number_of_bootstrap_samples):\n",
    "    pass # complete\n",
    "    # -> corresponding to one of these\n",
    "    # bootstrapped_proportions_v1 += [new_bootstrap_proportion]\n",
    "    # bootstrapped_proportions_v1[i] = new_bootstrap_proportion"
   ]
  },
  {
   "cell_type": "code",
   "execution_count": 21,
   "id": "6f897cf5",
   "metadata": {},
   "outputs": [],
   "source": [
    "# Q2: your answer will be tested!\n",
    "Q2 = None # Assign either 'A', 'B', 'C', or 'D' to `Q2` instead of `None`\n",
    "# E.g., Q2 = 'A'"
   ]
  },
  {
   "cell_type": "markdown",
   "id": "16c8ec77",
   "metadata": {},
   "source": [
    "### Q3: The proportion of countries where cars drive on the left size of the road in the original `roaddata_sample` sample is $0.3$; whereas, the overall mean of the bootstrapped proportions calculated using the solution code (given in the *MarkUs* hints for missed Q2 or Q3) is $0.29815499999999995$; whereas, the actual proportion of all countries in `roaddata` where cars drive on the left side of the road is $0.31851851851851853$.\n",
    "\n",
    "\n",
    "#### Which of the following best explains why these numbers are different?\n",
    "\n",
    "A. The solution code is wrong since it uses pre-converted numeric values and a pre-allocated `np.array` that it indexes values into (as opposed to extending a list through concatenation) which is why it doesn't match the other numbers.  \n",
    "\n",
    "\n",
    "B. The larger the sample size, the closer the mean of the sample would be expected to be to the population mean (since it uses more values from the population); whereas, the overall average of a bootstrap sampling distribution would be expected to be more similar to the mean of the sample being bootstrapped (since it reflects the \"bias\" of that sample by only using values from that sample) and it should be increasingly similar as more and more bootstrap samples are averaged (and the bootstrap sampling distribution more and more accurately centers around the mean of the original sample). \n",
    "\n",
    "\n",
    "C. The overall average of a bootstrap sampling distribution will be closer to the original sample mean when there are fewer bootstrap samples, and closer to the population mean when there are more bootstrap samples.\n",
    "\n",
    "\n",
    "D. None of these are similar because none of them are related to each other.  "
   ]
  },
  {
   "cell_type": "code",
   "execution_count": null,
   "id": "6614af5e",
   "metadata": {},
   "outputs": [],
   "source": [
    "# cell for some scratch work if needed\n"
   ]
  },
  {
   "cell_type": "code",
   "execution_count": 26,
   "id": "8ccd84c6",
   "metadata": {},
   "outputs": [],
   "source": [
    "# Q3: your answer will be tested!\n",
    "Q3 = None # Assign either 'A', 'B', 'C', or 'D' to `Q3` instead of `None`\n",
    "# E.g., Q3 = 'A'"
   ]
  },
  {
   "cell_type": "markdown",
   "id": "0edd86a3",
   "metadata": {},
   "source": [
    "### Q4: Calculate a 90% bootstrap confidence interval for the proportion of countries where cars drive on the left side of the road based on the bootstrap sampling distribution you generated in Q2.\n",
    "\n",
    "#### Give your interval limits as continuous numeric values rounded to two decimal positions.\n",
    "\n",
    "> - Hint 1: Use the `np.quantile` or `np.percentile` functions (which are slightly different... how?).\n",
    "> - Hint 2: **A 95% bootstrap confidence interval is based on the 0.025 and 97.5 percentiles of a bootstrapped sampling distribution...**"
   ]
  },
  {
   "cell_type": "code",
   "execution_count": 35,
   "id": "51619289",
   "metadata": {},
   "outputs": [
    {
     "data": {
      "text/plain": [
       "array([0.22, 0.38])"
      ]
     },
     "execution_count": 35,
     "metadata": {},
     "output_type": "execute_result"
    }
   ],
   "source": [
    "# cell for scratch work if needed\n"
   ]
  },
  {
   "cell_type": "code",
   "execution_count": 37,
   "id": "3c8a6446",
   "metadata": {},
   "outputs": [],
   "source": [
    "# Q4: your answer will be tested!\n",
    "your_2000_bootstrapped_proportions = None # Assign your list/numpy array variable here instead of `None`\n",
    "your_90percent_confidence_interval_lower_bound = None # use np.round(..., 2)\n",
    "your_90percent_confidence_interval_upper_bound = None # use np.round(..., 2)\n",
    "Q4 = (your_2000_bootstrapped_proportions, \n",
    "      (your_90percent_confidence_interval_lower_bound, your_90percent_confidence_interval_upper_bound)) \n",
    "# Assign your 1000 bootstrapped medians and `tuple` \"interval\" of two-decimal rounded `float`s \n",
    "# as another `tuple` to Q10; e.g., ([bootstrapped_prop_1, ..., bootstrapped_prop_2000], (0.12, 0.34))"
   ]
  },
  {
   "cell_type": "markdown",
   "id": "5dab67ae",
   "metadata": {},
   "source": [
    "### Q5: Suppose for the sake of this question that you got a confidence interval of (27%, 44%). Indicate whether or not each of the following statements is a correct interpretation of the confidence interval.\n",
    "\n",
    "A. We are 90% confident that between 27% and 44% of countries in our `roaddata_sample` sample are countries where cars drive on the left side of the road.   \n",
    "\n",
    "\n",
    "B. There is a 90% chance that between 27% and 44% of all countries in the population drive on the left side of the road; or, equivalently restated: at any given time there's a 90% chance that the proportions of countries in the world where cars drive on the left side of the road will be between 27% and 44%.\n",
    "\n",
    "\n",
    "C. If we consider many random samples of 100 countries in the world (such as `roaddata_sample_1`, `roaddata_sample_2`, etc.) and we calculate 90% bootstrap confidence intervals for each sample, approximately 90% of these bootstrap confidence intervals will include the true proportion of countries in the population who drive on the left side of the road.   \n",
    "\n",
    "\n",
    "D. The chance that we drew a sample which results in the constructed (27%, 44%) confidence interval and bounds the true proportion of countries in the population where cars drive on the left side is about 90%. \n",
    "\n",
    "\n",
    "E. We are 90% confident that between 27% and 44% of countries in the world are countries where cars drive on the left side of the road.   \n"
   ]
  },
  {
   "cell_type": "code",
   "execution_count": 45,
   "id": "658f8caf",
   "metadata": {},
   "outputs": [],
   "source": [
    "# Q5: your answer will be tested!\n",
    "Q5a = None # Assign either True or False to each of these\n",
    "Q5b = None\n",
    "Q5c = None\n",
    "Q5d = None\n",
    "Q5e = None\n",
    "Q5 = (Q5a, Q5b, Q5c, Q5d, Q5e)"
   ]
  },
  {
   "cell_type": "markdown",
   "id": "7648cf60",
   "metadata": {},
   "source": [
    "### Q6: If we want to be more confident that we've captured the actual true proportion of all countries where cars drive on the left side of the road, should we use a wider or narrower confidence interval? If we want to have a more precise, understandable, and interpretable estimate, should we use a wider or narrower confidence interval? Discuss the relevant tradeoffs in explaining your answers.\n",
    "\n",
    "#### Write three or so sentences to answer this question in markdown cell below.\n",
    "- Your TA will manually review your written response."
   ]
  },
  {
   "cell_type": "markdown",
   "id": "e48e0ca3",
   "metadata": {},
   "source": [
    "> Answer here..."
   ]
  },
  {
   "cell_type": "markdown",
   "id": "22a1fed5",
   "metadata": {},
   "source": [
    "## Auto Claims\n",
    "The data set `auto_claims.csv` includes claims paid (in USD) by an auto insurance company in a specific year to a sample of auto insurance claimants greater than 60 years of age. In other words, this represents a \"sample\" (the \"original sample\") of car insurance claims paid by the auto insurance company in that year."
   ]
  },
  {
   "cell_type": "code",
   "execution_count": 154,
   "id": "16d73cc4",
   "metadata": {},
   "outputs": [],
   "source": [
    "# Load the `auto_claims.csv` dataset and have a quick look at it."
   ]
  },
  {
   "cell_type": "markdown",
   "id": "34aa2405",
   "metadata": {},
   "source": [
    "### Q7: What is the sample size, median, and standard deviation of paid claims (`PAID`) in the `auto_claims.csv`?\n",
    "\n",
    "> Hint: use the `.describe()` method of a `pd.DataFrame` object.\n",
    "#### Give your answers rounded to integer values with `.round()`."
   ]
  },
  {
   "cell_type": "code",
   "execution_count": null,
   "id": "fa6de84f",
   "metadata": {},
   "outputs": [],
   "source": []
  },
  {
   "cell_type": "code",
   "execution_count": 87,
   "id": "64477b7e",
   "metadata": {},
   "outputs": [],
   "source": [
    "# Q7: Your answer will be tested!\n",
    "paid_sample_size = None\n",
    "paid_median = None\n",
    "paid_std = None\n",
    "Q7 = (paid_sample_size, paid_median, paid_std) # Assign a `tuple` of three `int`s to Q7\n",
    "# E.g., `Q7 = (1,2,3)`"
   ]
  },
  {
   "cell_type": "markdown",
   "id": "f30819a7",
   "metadata": {},
   "source": [
    "### Q8: Produce `plotly` histogram and boxplot visualizations of paid claims (`PAID`) and comment the shape, centre and spread of this distribution.\n",
    "\n",
    "#### Create the plots and write your answer in the code cell and markdown cells (respectively) below.\n",
    "\n",
    "- You can compare your figure and response to the answer given in the ***MarkUs*** output "
   ]
  },
  {
   "cell_type": "code",
   "execution_count": 65,
   "id": "f8c48efa",
   "metadata": {},
   "outputs": [
    {
     "data": {
      "application/vnd.plotly.v1+json": {
       "config": {
        "plotlyServerURL": "https://plot.ly"
       },
       "data": [
        {
         "alignmentgroup": "True",
         "bingroup": "x",
         "hovertemplate": "PAID=%{x}<br>count=%{y}<extra></extra>",
         "legendgroup": "",
         "marker": {
          "color": "#636efa",
          "pattern": {
           "shape": ""
          }
         },
         "name": "",
         "nbinsx": 20,
         "offsetgroup": "",
         "orientation": "v",
         "showlegend": false,
         "type": "histogram",
         "x": [
          2384.67,
          650,
          654,
          3890.07,
          295.99,
          11756.34,
          2402,
          296.97,
          249.1,
          14833.3,
          3025,
          2750,
          2612.74,
          1259.89,
          824.85,
          669.5,
          664.34,
          408.39,
          3953.84,
          3841.66,
          239.37,
          30,
          6384,
          4467.92,
          1541.1,
          1354.93,
          1263.51,
          1045,
          519.75,
          499.28,
          365.26,
          322.34,
          122.41,
          10524.64,
          6854.02,
          3206.76,
          2724.04,
          2269,
          2169.88,
          1929.81,
          1061.8,
          945.8,
          899.13,
          7326.67,
          5301.72,
          3596.5,
          2322.72,
          1944.45,
          1491.69,
          1314.4,
          836.78,
          479,
          426.19,
          3112.89,
          2500,
          1921.22,
          1472.87,
          1444.89,
          1368.76,
          1346.36,
          772.23,
          688.67,
          362.63,
          359.41,
          354.29,
          262.81,
          244.11,
          9377.82,
          5540.07,
          3118.5,
          2495.8,
          2362.89,
          2007.78,
          1816.41,
          1500,
          1139.6,
          952.05,
          746.89,
          644.87,
          188.61,
          117.4,
          12714.43,
          10116.07,
          1949.14,
          1852.5,
          1722.82,
          1539.07,
          1476.43,
          1458.13,
          1119.52,
          990.07,
          987,
          782.44,
          459,
          377.36,
          319.67,
          176.07,
          154.75,
          8493.76,
          3809.83,
          3222.66,
          1113.38,
          766.4,
          663.17,
          640.4,
          619.06,
          419.18,
          298.62,
          160.2,
          105.5,
          8323.31,
          6291.84,
          4904.64,
          4096.58,
          3334.65,
          1755.95,
          1160.63,
          1098.37,
          818.79,
          651.57,
          646.79,
          584.61,
          417.04,
          399.9,
          371.63,
          365.5,
          275.43,
          146.56,
          14651.31,
          6754.81,
          5071.99,
          4809.52,
          2884.46,
          2591.33,
          2419.75,
          1321.7,
          1308,
          981.86,
          843.98,
          817.62,
          712,
          634.48,
          463.96,
          462.93,
          430.38,
          388.71,
          112.78,
          85,
          12151.86,
          5186.82,
          4451.39,
          3968.51,
          3392.58,
          1879.51,
          1792.54,
          1607.6,
          1238,
          1130,
          1081.71,
          1033.84,
          671.59,
          361.37,
          171.7,
          40,
          3203.35,
          3060.69,
          2171.93,
          1727.85,
          1550,
          1470.35,
          1229.01,
          1010.94,
          575.36,
          555.34,
          533.11,
          459.1,
          253.75,
          148.65,
          4184.46,
          4082.49,
          1846.1,
          1688.78,
          1118.91,
          749.64,
          725.71,
          722.02,
          648.06,
          593.46,
          516.81,
          302.54,
          300,
          278.55,
          248.68,
          131,
          28.46,
          13058.85,
          6950.54,
          2930,
          2112.46,
          2100,
          1500,
          1386.41,
          1270.17,
          1203.81,
          993.59,
          903,
          900,
          583.76,
          580.32,
          376.46,
          275.94,
          91.27,
          6013.74,
          4804.22,
          3179.28,
          2893.53,
          1916.21,
          1209.08,
          1036.74,
          986.12,
          893.03,
          754.31,
          740.38,
          694.91,
          693.13,
          564.05,
          551.78,
          549.77,
          497.85,
          403.3,
          358.7,
          284.54,
          228,
          177.6,
          177.42,
          139.79,
          33137.5,
          7293.43,
          3754.51,
          3495.14,
          3140.66,
          2137.4,
          1971.75,
          1956,
          1870.58,
          1650,
          1188.74,
          1115.89,
          1088.73,
          1074.35,
          1016.43,
          860.67,
          831.8,
          796.8,
          759.57,
          668.74,
          582.62,
          404,
          393.5,
          309.67,
          292.44,
          221.7,
          103.75,
          11511.72,
          6090.02,
          1727.33,
          1235.07,
          910.01,
          812.98,
          562.05,
          527.34,
          451.31,
          332.06,
          315.53,
          10527.4,
          7751.55,
          5711.53,
          3804.44,
          3760.07,
          2757.83,
          2565.84,
          2221.87,
          2139.9,
          2000,
          1363.23,
          1132.41,
          993.19,
          964.22,
          898.55,
          822.1,
          761.22,
          754.56,
          685.71,
          622.53,
          604.95,
          587.51,
          490.25,
          489.73,
          465.5,
          329.91,
          272.01,
          258.5,
          4643.8,
          3523.9,
          3007.96,
          2192.98,
          1752.16,
          1686.2,
          1648.41,
          1381.16,
          1336.26,
          1248.01,
          950.61,
          945.56,
          880.82,
          713.55,
          645.8,
          626.38,
          573.4,
          488.16,
          458,
          443.95,
          253.59,
          209.83,
          138.86,
          100,
          30,
          24624.44,
          8123.33,
          5158.65,
          5035.93,
          4625.47,
          1707.92,
          1694.59,
          1501.05,
          1369.74,
          946.38,
          825.66,
          682.85,
          604.95,
          585.34,
          565.02,
          529.28,
          388.03,
          377.54,
          303,
          300,
          198.98,
          135,
          47.52,
          11458.07,
          8300.31,
          7827.74,
          6261.92,
          5861.5,
          5381.14,
          4532.02,
          3656.77,
          2928.92,
          2547.5,
          2276.5,
          2017.28,
          1678.17,
          1651.86,
          1482.45,
          1480.93,
          1348.93,
          1189.96,
          1090.41,
          940.28,
          925.47,
          852.22,
          417.18,
          369.02,
          346.79,
          244.23,
          132,
          100,
          14753.58,
          11288.76,
          10175.27,
          6277.84,
          4939.5,
          4786.51,
          3167.49,
          2572.22,
          1712.27,
          1712.13,
          1396.61,
          1377.31,
          1108.42,
          1001.76,
          989.59,
          891.09,
          882.77,
          670.77,
          638.99,
          546.32,
          536.11,
          533.33,
          464.59,
          460.36,
          291.92,
          257.01,
          106,
          7487.94,
          7296.2,
          4929.65,
          2532.6,
          2344.69,
          1855.85,
          1812.47,
          1431.81,
          1226.28,
          1122.12,
          1090.75,
          1067.57,
          1012.19,
          928.2,
          861.89,
          809.34,
          782.9,
          768.05,
          698.65,
          630.11,
          617.9,
          594.8,
          585.74,
          390.02,
          291.28,
          236.53,
          10077,
          8569.3,
          6124.34,
          5335.35,
          3486.96,
          3255.88,
          2985.29,
          2418.4,
          2368.69,
          2007.64,
          1996,
          1869.49,
          1600.18,
          1278.52,
          1212.85,
          1039.69,
          834.12,
          805.18,
          676.15,
          651.18,
          586.85,
          315.61,
          311.32,
          25.44,
          9793.42,
          7620.37,
          6800.94,
          4781.43,
          3944.37,
          2406,
          1613.41,
          1340.74,
          1249.02,
          1086.9,
          941.85,
          909.99,
          903.99,
          875.28,
          738.18,
          492.22,
          468,
          443.49,
          439.22,
          359.11,
          8215.8,
          6208.2,
          5241.71,
          3912.49,
          3230.09,
          2600,
          2531.24,
          2038.05,
          1890.5,
          1704.54,
          1145.63,
          959.52,
          763.07,
          746.63,
          700,
          554.55,
          545.3,
          490.6,
          273.29,
          189.9,
          10652.59,
          5556.75,
          3403.09,
          3328.93,
          2805.73
         ],
         "xaxis": "x",
         "yaxis": "y"
        }
       ],
       "layout": {
        "barmode": "relative",
        "legend": {
         "tracegroupgap": 0
        },
        "margin": {
         "t": 60
        },
        "template": {
         "data": {
          "bar": [
           {
            "error_x": {
             "color": "#2a3f5f"
            },
            "error_y": {
             "color": "#2a3f5f"
            },
            "marker": {
             "line": {
              "color": "#E5ECF6",
              "width": 0.5
             },
             "pattern": {
              "fillmode": "overlay",
              "size": 10,
              "solidity": 0.2
             }
            },
            "type": "bar"
           }
          ],
          "barpolar": [
           {
            "marker": {
             "line": {
              "color": "#E5ECF6",
              "width": 0.5
             },
             "pattern": {
              "fillmode": "overlay",
              "size": 10,
              "solidity": 0.2
             }
            },
            "type": "barpolar"
           }
          ],
          "carpet": [
           {
            "aaxis": {
             "endlinecolor": "#2a3f5f",
             "gridcolor": "white",
             "linecolor": "white",
             "minorgridcolor": "white",
             "startlinecolor": "#2a3f5f"
            },
            "baxis": {
             "endlinecolor": "#2a3f5f",
             "gridcolor": "white",
             "linecolor": "white",
             "minorgridcolor": "white",
             "startlinecolor": "#2a3f5f"
            },
            "type": "carpet"
           }
          ],
          "choropleth": [
           {
            "colorbar": {
             "outlinewidth": 0,
             "ticks": ""
            },
            "type": "choropleth"
           }
          ],
          "contour": [
           {
            "colorbar": {
             "outlinewidth": 0,
             "ticks": ""
            },
            "colorscale": [
             [
              0,
              "#0d0887"
             ],
             [
              0.1111111111111111,
              "#46039f"
             ],
             [
              0.2222222222222222,
              "#7201a8"
             ],
             [
              0.3333333333333333,
              "#9c179e"
             ],
             [
              0.4444444444444444,
              "#bd3786"
             ],
             [
              0.5555555555555556,
              "#d8576b"
             ],
             [
              0.6666666666666666,
              "#ed7953"
             ],
             [
              0.7777777777777778,
              "#fb9f3a"
             ],
             [
              0.8888888888888888,
              "#fdca26"
             ],
             [
              1,
              "#f0f921"
             ]
            ],
            "type": "contour"
           }
          ],
          "contourcarpet": [
           {
            "colorbar": {
             "outlinewidth": 0,
             "ticks": ""
            },
            "type": "contourcarpet"
           }
          ],
          "heatmap": [
           {
            "colorbar": {
             "outlinewidth": 0,
             "ticks": ""
            },
            "colorscale": [
             [
              0,
              "#0d0887"
             ],
             [
              0.1111111111111111,
              "#46039f"
             ],
             [
              0.2222222222222222,
              "#7201a8"
             ],
             [
              0.3333333333333333,
              "#9c179e"
             ],
             [
              0.4444444444444444,
              "#bd3786"
             ],
             [
              0.5555555555555556,
              "#d8576b"
             ],
             [
              0.6666666666666666,
              "#ed7953"
             ],
             [
              0.7777777777777778,
              "#fb9f3a"
             ],
             [
              0.8888888888888888,
              "#fdca26"
             ],
             [
              1,
              "#f0f921"
             ]
            ],
            "type": "heatmap"
           }
          ],
          "heatmapgl": [
           {
            "colorbar": {
             "outlinewidth": 0,
             "ticks": ""
            },
            "colorscale": [
             [
              0,
              "#0d0887"
             ],
             [
              0.1111111111111111,
              "#46039f"
             ],
             [
              0.2222222222222222,
              "#7201a8"
             ],
             [
              0.3333333333333333,
              "#9c179e"
             ],
             [
              0.4444444444444444,
              "#bd3786"
             ],
             [
              0.5555555555555556,
              "#d8576b"
             ],
             [
              0.6666666666666666,
              "#ed7953"
             ],
             [
              0.7777777777777778,
              "#fb9f3a"
             ],
             [
              0.8888888888888888,
              "#fdca26"
             ],
             [
              1,
              "#f0f921"
             ]
            ],
            "type": "heatmapgl"
           }
          ],
          "histogram": [
           {
            "marker": {
             "pattern": {
              "fillmode": "overlay",
              "size": 10,
              "solidity": 0.2
             }
            },
            "type": "histogram"
           }
          ],
          "histogram2d": [
           {
            "colorbar": {
             "outlinewidth": 0,
             "ticks": ""
            },
            "colorscale": [
             [
              0,
              "#0d0887"
             ],
             [
              0.1111111111111111,
              "#46039f"
             ],
             [
              0.2222222222222222,
              "#7201a8"
             ],
             [
              0.3333333333333333,
              "#9c179e"
             ],
             [
              0.4444444444444444,
              "#bd3786"
             ],
             [
              0.5555555555555556,
              "#d8576b"
             ],
             [
              0.6666666666666666,
              "#ed7953"
             ],
             [
              0.7777777777777778,
              "#fb9f3a"
             ],
             [
              0.8888888888888888,
              "#fdca26"
             ],
             [
              1,
              "#f0f921"
             ]
            ],
            "type": "histogram2d"
           }
          ],
          "histogram2dcontour": [
           {
            "colorbar": {
             "outlinewidth": 0,
             "ticks": ""
            },
            "colorscale": [
             [
              0,
              "#0d0887"
             ],
             [
              0.1111111111111111,
              "#46039f"
             ],
             [
              0.2222222222222222,
              "#7201a8"
             ],
             [
              0.3333333333333333,
              "#9c179e"
             ],
             [
              0.4444444444444444,
              "#bd3786"
             ],
             [
              0.5555555555555556,
              "#d8576b"
             ],
             [
              0.6666666666666666,
              "#ed7953"
             ],
             [
              0.7777777777777778,
              "#fb9f3a"
             ],
             [
              0.8888888888888888,
              "#fdca26"
             ],
             [
              1,
              "#f0f921"
             ]
            ],
            "type": "histogram2dcontour"
           }
          ],
          "mesh3d": [
           {
            "colorbar": {
             "outlinewidth": 0,
             "ticks": ""
            },
            "type": "mesh3d"
           }
          ],
          "parcoords": [
           {
            "line": {
             "colorbar": {
              "outlinewidth": 0,
              "ticks": ""
             }
            },
            "type": "parcoords"
           }
          ],
          "pie": [
           {
            "automargin": true,
            "type": "pie"
           }
          ],
          "scatter": [
           {
            "fillpattern": {
             "fillmode": "overlay",
             "size": 10,
             "solidity": 0.2
            },
            "type": "scatter"
           }
          ],
          "scatter3d": [
           {
            "line": {
             "colorbar": {
              "outlinewidth": 0,
              "ticks": ""
             }
            },
            "marker": {
             "colorbar": {
              "outlinewidth": 0,
              "ticks": ""
             }
            },
            "type": "scatter3d"
           }
          ],
          "scattercarpet": [
           {
            "marker": {
             "colorbar": {
              "outlinewidth": 0,
              "ticks": ""
             }
            },
            "type": "scattercarpet"
           }
          ],
          "scattergeo": [
           {
            "marker": {
             "colorbar": {
              "outlinewidth": 0,
              "ticks": ""
             }
            },
            "type": "scattergeo"
           }
          ],
          "scattergl": [
           {
            "marker": {
             "colorbar": {
              "outlinewidth": 0,
              "ticks": ""
             }
            },
            "type": "scattergl"
           }
          ],
          "scattermapbox": [
           {
            "marker": {
             "colorbar": {
              "outlinewidth": 0,
              "ticks": ""
             }
            },
            "type": "scattermapbox"
           }
          ],
          "scatterpolar": [
           {
            "marker": {
             "colorbar": {
              "outlinewidth": 0,
              "ticks": ""
             }
            },
            "type": "scatterpolar"
           }
          ],
          "scatterpolargl": [
           {
            "marker": {
             "colorbar": {
              "outlinewidth": 0,
              "ticks": ""
             }
            },
            "type": "scatterpolargl"
           }
          ],
          "scatterternary": [
           {
            "marker": {
             "colorbar": {
              "outlinewidth": 0,
              "ticks": ""
             }
            },
            "type": "scatterternary"
           }
          ],
          "surface": [
           {
            "colorbar": {
             "outlinewidth": 0,
             "ticks": ""
            },
            "colorscale": [
             [
              0,
              "#0d0887"
             ],
             [
              0.1111111111111111,
              "#46039f"
             ],
             [
              0.2222222222222222,
              "#7201a8"
             ],
             [
              0.3333333333333333,
              "#9c179e"
             ],
             [
              0.4444444444444444,
              "#bd3786"
             ],
             [
              0.5555555555555556,
              "#d8576b"
             ],
             [
              0.6666666666666666,
              "#ed7953"
             ],
             [
              0.7777777777777778,
              "#fb9f3a"
             ],
             [
              0.8888888888888888,
              "#fdca26"
             ],
             [
              1,
              "#f0f921"
             ]
            ],
            "type": "surface"
           }
          ],
          "table": [
           {
            "cells": {
             "fill": {
              "color": "#EBF0F8"
             },
             "line": {
              "color": "white"
             }
            },
            "header": {
             "fill": {
              "color": "#C8D4E3"
             },
             "line": {
              "color": "white"
             }
            },
            "type": "table"
           }
          ]
         },
         "layout": {
          "annotationdefaults": {
           "arrowcolor": "#2a3f5f",
           "arrowhead": 0,
           "arrowwidth": 1
          },
          "autotypenumbers": "strict",
          "coloraxis": {
           "colorbar": {
            "outlinewidth": 0,
            "ticks": ""
           }
          },
          "colorscale": {
           "diverging": [
            [
             0,
             "#8e0152"
            ],
            [
             0.1,
             "#c51b7d"
            ],
            [
             0.2,
             "#de77ae"
            ],
            [
             0.3,
             "#f1b6da"
            ],
            [
             0.4,
             "#fde0ef"
            ],
            [
             0.5,
             "#f7f7f7"
            ],
            [
             0.6,
             "#e6f5d0"
            ],
            [
             0.7,
             "#b8e186"
            ],
            [
             0.8,
             "#7fbc41"
            ],
            [
             0.9,
             "#4d9221"
            ],
            [
             1,
             "#276419"
            ]
           ],
           "sequential": [
            [
             0,
             "#0d0887"
            ],
            [
             0.1111111111111111,
             "#46039f"
            ],
            [
             0.2222222222222222,
             "#7201a8"
            ],
            [
             0.3333333333333333,
             "#9c179e"
            ],
            [
             0.4444444444444444,
             "#bd3786"
            ],
            [
             0.5555555555555556,
             "#d8576b"
            ],
            [
             0.6666666666666666,
             "#ed7953"
            ],
            [
             0.7777777777777778,
             "#fb9f3a"
            ],
            [
             0.8888888888888888,
             "#fdca26"
            ],
            [
             1,
             "#f0f921"
            ]
           ],
           "sequentialminus": [
            [
             0,
             "#0d0887"
            ],
            [
             0.1111111111111111,
             "#46039f"
            ],
            [
             0.2222222222222222,
             "#7201a8"
            ],
            [
             0.3333333333333333,
             "#9c179e"
            ],
            [
             0.4444444444444444,
             "#bd3786"
            ],
            [
             0.5555555555555556,
             "#d8576b"
            ],
            [
             0.6666666666666666,
             "#ed7953"
            ],
            [
             0.7777777777777778,
             "#fb9f3a"
            ],
            [
             0.8888888888888888,
             "#fdca26"
            ],
            [
             1,
             "#f0f921"
            ]
           ]
          },
          "colorway": [
           "#636efa",
           "#EF553B",
           "#00cc96",
           "#ab63fa",
           "#FFA15A",
           "#19d3f3",
           "#FF6692",
           "#B6E880",
           "#FF97FF",
           "#FECB52"
          ],
          "font": {
           "color": "#2a3f5f"
          },
          "geo": {
           "bgcolor": "white",
           "lakecolor": "white",
           "landcolor": "#E5ECF6",
           "showlakes": true,
           "showland": true,
           "subunitcolor": "white"
          },
          "hoverlabel": {
           "align": "left"
          },
          "hovermode": "closest",
          "mapbox": {
           "style": "light"
          },
          "paper_bgcolor": "white",
          "plot_bgcolor": "#E5ECF6",
          "polar": {
           "angularaxis": {
            "gridcolor": "white",
            "linecolor": "white",
            "ticks": ""
           },
           "bgcolor": "#E5ECF6",
           "radialaxis": {
            "gridcolor": "white",
            "linecolor": "white",
            "ticks": ""
           }
          },
          "scene": {
           "xaxis": {
            "backgroundcolor": "#E5ECF6",
            "gridcolor": "white",
            "gridwidth": 2,
            "linecolor": "white",
            "showbackground": true,
            "ticks": "",
            "zerolinecolor": "white"
           },
           "yaxis": {
            "backgroundcolor": "#E5ECF6",
            "gridcolor": "white",
            "gridwidth": 2,
            "linecolor": "white",
            "showbackground": true,
            "ticks": "",
            "zerolinecolor": "white"
           },
           "zaxis": {
            "backgroundcolor": "#E5ECF6",
            "gridcolor": "white",
            "gridwidth": 2,
            "linecolor": "white",
            "showbackground": true,
            "ticks": "",
            "zerolinecolor": "white"
           }
          },
          "shapedefaults": {
           "line": {
            "color": "#2a3f5f"
           }
          },
          "ternary": {
           "aaxis": {
            "gridcolor": "white",
            "linecolor": "white",
            "ticks": ""
           },
           "baxis": {
            "gridcolor": "white",
            "linecolor": "white",
            "ticks": ""
           },
           "bgcolor": "#E5ECF6",
           "caxis": {
            "gridcolor": "white",
            "linecolor": "white",
            "ticks": ""
           }
          },
          "title": {
           "x": 0.05
          },
          "xaxis": {
           "automargin": true,
           "gridcolor": "white",
           "linecolor": "white",
           "ticks": "",
           "title": {
            "standoff": 15
           },
           "zerolinecolor": "white",
           "zerolinewidth": 2
          },
          "yaxis": {
           "automargin": true,
           "gridcolor": "white",
           "linecolor": "white",
           "ticks": "",
           "title": {
            "standoff": 15
           },
           "zerolinecolor": "white",
           "zerolinewidth": 2
          }
         }
        },
        "xaxis": {
         "anchor": "y",
         "domain": [
          0,
          1
         ],
         "title": {
          "text": "PAID"
         }
        },
        "yaxis": {
         "anchor": "x",
         "domain": [
          0,
          1
         ],
         "title": {
          "text": "count"
         }
        }
       }
      },
      "text/html": [
       "<div>                            <div id=\"7de2eb3c-3f99-4d32-8a30-b2fdea1c219c\" class=\"plotly-graph-div\" style=\"height:525px; width:100%;\"></div>            <script type=\"text/javascript\">                require([\"plotly\"], function(Plotly) {                    window.PLOTLYENV=window.PLOTLYENV || {};                                    if (document.getElementById(\"7de2eb3c-3f99-4d32-8a30-b2fdea1c219c\")) {                    Plotly.newPlot(                        \"7de2eb3c-3f99-4d32-8a30-b2fdea1c219c\",                        [{\"alignmentgroup\":\"True\",\"bingroup\":\"x\",\"hovertemplate\":\"PAID=%{x}\\u003cbr\\u003ecount=%{y}\\u003cextra\\u003e\\u003c\\u002fextra\\u003e\",\"legendgroup\":\"\",\"marker\":{\"color\":\"#636efa\",\"pattern\":{\"shape\":\"\"}},\"name\":\"\",\"nbinsx\":20,\"offsetgroup\":\"\",\"orientation\":\"v\",\"showlegend\":false,\"x\":[2384.67,650.0,654.0,3890.07,295.99,11756.34,2402.0,296.97,249.1,14833.3,3025.0,2750.0,2612.74,1259.89,824.85,669.5,664.34,408.39,3953.84,3841.66,239.37,30.0,6384.0,4467.92,1541.1,1354.93,1263.51,1045.0,519.75,499.28,365.26,322.34,122.41,10524.64,6854.02,3206.76,2724.04,2269.0,2169.88,1929.81,1061.8,945.8,899.13,7326.67,5301.72,3596.5,2322.72,1944.45,1491.69,1314.4,836.78,479.0,426.19,3112.89,2500.0,1921.22,1472.87,1444.89,1368.76,1346.36,772.23,688.67,362.63,359.41,354.29,262.81,244.11,9377.82,5540.07,3118.5,2495.8,2362.89,2007.78,1816.41,1500.0,1139.6,952.05,746.89,644.87,188.61,117.4,12714.43,10116.07,1949.14,1852.5,1722.82,1539.07,1476.43,1458.13,1119.52,990.07,987.0,782.44,459.0,377.36,319.67,176.07,154.75,8493.76,3809.83,3222.66,1113.38,766.4,663.17,640.4,619.06,419.18,298.62,160.2,105.5,8323.31,6291.84,4904.64,4096.58,3334.65,1755.95,1160.63,1098.37,818.79,651.57,646.79,584.61,417.04,399.9,371.63,365.5,275.43,146.56,14651.31,6754.81,5071.99,4809.52,2884.46,2591.33,2419.75,1321.7,1308.0,981.86,843.98,817.62,712.0,634.48,463.96,462.93,430.38,388.71,112.78,85.0,12151.86,5186.82,4451.39,3968.51,3392.58,1879.51,1792.54,1607.6,1238.0,1130.0,1081.71,1033.84,671.59,361.37,171.7,40.0,3203.35,3060.69,2171.93,1727.85,1550.0,1470.35,1229.01,1010.94,575.36,555.34,533.11,459.1,253.75,148.65,4184.46,4082.49,1846.1,1688.78,1118.91,749.64,725.71,722.02,648.06,593.46,516.81,302.54,300.0,278.55,248.68,131.0,28.46,13058.85,6950.54,2930.0,2112.46,2100.0,1500.0,1386.41,1270.17,1203.81,993.59,903.0,900.0,583.76,580.32,376.46,275.94,91.27,6013.74,4804.22,3179.28,2893.53,1916.21,1209.08,1036.74,986.12,893.03,754.31,740.38,694.91,693.13,564.05,551.78,549.77,497.85,403.3,358.7,284.54,228.0,177.6,177.42,139.79,33137.5,7293.43,3754.51,3495.14,3140.66,2137.4,1971.75,1956.0,1870.58,1650.0,1188.74,1115.89,1088.73,1074.35,1016.43,860.67,831.8,796.8,759.57,668.74,582.62,404.0,393.5,309.67,292.44,221.7,103.75,11511.72,6090.02,1727.33,1235.07,910.01,812.98,562.05,527.34,451.31,332.06,315.53,10527.4,7751.55,5711.53,3804.44,3760.07,2757.83,2565.84,2221.87,2139.9,2000.0,1363.23,1132.41,993.19,964.22,898.55,822.1,761.22,754.56,685.71,622.53,604.95,587.51,490.25,489.73,465.5,329.91,272.01,258.5,4643.8,3523.9,3007.96,2192.98,1752.16,1686.2,1648.41,1381.16,1336.26,1248.01,950.61,945.56,880.82,713.55,645.8,626.38,573.4,488.16,458.0,443.95,253.59,209.83,138.86,100.0,30.0,24624.44,8123.33,5158.65,5035.93,4625.47,1707.92,1694.59,1501.05,1369.74,946.38,825.66,682.85,604.95,585.34,565.02,529.28,388.03,377.54,303.0,300.0,198.98,135.0,47.52,11458.07,8300.31,7827.74,6261.92,5861.5,5381.14,4532.02,3656.77,2928.92,2547.5,2276.5,2017.28,1678.17,1651.86,1482.45,1480.93,1348.93,1189.96,1090.41,940.28,925.47,852.22,417.18,369.02,346.79,244.23,132.0,100.0,14753.58,11288.76,10175.27,6277.84,4939.5,4786.51,3167.49,2572.22,1712.27,1712.13,1396.61,1377.31,1108.42,1001.76,989.59,891.09,882.77,670.77,638.99,546.32,536.11,533.33,464.59,460.36,291.92,257.01,106.0,7487.94,7296.2,4929.65,2532.6,2344.69,1855.85,1812.47,1431.81,1226.28,1122.12,1090.75,1067.57,1012.19,928.2,861.89,809.34,782.9,768.05,698.65,630.11,617.9,594.8,585.74,390.02,291.28,236.53,10077.0,8569.3,6124.34,5335.35,3486.96,3255.88,2985.29,2418.4,2368.69,2007.64,1996.0,1869.49,1600.18,1278.52,1212.85,1039.69,834.12,805.18,676.15,651.18,586.85,315.61,311.32,25.44,9793.42,7620.37,6800.94,4781.43,3944.37,2406.0,1613.41,1340.74,1249.02,1086.9,941.85,909.99,903.99,875.28,738.18,492.22,468.0,443.49,439.22,359.11,8215.8,6208.2,5241.71,3912.49,3230.09,2600.0,2531.24,2038.05,1890.5,1704.54,1145.63,959.52,763.07,746.63,700.0,554.55,545.3,490.6,273.29,189.9,10652.59,5556.75,3403.09,3328.93,2805.73],\"xaxis\":\"x\",\"yaxis\":\"y\",\"type\":\"histogram\"}],                        {\"template\":{\"data\":{\"histogram2dcontour\":[{\"type\":\"histogram2dcontour\",\"colorbar\":{\"outlinewidth\":0,\"ticks\":\"\"},\"colorscale\":[[0.0,\"#0d0887\"],[0.1111111111111111,\"#46039f\"],[0.2222222222222222,\"#7201a8\"],[0.3333333333333333,\"#9c179e\"],[0.4444444444444444,\"#bd3786\"],[0.5555555555555556,\"#d8576b\"],[0.6666666666666666,\"#ed7953\"],[0.7777777777777778,\"#fb9f3a\"],[0.8888888888888888,\"#fdca26\"],[1.0,\"#f0f921\"]]}],\"choropleth\":[{\"type\":\"choropleth\",\"colorbar\":{\"outlinewidth\":0,\"ticks\":\"\"}}],\"histogram2d\":[{\"type\":\"histogram2d\",\"colorbar\":{\"outlinewidth\":0,\"ticks\":\"\"},\"colorscale\":[[0.0,\"#0d0887\"],[0.1111111111111111,\"#46039f\"],[0.2222222222222222,\"#7201a8\"],[0.3333333333333333,\"#9c179e\"],[0.4444444444444444,\"#bd3786\"],[0.5555555555555556,\"#d8576b\"],[0.6666666666666666,\"#ed7953\"],[0.7777777777777778,\"#fb9f3a\"],[0.8888888888888888,\"#fdca26\"],[1.0,\"#f0f921\"]]}],\"heatmap\":[{\"type\":\"heatmap\",\"colorbar\":{\"outlinewidth\":0,\"ticks\":\"\"},\"colorscale\":[[0.0,\"#0d0887\"],[0.1111111111111111,\"#46039f\"],[0.2222222222222222,\"#7201a8\"],[0.3333333333333333,\"#9c179e\"],[0.4444444444444444,\"#bd3786\"],[0.5555555555555556,\"#d8576b\"],[0.6666666666666666,\"#ed7953\"],[0.7777777777777778,\"#fb9f3a\"],[0.8888888888888888,\"#fdca26\"],[1.0,\"#f0f921\"]]}],\"heatmapgl\":[{\"type\":\"heatmapgl\",\"colorbar\":{\"outlinewidth\":0,\"ticks\":\"\"},\"colorscale\":[[0.0,\"#0d0887\"],[0.1111111111111111,\"#46039f\"],[0.2222222222222222,\"#7201a8\"],[0.3333333333333333,\"#9c179e\"],[0.4444444444444444,\"#bd3786\"],[0.5555555555555556,\"#d8576b\"],[0.6666666666666666,\"#ed7953\"],[0.7777777777777778,\"#fb9f3a\"],[0.8888888888888888,\"#fdca26\"],[1.0,\"#f0f921\"]]}],\"contourcarpet\":[{\"type\":\"contourcarpet\",\"colorbar\":{\"outlinewidth\":0,\"ticks\":\"\"}}],\"contour\":[{\"type\":\"contour\",\"colorbar\":{\"outlinewidth\":0,\"ticks\":\"\"},\"colorscale\":[[0.0,\"#0d0887\"],[0.1111111111111111,\"#46039f\"],[0.2222222222222222,\"#7201a8\"],[0.3333333333333333,\"#9c179e\"],[0.4444444444444444,\"#bd3786\"],[0.5555555555555556,\"#d8576b\"],[0.6666666666666666,\"#ed7953\"],[0.7777777777777778,\"#fb9f3a\"],[0.8888888888888888,\"#fdca26\"],[1.0,\"#f0f921\"]]}],\"surface\":[{\"type\":\"surface\",\"colorbar\":{\"outlinewidth\":0,\"ticks\":\"\"},\"colorscale\":[[0.0,\"#0d0887\"],[0.1111111111111111,\"#46039f\"],[0.2222222222222222,\"#7201a8\"],[0.3333333333333333,\"#9c179e\"],[0.4444444444444444,\"#bd3786\"],[0.5555555555555556,\"#d8576b\"],[0.6666666666666666,\"#ed7953\"],[0.7777777777777778,\"#fb9f3a\"],[0.8888888888888888,\"#fdca26\"],[1.0,\"#f0f921\"]]}],\"mesh3d\":[{\"type\":\"mesh3d\",\"colorbar\":{\"outlinewidth\":0,\"ticks\":\"\"}}],\"scatter\":[{\"fillpattern\":{\"fillmode\":\"overlay\",\"size\":10,\"solidity\":0.2},\"type\":\"scatter\"}],\"parcoords\":[{\"type\":\"parcoords\",\"line\":{\"colorbar\":{\"outlinewidth\":0,\"ticks\":\"\"}}}],\"scatterpolargl\":[{\"type\":\"scatterpolargl\",\"marker\":{\"colorbar\":{\"outlinewidth\":0,\"ticks\":\"\"}}}],\"bar\":[{\"error_x\":{\"color\":\"#2a3f5f\"},\"error_y\":{\"color\":\"#2a3f5f\"},\"marker\":{\"line\":{\"color\":\"#E5ECF6\",\"width\":0.5},\"pattern\":{\"fillmode\":\"overlay\",\"size\":10,\"solidity\":0.2}},\"type\":\"bar\"}],\"scattergeo\":[{\"type\":\"scattergeo\",\"marker\":{\"colorbar\":{\"outlinewidth\":0,\"ticks\":\"\"}}}],\"scatterpolar\":[{\"type\":\"scatterpolar\",\"marker\":{\"colorbar\":{\"outlinewidth\":0,\"ticks\":\"\"}}}],\"histogram\":[{\"marker\":{\"pattern\":{\"fillmode\":\"overlay\",\"size\":10,\"solidity\":0.2}},\"type\":\"histogram\"}],\"scattergl\":[{\"type\":\"scattergl\",\"marker\":{\"colorbar\":{\"outlinewidth\":0,\"ticks\":\"\"}}}],\"scatter3d\":[{\"type\":\"scatter3d\",\"line\":{\"colorbar\":{\"outlinewidth\":0,\"ticks\":\"\"}},\"marker\":{\"colorbar\":{\"outlinewidth\":0,\"ticks\":\"\"}}}],\"scattermapbox\":[{\"type\":\"scattermapbox\",\"marker\":{\"colorbar\":{\"outlinewidth\":0,\"ticks\":\"\"}}}],\"scatterternary\":[{\"type\":\"scatterternary\",\"marker\":{\"colorbar\":{\"outlinewidth\":0,\"ticks\":\"\"}}}],\"scattercarpet\":[{\"type\":\"scattercarpet\",\"marker\":{\"colorbar\":{\"outlinewidth\":0,\"ticks\":\"\"}}}],\"carpet\":[{\"aaxis\":{\"endlinecolor\":\"#2a3f5f\",\"gridcolor\":\"white\",\"linecolor\":\"white\",\"minorgridcolor\":\"white\",\"startlinecolor\":\"#2a3f5f\"},\"baxis\":{\"endlinecolor\":\"#2a3f5f\",\"gridcolor\":\"white\",\"linecolor\":\"white\",\"minorgridcolor\":\"white\",\"startlinecolor\":\"#2a3f5f\"},\"type\":\"carpet\"}],\"table\":[{\"cells\":{\"fill\":{\"color\":\"#EBF0F8\"},\"line\":{\"color\":\"white\"}},\"header\":{\"fill\":{\"color\":\"#C8D4E3\"},\"line\":{\"color\":\"white\"}},\"type\":\"table\"}],\"barpolar\":[{\"marker\":{\"line\":{\"color\":\"#E5ECF6\",\"width\":0.5},\"pattern\":{\"fillmode\":\"overlay\",\"size\":10,\"solidity\":0.2}},\"type\":\"barpolar\"}],\"pie\":[{\"automargin\":true,\"type\":\"pie\"}]},\"layout\":{\"autotypenumbers\":\"strict\",\"colorway\":[\"#636efa\",\"#EF553B\",\"#00cc96\",\"#ab63fa\",\"#FFA15A\",\"#19d3f3\",\"#FF6692\",\"#B6E880\",\"#FF97FF\",\"#FECB52\"],\"font\":{\"color\":\"#2a3f5f\"},\"hovermode\":\"closest\",\"hoverlabel\":{\"align\":\"left\"},\"paper_bgcolor\":\"white\",\"plot_bgcolor\":\"#E5ECF6\",\"polar\":{\"bgcolor\":\"#E5ECF6\",\"angularaxis\":{\"gridcolor\":\"white\",\"linecolor\":\"white\",\"ticks\":\"\"},\"radialaxis\":{\"gridcolor\":\"white\",\"linecolor\":\"white\",\"ticks\":\"\"}},\"ternary\":{\"bgcolor\":\"#E5ECF6\",\"aaxis\":{\"gridcolor\":\"white\",\"linecolor\":\"white\",\"ticks\":\"\"},\"baxis\":{\"gridcolor\":\"white\",\"linecolor\":\"white\",\"ticks\":\"\"},\"caxis\":{\"gridcolor\":\"white\",\"linecolor\":\"white\",\"ticks\":\"\"}},\"coloraxis\":{\"colorbar\":{\"outlinewidth\":0,\"ticks\":\"\"}},\"colorscale\":{\"sequential\":[[0.0,\"#0d0887\"],[0.1111111111111111,\"#46039f\"],[0.2222222222222222,\"#7201a8\"],[0.3333333333333333,\"#9c179e\"],[0.4444444444444444,\"#bd3786\"],[0.5555555555555556,\"#d8576b\"],[0.6666666666666666,\"#ed7953\"],[0.7777777777777778,\"#fb9f3a\"],[0.8888888888888888,\"#fdca26\"],[1.0,\"#f0f921\"]],\"sequentialminus\":[[0.0,\"#0d0887\"],[0.1111111111111111,\"#46039f\"],[0.2222222222222222,\"#7201a8\"],[0.3333333333333333,\"#9c179e\"],[0.4444444444444444,\"#bd3786\"],[0.5555555555555556,\"#d8576b\"],[0.6666666666666666,\"#ed7953\"],[0.7777777777777778,\"#fb9f3a\"],[0.8888888888888888,\"#fdca26\"],[1.0,\"#f0f921\"]],\"diverging\":[[0,\"#8e0152\"],[0.1,\"#c51b7d\"],[0.2,\"#de77ae\"],[0.3,\"#f1b6da\"],[0.4,\"#fde0ef\"],[0.5,\"#f7f7f7\"],[0.6,\"#e6f5d0\"],[0.7,\"#b8e186\"],[0.8,\"#7fbc41\"],[0.9,\"#4d9221\"],[1,\"#276419\"]]},\"xaxis\":{\"gridcolor\":\"white\",\"linecolor\":\"white\",\"ticks\":\"\",\"title\":{\"standoff\":15},\"zerolinecolor\":\"white\",\"automargin\":true,\"zerolinewidth\":2},\"yaxis\":{\"gridcolor\":\"white\",\"linecolor\":\"white\",\"ticks\":\"\",\"title\":{\"standoff\":15},\"zerolinecolor\":\"white\",\"automargin\":true,\"zerolinewidth\":2},\"scene\":{\"xaxis\":{\"backgroundcolor\":\"#E5ECF6\",\"gridcolor\":\"white\",\"linecolor\":\"white\",\"showbackground\":true,\"ticks\":\"\",\"zerolinecolor\":\"white\",\"gridwidth\":2},\"yaxis\":{\"backgroundcolor\":\"#E5ECF6\",\"gridcolor\":\"white\",\"linecolor\":\"white\",\"showbackground\":true,\"ticks\":\"\",\"zerolinecolor\":\"white\",\"gridwidth\":2},\"zaxis\":{\"backgroundcolor\":\"#E5ECF6\",\"gridcolor\":\"white\",\"linecolor\":\"white\",\"showbackground\":true,\"ticks\":\"\",\"zerolinecolor\":\"white\",\"gridwidth\":2}},\"shapedefaults\":{\"line\":{\"color\":\"#2a3f5f\"}},\"annotationdefaults\":{\"arrowcolor\":\"#2a3f5f\",\"arrowhead\":0,\"arrowwidth\":1},\"geo\":{\"bgcolor\":\"white\",\"landcolor\":\"#E5ECF6\",\"subunitcolor\":\"white\",\"showland\":true,\"showlakes\":true,\"lakecolor\":\"white\"},\"title\":{\"x\":0.05},\"mapbox\":{\"style\":\"light\"}}},\"xaxis\":{\"anchor\":\"y\",\"domain\":[0.0,1.0],\"title\":{\"text\":\"PAID\"}},\"yaxis\":{\"anchor\":\"x\",\"domain\":[0.0,1.0],\"title\":{\"text\":\"count\"}},\"legend\":{\"tracegroupgap\":0},\"margin\":{\"t\":60},\"barmode\":\"relative\"},                        {\"responsive\": true}                    ).then(function(){\n",
       "                            \n",
       "var gd = document.getElementById('7de2eb3c-3f99-4d32-8a30-b2fdea1c219c');\n",
       "var x = new MutationObserver(function (mutations, observer) {{\n",
       "        var display = window.getComputedStyle(gd).display;\n",
       "        if (!display || display === 'none') {{\n",
       "            console.log([gd, 'removed!']);\n",
       "            Plotly.purge(gd);\n",
       "            observer.disconnect();\n",
       "        }}\n",
       "}});\n",
       "\n",
       "// Listen for the removal of the full notebook cells\n",
       "var notebookContainer = gd.closest('#notebook-container');\n",
       "if (notebookContainer) {{\n",
       "    x.observe(notebookContainer, {childList: true});\n",
       "}}\n",
       "\n",
       "// Listen for the clearing of the current output cell\n",
       "var outputEl = gd.closest('.output');\n",
       "if (outputEl) {{\n",
       "    x.observe(outputEl, {childList: true});\n",
       "}}\n",
       "\n",
       "                        })                };                });            </script>        </div>"
      ]
     },
     "metadata": {},
     "output_type": "display_data"
    }
   ],
   "source": [
    "# histogram\n"
   ]
  },
  {
   "cell_type": "code",
   "execution_count": 66,
   "id": "3e6b03e9",
   "metadata": {},
   "outputs": [
    {
     "data": {
      "application/vnd.plotly.v1+json": {
       "config": {
        "plotlyServerURL": "https://plot.ly"
       },
       "data": [
        {
         "alignmentgroup": "True",
         "hovertemplate": "PAID=%{x}<extra></extra>",
         "legendgroup": "",
         "marker": {
          "color": "#636efa"
         },
         "name": "",
         "notched": false,
         "offsetgroup": "",
         "orientation": "h",
         "showlegend": false,
         "type": "box",
         "x": [
          2384.67,
          650,
          654,
          3890.07,
          295.99,
          11756.34,
          2402,
          296.97,
          249.1,
          14833.3,
          3025,
          2750,
          2612.74,
          1259.89,
          824.85,
          669.5,
          664.34,
          408.39,
          3953.84,
          3841.66,
          239.37,
          30,
          6384,
          4467.92,
          1541.1,
          1354.93,
          1263.51,
          1045,
          519.75,
          499.28,
          365.26,
          322.34,
          122.41,
          10524.64,
          6854.02,
          3206.76,
          2724.04,
          2269,
          2169.88,
          1929.81,
          1061.8,
          945.8,
          899.13,
          7326.67,
          5301.72,
          3596.5,
          2322.72,
          1944.45,
          1491.69,
          1314.4,
          836.78,
          479,
          426.19,
          3112.89,
          2500,
          1921.22,
          1472.87,
          1444.89,
          1368.76,
          1346.36,
          772.23,
          688.67,
          362.63,
          359.41,
          354.29,
          262.81,
          244.11,
          9377.82,
          5540.07,
          3118.5,
          2495.8,
          2362.89,
          2007.78,
          1816.41,
          1500,
          1139.6,
          952.05,
          746.89,
          644.87,
          188.61,
          117.4,
          12714.43,
          10116.07,
          1949.14,
          1852.5,
          1722.82,
          1539.07,
          1476.43,
          1458.13,
          1119.52,
          990.07,
          987,
          782.44,
          459,
          377.36,
          319.67,
          176.07,
          154.75,
          8493.76,
          3809.83,
          3222.66,
          1113.38,
          766.4,
          663.17,
          640.4,
          619.06,
          419.18,
          298.62,
          160.2,
          105.5,
          8323.31,
          6291.84,
          4904.64,
          4096.58,
          3334.65,
          1755.95,
          1160.63,
          1098.37,
          818.79,
          651.57,
          646.79,
          584.61,
          417.04,
          399.9,
          371.63,
          365.5,
          275.43,
          146.56,
          14651.31,
          6754.81,
          5071.99,
          4809.52,
          2884.46,
          2591.33,
          2419.75,
          1321.7,
          1308,
          981.86,
          843.98,
          817.62,
          712,
          634.48,
          463.96,
          462.93,
          430.38,
          388.71,
          112.78,
          85,
          12151.86,
          5186.82,
          4451.39,
          3968.51,
          3392.58,
          1879.51,
          1792.54,
          1607.6,
          1238,
          1130,
          1081.71,
          1033.84,
          671.59,
          361.37,
          171.7,
          40,
          3203.35,
          3060.69,
          2171.93,
          1727.85,
          1550,
          1470.35,
          1229.01,
          1010.94,
          575.36,
          555.34,
          533.11,
          459.1,
          253.75,
          148.65,
          4184.46,
          4082.49,
          1846.1,
          1688.78,
          1118.91,
          749.64,
          725.71,
          722.02,
          648.06,
          593.46,
          516.81,
          302.54,
          300,
          278.55,
          248.68,
          131,
          28.46,
          13058.85,
          6950.54,
          2930,
          2112.46,
          2100,
          1500,
          1386.41,
          1270.17,
          1203.81,
          993.59,
          903,
          900,
          583.76,
          580.32,
          376.46,
          275.94,
          91.27,
          6013.74,
          4804.22,
          3179.28,
          2893.53,
          1916.21,
          1209.08,
          1036.74,
          986.12,
          893.03,
          754.31,
          740.38,
          694.91,
          693.13,
          564.05,
          551.78,
          549.77,
          497.85,
          403.3,
          358.7,
          284.54,
          228,
          177.6,
          177.42,
          139.79,
          33137.5,
          7293.43,
          3754.51,
          3495.14,
          3140.66,
          2137.4,
          1971.75,
          1956,
          1870.58,
          1650,
          1188.74,
          1115.89,
          1088.73,
          1074.35,
          1016.43,
          860.67,
          831.8,
          796.8,
          759.57,
          668.74,
          582.62,
          404,
          393.5,
          309.67,
          292.44,
          221.7,
          103.75,
          11511.72,
          6090.02,
          1727.33,
          1235.07,
          910.01,
          812.98,
          562.05,
          527.34,
          451.31,
          332.06,
          315.53,
          10527.4,
          7751.55,
          5711.53,
          3804.44,
          3760.07,
          2757.83,
          2565.84,
          2221.87,
          2139.9,
          2000,
          1363.23,
          1132.41,
          993.19,
          964.22,
          898.55,
          822.1,
          761.22,
          754.56,
          685.71,
          622.53,
          604.95,
          587.51,
          490.25,
          489.73,
          465.5,
          329.91,
          272.01,
          258.5,
          4643.8,
          3523.9,
          3007.96,
          2192.98,
          1752.16,
          1686.2,
          1648.41,
          1381.16,
          1336.26,
          1248.01,
          950.61,
          945.56,
          880.82,
          713.55,
          645.8,
          626.38,
          573.4,
          488.16,
          458,
          443.95,
          253.59,
          209.83,
          138.86,
          100,
          30,
          24624.44,
          8123.33,
          5158.65,
          5035.93,
          4625.47,
          1707.92,
          1694.59,
          1501.05,
          1369.74,
          946.38,
          825.66,
          682.85,
          604.95,
          585.34,
          565.02,
          529.28,
          388.03,
          377.54,
          303,
          300,
          198.98,
          135,
          47.52,
          11458.07,
          8300.31,
          7827.74,
          6261.92,
          5861.5,
          5381.14,
          4532.02,
          3656.77,
          2928.92,
          2547.5,
          2276.5,
          2017.28,
          1678.17,
          1651.86,
          1482.45,
          1480.93,
          1348.93,
          1189.96,
          1090.41,
          940.28,
          925.47,
          852.22,
          417.18,
          369.02,
          346.79,
          244.23,
          132,
          100,
          14753.58,
          11288.76,
          10175.27,
          6277.84,
          4939.5,
          4786.51,
          3167.49,
          2572.22,
          1712.27,
          1712.13,
          1396.61,
          1377.31,
          1108.42,
          1001.76,
          989.59,
          891.09,
          882.77,
          670.77,
          638.99,
          546.32,
          536.11,
          533.33,
          464.59,
          460.36,
          291.92,
          257.01,
          106,
          7487.94,
          7296.2,
          4929.65,
          2532.6,
          2344.69,
          1855.85,
          1812.47,
          1431.81,
          1226.28,
          1122.12,
          1090.75,
          1067.57,
          1012.19,
          928.2,
          861.89,
          809.34,
          782.9,
          768.05,
          698.65,
          630.11,
          617.9,
          594.8,
          585.74,
          390.02,
          291.28,
          236.53,
          10077,
          8569.3,
          6124.34,
          5335.35,
          3486.96,
          3255.88,
          2985.29,
          2418.4,
          2368.69,
          2007.64,
          1996,
          1869.49,
          1600.18,
          1278.52,
          1212.85,
          1039.69,
          834.12,
          805.18,
          676.15,
          651.18,
          586.85,
          315.61,
          311.32,
          25.44,
          9793.42,
          7620.37,
          6800.94,
          4781.43,
          3944.37,
          2406,
          1613.41,
          1340.74,
          1249.02,
          1086.9,
          941.85,
          909.99,
          903.99,
          875.28,
          738.18,
          492.22,
          468,
          443.49,
          439.22,
          359.11,
          8215.8,
          6208.2,
          5241.71,
          3912.49,
          3230.09,
          2600,
          2531.24,
          2038.05,
          1890.5,
          1704.54,
          1145.63,
          959.52,
          763.07,
          746.63,
          700,
          554.55,
          545.3,
          490.6,
          273.29,
          189.9,
          10652.59,
          5556.75,
          3403.09,
          3328.93,
          2805.73
         ],
         "x0": " ",
         "xaxis": "x",
         "y0": " ",
         "yaxis": "y"
        }
       ],
       "layout": {
        "boxmode": "group",
        "legend": {
         "tracegroupgap": 0
        },
        "margin": {
         "t": 60
        },
        "template": {
         "data": {
          "bar": [
           {
            "error_x": {
             "color": "#2a3f5f"
            },
            "error_y": {
             "color": "#2a3f5f"
            },
            "marker": {
             "line": {
              "color": "#E5ECF6",
              "width": 0.5
             },
             "pattern": {
              "fillmode": "overlay",
              "size": 10,
              "solidity": 0.2
             }
            },
            "type": "bar"
           }
          ],
          "barpolar": [
           {
            "marker": {
             "line": {
              "color": "#E5ECF6",
              "width": 0.5
             },
             "pattern": {
              "fillmode": "overlay",
              "size": 10,
              "solidity": 0.2
             }
            },
            "type": "barpolar"
           }
          ],
          "carpet": [
           {
            "aaxis": {
             "endlinecolor": "#2a3f5f",
             "gridcolor": "white",
             "linecolor": "white",
             "minorgridcolor": "white",
             "startlinecolor": "#2a3f5f"
            },
            "baxis": {
             "endlinecolor": "#2a3f5f",
             "gridcolor": "white",
             "linecolor": "white",
             "minorgridcolor": "white",
             "startlinecolor": "#2a3f5f"
            },
            "type": "carpet"
           }
          ],
          "choropleth": [
           {
            "colorbar": {
             "outlinewidth": 0,
             "ticks": ""
            },
            "type": "choropleth"
           }
          ],
          "contour": [
           {
            "colorbar": {
             "outlinewidth": 0,
             "ticks": ""
            },
            "colorscale": [
             [
              0,
              "#0d0887"
             ],
             [
              0.1111111111111111,
              "#46039f"
             ],
             [
              0.2222222222222222,
              "#7201a8"
             ],
             [
              0.3333333333333333,
              "#9c179e"
             ],
             [
              0.4444444444444444,
              "#bd3786"
             ],
             [
              0.5555555555555556,
              "#d8576b"
             ],
             [
              0.6666666666666666,
              "#ed7953"
             ],
             [
              0.7777777777777778,
              "#fb9f3a"
             ],
             [
              0.8888888888888888,
              "#fdca26"
             ],
             [
              1,
              "#f0f921"
             ]
            ],
            "type": "contour"
           }
          ],
          "contourcarpet": [
           {
            "colorbar": {
             "outlinewidth": 0,
             "ticks": ""
            },
            "type": "contourcarpet"
           }
          ],
          "heatmap": [
           {
            "colorbar": {
             "outlinewidth": 0,
             "ticks": ""
            },
            "colorscale": [
             [
              0,
              "#0d0887"
             ],
             [
              0.1111111111111111,
              "#46039f"
             ],
             [
              0.2222222222222222,
              "#7201a8"
             ],
             [
              0.3333333333333333,
              "#9c179e"
             ],
             [
              0.4444444444444444,
              "#bd3786"
             ],
             [
              0.5555555555555556,
              "#d8576b"
             ],
             [
              0.6666666666666666,
              "#ed7953"
             ],
             [
              0.7777777777777778,
              "#fb9f3a"
             ],
             [
              0.8888888888888888,
              "#fdca26"
             ],
             [
              1,
              "#f0f921"
             ]
            ],
            "type": "heatmap"
           }
          ],
          "heatmapgl": [
           {
            "colorbar": {
             "outlinewidth": 0,
             "ticks": ""
            },
            "colorscale": [
             [
              0,
              "#0d0887"
             ],
             [
              0.1111111111111111,
              "#46039f"
             ],
             [
              0.2222222222222222,
              "#7201a8"
             ],
             [
              0.3333333333333333,
              "#9c179e"
             ],
             [
              0.4444444444444444,
              "#bd3786"
             ],
             [
              0.5555555555555556,
              "#d8576b"
             ],
             [
              0.6666666666666666,
              "#ed7953"
             ],
             [
              0.7777777777777778,
              "#fb9f3a"
             ],
             [
              0.8888888888888888,
              "#fdca26"
             ],
             [
              1,
              "#f0f921"
             ]
            ],
            "type": "heatmapgl"
           }
          ],
          "histogram": [
           {
            "marker": {
             "pattern": {
              "fillmode": "overlay",
              "size": 10,
              "solidity": 0.2
             }
            },
            "type": "histogram"
           }
          ],
          "histogram2d": [
           {
            "colorbar": {
             "outlinewidth": 0,
             "ticks": ""
            },
            "colorscale": [
             [
              0,
              "#0d0887"
             ],
             [
              0.1111111111111111,
              "#46039f"
             ],
             [
              0.2222222222222222,
              "#7201a8"
             ],
             [
              0.3333333333333333,
              "#9c179e"
             ],
             [
              0.4444444444444444,
              "#bd3786"
             ],
             [
              0.5555555555555556,
              "#d8576b"
             ],
             [
              0.6666666666666666,
              "#ed7953"
             ],
             [
              0.7777777777777778,
              "#fb9f3a"
             ],
             [
              0.8888888888888888,
              "#fdca26"
             ],
             [
              1,
              "#f0f921"
             ]
            ],
            "type": "histogram2d"
           }
          ],
          "histogram2dcontour": [
           {
            "colorbar": {
             "outlinewidth": 0,
             "ticks": ""
            },
            "colorscale": [
             [
              0,
              "#0d0887"
             ],
             [
              0.1111111111111111,
              "#46039f"
             ],
             [
              0.2222222222222222,
              "#7201a8"
             ],
             [
              0.3333333333333333,
              "#9c179e"
             ],
             [
              0.4444444444444444,
              "#bd3786"
             ],
             [
              0.5555555555555556,
              "#d8576b"
             ],
             [
              0.6666666666666666,
              "#ed7953"
             ],
             [
              0.7777777777777778,
              "#fb9f3a"
             ],
             [
              0.8888888888888888,
              "#fdca26"
             ],
             [
              1,
              "#f0f921"
             ]
            ],
            "type": "histogram2dcontour"
           }
          ],
          "mesh3d": [
           {
            "colorbar": {
             "outlinewidth": 0,
             "ticks": ""
            },
            "type": "mesh3d"
           }
          ],
          "parcoords": [
           {
            "line": {
             "colorbar": {
              "outlinewidth": 0,
              "ticks": ""
             }
            },
            "type": "parcoords"
           }
          ],
          "pie": [
           {
            "automargin": true,
            "type": "pie"
           }
          ],
          "scatter": [
           {
            "fillpattern": {
             "fillmode": "overlay",
             "size": 10,
             "solidity": 0.2
            },
            "type": "scatter"
           }
          ],
          "scatter3d": [
           {
            "line": {
             "colorbar": {
              "outlinewidth": 0,
              "ticks": ""
             }
            },
            "marker": {
             "colorbar": {
              "outlinewidth": 0,
              "ticks": ""
             }
            },
            "type": "scatter3d"
           }
          ],
          "scattercarpet": [
           {
            "marker": {
             "colorbar": {
              "outlinewidth": 0,
              "ticks": ""
             }
            },
            "type": "scattercarpet"
           }
          ],
          "scattergeo": [
           {
            "marker": {
             "colorbar": {
              "outlinewidth": 0,
              "ticks": ""
             }
            },
            "type": "scattergeo"
           }
          ],
          "scattergl": [
           {
            "marker": {
             "colorbar": {
              "outlinewidth": 0,
              "ticks": ""
             }
            },
            "type": "scattergl"
           }
          ],
          "scattermapbox": [
           {
            "marker": {
             "colorbar": {
              "outlinewidth": 0,
              "ticks": ""
             }
            },
            "type": "scattermapbox"
           }
          ],
          "scatterpolar": [
           {
            "marker": {
             "colorbar": {
              "outlinewidth": 0,
              "ticks": ""
             }
            },
            "type": "scatterpolar"
           }
          ],
          "scatterpolargl": [
           {
            "marker": {
             "colorbar": {
              "outlinewidth": 0,
              "ticks": ""
             }
            },
            "type": "scatterpolargl"
           }
          ],
          "scatterternary": [
           {
            "marker": {
             "colorbar": {
              "outlinewidth": 0,
              "ticks": ""
             }
            },
            "type": "scatterternary"
           }
          ],
          "surface": [
           {
            "colorbar": {
             "outlinewidth": 0,
             "ticks": ""
            },
            "colorscale": [
             [
              0,
              "#0d0887"
             ],
             [
              0.1111111111111111,
              "#46039f"
             ],
             [
              0.2222222222222222,
              "#7201a8"
             ],
             [
              0.3333333333333333,
              "#9c179e"
             ],
             [
              0.4444444444444444,
              "#bd3786"
             ],
             [
              0.5555555555555556,
              "#d8576b"
             ],
             [
              0.6666666666666666,
              "#ed7953"
             ],
             [
              0.7777777777777778,
              "#fb9f3a"
             ],
             [
              0.8888888888888888,
              "#fdca26"
             ],
             [
              1,
              "#f0f921"
             ]
            ],
            "type": "surface"
           }
          ],
          "table": [
           {
            "cells": {
             "fill": {
              "color": "#EBF0F8"
             },
             "line": {
              "color": "white"
             }
            },
            "header": {
             "fill": {
              "color": "#C8D4E3"
             },
             "line": {
              "color": "white"
             }
            },
            "type": "table"
           }
          ]
         },
         "layout": {
          "annotationdefaults": {
           "arrowcolor": "#2a3f5f",
           "arrowhead": 0,
           "arrowwidth": 1
          },
          "autotypenumbers": "strict",
          "coloraxis": {
           "colorbar": {
            "outlinewidth": 0,
            "ticks": ""
           }
          },
          "colorscale": {
           "diverging": [
            [
             0,
             "#8e0152"
            ],
            [
             0.1,
             "#c51b7d"
            ],
            [
             0.2,
             "#de77ae"
            ],
            [
             0.3,
             "#f1b6da"
            ],
            [
             0.4,
             "#fde0ef"
            ],
            [
             0.5,
             "#f7f7f7"
            ],
            [
             0.6,
             "#e6f5d0"
            ],
            [
             0.7,
             "#b8e186"
            ],
            [
             0.8,
             "#7fbc41"
            ],
            [
             0.9,
             "#4d9221"
            ],
            [
             1,
             "#276419"
            ]
           ],
           "sequential": [
            [
             0,
             "#0d0887"
            ],
            [
             0.1111111111111111,
             "#46039f"
            ],
            [
             0.2222222222222222,
             "#7201a8"
            ],
            [
             0.3333333333333333,
             "#9c179e"
            ],
            [
             0.4444444444444444,
             "#bd3786"
            ],
            [
             0.5555555555555556,
             "#d8576b"
            ],
            [
             0.6666666666666666,
             "#ed7953"
            ],
            [
             0.7777777777777778,
             "#fb9f3a"
            ],
            [
             0.8888888888888888,
             "#fdca26"
            ],
            [
             1,
             "#f0f921"
            ]
           ],
           "sequentialminus": [
            [
             0,
             "#0d0887"
            ],
            [
             0.1111111111111111,
             "#46039f"
            ],
            [
             0.2222222222222222,
             "#7201a8"
            ],
            [
             0.3333333333333333,
             "#9c179e"
            ],
            [
             0.4444444444444444,
             "#bd3786"
            ],
            [
             0.5555555555555556,
             "#d8576b"
            ],
            [
             0.6666666666666666,
             "#ed7953"
            ],
            [
             0.7777777777777778,
             "#fb9f3a"
            ],
            [
             0.8888888888888888,
             "#fdca26"
            ],
            [
             1,
             "#f0f921"
            ]
           ]
          },
          "colorway": [
           "#636efa",
           "#EF553B",
           "#00cc96",
           "#ab63fa",
           "#FFA15A",
           "#19d3f3",
           "#FF6692",
           "#B6E880",
           "#FF97FF",
           "#FECB52"
          ],
          "font": {
           "color": "#2a3f5f"
          },
          "geo": {
           "bgcolor": "white",
           "lakecolor": "white",
           "landcolor": "#E5ECF6",
           "showlakes": true,
           "showland": true,
           "subunitcolor": "white"
          },
          "hoverlabel": {
           "align": "left"
          },
          "hovermode": "closest",
          "mapbox": {
           "style": "light"
          },
          "paper_bgcolor": "white",
          "plot_bgcolor": "#E5ECF6",
          "polar": {
           "angularaxis": {
            "gridcolor": "white",
            "linecolor": "white",
            "ticks": ""
           },
           "bgcolor": "#E5ECF6",
           "radialaxis": {
            "gridcolor": "white",
            "linecolor": "white",
            "ticks": ""
           }
          },
          "scene": {
           "xaxis": {
            "backgroundcolor": "#E5ECF6",
            "gridcolor": "white",
            "gridwidth": 2,
            "linecolor": "white",
            "showbackground": true,
            "ticks": "",
            "zerolinecolor": "white"
           },
           "yaxis": {
            "backgroundcolor": "#E5ECF6",
            "gridcolor": "white",
            "gridwidth": 2,
            "linecolor": "white",
            "showbackground": true,
            "ticks": "",
            "zerolinecolor": "white"
           },
           "zaxis": {
            "backgroundcolor": "#E5ECF6",
            "gridcolor": "white",
            "gridwidth": 2,
            "linecolor": "white",
            "showbackground": true,
            "ticks": "",
            "zerolinecolor": "white"
           }
          },
          "shapedefaults": {
           "line": {
            "color": "#2a3f5f"
           }
          },
          "ternary": {
           "aaxis": {
            "gridcolor": "white",
            "linecolor": "white",
            "ticks": ""
           },
           "baxis": {
            "gridcolor": "white",
            "linecolor": "white",
            "ticks": ""
           },
           "bgcolor": "#E5ECF6",
           "caxis": {
            "gridcolor": "white",
            "linecolor": "white",
            "ticks": ""
           }
          },
          "title": {
           "x": 0.05
          },
          "xaxis": {
           "automargin": true,
           "gridcolor": "white",
           "linecolor": "white",
           "ticks": "",
           "title": {
            "standoff": 15
           },
           "zerolinecolor": "white",
           "zerolinewidth": 2
          },
          "yaxis": {
           "automargin": true,
           "gridcolor": "white",
           "linecolor": "white",
           "ticks": "",
           "title": {
            "standoff": 15
           },
           "zerolinecolor": "white",
           "zerolinewidth": 2
          }
         }
        },
        "xaxis": {
         "anchor": "y",
         "domain": [
          0,
          1
         ],
         "title": {
          "text": "PAID"
         }
        },
        "yaxis": {
         "anchor": "x",
         "domain": [
          0,
          1
         ]
        }
       }
      },
      "text/html": [
       "<div>                            <div id=\"0c1834b1-b7a2-4169-8b75-c46e9648d29f\" class=\"plotly-graph-div\" style=\"height:525px; width:100%;\"></div>            <script type=\"text/javascript\">                require([\"plotly\"], function(Plotly) {                    window.PLOTLYENV=window.PLOTLYENV || {};                                    if (document.getElementById(\"0c1834b1-b7a2-4169-8b75-c46e9648d29f\")) {                    Plotly.newPlot(                        \"0c1834b1-b7a2-4169-8b75-c46e9648d29f\",                        [{\"alignmentgroup\":\"True\",\"hovertemplate\":\"PAID=%{x}\\u003cextra\\u003e\\u003c\\u002fextra\\u003e\",\"legendgroup\":\"\",\"marker\":{\"color\":\"#636efa\"},\"name\":\"\",\"notched\":false,\"offsetgroup\":\"\",\"orientation\":\"h\",\"showlegend\":false,\"x\":[2384.67,650.0,654.0,3890.07,295.99,11756.34,2402.0,296.97,249.1,14833.3,3025.0,2750.0,2612.74,1259.89,824.85,669.5,664.34,408.39,3953.84,3841.66,239.37,30.0,6384.0,4467.92,1541.1,1354.93,1263.51,1045.0,519.75,499.28,365.26,322.34,122.41,10524.64,6854.02,3206.76,2724.04,2269.0,2169.88,1929.81,1061.8,945.8,899.13,7326.67,5301.72,3596.5,2322.72,1944.45,1491.69,1314.4,836.78,479.0,426.19,3112.89,2500.0,1921.22,1472.87,1444.89,1368.76,1346.36,772.23,688.67,362.63,359.41,354.29,262.81,244.11,9377.82,5540.07,3118.5,2495.8,2362.89,2007.78,1816.41,1500.0,1139.6,952.05,746.89,644.87,188.61,117.4,12714.43,10116.07,1949.14,1852.5,1722.82,1539.07,1476.43,1458.13,1119.52,990.07,987.0,782.44,459.0,377.36,319.67,176.07,154.75,8493.76,3809.83,3222.66,1113.38,766.4,663.17,640.4,619.06,419.18,298.62,160.2,105.5,8323.31,6291.84,4904.64,4096.58,3334.65,1755.95,1160.63,1098.37,818.79,651.57,646.79,584.61,417.04,399.9,371.63,365.5,275.43,146.56,14651.31,6754.81,5071.99,4809.52,2884.46,2591.33,2419.75,1321.7,1308.0,981.86,843.98,817.62,712.0,634.48,463.96,462.93,430.38,388.71,112.78,85.0,12151.86,5186.82,4451.39,3968.51,3392.58,1879.51,1792.54,1607.6,1238.0,1130.0,1081.71,1033.84,671.59,361.37,171.7,40.0,3203.35,3060.69,2171.93,1727.85,1550.0,1470.35,1229.01,1010.94,575.36,555.34,533.11,459.1,253.75,148.65,4184.46,4082.49,1846.1,1688.78,1118.91,749.64,725.71,722.02,648.06,593.46,516.81,302.54,300.0,278.55,248.68,131.0,28.46,13058.85,6950.54,2930.0,2112.46,2100.0,1500.0,1386.41,1270.17,1203.81,993.59,903.0,900.0,583.76,580.32,376.46,275.94,91.27,6013.74,4804.22,3179.28,2893.53,1916.21,1209.08,1036.74,986.12,893.03,754.31,740.38,694.91,693.13,564.05,551.78,549.77,497.85,403.3,358.7,284.54,228.0,177.6,177.42,139.79,33137.5,7293.43,3754.51,3495.14,3140.66,2137.4,1971.75,1956.0,1870.58,1650.0,1188.74,1115.89,1088.73,1074.35,1016.43,860.67,831.8,796.8,759.57,668.74,582.62,404.0,393.5,309.67,292.44,221.7,103.75,11511.72,6090.02,1727.33,1235.07,910.01,812.98,562.05,527.34,451.31,332.06,315.53,10527.4,7751.55,5711.53,3804.44,3760.07,2757.83,2565.84,2221.87,2139.9,2000.0,1363.23,1132.41,993.19,964.22,898.55,822.1,761.22,754.56,685.71,622.53,604.95,587.51,490.25,489.73,465.5,329.91,272.01,258.5,4643.8,3523.9,3007.96,2192.98,1752.16,1686.2,1648.41,1381.16,1336.26,1248.01,950.61,945.56,880.82,713.55,645.8,626.38,573.4,488.16,458.0,443.95,253.59,209.83,138.86,100.0,30.0,24624.44,8123.33,5158.65,5035.93,4625.47,1707.92,1694.59,1501.05,1369.74,946.38,825.66,682.85,604.95,585.34,565.02,529.28,388.03,377.54,303.0,300.0,198.98,135.0,47.52,11458.07,8300.31,7827.74,6261.92,5861.5,5381.14,4532.02,3656.77,2928.92,2547.5,2276.5,2017.28,1678.17,1651.86,1482.45,1480.93,1348.93,1189.96,1090.41,940.28,925.47,852.22,417.18,369.02,346.79,244.23,132.0,100.0,14753.58,11288.76,10175.27,6277.84,4939.5,4786.51,3167.49,2572.22,1712.27,1712.13,1396.61,1377.31,1108.42,1001.76,989.59,891.09,882.77,670.77,638.99,546.32,536.11,533.33,464.59,460.36,291.92,257.01,106.0,7487.94,7296.2,4929.65,2532.6,2344.69,1855.85,1812.47,1431.81,1226.28,1122.12,1090.75,1067.57,1012.19,928.2,861.89,809.34,782.9,768.05,698.65,630.11,617.9,594.8,585.74,390.02,291.28,236.53,10077.0,8569.3,6124.34,5335.35,3486.96,3255.88,2985.29,2418.4,2368.69,2007.64,1996.0,1869.49,1600.18,1278.52,1212.85,1039.69,834.12,805.18,676.15,651.18,586.85,315.61,311.32,25.44,9793.42,7620.37,6800.94,4781.43,3944.37,2406.0,1613.41,1340.74,1249.02,1086.9,941.85,909.99,903.99,875.28,738.18,492.22,468.0,443.49,439.22,359.11,8215.8,6208.2,5241.71,3912.49,3230.09,2600.0,2531.24,2038.05,1890.5,1704.54,1145.63,959.52,763.07,746.63,700.0,554.55,545.3,490.6,273.29,189.9,10652.59,5556.75,3403.09,3328.93,2805.73],\"x0\":\" \",\"xaxis\":\"x\",\"y0\":\" \",\"yaxis\":\"y\",\"type\":\"box\"}],                        {\"template\":{\"data\":{\"histogram2dcontour\":[{\"type\":\"histogram2dcontour\",\"colorbar\":{\"outlinewidth\":0,\"ticks\":\"\"},\"colorscale\":[[0.0,\"#0d0887\"],[0.1111111111111111,\"#46039f\"],[0.2222222222222222,\"#7201a8\"],[0.3333333333333333,\"#9c179e\"],[0.4444444444444444,\"#bd3786\"],[0.5555555555555556,\"#d8576b\"],[0.6666666666666666,\"#ed7953\"],[0.7777777777777778,\"#fb9f3a\"],[0.8888888888888888,\"#fdca26\"],[1.0,\"#f0f921\"]]}],\"choropleth\":[{\"type\":\"choropleth\",\"colorbar\":{\"outlinewidth\":0,\"ticks\":\"\"}}],\"histogram2d\":[{\"type\":\"histogram2d\",\"colorbar\":{\"outlinewidth\":0,\"ticks\":\"\"},\"colorscale\":[[0.0,\"#0d0887\"],[0.1111111111111111,\"#46039f\"],[0.2222222222222222,\"#7201a8\"],[0.3333333333333333,\"#9c179e\"],[0.4444444444444444,\"#bd3786\"],[0.5555555555555556,\"#d8576b\"],[0.6666666666666666,\"#ed7953\"],[0.7777777777777778,\"#fb9f3a\"],[0.8888888888888888,\"#fdca26\"],[1.0,\"#f0f921\"]]}],\"heatmap\":[{\"type\":\"heatmap\",\"colorbar\":{\"outlinewidth\":0,\"ticks\":\"\"},\"colorscale\":[[0.0,\"#0d0887\"],[0.1111111111111111,\"#46039f\"],[0.2222222222222222,\"#7201a8\"],[0.3333333333333333,\"#9c179e\"],[0.4444444444444444,\"#bd3786\"],[0.5555555555555556,\"#d8576b\"],[0.6666666666666666,\"#ed7953\"],[0.7777777777777778,\"#fb9f3a\"],[0.8888888888888888,\"#fdca26\"],[1.0,\"#f0f921\"]]}],\"heatmapgl\":[{\"type\":\"heatmapgl\",\"colorbar\":{\"outlinewidth\":0,\"ticks\":\"\"},\"colorscale\":[[0.0,\"#0d0887\"],[0.1111111111111111,\"#46039f\"],[0.2222222222222222,\"#7201a8\"],[0.3333333333333333,\"#9c179e\"],[0.4444444444444444,\"#bd3786\"],[0.5555555555555556,\"#d8576b\"],[0.6666666666666666,\"#ed7953\"],[0.7777777777777778,\"#fb9f3a\"],[0.8888888888888888,\"#fdca26\"],[1.0,\"#f0f921\"]]}],\"contourcarpet\":[{\"type\":\"contourcarpet\",\"colorbar\":{\"outlinewidth\":0,\"ticks\":\"\"}}],\"contour\":[{\"type\":\"contour\",\"colorbar\":{\"outlinewidth\":0,\"ticks\":\"\"},\"colorscale\":[[0.0,\"#0d0887\"],[0.1111111111111111,\"#46039f\"],[0.2222222222222222,\"#7201a8\"],[0.3333333333333333,\"#9c179e\"],[0.4444444444444444,\"#bd3786\"],[0.5555555555555556,\"#d8576b\"],[0.6666666666666666,\"#ed7953\"],[0.7777777777777778,\"#fb9f3a\"],[0.8888888888888888,\"#fdca26\"],[1.0,\"#f0f921\"]]}],\"surface\":[{\"type\":\"surface\",\"colorbar\":{\"outlinewidth\":0,\"ticks\":\"\"},\"colorscale\":[[0.0,\"#0d0887\"],[0.1111111111111111,\"#46039f\"],[0.2222222222222222,\"#7201a8\"],[0.3333333333333333,\"#9c179e\"],[0.4444444444444444,\"#bd3786\"],[0.5555555555555556,\"#d8576b\"],[0.6666666666666666,\"#ed7953\"],[0.7777777777777778,\"#fb9f3a\"],[0.8888888888888888,\"#fdca26\"],[1.0,\"#f0f921\"]]}],\"mesh3d\":[{\"type\":\"mesh3d\",\"colorbar\":{\"outlinewidth\":0,\"ticks\":\"\"}}],\"scatter\":[{\"fillpattern\":{\"fillmode\":\"overlay\",\"size\":10,\"solidity\":0.2},\"type\":\"scatter\"}],\"parcoords\":[{\"type\":\"parcoords\",\"line\":{\"colorbar\":{\"outlinewidth\":0,\"ticks\":\"\"}}}],\"scatterpolargl\":[{\"type\":\"scatterpolargl\",\"marker\":{\"colorbar\":{\"outlinewidth\":0,\"ticks\":\"\"}}}],\"bar\":[{\"error_x\":{\"color\":\"#2a3f5f\"},\"error_y\":{\"color\":\"#2a3f5f\"},\"marker\":{\"line\":{\"color\":\"#E5ECF6\",\"width\":0.5},\"pattern\":{\"fillmode\":\"overlay\",\"size\":10,\"solidity\":0.2}},\"type\":\"bar\"}],\"scattergeo\":[{\"type\":\"scattergeo\",\"marker\":{\"colorbar\":{\"outlinewidth\":0,\"ticks\":\"\"}}}],\"scatterpolar\":[{\"type\":\"scatterpolar\",\"marker\":{\"colorbar\":{\"outlinewidth\":0,\"ticks\":\"\"}}}],\"histogram\":[{\"marker\":{\"pattern\":{\"fillmode\":\"overlay\",\"size\":10,\"solidity\":0.2}},\"type\":\"histogram\"}],\"scattergl\":[{\"type\":\"scattergl\",\"marker\":{\"colorbar\":{\"outlinewidth\":0,\"ticks\":\"\"}}}],\"scatter3d\":[{\"type\":\"scatter3d\",\"line\":{\"colorbar\":{\"outlinewidth\":0,\"ticks\":\"\"}},\"marker\":{\"colorbar\":{\"outlinewidth\":0,\"ticks\":\"\"}}}],\"scattermapbox\":[{\"type\":\"scattermapbox\",\"marker\":{\"colorbar\":{\"outlinewidth\":0,\"ticks\":\"\"}}}],\"scatterternary\":[{\"type\":\"scatterternary\",\"marker\":{\"colorbar\":{\"outlinewidth\":0,\"ticks\":\"\"}}}],\"scattercarpet\":[{\"type\":\"scattercarpet\",\"marker\":{\"colorbar\":{\"outlinewidth\":0,\"ticks\":\"\"}}}],\"carpet\":[{\"aaxis\":{\"endlinecolor\":\"#2a3f5f\",\"gridcolor\":\"white\",\"linecolor\":\"white\",\"minorgridcolor\":\"white\",\"startlinecolor\":\"#2a3f5f\"},\"baxis\":{\"endlinecolor\":\"#2a3f5f\",\"gridcolor\":\"white\",\"linecolor\":\"white\",\"minorgridcolor\":\"white\",\"startlinecolor\":\"#2a3f5f\"},\"type\":\"carpet\"}],\"table\":[{\"cells\":{\"fill\":{\"color\":\"#EBF0F8\"},\"line\":{\"color\":\"white\"}},\"header\":{\"fill\":{\"color\":\"#C8D4E3\"},\"line\":{\"color\":\"white\"}},\"type\":\"table\"}],\"barpolar\":[{\"marker\":{\"line\":{\"color\":\"#E5ECF6\",\"width\":0.5},\"pattern\":{\"fillmode\":\"overlay\",\"size\":10,\"solidity\":0.2}},\"type\":\"barpolar\"}],\"pie\":[{\"automargin\":true,\"type\":\"pie\"}]},\"layout\":{\"autotypenumbers\":\"strict\",\"colorway\":[\"#636efa\",\"#EF553B\",\"#00cc96\",\"#ab63fa\",\"#FFA15A\",\"#19d3f3\",\"#FF6692\",\"#B6E880\",\"#FF97FF\",\"#FECB52\"],\"font\":{\"color\":\"#2a3f5f\"},\"hovermode\":\"closest\",\"hoverlabel\":{\"align\":\"left\"},\"paper_bgcolor\":\"white\",\"plot_bgcolor\":\"#E5ECF6\",\"polar\":{\"bgcolor\":\"#E5ECF6\",\"angularaxis\":{\"gridcolor\":\"white\",\"linecolor\":\"white\",\"ticks\":\"\"},\"radialaxis\":{\"gridcolor\":\"white\",\"linecolor\":\"white\",\"ticks\":\"\"}},\"ternary\":{\"bgcolor\":\"#E5ECF6\",\"aaxis\":{\"gridcolor\":\"white\",\"linecolor\":\"white\",\"ticks\":\"\"},\"baxis\":{\"gridcolor\":\"white\",\"linecolor\":\"white\",\"ticks\":\"\"},\"caxis\":{\"gridcolor\":\"white\",\"linecolor\":\"white\",\"ticks\":\"\"}},\"coloraxis\":{\"colorbar\":{\"outlinewidth\":0,\"ticks\":\"\"}},\"colorscale\":{\"sequential\":[[0.0,\"#0d0887\"],[0.1111111111111111,\"#46039f\"],[0.2222222222222222,\"#7201a8\"],[0.3333333333333333,\"#9c179e\"],[0.4444444444444444,\"#bd3786\"],[0.5555555555555556,\"#d8576b\"],[0.6666666666666666,\"#ed7953\"],[0.7777777777777778,\"#fb9f3a\"],[0.8888888888888888,\"#fdca26\"],[1.0,\"#f0f921\"]],\"sequentialminus\":[[0.0,\"#0d0887\"],[0.1111111111111111,\"#46039f\"],[0.2222222222222222,\"#7201a8\"],[0.3333333333333333,\"#9c179e\"],[0.4444444444444444,\"#bd3786\"],[0.5555555555555556,\"#d8576b\"],[0.6666666666666666,\"#ed7953\"],[0.7777777777777778,\"#fb9f3a\"],[0.8888888888888888,\"#fdca26\"],[1.0,\"#f0f921\"]],\"diverging\":[[0,\"#8e0152\"],[0.1,\"#c51b7d\"],[0.2,\"#de77ae\"],[0.3,\"#f1b6da\"],[0.4,\"#fde0ef\"],[0.5,\"#f7f7f7\"],[0.6,\"#e6f5d0\"],[0.7,\"#b8e186\"],[0.8,\"#7fbc41\"],[0.9,\"#4d9221\"],[1,\"#276419\"]]},\"xaxis\":{\"gridcolor\":\"white\",\"linecolor\":\"white\",\"ticks\":\"\",\"title\":{\"standoff\":15},\"zerolinecolor\":\"white\",\"automargin\":true,\"zerolinewidth\":2},\"yaxis\":{\"gridcolor\":\"white\",\"linecolor\":\"white\",\"ticks\":\"\",\"title\":{\"standoff\":15},\"zerolinecolor\":\"white\",\"automargin\":true,\"zerolinewidth\":2},\"scene\":{\"xaxis\":{\"backgroundcolor\":\"#E5ECF6\",\"gridcolor\":\"white\",\"linecolor\":\"white\",\"showbackground\":true,\"ticks\":\"\",\"zerolinecolor\":\"white\",\"gridwidth\":2},\"yaxis\":{\"backgroundcolor\":\"#E5ECF6\",\"gridcolor\":\"white\",\"linecolor\":\"white\",\"showbackground\":true,\"ticks\":\"\",\"zerolinecolor\":\"white\",\"gridwidth\":2},\"zaxis\":{\"backgroundcolor\":\"#E5ECF6\",\"gridcolor\":\"white\",\"linecolor\":\"white\",\"showbackground\":true,\"ticks\":\"\",\"zerolinecolor\":\"white\",\"gridwidth\":2}},\"shapedefaults\":{\"line\":{\"color\":\"#2a3f5f\"}},\"annotationdefaults\":{\"arrowcolor\":\"#2a3f5f\",\"arrowhead\":0,\"arrowwidth\":1},\"geo\":{\"bgcolor\":\"white\",\"landcolor\":\"#E5ECF6\",\"subunitcolor\":\"white\",\"showland\":true,\"showlakes\":true,\"lakecolor\":\"white\"},\"title\":{\"x\":0.05},\"mapbox\":{\"style\":\"light\"}}},\"xaxis\":{\"anchor\":\"y\",\"domain\":[0.0,1.0],\"title\":{\"text\":\"PAID\"}},\"yaxis\":{\"anchor\":\"x\",\"domain\":[0.0,1.0]},\"legend\":{\"tracegroupgap\":0},\"margin\":{\"t\":60},\"boxmode\":\"group\"},                        {\"responsive\": true}                    ).then(function(){\n",
       "                            \n",
       "var gd = document.getElementById('0c1834b1-b7a2-4169-8b75-c46e9648d29f');\n",
       "var x = new MutationObserver(function (mutations, observer) {{\n",
       "        var display = window.getComputedStyle(gd).display;\n",
       "        if (!display || display === 'none') {{\n",
       "            console.log([gd, 'removed!']);\n",
       "            Plotly.purge(gd);\n",
       "            observer.disconnect();\n",
       "        }}\n",
       "}});\n",
       "\n",
       "// Listen for the removal of the full notebook cells\n",
       "var notebookContainer = gd.closest('#notebook-container');\n",
       "if (notebookContainer) {{\n",
       "    x.observe(notebookContainer, {childList: true});\n",
       "}}\n",
       "\n",
       "// Listen for the clearing of the current output cell\n",
       "var outputEl = gd.closest('.output');\n",
       "if (outputEl) {{\n",
       "    x.observe(outputEl, {childList: true});\n",
       "}}\n",
       "\n",
       "                        })                };                });            </script>        </div>"
      ]
     },
     "metadata": {},
     "output_type": "display_data"
    }
   ],
   "source": [
    "# boxplot\n"
   ]
  },
  {
   "cell_type": "markdown",
   "id": "3f811202",
   "metadata": {},
   "source": [
    "> Answer here..."
   ]
  },
  {
   "cell_type": "markdown",
   "id": "c32edf01",
   "metadata": {},
   "source": [
    "### Q9: Simulate and visualize the (sampling) distribution of the bootstrapped sample medians of paid claims (`PAID`) using 1000 bootstrap samples of the auto claims sample (i.e., the `auto_claims.csv` data).\n",
    "> - Hint 1: Remember that the sample size for each of your 1000 bootstrap samples should match the original sample size\n",
    ">   - and if your bootstrap sample is always the same as the original sample then you're not correctly setting `replace=Ture`.\n",
    ">\n",
    ">\n",
    "> - Hint 2: There is no `.median()` method for an `np.array`, but  there is an `np.median()` function.\n",
    ">\n",
    ">\n",
    "> - Hint 3: The \"(sampling) distribution of the bootstrapped sample medians\" could also be referred to as the \"bootstrap sampling distribution of the sample median\".\n",
    "\n",
    "- You can compare your figure and response to the answer given in the ***MarkUs*** output "
   ]
  },
  {
   "cell_type": "code",
   "execution_count": 74,
   "id": "1e3743df",
   "metadata": {},
   "outputs": [
    {
     "data": {
      "text/plain": [
       "(500, 5)"
      ]
     },
     "execution_count": 74,
     "metadata": {},
     "output_type": "execute_result"
    }
   ],
   "source": [
    "# cell for coding your bootstrap sampling\n"
   ]
  },
  {
   "cell_type": "code",
   "execution_count": 71,
   "id": "23ce9faa",
   "metadata": {},
   "outputs": [
    {
     "data": {
      "application/vnd.plotly.v1+json": {
       "config": {
        "plotlyServerURL": "https://plot.ly"
       },
       "data": [
        {
         "alignmentgroup": "True",
         "bingroup": "x",
         "histnorm": "probability density",
         "hovertemplate": "Bootstrapped Medians=%{x}<br>probability density=%{y}<extra></extra>",
         "legendgroup": "",
         "marker": {
          "color": "#636efa",
          "pattern": {
           "shape": ""
          }
         },
         "name": "",
         "nbinsx": 12,
         "offsetgroup": "",
         "orientation": "v",
         "showlegend": false,
         "type": "histogram",
         "x": [
          1045,
          961.87,
          1081.71,
          993.19,
          1067.57,
          993.3900000000001,
          1039.69,
          1074.35,
          1042.345,
          1103.395,
          1116.145,
          989.83,
          1038.2150000000001,
          1136.005,
          981.86,
          983.99,
          983.99,
          1074.35,
          941.065,
          1132.41,
          1074.35,
          1103.3200000000002,
          1061.8,
          1045,
          943.7049999999999,
          1189.96,
          1115.89,
          970.69,
          1093.55,
          940.28,
          988.5350000000001,
          1087.815,
          1078.03,
          1116.145,
          997.475,
          1040.87,
          1086.9,
          1122.12,
          1006.975,
          991.6300000000001,
          993.59,
          1127.2649999999999,
          981.86,
          1090.41,
          1089.5700000000002,
          1050.745,
          1124.76,
          1006.975,
          1080.625,
          1038.2150000000001,
          1038.2150000000001,
          1199.52,
          1023.015,
          1039.69,
          1040.87,
          1053.4,
          1011.565,
          1094.3899999999999,
          987.855,
          1080.625,
          1050.745,
          991.6300000000001,
          1038.2150000000001,
          1013.7149999999999,
          1053.4,
          1056.2849999999999,
          1090.75,
          1010.94,
          1074.35,
          973.04,
          964.22,
          1117.4,
          1045,
          1119.52,
          1078.03,
          1086.06,
          961.87,
          1116.145,
          1042.345,
          966.235,
          1011.565,
          1061.8,
          991.6300000000001,
          1136.005,
          981.86,
          1016.43,
          989.83,
          964.22,
          991.83,
          983.99,
          989.83,
          1087.815,
          945.8,
          1061.8,
          1016.43,
          1013.685,
          1001.76,
          1131.205,
          1061.8,
          1088.73,
          993.19,
          1039.69,
          1210.965,
          1025.135,
          1036.74,
          1101.895,
          1122.12,
          1089.74,
          1110.9,
          1014.31,
          950.61,
          1085.22,
          1039.42,
          1087.815,
          990.07,
          1094.56,
          1103.3200000000002,
          997.675,
          1026.585,
          987.855,
          1227.645,
          1035.29,
          1038.2150000000001,
          1086.9,
          1086.06,
          990.07,
          1010.94,
          1103.395,
          1012.19,
          987,
          986.12,
          1078.03,
          1012.19,
          1070.96,
          1001.76,
          1024.4650000000001,
          1084.305,
          1088.73,
          1086.9,
          1130.86,
          948.2049999999999,
          1105.875,
          993.19,
          1016.43,
          1137.815,
          1012.19,
          1011.565,
          986.12,
          989.83,
          1249.02,
          991.83,
          1088.73,
          1119.2150000000001,
          1113.38,
          1119.52,
          1088.73,
          1012.19,
          1189.35,
          1050.745,
          991.6300000000001,
          1013.685,
          1035.29,
          1033.84,
          989.59,
          1090.58,
          990.07,
          941.85,
          1153.13,
          1038.2150000000001,
          1088.6550000000002,
          1243.51,
          1014.31,
          1012.19,
          945.68,
          1006.35,
          1039.42,
          1081.71,
          1016.43,
          1067.57,
          975.1700000000001,
          1025.135,
          1023.015,
          1040.87,
          1167.185,
          1103.395,
          934.24,
          1039.69,
          1124.76,
          1117.4,
          1009.095,
          1081.71,
          990.07,
          1108.42,
          1087.815,
          1042.345,
          1001.76,
          997.675,
          1215.045,
          1114.6350000000002,
          1263.2649999999999,
          1038.2150000000001,
          1094.56,
          989.59,
          1011.565,
          951.3299999999999,
          1120.5149999999999,
          1014.31,
          1011.565,
          1089.5700000000002,
          1132.41,
          1000.5050000000001,
          1087.815,
          1086.06,
          1120.82,
          948.495,
          1040.87,
          991.3900000000001,
          1035.29,
          1107.13,
          1085.22,
          1039.69,
          1099.585,
          1002.065,
          993.59,
          883.185,
          988.2950000000001,
          1196.275,
          945.68,
          1036.7649999999999,
          1094.3899999999999,
          907,
          1038.2150000000001,
          1025.94,
          1053.4,
          989.83,
          1103.395,
          1074.6399999999999,
          1090.58,
          1078.03,
          1053.63,
          1035.29,
          1036.74,
          1001.76,
          1076.105,
          893.03,
          1102.065,
          1053.4,
          1153.13,
          1026.585,
          1100.14,
          903.99,
          961.87,
          1042.345,
          1039.69,
          1039.69,
          1024.4650000000001,
          1012.19,
          1101.895,
          1067.57,
          952.95,
          1006.35,
          1131.205,
          964.22,
          1070.96,
          1314.4,
          1122.12,
          990.07,
          1160.63,
          983.99,
          1039.69,
          988.5350000000001,
          1081.71,
          925.47,
          986.56,
          987.855,
          1126.06,
          1039.69,
          1126.06,
          993.3900000000001,
          1108.42,
          1113.38,
          952.05,
          1122.12,
          1090.41,
          1137.815,
          1013.685,
          997.675,
          1006.35,
          1118.91,
          984.4300000000001,
          1127.2649999999999,
          946.38,
          1042.345,
          991.6300000000001,
          981.86,
          1081.71,
          1118.91,
          995.915,
          993.59,
          1087.815,
          1084.305,
          991.6300000000001,
          993.19,
          1119.2150000000001,
          1011.565,
          1006.35,
          1080.625,
          950.61,
          1108.42,
          1088.73,
          986.12,
          926.835,
          1010.94,
          950.61,
          990.07,
          1116.145,
          993.59,
          1064.685,
          1060.7,
          959.52,
          1010.94,
          1086.06,
          1074.6399999999999,
          991.6300000000001,
          1010.94,
          1117.4,
          1010.94,
          1119.2150000000001,
          1039.69,
          1130,
          1113.38,
          1011.565,
          945.68,
          1090.58,
          1084.305,
          945.8,
          946.38,
          1036.7649999999999,
          984.4300000000001,
          945.8,
          993.19,
          1090.58,
          1050.745,
          1122.12,
          951.3299999999999,
          964.22,
          973.04,
          1098.37,
          975.1700000000001,
          1059.675,
          1038.2150000000001,
          1132.41,
          1025.135,
          1122.12,
          1090.75,
          1090.58,
          990.07,
          993.59,
          1001.76,
          1108.42,
          1038.2150000000001,
          1090.58,
          1153.13,
          1040.87,
          948.495,
          1103.395,
          1012.19,
          1001.76,
          970.69,
          1064.685,
          973.04,
          1103.395,
          1025.135,
          986.12,
          1110.9,
          987,
          1012.19,
          991.3900000000001,
          1088.73,
          959.52,
          1089.74,
          1209.08,
          1038.2150000000001,
          1025.135,
          1208.12,
          1067.57,
          993.3900000000001,
          1012.19,
          919.105,
          955.065,
          1013.685,
          1090.75,
          1070.96,
          1126.06,
          1001.76,
          997.675,
          1036.7649999999999,
          1002.8900000000001,
          1036.7649999999999,
          1011.565,
          1078.03,
          989.83,
          1081.71,
          1012.19,
          1081.54,
          1056.2849999999999,
          1094.56,
          1146.52,
          1142.615,
          1011.565,
          1025.135,
          991.6300000000001,
          991.3900000000001,
          989.83,
          1014.31,
          1130,
          1036.7649999999999,
          1089.74,
          1090.41,
          1039.69,
          1118.91,
          1036.74,
          1002.69,
          1061.8,
          1114.6350000000002,
          1001.76,
          1028.06,
          1045,
          1067.57,
          1089.5700000000002,
          993.19,
          991.6300000000001,
          1114.6350000000002,
          945.97,
          987,
          1025.94,
          1081.71,
          1120.5149999999999,
          1011.565,
          995.675,
          1117.705,
          1001.1300000000001,
          1103.395,
          1038.2150000000001,
          1042.345,
          1001.76,
          1023.015,
          1124.76,
          1119.005,
          1012.19,
          1105.875,
          1009.095,
          993.59,
          952.05,
          1094.56,
          1116.145,
          993.3900000000001,
          1090.58,
          1033.84,
          1012.19,
          1039.69,
          1116.145,
          1110.9,
          1098.37,
          951.3299999999999,
          1103.395,
          1090.41,
          1084.305,
          1098.37,
          951.3299999999999,
          1122.12,
          1064.685,
          973.04,
          1321.7,
          1084.305,
          959.52,
          1086.9,
          984.4300000000001,
          1074.35,
          997.475,
          1053.63,
          1038.2150000000001,
          1089.5700000000002,
          1086.9,
          1130,
          991.6300000000001,
          1203.81,
          984.4300000000001,
          1090.75,
          1033.84,
          1089.5700000000002,
          1014.31,
          1113.97,
          1122.12,
          1090.58,
          1001.76,
          1014.31,
          981.86,
          983.99,
          1081.71,
          973.04,
          961.87,
          1038.2150000000001,
          964.22,
          993.3900000000001,
          1036.74,
          1036.74,
          948.495,
          1039.69,
          1011.565,
          1006.35,
          1061.8,
          1108.42,
          1089.5700000000002,
          988.2950000000001,
          1070.96,
          959.52,
          904.995,
          943.825,
          946.38,
          1108.42,
          1117.705,
          983.99,
          964.22,
          928.2,
          1086.9,
          1074.35,
          1053.4,
          1089.5700000000002,
          1077.2350000000001,
          1010.94,
          1064.685,
          987.855,
          1127.2649999999999,
          985.965,
          1012.19,
          1103.395,
          1084.305,
          1035.29,
          1025.135,
          1130,
          1142.615,
          1089.5700000000002,
          1090.41,
          1210.965,
          1081.71,
          981.86,
          961.87,
          946.38,
          1090.58,
          990.07,
          903.99,
          1061.8,
          973.04,
          993.59,
          1082.55,
          1056.2849999999999,
          1016.43,
          1103.395,
          1064.685,
          1026.585,
          1040.87,
          961.87,
          945.56,
          959.52,
          1016.43,
          1117.4,
          1122.12,
          1229.01,
          987,
          1113.38,
          1189.96,
          948.495,
          1070.96,
          1110.9,
          1025.135,
          1010.94,
          1119.52,
          1089.74,
          1009.095,
          1039.69,
          993.59,
          1001.76,
          1053.4,
          1117.4,
          1098.37,
          1006.35,
          1086.06,
          964.22,
          989.59,
          1061.8,
          1093.55,
          991.83,
          1113.665,
          1039.69,
          1084.305,
          1068.0749999999998,
          941.065,
          1117.4,
          1119.005,
          993.19,
          988.095,
          986.56,
          1103.3200000000002,
          995.915,
          1087.815,
          1108.42,
          1014.31,
          1256.2649999999999,
          1006.975,
          1120.5149999999999,
          1113.38,
          1012.19,
          1042.345,
          959.52,
          1145.63,
          1093.55,
          1010.94,
          903.99,
          961.87,
          1010.94,
          1002.2650000000001,
          1206.445,
          1116.145,
          1125.66,
          986.12,
          1118.91,
          899.565,
          1026.585,
          1086.9,
          1090.75,
          1064.685,
          945.68,
          1011.565,
          1016.43,
          1113.38,
          1023.015,
          901.5,
          1025.135,
          941.065,
          1006.35,
          1090.58,
          945.68,
          1132.41,
          986.56,
          1084.305,
          901.995,
          1080.625,
          1042.345,
          1067.57,
          1014.31,
          1036.7649999999999,
          1085.22,
          1053.4,
          1070.96,
          987,
          961.87,
          1045,
          1064.685,
          1113.38,
          993.59,
          1011.565,
          1049.27,
          988.2950000000001,
          950.61,
          948.2049999999999,
          1011.565,
          1094.56,
          1045,
          1035.29,
          1103.395,
          1098.37,
          1016.43,
          943.04,
          966.9549999999999,
          948.495,
          959.52,
          1078.03,
          1089.5700000000002,
          1053.4,
          1074.35,
          1002.2650000000001,
          1086.9,
          975.61,
          1047.82,
          1089.5700000000002,
          943.7049999999999,
          1084.305,
          1047.82,
          1085.22,
          1061.8,
          917.74,
          1039.69,
          1174.685,
          1064.685,
          1030.715,
          1068.0749999999998,
          1082.55,
          987,
          1039.69,
          1033.84,
          1023.015,
          1084.305,
          997.675,
          1164.17,
          940.28,
          1014.31,
          1042.345,
          1078.03,
          1011.565,
          993.59,
          987,
          1064.685,
          986.12,
          1099.585,
          1117.4,
          1006.975,
          1132.41,
          1038.2150000000001,
          1016.43,
          1010.94,
          1006.35,
          955.785,
          993.59,
          917.74,
          1098.37,
          991.6300000000001,
          997.675,
          991.83,
          1006.975,
          1014.31,
          986.12,
          1064.685,
          981.86,
          1012.19,
          1094.56,
          957.415,
          993.19,
          983.99,
          945.97,
          1035.29,
          1006.35,
          1011.565,
          1050.745,
          997.675,
          951.3299999999999,
          1089.5700000000002,
          1061.8,
          993.19,
          1025.135,
          988.5350000000001,
          1120.5149999999999,
          1006.35,
          1114.6350000000002,
          1203.81,
          1071.755,
          899.275,
          991.83,
          946.38,
          1235.07,
          1025.135,
          1090.41,
          1115.89,
          926.835,
          952.05,
          1235.07,
          1000.2650000000001,
          1087.815,
          1001.76,
          1001.76,
          1119.005,
          1136.005,
          1119.52,
          1090.75,
          1115.89,
          1039.69,
          991.3900000000001,
          987.855,
          961.87,
          1136.005,
          1035.29,
          1103.3200000000002,
          991.83,
          1070.96,
          1011.565,
          1131.205,
          990.07,
          1108.42,
          1064.685,
          987,
          1006.35,
          1016.43,
          1209.08,
          991.6300000000001,
          1081.71,
          989.59,
          1081.71,
          983.99,
          1125.66,
          1107.13,
          942.92,
          1088.825,
          1212.85,
          955.785,
          1011.565,
          1067.57,
          993.3900000000001,
          1061.8,
          1042.345,
          1150.115,
          987,
          1025.135,
          1002.2650000000001,
          1089.5700000000002,
          1045,
          1153.13,
          1080.625,
          993.3900000000001,
          1006.35,
          1116.145,
          946.38,
          1160.63,
          940.28,
          986.56,
          1067.57,
          1196.275,
          1086.9,
          1089.5700000000002,
          997.475,
          892.06,
          1081.71,
          986.56,
          1081.54,
          940.28,
          1014.31,
          1085.22,
          955.785,
          1012.19,
          1061.8,
          1039.69,
          1061.8,
          966.9549999999999,
          1203.81,
          1012.19,
          991.6300000000001,
          1089.74,
          1188.74,
          1090.41,
          1065.95,
          881.7950000000001,
          1115.89,
          1039.69,
          986.56,
          948.495,
          955.785,
          961.87,
          958.135,
          1103.395,
          1067.57,
          1080.625,
          1064.685,
          1033.84,
          1036.74,
          1026.585,
          1120.82,
          1014.31,
          1035.29,
          1124.76,
          1009.095,
          1070.96,
          987,
          961.87,
          964.22,
          983.99,
          1105.875,
          1061.8,
          1038.2150000000001,
          1103.395,
          1093.55,
          1053.63,
          993.3900000000001,
          993.19,
          1011.565,
          985.965,
          1016.43,
          1108.42,
          1094.56,
          952.05,
          1090.75,
          1006.35,
          1042.345,
          1071.755,
          989.83,
          1124.76,
          989.83,
          1023.015,
          1130,
          1010.94,
          988.2950000000001,
          1067.57,
          1117.705,
          950.61,
          1139.02,
          1033.84,
          1113.38,
          1132.41,
          1023.015,
          1067.57,
          1061.8,
          1201.405,
          1078.03,
          1120.5149999999999,
          1085.22,
          989.83,
          1086.9,
          1088.6550000000002,
          1059.675,
          1088.73,
          1001.76,
          1010.94,
          1001.76,
          1115.89,
          989.59,
          1012.19,
          1045,
          983.99,
          1081.71,
          988.2950000000001,
          1070.96,
          1045,
          1067.57,
          1119.52,
          948.495,
          1108.42,
          1087.815,
          1053.4,
          1013.685,
          1164.78,
          1263.51,
          986.12,
          985.725,
          1090.41,
          1025.135,
          989.59,
          981.86,
          1103.395,
          926.835,
          1033.84,
          1108.42,
          1068.0749999999998,
          1001.76,
          1025.135,
          983.99,
          1090.58,
          1114.6350000000002,
          1120.82,
          1014.31,
          1068.0749999999998,
          945.8,
          955.785,
          1067.57,
          1036.74,
          1011.565,
          991.6300000000001,
          991.3900000000001,
          1006.975,
          1094.56,
          1016.43,
          1110.9,
          1067.57,
          1067.57,
          1090.41,
          1039.69,
          990.07,
          987.5250000000001,
          1116.145,
          1136.005,
          1088.73,
          1039.69,
          1028.06,
          1089.5700000000002,
          1014.31,
          1067.57,
          1142.615,
          952.05,
          1088.73,
          1038.2150000000001,
          1001.76,
          1089.5700000000002,
          1070.96,
          1110.9,
          948.495,
          987,
          1025.135,
          1090.58,
          989.83,
          1064.685,
          1035.29,
          1093.55,
          1186.74
         ],
         "xaxis": "x",
         "yaxis": "y"
        }
       ],
       "layout": {
        "barmode": "relative",
        "legend": {
         "tracegroupgap": 0
        },
        "margin": {
         "t": 60
        },
        "template": {
         "data": {
          "bar": [
           {
            "error_x": {
             "color": "#2a3f5f"
            },
            "error_y": {
             "color": "#2a3f5f"
            },
            "marker": {
             "line": {
              "color": "#E5ECF6",
              "width": 0.5
             },
             "pattern": {
              "fillmode": "overlay",
              "size": 10,
              "solidity": 0.2
             }
            },
            "type": "bar"
           }
          ],
          "barpolar": [
           {
            "marker": {
             "line": {
              "color": "#E5ECF6",
              "width": 0.5
             },
             "pattern": {
              "fillmode": "overlay",
              "size": 10,
              "solidity": 0.2
             }
            },
            "type": "barpolar"
           }
          ],
          "carpet": [
           {
            "aaxis": {
             "endlinecolor": "#2a3f5f",
             "gridcolor": "white",
             "linecolor": "white",
             "minorgridcolor": "white",
             "startlinecolor": "#2a3f5f"
            },
            "baxis": {
             "endlinecolor": "#2a3f5f",
             "gridcolor": "white",
             "linecolor": "white",
             "minorgridcolor": "white",
             "startlinecolor": "#2a3f5f"
            },
            "type": "carpet"
           }
          ],
          "choropleth": [
           {
            "colorbar": {
             "outlinewidth": 0,
             "ticks": ""
            },
            "type": "choropleth"
           }
          ],
          "contour": [
           {
            "colorbar": {
             "outlinewidth": 0,
             "ticks": ""
            },
            "colorscale": [
             [
              0,
              "#0d0887"
             ],
             [
              0.1111111111111111,
              "#46039f"
             ],
             [
              0.2222222222222222,
              "#7201a8"
             ],
             [
              0.3333333333333333,
              "#9c179e"
             ],
             [
              0.4444444444444444,
              "#bd3786"
             ],
             [
              0.5555555555555556,
              "#d8576b"
             ],
             [
              0.6666666666666666,
              "#ed7953"
             ],
             [
              0.7777777777777778,
              "#fb9f3a"
             ],
             [
              0.8888888888888888,
              "#fdca26"
             ],
             [
              1,
              "#f0f921"
             ]
            ],
            "type": "contour"
           }
          ],
          "contourcarpet": [
           {
            "colorbar": {
             "outlinewidth": 0,
             "ticks": ""
            },
            "type": "contourcarpet"
           }
          ],
          "heatmap": [
           {
            "colorbar": {
             "outlinewidth": 0,
             "ticks": ""
            },
            "colorscale": [
             [
              0,
              "#0d0887"
             ],
             [
              0.1111111111111111,
              "#46039f"
             ],
             [
              0.2222222222222222,
              "#7201a8"
             ],
             [
              0.3333333333333333,
              "#9c179e"
             ],
             [
              0.4444444444444444,
              "#bd3786"
             ],
             [
              0.5555555555555556,
              "#d8576b"
             ],
             [
              0.6666666666666666,
              "#ed7953"
             ],
             [
              0.7777777777777778,
              "#fb9f3a"
             ],
             [
              0.8888888888888888,
              "#fdca26"
             ],
             [
              1,
              "#f0f921"
             ]
            ],
            "type": "heatmap"
           }
          ],
          "heatmapgl": [
           {
            "colorbar": {
             "outlinewidth": 0,
             "ticks": ""
            },
            "colorscale": [
             [
              0,
              "#0d0887"
             ],
             [
              0.1111111111111111,
              "#46039f"
             ],
             [
              0.2222222222222222,
              "#7201a8"
             ],
             [
              0.3333333333333333,
              "#9c179e"
             ],
             [
              0.4444444444444444,
              "#bd3786"
             ],
             [
              0.5555555555555556,
              "#d8576b"
             ],
             [
              0.6666666666666666,
              "#ed7953"
             ],
             [
              0.7777777777777778,
              "#fb9f3a"
             ],
             [
              0.8888888888888888,
              "#fdca26"
             ],
             [
              1,
              "#f0f921"
             ]
            ],
            "type": "heatmapgl"
           }
          ],
          "histogram": [
           {
            "marker": {
             "pattern": {
              "fillmode": "overlay",
              "size": 10,
              "solidity": 0.2
             }
            },
            "type": "histogram"
           }
          ],
          "histogram2d": [
           {
            "colorbar": {
             "outlinewidth": 0,
             "ticks": ""
            },
            "colorscale": [
             [
              0,
              "#0d0887"
             ],
             [
              0.1111111111111111,
              "#46039f"
             ],
             [
              0.2222222222222222,
              "#7201a8"
             ],
             [
              0.3333333333333333,
              "#9c179e"
             ],
             [
              0.4444444444444444,
              "#bd3786"
             ],
             [
              0.5555555555555556,
              "#d8576b"
             ],
             [
              0.6666666666666666,
              "#ed7953"
             ],
             [
              0.7777777777777778,
              "#fb9f3a"
             ],
             [
              0.8888888888888888,
              "#fdca26"
             ],
             [
              1,
              "#f0f921"
             ]
            ],
            "type": "histogram2d"
           }
          ],
          "histogram2dcontour": [
           {
            "colorbar": {
             "outlinewidth": 0,
             "ticks": ""
            },
            "colorscale": [
             [
              0,
              "#0d0887"
             ],
             [
              0.1111111111111111,
              "#46039f"
             ],
             [
              0.2222222222222222,
              "#7201a8"
             ],
             [
              0.3333333333333333,
              "#9c179e"
             ],
             [
              0.4444444444444444,
              "#bd3786"
             ],
             [
              0.5555555555555556,
              "#d8576b"
             ],
             [
              0.6666666666666666,
              "#ed7953"
             ],
             [
              0.7777777777777778,
              "#fb9f3a"
             ],
             [
              0.8888888888888888,
              "#fdca26"
             ],
             [
              1,
              "#f0f921"
             ]
            ],
            "type": "histogram2dcontour"
           }
          ],
          "mesh3d": [
           {
            "colorbar": {
             "outlinewidth": 0,
             "ticks": ""
            },
            "type": "mesh3d"
           }
          ],
          "parcoords": [
           {
            "line": {
             "colorbar": {
              "outlinewidth": 0,
              "ticks": ""
             }
            },
            "type": "parcoords"
           }
          ],
          "pie": [
           {
            "automargin": true,
            "type": "pie"
           }
          ],
          "scatter": [
           {
            "fillpattern": {
             "fillmode": "overlay",
             "size": 10,
             "solidity": 0.2
            },
            "type": "scatter"
           }
          ],
          "scatter3d": [
           {
            "line": {
             "colorbar": {
              "outlinewidth": 0,
              "ticks": ""
             }
            },
            "marker": {
             "colorbar": {
              "outlinewidth": 0,
              "ticks": ""
             }
            },
            "type": "scatter3d"
           }
          ],
          "scattercarpet": [
           {
            "marker": {
             "colorbar": {
              "outlinewidth": 0,
              "ticks": ""
             }
            },
            "type": "scattercarpet"
           }
          ],
          "scattergeo": [
           {
            "marker": {
             "colorbar": {
              "outlinewidth": 0,
              "ticks": ""
             }
            },
            "type": "scattergeo"
           }
          ],
          "scattergl": [
           {
            "marker": {
             "colorbar": {
              "outlinewidth": 0,
              "ticks": ""
             }
            },
            "type": "scattergl"
           }
          ],
          "scattermapbox": [
           {
            "marker": {
             "colorbar": {
              "outlinewidth": 0,
              "ticks": ""
             }
            },
            "type": "scattermapbox"
           }
          ],
          "scatterpolar": [
           {
            "marker": {
             "colorbar": {
              "outlinewidth": 0,
              "ticks": ""
             }
            },
            "type": "scatterpolar"
           }
          ],
          "scatterpolargl": [
           {
            "marker": {
             "colorbar": {
              "outlinewidth": 0,
              "ticks": ""
             }
            },
            "type": "scatterpolargl"
           }
          ],
          "scatterternary": [
           {
            "marker": {
             "colorbar": {
              "outlinewidth": 0,
              "ticks": ""
             }
            },
            "type": "scatterternary"
           }
          ],
          "surface": [
           {
            "colorbar": {
             "outlinewidth": 0,
             "ticks": ""
            },
            "colorscale": [
             [
              0,
              "#0d0887"
             ],
             [
              0.1111111111111111,
              "#46039f"
             ],
             [
              0.2222222222222222,
              "#7201a8"
             ],
             [
              0.3333333333333333,
              "#9c179e"
             ],
             [
              0.4444444444444444,
              "#bd3786"
             ],
             [
              0.5555555555555556,
              "#d8576b"
             ],
             [
              0.6666666666666666,
              "#ed7953"
             ],
             [
              0.7777777777777778,
              "#fb9f3a"
             ],
             [
              0.8888888888888888,
              "#fdca26"
             ],
             [
              1,
              "#f0f921"
             ]
            ],
            "type": "surface"
           }
          ],
          "table": [
           {
            "cells": {
             "fill": {
              "color": "#EBF0F8"
             },
             "line": {
              "color": "white"
             }
            },
            "header": {
             "fill": {
              "color": "#C8D4E3"
             },
             "line": {
              "color": "white"
             }
            },
            "type": "table"
           }
          ]
         },
         "layout": {
          "annotationdefaults": {
           "arrowcolor": "#2a3f5f",
           "arrowhead": 0,
           "arrowwidth": 1
          },
          "autotypenumbers": "strict",
          "coloraxis": {
           "colorbar": {
            "outlinewidth": 0,
            "ticks": ""
           }
          },
          "colorscale": {
           "diverging": [
            [
             0,
             "#8e0152"
            ],
            [
             0.1,
             "#c51b7d"
            ],
            [
             0.2,
             "#de77ae"
            ],
            [
             0.3,
             "#f1b6da"
            ],
            [
             0.4,
             "#fde0ef"
            ],
            [
             0.5,
             "#f7f7f7"
            ],
            [
             0.6,
             "#e6f5d0"
            ],
            [
             0.7,
             "#b8e186"
            ],
            [
             0.8,
             "#7fbc41"
            ],
            [
             0.9,
             "#4d9221"
            ],
            [
             1,
             "#276419"
            ]
           ],
           "sequential": [
            [
             0,
             "#0d0887"
            ],
            [
             0.1111111111111111,
             "#46039f"
            ],
            [
             0.2222222222222222,
             "#7201a8"
            ],
            [
             0.3333333333333333,
             "#9c179e"
            ],
            [
             0.4444444444444444,
             "#bd3786"
            ],
            [
             0.5555555555555556,
             "#d8576b"
            ],
            [
             0.6666666666666666,
             "#ed7953"
            ],
            [
             0.7777777777777778,
             "#fb9f3a"
            ],
            [
             0.8888888888888888,
             "#fdca26"
            ],
            [
             1,
             "#f0f921"
            ]
           ],
           "sequentialminus": [
            [
             0,
             "#0d0887"
            ],
            [
             0.1111111111111111,
             "#46039f"
            ],
            [
             0.2222222222222222,
             "#7201a8"
            ],
            [
             0.3333333333333333,
             "#9c179e"
            ],
            [
             0.4444444444444444,
             "#bd3786"
            ],
            [
             0.5555555555555556,
             "#d8576b"
            ],
            [
             0.6666666666666666,
             "#ed7953"
            ],
            [
             0.7777777777777778,
             "#fb9f3a"
            ],
            [
             0.8888888888888888,
             "#fdca26"
            ],
            [
             1,
             "#f0f921"
            ]
           ]
          },
          "colorway": [
           "#636efa",
           "#EF553B",
           "#00cc96",
           "#ab63fa",
           "#FFA15A",
           "#19d3f3",
           "#FF6692",
           "#B6E880",
           "#FF97FF",
           "#FECB52"
          ],
          "font": {
           "color": "#2a3f5f"
          },
          "geo": {
           "bgcolor": "white",
           "lakecolor": "white",
           "landcolor": "#E5ECF6",
           "showlakes": true,
           "showland": true,
           "subunitcolor": "white"
          },
          "hoverlabel": {
           "align": "left"
          },
          "hovermode": "closest",
          "mapbox": {
           "style": "light"
          },
          "paper_bgcolor": "white",
          "plot_bgcolor": "#E5ECF6",
          "polar": {
           "angularaxis": {
            "gridcolor": "white",
            "linecolor": "white",
            "ticks": ""
           },
           "bgcolor": "#E5ECF6",
           "radialaxis": {
            "gridcolor": "white",
            "linecolor": "white",
            "ticks": ""
           }
          },
          "scene": {
           "xaxis": {
            "backgroundcolor": "#E5ECF6",
            "gridcolor": "white",
            "gridwidth": 2,
            "linecolor": "white",
            "showbackground": true,
            "ticks": "",
            "zerolinecolor": "white"
           },
           "yaxis": {
            "backgroundcolor": "#E5ECF6",
            "gridcolor": "white",
            "gridwidth": 2,
            "linecolor": "white",
            "showbackground": true,
            "ticks": "",
            "zerolinecolor": "white"
           },
           "zaxis": {
            "backgroundcolor": "#E5ECF6",
            "gridcolor": "white",
            "gridwidth": 2,
            "linecolor": "white",
            "showbackground": true,
            "ticks": "",
            "zerolinecolor": "white"
           }
          },
          "shapedefaults": {
           "line": {
            "color": "#2a3f5f"
           }
          },
          "ternary": {
           "aaxis": {
            "gridcolor": "white",
            "linecolor": "white",
            "ticks": ""
           },
           "baxis": {
            "gridcolor": "white",
            "linecolor": "white",
            "ticks": ""
           },
           "bgcolor": "#E5ECF6",
           "caxis": {
            "gridcolor": "white",
            "linecolor": "white",
            "ticks": ""
           }
          },
          "title": {
           "x": 0.05
          },
          "xaxis": {
           "automargin": true,
           "gridcolor": "white",
           "linecolor": "white",
           "ticks": "",
           "title": {
            "standoff": 15
           },
           "zerolinecolor": "white",
           "zerolinewidth": 2
          },
          "yaxis": {
           "automargin": true,
           "gridcolor": "white",
           "linecolor": "white",
           "ticks": "",
           "title": {
            "standoff": 15
           },
           "zerolinecolor": "white",
           "zerolinewidth": 2
          }
         }
        },
        "xaxis": {
         "anchor": "y",
         "domain": [
          0,
          1
         ],
         "title": {
          "text": "Bootstrapped Medians"
         }
        },
        "yaxis": {
         "anchor": "x",
         "domain": [
          0,
          1
         ],
         "title": {
          "text": "probability density"
         }
        }
       }
      },
      "text/html": [
       "<div>                            <div id=\"9192ad84-f91f-44a4-811e-9dbbdb75e1b8\" class=\"plotly-graph-div\" style=\"height:525px; width:100%;\"></div>            <script type=\"text/javascript\">                require([\"plotly\"], function(Plotly) {                    window.PLOTLYENV=window.PLOTLYENV || {};                                    if (document.getElementById(\"9192ad84-f91f-44a4-811e-9dbbdb75e1b8\")) {                    Plotly.newPlot(                        \"9192ad84-f91f-44a4-811e-9dbbdb75e1b8\",                        [{\"alignmentgroup\":\"True\",\"bingroup\":\"x\",\"histnorm\":\"probability density\",\"hovertemplate\":\"Bootstrapped Medians=%{x}\\u003cbr\\u003eprobability density=%{y}\\u003cextra\\u003e\\u003c\\u002fextra\\u003e\",\"legendgroup\":\"\",\"marker\":{\"color\":\"#636efa\",\"pattern\":{\"shape\":\"\"}},\"name\":\"\",\"nbinsx\":12,\"offsetgroup\":\"\",\"orientation\":\"v\",\"showlegend\":false,\"x\":[1045.0,961.87,1081.71,993.19,1067.57,993.3900000000001,1039.69,1074.35,1042.345,1103.395,1116.145,989.83,1038.2150000000001,1136.005,981.86,983.99,983.99,1074.35,941.065,1132.41,1074.35,1103.3200000000002,1061.8,1045.0,943.7049999999999,1189.96,1115.89,970.69,1093.55,940.28,988.5350000000001,1087.815,1078.03,1116.145,997.475,1040.87,1086.9,1122.12,1006.975,991.6300000000001,993.59,1127.2649999999999,981.86,1090.41,1089.5700000000002,1050.745,1124.76,1006.975,1080.625,1038.2150000000001,1038.2150000000001,1199.52,1023.015,1039.69,1040.87,1053.4,1011.565,1094.3899999999999,987.855,1080.625,1050.745,991.6300000000001,1038.2150000000001,1013.7149999999999,1053.4,1056.2849999999999,1090.75,1010.94,1074.35,973.04,964.22,1117.4,1045.0,1119.52,1078.03,1086.06,961.87,1116.145,1042.345,966.235,1011.565,1061.8,991.6300000000001,1136.005,981.86,1016.43,989.83,964.22,991.83,983.99,989.83,1087.815,945.8,1061.8,1016.43,1013.685,1001.76,1131.205,1061.8,1088.73,993.19,1039.69,1210.965,1025.135,1036.74,1101.895,1122.12,1089.74,1110.9,1014.31,950.61,1085.22,1039.42,1087.815,990.07,1094.56,1103.3200000000002,997.675,1026.585,987.855,1227.645,1035.29,1038.2150000000001,1086.9,1086.06,990.07,1010.94,1103.395,1012.19,987.0,986.12,1078.03,1012.19,1070.96,1001.76,1024.4650000000001,1084.305,1088.73,1086.9,1130.86,948.2049999999999,1105.875,993.19,1016.43,1137.815,1012.19,1011.565,986.12,989.83,1249.02,991.83,1088.73,1119.2150000000001,1113.38,1119.52,1088.73,1012.19,1189.35,1050.745,991.6300000000001,1013.685,1035.29,1033.84,989.59,1090.58,990.07,941.85,1153.13,1038.2150000000001,1088.6550000000002,1243.51,1014.31,1012.19,945.68,1006.35,1039.42,1081.71,1016.43,1067.57,975.1700000000001,1025.135,1023.015,1040.87,1167.185,1103.395,934.24,1039.69,1124.76,1117.4,1009.095,1081.71,990.07,1108.42,1087.815,1042.345,1001.76,997.675,1215.045,1114.6350000000002,1263.2649999999999,1038.2150000000001,1094.56,989.59,1011.565,951.3299999999999,1120.5149999999999,1014.31,1011.565,1089.5700000000002,1132.41,1000.5050000000001,1087.815,1086.06,1120.82,948.495,1040.87,991.3900000000001,1035.29,1107.13,1085.22,1039.69,1099.585,1002.065,993.59,883.185,988.2950000000001,1196.275,945.68,1036.7649999999999,1094.3899999999999,907.0,1038.2150000000001,1025.94,1053.4,989.83,1103.395,1074.6399999999999,1090.58,1078.03,1053.63,1035.29,1036.74,1001.76,1076.105,893.03,1102.065,1053.4,1153.13,1026.585,1100.14,903.99,961.87,1042.345,1039.69,1039.69,1024.4650000000001,1012.19,1101.895,1067.57,952.95,1006.35,1131.205,964.22,1070.96,1314.4,1122.12,990.07,1160.63,983.99,1039.69,988.5350000000001,1081.71,925.47,986.56,987.855,1126.06,1039.69,1126.06,993.3900000000001,1108.42,1113.38,952.05,1122.12,1090.41,1137.815,1013.685,997.675,1006.35,1118.91,984.4300000000001,1127.2649999999999,946.38,1042.345,991.6300000000001,981.86,1081.71,1118.91,995.915,993.59,1087.815,1084.305,991.6300000000001,993.19,1119.2150000000001,1011.565,1006.35,1080.625,950.61,1108.42,1088.73,986.12,926.835,1010.94,950.61,990.07,1116.145,993.59,1064.685,1060.7,959.52,1010.94,1086.06,1074.6399999999999,991.6300000000001,1010.94,1117.4,1010.94,1119.2150000000001,1039.69,1130.0,1113.38,1011.565,945.68,1090.58,1084.305,945.8,946.38,1036.7649999999999,984.4300000000001,945.8,993.19,1090.58,1050.745,1122.12,951.3299999999999,964.22,973.04,1098.37,975.1700000000001,1059.675,1038.2150000000001,1132.41,1025.135,1122.12,1090.75,1090.58,990.07,993.59,1001.76,1108.42,1038.2150000000001,1090.58,1153.13,1040.87,948.495,1103.395,1012.19,1001.76,970.69,1064.685,973.04,1103.395,1025.135,986.12,1110.9,987.0,1012.19,991.3900000000001,1088.73,959.52,1089.74,1209.08,1038.2150000000001,1025.135,1208.12,1067.57,993.3900000000001,1012.19,919.105,955.065,1013.685,1090.75,1070.96,1126.06,1001.76,997.675,1036.7649999999999,1002.8900000000001,1036.7649999999999,1011.565,1078.03,989.83,1081.71,1012.19,1081.54,1056.2849999999999,1094.56,1146.52,1142.615,1011.565,1025.135,991.6300000000001,991.3900000000001,989.83,1014.31,1130.0,1036.7649999999999,1089.74,1090.41,1039.69,1118.91,1036.74,1002.69,1061.8,1114.6350000000002,1001.76,1028.06,1045.0,1067.57,1089.5700000000002,993.19,991.6300000000001,1114.6350000000002,945.97,987.0,1025.94,1081.71,1120.5149999999999,1011.565,995.675,1117.705,1001.1300000000001,1103.395,1038.2150000000001,1042.345,1001.76,1023.015,1124.76,1119.005,1012.19,1105.875,1009.095,993.59,952.05,1094.56,1116.145,993.3900000000001,1090.58,1033.84,1012.19,1039.69,1116.145,1110.9,1098.37,951.3299999999999,1103.395,1090.41,1084.305,1098.37,951.3299999999999,1122.12,1064.685,973.04,1321.7,1084.305,959.52,1086.9,984.4300000000001,1074.35,997.475,1053.63,1038.2150000000001,1089.5700000000002,1086.9,1130.0,991.6300000000001,1203.81,984.4300000000001,1090.75,1033.84,1089.5700000000002,1014.31,1113.97,1122.12,1090.58,1001.76,1014.31,981.86,983.99,1081.71,973.04,961.87,1038.2150000000001,964.22,993.3900000000001,1036.74,1036.74,948.495,1039.69,1011.565,1006.35,1061.8,1108.42,1089.5700000000002,988.2950000000001,1070.96,959.52,904.995,943.825,946.38,1108.42,1117.705,983.99,964.22,928.2,1086.9,1074.35,1053.4,1089.5700000000002,1077.2350000000001,1010.94,1064.685,987.855,1127.2649999999999,985.965,1012.19,1103.395,1084.305,1035.29,1025.135,1130.0,1142.615,1089.5700000000002,1090.41,1210.965,1081.71,981.86,961.87,946.38,1090.58,990.07,903.99,1061.8,973.04,993.59,1082.55,1056.2849999999999,1016.43,1103.395,1064.685,1026.585,1040.87,961.87,945.56,959.52,1016.43,1117.4,1122.12,1229.01,987.0,1113.38,1189.96,948.495,1070.96,1110.9,1025.135,1010.94,1119.52,1089.74,1009.095,1039.69,993.59,1001.76,1053.4,1117.4,1098.37,1006.35,1086.06,964.22,989.59,1061.8,1093.55,991.83,1113.665,1039.69,1084.305,1068.0749999999998,941.065,1117.4,1119.005,993.19,988.095,986.56,1103.3200000000002,995.915,1087.815,1108.42,1014.31,1256.2649999999999,1006.975,1120.5149999999999,1113.38,1012.19,1042.345,959.52,1145.63,1093.55,1010.94,903.99,961.87,1010.94,1002.2650000000001,1206.445,1116.145,1125.66,986.12,1118.91,899.565,1026.585,1086.9,1090.75,1064.685,945.68,1011.565,1016.43,1113.38,1023.015,901.5,1025.135,941.065,1006.35,1090.58,945.68,1132.41,986.56,1084.305,901.995,1080.625,1042.345,1067.57,1014.31,1036.7649999999999,1085.22,1053.4,1070.96,987.0,961.87,1045.0,1064.685,1113.38,993.59,1011.565,1049.27,988.2950000000001,950.61,948.2049999999999,1011.565,1094.56,1045.0,1035.29,1103.395,1098.37,1016.43,943.04,966.9549999999999,948.495,959.52,1078.03,1089.5700000000002,1053.4,1074.35,1002.2650000000001,1086.9,975.61,1047.82,1089.5700000000002,943.7049999999999,1084.305,1047.82,1085.22,1061.8,917.74,1039.69,1174.685,1064.685,1030.715,1068.0749999999998,1082.55,987.0,1039.69,1033.84,1023.015,1084.305,997.675,1164.17,940.28,1014.31,1042.345,1078.03,1011.565,993.59,987.0,1064.685,986.12,1099.585,1117.4,1006.975,1132.41,1038.2150000000001,1016.43,1010.94,1006.35,955.785,993.59,917.74,1098.37,991.6300000000001,997.675,991.83,1006.975,1014.31,986.12,1064.685,981.86,1012.19,1094.56,957.415,993.19,983.99,945.97,1035.29,1006.35,1011.565,1050.745,997.675,951.3299999999999,1089.5700000000002,1061.8,993.19,1025.135,988.5350000000001,1120.5149999999999,1006.35,1114.6350000000002,1203.81,1071.755,899.275,991.83,946.38,1235.07,1025.135,1090.41,1115.89,926.835,952.05,1235.07,1000.2650000000001,1087.815,1001.76,1001.76,1119.005,1136.005,1119.52,1090.75,1115.89,1039.69,991.3900000000001,987.855,961.87,1136.005,1035.29,1103.3200000000002,991.83,1070.96,1011.565,1131.205,990.07,1108.42,1064.685,987.0,1006.35,1016.43,1209.08,991.6300000000001,1081.71,989.59,1081.71,983.99,1125.66,1107.13,942.92,1088.825,1212.85,955.785,1011.565,1067.57,993.3900000000001,1061.8,1042.345,1150.115,987.0,1025.135,1002.2650000000001,1089.5700000000002,1045.0,1153.13,1080.625,993.3900000000001,1006.35,1116.145,946.38,1160.63,940.28,986.56,1067.57,1196.275,1086.9,1089.5700000000002,997.475,892.06,1081.71,986.56,1081.54,940.28,1014.31,1085.22,955.785,1012.19,1061.8,1039.69,1061.8,966.9549999999999,1203.81,1012.19,991.6300000000001,1089.74,1188.74,1090.41,1065.95,881.7950000000001,1115.89,1039.69,986.56,948.495,955.785,961.87,958.135,1103.395,1067.57,1080.625,1064.685,1033.84,1036.74,1026.585,1120.82,1014.31,1035.29,1124.76,1009.095,1070.96,987.0,961.87,964.22,983.99,1105.875,1061.8,1038.2150000000001,1103.395,1093.55,1053.63,993.3900000000001,993.19,1011.565,985.965,1016.43,1108.42,1094.56,952.05,1090.75,1006.35,1042.345,1071.755,989.83,1124.76,989.83,1023.015,1130.0,1010.94,988.2950000000001,1067.57,1117.705,950.61,1139.02,1033.84,1113.38,1132.41,1023.015,1067.57,1061.8,1201.405,1078.03,1120.5149999999999,1085.22,989.83,1086.9,1088.6550000000002,1059.675,1088.73,1001.76,1010.94,1001.76,1115.89,989.59,1012.19,1045.0,983.99,1081.71,988.2950000000001,1070.96,1045.0,1067.57,1119.52,948.495,1108.42,1087.815,1053.4,1013.685,1164.78,1263.51,986.12,985.725,1090.41,1025.135,989.59,981.86,1103.395,926.835,1033.84,1108.42,1068.0749999999998,1001.76,1025.135,983.99,1090.58,1114.6350000000002,1120.82,1014.31,1068.0749999999998,945.8,955.785,1067.57,1036.74,1011.565,991.6300000000001,991.3900000000001,1006.975,1094.56,1016.43,1110.9,1067.57,1067.57,1090.41,1039.69,990.07,987.5250000000001,1116.145,1136.005,1088.73,1039.69,1028.06,1089.5700000000002,1014.31,1067.57,1142.615,952.05,1088.73,1038.2150000000001,1001.76,1089.5700000000002,1070.96,1110.9,948.495,987.0,1025.135,1090.58,989.83,1064.685,1035.29,1093.55,1186.74],\"xaxis\":\"x\",\"yaxis\":\"y\",\"type\":\"histogram\"}],                        {\"template\":{\"data\":{\"histogram2dcontour\":[{\"type\":\"histogram2dcontour\",\"colorbar\":{\"outlinewidth\":0,\"ticks\":\"\"},\"colorscale\":[[0.0,\"#0d0887\"],[0.1111111111111111,\"#46039f\"],[0.2222222222222222,\"#7201a8\"],[0.3333333333333333,\"#9c179e\"],[0.4444444444444444,\"#bd3786\"],[0.5555555555555556,\"#d8576b\"],[0.6666666666666666,\"#ed7953\"],[0.7777777777777778,\"#fb9f3a\"],[0.8888888888888888,\"#fdca26\"],[1.0,\"#f0f921\"]]}],\"choropleth\":[{\"type\":\"choropleth\",\"colorbar\":{\"outlinewidth\":0,\"ticks\":\"\"}}],\"histogram2d\":[{\"type\":\"histogram2d\",\"colorbar\":{\"outlinewidth\":0,\"ticks\":\"\"},\"colorscale\":[[0.0,\"#0d0887\"],[0.1111111111111111,\"#46039f\"],[0.2222222222222222,\"#7201a8\"],[0.3333333333333333,\"#9c179e\"],[0.4444444444444444,\"#bd3786\"],[0.5555555555555556,\"#d8576b\"],[0.6666666666666666,\"#ed7953\"],[0.7777777777777778,\"#fb9f3a\"],[0.8888888888888888,\"#fdca26\"],[1.0,\"#f0f921\"]]}],\"heatmap\":[{\"type\":\"heatmap\",\"colorbar\":{\"outlinewidth\":0,\"ticks\":\"\"},\"colorscale\":[[0.0,\"#0d0887\"],[0.1111111111111111,\"#46039f\"],[0.2222222222222222,\"#7201a8\"],[0.3333333333333333,\"#9c179e\"],[0.4444444444444444,\"#bd3786\"],[0.5555555555555556,\"#d8576b\"],[0.6666666666666666,\"#ed7953\"],[0.7777777777777778,\"#fb9f3a\"],[0.8888888888888888,\"#fdca26\"],[1.0,\"#f0f921\"]]}],\"heatmapgl\":[{\"type\":\"heatmapgl\",\"colorbar\":{\"outlinewidth\":0,\"ticks\":\"\"},\"colorscale\":[[0.0,\"#0d0887\"],[0.1111111111111111,\"#46039f\"],[0.2222222222222222,\"#7201a8\"],[0.3333333333333333,\"#9c179e\"],[0.4444444444444444,\"#bd3786\"],[0.5555555555555556,\"#d8576b\"],[0.6666666666666666,\"#ed7953\"],[0.7777777777777778,\"#fb9f3a\"],[0.8888888888888888,\"#fdca26\"],[1.0,\"#f0f921\"]]}],\"contourcarpet\":[{\"type\":\"contourcarpet\",\"colorbar\":{\"outlinewidth\":0,\"ticks\":\"\"}}],\"contour\":[{\"type\":\"contour\",\"colorbar\":{\"outlinewidth\":0,\"ticks\":\"\"},\"colorscale\":[[0.0,\"#0d0887\"],[0.1111111111111111,\"#46039f\"],[0.2222222222222222,\"#7201a8\"],[0.3333333333333333,\"#9c179e\"],[0.4444444444444444,\"#bd3786\"],[0.5555555555555556,\"#d8576b\"],[0.6666666666666666,\"#ed7953\"],[0.7777777777777778,\"#fb9f3a\"],[0.8888888888888888,\"#fdca26\"],[1.0,\"#f0f921\"]]}],\"surface\":[{\"type\":\"surface\",\"colorbar\":{\"outlinewidth\":0,\"ticks\":\"\"},\"colorscale\":[[0.0,\"#0d0887\"],[0.1111111111111111,\"#46039f\"],[0.2222222222222222,\"#7201a8\"],[0.3333333333333333,\"#9c179e\"],[0.4444444444444444,\"#bd3786\"],[0.5555555555555556,\"#d8576b\"],[0.6666666666666666,\"#ed7953\"],[0.7777777777777778,\"#fb9f3a\"],[0.8888888888888888,\"#fdca26\"],[1.0,\"#f0f921\"]]}],\"mesh3d\":[{\"type\":\"mesh3d\",\"colorbar\":{\"outlinewidth\":0,\"ticks\":\"\"}}],\"scatter\":[{\"fillpattern\":{\"fillmode\":\"overlay\",\"size\":10,\"solidity\":0.2},\"type\":\"scatter\"}],\"parcoords\":[{\"type\":\"parcoords\",\"line\":{\"colorbar\":{\"outlinewidth\":0,\"ticks\":\"\"}}}],\"scatterpolargl\":[{\"type\":\"scatterpolargl\",\"marker\":{\"colorbar\":{\"outlinewidth\":0,\"ticks\":\"\"}}}],\"bar\":[{\"error_x\":{\"color\":\"#2a3f5f\"},\"error_y\":{\"color\":\"#2a3f5f\"},\"marker\":{\"line\":{\"color\":\"#E5ECF6\",\"width\":0.5},\"pattern\":{\"fillmode\":\"overlay\",\"size\":10,\"solidity\":0.2}},\"type\":\"bar\"}],\"scattergeo\":[{\"type\":\"scattergeo\",\"marker\":{\"colorbar\":{\"outlinewidth\":0,\"ticks\":\"\"}}}],\"scatterpolar\":[{\"type\":\"scatterpolar\",\"marker\":{\"colorbar\":{\"outlinewidth\":0,\"ticks\":\"\"}}}],\"histogram\":[{\"marker\":{\"pattern\":{\"fillmode\":\"overlay\",\"size\":10,\"solidity\":0.2}},\"type\":\"histogram\"}],\"scattergl\":[{\"type\":\"scattergl\",\"marker\":{\"colorbar\":{\"outlinewidth\":0,\"ticks\":\"\"}}}],\"scatter3d\":[{\"type\":\"scatter3d\",\"line\":{\"colorbar\":{\"outlinewidth\":0,\"ticks\":\"\"}},\"marker\":{\"colorbar\":{\"outlinewidth\":0,\"ticks\":\"\"}}}],\"scattermapbox\":[{\"type\":\"scattermapbox\",\"marker\":{\"colorbar\":{\"outlinewidth\":0,\"ticks\":\"\"}}}],\"scatterternary\":[{\"type\":\"scatterternary\",\"marker\":{\"colorbar\":{\"outlinewidth\":0,\"ticks\":\"\"}}}],\"scattercarpet\":[{\"type\":\"scattercarpet\",\"marker\":{\"colorbar\":{\"outlinewidth\":0,\"ticks\":\"\"}}}],\"carpet\":[{\"aaxis\":{\"endlinecolor\":\"#2a3f5f\",\"gridcolor\":\"white\",\"linecolor\":\"white\",\"minorgridcolor\":\"white\",\"startlinecolor\":\"#2a3f5f\"},\"baxis\":{\"endlinecolor\":\"#2a3f5f\",\"gridcolor\":\"white\",\"linecolor\":\"white\",\"minorgridcolor\":\"white\",\"startlinecolor\":\"#2a3f5f\"},\"type\":\"carpet\"}],\"table\":[{\"cells\":{\"fill\":{\"color\":\"#EBF0F8\"},\"line\":{\"color\":\"white\"}},\"header\":{\"fill\":{\"color\":\"#C8D4E3\"},\"line\":{\"color\":\"white\"}},\"type\":\"table\"}],\"barpolar\":[{\"marker\":{\"line\":{\"color\":\"#E5ECF6\",\"width\":0.5},\"pattern\":{\"fillmode\":\"overlay\",\"size\":10,\"solidity\":0.2}},\"type\":\"barpolar\"}],\"pie\":[{\"automargin\":true,\"type\":\"pie\"}]},\"layout\":{\"autotypenumbers\":\"strict\",\"colorway\":[\"#636efa\",\"#EF553B\",\"#00cc96\",\"#ab63fa\",\"#FFA15A\",\"#19d3f3\",\"#FF6692\",\"#B6E880\",\"#FF97FF\",\"#FECB52\"],\"font\":{\"color\":\"#2a3f5f\"},\"hovermode\":\"closest\",\"hoverlabel\":{\"align\":\"left\"},\"paper_bgcolor\":\"white\",\"plot_bgcolor\":\"#E5ECF6\",\"polar\":{\"bgcolor\":\"#E5ECF6\",\"angularaxis\":{\"gridcolor\":\"white\",\"linecolor\":\"white\",\"ticks\":\"\"},\"radialaxis\":{\"gridcolor\":\"white\",\"linecolor\":\"white\",\"ticks\":\"\"}},\"ternary\":{\"bgcolor\":\"#E5ECF6\",\"aaxis\":{\"gridcolor\":\"white\",\"linecolor\":\"white\",\"ticks\":\"\"},\"baxis\":{\"gridcolor\":\"white\",\"linecolor\":\"white\",\"ticks\":\"\"},\"caxis\":{\"gridcolor\":\"white\",\"linecolor\":\"white\",\"ticks\":\"\"}},\"coloraxis\":{\"colorbar\":{\"outlinewidth\":0,\"ticks\":\"\"}},\"colorscale\":{\"sequential\":[[0.0,\"#0d0887\"],[0.1111111111111111,\"#46039f\"],[0.2222222222222222,\"#7201a8\"],[0.3333333333333333,\"#9c179e\"],[0.4444444444444444,\"#bd3786\"],[0.5555555555555556,\"#d8576b\"],[0.6666666666666666,\"#ed7953\"],[0.7777777777777778,\"#fb9f3a\"],[0.8888888888888888,\"#fdca26\"],[1.0,\"#f0f921\"]],\"sequentialminus\":[[0.0,\"#0d0887\"],[0.1111111111111111,\"#46039f\"],[0.2222222222222222,\"#7201a8\"],[0.3333333333333333,\"#9c179e\"],[0.4444444444444444,\"#bd3786\"],[0.5555555555555556,\"#d8576b\"],[0.6666666666666666,\"#ed7953\"],[0.7777777777777778,\"#fb9f3a\"],[0.8888888888888888,\"#fdca26\"],[1.0,\"#f0f921\"]],\"diverging\":[[0,\"#8e0152\"],[0.1,\"#c51b7d\"],[0.2,\"#de77ae\"],[0.3,\"#f1b6da\"],[0.4,\"#fde0ef\"],[0.5,\"#f7f7f7\"],[0.6,\"#e6f5d0\"],[0.7,\"#b8e186\"],[0.8,\"#7fbc41\"],[0.9,\"#4d9221\"],[1,\"#276419\"]]},\"xaxis\":{\"gridcolor\":\"white\",\"linecolor\":\"white\",\"ticks\":\"\",\"title\":{\"standoff\":15},\"zerolinecolor\":\"white\",\"automargin\":true,\"zerolinewidth\":2},\"yaxis\":{\"gridcolor\":\"white\",\"linecolor\":\"white\",\"ticks\":\"\",\"title\":{\"standoff\":15},\"zerolinecolor\":\"white\",\"automargin\":true,\"zerolinewidth\":2},\"scene\":{\"xaxis\":{\"backgroundcolor\":\"#E5ECF6\",\"gridcolor\":\"white\",\"linecolor\":\"white\",\"showbackground\":true,\"ticks\":\"\",\"zerolinecolor\":\"white\",\"gridwidth\":2},\"yaxis\":{\"backgroundcolor\":\"#E5ECF6\",\"gridcolor\":\"white\",\"linecolor\":\"white\",\"showbackground\":true,\"ticks\":\"\",\"zerolinecolor\":\"white\",\"gridwidth\":2},\"zaxis\":{\"backgroundcolor\":\"#E5ECF6\",\"gridcolor\":\"white\",\"linecolor\":\"white\",\"showbackground\":true,\"ticks\":\"\",\"zerolinecolor\":\"white\",\"gridwidth\":2}},\"shapedefaults\":{\"line\":{\"color\":\"#2a3f5f\"}},\"annotationdefaults\":{\"arrowcolor\":\"#2a3f5f\",\"arrowhead\":0,\"arrowwidth\":1},\"geo\":{\"bgcolor\":\"white\",\"landcolor\":\"#E5ECF6\",\"subunitcolor\":\"white\",\"showland\":true,\"showlakes\":true,\"lakecolor\":\"white\"},\"title\":{\"x\":0.05},\"mapbox\":{\"style\":\"light\"}}},\"xaxis\":{\"anchor\":\"y\",\"domain\":[0.0,1.0],\"title\":{\"text\":\"Bootstrapped Medians\"}},\"yaxis\":{\"anchor\":\"x\",\"domain\":[0.0,1.0],\"title\":{\"text\":\"probability density\"}},\"legend\":{\"tracegroupgap\":0},\"margin\":{\"t\":60},\"barmode\":\"relative\"},                        {\"responsive\": true}                    ).then(function(){\n",
       "                            \n",
       "var gd = document.getElementById('9192ad84-f91f-44a4-811e-9dbbdb75e1b8');\n",
       "var x = new MutationObserver(function (mutations, observer) {{\n",
       "        var display = window.getComputedStyle(gd).display;\n",
       "        if (!display || display === 'none') {{\n",
       "            console.log([gd, 'removed!']);\n",
       "            Plotly.purge(gd);\n",
       "            observer.disconnect();\n",
       "        }}\n",
       "}});\n",
       "\n",
       "// Listen for the removal of the full notebook cells\n",
       "var notebookContainer = gd.closest('#notebook-container');\n",
       "if (notebookContainer) {{\n",
       "    x.observe(notebookContainer, {childList: true});\n",
       "}}\n",
       "\n",
       "// Listen for the clearing of the current output cell\n",
       "var outputEl = gd.closest('.output');\n",
       "if (outputEl) {{\n",
       "    x.observe(outputEl, {childList: true});\n",
       "}}\n",
       "\n",
       "                        })                };                });            </script>        </div>"
      ]
     },
     "metadata": {},
     "output_type": "display_data"
    }
   ],
   "source": []
  },
  {
   "cell_type": "markdown",
   "id": "8c2820fa",
   "metadata": {},
   "source": [
    "### Q10: Create a 95% bootstrap confidence interval for the median of paid claims using the simulation in `Q9`.\n",
    "#### Give your answer as a continuous numeric value rounded to two decimal positions."
   ]
  },
  {
   "cell_type": "code",
   "execution_count": 8,
   "id": "1a955d4c",
   "metadata": {},
   "outputs": [
    {
     "data": {
      "text/plain": [
       "array([ 940.28 , 1196.275])"
      ]
     },
     "execution_count": 8,
     "metadata": {},
     "output_type": "execute_result"
    }
   ],
   "source": []
  },
  {
   "cell_type": "code",
   "execution_count": 77,
   "id": "213e4f97",
   "metadata": {},
   "outputs": [],
   "source": [
    "# Q10: your answer will be tested!\n",
    "your_1000_bootstrapped_medians = #None # Assign your list/numpy array variable here instead of `None`\n",
    "your_95percent_confidence_interval_lower_bound = None # use np.round(..., 2)\n",
    "your_95percent_confidence_interval_upper_bound = None # use np.round(..., 2)\n",
    "Q10 = (your_1000_bootstrapped_medians, \n",
    "       (your_95percent_confidence_interval_lower_bound, your_95percent_confidence_interval_upper_bound))\n",
    "# Assign your 1000 bootstrapped medians and `tuple` \"interval\" of two-decimal rounded `float`s \n",
    "# as another `tuple` to Q10; e.g., ([bootstrapped_prop_1, ..., bootstrapped_prop_2000], (0.12, 0.34))"
   ]
  },
  {
   "cell_type": "markdown",
   "id": "2fbe34ad",
   "metadata": {},
   "source": [
    "### Q11: Load the population defined by `auto_claims_population.csv`, compute the median and standard deviation parameters of the paid claims (`PAID` column) of the population, and select which of the following is the most accurate characterization of the sample in `auto_claims.csv` relative to this population.\n",
    "\n",
    "A. The sample and population medians are very similar and within \\$10 of each other, whereas the sample and population standard deviations are not; however, the 95\\% bootstrap confidence interval for the sample median captures the true population median nonetheless.  \n",
    "\n",
    "B. The sample and population medians are not within \\$10 of each other, whereas the sample and population standard deviations are; however, the 95\\% bootstrap confidence interval for the sample median captures the true population median nonetheless.  \n",
    "\n",
    "C. The sample and population medians are very similar and within \\$10 of each other, whereas the sample and population standard deviations are not; and, the 95\\% bootstrap confidence interval for the sample median does not capture the true population median as a result.  \n",
    "\n",
    "D. The sample and population medians are not within \\$10 of each other, whereas the sample and population standard deviations are; and, the 95\\% bootstrap confidence interval for the sample median does not capture the true population median as a result.  \n",
    "\n",
    "> Hint: the population and the sample distributions could be visualized with the following:\n",
    "> ```python\n",
    "> px.box(pd.DataFrame({'x1':pd.read_csv('auto_claims_population.csv').PAID,\n",
    ">                      'x2':pd.read_csv('auto_claims.csv').PAID}))\n",
    "> ```\n"
   ]
  },
  {
   "cell_type": "code",
   "execution_count": 108,
   "id": "3704f98c",
   "metadata": {},
   "outputs": [
    {
     "data": {
      "application/vnd.plotly.v1+json": {
       "config": {
        "plotlyServerURL": "https://plot.ly"
       },
       "data": [
        {
         "alignmentgroup": "True",
         "hovertemplate": "variable=%{x}<br>value=%{y}<extra></extra>",
         "legendgroup": "",
         "marker": {
          "color": "#636efa"
         },
         "name": "",
         "notched": false,
         "offsetgroup": "",
         "orientation": "v",
         "showlegend": false,
         "type": "box",
         "x": [
          "x1",
          "x1",
          "x1",
          "x1",
          "x1",
          "x1",
          "x1",
          "x1",
          "x1",
          "x1",
          "x1",
          "x1",
          "x1",
          "x1",
          "x1",
          "x1",
          "x1",
          "x1",
          "x1",
          "x1",
          "x1",
          "x1",
          "x1",
          "x1",
          "x1",
          "x1",
          "x1",
          "x1",
          "x1",
          "x1",
          "x1",
          "x1",
          "x1",
          "x1",
          "x1",
          "x1",
          "x1",
          "x1",
          "x1",
          "x1",
          "x1",
          "x1",
          "x1",
          "x1",
          "x1",
          "x1",
          "x1",
          "x1",
          "x1",
          "x1",
          "x1",
          "x1",
          "x1",
          "x1",
          "x1",
          "x1",
          "x1",
          "x1",
          "x1",
          "x1",
          "x1",
          "x1",
          "x1",
          "x1",
          "x1",
          "x1",
          "x1",
          "x1",
          "x1",
          "x1",
          "x1",
          "x1",
          "x1",
          "x1",
          "x1",
          "x1",
          "x1",
          "x1",
          "x1",
          "x1",
          "x1",
          "x1",
          "x1",
          "x1",
          "x1",
          "x1",
          "x1",
          "x1",
          "x1",
          "x1",
          "x1",
          "x1",
          "x1",
          "x1",
          "x1",
          "x1",
          "x1",
          "x1",
          "x1",
          "x1",
          "x1",
          "x1",
          "x1",
          "x1",
          "x1",
          "x1",
          "x1",
          "x1",
          "x1",
          "x1",
          "x1",
          "x1",
          "x1",
          "x1",
          "x1",
          "x1",
          "x1",
          "x1",
          "x1",
          "x1",
          "x1",
          "x1",
          "x1",
          "x1",
          "x1",
          "x1",
          "x1",
          "x1",
          "x1",
          "x1",
          "x1",
          "x1",
          "x1",
          "x1",
          "x1",
          "x1",
          "x1",
          "x1",
          "x1",
          "x1",
          "x1",
          "x1",
          "x1",
          "x1",
          "x1",
          "x1",
          "x1",
          "x1",
          "x1",
          "x1",
          "x1",
          "x1",
          "x1",
          "x1",
          "x1",
          "x1",
          "x1",
          "x1",
          "x1",
          "x1",
          "x1",
          "x1",
          "x1",
          "x1",
          "x1",
          "x1",
          "x1",
          "x1",
          "x1",
          "x1",
          "x1",
          "x1",
          "x1",
          "x1",
          "x1",
          "x1",
          "x1",
          "x1",
          "x1",
          "x1",
          "x1",
          "x1",
          "x1",
          "x1",
          "x1",
          "x1",
          "x1",
          "x1",
          "x1",
          "x1",
          "x1",
          "x1",
          "x1",
          "x1",
          "x1",
          "x1",
          "x1",
          "x1",
          "x1",
          "x1",
          "x1",
          "x1",
          "x1",
          "x1",
          "x1",
          "x1",
          "x1",
          "x1",
          "x1",
          "x1",
          "x1",
          "x1",
          "x1",
          "x1",
          "x1",
          "x1",
          "x1",
          "x1",
          "x1",
          "x1",
          "x1",
          "x1",
          "x1",
          "x1",
          "x1",
          "x1",
          "x1",
          "x1",
          "x1",
          "x1",
          "x1",
          "x1",
          "x1",
          "x1",
          "x1",
          "x1",
          "x1",
          "x1",
          "x1",
          "x1",
          "x1",
          "x1",
          "x1",
          "x1",
          "x1",
          "x1",
          "x1",
          "x1",
          "x1",
          "x1",
          "x1",
          "x1",
          "x1",
          "x1",
          "x1",
          "x1",
          "x1",
          "x1",
          "x1",
          "x1",
          "x1",
          "x1",
          "x1",
          "x1",
          "x1",
          "x1",
          "x1",
          "x1",
          "x1",
          "x1",
          "x1",
          "x1",
          "x1",
          "x1",
          "x1",
          "x1",
          "x1",
          "x1",
          "x1",
          "x1",
          "x1",
          "x1",
          "x1",
          "x1",
          "x1",
          "x1",
          "x1",
          "x1",
          "x1",
          "x1",
          "x1",
          "x1",
          "x1",
          "x1",
          "x1",
          "x1",
          "x1",
          "x1",
          "x1",
          "x1",
          "x1",
          "x1",
          "x1",
          "x1",
          "x1",
          "x1",
          "x1",
          "x1",
          "x1",
          "x1",
          "x1",
          "x1",
          "x1",
          "x1",
          "x1",
          "x1",
          "x1",
          "x1",
          "x1",
          "x1",
          "x1",
          "x1",
          "x1",
          "x1",
          "x1",
          "x1",
          "x1",
          "x1",
          "x1",
          "x1",
          "x1",
          "x1",
          "x1",
          "x1",
          "x1",
          "x1",
          "x1",
          "x1",
          "x1",
          "x1",
          "x1",
          "x1",
          "x1",
          "x1",
          "x1",
          "x1",
          "x1",
          "x1",
          "x1",
          "x1",
          "x1",
          "x1",
          "x1",
          "x1",
          "x1",
          "x1",
          "x1",
          "x1",
          "x1",
          "x1",
          "x1",
          "x1",
          "x1",
          "x1",
          "x1",
          "x1",
          "x1",
          "x1",
          "x1",
          "x1",
          "x1",
          "x1",
          "x1",
          "x1",
          "x1",
          "x1",
          "x1",
          "x1",
          "x1",
          "x1",
          "x1",
          "x1",
          "x1",
          "x1",
          "x1",
          "x1",
          "x1",
          "x1",
          "x1",
          "x1",
          "x1",
          "x1",
          "x1",
          "x1",
          "x1",
          "x1",
          "x1",
          "x1",
          "x1",
          "x1",
          "x1",
          "x1",
          "x1",
          "x1",
          "x1",
          "x1",
          "x1",
          "x1",
          "x1",
          "x1",
          "x1",
          "x1",
          "x1",
          "x1",
          "x1",
          "x1",
          "x1",
          "x1",
          "x1",
          "x1",
          "x1",
          "x1",
          "x1",
          "x1",
          "x1",
          "x1",
          "x1",
          "x1",
          "x1",
          "x1",
          "x1",
          "x1",
          "x1",
          "x1",
          "x1",
          "x1",
          "x1",
          "x1",
          "x1",
          "x1",
          "x1",
          "x1",
          "x1",
          "x1",
          "x1",
          "x1",
          "x1",
          "x1",
          "x1",
          "x1",
          "x1",
          "x1",
          "x1",
          "x1",
          "x1",
          "x1",
          "x1",
          "x1",
          "x1",
          "x1",
          "x1",
          "x1",
          "x1",
          "x1",
          "x1",
          "x1",
          "x1",
          "x1",
          "x1",
          "x1",
          "x1",
          "x1",
          "x1",
          "x1",
          "x1",
          "x1",
          "x1",
          "x1",
          "x1",
          "x1",
          "x1",
          "x1",
          "x1",
          "x1",
          "x1",
          "x1",
          "x1",
          "x1",
          "x1",
          "x1",
          "x1",
          "x1",
          "x1",
          "x1",
          "x1",
          "x1",
          "x1",
          "x1",
          "x1",
          "x1",
          "x1",
          "x1",
          "x1",
          "x1",
          "x1",
          "x1",
          "x1",
          "x1",
          "x1",
          "x1",
          "x1",
          "x1",
          "x1",
          "x1",
          "x1",
          "x1",
          "x1",
          "x1",
          "x1",
          "x1",
          "x1",
          "x1",
          "x1",
          "x1",
          "x1",
          "x1",
          "x1",
          "x1",
          "x1",
          "x1",
          "x1",
          "x1",
          "x1",
          "x1",
          "x1",
          "x1",
          "x1",
          "x1",
          "x1",
          "x1",
          "x1",
          "x1",
          "x1",
          "x1",
          "x1",
          "x1",
          "x1",
          "x1",
          "x1",
          "x1",
          "x1",
          "x1",
          "x1",
          "x1",
          "x1",
          "x1",
          "x1",
          "x1",
          "x1",
          "x1",
          "x1",
          "x1",
          "x1",
          "x1",
          "x1",
          "x1",
          "x1",
          "x1",
          "x1",
          "x1",
          "x1",
          "x1",
          "x1",
          "x1",
          "x1",
          "x1",
          "x1",
          "x1",
          "x1",
          "x1",
          "x1",
          "x1",
          "x1",
          "x1",
          "x1",
          "x1",
          "x1",
          "x1",
          "x1",
          "x1",
          "x1",
          "x1",
          "x1",
          "x1",
          "x1",
          "x1",
          "x1",
          "x1",
          "x1",
          "x1",
          "x1",
          "x1",
          "x1",
          "x1",
          "x1",
          "x1",
          "x1",
          "x1",
          "x1",
          "x1",
          "x1",
          "x1",
          "x1",
          "x1",
          "x1",
          "x1",
          "x1",
          "x1",
          "x1",
          "x1",
          "x1",
          "x1",
          "x1",
          "x1",
          "x1",
          "x1",
          "x1",
          "x1",
          "x1",
          "x1",
          "x1",
          "x1",
          "x1",
          "x1",
          "x1",
          "x1",
          "x1",
          "x1",
          "x1",
          "x1",
          "x1",
          "x1",
          "x1",
          "x1",
          "x1",
          "x1",
          "x1",
          "x1",
          "x1",
          "x1",
          "x1",
          "x1",
          "x1",
          "x1",
          "x1",
          "x1",
          "x1",
          "x1",
          "x1",
          "x1",
          "x1",
          "x1",
          "x1",
          "x1",
          "x1",
          "x1",
          "x1",
          "x1",
          "x1",
          "x1",
          "x1",
          "x1",
          "x1",
          "x1",
          "x1",
          "x1",
          "x1",
          "x1",
          "x1",
          "x1",
          "x1",
          "x1",
          "x1",
          "x1",
          "x1",
          "x1",
          "x1",
          "x1",
          "x1",
          "x1",
          "x1",
          "x1",
          "x1",
          "x1",
          "x1",
          "x1",
          "x1",
          "x1",
          "x1",
          "x1",
          "x1",
          "x1",
          "x1",
          "x1",
          "x1",
          "x1",
          "x1",
          "x1",
          "x1",
          "x1",
          "x1",
          "x1",
          "x1",
          "x1",
          "x1",
          "x1",
          "x1",
          "x1",
          "x1",
          "x1",
          "x1",
          "x1",
          "x1",
          "x1",
          "x1",
          "x1",
          "x1",
          "x1",
          "x1",
          "x1",
          "x1",
          "x1",
          "x1",
          "x1",
          "x1",
          "x1",
          "x1",
          "x1",
          "x1",
          "x1",
          "x1",
          "x1",
          "x1",
          "x1",
          "x1",
          "x1",
          "x1",
          "x1",
          "x1",
          "x1",
          "x1",
          "x1",
          "x1",
          "x1",
          "x1",
          "x1",
          "x1",
          "x1",
          "x1",
          "x1",
          "x1",
          "x1",
          "x1",
          "x1",
          "x1",
          "x1",
          "x1",
          "x1",
          "x1",
          "x1",
          "x1",
          "x1",
          "x1",
          "x1",
          "x1",
          "x1",
          "x1",
          "x1",
          "x1",
          "x1",
          "x1",
          "x1",
          "x1",
          "x1",
          "x1",
          "x1",
          "x1",
          "x1",
          "x1",
          "x1",
          "x1",
          "x1",
          "x1",
          "x1",
          "x1",
          "x1",
          "x1",
          "x1",
          "x1",
          "x1",
          "x1",
          "x1",
          "x1",
          "x1",
          "x1",
          "x1",
          "x1",
          "x1",
          "x1",
          "x1",
          "x1",
          "x1",
          "x1",
          "x1",
          "x1",
          "x1",
          "x1",
          "x1",
          "x1",
          "x1",
          "x1",
          "x1",
          "x1",
          "x1",
          "x1",
          "x1",
          "x1",
          "x1",
          "x1",
          "x1",
          "x1",
          "x1",
          "x1",
          "x1",
          "x1",
          "x1",
          "x1",
          "x1",
          "x1",
          "x1",
          "x1",
          "x1",
          "x1",
          "x1",
          "x1",
          "x1",
          "x1",
          "x1",
          "x1",
          "x1",
          "x1",
          "x1",
          "x1",
          "x1",
          "x1",
          "x1",
          "x1",
          "x1",
          "x1",
          "x1",
          "x1",
          "x1",
          "x1",
          "x1",
          "x1",
          "x1",
          "x1",
          "x1",
          "x1",
          "x1",
          "x1",
          "x1",
          "x1",
          "x1",
          "x1",
          "x1",
          "x1",
          "x1",
          "x1",
          "x1",
          "x1",
          "x1",
          "x1",
          "x1",
          "x1",
          "x1",
          "x1",
          "x1",
          "x1",
          "x1",
          "x1",
          "x1",
          "x1",
          "x1",
          "x1",
          "x1",
          "x1",
          "x1",
          "x1",
          "x1",
          "x1",
          "x1",
          "x1",
          "x1",
          "x1",
          "x1",
          "x1",
          "x1",
          "x1",
          "x1",
          "x1",
          "x1",
          "x1",
          "x1",
          "x1",
          "x1",
          "x1",
          "x1",
          "x1",
          "x1",
          "x1",
          "x1",
          "x1",
          "x1",
          "x1",
          "x1",
          "x1",
          "x1",
          "x1",
          "x1",
          "x1",
          "x1",
          "x1",
          "x1",
          "x1",
          "x1",
          "x1",
          "x1",
          "x1",
          "x1",
          "x1",
          "x1",
          "x1",
          "x1",
          "x1",
          "x1",
          "x1",
          "x1",
          "x1",
          "x1",
          "x1",
          "x1",
          "x1",
          "x1",
          "x1",
          "x1",
          "x1",
          "x1",
          "x1",
          "x1",
          "x1",
          "x1",
          "x1",
          "x1",
          "x1",
          "x1",
          "x1",
          "x1",
          "x1",
          "x1",
          "x1",
          "x1",
          "x1",
          "x1",
          "x1",
          "x1",
          "x1",
          "x1",
          "x1",
          "x1",
          "x1",
          "x1",
          "x1",
          "x1",
          "x1",
          "x1",
          "x1",
          "x1",
          "x1",
          "x1",
          "x1",
          "x1",
          "x1",
          "x1",
          "x1",
          "x1",
          "x1",
          "x1",
          "x1",
          "x1",
          "x2",
          "x2",
          "x2",
          "x2",
          "x2",
          "x2",
          "x2",
          "x2",
          "x2",
          "x2",
          "x2",
          "x2",
          "x2",
          "x2",
          "x2",
          "x2",
          "x2",
          "x2",
          "x2",
          "x2",
          "x2",
          "x2",
          "x2",
          "x2",
          "x2",
          "x2",
          "x2",
          "x2",
          "x2",
          "x2",
          "x2",
          "x2",
          "x2",
          "x2",
          "x2",
          "x2",
          "x2",
          "x2",
          "x2",
          "x2",
          "x2",
          "x2",
          "x2",
          "x2",
          "x2",
          "x2",
          "x2",
          "x2",
          "x2",
          "x2",
          "x2",
          "x2",
          "x2",
          "x2",
          "x2",
          "x2",
          "x2",
          "x2",
          "x2",
          "x2",
          "x2",
          "x2",
          "x2",
          "x2",
          "x2",
          "x2",
          "x2",
          "x2",
          "x2",
          "x2",
          "x2",
          "x2",
          "x2",
          "x2",
          "x2",
          "x2",
          "x2",
          "x2",
          "x2",
          "x2",
          "x2",
          "x2",
          "x2",
          "x2",
          "x2",
          "x2",
          "x2",
          "x2",
          "x2",
          "x2",
          "x2",
          "x2",
          "x2",
          "x2",
          "x2",
          "x2",
          "x2",
          "x2",
          "x2",
          "x2",
          "x2",
          "x2",
          "x2",
          "x2",
          "x2",
          "x2",
          "x2",
          "x2",
          "x2",
          "x2",
          "x2",
          "x2",
          "x2",
          "x2",
          "x2",
          "x2",
          "x2",
          "x2",
          "x2",
          "x2",
          "x2",
          "x2",
          "x2",
          "x2",
          "x2",
          "x2",
          "x2",
          "x2",
          "x2",
          "x2",
          "x2",
          "x2",
          "x2",
          "x2",
          "x2",
          "x2",
          "x2",
          "x2",
          "x2",
          "x2",
          "x2",
          "x2",
          "x2",
          "x2",
          "x2",
          "x2",
          "x2",
          "x2",
          "x2",
          "x2",
          "x2",
          "x2",
          "x2",
          "x2",
          "x2",
          "x2",
          "x2",
          "x2",
          "x2",
          "x2",
          "x2",
          "x2",
          "x2",
          "x2",
          "x2",
          "x2",
          "x2",
          "x2",
          "x2",
          "x2",
          "x2",
          "x2",
          "x2",
          "x2",
          "x2",
          "x2",
          "x2",
          "x2",
          "x2",
          "x2",
          "x2",
          "x2",
          "x2",
          "x2",
          "x2",
          "x2",
          "x2",
          "x2",
          "x2",
          "x2",
          "x2",
          "x2",
          "x2",
          "x2",
          "x2",
          "x2",
          "x2",
          "x2",
          "x2",
          "x2",
          "x2",
          "x2",
          "x2",
          "x2",
          "x2",
          "x2",
          "x2",
          "x2",
          "x2",
          "x2",
          "x2",
          "x2",
          "x2",
          "x2",
          "x2",
          "x2",
          "x2",
          "x2",
          "x2",
          "x2",
          "x2",
          "x2",
          "x2",
          "x2",
          "x2",
          "x2",
          "x2",
          "x2",
          "x2",
          "x2",
          "x2",
          "x2",
          "x2",
          "x2",
          "x2",
          "x2",
          "x2",
          "x2",
          "x2",
          "x2",
          "x2",
          "x2",
          "x2",
          "x2",
          "x2",
          "x2",
          "x2",
          "x2",
          "x2",
          "x2",
          "x2",
          "x2",
          "x2",
          "x2",
          "x2",
          "x2",
          "x2",
          "x2",
          "x2",
          "x2",
          "x2",
          "x2",
          "x2",
          "x2",
          "x2",
          "x2",
          "x2",
          "x2",
          "x2",
          "x2",
          "x2",
          "x2",
          "x2",
          "x2",
          "x2",
          "x2",
          "x2",
          "x2",
          "x2",
          "x2",
          "x2",
          "x2",
          "x2",
          "x2",
          "x2",
          "x2",
          "x2",
          "x2",
          "x2",
          "x2",
          "x2",
          "x2",
          "x2",
          "x2",
          "x2",
          "x2",
          "x2",
          "x2",
          "x2",
          "x2",
          "x2",
          "x2",
          "x2",
          "x2",
          "x2",
          "x2",
          "x2",
          "x2",
          "x2",
          "x2",
          "x2",
          "x2",
          "x2",
          "x2",
          "x2",
          "x2",
          "x2",
          "x2",
          "x2",
          "x2",
          "x2",
          "x2",
          "x2",
          "x2",
          "x2",
          "x2",
          "x2",
          "x2",
          "x2",
          "x2",
          "x2",
          "x2",
          "x2",
          "x2",
          "x2",
          "x2",
          "x2",
          "x2",
          "x2",
          "x2",
          "x2",
          "x2",
          "x2",
          "x2",
          "x2",
          "x2",
          "x2",
          "x2",
          "x2",
          "x2",
          "x2",
          "x2",
          "x2",
          "x2",
          "x2",
          "x2",
          "x2",
          "x2",
          "x2",
          "x2",
          "x2",
          "x2",
          "x2",
          "x2",
          "x2",
          "x2",
          "x2",
          "x2",
          "x2",
          "x2",
          "x2",
          "x2",
          "x2",
          "x2",
          "x2",
          "x2",
          "x2",
          "x2",
          "x2",
          "x2",
          "x2",
          "x2",
          "x2",
          "x2",
          "x2",
          "x2",
          "x2",
          "x2",
          "x2",
          "x2",
          "x2",
          "x2",
          "x2",
          "x2",
          "x2",
          "x2",
          "x2",
          "x2",
          "x2",
          "x2",
          "x2",
          "x2",
          "x2",
          "x2",
          "x2",
          "x2",
          "x2",
          "x2",
          "x2",
          "x2",
          "x2",
          "x2",
          "x2",
          "x2",
          "x2",
          "x2",
          "x2",
          "x2",
          "x2",
          "x2",
          "x2",
          "x2",
          "x2",
          "x2",
          "x2",
          "x2",
          "x2",
          "x2",
          "x2",
          "x2",
          "x2",
          "x2",
          "x2",
          "x2",
          "x2",
          "x2",
          "x2",
          "x2",
          "x2",
          "x2",
          "x2",
          "x2",
          "x2",
          "x2",
          "x2",
          "x2",
          "x2",
          "x2",
          "x2",
          "x2",
          "x2",
          "x2",
          "x2",
          "x2",
          "x2",
          "x2",
          "x2",
          "x2",
          "x2",
          "x2",
          "x2",
          "x2",
          "x2",
          "x2",
          "x2",
          "x2",
          "x2",
          "x2",
          "x2",
          "x2",
          "x2",
          "x2",
          "x2",
          "x2",
          "x2",
          "x2",
          "x2",
          "x2",
          "x2",
          "x2",
          "x2",
          "x2",
          "x2",
          "x2",
          "x2",
          "x2",
          "x2",
          "x2",
          "x2",
          "x2",
          "x2",
          "x2",
          "x2",
          "x2",
          "x2",
          "x2",
          "x2",
          "x2",
          "x2",
          "x2",
          "x2",
          "x2",
          "x2",
          "x2",
          "x2",
          "x2",
          "x2",
          "x2",
          "x2",
          "x2",
          "x2",
          "x2",
          "x2",
          "x2",
          "x2",
          "x2",
          "x2",
          "x2",
          "x2",
          "x2",
          "x2",
          "x2",
          "x2",
          "x2",
          "x2",
          "x2",
          "x2",
          "x2",
          "x2",
          "x2",
          "x2",
          "x2",
          "x2",
          "x2",
          "x2",
          "x2",
          "x2",
          "x2",
          "x2",
          "x2",
          "x2",
          "x2",
          "x2",
          "x2",
          "x2",
          "x2",
          "x2",
          "x2",
          "x2",
          "x2",
          "x2",
          "x2",
          "x2",
          "x2",
          "x2",
          "x2",
          "x2",
          "x2",
          "x2",
          "x2",
          "x2",
          "x2",
          "x2",
          "x2",
          "x2",
          "x2",
          "x2",
          "x2",
          "x2",
          "x2",
          "x2",
          "x2",
          "x2",
          "x2",
          "x2",
          "x2",
          "x2",
          "x2",
          "x2",
          "x2",
          "x2",
          "x2",
          "x2",
          "x2",
          "x2",
          "x2",
          "x2",
          "x2",
          "x2",
          "x2",
          "x2",
          "x2",
          "x2",
          "x2",
          "x2",
          "x2",
          "x2",
          "x2",
          "x2",
          "x2",
          "x2",
          "x2",
          "x2",
          "x2",
          "x2",
          "x2",
          "x2",
          "x2",
          "x2",
          "x2",
          "x2",
          "x2",
          "x2",
          "x2",
          "x2",
          "x2",
          "x2",
          "x2",
          "x2",
          "x2",
          "x2",
          "x2",
          "x2",
          "x2",
          "x2",
          "x2",
          "x2",
          "x2",
          "x2",
          "x2",
          "x2",
          "x2",
          "x2",
          "x2",
          "x2",
          "x2",
          "x2",
          "x2",
          "x2",
          "x2",
          "x2",
          "x2",
          "x2",
          "x2",
          "x2",
          "x2",
          "x2",
          "x2",
          "x2",
          "x2",
          "x2",
          "x2",
          "x2",
          "x2",
          "x2",
          "x2",
          "x2",
          "x2",
          "x2",
          "x2",
          "x2",
          "x2",
          "x2",
          "x2",
          "x2",
          "x2",
          "x2",
          "x2",
          "x2",
          "x2",
          "x2",
          "x2",
          "x2",
          "x2",
          "x2",
          "x2",
          "x2",
          "x2",
          "x2",
          "x2",
          "x2",
          "x2",
          "x2",
          "x2",
          "x2",
          "x2",
          "x2",
          "x2",
          "x2",
          "x2",
          "x2",
          "x2",
          "x2",
          "x2",
          "x2",
          "x2",
          "x2",
          "x2",
          "x2",
          "x2",
          "x2",
          "x2",
          "x2",
          "x2",
          "x2",
          "x2",
          "x2",
          "x2",
          "x2",
          "x2",
          "x2",
          "x2",
          "x2",
          "x2",
          "x2",
          "x2",
          "x2",
          "x2",
          "x2",
          "x2",
          "x2",
          "x2",
          "x2",
          "x2",
          "x2",
          "x2",
          "x2",
          "x2",
          "x2",
          "x2",
          "x2",
          "x2",
          "x2",
          "x2",
          "x2",
          "x2",
          "x2",
          "x2",
          "x2",
          "x2",
          "x2",
          "x2",
          "x2",
          "x2",
          "x2",
          "x2",
          "x2",
          "x2",
          "x2",
          "x2",
          "x2",
          "x2",
          "x2",
          "x2",
          "x2",
          "x2",
          "x2",
          "x2",
          "x2",
          "x2",
          "x2",
          "x2",
          "x2",
          "x2",
          "x2",
          "x2",
          "x2",
          "x2",
          "x2",
          "x2",
          "x2",
          "x2",
          "x2",
          "x2",
          "x2",
          "x2",
          "x2",
          "x2",
          "x2",
          "x2",
          "x2",
          "x2",
          "x2",
          "x2",
          "x2",
          "x2",
          "x2",
          "x2",
          "x2",
          "x2",
          "x2",
          "x2",
          "x2",
          "x2",
          "x2",
          "x2",
          "x2",
          "x2",
          "x2",
          "x2",
          "x2",
          "x2",
          "x2",
          "x2",
          "x2",
          "x2",
          "x2",
          "x2",
          "x2",
          "x2",
          "x2",
          "x2",
          "x2",
          "x2",
          "x2",
          "x2",
          "x2",
          "x2",
          "x2",
          "x2",
          "x2",
          "x2",
          "x2",
          "x2",
          "x2",
          "x2",
          "x2",
          "x2",
          "x2",
          "x2",
          "x2",
          "x2",
          "x2",
          "x2",
          "x2",
          "x2",
          "x2",
          "x2",
          "x2",
          "x2",
          "x2",
          "x2",
          "x2",
          "x2",
          "x2",
          "x2",
          "x2",
          "x2",
          "x2",
          "x2",
          "x2",
          "x2",
          "x2",
          "x2",
          "x2",
          "x2",
          "x2",
          "x2",
          "x2",
          "x2",
          "x2",
          "x2",
          "x2",
          "x2",
          "x2",
          "x2",
          "x2",
          "x2",
          "x2",
          "x2",
          "x2",
          "x2",
          "x2",
          "x2",
          "x2",
          "x2",
          "x2",
          "x2",
          "x2",
          "x2",
          "x2",
          "x2",
          "x2",
          "x2",
          "x2",
          "x2",
          "x2",
          "x2",
          "x2",
          "x2",
          "x2",
          "x2",
          "x2",
          "x2",
          "x2",
          "x2",
          "x2",
          "x2",
          "x2",
          "x2",
          "x2",
          "x2",
          "x2",
          "x2",
          "x2",
          "x2",
          "x2",
          "x2",
          "x2",
          "x2",
          "x2",
          "x2",
          "x2",
          "x2",
          "x2",
          "x2",
          "x2",
          "x2",
          "x2",
          "x2",
          "x2",
          "x2",
          "x2",
          "x2",
          "x2",
          "x2",
          "x2",
          "x2",
          "x2",
          "x2",
          "x2",
          "x2",
          "x2",
          "x2",
          "x2",
          "x2",
          "x2",
          "x2",
          "x2",
          "x2",
          "x2",
          "x2",
          "x2",
          "x2",
          "x2",
          "x2",
          "x2",
          "x2",
          "x2",
          "x2",
          "x2",
          "x2",
          "x2",
          "x2",
          "x2",
          "x2",
          "x2",
          "x2",
          "x2",
          "x2",
          "x2",
          "x2",
          "x2",
          "x2",
          "x2",
          "x2",
          "x2",
          "x2",
          "x2",
          "x2",
          "x2",
          "x2",
          "x2",
          "x2",
          "x2",
          "x2",
          "x2",
          "x2",
          "x2",
          "x2",
          "x2",
          "x2",
          "x2",
          "x2",
          "x2",
          "x2",
          "x2",
          "x2",
          "x2",
          "x2",
          "x2",
          "x2",
          "x2",
          "x2",
          "x2",
          "x2",
          "x2",
          "x2",
          "x2",
          "x2"
         ],
         "x0": " ",
         "xaxis": "x",
         "y": [
          2384.67,
          650,
          654,
          3890.07,
          295.99,
          11756.34,
          2402,
          296.97,
          249.1,
          14833.3,
          3025,
          2750,
          2612.74,
          1259.89,
          824.85,
          669.5,
          664.34,
          408.39,
          3953.84,
          3841.66,
          239.37,
          30,
          6384,
          4467.92,
          1541.1,
          1354.93,
          1263.51,
          1045,
          519.75,
          499.28,
          365.26,
          322.34,
          122.41,
          10524.64,
          6854.02,
          3206.76,
          2724.04,
          2269,
          2169.88,
          1929.81,
          1061.8,
          945.8,
          899.13,
          7326.67,
          5301.72,
          3596.5,
          2322.72,
          1944.45,
          1491.69,
          1314.4,
          836.78,
          479,
          426.19,
          3112.89,
          2500,
          1921.22,
          1472.87,
          1444.89,
          1368.76,
          1346.36,
          772.23,
          688.67,
          362.63,
          359.41,
          354.29,
          262.81,
          244.11,
          9377.82,
          5540.07,
          3118.5,
          2495.8,
          2362.89,
          2007.78,
          1816.41,
          1500,
          1139.6,
          952.05,
          746.89,
          644.87,
          188.61,
          117.4,
          12714.43,
          10116.07,
          1949.14,
          1852.5,
          1722.82,
          1539.07,
          1476.43,
          1458.13,
          1119.52,
          990.07,
          987,
          782.44,
          459,
          377.36,
          319.67,
          176.07,
          154.75,
          8493.76,
          3809.83,
          3222.66,
          1113.38,
          766.4,
          663.17,
          640.4,
          619.06,
          419.18,
          298.62,
          160.2,
          105.5,
          8323.31,
          6291.84,
          4904.64,
          4096.58,
          3334.65,
          1755.95,
          1160.63,
          1098.37,
          818.79,
          651.57,
          646.79,
          584.61,
          417.04,
          399.9,
          371.63,
          365.5,
          275.43,
          146.56,
          14651.31,
          6754.81,
          5071.99,
          4809.52,
          2884.46,
          2591.33,
          2419.75,
          1321.7,
          1308,
          981.86,
          843.98,
          817.62,
          712,
          634.48,
          463.96,
          462.93,
          430.38,
          388.71,
          112.78,
          85,
          12151.86,
          5186.82,
          4451.39,
          3968.51,
          3392.58,
          1879.51,
          1792.54,
          1607.6,
          1238,
          1130,
          1081.71,
          1033.84,
          671.59,
          361.37,
          171.7,
          40,
          3203.35,
          3060.69,
          2171.93,
          1727.85,
          1550,
          1470.35,
          1229.01,
          1010.94,
          575.36,
          555.34,
          533.11,
          459.1,
          253.75,
          148.65,
          4184.46,
          4082.49,
          1846.1,
          1688.78,
          1118.91,
          749.64,
          725.71,
          722.02,
          648.06,
          593.46,
          516.81,
          302.54,
          300,
          278.55,
          248.68,
          131,
          28.46,
          13058.85,
          6950.54,
          2930,
          2112.46,
          2100,
          1500,
          1386.41,
          1270.17,
          1203.81,
          993.59,
          903,
          900,
          583.76,
          580.32,
          376.46,
          275.94,
          91.27,
          6013.74,
          4804.22,
          3179.28,
          2893.53,
          1916.21,
          1209.08,
          1036.74,
          986.12,
          893.03,
          754.31,
          740.38,
          694.91,
          693.13,
          564.05,
          551.78,
          549.77,
          497.85,
          403.3,
          358.7,
          284.54,
          228,
          177.6,
          177.42,
          139.79,
          33137.5,
          7293.43,
          3754.51,
          3495.14,
          3140.66,
          2137.4,
          1971.75,
          1956,
          1870.58,
          1650,
          1188.74,
          1115.89,
          1088.73,
          1074.35,
          1016.43,
          860.67,
          831.8,
          796.8,
          759.57,
          668.74,
          582.62,
          404,
          393.5,
          309.67,
          292.44,
          221.7,
          103.75,
          11511.72,
          6090.02,
          1727.33,
          1235.07,
          910.01,
          812.98,
          562.05,
          527.34,
          451.31,
          332.06,
          315.53,
          10527.4,
          7751.55,
          5711.53,
          3804.44,
          3760.07,
          2757.83,
          2565.84,
          2221.87,
          2139.9,
          2000,
          1363.23,
          1132.41,
          993.19,
          964.22,
          898.55,
          822.1,
          761.22,
          754.56,
          685.71,
          622.53,
          604.95,
          587.51,
          490.25,
          489.73,
          465.5,
          329.91,
          272.01,
          258.5,
          4643.8,
          3523.9,
          3007.96,
          2192.98,
          1752.16,
          1686.2,
          1648.41,
          1381.16,
          1336.26,
          1248.01,
          950.61,
          945.56,
          880.82,
          713.55,
          645.8,
          626.38,
          573.4,
          488.16,
          458,
          443.95,
          253.59,
          209.83,
          138.86,
          100,
          30,
          24624.44,
          8123.33,
          5158.65,
          5035.93,
          4625.47,
          1707.92,
          1694.59,
          1501.05,
          1369.74,
          946.38,
          825.66,
          682.85,
          604.95,
          585.34,
          565.02,
          529.28,
          388.03,
          377.54,
          303,
          300,
          198.98,
          135,
          47.52,
          11458.07,
          8300.31,
          7827.74,
          6261.92,
          5861.5,
          5381.14,
          4532.02,
          3656.77,
          2928.92,
          2547.5,
          2276.5,
          2017.28,
          1678.17,
          1651.86,
          1482.45,
          1480.93,
          1348.93,
          1189.96,
          1090.41,
          940.28,
          925.47,
          852.22,
          417.18,
          369.02,
          346.79,
          244.23,
          132,
          100,
          14753.58,
          11288.76,
          10175.27,
          6277.84,
          4939.5,
          4786.51,
          3167.49,
          2572.22,
          1712.27,
          1712.13,
          1396.61,
          1377.31,
          1108.42,
          1001.76,
          989.59,
          891.09,
          882.77,
          670.77,
          638.99,
          546.32,
          536.11,
          533.33,
          464.59,
          460.36,
          291.92,
          257.01,
          106,
          7487.94,
          7296.2,
          4929.65,
          2532.6,
          2344.69,
          1855.85,
          1812.47,
          1431.81,
          1226.28,
          1122.12,
          1090.75,
          1067.57,
          1012.19,
          928.2,
          861.89,
          809.34,
          782.9,
          768.05,
          698.65,
          630.11,
          617.9,
          594.8,
          585.74,
          390.02,
          291.28,
          236.53,
          10077,
          8569.3,
          6124.34,
          5335.35,
          3486.96,
          3255.88,
          2985.29,
          2418.4,
          2368.69,
          2007.64,
          1996,
          1869.49,
          1600.18,
          1278.52,
          1212.85,
          1039.69,
          834.12,
          805.18,
          676.15,
          651.18,
          586.85,
          315.61,
          311.32,
          25.44,
          9793.42,
          7620.37,
          6800.94,
          4781.43,
          3944.37,
          2406,
          1613.41,
          1340.74,
          1249.02,
          1086.9,
          941.85,
          909.99,
          903.99,
          875.28,
          738.18,
          492.22,
          468,
          443.49,
          439.22,
          359.11,
          8215.8,
          6208.2,
          5241.71,
          3912.49,
          3230.09,
          2600,
          2531.24,
          2038.05,
          1890.5,
          1704.54,
          1145.63,
          959.52,
          763.07,
          746.63,
          700,
          554.55,
          545.3,
          490.6,
          273.29,
          189.9,
          10652.59,
          5556.75,
          3403.09,
          3328.93,
          2805.73,
          2593.89,
          2586.45,
          2125.09,
          1739.92,
          1696.26,
          1352.01,
          1266.44,
          1167.44,
          1035.03,
          1014.98,
          941.51,
          840.73,
          739.87,
          720.53,
          699.19,
          677.43,
          634.14,
          545.35,
          520.96,
          500,
          459.43,
          267.25,
          219.89,
          175,
          171.97,
          10264.47,
          4610.48,
          4551.35,
          2905.94,
          2128.29,
          2100,
          1897.85,
          1876.31,
          1789.33,
          1690.06,
          1669.4,
          1595.82,
          1400,
          1395.42,
          1221.73,
          1200,
          1152.26,
          1130.8,
          1061.28,
          992.48,
          926.2,
          922.58,
          777.53,
          767.54,
          706.49,
          705.64,
          684.15,
          672.91,
          627.89,
          613.97,
          499,
          496.58,
          445.68,
          435.72,
          335.91,
          222.15,
          116.66,
          97.7,
          8144.41,
          7522.19,
          7063.69,
          6630.91,
          4465.03,
          3451.91,
          3227.06,
          3105.06,
          2477,
          2471.81,
          2435.85,
          2362.48,
          2045.43,
          1688.9,
          1567.05,
          1515.46,
          1357.83,
          1272.79,
          1123.7,
          864.92,
          781.8,
          747.81,
          719.83,
          715,
          651.82,
          651.52,
          616.07,
          575.42,
          433.82,
          377.58,
          365.12,
          334.8,
          291.29,
          164.33,
          145.75,
          26.23,
          5134.29,
          3820.97,
          3732.91,
          3222.45,
          2643.26,
          1930.21,
          1655.67,
          1641.81,
          1636.11,
          1590.34,
          1462.72,
          1379.11,
          1264.6,
          1173.25,
          1008.05,
          913.97,
          843,
          787.49,
          735,
          500,
          494.96,
          480.73,
          395.27,
          386.56,
          372.95,
          309.52,
          259.25,
          224.54,
          180.07,
          7780.9,
          3890.9,
          3511.68,
          3018.03,
          2191.83,
          2011.47,
          1938.6,
          1430.24,
          1350,
          1211.84,
          1210.38,
          1097.13,
          1056.58,
          1013.93,
          991.36,
          922.82,
          904.02,
          900,
          842.57,
          825.69,
          795.08,
          634.89,
          633,
          500,
          496.25,
          474.18,
          468.9,
          378.4,
          360.7,
          328.18,
          290,
          273.92,
          125,
          110.78,
          79.8,
          10538.65,
          8903.29,
          5758.21,
          5335.18,
          4748.38,
          4211.19,
          3521.32,
          3056.01,
          2946.55,
          2912.28,
          2596.17,
          2437.24,
          2301.61,
          2277,
          1942.82,
          1450.55,
          1222.12,
          1063.39,
          954.98,
          771.25,
          681.17,
          596.05,
          532.1,
          523.95,
          523.93,
          490.83,
          481.82,
          471.38,
          440.66,
          440.51,
          437.26,
          350,
          347.79,
          343.5,
          333.05,
          327.41,
          17.79,
          15279.68,
          7108.52,
          7038.61,
          5479.6,
          3978.91,
          2683.21,
          2635.78,
          2575.79,
          2317.29,
          2310,
          1542.91,
          1540.27,
          1514,
          1292.26,
          1230.12,
          1222.94,
          1215.89,
          1168.23,
          1150,
          1146.53,
          992.24,
          742.82,
          742.7,
          740.44,
          665.29,
          622.99,
          582.31,
          548.2,
          442.92,
          429.7,
          250.56,
          249.01,
          7419.73,
          7275,
          6867.53,
          5604.53,
          5347.31,
          5263.84,
          5169.91,
          4488.66,
          4302.05,
          3807.25,
          3781.2,
          3435.92,
          3410.38,
          2211.92,
          2005.64,
          1993.9,
          1757,
          1662.83,
          1584.11,
          1533.74,
          1414.86,
          1403.93,
          1371.51,
          1336,
          1112.82,
          1100.68,
          1064.4,
          1046.66,
          902.67,
          806.73,
          785.41,
          718.1,
          537.28,
          530.33,
          483.1,
          437.77,
          342.04,
          243,
          218.01,
          194.44,
          142.74,
          11669.62,
          7966.3,
          4681,
          4334.51,
          4060.6,
          3648,
          3569.77,
          2992.53,
          2330.86,
          2203.89,
          2200.97,
          2100.56,
          1916.44,
          1913.63,
          1809.29,
          1514.75,
          1367.13,
          1294.25,
          1151.46,
          1100.39,
          1097.92,
          1095.07,
          1049.61,
          1012.67,
          857.65,
          843.54,
          759.89,
          692.58,
          681.24,
          677.29,
          636.71,
          595,
          563.86,
          555.58,
          547.85,
          547.09,
          538.41,
          520.5,
          493.79,
          485.77,
          450.54,
          439.97,
          436.76,
          312.97,
          302.1,
          287.03,
          274.3,
          259.43,
          113.92,
          50,
          41.75,
          16175,
          15845,
          9668.22,
          7964.72,
          6210.85,
          6055.33,
          5882,
          5370.19,
          4171.55,
          4118.55,
          3942.63,
          3696,
          3070.28,
          2941.5,
          2908.31,
          2420.85,
          2319.89,
          2313.46,
          2264.77,
          2100,
          2027.99,
          1967.97,
          1758.73,
          1722.29,
          1541.52,
          1523.72,
          1376.27,
          1263.16,
          1226.12,
          1190.97,
          1151.64,
          1057.79,
          1044.7,
          896.83,
          894.35,
          871.59,
          778.22,
          755.29,
          750,
          739.14,
          717.05,
          675,
          671.72,
          628.83,
          627.19,
          538.16,
          504.47,
          490,
          487.51,
          442.7,
          436.37,
          355.86,
          351.12,
          322.48,
          312.28,
          310.9,
          198.61,
          90.64,
          9.5,
          12582.27,
          6890.65,
          6500.9,
          6193.21,
          5389.99,
          4097.87,
          3729.71,
          2883.95,
          2649.87,
          2630.23,
          2612.98,
          2572.15,
          2497.95,
          1973.7,
          1784.33,
          1767.51,
          1764,
          1552.58,
          1501.77,
          1430.98,
          1237.92,
          1216.36,
          1200.15,
          1048.92,
          1040.44,
          995.3,
          968.58,
          925.51,
          860.56,
          857.87,
          852.32,
          804.64,
          803.48,
          783.52,
          762,
          750,
          736.48,
          701.15,
          629.94,
          628.77,
          622.64,
          611.57,
          570.67,
          560.2,
          501.15,
          395.22,
          346.11,
          343.01,
          337.12,
          311.11,
          216.05,
          204,
          200,
          97.61,
          61.34,
          12840.97,
          8332.26,
          7681.88,
          7470.43,
          6353.97,
          6167.91,
          5736.48,
          5559.99,
          5556.29,
          4799.3,
          3875.35,
          3189.51,
          2976.8,
          2850,
          2814.95,
          2464.86,
          2381.3,
          2372.43,
          2354.25,
          2353.79,
          2152.01,
          2007,
          1972.13,
          1835,
          1799.75,
          1718.52,
          1586.12,
          1563.22,
          1525.54,
          1515.82,
          1434.74,
          1407.91,
          1263.22,
          1220.37,
          1204.08,
          1037.08,
          954.26,
          935.97,
          885.61,
          865.94,
          824.84,
          788.11,
          728.19,
          725.77,
          653.36,
          606.83,
          597.92,
          594.07,
          479.54,
          453.55,
          436.91,
          431.77,
          382.13,
          377.6,
          350,
          326.43,
          276.78,
          271.14,
          261,
          250,
          250,
          129,
          2384.67,
          650,
          654,
          3890.07,
          295.99,
          11756.34,
          2402,
          296.97,
          249.1,
          14833.3,
          3025,
          2750,
          2612.74,
          1259.89,
          824.85,
          669.5,
          664.34,
          408.39,
          3953.84,
          3841.66,
          239.37,
          30,
          6384,
          4467.92,
          1541.1,
          1354.93,
          1263.51,
          1045,
          519.75,
          499.28,
          365.26,
          322.34,
          122.41,
          10524.64,
          6854.02,
          3206.76,
          2724.04,
          2269,
          2169.88,
          1929.81,
          1061.8,
          945.8,
          899.13,
          7326.67,
          5301.72,
          3596.5,
          2322.72,
          1944.45,
          1491.69,
          1314.4,
          836.78,
          479,
          426.19,
          3112.89,
          2500,
          1921.22,
          1472.87,
          1444.89,
          1368.76,
          1346.36,
          772.23,
          688.67,
          362.63,
          359.41,
          354.29,
          262.81,
          244.11,
          9377.82,
          5540.07,
          3118.5,
          2495.8,
          2362.89,
          2007.78,
          1816.41,
          1500,
          1139.6,
          952.05,
          746.89,
          644.87,
          188.61,
          117.4,
          12714.43,
          10116.07,
          1949.14,
          1852.5,
          1722.82,
          1539.07,
          1476.43,
          1458.13,
          1119.52,
          990.07,
          987,
          782.44,
          459,
          377.36,
          319.67,
          176.07,
          154.75,
          8493.76,
          3809.83,
          3222.66,
          1113.38,
          766.4,
          663.17,
          640.4,
          619.06,
          419.18,
          298.62,
          160.2,
          105.5,
          8323.31,
          6291.84,
          4904.64,
          4096.58,
          3334.65,
          1755.95,
          1160.63,
          1098.37,
          818.79,
          651.57,
          646.79,
          584.61,
          417.04,
          399.9,
          371.63,
          365.5,
          275.43,
          146.56,
          14651.31,
          6754.81,
          5071.99,
          4809.52,
          2884.46,
          2591.33,
          2419.75,
          1321.7,
          1308,
          981.86,
          843.98,
          817.62,
          712,
          634.48,
          463.96,
          462.93,
          430.38,
          388.71,
          112.78,
          85,
          12151.86,
          5186.82,
          4451.39,
          3968.51,
          3392.58,
          1879.51,
          1792.54,
          1607.6,
          1238,
          1130,
          1081.71,
          1033.84,
          671.59,
          361.37,
          171.7,
          40,
          3203.35,
          3060.69,
          2171.93,
          1727.85,
          1550,
          1470.35,
          1229.01,
          1010.94,
          575.36,
          555.34,
          533.11,
          459.1,
          253.75,
          148.65,
          4184.46,
          4082.49,
          1846.1,
          1688.78,
          1118.91,
          749.64,
          725.71,
          722.02,
          648.06,
          593.46,
          516.81,
          302.54,
          300,
          278.55,
          248.68,
          131,
          28.46,
          13058.85,
          6950.54,
          2930,
          2112.46,
          2100,
          1500,
          1386.41,
          1270.17,
          1203.81,
          993.59,
          903,
          900,
          583.76,
          580.32,
          376.46,
          275.94,
          91.27,
          6013.74,
          4804.22,
          3179.28,
          2893.53,
          1916.21,
          1209.08,
          1036.74,
          986.12,
          893.03,
          754.31,
          740.38,
          694.91,
          693.13,
          564.05,
          551.78,
          549.77,
          497.85,
          403.3,
          358.7,
          284.54,
          228,
          177.6,
          177.42,
          139.79,
          33137.5,
          7293.43,
          3754.51,
          3495.14,
          3140.66,
          2137.4,
          1971.75,
          1956,
          1870.58,
          1650,
          1188.74,
          1115.89,
          1088.73,
          1074.35,
          1016.43,
          860.67,
          831.8,
          796.8,
          759.57,
          668.74,
          582.62,
          404,
          393.5,
          309.67,
          292.44,
          221.7,
          103.75,
          11511.72,
          6090.02,
          1727.33,
          1235.07,
          910.01,
          812.98,
          562.05,
          527.34,
          451.31,
          332.06,
          315.53,
          10527.4,
          7751.55,
          5711.53,
          3804.44,
          3760.07,
          2757.83,
          2565.84,
          2221.87,
          2139.9,
          2000,
          1363.23,
          1132.41,
          993.19,
          964.22,
          898.55,
          822.1,
          761.22,
          754.56,
          685.71,
          622.53,
          604.95,
          587.51,
          490.25,
          489.73,
          465.5,
          329.91,
          272.01,
          258.5,
          4643.8,
          3523.9,
          3007.96,
          2192.98,
          1752.16,
          1686.2,
          1648.41,
          1381.16,
          1336.26,
          1248.01,
          950.61,
          945.56,
          880.82,
          713.55,
          645.8,
          626.38,
          573.4,
          488.16,
          458,
          443.95,
          253.59,
          209.83,
          138.86,
          100,
          30,
          24624.44,
          8123.33,
          5158.65,
          5035.93,
          4625.47,
          1707.92,
          1694.59,
          1501.05,
          1369.74,
          946.38,
          825.66,
          682.85,
          604.95,
          585.34,
          565.02,
          529.28,
          388.03,
          377.54,
          303,
          300,
          198.98,
          135,
          47.52,
          11458.07,
          8300.31,
          7827.74,
          6261.92,
          5861.5,
          5381.14,
          4532.02,
          3656.77,
          2928.92,
          2547.5,
          2276.5,
          2017.28,
          1678.17,
          1651.86,
          1482.45,
          1480.93,
          1348.93,
          1189.96,
          1090.41,
          940.28,
          925.47,
          852.22,
          417.18,
          369.02,
          346.79,
          244.23,
          132,
          100,
          14753.58,
          11288.76,
          10175.27,
          6277.84,
          4939.5,
          4786.51,
          3167.49,
          2572.22,
          1712.27,
          1712.13,
          1396.61,
          1377.31,
          1108.42,
          1001.76,
          989.59,
          891.09,
          882.77,
          670.77,
          638.99,
          546.32,
          536.11,
          533.33,
          464.59,
          460.36,
          291.92,
          257.01,
          106,
          7487.94,
          7296.2,
          4929.65,
          2532.6,
          2344.69,
          1855.85,
          1812.47,
          1431.81,
          1226.28,
          1122.12,
          1090.75,
          1067.57,
          1012.19,
          928.2,
          861.89,
          809.34,
          782.9,
          768.05,
          698.65,
          630.11,
          617.9,
          594.8,
          585.74,
          390.02,
          291.28,
          236.53,
          10077,
          8569.3,
          6124.34,
          5335.35,
          3486.96,
          3255.88,
          2985.29,
          2418.4,
          2368.69,
          2007.64,
          1996,
          1869.49,
          1600.18,
          1278.52,
          1212.85,
          1039.69,
          834.12,
          805.18,
          676.15,
          651.18,
          586.85,
          315.61,
          311.32,
          25.44,
          9793.42,
          7620.37,
          6800.94,
          4781.43,
          3944.37,
          2406,
          1613.41,
          1340.74,
          1249.02,
          1086.9,
          941.85,
          909.99,
          903.99,
          875.28,
          738.18,
          492.22,
          468,
          443.49,
          439.22,
          359.11,
          8215.8,
          6208.2,
          5241.71,
          3912.49,
          3230.09,
          2600,
          2531.24,
          2038.05,
          1890.5,
          1704.54,
          1145.63,
          959.52,
          763.07,
          746.63,
          700,
          554.55,
          545.3,
          490.6,
          273.29,
          189.9,
          10652.59,
          5556.75,
          3403.09,
          3328.93,
          2805.73,
          null,
          null,
          null,
          null,
          null,
          null,
          null,
          null,
          null,
          null,
          null,
          null,
          null,
          null,
          null,
          null,
          null,
          null,
          null,
          null,
          null,
          null,
          null,
          null,
          null,
          null,
          null,
          null,
          null,
          null,
          null,
          null,
          null,
          null,
          null,
          null,
          null,
          null,
          null,
          null,
          null,
          null,
          null,
          null,
          null,
          null,
          null,
          null,
          null,
          null,
          null,
          null,
          null,
          null,
          null,
          null,
          null,
          null,
          null,
          null,
          null,
          null,
          null,
          null,
          null,
          null,
          null,
          null,
          null,
          null,
          null,
          null,
          null,
          null,
          null,
          null,
          null,
          null,
          null,
          null,
          null,
          null,
          null,
          null,
          null,
          null,
          null,
          null,
          null,
          null,
          null,
          null,
          null,
          null,
          null,
          null,
          null,
          null,
          null,
          null,
          null,
          null,
          null,
          null,
          null,
          null,
          null,
          null,
          null,
          null,
          null,
          null,
          null,
          null,
          null,
          null,
          null,
          null,
          null,
          null,
          null,
          null,
          null,
          null,
          null,
          null,
          null,
          null,
          null,
          null,
          null,
          null,
          null,
          null,
          null,
          null,
          null,
          null,
          null,
          null,
          null,
          null,
          null,
          null,
          null,
          null,
          null,
          null,
          null,
          null,
          null,
          null,
          null,
          null,
          null,
          null,
          null,
          null,
          null,
          null,
          null,
          null,
          null,
          null,
          null,
          null,
          null,
          null,
          null,
          null,
          null,
          null,
          null,
          null,
          null,
          null,
          null,
          null,
          null,
          null,
          null,
          null,
          null,
          null,
          null,
          null,
          null,
          null,
          null,
          null,
          null,
          null,
          null,
          null,
          null,
          null,
          null,
          null,
          null,
          null,
          null,
          null,
          null,
          null,
          null,
          null,
          null,
          null,
          null,
          null,
          null,
          null,
          null,
          null,
          null,
          null,
          null,
          null,
          null,
          null,
          null,
          null,
          null,
          null,
          null,
          null,
          null,
          null,
          null,
          null,
          null,
          null,
          null,
          null,
          null,
          null,
          null,
          null,
          null,
          null,
          null,
          null,
          null,
          null,
          null,
          null,
          null,
          null,
          null,
          null,
          null,
          null,
          null,
          null,
          null,
          null,
          null,
          null,
          null,
          null,
          null,
          null,
          null,
          null,
          null,
          null,
          null,
          null,
          null,
          null,
          null,
          null,
          null,
          null,
          null,
          null,
          null,
          null,
          null,
          null,
          null,
          null,
          null,
          null,
          null,
          null,
          null,
          null,
          null,
          null,
          null,
          null,
          null,
          null,
          null,
          null,
          null,
          null,
          null,
          null,
          null,
          null,
          null,
          null,
          null,
          null,
          null,
          null,
          null,
          null,
          null,
          null,
          null,
          null,
          null,
          null,
          null,
          null,
          null,
          null,
          null,
          null,
          null,
          null,
          null,
          null,
          null,
          null,
          null,
          null,
          null,
          null,
          null,
          null,
          null,
          null,
          null,
          null,
          null,
          null,
          null,
          null,
          null,
          null,
          null,
          null,
          null,
          null,
          null,
          null,
          null,
          null,
          null,
          null,
          null,
          null,
          null,
          null,
          null,
          null,
          null,
          null,
          null,
          null,
          null,
          null,
          null,
          null,
          null,
          null,
          null,
          null,
          null,
          null,
          null,
          null,
          null,
          null,
          null,
          null,
          null,
          null,
          null,
          null,
          null,
          null,
          null,
          null,
          null,
          null,
          null,
          null,
          null,
          null,
          null,
          null,
          null,
          null,
          null,
          null,
          null,
          null,
          null,
          null,
          null,
          null,
          null,
          null,
          null,
          null,
          null,
          null,
          null,
          null,
          null,
          null,
          null,
          null,
          null,
          null,
          null,
          null,
          null,
          null,
          null,
          null,
          null,
          null,
          null,
          null,
          null,
          null,
          null,
          null,
          null,
          null,
          null,
          null,
          null,
          null,
          null,
          null,
          null,
          null,
          null,
          null,
          null,
          null,
          null,
          null,
          null,
          null,
          null,
          null,
          null,
          null,
          null,
          null,
          null,
          null,
          null,
          null,
          null,
          null,
          null,
          null,
          null,
          null,
          null,
          null,
          null,
          null,
          null,
          null,
          null,
          null,
          null,
          null,
          null,
          null,
          null,
          null,
          null,
          null,
          null,
          null,
          null,
          null,
          null,
          null,
          null,
          null,
          null,
          null,
          null,
          null,
          null,
          null,
          null,
          null
         ],
         "y0": " ",
         "yaxis": "y"
        }
       ],
       "layout": {
        "boxmode": "group",
        "legend": {
         "tracegroupgap": 0
        },
        "margin": {
         "t": 60
        },
        "template": {
         "data": {
          "bar": [
           {
            "error_x": {
             "color": "#2a3f5f"
            },
            "error_y": {
             "color": "#2a3f5f"
            },
            "marker": {
             "line": {
              "color": "#E5ECF6",
              "width": 0.5
             },
             "pattern": {
              "fillmode": "overlay",
              "size": 10,
              "solidity": 0.2
             }
            },
            "type": "bar"
           }
          ],
          "barpolar": [
           {
            "marker": {
             "line": {
              "color": "#E5ECF6",
              "width": 0.5
             },
             "pattern": {
              "fillmode": "overlay",
              "size": 10,
              "solidity": 0.2
             }
            },
            "type": "barpolar"
           }
          ],
          "carpet": [
           {
            "aaxis": {
             "endlinecolor": "#2a3f5f",
             "gridcolor": "white",
             "linecolor": "white",
             "minorgridcolor": "white",
             "startlinecolor": "#2a3f5f"
            },
            "baxis": {
             "endlinecolor": "#2a3f5f",
             "gridcolor": "white",
             "linecolor": "white",
             "minorgridcolor": "white",
             "startlinecolor": "#2a3f5f"
            },
            "type": "carpet"
           }
          ],
          "choropleth": [
           {
            "colorbar": {
             "outlinewidth": 0,
             "ticks": ""
            },
            "type": "choropleth"
           }
          ],
          "contour": [
           {
            "colorbar": {
             "outlinewidth": 0,
             "ticks": ""
            },
            "colorscale": [
             [
              0,
              "#0d0887"
             ],
             [
              0.1111111111111111,
              "#46039f"
             ],
             [
              0.2222222222222222,
              "#7201a8"
             ],
             [
              0.3333333333333333,
              "#9c179e"
             ],
             [
              0.4444444444444444,
              "#bd3786"
             ],
             [
              0.5555555555555556,
              "#d8576b"
             ],
             [
              0.6666666666666666,
              "#ed7953"
             ],
             [
              0.7777777777777778,
              "#fb9f3a"
             ],
             [
              0.8888888888888888,
              "#fdca26"
             ],
             [
              1,
              "#f0f921"
             ]
            ],
            "type": "contour"
           }
          ],
          "contourcarpet": [
           {
            "colorbar": {
             "outlinewidth": 0,
             "ticks": ""
            },
            "type": "contourcarpet"
           }
          ],
          "heatmap": [
           {
            "colorbar": {
             "outlinewidth": 0,
             "ticks": ""
            },
            "colorscale": [
             [
              0,
              "#0d0887"
             ],
             [
              0.1111111111111111,
              "#46039f"
             ],
             [
              0.2222222222222222,
              "#7201a8"
             ],
             [
              0.3333333333333333,
              "#9c179e"
             ],
             [
              0.4444444444444444,
              "#bd3786"
             ],
             [
              0.5555555555555556,
              "#d8576b"
             ],
             [
              0.6666666666666666,
              "#ed7953"
             ],
             [
              0.7777777777777778,
              "#fb9f3a"
             ],
             [
              0.8888888888888888,
              "#fdca26"
             ],
             [
              1,
              "#f0f921"
             ]
            ],
            "type": "heatmap"
           }
          ],
          "heatmapgl": [
           {
            "colorbar": {
             "outlinewidth": 0,
             "ticks": ""
            },
            "colorscale": [
             [
              0,
              "#0d0887"
             ],
             [
              0.1111111111111111,
              "#46039f"
             ],
             [
              0.2222222222222222,
              "#7201a8"
             ],
             [
              0.3333333333333333,
              "#9c179e"
             ],
             [
              0.4444444444444444,
              "#bd3786"
             ],
             [
              0.5555555555555556,
              "#d8576b"
             ],
             [
              0.6666666666666666,
              "#ed7953"
             ],
             [
              0.7777777777777778,
              "#fb9f3a"
             ],
             [
              0.8888888888888888,
              "#fdca26"
             ],
             [
              1,
              "#f0f921"
             ]
            ],
            "type": "heatmapgl"
           }
          ],
          "histogram": [
           {
            "marker": {
             "pattern": {
              "fillmode": "overlay",
              "size": 10,
              "solidity": 0.2
             }
            },
            "type": "histogram"
           }
          ],
          "histogram2d": [
           {
            "colorbar": {
             "outlinewidth": 0,
             "ticks": ""
            },
            "colorscale": [
             [
              0,
              "#0d0887"
             ],
             [
              0.1111111111111111,
              "#46039f"
             ],
             [
              0.2222222222222222,
              "#7201a8"
             ],
             [
              0.3333333333333333,
              "#9c179e"
             ],
             [
              0.4444444444444444,
              "#bd3786"
             ],
             [
              0.5555555555555556,
              "#d8576b"
             ],
             [
              0.6666666666666666,
              "#ed7953"
             ],
             [
              0.7777777777777778,
              "#fb9f3a"
             ],
             [
              0.8888888888888888,
              "#fdca26"
             ],
             [
              1,
              "#f0f921"
             ]
            ],
            "type": "histogram2d"
           }
          ],
          "histogram2dcontour": [
           {
            "colorbar": {
             "outlinewidth": 0,
             "ticks": ""
            },
            "colorscale": [
             [
              0,
              "#0d0887"
             ],
             [
              0.1111111111111111,
              "#46039f"
             ],
             [
              0.2222222222222222,
              "#7201a8"
             ],
             [
              0.3333333333333333,
              "#9c179e"
             ],
             [
              0.4444444444444444,
              "#bd3786"
             ],
             [
              0.5555555555555556,
              "#d8576b"
             ],
             [
              0.6666666666666666,
              "#ed7953"
             ],
             [
              0.7777777777777778,
              "#fb9f3a"
             ],
             [
              0.8888888888888888,
              "#fdca26"
             ],
             [
              1,
              "#f0f921"
             ]
            ],
            "type": "histogram2dcontour"
           }
          ],
          "mesh3d": [
           {
            "colorbar": {
             "outlinewidth": 0,
             "ticks": ""
            },
            "type": "mesh3d"
           }
          ],
          "parcoords": [
           {
            "line": {
             "colorbar": {
              "outlinewidth": 0,
              "ticks": ""
             }
            },
            "type": "parcoords"
           }
          ],
          "pie": [
           {
            "automargin": true,
            "type": "pie"
           }
          ],
          "scatter": [
           {
            "fillpattern": {
             "fillmode": "overlay",
             "size": 10,
             "solidity": 0.2
            },
            "type": "scatter"
           }
          ],
          "scatter3d": [
           {
            "line": {
             "colorbar": {
              "outlinewidth": 0,
              "ticks": ""
             }
            },
            "marker": {
             "colorbar": {
              "outlinewidth": 0,
              "ticks": ""
             }
            },
            "type": "scatter3d"
           }
          ],
          "scattercarpet": [
           {
            "marker": {
             "colorbar": {
              "outlinewidth": 0,
              "ticks": ""
             }
            },
            "type": "scattercarpet"
           }
          ],
          "scattergeo": [
           {
            "marker": {
             "colorbar": {
              "outlinewidth": 0,
              "ticks": ""
             }
            },
            "type": "scattergeo"
           }
          ],
          "scattergl": [
           {
            "marker": {
             "colorbar": {
              "outlinewidth": 0,
              "ticks": ""
             }
            },
            "type": "scattergl"
           }
          ],
          "scattermapbox": [
           {
            "marker": {
             "colorbar": {
              "outlinewidth": 0,
              "ticks": ""
             }
            },
            "type": "scattermapbox"
           }
          ],
          "scatterpolar": [
           {
            "marker": {
             "colorbar": {
              "outlinewidth": 0,
              "ticks": ""
             }
            },
            "type": "scatterpolar"
           }
          ],
          "scatterpolargl": [
           {
            "marker": {
             "colorbar": {
              "outlinewidth": 0,
              "ticks": ""
             }
            },
            "type": "scatterpolargl"
           }
          ],
          "scatterternary": [
           {
            "marker": {
             "colorbar": {
              "outlinewidth": 0,
              "ticks": ""
             }
            },
            "type": "scatterternary"
           }
          ],
          "surface": [
           {
            "colorbar": {
             "outlinewidth": 0,
             "ticks": ""
            },
            "colorscale": [
             [
              0,
              "#0d0887"
             ],
             [
              0.1111111111111111,
              "#46039f"
             ],
             [
              0.2222222222222222,
              "#7201a8"
             ],
             [
              0.3333333333333333,
              "#9c179e"
             ],
             [
              0.4444444444444444,
              "#bd3786"
             ],
             [
              0.5555555555555556,
              "#d8576b"
             ],
             [
              0.6666666666666666,
              "#ed7953"
             ],
             [
              0.7777777777777778,
              "#fb9f3a"
             ],
             [
              0.8888888888888888,
              "#fdca26"
             ],
             [
              1,
              "#f0f921"
             ]
            ],
            "type": "surface"
           }
          ],
          "table": [
           {
            "cells": {
             "fill": {
              "color": "#EBF0F8"
             },
             "line": {
              "color": "white"
             }
            },
            "header": {
             "fill": {
              "color": "#C8D4E3"
             },
             "line": {
              "color": "white"
             }
            },
            "type": "table"
           }
          ]
         },
         "layout": {
          "annotationdefaults": {
           "arrowcolor": "#2a3f5f",
           "arrowhead": 0,
           "arrowwidth": 1
          },
          "autotypenumbers": "strict",
          "coloraxis": {
           "colorbar": {
            "outlinewidth": 0,
            "ticks": ""
           }
          },
          "colorscale": {
           "diverging": [
            [
             0,
             "#8e0152"
            ],
            [
             0.1,
             "#c51b7d"
            ],
            [
             0.2,
             "#de77ae"
            ],
            [
             0.3,
             "#f1b6da"
            ],
            [
             0.4,
             "#fde0ef"
            ],
            [
             0.5,
             "#f7f7f7"
            ],
            [
             0.6,
             "#e6f5d0"
            ],
            [
             0.7,
             "#b8e186"
            ],
            [
             0.8,
             "#7fbc41"
            ],
            [
             0.9,
             "#4d9221"
            ],
            [
             1,
             "#276419"
            ]
           ],
           "sequential": [
            [
             0,
             "#0d0887"
            ],
            [
             0.1111111111111111,
             "#46039f"
            ],
            [
             0.2222222222222222,
             "#7201a8"
            ],
            [
             0.3333333333333333,
             "#9c179e"
            ],
            [
             0.4444444444444444,
             "#bd3786"
            ],
            [
             0.5555555555555556,
             "#d8576b"
            ],
            [
             0.6666666666666666,
             "#ed7953"
            ],
            [
             0.7777777777777778,
             "#fb9f3a"
            ],
            [
             0.8888888888888888,
             "#fdca26"
            ],
            [
             1,
             "#f0f921"
            ]
           ],
           "sequentialminus": [
            [
             0,
             "#0d0887"
            ],
            [
             0.1111111111111111,
             "#46039f"
            ],
            [
             0.2222222222222222,
             "#7201a8"
            ],
            [
             0.3333333333333333,
             "#9c179e"
            ],
            [
             0.4444444444444444,
             "#bd3786"
            ],
            [
             0.5555555555555556,
             "#d8576b"
            ],
            [
             0.6666666666666666,
             "#ed7953"
            ],
            [
             0.7777777777777778,
             "#fb9f3a"
            ],
            [
             0.8888888888888888,
             "#fdca26"
            ],
            [
             1,
             "#f0f921"
            ]
           ]
          },
          "colorway": [
           "#636efa",
           "#EF553B",
           "#00cc96",
           "#ab63fa",
           "#FFA15A",
           "#19d3f3",
           "#FF6692",
           "#B6E880",
           "#FF97FF",
           "#FECB52"
          ],
          "font": {
           "color": "#2a3f5f"
          },
          "geo": {
           "bgcolor": "white",
           "lakecolor": "white",
           "landcolor": "#E5ECF6",
           "showlakes": true,
           "showland": true,
           "subunitcolor": "white"
          },
          "hoverlabel": {
           "align": "left"
          },
          "hovermode": "closest",
          "mapbox": {
           "style": "light"
          },
          "paper_bgcolor": "white",
          "plot_bgcolor": "#E5ECF6",
          "polar": {
           "angularaxis": {
            "gridcolor": "white",
            "linecolor": "white",
            "ticks": ""
           },
           "bgcolor": "#E5ECF6",
           "radialaxis": {
            "gridcolor": "white",
            "linecolor": "white",
            "ticks": ""
           }
          },
          "scene": {
           "xaxis": {
            "backgroundcolor": "#E5ECF6",
            "gridcolor": "white",
            "gridwidth": 2,
            "linecolor": "white",
            "showbackground": true,
            "ticks": "",
            "zerolinecolor": "white"
           },
           "yaxis": {
            "backgroundcolor": "#E5ECF6",
            "gridcolor": "white",
            "gridwidth": 2,
            "linecolor": "white",
            "showbackground": true,
            "ticks": "",
            "zerolinecolor": "white"
           },
           "zaxis": {
            "backgroundcolor": "#E5ECF6",
            "gridcolor": "white",
            "gridwidth": 2,
            "linecolor": "white",
            "showbackground": true,
            "ticks": "",
            "zerolinecolor": "white"
           }
          },
          "shapedefaults": {
           "line": {
            "color": "#2a3f5f"
           }
          },
          "ternary": {
           "aaxis": {
            "gridcolor": "white",
            "linecolor": "white",
            "ticks": ""
           },
           "baxis": {
            "gridcolor": "white",
            "linecolor": "white",
            "ticks": ""
           },
           "bgcolor": "#E5ECF6",
           "caxis": {
            "gridcolor": "white",
            "linecolor": "white",
            "ticks": ""
           }
          },
          "title": {
           "x": 0.05
          },
          "xaxis": {
           "automargin": true,
           "gridcolor": "white",
           "linecolor": "white",
           "ticks": "",
           "title": {
            "standoff": 15
           },
           "zerolinecolor": "white",
           "zerolinewidth": 2
          },
          "yaxis": {
           "automargin": true,
           "gridcolor": "white",
           "linecolor": "white",
           "ticks": "",
           "title": {
            "standoff": 15
           },
           "zerolinecolor": "white",
           "zerolinewidth": 2
          }
         }
        },
        "xaxis": {
         "anchor": "y",
         "domain": [
          0,
          1
         ],
         "title": {
          "text": "variable"
         }
        },
        "yaxis": {
         "anchor": "x",
         "domain": [
          0,
          1
         ],
         "title": {
          "text": "value"
         }
        }
       }
      },
      "text/html": [
       "<div>                            <div id=\"398ca95f-d603-4eea-827e-43656c3b3342\" class=\"plotly-graph-div\" style=\"height:525px; width:100%;\"></div>            <script type=\"text/javascript\">                require([\"plotly\"], function(Plotly) {                    window.PLOTLYENV=window.PLOTLYENV || {};                                    if (document.getElementById(\"398ca95f-d603-4eea-827e-43656c3b3342\")) {                    Plotly.newPlot(                        \"398ca95f-d603-4eea-827e-43656c3b3342\",                        [{\"alignmentgroup\":\"True\",\"hovertemplate\":\"variable=%{x}\\u003cbr\\u003evalue=%{y}\\u003cextra\\u003e\\u003c\\u002fextra\\u003e\",\"legendgroup\":\"\",\"marker\":{\"color\":\"#636efa\"},\"name\":\"\",\"notched\":false,\"offsetgroup\":\"\",\"orientation\":\"v\",\"showlegend\":false,\"x\":[\"x1\",\"x1\",\"x1\",\"x1\",\"x1\",\"x1\",\"x1\",\"x1\",\"x1\",\"x1\",\"x1\",\"x1\",\"x1\",\"x1\",\"x1\",\"x1\",\"x1\",\"x1\",\"x1\",\"x1\",\"x1\",\"x1\",\"x1\",\"x1\",\"x1\",\"x1\",\"x1\",\"x1\",\"x1\",\"x1\",\"x1\",\"x1\",\"x1\",\"x1\",\"x1\",\"x1\",\"x1\",\"x1\",\"x1\",\"x1\",\"x1\",\"x1\",\"x1\",\"x1\",\"x1\",\"x1\",\"x1\",\"x1\",\"x1\",\"x1\",\"x1\",\"x1\",\"x1\",\"x1\",\"x1\",\"x1\",\"x1\",\"x1\",\"x1\",\"x1\",\"x1\",\"x1\",\"x1\",\"x1\",\"x1\",\"x1\",\"x1\",\"x1\",\"x1\",\"x1\",\"x1\",\"x1\",\"x1\",\"x1\",\"x1\",\"x1\",\"x1\",\"x1\",\"x1\",\"x1\",\"x1\",\"x1\",\"x1\",\"x1\",\"x1\",\"x1\",\"x1\",\"x1\",\"x1\",\"x1\",\"x1\",\"x1\",\"x1\",\"x1\",\"x1\",\"x1\",\"x1\",\"x1\",\"x1\",\"x1\",\"x1\",\"x1\",\"x1\",\"x1\",\"x1\",\"x1\",\"x1\",\"x1\",\"x1\",\"x1\",\"x1\",\"x1\",\"x1\",\"x1\",\"x1\",\"x1\",\"x1\",\"x1\",\"x1\",\"x1\",\"x1\",\"x1\",\"x1\",\"x1\",\"x1\",\"x1\",\"x1\",\"x1\",\"x1\",\"x1\",\"x1\",\"x1\",\"x1\",\"x1\",\"x1\",\"x1\",\"x1\",\"x1\",\"x1\",\"x1\",\"x1\",\"x1\",\"x1\",\"x1\",\"x1\",\"x1\",\"x1\",\"x1\",\"x1\",\"x1\",\"x1\",\"x1\",\"x1\",\"x1\",\"x1\",\"x1\",\"x1\",\"x1\",\"x1\",\"x1\",\"x1\",\"x1\",\"x1\",\"x1\",\"x1\",\"x1\",\"x1\",\"x1\",\"x1\",\"x1\",\"x1\",\"x1\",\"x1\",\"x1\",\"x1\",\"x1\",\"x1\",\"x1\",\"x1\",\"x1\",\"x1\",\"x1\",\"x1\",\"x1\",\"x1\",\"x1\",\"x1\",\"x1\",\"x1\",\"x1\",\"x1\",\"x1\",\"x1\",\"x1\",\"x1\",\"x1\",\"x1\",\"x1\",\"x1\",\"x1\",\"x1\",\"x1\",\"x1\",\"x1\",\"x1\",\"x1\",\"x1\",\"x1\",\"x1\",\"x1\",\"x1\",\"x1\",\"x1\",\"x1\",\"x1\",\"x1\",\"x1\",\"x1\",\"x1\",\"x1\",\"x1\",\"x1\",\"x1\",\"x1\",\"x1\",\"x1\",\"x1\",\"x1\",\"x1\",\"x1\",\"x1\",\"x1\",\"x1\",\"x1\",\"x1\",\"x1\",\"x1\",\"x1\",\"x1\",\"x1\",\"x1\",\"x1\",\"x1\",\"x1\",\"x1\",\"x1\",\"x1\",\"x1\",\"x1\",\"x1\",\"x1\",\"x1\",\"x1\",\"x1\",\"x1\",\"x1\",\"x1\",\"x1\",\"x1\",\"x1\",\"x1\",\"x1\",\"x1\",\"x1\",\"x1\",\"x1\",\"x1\",\"x1\",\"x1\",\"x1\",\"x1\",\"x1\",\"x1\",\"x1\",\"x1\",\"x1\",\"x1\",\"x1\",\"x1\",\"x1\",\"x1\",\"x1\",\"x1\",\"x1\",\"x1\",\"x1\",\"x1\",\"x1\",\"x1\",\"x1\",\"x1\",\"x1\",\"x1\",\"x1\",\"x1\",\"x1\",\"x1\",\"x1\",\"x1\",\"x1\",\"x1\",\"x1\",\"x1\",\"x1\",\"x1\",\"x1\",\"x1\",\"x1\",\"x1\",\"x1\",\"x1\",\"x1\",\"x1\",\"x1\",\"x1\",\"x1\",\"x1\",\"x1\",\"x1\",\"x1\",\"x1\",\"x1\",\"x1\",\"x1\",\"x1\",\"x1\",\"x1\",\"x1\",\"x1\",\"x1\",\"x1\",\"x1\",\"x1\",\"x1\",\"x1\",\"x1\",\"x1\",\"x1\",\"x1\",\"x1\",\"x1\",\"x1\",\"x1\",\"x1\",\"x1\",\"x1\",\"x1\",\"x1\",\"x1\",\"x1\",\"x1\",\"x1\",\"x1\",\"x1\",\"x1\",\"x1\",\"x1\",\"x1\",\"x1\",\"x1\",\"x1\",\"x1\",\"x1\",\"x1\",\"x1\",\"x1\",\"x1\",\"x1\",\"x1\",\"x1\",\"x1\",\"x1\",\"x1\",\"x1\",\"x1\",\"x1\",\"x1\",\"x1\",\"x1\",\"x1\",\"x1\",\"x1\",\"x1\",\"x1\",\"x1\",\"x1\",\"x1\",\"x1\",\"x1\",\"x1\",\"x1\",\"x1\",\"x1\",\"x1\",\"x1\",\"x1\",\"x1\",\"x1\",\"x1\",\"x1\",\"x1\",\"x1\",\"x1\",\"x1\",\"x1\",\"x1\",\"x1\",\"x1\",\"x1\",\"x1\",\"x1\",\"x1\",\"x1\",\"x1\",\"x1\",\"x1\",\"x1\",\"x1\",\"x1\",\"x1\",\"x1\",\"x1\",\"x1\",\"x1\",\"x1\",\"x1\",\"x1\",\"x1\",\"x1\",\"x1\",\"x1\",\"x1\",\"x1\",\"x1\",\"x1\",\"x1\",\"x1\",\"x1\",\"x1\",\"x1\",\"x1\",\"x1\",\"x1\",\"x1\",\"x1\",\"x1\",\"x1\",\"x1\",\"x1\",\"x1\",\"x1\",\"x1\",\"x1\",\"x1\",\"x1\",\"x1\",\"x1\",\"x1\",\"x1\",\"x1\",\"x1\",\"x1\",\"x1\",\"x1\",\"x1\",\"x1\",\"x1\",\"x1\",\"x1\",\"x1\",\"x1\",\"x1\",\"x1\",\"x1\",\"x1\",\"x1\",\"x1\",\"x1\",\"x1\",\"x1\",\"x1\",\"x1\",\"x1\",\"x1\",\"x1\",\"x1\",\"x1\",\"x1\",\"x1\",\"x1\",\"x1\",\"x1\",\"x1\",\"x1\",\"x1\",\"x1\",\"x1\",\"x1\",\"x1\",\"x1\",\"x1\",\"x1\",\"x1\",\"x1\",\"x1\",\"x1\",\"x1\",\"x1\",\"x1\",\"x1\",\"x1\",\"x1\",\"x1\",\"x1\",\"x1\",\"x1\",\"x1\",\"x1\",\"x1\",\"x1\",\"x1\",\"x1\",\"x1\",\"x1\",\"x1\",\"x1\",\"x1\",\"x1\",\"x1\",\"x1\",\"x1\",\"x1\",\"x1\",\"x1\",\"x1\",\"x1\",\"x1\",\"x1\",\"x1\",\"x1\",\"x1\",\"x1\",\"x1\",\"x1\",\"x1\",\"x1\",\"x1\",\"x1\",\"x1\",\"x1\",\"x1\",\"x1\",\"x1\",\"x1\",\"x1\",\"x1\",\"x1\",\"x1\",\"x1\",\"x1\",\"x1\",\"x1\",\"x1\",\"x1\",\"x1\",\"x1\",\"x1\",\"x1\",\"x1\",\"x1\",\"x1\",\"x1\",\"x1\",\"x1\",\"x1\",\"x1\",\"x1\",\"x1\",\"x1\",\"x1\",\"x1\",\"x1\",\"x1\",\"x1\",\"x1\",\"x1\",\"x1\",\"x1\",\"x1\",\"x1\",\"x1\",\"x1\",\"x1\",\"x1\",\"x1\",\"x1\",\"x1\",\"x1\",\"x1\",\"x1\",\"x1\",\"x1\",\"x1\",\"x1\",\"x1\",\"x1\",\"x1\",\"x1\",\"x1\",\"x1\",\"x1\",\"x1\",\"x1\",\"x1\",\"x1\",\"x1\",\"x1\",\"x1\",\"x1\",\"x1\",\"x1\",\"x1\",\"x1\",\"x1\",\"x1\",\"x1\",\"x1\",\"x1\",\"x1\",\"x1\",\"x1\",\"x1\",\"x1\",\"x1\",\"x1\",\"x1\",\"x1\",\"x1\",\"x1\",\"x1\",\"x1\",\"x1\",\"x1\",\"x1\",\"x1\",\"x1\",\"x1\",\"x1\",\"x1\",\"x1\",\"x1\",\"x1\",\"x1\",\"x1\",\"x1\",\"x1\",\"x1\",\"x1\",\"x1\",\"x1\",\"x1\",\"x1\",\"x1\",\"x1\",\"x1\",\"x1\",\"x1\",\"x1\",\"x1\",\"x1\",\"x1\",\"x1\",\"x1\",\"x1\",\"x1\",\"x1\",\"x1\",\"x1\",\"x1\",\"x1\",\"x1\",\"x1\",\"x1\",\"x1\",\"x1\",\"x1\",\"x1\",\"x1\",\"x1\",\"x1\",\"x1\",\"x1\",\"x1\",\"x1\",\"x1\",\"x1\",\"x1\",\"x1\",\"x1\",\"x1\",\"x1\",\"x1\",\"x1\",\"x1\",\"x1\",\"x1\",\"x1\",\"x1\",\"x1\",\"x1\",\"x1\",\"x1\",\"x1\",\"x1\",\"x1\",\"x1\",\"x1\",\"x1\",\"x1\",\"x1\",\"x1\",\"x1\",\"x1\",\"x1\",\"x1\",\"x1\",\"x1\",\"x1\",\"x1\",\"x1\",\"x1\",\"x1\",\"x1\",\"x1\",\"x1\",\"x1\",\"x1\",\"x1\",\"x1\",\"x1\",\"x1\",\"x1\",\"x1\",\"x1\",\"x1\",\"x1\",\"x1\",\"x1\",\"x1\",\"x1\",\"x1\",\"x1\",\"x1\",\"x1\",\"x1\",\"x1\",\"x1\",\"x1\",\"x1\",\"x1\",\"x1\",\"x1\",\"x1\",\"x1\",\"x1\",\"x1\",\"x1\",\"x1\",\"x1\",\"x1\",\"x1\",\"x1\",\"x1\",\"x1\",\"x1\",\"x1\",\"x1\",\"x1\",\"x1\",\"x1\",\"x1\",\"x1\",\"x1\",\"x1\",\"x1\",\"x1\",\"x1\",\"x1\",\"x1\",\"x1\",\"x1\",\"x1\",\"x1\",\"x1\",\"x1\",\"x1\",\"x1\",\"x1\",\"x1\",\"x1\",\"x1\",\"x1\",\"x1\",\"x1\",\"x1\",\"x1\",\"x1\",\"x1\",\"x1\",\"x1\",\"x1\",\"x1\",\"x1\",\"x1\",\"x1\",\"x1\",\"x1\",\"x1\",\"x1\",\"x1\",\"x1\",\"x1\",\"x1\",\"x1\",\"x1\",\"x1\",\"x1\",\"x1\",\"x1\",\"x1\",\"x1\",\"x1\",\"x1\",\"x1\",\"x1\",\"x1\",\"x1\",\"x1\",\"x1\",\"x1\",\"x1\",\"x1\",\"x1\",\"x1\",\"x1\",\"x1\",\"x1\",\"x1\",\"x1\",\"x1\",\"x1\",\"x1\",\"x1\",\"x1\",\"x1\",\"x1\",\"x1\",\"x1\",\"x1\",\"x1\",\"x1\",\"x1\",\"x1\",\"x1\",\"x1\",\"x1\",\"x1\",\"x1\",\"x1\",\"x1\",\"x1\",\"x1\",\"x1\",\"x1\",\"x1\",\"x1\",\"x1\",\"x1\",\"x1\",\"x1\",\"x1\",\"x1\",\"x1\",\"x1\",\"x1\",\"x1\",\"x1\",\"x1\",\"x1\",\"x1\",\"x1\",\"x1\",\"x1\",\"x1\",\"x1\",\"x1\",\"x1\",\"x1\",\"x1\",\"x1\",\"x1\",\"x1\",\"x1\",\"x1\",\"x1\",\"x1\",\"x1\",\"x1\",\"x1\",\"x1\",\"x1\",\"x1\",\"x1\",\"x1\",\"x1\",\"x1\",\"x1\",\"x1\",\"x1\",\"x1\",\"x1\",\"x1\",\"x1\",\"x1\",\"x1\",\"x1\",\"x1\",\"x1\",\"x1\",\"x1\",\"x1\",\"x1\",\"x1\",\"x1\",\"x1\",\"x1\",\"x1\",\"x1\",\"x1\",\"x1\",\"x1\",\"x1\",\"x1\",\"x1\",\"x1\",\"x1\",\"x1\",\"x1\",\"x1\",\"x1\",\"x1\",\"x1\",\"x1\",\"x1\",\"x1\",\"x1\",\"x1\",\"x1\",\"x1\",\"x1\",\"x1\",\"x1\",\"x1\",\"x1\",\"x1\",\"x1\",\"x1\",\"x1\",\"x1\",\"x1\",\"x1\",\"x1\",\"x1\",\"x1\",\"x1\",\"x1\",\"x1\",\"x1\",\"x1\",\"x1\",\"x1\",\"x1\",\"x1\",\"x1\",\"x1\",\"x1\",\"x1\",\"x1\",\"x1\",\"x1\",\"x1\",\"x1\",\"x1\",\"x1\",\"x1\",\"x1\",\"x1\",\"x1\",\"x1\",\"x1\",\"x2\",\"x2\",\"x2\",\"x2\",\"x2\",\"x2\",\"x2\",\"x2\",\"x2\",\"x2\",\"x2\",\"x2\",\"x2\",\"x2\",\"x2\",\"x2\",\"x2\",\"x2\",\"x2\",\"x2\",\"x2\",\"x2\",\"x2\",\"x2\",\"x2\",\"x2\",\"x2\",\"x2\",\"x2\",\"x2\",\"x2\",\"x2\",\"x2\",\"x2\",\"x2\",\"x2\",\"x2\",\"x2\",\"x2\",\"x2\",\"x2\",\"x2\",\"x2\",\"x2\",\"x2\",\"x2\",\"x2\",\"x2\",\"x2\",\"x2\",\"x2\",\"x2\",\"x2\",\"x2\",\"x2\",\"x2\",\"x2\",\"x2\",\"x2\",\"x2\",\"x2\",\"x2\",\"x2\",\"x2\",\"x2\",\"x2\",\"x2\",\"x2\",\"x2\",\"x2\",\"x2\",\"x2\",\"x2\",\"x2\",\"x2\",\"x2\",\"x2\",\"x2\",\"x2\",\"x2\",\"x2\",\"x2\",\"x2\",\"x2\",\"x2\",\"x2\",\"x2\",\"x2\",\"x2\",\"x2\",\"x2\",\"x2\",\"x2\",\"x2\",\"x2\",\"x2\",\"x2\",\"x2\",\"x2\",\"x2\",\"x2\",\"x2\",\"x2\",\"x2\",\"x2\",\"x2\",\"x2\",\"x2\",\"x2\",\"x2\",\"x2\",\"x2\",\"x2\",\"x2\",\"x2\",\"x2\",\"x2\",\"x2\",\"x2\",\"x2\",\"x2\",\"x2\",\"x2\",\"x2\",\"x2\",\"x2\",\"x2\",\"x2\",\"x2\",\"x2\",\"x2\",\"x2\",\"x2\",\"x2\",\"x2\",\"x2\",\"x2\",\"x2\",\"x2\",\"x2\",\"x2\",\"x2\",\"x2\",\"x2\",\"x2\",\"x2\",\"x2\",\"x2\",\"x2\",\"x2\",\"x2\",\"x2\",\"x2\",\"x2\",\"x2\",\"x2\",\"x2\",\"x2\",\"x2\",\"x2\",\"x2\",\"x2\",\"x2\",\"x2\",\"x2\",\"x2\",\"x2\",\"x2\",\"x2\",\"x2\",\"x2\",\"x2\",\"x2\",\"x2\",\"x2\",\"x2\",\"x2\",\"x2\",\"x2\",\"x2\",\"x2\",\"x2\",\"x2\",\"x2\",\"x2\",\"x2\",\"x2\",\"x2\",\"x2\",\"x2\",\"x2\",\"x2\",\"x2\",\"x2\",\"x2\",\"x2\",\"x2\",\"x2\",\"x2\",\"x2\",\"x2\",\"x2\",\"x2\",\"x2\",\"x2\",\"x2\",\"x2\",\"x2\",\"x2\",\"x2\",\"x2\",\"x2\",\"x2\",\"x2\",\"x2\",\"x2\",\"x2\",\"x2\",\"x2\",\"x2\",\"x2\",\"x2\",\"x2\",\"x2\",\"x2\",\"x2\",\"x2\",\"x2\",\"x2\",\"x2\",\"x2\",\"x2\",\"x2\",\"x2\",\"x2\",\"x2\",\"x2\",\"x2\",\"x2\",\"x2\",\"x2\",\"x2\",\"x2\",\"x2\",\"x2\",\"x2\",\"x2\",\"x2\",\"x2\",\"x2\",\"x2\",\"x2\",\"x2\",\"x2\",\"x2\",\"x2\",\"x2\",\"x2\",\"x2\",\"x2\",\"x2\",\"x2\",\"x2\",\"x2\",\"x2\",\"x2\",\"x2\",\"x2\",\"x2\",\"x2\",\"x2\",\"x2\",\"x2\",\"x2\",\"x2\",\"x2\",\"x2\",\"x2\",\"x2\",\"x2\",\"x2\",\"x2\",\"x2\",\"x2\",\"x2\",\"x2\",\"x2\",\"x2\",\"x2\",\"x2\",\"x2\",\"x2\",\"x2\",\"x2\",\"x2\",\"x2\",\"x2\",\"x2\",\"x2\",\"x2\",\"x2\",\"x2\",\"x2\",\"x2\",\"x2\",\"x2\",\"x2\",\"x2\",\"x2\",\"x2\",\"x2\",\"x2\",\"x2\",\"x2\",\"x2\",\"x2\",\"x2\",\"x2\",\"x2\",\"x2\",\"x2\",\"x2\",\"x2\",\"x2\",\"x2\",\"x2\",\"x2\",\"x2\",\"x2\",\"x2\",\"x2\",\"x2\",\"x2\",\"x2\",\"x2\",\"x2\",\"x2\",\"x2\",\"x2\",\"x2\",\"x2\",\"x2\",\"x2\",\"x2\",\"x2\",\"x2\",\"x2\",\"x2\",\"x2\",\"x2\",\"x2\",\"x2\",\"x2\",\"x2\",\"x2\",\"x2\",\"x2\",\"x2\",\"x2\",\"x2\",\"x2\",\"x2\",\"x2\",\"x2\",\"x2\",\"x2\",\"x2\",\"x2\",\"x2\",\"x2\",\"x2\",\"x2\",\"x2\",\"x2\",\"x2\",\"x2\",\"x2\",\"x2\",\"x2\",\"x2\",\"x2\",\"x2\",\"x2\",\"x2\",\"x2\",\"x2\",\"x2\",\"x2\",\"x2\",\"x2\",\"x2\",\"x2\",\"x2\",\"x2\",\"x2\",\"x2\",\"x2\",\"x2\",\"x2\",\"x2\",\"x2\",\"x2\",\"x2\",\"x2\",\"x2\",\"x2\",\"x2\",\"x2\",\"x2\",\"x2\",\"x2\",\"x2\",\"x2\",\"x2\",\"x2\",\"x2\",\"x2\",\"x2\",\"x2\",\"x2\",\"x2\",\"x2\",\"x2\",\"x2\",\"x2\",\"x2\",\"x2\",\"x2\",\"x2\",\"x2\",\"x2\",\"x2\",\"x2\",\"x2\",\"x2\",\"x2\",\"x2\",\"x2\",\"x2\",\"x2\",\"x2\",\"x2\",\"x2\",\"x2\",\"x2\",\"x2\",\"x2\",\"x2\",\"x2\",\"x2\",\"x2\",\"x2\",\"x2\",\"x2\",\"x2\",\"x2\",\"x2\",\"x2\",\"x2\",\"x2\",\"x2\",\"x2\",\"x2\",\"x2\",\"x2\",\"x2\",\"x2\",\"x2\",\"x2\",\"x2\",\"x2\",\"x2\",\"x2\",\"x2\",\"x2\",\"x2\",\"x2\",\"x2\",\"x2\",\"x2\",\"x2\",\"x2\",\"x2\",\"x2\",\"x2\",\"x2\",\"x2\",\"x2\",\"x2\",\"x2\",\"x2\",\"x2\",\"x2\",\"x2\",\"x2\",\"x2\",\"x2\",\"x2\",\"x2\",\"x2\",\"x2\",\"x2\",\"x2\",\"x2\",\"x2\",\"x2\",\"x2\",\"x2\",\"x2\",\"x2\",\"x2\",\"x2\",\"x2\",\"x2\",\"x2\",\"x2\",\"x2\",\"x2\",\"x2\",\"x2\",\"x2\",\"x2\",\"x2\",\"x2\",\"x2\",\"x2\",\"x2\",\"x2\",\"x2\",\"x2\",\"x2\",\"x2\",\"x2\",\"x2\",\"x2\",\"x2\",\"x2\",\"x2\",\"x2\",\"x2\",\"x2\",\"x2\",\"x2\",\"x2\",\"x2\",\"x2\",\"x2\",\"x2\",\"x2\",\"x2\",\"x2\",\"x2\",\"x2\",\"x2\",\"x2\",\"x2\",\"x2\",\"x2\",\"x2\",\"x2\",\"x2\",\"x2\",\"x2\",\"x2\",\"x2\",\"x2\",\"x2\",\"x2\",\"x2\",\"x2\",\"x2\",\"x2\",\"x2\",\"x2\",\"x2\",\"x2\",\"x2\",\"x2\",\"x2\",\"x2\",\"x2\",\"x2\",\"x2\",\"x2\",\"x2\",\"x2\",\"x2\",\"x2\",\"x2\",\"x2\",\"x2\",\"x2\",\"x2\",\"x2\",\"x2\",\"x2\",\"x2\",\"x2\",\"x2\",\"x2\",\"x2\",\"x2\",\"x2\",\"x2\",\"x2\",\"x2\",\"x2\",\"x2\",\"x2\",\"x2\",\"x2\",\"x2\",\"x2\",\"x2\",\"x2\",\"x2\",\"x2\",\"x2\",\"x2\",\"x2\",\"x2\",\"x2\",\"x2\",\"x2\",\"x2\",\"x2\",\"x2\",\"x2\",\"x2\",\"x2\",\"x2\",\"x2\",\"x2\",\"x2\",\"x2\",\"x2\",\"x2\",\"x2\",\"x2\",\"x2\",\"x2\",\"x2\",\"x2\",\"x2\",\"x2\",\"x2\",\"x2\",\"x2\",\"x2\",\"x2\",\"x2\",\"x2\",\"x2\",\"x2\",\"x2\",\"x2\",\"x2\",\"x2\",\"x2\",\"x2\",\"x2\",\"x2\",\"x2\",\"x2\",\"x2\",\"x2\",\"x2\",\"x2\",\"x2\",\"x2\",\"x2\",\"x2\",\"x2\",\"x2\",\"x2\",\"x2\",\"x2\",\"x2\",\"x2\",\"x2\",\"x2\",\"x2\",\"x2\",\"x2\",\"x2\",\"x2\",\"x2\",\"x2\",\"x2\",\"x2\",\"x2\",\"x2\",\"x2\",\"x2\",\"x2\",\"x2\",\"x2\",\"x2\",\"x2\",\"x2\",\"x2\",\"x2\",\"x2\",\"x2\",\"x2\",\"x2\",\"x2\",\"x2\",\"x2\",\"x2\",\"x2\",\"x2\",\"x2\",\"x2\",\"x2\",\"x2\",\"x2\",\"x2\",\"x2\",\"x2\",\"x2\",\"x2\",\"x2\",\"x2\",\"x2\",\"x2\",\"x2\",\"x2\",\"x2\",\"x2\",\"x2\",\"x2\",\"x2\",\"x2\",\"x2\",\"x2\",\"x2\",\"x2\",\"x2\",\"x2\",\"x2\",\"x2\",\"x2\",\"x2\",\"x2\",\"x2\",\"x2\",\"x2\",\"x2\",\"x2\",\"x2\",\"x2\",\"x2\",\"x2\",\"x2\",\"x2\",\"x2\",\"x2\",\"x2\",\"x2\",\"x2\",\"x2\",\"x2\",\"x2\",\"x2\",\"x2\",\"x2\",\"x2\",\"x2\",\"x2\",\"x2\",\"x2\",\"x2\",\"x2\",\"x2\",\"x2\",\"x2\",\"x2\",\"x2\",\"x2\",\"x2\",\"x2\",\"x2\",\"x2\",\"x2\",\"x2\",\"x2\",\"x2\",\"x2\",\"x2\",\"x2\",\"x2\",\"x2\",\"x2\",\"x2\",\"x2\",\"x2\",\"x2\",\"x2\",\"x2\",\"x2\",\"x2\",\"x2\",\"x2\",\"x2\",\"x2\",\"x2\",\"x2\",\"x2\",\"x2\",\"x2\",\"x2\",\"x2\",\"x2\",\"x2\",\"x2\",\"x2\",\"x2\",\"x2\",\"x2\",\"x2\",\"x2\",\"x2\",\"x2\",\"x2\",\"x2\",\"x2\",\"x2\",\"x2\",\"x2\",\"x2\",\"x2\",\"x2\",\"x2\",\"x2\",\"x2\",\"x2\",\"x2\",\"x2\",\"x2\",\"x2\",\"x2\",\"x2\",\"x2\",\"x2\",\"x2\",\"x2\",\"x2\",\"x2\",\"x2\",\"x2\",\"x2\",\"x2\",\"x2\",\"x2\",\"x2\",\"x2\",\"x2\",\"x2\",\"x2\",\"x2\",\"x2\",\"x2\",\"x2\",\"x2\",\"x2\",\"x2\",\"x2\",\"x2\",\"x2\",\"x2\",\"x2\",\"x2\",\"x2\",\"x2\",\"x2\",\"x2\",\"x2\",\"x2\",\"x2\",\"x2\",\"x2\",\"x2\",\"x2\",\"x2\",\"x2\",\"x2\",\"x2\",\"x2\",\"x2\",\"x2\",\"x2\",\"x2\",\"x2\",\"x2\",\"x2\",\"x2\",\"x2\",\"x2\",\"x2\",\"x2\",\"x2\",\"x2\",\"x2\",\"x2\",\"x2\",\"x2\",\"x2\",\"x2\",\"x2\",\"x2\",\"x2\",\"x2\",\"x2\",\"x2\",\"x2\",\"x2\",\"x2\",\"x2\",\"x2\",\"x2\",\"x2\",\"x2\",\"x2\",\"x2\",\"x2\",\"x2\",\"x2\",\"x2\",\"x2\",\"x2\",\"x2\",\"x2\",\"x2\",\"x2\",\"x2\",\"x2\",\"x2\",\"x2\",\"x2\",\"x2\",\"x2\",\"x2\",\"x2\",\"x2\",\"x2\",\"x2\",\"x2\",\"x2\",\"x2\",\"x2\",\"x2\",\"x2\",\"x2\",\"x2\",\"x2\",\"x2\",\"x2\",\"x2\",\"x2\",\"x2\",\"x2\",\"x2\",\"x2\",\"x2\",\"x2\",\"x2\",\"x2\",\"x2\",\"x2\",\"x2\",\"x2\",\"x2\",\"x2\",\"x2\",\"x2\",\"x2\",\"x2\",\"x2\",\"x2\",\"x2\",\"x2\",\"x2\",\"x2\",\"x2\",\"x2\",\"x2\",\"x2\",\"x2\",\"x2\",\"x2\",\"x2\",\"x2\",\"x2\",\"x2\",\"x2\",\"x2\",\"x2\",\"x2\",\"x2\"],\"x0\":\" \",\"xaxis\":\"x\",\"y\":[2384.67,650.0,654.0,3890.07,295.99,11756.34,2402.0,296.97,249.1,14833.3,3025.0,2750.0,2612.74,1259.89,824.85,669.5,664.34,408.39,3953.84,3841.66,239.37,30.0,6384.0,4467.92,1541.1,1354.93,1263.51,1045.0,519.75,499.28,365.26,322.34,122.41,10524.64,6854.02,3206.76,2724.04,2269.0,2169.88,1929.81,1061.8,945.8,899.13,7326.67,5301.72,3596.5,2322.72,1944.45,1491.69,1314.4,836.78,479.0,426.19,3112.89,2500.0,1921.22,1472.87,1444.89,1368.76,1346.36,772.23,688.67,362.63,359.41,354.29,262.81,244.11,9377.82,5540.07,3118.5,2495.8,2362.89,2007.78,1816.41,1500.0,1139.6,952.05,746.89,644.87,188.61,117.4,12714.43,10116.07,1949.14,1852.5,1722.82,1539.07,1476.43,1458.13,1119.52,990.07,987.0,782.44,459.0,377.36,319.67,176.07,154.75,8493.76,3809.83,3222.66,1113.38,766.4,663.17,640.4,619.06,419.18,298.62,160.2,105.5,8323.31,6291.84,4904.64,4096.58,3334.65,1755.95,1160.63,1098.37,818.79,651.57,646.79,584.61,417.04,399.9,371.63,365.5,275.43,146.56,14651.31,6754.81,5071.99,4809.52,2884.46,2591.33,2419.75,1321.7,1308.0,981.86,843.98,817.62,712.0,634.48,463.96,462.93,430.38,388.71,112.78,85.0,12151.86,5186.82,4451.39,3968.51,3392.58,1879.51,1792.54,1607.6,1238.0,1130.0,1081.71,1033.84,671.59,361.37,171.7,40.0,3203.35,3060.69,2171.93,1727.85,1550.0,1470.35,1229.01,1010.94,575.36,555.34,533.11,459.1,253.75,148.65,4184.46,4082.49,1846.1,1688.78,1118.91,749.64,725.71,722.02,648.06,593.46,516.81,302.54,300.0,278.55,248.68,131.0,28.46,13058.85,6950.54,2930.0,2112.46,2100.0,1500.0,1386.41,1270.17,1203.81,993.59,903.0,900.0,583.76,580.32,376.46,275.94,91.27,6013.74,4804.22,3179.28,2893.53,1916.21,1209.08,1036.74,986.12,893.03,754.31,740.38,694.91,693.13,564.05,551.78,549.77,497.85,403.3,358.7,284.54,228.0,177.6,177.42,139.79,33137.5,7293.43,3754.51,3495.14,3140.66,2137.4,1971.75,1956.0,1870.58,1650.0,1188.74,1115.89,1088.73,1074.35,1016.43,860.67,831.8,796.8,759.57,668.74,582.62,404.0,393.5,309.67,292.44,221.7,103.75,11511.72,6090.02,1727.33,1235.07,910.01,812.98,562.05,527.34,451.31,332.06,315.53,10527.4,7751.55,5711.53,3804.44,3760.07,2757.83,2565.84,2221.87,2139.9,2000.0,1363.23,1132.41,993.19,964.22,898.55,822.1,761.22,754.56,685.71,622.53,604.95,587.51,490.25,489.73,465.5,329.91,272.01,258.5,4643.8,3523.9,3007.96,2192.98,1752.16,1686.2,1648.41,1381.16,1336.26,1248.01,950.61,945.56,880.82,713.55,645.8,626.38,573.4,488.16,458.0,443.95,253.59,209.83,138.86,100.0,30.0,24624.44,8123.33,5158.65,5035.93,4625.47,1707.92,1694.59,1501.05,1369.74,946.38,825.66,682.85,604.95,585.34,565.02,529.28,388.03,377.54,303.0,300.0,198.98,135.0,47.52,11458.07,8300.31,7827.74,6261.92,5861.5,5381.14,4532.02,3656.77,2928.92,2547.5,2276.5,2017.28,1678.17,1651.86,1482.45,1480.93,1348.93,1189.96,1090.41,940.28,925.47,852.22,417.18,369.02,346.79,244.23,132.0,100.0,14753.58,11288.76,10175.27,6277.84,4939.5,4786.51,3167.49,2572.22,1712.27,1712.13,1396.61,1377.31,1108.42,1001.76,989.59,891.09,882.77,670.77,638.99,546.32,536.11,533.33,464.59,460.36,291.92,257.01,106.0,7487.94,7296.2,4929.65,2532.6,2344.69,1855.85,1812.47,1431.81,1226.28,1122.12,1090.75,1067.57,1012.19,928.2,861.89,809.34,782.9,768.05,698.65,630.11,617.9,594.8,585.74,390.02,291.28,236.53,10077.0,8569.3,6124.34,5335.35,3486.96,3255.88,2985.29,2418.4,2368.69,2007.64,1996.0,1869.49,1600.18,1278.52,1212.85,1039.69,834.12,805.18,676.15,651.18,586.85,315.61,311.32,25.44,9793.42,7620.37,6800.94,4781.43,3944.37,2406.0,1613.41,1340.74,1249.02,1086.9,941.85,909.99,903.99,875.28,738.18,492.22,468.0,443.49,439.22,359.11,8215.8,6208.2,5241.71,3912.49,3230.09,2600.0,2531.24,2038.05,1890.5,1704.54,1145.63,959.52,763.07,746.63,700.0,554.55,545.3,490.6,273.29,189.9,10652.59,5556.75,3403.09,3328.93,2805.73,2593.89,2586.45,2125.09,1739.92,1696.26,1352.01,1266.44,1167.44,1035.03,1014.98,941.51,840.73,739.87,720.53,699.19,677.43,634.14,545.35,520.96,500.0,459.43,267.25,219.89,175.0,171.97,10264.47,4610.48,4551.35,2905.94,2128.29,2100.0,1897.85,1876.31,1789.33,1690.06,1669.4,1595.82,1400.0,1395.42,1221.73,1200.0,1152.26,1130.8,1061.28,992.48,926.2,922.58,777.53,767.54,706.49,705.64,684.15,672.91,627.89,613.97,499.0,496.58,445.68,435.72,335.91,222.15,116.66,97.7,8144.41,7522.19,7063.69,6630.91,4465.03,3451.91,3227.06,3105.06,2477.0,2471.81,2435.85,2362.48,2045.43,1688.9,1567.05,1515.46,1357.83,1272.79,1123.7,864.92,781.8,747.81,719.83,715.0,651.82,651.52,616.07,575.42,433.82,377.58,365.12,334.8,291.29,164.33,145.75,26.23,5134.29,3820.97,3732.91,3222.45,2643.26,1930.21,1655.67,1641.81,1636.11,1590.34,1462.72,1379.11,1264.6,1173.25,1008.05,913.97,843.0,787.49,735.0,500.0,494.96,480.73,395.27,386.56,372.95,309.52,259.25,224.54,180.07,7780.9,3890.9,3511.68,3018.03,2191.83,2011.47,1938.6,1430.24,1350.0,1211.84,1210.38,1097.13,1056.58,1013.93,991.36,922.82,904.02,900.0,842.57,825.69,795.08,634.89,633.0,500.0,496.25,474.18,468.9,378.4,360.7,328.18,290.0,273.92,125.0,110.78,79.8,10538.65,8903.29,5758.21,5335.18,4748.38,4211.19,3521.32,3056.01,2946.55,2912.28,2596.17,2437.24,2301.61,2277.0,1942.82,1450.55,1222.12,1063.39,954.98,771.25,681.17,596.05,532.1,523.95,523.93,490.83,481.82,471.38,440.66,440.51,437.26,350.0,347.79,343.5,333.05,327.41,17.79,15279.68,7108.52,7038.61,5479.6,3978.91,2683.21,2635.78,2575.79,2317.29,2310.0,1542.91,1540.27,1514.0,1292.26,1230.12,1222.94,1215.89,1168.23,1150.0,1146.53,992.24,742.82,742.7,740.44,665.29,622.99,582.31,548.2,442.92,429.7,250.56,249.01,7419.73,7275.0,6867.53,5604.53,5347.31,5263.84,5169.91,4488.66,4302.05,3807.25,3781.2,3435.92,3410.38,2211.92,2005.64,1993.9,1757.0,1662.83,1584.11,1533.74,1414.86,1403.93,1371.51,1336.0,1112.82,1100.68,1064.4,1046.66,902.67,806.73,785.41,718.1,537.28,530.33,483.1,437.77,342.04,243.0,218.01,194.44,142.74,11669.62,7966.3,4681.0,4334.51,4060.6,3648.0,3569.77,2992.53,2330.86,2203.89,2200.97,2100.56,1916.44,1913.63,1809.29,1514.75,1367.13,1294.25,1151.46,1100.39,1097.92,1095.07,1049.61,1012.67,857.65,843.54,759.89,692.58,681.24,677.29,636.71,595.0,563.86,555.58,547.85,547.09,538.41,520.5,493.79,485.77,450.54,439.97,436.76,312.97,302.1,287.03,274.3,259.43,113.92,50.0,41.75,16175.0,15845.0,9668.22,7964.72,6210.85,6055.33,5882.0,5370.19,4171.55,4118.55,3942.63,3696.0,3070.28,2941.5,2908.31,2420.85,2319.89,2313.46,2264.77,2100.0,2027.99,1967.97,1758.73,1722.29,1541.52,1523.72,1376.27,1263.16,1226.12,1190.97,1151.64,1057.79,1044.7,896.83,894.35,871.59,778.22,755.29,750.0,739.14,717.05,675.0,671.72,628.83,627.19,538.16,504.47,490.0,487.51,442.7,436.37,355.86,351.12,322.48,312.28,310.9,198.61,90.64,9.5,12582.27,6890.65,6500.9,6193.21,5389.99,4097.87,3729.71,2883.95,2649.87,2630.23,2612.98,2572.15,2497.95,1973.7,1784.33,1767.51,1764.0,1552.58,1501.77,1430.98,1237.92,1216.36,1200.15,1048.92,1040.44,995.3,968.58,925.51,860.56,857.87,852.32,804.64,803.48,783.52,762.0,750.0,736.48,701.15,629.94,628.77,622.64,611.57,570.67,560.2,501.15,395.22,346.11,343.01,337.12,311.11,216.05,204.0,200.0,97.61,61.34,12840.97,8332.26,7681.88,7470.43,6353.97,6167.91,5736.48,5559.99,5556.29,4799.3,3875.35,3189.51,2976.8,2850.0,2814.95,2464.86,2381.3,2372.43,2354.25,2353.79,2152.01,2007.0,1972.13,1835.0,1799.75,1718.52,1586.12,1563.22,1525.54,1515.82,1434.74,1407.91,1263.22,1220.37,1204.08,1037.08,954.26,935.97,885.61,865.94,824.84,788.11,728.19,725.77,653.36,606.83,597.92,594.07,479.54,453.55,436.91,431.77,382.13,377.6,350.0,326.43,276.78,271.14,261.0,250.0,250.0,129.0,2384.67,650.0,654.0,3890.07,295.99,11756.34,2402.0,296.97,249.1,14833.3,3025.0,2750.0,2612.74,1259.89,824.85,669.5,664.34,408.39,3953.84,3841.66,239.37,30.0,6384.0,4467.92,1541.1,1354.93,1263.51,1045.0,519.75,499.28,365.26,322.34,122.41,10524.64,6854.02,3206.76,2724.04,2269.0,2169.88,1929.81,1061.8,945.8,899.13,7326.67,5301.72,3596.5,2322.72,1944.45,1491.69,1314.4,836.78,479.0,426.19,3112.89,2500.0,1921.22,1472.87,1444.89,1368.76,1346.36,772.23,688.67,362.63,359.41,354.29,262.81,244.11,9377.82,5540.07,3118.5,2495.8,2362.89,2007.78,1816.41,1500.0,1139.6,952.05,746.89,644.87,188.61,117.4,12714.43,10116.07,1949.14,1852.5,1722.82,1539.07,1476.43,1458.13,1119.52,990.07,987.0,782.44,459.0,377.36,319.67,176.07,154.75,8493.76,3809.83,3222.66,1113.38,766.4,663.17,640.4,619.06,419.18,298.62,160.2,105.5,8323.31,6291.84,4904.64,4096.58,3334.65,1755.95,1160.63,1098.37,818.79,651.57,646.79,584.61,417.04,399.9,371.63,365.5,275.43,146.56,14651.31,6754.81,5071.99,4809.52,2884.46,2591.33,2419.75,1321.7,1308.0,981.86,843.98,817.62,712.0,634.48,463.96,462.93,430.38,388.71,112.78,85.0,12151.86,5186.82,4451.39,3968.51,3392.58,1879.51,1792.54,1607.6,1238.0,1130.0,1081.71,1033.84,671.59,361.37,171.7,40.0,3203.35,3060.69,2171.93,1727.85,1550.0,1470.35,1229.01,1010.94,575.36,555.34,533.11,459.1,253.75,148.65,4184.46,4082.49,1846.1,1688.78,1118.91,749.64,725.71,722.02,648.06,593.46,516.81,302.54,300.0,278.55,248.68,131.0,28.46,13058.85,6950.54,2930.0,2112.46,2100.0,1500.0,1386.41,1270.17,1203.81,993.59,903.0,900.0,583.76,580.32,376.46,275.94,91.27,6013.74,4804.22,3179.28,2893.53,1916.21,1209.08,1036.74,986.12,893.03,754.31,740.38,694.91,693.13,564.05,551.78,549.77,497.85,403.3,358.7,284.54,228.0,177.6,177.42,139.79,33137.5,7293.43,3754.51,3495.14,3140.66,2137.4,1971.75,1956.0,1870.58,1650.0,1188.74,1115.89,1088.73,1074.35,1016.43,860.67,831.8,796.8,759.57,668.74,582.62,404.0,393.5,309.67,292.44,221.7,103.75,11511.72,6090.02,1727.33,1235.07,910.01,812.98,562.05,527.34,451.31,332.06,315.53,10527.4,7751.55,5711.53,3804.44,3760.07,2757.83,2565.84,2221.87,2139.9,2000.0,1363.23,1132.41,993.19,964.22,898.55,822.1,761.22,754.56,685.71,622.53,604.95,587.51,490.25,489.73,465.5,329.91,272.01,258.5,4643.8,3523.9,3007.96,2192.98,1752.16,1686.2,1648.41,1381.16,1336.26,1248.01,950.61,945.56,880.82,713.55,645.8,626.38,573.4,488.16,458.0,443.95,253.59,209.83,138.86,100.0,30.0,24624.44,8123.33,5158.65,5035.93,4625.47,1707.92,1694.59,1501.05,1369.74,946.38,825.66,682.85,604.95,585.34,565.02,529.28,388.03,377.54,303.0,300.0,198.98,135.0,47.52,11458.07,8300.31,7827.74,6261.92,5861.5,5381.14,4532.02,3656.77,2928.92,2547.5,2276.5,2017.28,1678.17,1651.86,1482.45,1480.93,1348.93,1189.96,1090.41,940.28,925.47,852.22,417.18,369.02,346.79,244.23,132.0,100.0,14753.58,11288.76,10175.27,6277.84,4939.5,4786.51,3167.49,2572.22,1712.27,1712.13,1396.61,1377.31,1108.42,1001.76,989.59,891.09,882.77,670.77,638.99,546.32,536.11,533.33,464.59,460.36,291.92,257.01,106.0,7487.94,7296.2,4929.65,2532.6,2344.69,1855.85,1812.47,1431.81,1226.28,1122.12,1090.75,1067.57,1012.19,928.2,861.89,809.34,782.9,768.05,698.65,630.11,617.9,594.8,585.74,390.02,291.28,236.53,10077.0,8569.3,6124.34,5335.35,3486.96,3255.88,2985.29,2418.4,2368.69,2007.64,1996.0,1869.49,1600.18,1278.52,1212.85,1039.69,834.12,805.18,676.15,651.18,586.85,315.61,311.32,25.44,9793.42,7620.37,6800.94,4781.43,3944.37,2406.0,1613.41,1340.74,1249.02,1086.9,941.85,909.99,903.99,875.28,738.18,492.22,468.0,443.49,439.22,359.11,8215.8,6208.2,5241.71,3912.49,3230.09,2600.0,2531.24,2038.05,1890.5,1704.54,1145.63,959.52,763.07,746.63,700.0,554.55,545.3,490.6,273.29,189.9,10652.59,5556.75,3403.09,3328.93,2805.73,null,null,null,null,null,null,null,null,null,null,null,null,null,null,null,null,null,null,null,null,null,null,null,null,null,null,null,null,null,null,null,null,null,null,null,null,null,null,null,null,null,null,null,null,null,null,null,null,null,null,null,null,null,null,null,null,null,null,null,null,null,null,null,null,null,null,null,null,null,null,null,null,null,null,null,null,null,null,null,null,null,null,null,null,null,null,null,null,null,null,null,null,null,null,null,null,null,null,null,null,null,null,null,null,null,null,null,null,null,null,null,null,null,null,null,null,null,null,null,null,null,null,null,null,null,null,null,null,null,null,null,null,null,null,null,null,null,null,null,null,null,null,null,null,null,null,null,null,null,null,null,null,null,null,null,null,null,null,null,null,null,null,null,null,null,null,null,null,null,null,null,null,null,null,null,null,null,null,null,null,null,null,null,null,null,null,null,null,null,null,null,null,null,null,null,null,null,null,null,null,null,null,null,null,null,null,null,null,null,null,null,null,null,null,null,null,null,null,null,null,null,null,null,null,null,null,null,null,null,null,null,null,null,null,null,null,null,null,null,null,null,null,null,null,null,null,null,null,null,null,null,null,null,null,null,null,null,null,null,null,null,null,null,null,null,null,null,null,null,null,null,null,null,null,null,null,null,null,null,null,null,null,null,null,null,null,null,null,null,null,null,null,null,null,null,null,null,null,null,null,null,null,null,null,null,null,null,null,null,null,null,null,null,null,null,null,null,null,null,null,null,null,null,null,null,null,null,null,null,null,null,null,null,null,null,null,null,null,null,null,null,null,null,null,null,null,null,null,null,null,null,null,null,null,null,null,null,null,null,null,null,null,null,null,null,null,null,null,null,null,null,null,null,null,null,null,null,null,null,null,null,null,null,null,null,null,null,null,null,null,null,null,null,null,null,null,null,null,null,null,null,null,null,null,null,null,null,null,null,null,null,null,null,null,null,null,null,null,null,null,null,null,null,null,null,null,null,null,null,null,null,null,null,null,null,null,null,null,null,null,null,null,null,null,null,null,null,null,null,null,null,null,null,null,null,null,null,null,null,null,null,null,null,null,null,null,null,null,null,null,null,null,null,null,null,null,null,null,null,null,null,null,null,null,null,null,null,null,null,null,null,null,null,null,null,null,null,null,null,null],\"y0\":\" \",\"yaxis\":\"y\",\"type\":\"box\"}],                        {\"template\":{\"data\":{\"histogram2dcontour\":[{\"type\":\"histogram2dcontour\",\"colorbar\":{\"outlinewidth\":0,\"ticks\":\"\"},\"colorscale\":[[0.0,\"#0d0887\"],[0.1111111111111111,\"#46039f\"],[0.2222222222222222,\"#7201a8\"],[0.3333333333333333,\"#9c179e\"],[0.4444444444444444,\"#bd3786\"],[0.5555555555555556,\"#d8576b\"],[0.6666666666666666,\"#ed7953\"],[0.7777777777777778,\"#fb9f3a\"],[0.8888888888888888,\"#fdca26\"],[1.0,\"#f0f921\"]]}],\"choropleth\":[{\"type\":\"choropleth\",\"colorbar\":{\"outlinewidth\":0,\"ticks\":\"\"}}],\"histogram2d\":[{\"type\":\"histogram2d\",\"colorbar\":{\"outlinewidth\":0,\"ticks\":\"\"},\"colorscale\":[[0.0,\"#0d0887\"],[0.1111111111111111,\"#46039f\"],[0.2222222222222222,\"#7201a8\"],[0.3333333333333333,\"#9c179e\"],[0.4444444444444444,\"#bd3786\"],[0.5555555555555556,\"#d8576b\"],[0.6666666666666666,\"#ed7953\"],[0.7777777777777778,\"#fb9f3a\"],[0.8888888888888888,\"#fdca26\"],[1.0,\"#f0f921\"]]}],\"heatmap\":[{\"type\":\"heatmap\",\"colorbar\":{\"outlinewidth\":0,\"ticks\":\"\"},\"colorscale\":[[0.0,\"#0d0887\"],[0.1111111111111111,\"#46039f\"],[0.2222222222222222,\"#7201a8\"],[0.3333333333333333,\"#9c179e\"],[0.4444444444444444,\"#bd3786\"],[0.5555555555555556,\"#d8576b\"],[0.6666666666666666,\"#ed7953\"],[0.7777777777777778,\"#fb9f3a\"],[0.8888888888888888,\"#fdca26\"],[1.0,\"#f0f921\"]]}],\"heatmapgl\":[{\"type\":\"heatmapgl\",\"colorbar\":{\"outlinewidth\":0,\"ticks\":\"\"},\"colorscale\":[[0.0,\"#0d0887\"],[0.1111111111111111,\"#46039f\"],[0.2222222222222222,\"#7201a8\"],[0.3333333333333333,\"#9c179e\"],[0.4444444444444444,\"#bd3786\"],[0.5555555555555556,\"#d8576b\"],[0.6666666666666666,\"#ed7953\"],[0.7777777777777778,\"#fb9f3a\"],[0.8888888888888888,\"#fdca26\"],[1.0,\"#f0f921\"]]}],\"contourcarpet\":[{\"type\":\"contourcarpet\",\"colorbar\":{\"outlinewidth\":0,\"ticks\":\"\"}}],\"contour\":[{\"type\":\"contour\",\"colorbar\":{\"outlinewidth\":0,\"ticks\":\"\"},\"colorscale\":[[0.0,\"#0d0887\"],[0.1111111111111111,\"#46039f\"],[0.2222222222222222,\"#7201a8\"],[0.3333333333333333,\"#9c179e\"],[0.4444444444444444,\"#bd3786\"],[0.5555555555555556,\"#d8576b\"],[0.6666666666666666,\"#ed7953\"],[0.7777777777777778,\"#fb9f3a\"],[0.8888888888888888,\"#fdca26\"],[1.0,\"#f0f921\"]]}],\"surface\":[{\"type\":\"surface\",\"colorbar\":{\"outlinewidth\":0,\"ticks\":\"\"},\"colorscale\":[[0.0,\"#0d0887\"],[0.1111111111111111,\"#46039f\"],[0.2222222222222222,\"#7201a8\"],[0.3333333333333333,\"#9c179e\"],[0.4444444444444444,\"#bd3786\"],[0.5555555555555556,\"#d8576b\"],[0.6666666666666666,\"#ed7953\"],[0.7777777777777778,\"#fb9f3a\"],[0.8888888888888888,\"#fdca26\"],[1.0,\"#f0f921\"]]}],\"mesh3d\":[{\"type\":\"mesh3d\",\"colorbar\":{\"outlinewidth\":0,\"ticks\":\"\"}}],\"scatter\":[{\"fillpattern\":{\"fillmode\":\"overlay\",\"size\":10,\"solidity\":0.2},\"type\":\"scatter\"}],\"parcoords\":[{\"type\":\"parcoords\",\"line\":{\"colorbar\":{\"outlinewidth\":0,\"ticks\":\"\"}}}],\"scatterpolargl\":[{\"type\":\"scatterpolargl\",\"marker\":{\"colorbar\":{\"outlinewidth\":0,\"ticks\":\"\"}}}],\"bar\":[{\"error_x\":{\"color\":\"#2a3f5f\"},\"error_y\":{\"color\":\"#2a3f5f\"},\"marker\":{\"line\":{\"color\":\"#E5ECF6\",\"width\":0.5},\"pattern\":{\"fillmode\":\"overlay\",\"size\":10,\"solidity\":0.2}},\"type\":\"bar\"}],\"scattergeo\":[{\"type\":\"scattergeo\",\"marker\":{\"colorbar\":{\"outlinewidth\":0,\"ticks\":\"\"}}}],\"scatterpolar\":[{\"type\":\"scatterpolar\",\"marker\":{\"colorbar\":{\"outlinewidth\":0,\"ticks\":\"\"}}}],\"histogram\":[{\"marker\":{\"pattern\":{\"fillmode\":\"overlay\",\"size\":10,\"solidity\":0.2}},\"type\":\"histogram\"}],\"scattergl\":[{\"type\":\"scattergl\",\"marker\":{\"colorbar\":{\"outlinewidth\":0,\"ticks\":\"\"}}}],\"scatter3d\":[{\"type\":\"scatter3d\",\"line\":{\"colorbar\":{\"outlinewidth\":0,\"ticks\":\"\"}},\"marker\":{\"colorbar\":{\"outlinewidth\":0,\"ticks\":\"\"}}}],\"scattermapbox\":[{\"type\":\"scattermapbox\",\"marker\":{\"colorbar\":{\"outlinewidth\":0,\"ticks\":\"\"}}}],\"scatterternary\":[{\"type\":\"scatterternary\",\"marker\":{\"colorbar\":{\"outlinewidth\":0,\"ticks\":\"\"}}}],\"scattercarpet\":[{\"type\":\"scattercarpet\",\"marker\":{\"colorbar\":{\"outlinewidth\":0,\"ticks\":\"\"}}}],\"carpet\":[{\"aaxis\":{\"endlinecolor\":\"#2a3f5f\",\"gridcolor\":\"white\",\"linecolor\":\"white\",\"minorgridcolor\":\"white\",\"startlinecolor\":\"#2a3f5f\"},\"baxis\":{\"endlinecolor\":\"#2a3f5f\",\"gridcolor\":\"white\",\"linecolor\":\"white\",\"minorgridcolor\":\"white\",\"startlinecolor\":\"#2a3f5f\"},\"type\":\"carpet\"}],\"table\":[{\"cells\":{\"fill\":{\"color\":\"#EBF0F8\"},\"line\":{\"color\":\"white\"}},\"header\":{\"fill\":{\"color\":\"#C8D4E3\"},\"line\":{\"color\":\"white\"}},\"type\":\"table\"}],\"barpolar\":[{\"marker\":{\"line\":{\"color\":\"#E5ECF6\",\"width\":0.5},\"pattern\":{\"fillmode\":\"overlay\",\"size\":10,\"solidity\":0.2}},\"type\":\"barpolar\"}],\"pie\":[{\"automargin\":true,\"type\":\"pie\"}]},\"layout\":{\"autotypenumbers\":\"strict\",\"colorway\":[\"#636efa\",\"#EF553B\",\"#00cc96\",\"#ab63fa\",\"#FFA15A\",\"#19d3f3\",\"#FF6692\",\"#B6E880\",\"#FF97FF\",\"#FECB52\"],\"font\":{\"color\":\"#2a3f5f\"},\"hovermode\":\"closest\",\"hoverlabel\":{\"align\":\"left\"},\"paper_bgcolor\":\"white\",\"plot_bgcolor\":\"#E5ECF6\",\"polar\":{\"bgcolor\":\"#E5ECF6\",\"angularaxis\":{\"gridcolor\":\"white\",\"linecolor\":\"white\",\"ticks\":\"\"},\"radialaxis\":{\"gridcolor\":\"white\",\"linecolor\":\"white\",\"ticks\":\"\"}},\"ternary\":{\"bgcolor\":\"#E5ECF6\",\"aaxis\":{\"gridcolor\":\"white\",\"linecolor\":\"white\",\"ticks\":\"\"},\"baxis\":{\"gridcolor\":\"white\",\"linecolor\":\"white\",\"ticks\":\"\"},\"caxis\":{\"gridcolor\":\"white\",\"linecolor\":\"white\",\"ticks\":\"\"}},\"coloraxis\":{\"colorbar\":{\"outlinewidth\":0,\"ticks\":\"\"}},\"colorscale\":{\"sequential\":[[0.0,\"#0d0887\"],[0.1111111111111111,\"#46039f\"],[0.2222222222222222,\"#7201a8\"],[0.3333333333333333,\"#9c179e\"],[0.4444444444444444,\"#bd3786\"],[0.5555555555555556,\"#d8576b\"],[0.6666666666666666,\"#ed7953\"],[0.7777777777777778,\"#fb9f3a\"],[0.8888888888888888,\"#fdca26\"],[1.0,\"#f0f921\"]],\"sequentialminus\":[[0.0,\"#0d0887\"],[0.1111111111111111,\"#46039f\"],[0.2222222222222222,\"#7201a8\"],[0.3333333333333333,\"#9c179e\"],[0.4444444444444444,\"#bd3786\"],[0.5555555555555556,\"#d8576b\"],[0.6666666666666666,\"#ed7953\"],[0.7777777777777778,\"#fb9f3a\"],[0.8888888888888888,\"#fdca26\"],[1.0,\"#f0f921\"]],\"diverging\":[[0,\"#8e0152\"],[0.1,\"#c51b7d\"],[0.2,\"#de77ae\"],[0.3,\"#f1b6da\"],[0.4,\"#fde0ef\"],[0.5,\"#f7f7f7\"],[0.6,\"#e6f5d0\"],[0.7,\"#b8e186\"],[0.8,\"#7fbc41\"],[0.9,\"#4d9221\"],[1,\"#276419\"]]},\"xaxis\":{\"gridcolor\":\"white\",\"linecolor\":\"white\",\"ticks\":\"\",\"title\":{\"standoff\":15},\"zerolinecolor\":\"white\",\"automargin\":true,\"zerolinewidth\":2},\"yaxis\":{\"gridcolor\":\"white\",\"linecolor\":\"white\",\"ticks\":\"\",\"title\":{\"standoff\":15},\"zerolinecolor\":\"white\",\"automargin\":true,\"zerolinewidth\":2},\"scene\":{\"xaxis\":{\"backgroundcolor\":\"#E5ECF6\",\"gridcolor\":\"white\",\"linecolor\":\"white\",\"showbackground\":true,\"ticks\":\"\",\"zerolinecolor\":\"white\",\"gridwidth\":2},\"yaxis\":{\"backgroundcolor\":\"#E5ECF6\",\"gridcolor\":\"white\",\"linecolor\":\"white\",\"showbackground\":true,\"ticks\":\"\",\"zerolinecolor\":\"white\",\"gridwidth\":2},\"zaxis\":{\"backgroundcolor\":\"#E5ECF6\",\"gridcolor\":\"white\",\"linecolor\":\"white\",\"showbackground\":true,\"ticks\":\"\",\"zerolinecolor\":\"white\",\"gridwidth\":2}},\"shapedefaults\":{\"line\":{\"color\":\"#2a3f5f\"}},\"annotationdefaults\":{\"arrowcolor\":\"#2a3f5f\",\"arrowhead\":0,\"arrowwidth\":1},\"geo\":{\"bgcolor\":\"white\",\"landcolor\":\"#E5ECF6\",\"subunitcolor\":\"white\",\"showland\":true,\"showlakes\":true,\"lakecolor\":\"white\"},\"title\":{\"x\":0.05},\"mapbox\":{\"style\":\"light\"}}},\"xaxis\":{\"anchor\":\"y\",\"domain\":[0.0,1.0],\"title\":{\"text\":\"variable\"}},\"yaxis\":{\"anchor\":\"x\",\"domain\":[0.0,1.0],\"title\":{\"text\":\"value\"}},\"legend\":{\"tracegroupgap\":0},\"margin\":{\"t\":60},\"boxmode\":\"group\"},                        {\"responsive\": true}                    ).then(function(){\n",
       "                            \n",
       "var gd = document.getElementById('398ca95f-d603-4eea-827e-43656c3b3342');\n",
       "var x = new MutationObserver(function (mutations, observer) {{\n",
       "        var display = window.getComputedStyle(gd).display;\n",
       "        if (!display || display === 'none') {{\n",
       "            console.log([gd, 'removed!']);\n",
       "            Plotly.purge(gd);\n",
       "            observer.disconnect();\n",
       "        }}\n",
       "}});\n",
       "\n",
       "// Listen for the removal of the full notebook cells\n",
       "var notebookContainer = gd.closest('#notebook-container');\n",
       "if (notebookContainer) {{\n",
       "    x.observe(notebookContainer, {childList: true});\n",
       "}}\n",
       "\n",
       "// Listen for the clearing of the current output cell\n",
       "var outputEl = gd.closest('.output');\n",
       "if (outputEl) {{\n",
       "    x.observe(outputEl, {childList: true});\n",
       "}}\n",
       "\n",
       "                        })                };                });            </script>        </div>"
      ]
     },
     "metadata": {},
     "output_type": "display_data"
    }
   ],
   "source": []
  },
  {
   "cell_type": "code",
   "execution_count": 116,
   "id": "3d52738c",
   "metadata": {},
   "outputs": [],
   "source": [
    "# Q11: your answer will be tested!\n",
    "Q11 = None # Assign either 'A', 'B', 'C', or 'D' to `Q11` instead of `None`\n",
    "# E.g., Q11 = 'A'"
   ]
  },
  {
   "cell_type": "markdown",
   "id": "ea681f94",
   "metadata": {},
   "source": [
    "### Q12: Which of the following gives the best extended follow-up explanation for the previous problem?\n",
    "\n",
    "A. The sample is a very poor representation of the population as judged by their relative difference in standard deviation, which is why the 95% bootstrap confidence interval was not able to capture the true population median. \n",
    "\n",
    "B. The sample is a very poor representation of the population as judged by their relative difference in standard deviation; but, since the sample median was close to the population median, the 95% bootstrap confidence interval was always going to very easily capture the true population median. \n",
    "\n",
    "C. The sample is a fairly good representation of the population; but, since the sample median was very different from the population median, the 95% bootstrap confidence interval was not able to capture the true population median. \n",
    "\n",
    "D. The sample is a fairly good representation of the population; and, since the sample median was very close to the population median, the 95% bootstrap confidence interval was always going to very easily capture the true population median.  \n"
   ]
  },
  {
   "cell_type": "code",
   "execution_count": null,
   "id": "c733bbb0",
   "metadata": {},
   "outputs": [],
   "source": [
    "# Q12: your answer will be tested!\n",
    "Q12 = None # Assign either 'A', 'B', 'C', or 'D' to `Q12` instead of `None`\n",
    "# E.g., Q12 = 'A'"
   ]
  },
  {
   "cell_type": "markdown",
   "id": "e08f001b",
   "metadata": {},
   "source": [
    "### Q13: Create 1000 samples of sample size $n=500$ from the population of claims stored in the `auto_claims_population.csv` data set and use `plotly` to visualize the (sampling) distrubution of the median paid claims based on these samples and choose which of the following options is correct. \n",
    "\n",
    "#### Use `fig.add_vline(x=...)` and `fig.add_annotation` to mark the mean of these medians, the `auto_claims_population.csv` population median, and the `auto_claims.csv` sample median on this visualization. \n",
    "\n",
    "A. The mean of the sampling distribution of the sample medians is unexpectedly close to the population median; and, in this case the `auto_claims.csv` sample median happens to not be a very unusual value relative to this sampling distribution either, indicating this sample is likely not very representative of the population.\n",
    "\n",
    "B. The mean of the sampling distribution of the sample medians is unexpectedly close to the population median; whereas, in this case the `auto_claims.csv` sample median is very unusual value relative to this sampling distribution, indicating this sample is likely not very representative of the population.\n",
    "\n",
    "C. The mean of the sampling distribution of the sample medians is very close to the population median, as would be expected; and, in this case the `auto_claims.csv` sample median happens to not be a very unusual value relative to this sampling distribution either, indicating this sample is likely relatively representative of the population (at least with respect to the population median).\n",
    "\n",
    "D. The mean of the sampling distribution of the sample medians is very close to the population median, as would be expected; whereas, in this case the `auto_claims.csv` sample median is very unusual value relative to this sampling distribution, indicating this sample is likely not very representative of the population. \n",
    "\n",
    "> - Hint 1: Ensure each sample is created without replacement, so there are no repeated observations within each sample: <br>**this question is not asking for bootstrapping... it's asking you to create 1000 different samples from a population...**\n",
    "> - Hint 2: The default for `df.sample()` is `replace=False`, whereas the default for `np.random.choice(x, n)` is `replace=True`.\n",
    "\n",
    "- Your `for` loop code and figure will be manually confirmed (for the correct usage of `replace=False`) during marking."
   ]
  },
  {
   "cell_type": "code",
   "execution_count": 31,
   "id": "72fc7577",
   "metadata": {},
   "outputs": [],
   "source": [
    "# Import 'auto_claims_population.csv' and create 1000 samples from this population.\n",
    "# Visualize the medians created from each of these samples, their average, and the\n",
    "# relative `auto_claims_population.csv` population and `auto_claims.csv` sample medians.\n"
   ]
  },
  {
   "cell_type": "code",
   "execution_count": 145,
   "id": "12c18019",
   "metadata": {},
   "outputs": [],
   "source": [
    "# Q13: your answer will be tested!\n",
    "Q13 = None # Assign either 'A', 'B', 'C', or 'D' to `Q13` instead of `None`\n",
    "# E.g., Q13 = 'A'"
   ]
  },
  {
   "cell_type": "markdown",
   "id": "36b55b93",
   "metadata": {},
   "source": [
    "### Q14: Which of the following statements are true?\n",
    "\n",
    "A. The median paid claim amount in the population is given by `pd.read_csv('auto_claims_population.csv').PAID.median()`\n",
    "\n",
    "B. Each median computed in Q13 estimates this, and the overall average of these means estimates it even better; but, it's a little silly to do this because since we have the whole population we can just calculate the median paid claim amount in the population exactly.\n",
    "\n",
    "C. The sample that is bootstrapped from in Q9 is like one of the samples in Q13, so the median of that sample is an estimate of the population median and the bootstrap confidence interval created based on that sample gives us a range estimate of the population median.\n",
    "\n",
    "D. The bootstrap medians in Q9 estimate the median of the original sample being bootstrapped (which we can already calculate exactly); but, if the \"auto_claims.csv\" sample is fairly representative \"auto_claims_population.csv\" population, then the bootstrap sampling distribution of the sample median created in Q9 will behave similarly to the sampling distribution created here in Q11 (but it will just be \"biased\" to be centered around the median of the original sample as opposed to the median of the popuation), so it will give us an idea about the variability of the true sampling distribution of the sample median.\n",
    "\n",
    "E. All of the above\n",
    "\n"
   ]
  },
  {
   "cell_type": "code",
   "execution_count": 148,
   "id": "637fde19",
   "metadata": {},
   "outputs": [],
   "source": [
    "# Q14: your answer will be tested!\n",
    "Q14 = None # Assign either 'A', 'B', 'C', or 'D' to `Q14` instead of `None`\n",
    "# E.g., Q14 = 'A'"
   ]
  },
  {
   "cell_type": "markdown",
   "id": "d477d4b0",
   "metadata": {},
   "source": [
    "### Q15: There's always a chance that a 95% bootstrap confidence interval won't contain the population parameter it's estimating, and for a 95% bootstrap confidence interval there's about a 100%-90% = 5% chance of randomly drawing a sample that is non sufficiently representative of the population it's drawn from so as to result in an interval that does not capture the true population parameter it estimates. \n",
    "\n",
    "#### Since the `\"auto_claims.csv\"` \"sample\" was created based on selecting claims for the $n=500$ oldest individuals in the population (which roughly amounted to selecting `AGE>60`), which of the following comments are accurate?\n",
    "\n",
    "> Hint: Consider that the original `auto_claims.csv` sample is a sample of auto insurance claimants greater than 60 years of age, while the population includes other ages.\n",
    "\n",
    "\n",
    "A. There was a 95% chance that the 95% bootstrap confidence interval created in Q9 would capture the true population median, and it did!\n",
    "\n",
    "B. There was a 5% chance that the 95% bootstrap confidence interval created in Q9 would not capture the true population median, but fortunately it did!\n",
    "\n",
    "C. While the 95% bootstrap confidence interval created in Q9 did indeed capture the true population median, there were no numerically precice guarantees as to the chance that it would since it was not based on a random sample from the population.\n",
    "\n",
    "D. Intentionally creating a sample in a systematically non-random manner such as only choosing claims where `AGE>60` is an efficient way to get a sample to use for creating a confidence interval. "
   ]
  },
  {
   "cell_type": "code",
   "execution_count": 238,
   "id": "4bfa68db",
   "metadata": {},
   "outputs": [],
   "source": [
    "# Q15: your answer will be tested!\n",
    "Q15 = None # Assign either 'A', 'B', 'C', or 'D' to `Q15` instead of `None`\n",
    "# E.g., Q15 = 'A'"
   ]
  },
  {
   "cell_type": "markdown",
   "id": "9df40363",
   "metadata": {},
   "source": [
    "### Q16: Why have we been focused on median insurance claims, as opposed to mean insurance claims?\n",
    "\n",
    "A. Using either means or medians here doesn't matter much since the distribution under consideration is symmetric.\n",
    "\n",
    "B. Using medians is better because means in this case don't represent proportions like they would for binary data.\n",
    "\n",
    "C. Means are not robust to outliers whereas medians are not affected by the actual value of outliers, so in addition to perhaps being a more meaningful measure of \"typical\" insurance claim amounts, it will also likely be easier to provide tighter confidence intervals for medians compared to means.\n",
    "\n",
    "D. Medians are easier to use than medians and automatically provide an \"apples to apples\" comparision when we're working with both bootstrapping samples and actual samples from an actual population. "
   ]
  },
  {
   "cell_type": "code",
   "execution_count": null,
   "id": "6cbac373",
   "metadata": {},
   "outputs": [],
   "source": [
    "# Q16: your answer will be tested!\n",
    "Q16 = None # Assign either 'A', 'B', 'C', or 'D' to `Q16` instead of `None`\n",
    "# E.g., Q16 = 'A'"
   ]
  },
  {
   "cell_type": "markdown",
   "id": "b055dcd8",
   "metadata": {},
   "source": [
    "### Q17: Return to your simulation in `Q13`, but this time add another `for` loop into your code (inside of your first `for` loop which created the 1000 samples) which creates 80% bootstrap confidence intervals for the median of paid claims for each sample, and checks if each of these intervals capture the true population median.\n",
    "\n",
    "#### Save the 1000 samples (now each of size $n=100$) taken from the population as a list of `np.array`s and report how many of them produced an 80% confidence interval that captures the population median.\n"
   ]
  },
  {
   "cell_type": "code",
   "execution_count": 229,
   "id": "32928dc9",
   "metadata": {},
   "outputs": [],
   "source": [
    "# Q17: your results below will be tested:\n",
    "#      you don't need to assign anything into Q17\n",
    "\n",
    "# Complete the code here\n",
    "np.random.seed(130) # Use this line to create reproducible pseudorandomness for your bootstrapping\n",
    "# Leave the line above as is as it is required for testing purposes\n",
    "population = pd.read_csv('auto_claims_population.csv')\n",
    "\n",
    "sample_size_n = 100 # this has changed: use this value now\n",
    "number_of_samples = 1000\n",
    "number_of_bootstrap_samples_per_sample = 100 # this has changed: use this value now\n",
    "number_of_80percent_bootstrap_confidence_intervals_capture_population_median = 0\n",
    "all_samples = []\n",
    "for i in range(number_of_samples):\n",
    "    # `np.random.choice` is an alternative to utilizing `df.sample()` which uses `replace=False` by default\n",
    "    one_sample = np.random.choice(population['PAID'], sample_size_n, replace=False)\n",
    "    # samples are of size 30\n",
    "    all_samples += [one_sample]\n",
    "\n",
    "    for j in range(number_of_bootstrap_samples_per_sample):\n",
    "        pass # complete \n",
    "        # create 80% bootstrap confidence interval for the current sample\n",
    "        \n",
    "    if True: # fix to check if created interval capture the true population median\n",
    "        number_of_80percent_bootstrap_confidence_intervals_capture_population_median += 1\n",
    "    \n",
    "    "
   ]
  },
  {
   "cell_type": "code",
   "execution_count": 231,
   "id": "7c07065f",
   "metadata": {},
   "outputs": [
    {
     "data": {
      "text/plain": [
       "7922"
      ]
     },
     "execution_count": 231,
     "metadata": {},
     "output_type": "execute_result"
    }
   ],
   "source": []
  }
 ],
 "metadata": {
  "kernelspec": {
   "display_name": "Python 3 (ipykernel)",
   "language": "python",
   "name": "python3"
  },
  "language_info": {
   "codemirror_mode": {
    "name": "ipython",
    "version": 3
   },
   "file_extension": ".py",
   "mimetype": "text/x-python",
   "name": "python",
   "nbconvert_exporter": "python",
   "pygments_lexer": "ipython3",
   "version": "3.10.8"
  }
 },
 "nbformat": 4,
 "nbformat_minor": 5
}
