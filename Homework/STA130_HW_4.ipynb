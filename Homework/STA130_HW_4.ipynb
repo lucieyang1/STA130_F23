{
 "cells": [
  {
   "cell_type": "markdown",
   "id": "42ab3d54",
   "metadata": {},
   "source": [
    "# Coding Homework 4: [Your Name]\n",
    "\n",
    "Go through this notebook, following the instructions! \n",
    "- You can add new cells if you need (with the \"+\" button above); but, deleting cells could very likely cause your notebook to fail MarkUs autotesting (and you'd have to start over and re-enter your answers into a completely fresh version of the notebook to get things to work again...)\n",
    "\n",
    "> TAs will mark this assignment by checking ***MarkUs*** autotests; then, manually confirming the correctness of plots in `Q2` and `Q9`; then, manually reviewing the written response to question `Q3`. TAs may or may not spot check the presence of plots and written answers for `Q6` and `Q8`.\n",
    "> - The following questions \"automatically fail\" during automated testing so that MarkUs exposes example answers for student review and consideration for these problems.  These \"failed MarkUs tests\" are not counted against the student: `Q6`, `Q8` and all optional questions (from `Q11` to `Q20`)"
   ]
  },
  {
   "cell_type": "markdown",
   "id": "c6b08913",
   "metadata": {},
   "source": [
    "# Part 1: Driving on the \"Right\" Side of the Road\n",
    "In this question, you will explore data about cars drive on the right or left side of the road in different countries. World Standards' [list of left driving countries](https://www.worldstandards.eu/cars/list-of-left-driving-countries/) shows that 86 of all 270 countries in the world drive on the left side of the road."
   ]
  },
  {
   "cell_type": "code",
   "execution_count": 2,
   "id": "07099e61",
   "metadata": {},
   "outputs": [],
   "source": [
    "# Run the following code to get the \"data\"\n",
    "import pandas as pd\n",
    "import numpy as np\n",
    "\n",
    "roaddata = pd.DataFrame({\"road_side\": [\"left\"] * 86 + [\"right\"] * (270 - 86)})"
   ]
  },
  {
   "cell_type": "code",
   "execution_count": null,
   "id": "26ecf996",
   "metadata": {},
   "outputs": [],
   "source": []
  },
  {
   "cell_type": "markdown",
   "id": "4debf2c3",
   "metadata": {},
   "source": [
    "### Q0: Are the observations in `roaddata` the entire population or a sample from a population?\n",
    "A. entire population    \n",
    "B. sample from a population"
   ]
  },
  {
   "cell_type": "code",
   "execution_count": 3,
   "id": "d512c280",
   "metadata": {},
   "outputs": [],
   "source": [
    "# Q0: your answer will be tested!\n",
    "Q0 = None # Assign either 'A' or 'B' `Q0` instead of `None`\n",
    "# E.g., Q0 = 'A'"
   ]
  },
  {
   "cell_type": "markdown",
   "id": "255ce211",
   "metadata": {},
   "source": [
    "### Q1: Select a random sample of 100 countries from `roaddata` and call it `road_sample`.\n",
    "> Hint: Use `roaddata.sample()` (https://letmegooglethat.com/?q=df.sample()+python)"
   ]
  },
  {
   "cell_type": "code",
   "execution_count": 4,
   "id": "a29cca1d",
   "metadata": {},
   "outputs": [],
   "source": [
    "# Q1: Your answer will be tested based on your `road_sample` object!\n",
    "np.random.seed(130) # Do NOT change this line: it sets the \"random number generation seed\"\n",
    "# which makes the \"pseudorandomness\" gererated in the code the same every time and this\n",
    "# makes the code reproducibile which ensures that our testing code works properly every time\n",
    "\n",
    "# code your answer here"
   ]
  },
  {
   "cell_type": "markdown",
   "id": "cb8f68da",
   "metadata": {},
   "source": [
    "### Q2: Using `road_sample`, simulate 2000 bootstrap samples and calculate the proportion of countries who drive on the left in each of these bootstrap samples. Produce a histogram of the bootstrap sampling distribution of the proportion of regions that drive on the left side.\n",
    "    \n",
    "> Hint 1: To calculate the proportion, convert 'left' and 'right' in bootstrap samples to 1s and 0s and calculate the mean (you can use `np.where(df['road_side'] == 'left', 1, 0)` for this)   \n",
    "> Hint 2: remember to simulate bootstrap samples that are the same size as your original sample!\n",
    "\n",
    "- This will be manually reviewed. "
   ]
  },
  {
   "cell_type": "code",
   "execution_count": 5,
   "id": "5d92f7cd",
   "metadata": {},
   "outputs": [],
   "source": [
    "np.random.seed(130) # Do NOT change this line - there is randomness when bootstrapping\n",
    "\n",
    "# code your answer here"
   ]
  },
  {
   "cell_type": "code",
   "execution_count": null,
   "id": "79412204",
   "metadata": {},
   "outputs": [],
   "source": []
  },
  {
   "cell_type": "markdown",
   "id": "8fedd99f",
   "metadata": {},
   "source": [
    "### Q3: Compare the overall mean of the bootstrapped proportions, the proportion of countries who drive on the left in the sample, and the true proportion of countries who drive on the left in the population. Why might they be different?\n",
    "> Hint: To calculate the proportion, convert 'left' and 'right' in bootstrap samples to 1s and 0s and calculate the mean (you can use `df['numeric'] = np.where(df['road_side'] == 'left', 1, 0)` for this)\n",
    "\n",
    "#### Write two to three sentences to answer this question in markdown cell below\n",
    "\n",
    "- Your response will be manually reviewed. "
   ]
  },
  {
   "cell_type": "code",
   "execution_count": 260,
   "id": "a7d3f163",
   "metadata": {},
   "outputs": [
    {
     "data": {
      "text/plain": [
       "(0.29815499999999995, 0.3, 0.31851851851851853)"
      ]
     },
     "execution_count": 260,
     "metadata": {},
     "output_type": "execute_result"
    }
   ],
   "source": []
  },
  {
   "cell_type": "markdown",
   "id": "c98d6448",
   "metadata": {},
   "source": [
    "> Answer here..."
   ]
  },
  {
   "cell_type": "markdown",
   "id": "0edd86a3",
   "metadata": {},
   "source": [
    "### Q4: Calculate a 90% confidence interval for the proportion of countries/regions which drive on the left based on the bootstrap sampling distribution you generated in Q2.\n",
    "#### Give your answer as a continuous numeric value rounded to two decimal positions"
   ]
  },
  {
   "cell_type": "code",
   "execution_count": 261,
   "id": "51619289",
   "metadata": {},
   "outputs": [
    {
     "data": {
      "text/plain": [
       "array([0.22, 0.38])"
      ]
     },
     "execution_count": 261,
     "metadata": {},
     "output_type": "execute_result"
    }
   ],
   "source": []
  },
  {
   "cell_type": "code",
   "execution_count": 262,
   "id": "3c8a6446",
   "metadata": {},
   "outputs": [],
   "source": [
    "# Q4: your answer will be tested!\n",
    "confint_lower = None\n",
    "confint_upper = None\n",
    "Q4 = (confint_lower, confint_upper) # Assign a `tuple` of two `float`s to Q4"
   ]
  },
  {
   "cell_type": "markdown",
   "id": "5dab67ae",
   "metadata": {},
   "source": [
    "### Q5: Assume your confidence interval was (27%, 44%). Indicate whether or not each of the following statements is a correct interpretation of the confidence interval.\n",
    "A. We are 90% confident that between 27% and 44% of countries/regions in our `road_sample` sample drive on the left side.   \n",
    "B. There is a 90% chance that between 27% and 44% of all countries/regions in the population drive on the left side.   \n",
    "C. If we consider many random samples of 100 countries/regions, and we calculate 90% bootstrap confidence intervals for each sample, approximately 90% of these confidence intervals will include the true proportion of countries/regions in the population who drive on the left side of the road.   \n",
    "D. The chance that the constructed (27%, 44%) confidence interval bounds the true proportion of countries/regions in the population drive on the left side is 90%"
   ]
  },
  {
   "cell_type": "code",
   "execution_count": 265,
   "id": "658f8caf",
   "metadata": {},
   "outputs": [],
   "source": [
    "# Q5: your answer will be tested!\n",
    "Q5a = None # Assign either True or False to each of these\n",
    "Q5b = None\n",
    "Q5c = None\n",
    "Q5d = None\n",
    "Q5 = (Q5a, Q5b, Q5c, Q5d)"
   ]
  },
  {
   "cell_type": "markdown",
   "id": "7648cf60",
   "metadata": {},
   "source": [
    "### Q6: If we want to be more confident about capturing the proportion of all countries who drive on the left side, should we use a wider confidence level or a narrower confidence level? Explain your answer.\n",
    "\n",
    "#### Write one to two sentences to answer this question in markdown cell below\n",
    "- Compare your response to the answer given in the ***MarkUs*** output"
   ]
  },
  {
   "cell_type": "markdown",
   "id": "e48e0ca3",
   "metadata": {},
   "source": [
    "> Answer here..."
   ]
  },
  {
   "cell_type": "markdown",
   "id": "22a1fed5",
   "metadata": {},
   "source": [
    "# Part 2: Auto Claims\n",
    "The data set `auto_claims.csv` includes claims paid (in USD) to a sample of auto insurance claimants 50\n",
    "years of age and older in a specific year. In other words, it represents a ‘sample’ (the ‘original sample’) of car\n",
    "insurance claims in that year."
   ]
  },
  {
   "cell_type": "code",
   "execution_count": 270,
   "id": "16d73cc4",
   "metadata": {},
   "outputs": [],
   "source": [
    "# Load the `auto_claims.csv` dataset"
   ]
  },
  {
   "cell_type": "markdown",
   "id": "2fce0f4f",
   "metadata": {},
   "source": [
    "### Q7: What is the sample size, median, and standard deviation of paid claims (PAID)?\n",
    "#### Give your answer as a discrete integer numeric value ignoring all decimal values"
   ]
  },
  {
   "cell_type": "code",
   "execution_count": 272,
   "id": "fda08c56",
   "metadata": {},
   "outputs": [
    {
     "data": {
      "text/plain": [
       "(500, 1042.0, 3100.0)"
      ]
     },
     "execution_count": 272,
     "metadata": {},
     "output_type": "execute_result"
    }
   ],
   "source": []
  },
  {
   "cell_type": "code",
   "execution_count": 273,
   "id": "20d33af2",
   "metadata": {},
   "outputs": [],
   "source": [
    "# Q7: Your answer will be tested!\n",
    "paid_sample_size = None\n",
    "paid_median = None\n",
    "paid_std = None\n",
    "Q7 = (paid_sample_size, paid_median, paid_std) # Assign a `tuple` of three `int`s to Q6"
   ]
  },
  {
   "cell_type": "markdown",
   "id": "f30819a7",
   "metadata": {},
   "source": [
    "### Q8: Produce relevant visualizations of paid claims (PAID) and comment the shape, centre and spread of this distribution.\n",
    "\n",
    "#### Create the plot(s) and write your answer in the code cell and markdown cells below respectively\n",
    "\n",
    "- Compare your figure and response to the answer given in the ***MarkUs*** output "
   ]
  },
  {
   "cell_type": "code",
   "execution_count": 276,
   "id": "2896440e",
   "metadata": {},
   "outputs": [
    {
     "data": {
      "application/vnd.plotly.v1+json": {
       "config": {
        "plotlyServerURL": "https://plot.ly"
       },
       "data": [
        {
         "alignmentgroup": "True",
         "bingroup": "x",
         "hovertemplate": "PAID=%{x}<br>count=%{y}<extra></extra>",
         "legendgroup": "",
         "marker": {
          "color": "#636efa",
          "pattern": {
           "shape": ""
          }
         },
         "name": "",
         "nbinsx": 20,
         "offsetgroup": "",
         "orientation": "v",
         "showlegend": false,
         "type": "histogram",
         "x": [
          2384.67,
          650,
          654,
          3890.07,
          295.99,
          11756.34,
          2402,
          296.97,
          249.1,
          14833.3,
          3025,
          2750,
          2612.74,
          1259.89,
          824.85,
          669.5,
          664.34,
          408.39,
          3953.84,
          3841.66,
          239.37,
          30,
          6384,
          4467.92,
          1541.1,
          1354.93,
          1263.51,
          1045,
          519.75,
          499.28,
          365.26,
          322.34,
          122.41,
          10524.64,
          6854.02,
          3206.76,
          2724.04,
          2269,
          2169.88,
          1929.81,
          1061.8,
          945.8,
          899.13,
          7326.67,
          5301.72,
          3596.5,
          2322.72,
          1944.45,
          1491.69,
          1314.4,
          836.78,
          479,
          426.19,
          3112.89,
          2500,
          1921.22,
          1472.87,
          1444.89,
          1368.76,
          1346.36,
          772.23,
          688.67,
          362.63,
          359.41,
          354.29,
          262.81,
          244.11,
          9377.82,
          5540.07,
          3118.5,
          2495.8,
          2362.89,
          2007.78,
          1816.41,
          1500,
          1139.6,
          952.05,
          746.89,
          644.87,
          188.61,
          117.4,
          12714.43,
          10116.07,
          1949.14,
          1852.5,
          1722.82,
          1539.07,
          1476.43,
          1458.13,
          1119.52,
          990.07,
          987,
          782.44,
          459,
          377.36,
          319.67,
          176.07,
          154.75,
          8493.76,
          3809.83,
          3222.66,
          1113.38,
          766.4,
          663.17,
          640.4,
          619.06,
          419.18,
          298.62,
          160.2,
          105.5,
          8323.31,
          6291.84,
          4904.64,
          4096.58,
          3334.65,
          1755.95,
          1160.63,
          1098.37,
          818.79,
          651.57,
          646.79,
          584.61,
          417.04,
          399.9,
          371.63,
          365.5,
          275.43,
          146.56,
          14651.31,
          6754.81,
          5071.99,
          4809.52,
          2884.46,
          2591.33,
          2419.75,
          1321.7,
          1308,
          981.86,
          843.98,
          817.62,
          712,
          634.48,
          463.96,
          462.93,
          430.38,
          388.71,
          112.78,
          85,
          12151.86,
          5186.82,
          4451.39,
          3968.51,
          3392.58,
          1879.51,
          1792.54,
          1607.6,
          1238,
          1130,
          1081.71,
          1033.84,
          671.59,
          361.37,
          171.7,
          40,
          3203.35,
          3060.69,
          2171.93,
          1727.85,
          1550,
          1470.35,
          1229.01,
          1010.94,
          575.36,
          555.34,
          533.11,
          459.1,
          253.75,
          148.65,
          4184.46,
          4082.49,
          1846.1,
          1688.78,
          1118.91,
          749.64,
          725.71,
          722.02,
          648.06,
          593.46,
          516.81,
          302.54,
          300,
          278.55,
          248.68,
          131,
          28.46,
          13058.85,
          6950.54,
          2930,
          2112.46,
          2100,
          1500,
          1386.41,
          1270.17,
          1203.81,
          993.59,
          903,
          900,
          583.76,
          580.32,
          376.46,
          275.94,
          91.27,
          6013.74,
          4804.22,
          3179.28,
          2893.53,
          1916.21,
          1209.08,
          1036.74,
          986.12,
          893.03,
          754.31,
          740.38,
          694.91,
          693.13,
          564.05,
          551.78,
          549.77,
          497.85,
          403.3,
          358.7,
          284.54,
          228,
          177.6,
          177.42,
          139.79,
          33137.5,
          7293.43,
          3754.51,
          3495.14,
          3140.66,
          2137.4,
          1971.75,
          1956,
          1870.58,
          1650,
          1188.74,
          1115.89,
          1088.73,
          1074.35,
          1016.43,
          860.67,
          831.8,
          796.8,
          759.57,
          668.74,
          582.62,
          404,
          393.5,
          309.67,
          292.44,
          221.7,
          103.75,
          11511.72,
          6090.02,
          1727.33,
          1235.07,
          910.01,
          812.98,
          562.05,
          527.34,
          451.31,
          332.06,
          315.53,
          10527.4,
          7751.55,
          5711.53,
          3804.44,
          3760.07,
          2757.83,
          2565.84,
          2221.87,
          2139.9,
          2000,
          1363.23,
          1132.41,
          993.19,
          964.22,
          898.55,
          822.1,
          761.22,
          754.56,
          685.71,
          622.53,
          604.95,
          587.51,
          490.25,
          489.73,
          465.5,
          329.91,
          272.01,
          258.5,
          4643.8,
          3523.9,
          3007.96,
          2192.98,
          1752.16,
          1686.2,
          1648.41,
          1381.16,
          1336.26,
          1248.01,
          950.61,
          945.56,
          880.82,
          713.55,
          645.8,
          626.38,
          573.4,
          488.16,
          458,
          443.95,
          253.59,
          209.83,
          138.86,
          100,
          30,
          24624.44,
          8123.33,
          5158.65,
          5035.93,
          4625.47,
          1707.92,
          1694.59,
          1501.05,
          1369.74,
          946.38,
          825.66,
          682.85,
          604.95,
          585.34,
          565.02,
          529.28,
          388.03,
          377.54,
          303,
          300,
          198.98,
          135,
          47.52,
          11458.07,
          8300.31,
          7827.74,
          6261.92,
          5861.5,
          5381.14,
          4532.02,
          3656.77,
          2928.92,
          2547.5,
          2276.5,
          2017.28,
          1678.17,
          1651.86,
          1482.45,
          1480.93,
          1348.93,
          1189.96,
          1090.41,
          940.28,
          925.47,
          852.22,
          417.18,
          369.02,
          346.79,
          244.23,
          132,
          100,
          14753.58,
          11288.76,
          10175.27,
          6277.84,
          4939.5,
          4786.51,
          3167.49,
          2572.22,
          1712.27,
          1712.13,
          1396.61,
          1377.31,
          1108.42,
          1001.76,
          989.59,
          891.09,
          882.77,
          670.77,
          638.99,
          546.32,
          536.11,
          533.33,
          464.59,
          460.36,
          291.92,
          257.01,
          106,
          7487.94,
          7296.2,
          4929.65,
          2532.6,
          2344.69,
          1855.85,
          1812.47,
          1431.81,
          1226.28,
          1122.12,
          1090.75,
          1067.57,
          1012.19,
          928.2,
          861.89,
          809.34,
          782.9,
          768.05,
          698.65,
          630.11,
          617.9,
          594.8,
          585.74,
          390.02,
          291.28,
          236.53,
          10077,
          8569.3,
          6124.34,
          5335.35,
          3486.96,
          3255.88,
          2985.29,
          2418.4,
          2368.69,
          2007.64,
          1996,
          1869.49,
          1600.18,
          1278.52,
          1212.85,
          1039.69,
          834.12,
          805.18,
          676.15,
          651.18,
          586.85,
          315.61,
          311.32,
          25.44,
          9793.42,
          7620.37,
          6800.94,
          4781.43,
          3944.37,
          2406,
          1613.41,
          1340.74,
          1249.02,
          1086.9,
          941.85,
          909.99,
          903.99,
          875.28,
          738.18,
          492.22,
          468,
          443.49,
          439.22,
          359.11,
          8215.8,
          6208.2,
          5241.71,
          3912.49,
          3230.09,
          2600,
          2531.24,
          2038.05,
          1890.5,
          1704.54,
          1145.63,
          959.52,
          763.07,
          746.63,
          700,
          554.55,
          545.3,
          490.6,
          273.29,
          189.9,
          10652.59,
          5556.75,
          3403.09,
          3328.93,
          2805.73
         ],
         "xaxis": "x",
         "yaxis": "y"
        }
       ],
       "layout": {
        "barmode": "relative",
        "legend": {
         "tracegroupgap": 0
        },
        "margin": {
         "t": 60
        },
        "template": {
         "data": {
          "bar": [
           {
            "error_x": {
             "color": "#2a3f5f"
            },
            "error_y": {
             "color": "#2a3f5f"
            },
            "marker": {
             "line": {
              "color": "#E5ECF6",
              "width": 0.5
             },
             "pattern": {
              "fillmode": "overlay",
              "size": 10,
              "solidity": 0.2
             }
            },
            "type": "bar"
           }
          ],
          "barpolar": [
           {
            "marker": {
             "line": {
              "color": "#E5ECF6",
              "width": 0.5
             },
             "pattern": {
              "fillmode": "overlay",
              "size": 10,
              "solidity": 0.2
             }
            },
            "type": "barpolar"
           }
          ],
          "carpet": [
           {
            "aaxis": {
             "endlinecolor": "#2a3f5f",
             "gridcolor": "white",
             "linecolor": "white",
             "minorgridcolor": "white",
             "startlinecolor": "#2a3f5f"
            },
            "baxis": {
             "endlinecolor": "#2a3f5f",
             "gridcolor": "white",
             "linecolor": "white",
             "minorgridcolor": "white",
             "startlinecolor": "#2a3f5f"
            },
            "type": "carpet"
           }
          ],
          "choropleth": [
           {
            "colorbar": {
             "outlinewidth": 0,
             "ticks": ""
            },
            "type": "choropleth"
           }
          ],
          "contour": [
           {
            "colorbar": {
             "outlinewidth": 0,
             "ticks": ""
            },
            "colorscale": [
             [
              0,
              "#0d0887"
             ],
             [
              0.1111111111111111,
              "#46039f"
             ],
             [
              0.2222222222222222,
              "#7201a8"
             ],
             [
              0.3333333333333333,
              "#9c179e"
             ],
             [
              0.4444444444444444,
              "#bd3786"
             ],
             [
              0.5555555555555556,
              "#d8576b"
             ],
             [
              0.6666666666666666,
              "#ed7953"
             ],
             [
              0.7777777777777778,
              "#fb9f3a"
             ],
             [
              0.8888888888888888,
              "#fdca26"
             ],
             [
              1,
              "#f0f921"
             ]
            ],
            "type": "contour"
           }
          ],
          "contourcarpet": [
           {
            "colorbar": {
             "outlinewidth": 0,
             "ticks": ""
            },
            "type": "contourcarpet"
           }
          ],
          "heatmap": [
           {
            "colorbar": {
             "outlinewidth": 0,
             "ticks": ""
            },
            "colorscale": [
             [
              0,
              "#0d0887"
             ],
             [
              0.1111111111111111,
              "#46039f"
             ],
             [
              0.2222222222222222,
              "#7201a8"
             ],
             [
              0.3333333333333333,
              "#9c179e"
             ],
             [
              0.4444444444444444,
              "#bd3786"
             ],
             [
              0.5555555555555556,
              "#d8576b"
             ],
             [
              0.6666666666666666,
              "#ed7953"
             ],
             [
              0.7777777777777778,
              "#fb9f3a"
             ],
             [
              0.8888888888888888,
              "#fdca26"
             ],
             [
              1,
              "#f0f921"
             ]
            ],
            "type": "heatmap"
           }
          ],
          "heatmapgl": [
           {
            "colorbar": {
             "outlinewidth": 0,
             "ticks": ""
            },
            "colorscale": [
             [
              0,
              "#0d0887"
             ],
             [
              0.1111111111111111,
              "#46039f"
             ],
             [
              0.2222222222222222,
              "#7201a8"
             ],
             [
              0.3333333333333333,
              "#9c179e"
             ],
             [
              0.4444444444444444,
              "#bd3786"
             ],
             [
              0.5555555555555556,
              "#d8576b"
             ],
             [
              0.6666666666666666,
              "#ed7953"
             ],
             [
              0.7777777777777778,
              "#fb9f3a"
             ],
             [
              0.8888888888888888,
              "#fdca26"
             ],
             [
              1,
              "#f0f921"
             ]
            ],
            "type": "heatmapgl"
           }
          ],
          "histogram": [
           {
            "marker": {
             "pattern": {
              "fillmode": "overlay",
              "size": 10,
              "solidity": 0.2
             }
            },
            "type": "histogram"
           }
          ],
          "histogram2d": [
           {
            "colorbar": {
             "outlinewidth": 0,
             "ticks": ""
            },
            "colorscale": [
             [
              0,
              "#0d0887"
             ],
             [
              0.1111111111111111,
              "#46039f"
             ],
             [
              0.2222222222222222,
              "#7201a8"
             ],
             [
              0.3333333333333333,
              "#9c179e"
             ],
             [
              0.4444444444444444,
              "#bd3786"
             ],
             [
              0.5555555555555556,
              "#d8576b"
             ],
             [
              0.6666666666666666,
              "#ed7953"
             ],
             [
              0.7777777777777778,
              "#fb9f3a"
             ],
             [
              0.8888888888888888,
              "#fdca26"
             ],
             [
              1,
              "#f0f921"
             ]
            ],
            "type": "histogram2d"
           }
          ],
          "histogram2dcontour": [
           {
            "colorbar": {
             "outlinewidth": 0,
             "ticks": ""
            },
            "colorscale": [
             [
              0,
              "#0d0887"
             ],
             [
              0.1111111111111111,
              "#46039f"
             ],
             [
              0.2222222222222222,
              "#7201a8"
             ],
             [
              0.3333333333333333,
              "#9c179e"
             ],
             [
              0.4444444444444444,
              "#bd3786"
             ],
             [
              0.5555555555555556,
              "#d8576b"
             ],
             [
              0.6666666666666666,
              "#ed7953"
             ],
             [
              0.7777777777777778,
              "#fb9f3a"
             ],
             [
              0.8888888888888888,
              "#fdca26"
             ],
             [
              1,
              "#f0f921"
             ]
            ],
            "type": "histogram2dcontour"
           }
          ],
          "mesh3d": [
           {
            "colorbar": {
             "outlinewidth": 0,
             "ticks": ""
            },
            "type": "mesh3d"
           }
          ],
          "parcoords": [
           {
            "line": {
             "colorbar": {
              "outlinewidth": 0,
              "ticks": ""
             }
            },
            "type": "parcoords"
           }
          ],
          "pie": [
           {
            "automargin": true,
            "type": "pie"
           }
          ],
          "scatter": [
           {
            "fillpattern": {
             "fillmode": "overlay",
             "size": 10,
             "solidity": 0.2
            },
            "type": "scatter"
           }
          ],
          "scatter3d": [
           {
            "line": {
             "colorbar": {
              "outlinewidth": 0,
              "ticks": ""
             }
            },
            "marker": {
             "colorbar": {
              "outlinewidth": 0,
              "ticks": ""
             }
            },
            "type": "scatter3d"
           }
          ],
          "scattercarpet": [
           {
            "marker": {
             "colorbar": {
              "outlinewidth": 0,
              "ticks": ""
             }
            },
            "type": "scattercarpet"
           }
          ],
          "scattergeo": [
           {
            "marker": {
             "colorbar": {
              "outlinewidth": 0,
              "ticks": ""
             }
            },
            "type": "scattergeo"
           }
          ],
          "scattergl": [
           {
            "marker": {
             "colorbar": {
              "outlinewidth": 0,
              "ticks": ""
             }
            },
            "type": "scattergl"
           }
          ],
          "scattermapbox": [
           {
            "marker": {
             "colorbar": {
              "outlinewidth": 0,
              "ticks": ""
             }
            },
            "type": "scattermapbox"
           }
          ],
          "scatterpolar": [
           {
            "marker": {
             "colorbar": {
              "outlinewidth": 0,
              "ticks": ""
             }
            },
            "type": "scatterpolar"
           }
          ],
          "scatterpolargl": [
           {
            "marker": {
             "colorbar": {
              "outlinewidth": 0,
              "ticks": ""
             }
            },
            "type": "scatterpolargl"
           }
          ],
          "scatterternary": [
           {
            "marker": {
             "colorbar": {
              "outlinewidth": 0,
              "ticks": ""
             }
            },
            "type": "scatterternary"
           }
          ],
          "surface": [
           {
            "colorbar": {
             "outlinewidth": 0,
             "ticks": ""
            },
            "colorscale": [
             [
              0,
              "#0d0887"
             ],
             [
              0.1111111111111111,
              "#46039f"
             ],
             [
              0.2222222222222222,
              "#7201a8"
             ],
             [
              0.3333333333333333,
              "#9c179e"
             ],
             [
              0.4444444444444444,
              "#bd3786"
             ],
             [
              0.5555555555555556,
              "#d8576b"
             ],
             [
              0.6666666666666666,
              "#ed7953"
             ],
             [
              0.7777777777777778,
              "#fb9f3a"
             ],
             [
              0.8888888888888888,
              "#fdca26"
             ],
             [
              1,
              "#f0f921"
             ]
            ],
            "type": "surface"
           }
          ],
          "table": [
           {
            "cells": {
             "fill": {
              "color": "#EBF0F8"
             },
             "line": {
              "color": "white"
             }
            },
            "header": {
             "fill": {
              "color": "#C8D4E3"
             },
             "line": {
              "color": "white"
             }
            },
            "type": "table"
           }
          ]
         },
         "layout": {
          "annotationdefaults": {
           "arrowcolor": "#2a3f5f",
           "arrowhead": 0,
           "arrowwidth": 1
          },
          "autotypenumbers": "strict",
          "coloraxis": {
           "colorbar": {
            "outlinewidth": 0,
            "ticks": ""
           }
          },
          "colorscale": {
           "diverging": [
            [
             0,
             "#8e0152"
            ],
            [
             0.1,
             "#c51b7d"
            ],
            [
             0.2,
             "#de77ae"
            ],
            [
             0.3,
             "#f1b6da"
            ],
            [
             0.4,
             "#fde0ef"
            ],
            [
             0.5,
             "#f7f7f7"
            ],
            [
             0.6,
             "#e6f5d0"
            ],
            [
             0.7,
             "#b8e186"
            ],
            [
             0.8,
             "#7fbc41"
            ],
            [
             0.9,
             "#4d9221"
            ],
            [
             1,
             "#276419"
            ]
           ],
           "sequential": [
            [
             0,
             "#0d0887"
            ],
            [
             0.1111111111111111,
             "#46039f"
            ],
            [
             0.2222222222222222,
             "#7201a8"
            ],
            [
             0.3333333333333333,
             "#9c179e"
            ],
            [
             0.4444444444444444,
             "#bd3786"
            ],
            [
             0.5555555555555556,
             "#d8576b"
            ],
            [
             0.6666666666666666,
             "#ed7953"
            ],
            [
             0.7777777777777778,
             "#fb9f3a"
            ],
            [
             0.8888888888888888,
             "#fdca26"
            ],
            [
             1,
             "#f0f921"
            ]
           ],
           "sequentialminus": [
            [
             0,
             "#0d0887"
            ],
            [
             0.1111111111111111,
             "#46039f"
            ],
            [
             0.2222222222222222,
             "#7201a8"
            ],
            [
             0.3333333333333333,
             "#9c179e"
            ],
            [
             0.4444444444444444,
             "#bd3786"
            ],
            [
             0.5555555555555556,
             "#d8576b"
            ],
            [
             0.6666666666666666,
             "#ed7953"
            ],
            [
             0.7777777777777778,
             "#fb9f3a"
            ],
            [
             0.8888888888888888,
             "#fdca26"
            ],
            [
             1,
             "#f0f921"
            ]
           ]
          },
          "colorway": [
           "#636efa",
           "#EF553B",
           "#00cc96",
           "#ab63fa",
           "#FFA15A",
           "#19d3f3",
           "#FF6692",
           "#B6E880",
           "#FF97FF",
           "#FECB52"
          ],
          "font": {
           "color": "#2a3f5f"
          },
          "geo": {
           "bgcolor": "white",
           "lakecolor": "white",
           "landcolor": "#E5ECF6",
           "showlakes": true,
           "showland": true,
           "subunitcolor": "white"
          },
          "hoverlabel": {
           "align": "left"
          },
          "hovermode": "closest",
          "mapbox": {
           "style": "light"
          },
          "paper_bgcolor": "white",
          "plot_bgcolor": "#E5ECF6",
          "polar": {
           "angularaxis": {
            "gridcolor": "white",
            "linecolor": "white",
            "ticks": ""
           },
           "bgcolor": "#E5ECF6",
           "radialaxis": {
            "gridcolor": "white",
            "linecolor": "white",
            "ticks": ""
           }
          },
          "scene": {
           "xaxis": {
            "backgroundcolor": "#E5ECF6",
            "gridcolor": "white",
            "gridwidth": 2,
            "linecolor": "white",
            "showbackground": true,
            "ticks": "",
            "zerolinecolor": "white"
           },
           "yaxis": {
            "backgroundcolor": "#E5ECF6",
            "gridcolor": "white",
            "gridwidth": 2,
            "linecolor": "white",
            "showbackground": true,
            "ticks": "",
            "zerolinecolor": "white"
           },
           "zaxis": {
            "backgroundcolor": "#E5ECF6",
            "gridcolor": "white",
            "gridwidth": 2,
            "linecolor": "white",
            "showbackground": true,
            "ticks": "",
            "zerolinecolor": "white"
           }
          },
          "shapedefaults": {
           "line": {
            "color": "#2a3f5f"
           }
          },
          "ternary": {
           "aaxis": {
            "gridcolor": "white",
            "linecolor": "white",
            "ticks": ""
           },
           "baxis": {
            "gridcolor": "white",
            "linecolor": "white",
            "ticks": ""
           },
           "bgcolor": "#E5ECF6",
           "caxis": {
            "gridcolor": "white",
            "linecolor": "white",
            "ticks": ""
           }
          },
          "title": {
           "x": 0.05
          },
          "xaxis": {
           "automargin": true,
           "gridcolor": "white",
           "linecolor": "white",
           "ticks": "",
           "title": {
            "standoff": 15
           },
           "zerolinecolor": "white",
           "zerolinewidth": 2
          },
          "yaxis": {
           "automargin": true,
           "gridcolor": "white",
           "linecolor": "white",
           "ticks": "",
           "title": {
            "standoff": 15
           },
           "zerolinecolor": "white",
           "zerolinewidth": 2
          }
         }
        },
        "xaxis": {
         "anchor": "y",
         "domain": [
          0,
          1
         ],
         "title": {
          "text": "PAID"
         }
        },
        "yaxis": {
         "anchor": "x",
         "domain": [
          0,
          1
         ],
         "title": {
          "text": "count"
         }
        }
       }
      },
      "text/html": [
       "<div>                            <div id=\"dadb6b4e-3701-4e89-a019-712ef0004c24\" class=\"plotly-graph-div\" style=\"height:525px; width:100%;\"></div>            <script type=\"text/javascript\">                require([\"plotly\"], function(Plotly) {                    window.PLOTLYENV=window.PLOTLYENV || {};                                    if (document.getElementById(\"dadb6b4e-3701-4e89-a019-712ef0004c24\")) {                    Plotly.newPlot(                        \"dadb6b4e-3701-4e89-a019-712ef0004c24\",                        [{\"alignmentgroup\":\"True\",\"bingroup\":\"x\",\"hovertemplate\":\"PAID=%{x}\\u003cbr\\u003ecount=%{y}\\u003cextra\\u003e\\u003c\\u002fextra\\u003e\",\"legendgroup\":\"\",\"marker\":{\"color\":\"#636efa\",\"pattern\":{\"shape\":\"\"}},\"name\":\"\",\"nbinsx\":20,\"offsetgroup\":\"\",\"orientation\":\"v\",\"showlegend\":false,\"x\":[2384.67,650.0,654.0,3890.07,295.99,11756.34,2402.0,296.97,249.1,14833.3,3025.0,2750.0,2612.74,1259.89,824.85,669.5,664.34,408.39,3953.84,3841.66,239.37,30.0,6384.0,4467.92,1541.1,1354.93,1263.51,1045.0,519.75,499.28,365.26,322.34,122.41,10524.64,6854.02,3206.76,2724.04,2269.0,2169.88,1929.81,1061.8,945.8,899.13,7326.67,5301.72,3596.5,2322.72,1944.45,1491.69,1314.4,836.78,479.0,426.19,3112.89,2500.0,1921.22,1472.87,1444.89,1368.76,1346.36,772.23,688.67,362.63,359.41,354.29,262.81,244.11,9377.82,5540.07,3118.5,2495.8,2362.89,2007.78,1816.41,1500.0,1139.6,952.05,746.89,644.87,188.61,117.4,12714.43,10116.07,1949.14,1852.5,1722.82,1539.07,1476.43,1458.13,1119.52,990.07,987.0,782.44,459.0,377.36,319.67,176.07,154.75,8493.76,3809.83,3222.66,1113.38,766.4,663.17,640.4,619.06,419.18,298.62,160.2,105.5,8323.31,6291.84,4904.64,4096.58,3334.65,1755.95,1160.63,1098.37,818.79,651.57,646.79,584.61,417.04,399.9,371.63,365.5,275.43,146.56,14651.31,6754.81,5071.99,4809.52,2884.46,2591.33,2419.75,1321.7,1308.0,981.86,843.98,817.62,712.0,634.48,463.96,462.93,430.38,388.71,112.78,85.0,12151.86,5186.82,4451.39,3968.51,3392.58,1879.51,1792.54,1607.6,1238.0,1130.0,1081.71,1033.84,671.59,361.37,171.7,40.0,3203.35,3060.69,2171.93,1727.85,1550.0,1470.35,1229.01,1010.94,575.36,555.34,533.11,459.1,253.75,148.65,4184.46,4082.49,1846.1,1688.78,1118.91,749.64,725.71,722.02,648.06,593.46,516.81,302.54,300.0,278.55,248.68,131.0,28.46,13058.85,6950.54,2930.0,2112.46,2100.0,1500.0,1386.41,1270.17,1203.81,993.59,903.0,900.0,583.76,580.32,376.46,275.94,91.27,6013.74,4804.22,3179.28,2893.53,1916.21,1209.08,1036.74,986.12,893.03,754.31,740.38,694.91,693.13,564.05,551.78,549.77,497.85,403.3,358.7,284.54,228.0,177.6,177.42,139.79,33137.5,7293.43,3754.51,3495.14,3140.66,2137.4,1971.75,1956.0,1870.58,1650.0,1188.74,1115.89,1088.73,1074.35,1016.43,860.67,831.8,796.8,759.57,668.74,582.62,404.0,393.5,309.67,292.44,221.7,103.75,11511.72,6090.02,1727.33,1235.07,910.01,812.98,562.05,527.34,451.31,332.06,315.53,10527.4,7751.55,5711.53,3804.44,3760.07,2757.83,2565.84,2221.87,2139.9,2000.0,1363.23,1132.41,993.19,964.22,898.55,822.1,761.22,754.56,685.71,622.53,604.95,587.51,490.25,489.73,465.5,329.91,272.01,258.5,4643.8,3523.9,3007.96,2192.98,1752.16,1686.2,1648.41,1381.16,1336.26,1248.01,950.61,945.56,880.82,713.55,645.8,626.38,573.4,488.16,458.0,443.95,253.59,209.83,138.86,100.0,30.0,24624.44,8123.33,5158.65,5035.93,4625.47,1707.92,1694.59,1501.05,1369.74,946.38,825.66,682.85,604.95,585.34,565.02,529.28,388.03,377.54,303.0,300.0,198.98,135.0,47.52,11458.07,8300.31,7827.74,6261.92,5861.5,5381.14,4532.02,3656.77,2928.92,2547.5,2276.5,2017.28,1678.17,1651.86,1482.45,1480.93,1348.93,1189.96,1090.41,940.28,925.47,852.22,417.18,369.02,346.79,244.23,132.0,100.0,14753.58,11288.76,10175.27,6277.84,4939.5,4786.51,3167.49,2572.22,1712.27,1712.13,1396.61,1377.31,1108.42,1001.76,989.59,891.09,882.77,670.77,638.99,546.32,536.11,533.33,464.59,460.36,291.92,257.01,106.0,7487.94,7296.2,4929.65,2532.6,2344.69,1855.85,1812.47,1431.81,1226.28,1122.12,1090.75,1067.57,1012.19,928.2,861.89,809.34,782.9,768.05,698.65,630.11,617.9,594.8,585.74,390.02,291.28,236.53,10077.0,8569.3,6124.34,5335.35,3486.96,3255.88,2985.29,2418.4,2368.69,2007.64,1996.0,1869.49,1600.18,1278.52,1212.85,1039.69,834.12,805.18,676.15,651.18,586.85,315.61,311.32,25.44,9793.42,7620.37,6800.94,4781.43,3944.37,2406.0,1613.41,1340.74,1249.02,1086.9,941.85,909.99,903.99,875.28,738.18,492.22,468.0,443.49,439.22,359.11,8215.8,6208.2,5241.71,3912.49,3230.09,2600.0,2531.24,2038.05,1890.5,1704.54,1145.63,959.52,763.07,746.63,700.0,554.55,545.3,490.6,273.29,189.9,10652.59,5556.75,3403.09,3328.93,2805.73],\"xaxis\":\"x\",\"yaxis\":\"y\",\"type\":\"histogram\"}],                        {\"template\":{\"data\":{\"histogram2dcontour\":[{\"type\":\"histogram2dcontour\",\"colorbar\":{\"outlinewidth\":0,\"ticks\":\"\"},\"colorscale\":[[0.0,\"#0d0887\"],[0.1111111111111111,\"#46039f\"],[0.2222222222222222,\"#7201a8\"],[0.3333333333333333,\"#9c179e\"],[0.4444444444444444,\"#bd3786\"],[0.5555555555555556,\"#d8576b\"],[0.6666666666666666,\"#ed7953\"],[0.7777777777777778,\"#fb9f3a\"],[0.8888888888888888,\"#fdca26\"],[1.0,\"#f0f921\"]]}],\"choropleth\":[{\"type\":\"choropleth\",\"colorbar\":{\"outlinewidth\":0,\"ticks\":\"\"}}],\"histogram2d\":[{\"type\":\"histogram2d\",\"colorbar\":{\"outlinewidth\":0,\"ticks\":\"\"},\"colorscale\":[[0.0,\"#0d0887\"],[0.1111111111111111,\"#46039f\"],[0.2222222222222222,\"#7201a8\"],[0.3333333333333333,\"#9c179e\"],[0.4444444444444444,\"#bd3786\"],[0.5555555555555556,\"#d8576b\"],[0.6666666666666666,\"#ed7953\"],[0.7777777777777778,\"#fb9f3a\"],[0.8888888888888888,\"#fdca26\"],[1.0,\"#f0f921\"]]}],\"heatmap\":[{\"type\":\"heatmap\",\"colorbar\":{\"outlinewidth\":0,\"ticks\":\"\"},\"colorscale\":[[0.0,\"#0d0887\"],[0.1111111111111111,\"#46039f\"],[0.2222222222222222,\"#7201a8\"],[0.3333333333333333,\"#9c179e\"],[0.4444444444444444,\"#bd3786\"],[0.5555555555555556,\"#d8576b\"],[0.6666666666666666,\"#ed7953\"],[0.7777777777777778,\"#fb9f3a\"],[0.8888888888888888,\"#fdca26\"],[1.0,\"#f0f921\"]]}],\"heatmapgl\":[{\"type\":\"heatmapgl\",\"colorbar\":{\"outlinewidth\":0,\"ticks\":\"\"},\"colorscale\":[[0.0,\"#0d0887\"],[0.1111111111111111,\"#46039f\"],[0.2222222222222222,\"#7201a8\"],[0.3333333333333333,\"#9c179e\"],[0.4444444444444444,\"#bd3786\"],[0.5555555555555556,\"#d8576b\"],[0.6666666666666666,\"#ed7953\"],[0.7777777777777778,\"#fb9f3a\"],[0.8888888888888888,\"#fdca26\"],[1.0,\"#f0f921\"]]}],\"contourcarpet\":[{\"type\":\"contourcarpet\",\"colorbar\":{\"outlinewidth\":0,\"ticks\":\"\"}}],\"contour\":[{\"type\":\"contour\",\"colorbar\":{\"outlinewidth\":0,\"ticks\":\"\"},\"colorscale\":[[0.0,\"#0d0887\"],[0.1111111111111111,\"#46039f\"],[0.2222222222222222,\"#7201a8\"],[0.3333333333333333,\"#9c179e\"],[0.4444444444444444,\"#bd3786\"],[0.5555555555555556,\"#d8576b\"],[0.6666666666666666,\"#ed7953\"],[0.7777777777777778,\"#fb9f3a\"],[0.8888888888888888,\"#fdca26\"],[1.0,\"#f0f921\"]]}],\"surface\":[{\"type\":\"surface\",\"colorbar\":{\"outlinewidth\":0,\"ticks\":\"\"},\"colorscale\":[[0.0,\"#0d0887\"],[0.1111111111111111,\"#46039f\"],[0.2222222222222222,\"#7201a8\"],[0.3333333333333333,\"#9c179e\"],[0.4444444444444444,\"#bd3786\"],[0.5555555555555556,\"#d8576b\"],[0.6666666666666666,\"#ed7953\"],[0.7777777777777778,\"#fb9f3a\"],[0.8888888888888888,\"#fdca26\"],[1.0,\"#f0f921\"]]}],\"mesh3d\":[{\"type\":\"mesh3d\",\"colorbar\":{\"outlinewidth\":0,\"ticks\":\"\"}}],\"scatter\":[{\"fillpattern\":{\"fillmode\":\"overlay\",\"size\":10,\"solidity\":0.2},\"type\":\"scatter\"}],\"parcoords\":[{\"type\":\"parcoords\",\"line\":{\"colorbar\":{\"outlinewidth\":0,\"ticks\":\"\"}}}],\"scatterpolargl\":[{\"type\":\"scatterpolargl\",\"marker\":{\"colorbar\":{\"outlinewidth\":0,\"ticks\":\"\"}}}],\"bar\":[{\"error_x\":{\"color\":\"#2a3f5f\"},\"error_y\":{\"color\":\"#2a3f5f\"},\"marker\":{\"line\":{\"color\":\"#E5ECF6\",\"width\":0.5},\"pattern\":{\"fillmode\":\"overlay\",\"size\":10,\"solidity\":0.2}},\"type\":\"bar\"}],\"scattergeo\":[{\"type\":\"scattergeo\",\"marker\":{\"colorbar\":{\"outlinewidth\":0,\"ticks\":\"\"}}}],\"scatterpolar\":[{\"type\":\"scatterpolar\",\"marker\":{\"colorbar\":{\"outlinewidth\":0,\"ticks\":\"\"}}}],\"histogram\":[{\"marker\":{\"pattern\":{\"fillmode\":\"overlay\",\"size\":10,\"solidity\":0.2}},\"type\":\"histogram\"}],\"scattergl\":[{\"type\":\"scattergl\",\"marker\":{\"colorbar\":{\"outlinewidth\":0,\"ticks\":\"\"}}}],\"scatter3d\":[{\"type\":\"scatter3d\",\"line\":{\"colorbar\":{\"outlinewidth\":0,\"ticks\":\"\"}},\"marker\":{\"colorbar\":{\"outlinewidth\":0,\"ticks\":\"\"}}}],\"scattermapbox\":[{\"type\":\"scattermapbox\",\"marker\":{\"colorbar\":{\"outlinewidth\":0,\"ticks\":\"\"}}}],\"scatterternary\":[{\"type\":\"scatterternary\",\"marker\":{\"colorbar\":{\"outlinewidth\":0,\"ticks\":\"\"}}}],\"scattercarpet\":[{\"type\":\"scattercarpet\",\"marker\":{\"colorbar\":{\"outlinewidth\":0,\"ticks\":\"\"}}}],\"carpet\":[{\"aaxis\":{\"endlinecolor\":\"#2a3f5f\",\"gridcolor\":\"white\",\"linecolor\":\"white\",\"minorgridcolor\":\"white\",\"startlinecolor\":\"#2a3f5f\"},\"baxis\":{\"endlinecolor\":\"#2a3f5f\",\"gridcolor\":\"white\",\"linecolor\":\"white\",\"minorgridcolor\":\"white\",\"startlinecolor\":\"#2a3f5f\"},\"type\":\"carpet\"}],\"table\":[{\"cells\":{\"fill\":{\"color\":\"#EBF0F8\"},\"line\":{\"color\":\"white\"}},\"header\":{\"fill\":{\"color\":\"#C8D4E3\"},\"line\":{\"color\":\"white\"}},\"type\":\"table\"}],\"barpolar\":[{\"marker\":{\"line\":{\"color\":\"#E5ECF6\",\"width\":0.5},\"pattern\":{\"fillmode\":\"overlay\",\"size\":10,\"solidity\":0.2}},\"type\":\"barpolar\"}],\"pie\":[{\"automargin\":true,\"type\":\"pie\"}]},\"layout\":{\"autotypenumbers\":\"strict\",\"colorway\":[\"#636efa\",\"#EF553B\",\"#00cc96\",\"#ab63fa\",\"#FFA15A\",\"#19d3f3\",\"#FF6692\",\"#B6E880\",\"#FF97FF\",\"#FECB52\"],\"font\":{\"color\":\"#2a3f5f\"},\"hovermode\":\"closest\",\"hoverlabel\":{\"align\":\"left\"},\"paper_bgcolor\":\"white\",\"plot_bgcolor\":\"#E5ECF6\",\"polar\":{\"bgcolor\":\"#E5ECF6\",\"angularaxis\":{\"gridcolor\":\"white\",\"linecolor\":\"white\",\"ticks\":\"\"},\"radialaxis\":{\"gridcolor\":\"white\",\"linecolor\":\"white\",\"ticks\":\"\"}},\"ternary\":{\"bgcolor\":\"#E5ECF6\",\"aaxis\":{\"gridcolor\":\"white\",\"linecolor\":\"white\",\"ticks\":\"\"},\"baxis\":{\"gridcolor\":\"white\",\"linecolor\":\"white\",\"ticks\":\"\"},\"caxis\":{\"gridcolor\":\"white\",\"linecolor\":\"white\",\"ticks\":\"\"}},\"coloraxis\":{\"colorbar\":{\"outlinewidth\":0,\"ticks\":\"\"}},\"colorscale\":{\"sequential\":[[0.0,\"#0d0887\"],[0.1111111111111111,\"#46039f\"],[0.2222222222222222,\"#7201a8\"],[0.3333333333333333,\"#9c179e\"],[0.4444444444444444,\"#bd3786\"],[0.5555555555555556,\"#d8576b\"],[0.6666666666666666,\"#ed7953\"],[0.7777777777777778,\"#fb9f3a\"],[0.8888888888888888,\"#fdca26\"],[1.0,\"#f0f921\"]],\"sequentialminus\":[[0.0,\"#0d0887\"],[0.1111111111111111,\"#46039f\"],[0.2222222222222222,\"#7201a8\"],[0.3333333333333333,\"#9c179e\"],[0.4444444444444444,\"#bd3786\"],[0.5555555555555556,\"#d8576b\"],[0.6666666666666666,\"#ed7953\"],[0.7777777777777778,\"#fb9f3a\"],[0.8888888888888888,\"#fdca26\"],[1.0,\"#f0f921\"]],\"diverging\":[[0,\"#8e0152\"],[0.1,\"#c51b7d\"],[0.2,\"#de77ae\"],[0.3,\"#f1b6da\"],[0.4,\"#fde0ef\"],[0.5,\"#f7f7f7\"],[0.6,\"#e6f5d0\"],[0.7,\"#b8e186\"],[0.8,\"#7fbc41\"],[0.9,\"#4d9221\"],[1,\"#276419\"]]},\"xaxis\":{\"gridcolor\":\"white\",\"linecolor\":\"white\",\"ticks\":\"\",\"title\":{\"standoff\":15},\"zerolinecolor\":\"white\",\"automargin\":true,\"zerolinewidth\":2},\"yaxis\":{\"gridcolor\":\"white\",\"linecolor\":\"white\",\"ticks\":\"\",\"title\":{\"standoff\":15},\"zerolinecolor\":\"white\",\"automargin\":true,\"zerolinewidth\":2},\"scene\":{\"xaxis\":{\"backgroundcolor\":\"#E5ECF6\",\"gridcolor\":\"white\",\"linecolor\":\"white\",\"showbackground\":true,\"ticks\":\"\",\"zerolinecolor\":\"white\",\"gridwidth\":2},\"yaxis\":{\"backgroundcolor\":\"#E5ECF6\",\"gridcolor\":\"white\",\"linecolor\":\"white\",\"showbackground\":true,\"ticks\":\"\",\"zerolinecolor\":\"white\",\"gridwidth\":2},\"zaxis\":{\"backgroundcolor\":\"#E5ECF6\",\"gridcolor\":\"white\",\"linecolor\":\"white\",\"showbackground\":true,\"ticks\":\"\",\"zerolinecolor\":\"white\",\"gridwidth\":2}},\"shapedefaults\":{\"line\":{\"color\":\"#2a3f5f\"}},\"annotationdefaults\":{\"arrowcolor\":\"#2a3f5f\",\"arrowhead\":0,\"arrowwidth\":1},\"geo\":{\"bgcolor\":\"white\",\"landcolor\":\"#E5ECF6\",\"subunitcolor\":\"white\",\"showland\":true,\"showlakes\":true,\"lakecolor\":\"white\"},\"title\":{\"x\":0.05},\"mapbox\":{\"style\":\"light\"}}},\"xaxis\":{\"anchor\":\"y\",\"domain\":[0.0,1.0],\"title\":{\"text\":\"PAID\"}},\"yaxis\":{\"anchor\":\"x\",\"domain\":[0.0,1.0],\"title\":{\"text\":\"count\"}},\"legend\":{\"tracegroupgap\":0},\"margin\":{\"t\":60},\"barmode\":\"relative\"},                        {\"responsive\": true}                    ).then(function(){\n",
       "                            \n",
       "var gd = document.getElementById('dadb6b4e-3701-4e89-a019-712ef0004c24');\n",
       "var x = new MutationObserver(function (mutations, observer) {{\n",
       "        var display = window.getComputedStyle(gd).display;\n",
       "        if (!display || display === 'none') {{\n",
       "            console.log([gd, 'removed!']);\n",
       "            Plotly.purge(gd);\n",
       "            observer.disconnect();\n",
       "        }}\n",
       "}});\n",
       "\n",
       "// Listen for the removal of the full notebook cells\n",
       "var notebookContainer = gd.closest('#notebook-container');\n",
       "if (notebookContainer) {{\n",
       "    x.observe(notebookContainer, {childList: true});\n",
       "}}\n",
       "\n",
       "// Listen for the clearing of the current output cell\n",
       "var outputEl = gd.closest('.output');\n",
       "if (outputEl) {{\n",
       "    x.observe(outputEl, {childList: true});\n",
       "}}\n",
       "\n",
       "                        })                };                });            </script>        </div>"
      ]
     },
     "metadata": {},
     "output_type": "display_data"
    }
   ],
   "source": []
  },
  {
   "cell_type": "code",
   "execution_count": 277,
   "id": "e92f1707",
   "metadata": {},
   "outputs": [
    {
     "data": {
      "application/vnd.plotly.v1+json": {
       "config": {
        "plotlyServerURL": "https://plot.ly"
       },
       "data": [
        {
         "alignmentgroup": "True",
         "hovertemplate": "PAID=%{x}<extra></extra>",
         "legendgroup": "",
         "marker": {
          "color": "#636efa"
         },
         "name": "",
         "notched": false,
         "offsetgroup": "",
         "orientation": "h",
         "showlegend": false,
         "type": "box",
         "x": [
          2384.67,
          650,
          654,
          3890.07,
          295.99,
          11756.34,
          2402,
          296.97,
          249.1,
          14833.3,
          3025,
          2750,
          2612.74,
          1259.89,
          824.85,
          669.5,
          664.34,
          408.39,
          3953.84,
          3841.66,
          239.37,
          30,
          6384,
          4467.92,
          1541.1,
          1354.93,
          1263.51,
          1045,
          519.75,
          499.28,
          365.26,
          322.34,
          122.41,
          10524.64,
          6854.02,
          3206.76,
          2724.04,
          2269,
          2169.88,
          1929.81,
          1061.8,
          945.8,
          899.13,
          7326.67,
          5301.72,
          3596.5,
          2322.72,
          1944.45,
          1491.69,
          1314.4,
          836.78,
          479,
          426.19,
          3112.89,
          2500,
          1921.22,
          1472.87,
          1444.89,
          1368.76,
          1346.36,
          772.23,
          688.67,
          362.63,
          359.41,
          354.29,
          262.81,
          244.11,
          9377.82,
          5540.07,
          3118.5,
          2495.8,
          2362.89,
          2007.78,
          1816.41,
          1500,
          1139.6,
          952.05,
          746.89,
          644.87,
          188.61,
          117.4,
          12714.43,
          10116.07,
          1949.14,
          1852.5,
          1722.82,
          1539.07,
          1476.43,
          1458.13,
          1119.52,
          990.07,
          987,
          782.44,
          459,
          377.36,
          319.67,
          176.07,
          154.75,
          8493.76,
          3809.83,
          3222.66,
          1113.38,
          766.4,
          663.17,
          640.4,
          619.06,
          419.18,
          298.62,
          160.2,
          105.5,
          8323.31,
          6291.84,
          4904.64,
          4096.58,
          3334.65,
          1755.95,
          1160.63,
          1098.37,
          818.79,
          651.57,
          646.79,
          584.61,
          417.04,
          399.9,
          371.63,
          365.5,
          275.43,
          146.56,
          14651.31,
          6754.81,
          5071.99,
          4809.52,
          2884.46,
          2591.33,
          2419.75,
          1321.7,
          1308,
          981.86,
          843.98,
          817.62,
          712,
          634.48,
          463.96,
          462.93,
          430.38,
          388.71,
          112.78,
          85,
          12151.86,
          5186.82,
          4451.39,
          3968.51,
          3392.58,
          1879.51,
          1792.54,
          1607.6,
          1238,
          1130,
          1081.71,
          1033.84,
          671.59,
          361.37,
          171.7,
          40,
          3203.35,
          3060.69,
          2171.93,
          1727.85,
          1550,
          1470.35,
          1229.01,
          1010.94,
          575.36,
          555.34,
          533.11,
          459.1,
          253.75,
          148.65,
          4184.46,
          4082.49,
          1846.1,
          1688.78,
          1118.91,
          749.64,
          725.71,
          722.02,
          648.06,
          593.46,
          516.81,
          302.54,
          300,
          278.55,
          248.68,
          131,
          28.46,
          13058.85,
          6950.54,
          2930,
          2112.46,
          2100,
          1500,
          1386.41,
          1270.17,
          1203.81,
          993.59,
          903,
          900,
          583.76,
          580.32,
          376.46,
          275.94,
          91.27,
          6013.74,
          4804.22,
          3179.28,
          2893.53,
          1916.21,
          1209.08,
          1036.74,
          986.12,
          893.03,
          754.31,
          740.38,
          694.91,
          693.13,
          564.05,
          551.78,
          549.77,
          497.85,
          403.3,
          358.7,
          284.54,
          228,
          177.6,
          177.42,
          139.79,
          33137.5,
          7293.43,
          3754.51,
          3495.14,
          3140.66,
          2137.4,
          1971.75,
          1956,
          1870.58,
          1650,
          1188.74,
          1115.89,
          1088.73,
          1074.35,
          1016.43,
          860.67,
          831.8,
          796.8,
          759.57,
          668.74,
          582.62,
          404,
          393.5,
          309.67,
          292.44,
          221.7,
          103.75,
          11511.72,
          6090.02,
          1727.33,
          1235.07,
          910.01,
          812.98,
          562.05,
          527.34,
          451.31,
          332.06,
          315.53,
          10527.4,
          7751.55,
          5711.53,
          3804.44,
          3760.07,
          2757.83,
          2565.84,
          2221.87,
          2139.9,
          2000,
          1363.23,
          1132.41,
          993.19,
          964.22,
          898.55,
          822.1,
          761.22,
          754.56,
          685.71,
          622.53,
          604.95,
          587.51,
          490.25,
          489.73,
          465.5,
          329.91,
          272.01,
          258.5,
          4643.8,
          3523.9,
          3007.96,
          2192.98,
          1752.16,
          1686.2,
          1648.41,
          1381.16,
          1336.26,
          1248.01,
          950.61,
          945.56,
          880.82,
          713.55,
          645.8,
          626.38,
          573.4,
          488.16,
          458,
          443.95,
          253.59,
          209.83,
          138.86,
          100,
          30,
          24624.44,
          8123.33,
          5158.65,
          5035.93,
          4625.47,
          1707.92,
          1694.59,
          1501.05,
          1369.74,
          946.38,
          825.66,
          682.85,
          604.95,
          585.34,
          565.02,
          529.28,
          388.03,
          377.54,
          303,
          300,
          198.98,
          135,
          47.52,
          11458.07,
          8300.31,
          7827.74,
          6261.92,
          5861.5,
          5381.14,
          4532.02,
          3656.77,
          2928.92,
          2547.5,
          2276.5,
          2017.28,
          1678.17,
          1651.86,
          1482.45,
          1480.93,
          1348.93,
          1189.96,
          1090.41,
          940.28,
          925.47,
          852.22,
          417.18,
          369.02,
          346.79,
          244.23,
          132,
          100,
          14753.58,
          11288.76,
          10175.27,
          6277.84,
          4939.5,
          4786.51,
          3167.49,
          2572.22,
          1712.27,
          1712.13,
          1396.61,
          1377.31,
          1108.42,
          1001.76,
          989.59,
          891.09,
          882.77,
          670.77,
          638.99,
          546.32,
          536.11,
          533.33,
          464.59,
          460.36,
          291.92,
          257.01,
          106,
          7487.94,
          7296.2,
          4929.65,
          2532.6,
          2344.69,
          1855.85,
          1812.47,
          1431.81,
          1226.28,
          1122.12,
          1090.75,
          1067.57,
          1012.19,
          928.2,
          861.89,
          809.34,
          782.9,
          768.05,
          698.65,
          630.11,
          617.9,
          594.8,
          585.74,
          390.02,
          291.28,
          236.53,
          10077,
          8569.3,
          6124.34,
          5335.35,
          3486.96,
          3255.88,
          2985.29,
          2418.4,
          2368.69,
          2007.64,
          1996,
          1869.49,
          1600.18,
          1278.52,
          1212.85,
          1039.69,
          834.12,
          805.18,
          676.15,
          651.18,
          586.85,
          315.61,
          311.32,
          25.44,
          9793.42,
          7620.37,
          6800.94,
          4781.43,
          3944.37,
          2406,
          1613.41,
          1340.74,
          1249.02,
          1086.9,
          941.85,
          909.99,
          903.99,
          875.28,
          738.18,
          492.22,
          468,
          443.49,
          439.22,
          359.11,
          8215.8,
          6208.2,
          5241.71,
          3912.49,
          3230.09,
          2600,
          2531.24,
          2038.05,
          1890.5,
          1704.54,
          1145.63,
          959.52,
          763.07,
          746.63,
          700,
          554.55,
          545.3,
          490.6,
          273.29,
          189.9,
          10652.59,
          5556.75,
          3403.09,
          3328.93,
          2805.73
         ],
         "x0": " ",
         "xaxis": "x",
         "y0": " ",
         "yaxis": "y"
        }
       ],
       "layout": {
        "boxmode": "group",
        "legend": {
         "tracegroupgap": 0
        },
        "margin": {
         "t": 60
        },
        "template": {
         "data": {
          "bar": [
           {
            "error_x": {
             "color": "#2a3f5f"
            },
            "error_y": {
             "color": "#2a3f5f"
            },
            "marker": {
             "line": {
              "color": "#E5ECF6",
              "width": 0.5
             },
             "pattern": {
              "fillmode": "overlay",
              "size": 10,
              "solidity": 0.2
             }
            },
            "type": "bar"
           }
          ],
          "barpolar": [
           {
            "marker": {
             "line": {
              "color": "#E5ECF6",
              "width": 0.5
             },
             "pattern": {
              "fillmode": "overlay",
              "size": 10,
              "solidity": 0.2
             }
            },
            "type": "barpolar"
           }
          ],
          "carpet": [
           {
            "aaxis": {
             "endlinecolor": "#2a3f5f",
             "gridcolor": "white",
             "linecolor": "white",
             "minorgridcolor": "white",
             "startlinecolor": "#2a3f5f"
            },
            "baxis": {
             "endlinecolor": "#2a3f5f",
             "gridcolor": "white",
             "linecolor": "white",
             "minorgridcolor": "white",
             "startlinecolor": "#2a3f5f"
            },
            "type": "carpet"
           }
          ],
          "choropleth": [
           {
            "colorbar": {
             "outlinewidth": 0,
             "ticks": ""
            },
            "type": "choropleth"
           }
          ],
          "contour": [
           {
            "colorbar": {
             "outlinewidth": 0,
             "ticks": ""
            },
            "colorscale": [
             [
              0,
              "#0d0887"
             ],
             [
              0.1111111111111111,
              "#46039f"
             ],
             [
              0.2222222222222222,
              "#7201a8"
             ],
             [
              0.3333333333333333,
              "#9c179e"
             ],
             [
              0.4444444444444444,
              "#bd3786"
             ],
             [
              0.5555555555555556,
              "#d8576b"
             ],
             [
              0.6666666666666666,
              "#ed7953"
             ],
             [
              0.7777777777777778,
              "#fb9f3a"
             ],
             [
              0.8888888888888888,
              "#fdca26"
             ],
             [
              1,
              "#f0f921"
             ]
            ],
            "type": "contour"
           }
          ],
          "contourcarpet": [
           {
            "colorbar": {
             "outlinewidth": 0,
             "ticks": ""
            },
            "type": "contourcarpet"
           }
          ],
          "heatmap": [
           {
            "colorbar": {
             "outlinewidth": 0,
             "ticks": ""
            },
            "colorscale": [
             [
              0,
              "#0d0887"
             ],
             [
              0.1111111111111111,
              "#46039f"
             ],
             [
              0.2222222222222222,
              "#7201a8"
             ],
             [
              0.3333333333333333,
              "#9c179e"
             ],
             [
              0.4444444444444444,
              "#bd3786"
             ],
             [
              0.5555555555555556,
              "#d8576b"
             ],
             [
              0.6666666666666666,
              "#ed7953"
             ],
             [
              0.7777777777777778,
              "#fb9f3a"
             ],
             [
              0.8888888888888888,
              "#fdca26"
             ],
             [
              1,
              "#f0f921"
             ]
            ],
            "type": "heatmap"
           }
          ],
          "heatmapgl": [
           {
            "colorbar": {
             "outlinewidth": 0,
             "ticks": ""
            },
            "colorscale": [
             [
              0,
              "#0d0887"
             ],
             [
              0.1111111111111111,
              "#46039f"
             ],
             [
              0.2222222222222222,
              "#7201a8"
             ],
             [
              0.3333333333333333,
              "#9c179e"
             ],
             [
              0.4444444444444444,
              "#bd3786"
             ],
             [
              0.5555555555555556,
              "#d8576b"
             ],
             [
              0.6666666666666666,
              "#ed7953"
             ],
             [
              0.7777777777777778,
              "#fb9f3a"
             ],
             [
              0.8888888888888888,
              "#fdca26"
             ],
             [
              1,
              "#f0f921"
             ]
            ],
            "type": "heatmapgl"
           }
          ],
          "histogram": [
           {
            "marker": {
             "pattern": {
              "fillmode": "overlay",
              "size": 10,
              "solidity": 0.2
             }
            },
            "type": "histogram"
           }
          ],
          "histogram2d": [
           {
            "colorbar": {
             "outlinewidth": 0,
             "ticks": ""
            },
            "colorscale": [
             [
              0,
              "#0d0887"
             ],
             [
              0.1111111111111111,
              "#46039f"
             ],
             [
              0.2222222222222222,
              "#7201a8"
             ],
             [
              0.3333333333333333,
              "#9c179e"
             ],
             [
              0.4444444444444444,
              "#bd3786"
             ],
             [
              0.5555555555555556,
              "#d8576b"
             ],
             [
              0.6666666666666666,
              "#ed7953"
             ],
             [
              0.7777777777777778,
              "#fb9f3a"
             ],
             [
              0.8888888888888888,
              "#fdca26"
             ],
             [
              1,
              "#f0f921"
             ]
            ],
            "type": "histogram2d"
           }
          ],
          "histogram2dcontour": [
           {
            "colorbar": {
             "outlinewidth": 0,
             "ticks": ""
            },
            "colorscale": [
             [
              0,
              "#0d0887"
             ],
             [
              0.1111111111111111,
              "#46039f"
             ],
             [
              0.2222222222222222,
              "#7201a8"
             ],
             [
              0.3333333333333333,
              "#9c179e"
             ],
             [
              0.4444444444444444,
              "#bd3786"
             ],
             [
              0.5555555555555556,
              "#d8576b"
             ],
             [
              0.6666666666666666,
              "#ed7953"
             ],
             [
              0.7777777777777778,
              "#fb9f3a"
             ],
             [
              0.8888888888888888,
              "#fdca26"
             ],
             [
              1,
              "#f0f921"
             ]
            ],
            "type": "histogram2dcontour"
           }
          ],
          "mesh3d": [
           {
            "colorbar": {
             "outlinewidth": 0,
             "ticks": ""
            },
            "type": "mesh3d"
           }
          ],
          "parcoords": [
           {
            "line": {
             "colorbar": {
              "outlinewidth": 0,
              "ticks": ""
             }
            },
            "type": "parcoords"
           }
          ],
          "pie": [
           {
            "automargin": true,
            "type": "pie"
           }
          ],
          "scatter": [
           {
            "fillpattern": {
             "fillmode": "overlay",
             "size": 10,
             "solidity": 0.2
            },
            "type": "scatter"
           }
          ],
          "scatter3d": [
           {
            "line": {
             "colorbar": {
              "outlinewidth": 0,
              "ticks": ""
             }
            },
            "marker": {
             "colorbar": {
              "outlinewidth": 0,
              "ticks": ""
             }
            },
            "type": "scatter3d"
           }
          ],
          "scattercarpet": [
           {
            "marker": {
             "colorbar": {
              "outlinewidth": 0,
              "ticks": ""
             }
            },
            "type": "scattercarpet"
           }
          ],
          "scattergeo": [
           {
            "marker": {
             "colorbar": {
              "outlinewidth": 0,
              "ticks": ""
             }
            },
            "type": "scattergeo"
           }
          ],
          "scattergl": [
           {
            "marker": {
             "colorbar": {
              "outlinewidth": 0,
              "ticks": ""
             }
            },
            "type": "scattergl"
           }
          ],
          "scattermapbox": [
           {
            "marker": {
             "colorbar": {
              "outlinewidth": 0,
              "ticks": ""
             }
            },
            "type": "scattermapbox"
           }
          ],
          "scatterpolar": [
           {
            "marker": {
             "colorbar": {
              "outlinewidth": 0,
              "ticks": ""
             }
            },
            "type": "scatterpolar"
           }
          ],
          "scatterpolargl": [
           {
            "marker": {
             "colorbar": {
              "outlinewidth": 0,
              "ticks": ""
             }
            },
            "type": "scatterpolargl"
           }
          ],
          "scatterternary": [
           {
            "marker": {
             "colorbar": {
              "outlinewidth": 0,
              "ticks": ""
             }
            },
            "type": "scatterternary"
           }
          ],
          "surface": [
           {
            "colorbar": {
             "outlinewidth": 0,
             "ticks": ""
            },
            "colorscale": [
             [
              0,
              "#0d0887"
             ],
             [
              0.1111111111111111,
              "#46039f"
             ],
             [
              0.2222222222222222,
              "#7201a8"
             ],
             [
              0.3333333333333333,
              "#9c179e"
             ],
             [
              0.4444444444444444,
              "#bd3786"
             ],
             [
              0.5555555555555556,
              "#d8576b"
             ],
             [
              0.6666666666666666,
              "#ed7953"
             ],
             [
              0.7777777777777778,
              "#fb9f3a"
             ],
             [
              0.8888888888888888,
              "#fdca26"
             ],
             [
              1,
              "#f0f921"
             ]
            ],
            "type": "surface"
           }
          ],
          "table": [
           {
            "cells": {
             "fill": {
              "color": "#EBF0F8"
             },
             "line": {
              "color": "white"
             }
            },
            "header": {
             "fill": {
              "color": "#C8D4E3"
             },
             "line": {
              "color": "white"
             }
            },
            "type": "table"
           }
          ]
         },
         "layout": {
          "annotationdefaults": {
           "arrowcolor": "#2a3f5f",
           "arrowhead": 0,
           "arrowwidth": 1
          },
          "autotypenumbers": "strict",
          "coloraxis": {
           "colorbar": {
            "outlinewidth": 0,
            "ticks": ""
           }
          },
          "colorscale": {
           "diverging": [
            [
             0,
             "#8e0152"
            ],
            [
             0.1,
             "#c51b7d"
            ],
            [
             0.2,
             "#de77ae"
            ],
            [
             0.3,
             "#f1b6da"
            ],
            [
             0.4,
             "#fde0ef"
            ],
            [
             0.5,
             "#f7f7f7"
            ],
            [
             0.6,
             "#e6f5d0"
            ],
            [
             0.7,
             "#b8e186"
            ],
            [
             0.8,
             "#7fbc41"
            ],
            [
             0.9,
             "#4d9221"
            ],
            [
             1,
             "#276419"
            ]
           ],
           "sequential": [
            [
             0,
             "#0d0887"
            ],
            [
             0.1111111111111111,
             "#46039f"
            ],
            [
             0.2222222222222222,
             "#7201a8"
            ],
            [
             0.3333333333333333,
             "#9c179e"
            ],
            [
             0.4444444444444444,
             "#bd3786"
            ],
            [
             0.5555555555555556,
             "#d8576b"
            ],
            [
             0.6666666666666666,
             "#ed7953"
            ],
            [
             0.7777777777777778,
             "#fb9f3a"
            ],
            [
             0.8888888888888888,
             "#fdca26"
            ],
            [
             1,
             "#f0f921"
            ]
           ],
           "sequentialminus": [
            [
             0,
             "#0d0887"
            ],
            [
             0.1111111111111111,
             "#46039f"
            ],
            [
             0.2222222222222222,
             "#7201a8"
            ],
            [
             0.3333333333333333,
             "#9c179e"
            ],
            [
             0.4444444444444444,
             "#bd3786"
            ],
            [
             0.5555555555555556,
             "#d8576b"
            ],
            [
             0.6666666666666666,
             "#ed7953"
            ],
            [
             0.7777777777777778,
             "#fb9f3a"
            ],
            [
             0.8888888888888888,
             "#fdca26"
            ],
            [
             1,
             "#f0f921"
            ]
           ]
          },
          "colorway": [
           "#636efa",
           "#EF553B",
           "#00cc96",
           "#ab63fa",
           "#FFA15A",
           "#19d3f3",
           "#FF6692",
           "#B6E880",
           "#FF97FF",
           "#FECB52"
          ],
          "font": {
           "color": "#2a3f5f"
          },
          "geo": {
           "bgcolor": "white",
           "lakecolor": "white",
           "landcolor": "#E5ECF6",
           "showlakes": true,
           "showland": true,
           "subunitcolor": "white"
          },
          "hoverlabel": {
           "align": "left"
          },
          "hovermode": "closest",
          "mapbox": {
           "style": "light"
          },
          "paper_bgcolor": "white",
          "plot_bgcolor": "#E5ECF6",
          "polar": {
           "angularaxis": {
            "gridcolor": "white",
            "linecolor": "white",
            "ticks": ""
           },
           "bgcolor": "#E5ECF6",
           "radialaxis": {
            "gridcolor": "white",
            "linecolor": "white",
            "ticks": ""
           }
          },
          "scene": {
           "xaxis": {
            "backgroundcolor": "#E5ECF6",
            "gridcolor": "white",
            "gridwidth": 2,
            "linecolor": "white",
            "showbackground": true,
            "ticks": "",
            "zerolinecolor": "white"
           },
           "yaxis": {
            "backgroundcolor": "#E5ECF6",
            "gridcolor": "white",
            "gridwidth": 2,
            "linecolor": "white",
            "showbackground": true,
            "ticks": "",
            "zerolinecolor": "white"
           },
           "zaxis": {
            "backgroundcolor": "#E5ECF6",
            "gridcolor": "white",
            "gridwidth": 2,
            "linecolor": "white",
            "showbackground": true,
            "ticks": "",
            "zerolinecolor": "white"
           }
          },
          "shapedefaults": {
           "line": {
            "color": "#2a3f5f"
           }
          },
          "ternary": {
           "aaxis": {
            "gridcolor": "white",
            "linecolor": "white",
            "ticks": ""
           },
           "baxis": {
            "gridcolor": "white",
            "linecolor": "white",
            "ticks": ""
           },
           "bgcolor": "#E5ECF6",
           "caxis": {
            "gridcolor": "white",
            "linecolor": "white",
            "ticks": ""
           }
          },
          "title": {
           "x": 0.05
          },
          "xaxis": {
           "automargin": true,
           "gridcolor": "white",
           "linecolor": "white",
           "ticks": "",
           "title": {
            "standoff": 15
           },
           "zerolinecolor": "white",
           "zerolinewidth": 2
          },
          "yaxis": {
           "automargin": true,
           "gridcolor": "white",
           "linecolor": "white",
           "ticks": "",
           "title": {
            "standoff": 15
           },
           "zerolinecolor": "white",
           "zerolinewidth": 2
          }
         }
        },
        "xaxis": {
         "anchor": "y",
         "domain": [
          0,
          1
         ],
         "title": {
          "text": "PAID"
         }
        },
        "yaxis": {
         "anchor": "x",
         "domain": [
          0,
          1
         ]
        }
       }
      },
      "text/html": [
       "<div>                            <div id=\"cff880dc-da79-4c3c-ad3d-998b90d99eb7\" class=\"plotly-graph-div\" style=\"height:525px; width:100%;\"></div>            <script type=\"text/javascript\">                require([\"plotly\"], function(Plotly) {                    window.PLOTLYENV=window.PLOTLYENV || {};                                    if (document.getElementById(\"cff880dc-da79-4c3c-ad3d-998b90d99eb7\")) {                    Plotly.newPlot(                        \"cff880dc-da79-4c3c-ad3d-998b90d99eb7\",                        [{\"alignmentgroup\":\"True\",\"hovertemplate\":\"PAID=%{x}\\u003cextra\\u003e\\u003c\\u002fextra\\u003e\",\"legendgroup\":\"\",\"marker\":{\"color\":\"#636efa\"},\"name\":\"\",\"notched\":false,\"offsetgroup\":\"\",\"orientation\":\"h\",\"showlegend\":false,\"x\":[2384.67,650.0,654.0,3890.07,295.99,11756.34,2402.0,296.97,249.1,14833.3,3025.0,2750.0,2612.74,1259.89,824.85,669.5,664.34,408.39,3953.84,3841.66,239.37,30.0,6384.0,4467.92,1541.1,1354.93,1263.51,1045.0,519.75,499.28,365.26,322.34,122.41,10524.64,6854.02,3206.76,2724.04,2269.0,2169.88,1929.81,1061.8,945.8,899.13,7326.67,5301.72,3596.5,2322.72,1944.45,1491.69,1314.4,836.78,479.0,426.19,3112.89,2500.0,1921.22,1472.87,1444.89,1368.76,1346.36,772.23,688.67,362.63,359.41,354.29,262.81,244.11,9377.82,5540.07,3118.5,2495.8,2362.89,2007.78,1816.41,1500.0,1139.6,952.05,746.89,644.87,188.61,117.4,12714.43,10116.07,1949.14,1852.5,1722.82,1539.07,1476.43,1458.13,1119.52,990.07,987.0,782.44,459.0,377.36,319.67,176.07,154.75,8493.76,3809.83,3222.66,1113.38,766.4,663.17,640.4,619.06,419.18,298.62,160.2,105.5,8323.31,6291.84,4904.64,4096.58,3334.65,1755.95,1160.63,1098.37,818.79,651.57,646.79,584.61,417.04,399.9,371.63,365.5,275.43,146.56,14651.31,6754.81,5071.99,4809.52,2884.46,2591.33,2419.75,1321.7,1308.0,981.86,843.98,817.62,712.0,634.48,463.96,462.93,430.38,388.71,112.78,85.0,12151.86,5186.82,4451.39,3968.51,3392.58,1879.51,1792.54,1607.6,1238.0,1130.0,1081.71,1033.84,671.59,361.37,171.7,40.0,3203.35,3060.69,2171.93,1727.85,1550.0,1470.35,1229.01,1010.94,575.36,555.34,533.11,459.1,253.75,148.65,4184.46,4082.49,1846.1,1688.78,1118.91,749.64,725.71,722.02,648.06,593.46,516.81,302.54,300.0,278.55,248.68,131.0,28.46,13058.85,6950.54,2930.0,2112.46,2100.0,1500.0,1386.41,1270.17,1203.81,993.59,903.0,900.0,583.76,580.32,376.46,275.94,91.27,6013.74,4804.22,3179.28,2893.53,1916.21,1209.08,1036.74,986.12,893.03,754.31,740.38,694.91,693.13,564.05,551.78,549.77,497.85,403.3,358.7,284.54,228.0,177.6,177.42,139.79,33137.5,7293.43,3754.51,3495.14,3140.66,2137.4,1971.75,1956.0,1870.58,1650.0,1188.74,1115.89,1088.73,1074.35,1016.43,860.67,831.8,796.8,759.57,668.74,582.62,404.0,393.5,309.67,292.44,221.7,103.75,11511.72,6090.02,1727.33,1235.07,910.01,812.98,562.05,527.34,451.31,332.06,315.53,10527.4,7751.55,5711.53,3804.44,3760.07,2757.83,2565.84,2221.87,2139.9,2000.0,1363.23,1132.41,993.19,964.22,898.55,822.1,761.22,754.56,685.71,622.53,604.95,587.51,490.25,489.73,465.5,329.91,272.01,258.5,4643.8,3523.9,3007.96,2192.98,1752.16,1686.2,1648.41,1381.16,1336.26,1248.01,950.61,945.56,880.82,713.55,645.8,626.38,573.4,488.16,458.0,443.95,253.59,209.83,138.86,100.0,30.0,24624.44,8123.33,5158.65,5035.93,4625.47,1707.92,1694.59,1501.05,1369.74,946.38,825.66,682.85,604.95,585.34,565.02,529.28,388.03,377.54,303.0,300.0,198.98,135.0,47.52,11458.07,8300.31,7827.74,6261.92,5861.5,5381.14,4532.02,3656.77,2928.92,2547.5,2276.5,2017.28,1678.17,1651.86,1482.45,1480.93,1348.93,1189.96,1090.41,940.28,925.47,852.22,417.18,369.02,346.79,244.23,132.0,100.0,14753.58,11288.76,10175.27,6277.84,4939.5,4786.51,3167.49,2572.22,1712.27,1712.13,1396.61,1377.31,1108.42,1001.76,989.59,891.09,882.77,670.77,638.99,546.32,536.11,533.33,464.59,460.36,291.92,257.01,106.0,7487.94,7296.2,4929.65,2532.6,2344.69,1855.85,1812.47,1431.81,1226.28,1122.12,1090.75,1067.57,1012.19,928.2,861.89,809.34,782.9,768.05,698.65,630.11,617.9,594.8,585.74,390.02,291.28,236.53,10077.0,8569.3,6124.34,5335.35,3486.96,3255.88,2985.29,2418.4,2368.69,2007.64,1996.0,1869.49,1600.18,1278.52,1212.85,1039.69,834.12,805.18,676.15,651.18,586.85,315.61,311.32,25.44,9793.42,7620.37,6800.94,4781.43,3944.37,2406.0,1613.41,1340.74,1249.02,1086.9,941.85,909.99,903.99,875.28,738.18,492.22,468.0,443.49,439.22,359.11,8215.8,6208.2,5241.71,3912.49,3230.09,2600.0,2531.24,2038.05,1890.5,1704.54,1145.63,959.52,763.07,746.63,700.0,554.55,545.3,490.6,273.29,189.9,10652.59,5556.75,3403.09,3328.93,2805.73],\"x0\":\" \",\"xaxis\":\"x\",\"y0\":\" \",\"yaxis\":\"y\",\"type\":\"box\"}],                        {\"template\":{\"data\":{\"histogram2dcontour\":[{\"type\":\"histogram2dcontour\",\"colorbar\":{\"outlinewidth\":0,\"ticks\":\"\"},\"colorscale\":[[0.0,\"#0d0887\"],[0.1111111111111111,\"#46039f\"],[0.2222222222222222,\"#7201a8\"],[0.3333333333333333,\"#9c179e\"],[0.4444444444444444,\"#bd3786\"],[0.5555555555555556,\"#d8576b\"],[0.6666666666666666,\"#ed7953\"],[0.7777777777777778,\"#fb9f3a\"],[0.8888888888888888,\"#fdca26\"],[1.0,\"#f0f921\"]]}],\"choropleth\":[{\"type\":\"choropleth\",\"colorbar\":{\"outlinewidth\":0,\"ticks\":\"\"}}],\"histogram2d\":[{\"type\":\"histogram2d\",\"colorbar\":{\"outlinewidth\":0,\"ticks\":\"\"},\"colorscale\":[[0.0,\"#0d0887\"],[0.1111111111111111,\"#46039f\"],[0.2222222222222222,\"#7201a8\"],[0.3333333333333333,\"#9c179e\"],[0.4444444444444444,\"#bd3786\"],[0.5555555555555556,\"#d8576b\"],[0.6666666666666666,\"#ed7953\"],[0.7777777777777778,\"#fb9f3a\"],[0.8888888888888888,\"#fdca26\"],[1.0,\"#f0f921\"]]}],\"heatmap\":[{\"type\":\"heatmap\",\"colorbar\":{\"outlinewidth\":0,\"ticks\":\"\"},\"colorscale\":[[0.0,\"#0d0887\"],[0.1111111111111111,\"#46039f\"],[0.2222222222222222,\"#7201a8\"],[0.3333333333333333,\"#9c179e\"],[0.4444444444444444,\"#bd3786\"],[0.5555555555555556,\"#d8576b\"],[0.6666666666666666,\"#ed7953\"],[0.7777777777777778,\"#fb9f3a\"],[0.8888888888888888,\"#fdca26\"],[1.0,\"#f0f921\"]]}],\"heatmapgl\":[{\"type\":\"heatmapgl\",\"colorbar\":{\"outlinewidth\":0,\"ticks\":\"\"},\"colorscale\":[[0.0,\"#0d0887\"],[0.1111111111111111,\"#46039f\"],[0.2222222222222222,\"#7201a8\"],[0.3333333333333333,\"#9c179e\"],[0.4444444444444444,\"#bd3786\"],[0.5555555555555556,\"#d8576b\"],[0.6666666666666666,\"#ed7953\"],[0.7777777777777778,\"#fb9f3a\"],[0.8888888888888888,\"#fdca26\"],[1.0,\"#f0f921\"]]}],\"contourcarpet\":[{\"type\":\"contourcarpet\",\"colorbar\":{\"outlinewidth\":0,\"ticks\":\"\"}}],\"contour\":[{\"type\":\"contour\",\"colorbar\":{\"outlinewidth\":0,\"ticks\":\"\"},\"colorscale\":[[0.0,\"#0d0887\"],[0.1111111111111111,\"#46039f\"],[0.2222222222222222,\"#7201a8\"],[0.3333333333333333,\"#9c179e\"],[0.4444444444444444,\"#bd3786\"],[0.5555555555555556,\"#d8576b\"],[0.6666666666666666,\"#ed7953\"],[0.7777777777777778,\"#fb9f3a\"],[0.8888888888888888,\"#fdca26\"],[1.0,\"#f0f921\"]]}],\"surface\":[{\"type\":\"surface\",\"colorbar\":{\"outlinewidth\":0,\"ticks\":\"\"},\"colorscale\":[[0.0,\"#0d0887\"],[0.1111111111111111,\"#46039f\"],[0.2222222222222222,\"#7201a8\"],[0.3333333333333333,\"#9c179e\"],[0.4444444444444444,\"#bd3786\"],[0.5555555555555556,\"#d8576b\"],[0.6666666666666666,\"#ed7953\"],[0.7777777777777778,\"#fb9f3a\"],[0.8888888888888888,\"#fdca26\"],[1.0,\"#f0f921\"]]}],\"mesh3d\":[{\"type\":\"mesh3d\",\"colorbar\":{\"outlinewidth\":0,\"ticks\":\"\"}}],\"scatter\":[{\"fillpattern\":{\"fillmode\":\"overlay\",\"size\":10,\"solidity\":0.2},\"type\":\"scatter\"}],\"parcoords\":[{\"type\":\"parcoords\",\"line\":{\"colorbar\":{\"outlinewidth\":0,\"ticks\":\"\"}}}],\"scatterpolargl\":[{\"type\":\"scatterpolargl\",\"marker\":{\"colorbar\":{\"outlinewidth\":0,\"ticks\":\"\"}}}],\"bar\":[{\"error_x\":{\"color\":\"#2a3f5f\"},\"error_y\":{\"color\":\"#2a3f5f\"},\"marker\":{\"line\":{\"color\":\"#E5ECF6\",\"width\":0.5},\"pattern\":{\"fillmode\":\"overlay\",\"size\":10,\"solidity\":0.2}},\"type\":\"bar\"}],\"scattergeo\":[{\"type\":\"scattergeo\",\"marker\":{\"colorbar\":{\"outlinewidth\":0,\"ticks\":\"\"}}}],\"scatterpolar\":[{\"type\":\"scatterpolar\",\"marker\":{\"colorbar\":{\"outlinewidth\":0,\"ticks\":\"\"}}}],\"histogram\":[{\"marker\":{\"pattern\":{\"fillmode\":\"overlay\",\"size\":10,\"solidity\":0.2}},\"type\":\"histogram\"}],\"scattergl\":[{\"type\":\"scattergl\",\"marker\":{\"colorbar\":{\"outlinewidth\":0,\"ticks\":\"\"}}}],\"scatter3d\":[{\"type\":\"scatter3d\",\"line\":{\"colorbar\":{\"outlinewidth\":0,\"ticks\":\"\"}},\"marker\":{\"colorbar\":{\"outlinewidth\":0,\"ticks\":\"\"}}}],\"scattermapbox\":[{\"type\":\"scattermapbox\",\"marker\":{\"colorbar\":{\"outlinewidth\":0,\"ticks\":\"\"}}}],\"scatterternary\":[{\"type\":\"scatterternary\",\"marker\":{\"colorbar\":{\"outlinewidth\":0,\"ticks\":\"\"}}}],\"scattercarpet\":[{\"type\":\"scattercarpet\",\"marker\":{\"colorbar\":{\"outlinewidth\":0,\"ticks\":\"\"}}}],\"carpet\":[{\"aaxis\":{\"endlinecolor\":\"#2a3f5f\",\"gridcolor\":\"white\",\"linecolor\":\"white\",\"minorgridcolor\":\"white\",\"startlinecolor\":\"#2a3f5f\"},\"baxis\":{\"endlinecolor\":\"#2a3f5f\",\"gridcolor\":\"white\",\"linecolor\":\"white\",\"minorgridcolor\":\"white\",\"startlinecolor\":\"#2a3f5f\"},\"type\":\"carpet\"}],\"table\":[{\"cells\":{\"fill\":{\"color\":\"#EBF0F8\"},\"line\":{\"color\":\"white\"}},\"header\":{\"fill\":{\"color\":\"#C8D4E3\"},\"line\":{\"color\":\"white\"}},\"type\":\"table\"}],\"barpolar\":[{\"marker\":{\"line\":{\"color\":\"#E5ECF6\",\"width\":0.5},\"pattern\":{\"fillmode\":\"overlay\",\"size\":10,\"solidity\":0.2}},\"type\":\"barpolar\"}],\"pie\":[{\"automargin\":true,\"type\":\"pie\"}]},\"layout\":{\"autotypenumbers\":\"strict\",\"colorway\":[\"#636efa\",\"#EF553B\",\"#00cc96\",\"#ab63fa\",\"#FFA15A\",\"#19d3f3\",\"#FF6692\",\"#B6E880\",\"#FF97FF\",\"#FECB52\"],\"font\":{\"color\":\"#2a3f5f\"},\"hovermode\":\"closest\",\"hoverlabel\":{\"align\":\"left\"},\"paper_bgcolor\":\"white\",\"plot_bgcolor\":\"#E5ECF6\",\"polar\":{\"bgcolor\":\"#E5ECF6\",\"angularaxis\":{\"gridcolor\":\"white\",\"linecolor\":\"white\",\"ticks\":\"\"},\"radialaxis\":{\"gridcolor\":\"white\",\"linecolor\":\"white\",\"ticks\":\"\"}},\"ternary\":{\"bgcolor\":\"#E5ECF6\",\"aaxis\":{\"gridcolor\":\"white\",\"linecolor\":\"white\",\"ticks\":\"\"},\"baxis\":{\"gridcolor\":\"white\",\"linecolor\":\"white\",\"ticks\":\"\"},\"caxis\":{\"gridcolor\":\"white\",\"linecolor\":\"white\",\"ticks\":\"\"}},\"coloraxis\":{\"colorbar\":{\"outlinewidth\":0,\"ticks\":\"\"}},\"colorscale\":{\"sequential\":[[0.0,\"#0d0887\"],[0.1111111111111111,\"#46039f\"],[0.2222222222222222,\"#7201a8\"],[0.3333333333333333,\"#9c179e\"],[0.4444444444444444,\"#bd3786\"],[0.5555555555555556,\"#d8576b\"],[0.6666666666666666,\"#ed7953\"],[0.7777777777777778,\"#fb9f3a\"],[0.8888888888888888,\"#fdca26\"],[1.0,\"#f0f921\"]],\"sequentialminus\":[[0.0,\"#0d0887\"],[0.1111111111111111,\"#46039f\"],[0.2222222222222222,\"#7201a8\"],[0.3333333333333333,\"#9c179e\"],[0.4444444444444444,\"#bd3786\"],[0.5555555555555556,\"#d8576b\"],[0.6666666666666666,\"#ed7953\"],[0.7777777777777778,\"#fb9f3a\"],[0.8888888888888888,\"#fdca26\"],[1.0,\"#f0f921\"]],\"diverging\":[[0,\"#8e0152\"],[0.1,\"#c51b7d\"],[0.2,\"#de77ae\"],[0.3,\"#f1b6da\"],[0.4,\"#fde0ef\"],[0.5,\"#f7f7f7\"],[0.6,\"#e6f5d0\"],[0.7,\"#b8e186\"],[0.8,\"#7fbc41\"],[0.9,\"#4d9221\"],[1,\"#276419\"]]},\"xaxis\":{\"gridcolor\":\"white\",\"linecolor\":\"white\",\"ticks\":\"\",\"title\":{\"standoff\":15},\"zerolinecolor\":\"white\",\"automargin\":true,\"zerolinewidth\":2},\"yaxis\":{\"gridcolor\":\"white\",\"linecolor\":\"white\",\"ticks\":\"\",\"title\":{\"standoff\":15},\"zerolinecolor\":\"white\",\"automargin\":true,\"zerolinewidth\":2},\"scene\":{\"xaxis\":{\"backgroundcolor\":\"#E5ECF6\",\"gridcolor\":\"white\",\"linecolor\":\"white\",\"showbackground\":true,\"ticks\":\"\",\"zerolinecolor\":\"white\",\"gridwidth\":2},\"yaxis\":{\"backgroundcolor\":\"#E5ECF6\",\"gridcolor\":\"white\",\"linecolor\":\"white\",\"showbackground\":true,\"ticks\":\"\",\"zerolinecolor\":\"white\",\"gridwidth\":2},\"zaxis\":{\"backgroundcolor\":\"#E5ECF6\",\"gridcolor\":\"white\",\"linecolor\":\"white\",\"showbackground\":true,\"ticks\":\"\",\"zerolinecolor\":\"white\",\"gridwidth\":2}},\"shapedefaults\":{\"line\":{\"color\":\"#2a3f5f\"}},\"annotationdefaults\":{\"arrowcolor\":\"#2a3f5f\",\"arrowhead\":0,\"arrowwidth\":1},\"geo\":{\"bgcolor\":\"white\",\"landcolor\":\"#E5ECF6\",\"subunitcolor\":\"white\",\"showland\":true,\"showlakes\":true,\"lakecolor\":\"white\"},\"title\":{\"x\":0.05},\"mapbox\":{\"style\":\"light\"}}},\"xaxis\":{\"anchor\":\"y\",\"domain\":[0.0,1.0],\"title\":{\"text\":\"PAID\"}},\"yaxis\":{\"anchor\":\"x\",\"domain\":[0.0,1.0]},\"legend\":{\"tracegroupgap\":0},\"margin\":{\"t\":60},\"boxmode\":\"group\"},                        {\"responsive\": true}                    ).then(function(){\n",
       "                            \n",
       "var gd = document.getElementById('cff880dc-da79-4c3c-ad3d-998b90d99eb7');\n",
       "var x = new MutationObserver(function (mutations, observer) {{\n",
       "        var display = window.getComputedStyle(gd).display;\n",
       "        if (!display || display === 'none') {{\n",
       "            console.log([gd, 'removed!']);\n",
       "            Plotly.purge(gd);\n",
       "            observer.disconnect();\n",
       "        }}\n",
       "}});\n",
       "\n",
       "// Listen for the removal of the full notebook cells\n",
       "var notebookContainer = gd.closest('#notebook-container');\n",
       "if (notebookContainer) {{\n",
       "    x.observe(notebookContainer, {childList: true});\n",
       "}}\n",
       "\n",
       "// Listen for the clearing of the current output cell\n",
       "var outputEl = gd.closest('.output');\n",
       "if (outputEl) {{\n",
       "    x.observe(outputEl, {childList: true});\n",
       "}}\n",
       "\n",
       "                        })                };                });            </script>        </div>"
      ]
     },
     "metadata": {},
     "output_type": "display_data"
    }
   ],
   "source": []
  },
  {
   "cell_type": "markdown",
   "id": "fa12cb9e",
   "metadata": {},
   "source": [
    "> Answer here..."
   ]
  },
  {
   "cell_type": "markdown",
   "id": "4d24a0d2",
   "metadata": {},
   "source": [
    "### Q9: Estimate the sampling distributions of sample median of paid claims by taking 1000 samples and produce an appropriate visualization.\n",
    "> Hint 1: Remember that your 1000 samples should each match the sample size in the data   \n",
    "> Hint 2: `bootstrap_sample.median()` may give you an attribute error, use `np.median(bootstrap_sample)` instead\n",
    "- This will be manually reviewed"
   ]
  },
  {
   "cell_type": "code",
   "execution_count": 8,
   "id": "cce09a2d",
   "metadata": {},
   "outputs": [],
   "source": [
    "np.random.seed(130) # Do NOT change this line - there is randomness when bootstrapping\n",
    "\n",
    "# code your answer here"
   ]
  },
  {
   "cell_type": "markdown",
   "id": "0adc8038",
   "metadata": {},
   "source": [
    "### Q10: Using the simulation in Q9, derive a 95% confidence interval for the median of paid claims.\n",
    "#### Give your answer as a continuous numeric value rounded to two decimal positions"
   ]
  },
  {
   "cell_type": "code",
   "execution_count": 281,
   "id": "ddea08c9",
   "metadata": {},
   "outputs": [
    {
     "data": {
      "text/plain": [
       "array([ 940.28 , 1196.275])"
      ]
     },
     "execution_count": 281,
     "metadata": {},
     "output_type": "execute_result"
    }
   ],
   "source": []
  },
  {
   "cell_type": "code",
   "execution_count": 282,
   "id": "408c7e19",
   "metadata": {},
   "outputs": [],
   "source": [
    "# Q10: your answer will be tested!\n",
    "confint_lower = None\n",
    "confint_upper = None\n",
    "Q10 = (confint_lower, confint_upper) # Assign a `tuple` of two `float`s to Q10"
   ]
  },
  {
   "cell_type": "markdown",
   "id": "cc855c5c",
   "metadata": {},
   "source": [
    "# [OPTIONAL] Part 3: More Auto Claims\n",
    "You may complete these questions for practice if you wish. ***You are not required to complete these\n",
    "questions as they ARE NOT included as part of your mark.***"
   ]
  },
  {
   "cell_type": "code",
   "execution_count": 284,
   "id": "202191a8",
   "metadata": {},
   "outputs": [],
   "source": [
    "# Import 'auto_claims_population.csv'"
   ]
  },
  {
   "cell_type": "markdown",
   "id": "2d3ad926",
   "metadata": {},
   "source": [
    "### Q11: Select 1000 samples of size 20 from the population of claims stored in the `auto_claims_population.csv` data set. Ensure each sample is taken without replacement, so there are no repeated observations within each sample. Compute the mean age of claimants for each sample, calculate the overall mean of sample means, and make a histogram of the simulated sample means.\n",
    "> Hint: To sample without replacement, use the `replace=False` parameter in `np.random.choice(x, n)`. The default is `replace=True`.\n",
    "- Compare your figure and values to the answer given in the ***MarkUs*** output "
   ]
  },
  {
   "cell_type": "code",
   "execution_count": 7,
   "id": "207c208a",
   "metadata": {},
   "outputs": [],
   "source": [
    "np.random.seed(130) # Do NOT change this line - there is randomness when bootstrapping\n",
    "\n",
    "# code your answer here"
   ]
  },
  {
   "cell_type": "code",
   "execution_count": 287,
   "id": "c8a91612",
   "metadata": {},
   "outputs": [
    {
     "data": {
      "text/plain": [
       "63.7141"
      ]
     },
     "execution_count": 287,
     "metadata": {},
     "output_type": "execute_result"
    }
   ],
   "source": []
  },
  {
   "cell_type": "markdown",
   "id": "66c08940",
   "metadata": {},
   "source": [
    "### Q12: Now create a single random sample of 20 car insurance claims and store these 20 observations in `ages20`. Create a histogram of the sample, and compute the min, mean, median, max, and standard deviation of the age variable.\n",
    "- Compare your figure and values to the answer given in the ***MarkUs*** output "
   ]
  },
  {
   "cell_type": "code",
   "execution_count": 9,
   "id": "f7a9eb4a",
   "metadata": {},
   "outputs": [],
   "source": [
    "np.random.seed(130) # Do NOT change this line - there is randomness when sampling\n",
    "\n",
    "# code your answer here"
   ]
  },
  {
   "cell_type": "code",
   "execution_count": null,
   "id": "cb3fc875",
   "metadata": {},
   "outputs": [],
   "source": []
  },
  {
   "cell_type": "code",
   "execution_count": null,
   "id": "ac2645e7",
   "metadata": {},
   "outputs": [],
   "source": []
  },
  {
   "cell_type": "markdown",
   "id": "1ad205be",
   "metadata": {},
   "source": [
    "### Q13: Take 1000 bootstrap samples from `ages20`. Compute the mean age of claimants for each bootstrap sample, calculate the overall mean of the bootstrap sample means, and make a histogram of the simulated sample means.\n",
    "> Hint: This time, you want `replace=True` (which is the default setting) for `np.random.choice(x, n)`\n",
    "- Compare your figure and values to the answer given in the ***MarkUs*** output "
   ]
  },
  {
   "cell_type": "code",
   "execution_count": 10,
   "id": "39620caa",
   "metadata": {},
   "outputs": [],
   "source": [
    "np.random.seed(130) # Do NOT change this line - there is randomness when bootstrapping\n",
    "\n",
    "# code your answer here"
   ]
  },
  {
   "cell_type": "code",
   "execution_count": 296,
   "id": "7ea4c556",
   "metadata": {},
   "outputs": [
    {
     "data": {
      "text/plain": [
       "66.32815"
      ]
     },
     "execution_count": 296,
     "metadata": {},
     "output_type": "execute_result"
    }
   ],
   "source": []
  },
  {
   "cell_type": "markdown",
   "id": "36636ce4",
   "metadata": {},
   "source": [
    "### Q14: What distribution do the distributions we simulated in Q11 and Q13 both estimate? Comment on the similarities and differences for a given random seed initializations, and speculate how this could change under different random seed initializations.\n",
    "- Compare your response to the answer given in the ***MarkUs*** output "
   ]
  },
  {
   "cell_type": "markdown",
   "id": "fa21792f",
   "metadata": {},
   "source": [
    "> Answer here..."
   ]
  },
  {
   "cell_type": "markdown",
   "id": "2448eec4",
   "metadata": {},
   "source": [
    "# [OPTIONAL] Part 4: Gestation Data\n",
    "You may complete these questions for practice if you wish. ***You are not required to complete these\n",
    "questions as they ARE NOT included as part of your mark.***\n",
    "\n",
    "In this question we will look at data from the Child Health and Development Studies. Our data are adapted\n",
    "from the Gestation data set in the mosaicData package. Birth weight, date, and gestational period were\n",
    "collected as part of the Child Health and Development Studies in 1961 and 1962 for a sample of 400 mothers\n",
    "who had babies in these two years. Information about the baby’s parents—age, education, height, weight,\n",
    "and whether the mother smoked—was also recorded.\n",
    "We will find confidence intervals for parameters related to the distribution of the mother’s age, which for this\n",
    "sample is stored in the variable age."
   ]
  },
  {
   "cell_type": "code",
   "execution_count": 301,
   "id": "f6439352",
   "metadata": {},
   "outputs": [
    {
     "data": {
      "text/html": [
       "<div>\n",
       "<style scoped>\n",
       "    .dataframe tbody tr th:only-of-type {\n",
       "        vertical-align: middle;\n",
       "    }\n",
       "\n",
       "    .dataframe tbody tr th {\n",
       "        vertical-align: top;\n",
       "    }\n",
       "\n",
       "    .dataframe thead th {\n",
       "        text-align: right;\n",
       "    }\n",
       "</style>\n",
       "<table border=\"1\" class=\"dataframe\">\n",
       "  <thead>\n",
       "    <tr style=\"text-align: right;\">\n",
       "      <th></th>\n",
       "      <th>id</th>\n",
       "      <th>pluralty</th>\n",
       "      <th>outcome</th>\n",
       "      <th>date</th>\n",
       "      <th>gestation</th>\n",
       "      <th>sex</th>\n",
       "      <th>wt</th>\n",
       "      <th>parity</th>\n",
       "      <th>race</th>\n",
       "      <th>age</th>\n",
       "      <th>...</th>\n",
       "      <th>drace</th>\n",
       "      <th>dage</th>\n",
       "      <th>ded</th>\n",
       "      <th>dht</th>\n",
       "      <th>dwt</th>\n",
       "      <th>marital</th>\n",
       "      <th>inc</th>\n",
       "      <th>smoke</th>\n",
       "      <th>time</th>\n",
       "      <th>number</th>\n",
       "    </tr>\n",
       "  </thead>\n",
       "  <tbody>\n",
       "    <tr>\n",
       "      <th>0</th>\n",
       "      <td>72</td>\n",
       "      <td>5</td>\n",
       "      <td>1</td>\n",
       "      <td>1425</td>\n",
       "      <td>282.0</td>\n",
       "      <td>1</td>\n",
       "      <td>108</td>\n",
       "      <td>1</td>\n",
       "      <td>0</td>\n",
       "      <td>23</td>\n",
       "      <td>...</td>\n",
       "      <td>0</td>\n",
       "      <td>24.0</td>\n",
       "      <td>5.0</td>\n",
       "      <td>NaN</td>\n",
       "      <td>NaN</td>\n",
       "      <td>1</td>\n",
       "      <td>1.0</td>\n",
       "      <td>1.0</td>\n",
       "      <td>1.0</td>\n",
       "      <td>5.0</td>\n",
       "    </tr>\n",
       "    <tr>\n",
       "      <th>1</th>\n",
       "      <td>100</td>\n",
       "      <td>5</td>\n",
       "      <td>1</td>\n",
       "      <td>1673</td>\n",
       "      <td>286.0</td>\n",
       "      <td>1</td>\n",
       "      <td>136</td>\n",
       "      <td>4</td>\n",
       "      <td>0</td>\n",
       "      <td>25</td>\n",
       "      <td>...</td>\n",
       "      <td>3</td>\n",
       "      <td>28.0</td>\n",
       "      <td>2.0</td>\n",
       "      <td>64.0</td>\n",
       "      <td>130.0</td>\n",
       "      <td>1</td>\n",
       "      <td>4.0</td>\n",
       "      <td>2.0</td>\n",
       "      <td>2.0</td>\n",
       "      <td>2.0</td>\n",
       "    </tr>\n",
       "    <tr>\n",
       "      <th>2</th>\n",
       "      <td>148</td>\n",
       "      <td>5</td>\n",
       "      <td>1</td>\n",
       "      <td>1568</td>\n",
       "      <td>299.0</td>\n",
       "      <td>1</td>\n",
       "      <td>143</td>\n",
       "      <td>3</td>\n",
       "      <td>0</td>\n",
       "      <td>30</td>\n",
       "      <td>...</td>\n",
       "      <td>0</td>\n",
       "      <td>34.0</td>\n",
       "      <td>5.0</td>\n",
       "      <td>NaN</td>\n",
       "      <td>NaN</td>\n",
       "      <td>1</td>\n",
       "      <td>2.0</td>\n",
       "      <td>1.0</td>\n",
       "      <td>1.0</td>\n",
       "      <td>4.0</td>\n",
       "    </tr>\n",
       "    <tr>\n",
       "      <th>3</th>\n",
       "      <td>164</td>\n",
       "      <td>5</td>\n",
       "      <td>1</td>\n",
       "      <td>1554</td>\n",
       "      <td>351.0</td>\n",
       "      <td>1</td>\n",
       "      <td>140</td>\n",
       "      <td>2</td>\n",
       "      <td>0</td>\n",
       "      <td>27</td>\n",
       "      <td>...</td>\n",
       "      <td>5</td>\n",
       "      <td>28.0</td>\n",
       "      <td>4.0</td>\n",
       "      <td>NaN</td>\n",
       "      <td>NaN</td>\n",
       "      <td>1</td>\n",
       "      <td>NaN</td>\n",
       "      <td>3.0</td>\n",
       "      <td>4.0</td>\n",
       "      <td>2.0</td>\n",
       "    </tr>\n",
       "    <tr>\n",
       "      <th>4</th>\n",
       "      <td>217</td>\n",
       "      <td>5</td>\n",
       "      <td>1</td>\n",
       "      <td>1605</td>\n",
       "      <td>261.0</td>\n",
       "      <td>1</td>\n",
       "      <td>115</td>\n",
       "      <td>3</td>\n",
       "      <td>3</td>\n",
       "      <td>33</td>\n",
       "      <td>...</td>\n",
       "      <td>3</td>\n",
       "      <td>33.0</td>\n",
       "      <td>2.0</td>\n",
       "      <td>70.0</td>\n",
       "      <td>140.0</td>\n",
       "      <td>1</td>\n",
       "      <td>4.0</td>\n",
       "      <td>1.0</td>\n",
       "      <td>1.0</td>\n",
       "      <td>5.0</td>\n",
       "    </tr>\n",
       "    <tr>\n",
       "      <th>...</th>\n",
       "      <td>...</td>\n",
       "      <td>...</td>\n",
       "      <td>...</td>\n",
       "      <td>...</td>\n",
       "      <td>...</td>\n",
       "      <td>...</td>\n",
       "      <td>...</td>\n",
       "      <td>...</td>\n",
       "      <td>...</td>\n",
       "      <td>...</td>\n",
       "      <td>...</td>\n",
       "      <td>...</td>\n",
       "      <td>...</td>\n",
       "      <td>...</td>\n",
       "      <td>...</td>\n",
       "      <td>...</td>\n",
       "      <td>...</td>\n",
       "      <td>...</td>\n",
       "      <td>...</td>\n",
       "      <td>...</td>\n",
       "      <td>...</td>\n",
       "    </tr>\n",
       "    <tr>\n",
       "      <th>395</th>\n",
       "      <td>8955</td>\n",
       "      <td>5</td>\n",
       "      <td>1</td>\n",
       "      <td>1692</td>\n",
       "      <td>262.0</td>\n",
       "      <td>1</td>\n",
       "      <td>115</td>\n",
       "      <td>0</td>\n",
       "      <td>0</td>\n",
       "      <td>23</td>\n",
       "      <td>...</td>\n",
       "      <td>1</td>\n",
       "      <td>24.0</td>\n",
       "      <td>4.0</td>\n",
       "      <td>73.0</td>\n",
       "      <td>201.0</td>\n",
       "      <td>1</td>\n",
       "      <td>NaN</td>\n",
       "      <td>1.0</td>\n",
       "      <td>1.0</td>\n",
       "      <td>7.0</td>\n",
       "    </tr>\n",
       "    <tr>\n",
       "      <th>396</th>\n",
       "      <td>8966</td>\n",
       "      <td>5</td>\n",
       "      <td>1</td>\n",
       "      <td>1675</td>\n",
       "      <td>287.0</td>\n",
       "      <td>1</td>\n",
       "      <td>113</td>\n",
       "      <td>0</td>\n",
       "      <td>3</td>\n",
       "      <td>29</td>\n",
       "      <td>...</td>\n",
       "      <td>2</td>\n",
       "      <td>32.0</td>\n",
       "      <td>2.0</td>\n",
       "      <td>NaN</td>\n",
       "      <td>NaN</td>\n",
       "      <td>1</td>\n",
       "      <td>9.0</td>\n",
       "      <td>1.0</td>\n",
       "      <td>1.0</td>\n",
       "      <td>2.0</td>\n",
       "    </tr>\n",
       "    <tr>\n",
       "      <th>397</th>\n",
       "      <td>8987</td>\n",
       "      <td>5</td>\n",
       "      <td>1</td>\n",
       "      <td>1681</td>\n",
       "      <td>244.0</td>\n",
       "      <td>1</td>\n",
       "      <td>109</td>\n",
       "      <td>0</td>\n",
       "      <td>0</td>\n",
       "      <td>21</td>\n",
       "      <td>...</td>\n",
       "      <td>0</td>\n",
       "      <td>22.0</td>\n",
       "      <td>2.0</td>\n",
       "      <td>66.0</td>\n",
       "      <td>140.0</td>\n",
       "      <td>1</td>\n",
       "      <td>3.0</td>\n",
       "      <td>1.0</td>\n",
       "      <td>1.0</td>\n",
       "      <td>5.0</td>\n",
       "    </tr>\n",
       "    <tr>\n",
       "      <th>398</th>\n",
       "      <td>9120</td>\n",
       "      <td>5</td>\n",
       "      <td>1</td>\n",
       "      <td>1681</td>\n",
       "      <td>270.0</td>\n",
       "      <td>1</td>\n",
       "      <td>132</td>\n",
       "      <td>3</td>\n",
       "      <td>7</td>\n",
       "      <td>27</td>\n",
       "      <td>...</td>\n",
       "      <td>7</td>\n",
       "      <td>35.0</td>\n",
       "      <td>1.0</td>\n",
       "      <td>69.0</td>\n",
       "      <td>200.0</td>\n",
       "      <td>1</td>\n",
       "      <td>3.0</td>\n",
       "      <td>3.0</td>\n",
       "      <td>3.0</td>\n",
       "      <td>1.0</td>\n",
       "    </tr>\n",
       "    <tr>\n",
       "      <th>399</th>\n",
       "      <td>9153</td>\n",
       "      <td>5</td>\n",
       "      <td>1</td>\n",
       "      <td>1672</td>\n",
       "      <td>275.0</td>\n",
       "      <td>1</td>\n",
       "      <td>113</td>\n",
       "      <td>0</td>\n",
       "      <td>0</td>\n",
       "      <td>27</td>\n",
       "      <td>...</td>\n",
       "      <td>0</td>\n",
       "      <td>32.0</td>\n",
       "      <td>4.0</td>\n",
       "      <td>72.0</td>\n",
       "      <td>190.0</td>\n",
       "      <td>1</td>\n",
       "      <td>4.0</td>\n",
       "      <td>0.0</td>\n",
       "      <td>0.0</td>\n",
       "      <td>0.0</td>\n",
       "    </tr>\n",
       "  </tbody>\n",
       "</table>\n",
       "<p>400 rows × 23 columns</p>\n",
       "</div>"
      ],
      "text/plain": [
       "       id  pluralty  outcome  date  gestation  sex   wt  parity  race  age  \\\n",
       "0      72         5        1  1425      282.0    1  108       1     0   23   \n",
       "1     100         5        1  1673      286.0    1  136       4     0   25   \n",
       "2     148         5        1  1568      299.0    1  143       3     0   30   \n",
       "3     164         5        1  1554      351.0    1  140       2     0   27   \n",
       "4     217         5        1  1605      261.0    1  115       3     3   33   \n",
       "..    ...       ...      ...   ...        ...  ...  ...     ...   ...  ...   \n",
       "395  8955         5        1  1692      262.0    1  115       0     0   23   \n",
       "396  8966         5        1  1675      287.0    1  113       0     3   29   \n",
       "397  8987         5        1  1681      244.0    1  109       0     0   21   \n",
       "398  9120         5        1  1681      270.0    1  132       3     7   27   \n",
       "399  9153         5        1  1672      275.0    1  113       0     0   27   \n",
       "\n",
       "     ...  drace  dage  ded   dht    dwt  marital  inc  smoke  time  number  \n",
       "0    ...      0  24.0  5.0   NaN    NaN        1  1.0    1.0   1.0     5.0  \n",
       "1    ...      3  28.0  2.0  64.0  130.0        1  4.0    2.0   2.0     2.0  \n",
       "2    ...      0  34.0  5.0   NaN    NaN        1  2.0    1.0   1.0     4.0  \n",
       "3    ...      5  28.0  4.0   NaN    NaN        1  NaN    3.0   4.0     2.0  \n",
       "4    ...      3  33.0  2.0  70.0  140.0        1  4.0    1.0   1.0     5.0  \n",
       "..   ...    ...   ...  ...   ...    ...      ...  ...    ...   ...     ...  \n",
       "395  ...      1  24.0  4.0  73.0  201.0        1  NaN    1.0   1.0     7.0  \n",
       "396  ...      2  32.0  2.0   NaN    NaN        1  9.0    1.0   1.0     2.0  \n",
       "397  ...      0  22.0  2.0  66.0  140.0        1  3.0    1.0   1.0     5.0  \n",
       "398  ...      7  35.0  1.0  69.0  200.0        1  3.0    3.0   3.0     1.0  \n",
       "399  ...      0  32.0  4.0  72.0  190.0        1  4.0    0.0   0.0     0.0  \n",
       "\n",
       "[400 rows x 23 columns]"
      ]
     },
     "execution_count": 301,
     "metadata": {},
     "output_type": "execute_result"
    }
   ],
   "source": [
    "# Import 'gestation.csv'\n",
    "gestation = pd.read_csv('gestation.csv')\n",
    "gestation"
   ]
  },
  {
   "cell_type": "markdown",
   "id": "84b04906",
   "metadata": {},
   "source": [
    "### Q15: Suppose we are interested in how means of random samples of n=400 mothers vary across possible samples of 400 mothers we could take from the population. Explain why it is not possible to use these data (i.e., ‘Gestation’) to estimate this like we did in Q11.\n",
    "- Compare your response to the answer given in the ***MarkUs*** output "
   ]
  },
  {
   "cell_type": "markdown",
   "id": "75a7cbbb",
   "metadata": {},
   "source": [
    "> Answer here..."
   ]
  },
  {
   "cell_type": "markdown",
   "id": "2f46983d",
   "metadata": {},
   "source": [
    "### Q16: The plot below shows the bootstrap distribution for the mean of mother’s age for 100 bootstrap samples. The red bar is the estimate of the mean for the first bootstrap sample, and the grey dots are the estimates of the mean for the other 99 bootstrap samples. Explain how the value of the red dot is calculated; then, using the plot, estimate a 90% confidence interval for the mean of mother’s age.\n",
    "- Compare your response to the answer given in the ***MarkUs*** output "
   ]
  },
  {
   "cell_type": "code",
   "execution_count": 304,
   "id": "0ec0a7d5",
   "metadata": {},
   "outputs": [
    {
     "data": {
      "application/vnd.plotly.v1+json": {
       "config": {
        "plotlyServerURL": "https://plot.ly"
       },
       "data": [
        {
         "marker": {
          "color": "red"
         },
         "type": "histogram",
         "x": [
          27.825
         ]
        },
        {
         "marker": {
          "color": "darkgrey"
         },
         "type": "histogram",
         "x": [
          27.4075,
          27.1375,
          27.305,
          27.6425,
          27.01,
          27.405,
          27.185,
          27.1625,
          27.345,
          27.4075,
          27.2925,
          27.5075,
          27.7625,
          27.125,
          27.425,
          27.2225,
          27.7675,
          27.115,
          27.545,
          27.29,
          27.39,
          27.6,
          27.56,
          27.545,
          27.7125,
          27.245,
          27.815,
          27.805,
          27.4475,
          28.04,
          27.7625,
          27.39,
          27.3775,
          27.4125,
          27.2075,
          27.625,
          27.64,
          27.325,
          27.375,
          27.6425,
          27.1875,
          27.9775,
          27.815,
          26.9725,
          27.28,
          27.3875,
          26.715,
          27.45,
          27.92,
          27.7775,
          27.405,
          27.5625,
          27.47,
          27.3075,
          27.3425,
          27.6525,
          27.48,
          27.675,
          27.0575,
          27.25,
          27.5225,
          26.8425,
          27.305,
          27.555,
          27.87,
          27.465,
          27.92,
          27.5675,
          27.87,
          27.27,
          27.515,
          27.4525,
          27.44,
          27.5875,
          27.735,
          27.2875,
          27.0475,
          26.9975,
          27.8,
          27.105,
          27.18,
          27.0275,
          27.58,
          27.015,
          28.0875,
          27.2625,
          27.2925,
          27.8125,
          27.3975,
          27.775,
          27.005,
          27.6325,
          27.3325,
          27.3275,
          27.525,
          27.73,
          27.5525,
          27.245,
          27.42
         ]
        }
       ],
       "layout": {
        "barmode": "stack",
        "showlegend": false,
        "template": {
         "data": {
          "bar": [
           {
            "error_x": {
             "color": "#2a3f5f"
            },
            "error_y": {
             "color": "#2a3f5f"
            },
            "marker": {
             "line": {
              "color": "#E5ECF6",
              "width": 0.5
             },
             "pattern": {
              "fillmode": "overlay",
              "size": 10,
              "solidity": 0.2
             }
            },
            "type": "bar"
           }
          ],
          "barpolar": [
           {
            "marker": {
             "line": {
              "color": "#E5ECF6",
              "width": 0.5
             },
             "pattern": {
              "fillmode": "overlay",
              "size": 10,
              "solidity": 0.2
             }
            },
            "type": "barpolar"
           }
          ],
          "carpet": [
           {
            "aaxis": {
             "endlinecolor": "#2a3f5f",
             "gridcolor": "white",
             "linecolor": "white",
             "minorgridcolor": "white",
             "startlinecolor": "#2a3f5f"
            },
            "baxis": {
             "endlinecolor": "#2a3f5f",
             "gridcolor": "white",
             "linecolor": "white",
             "minorgridcolor": "white",
             "startlinecolor": "#2a3f5f"
            },
            "type": "carpet"
           }
          ],
          "choropleth": [
           {
            "colorbar": {
             "outlinewidth": 0,
             "ticks": ""
            },
            "type": "choropleth"
           }
          ],
          "contour": [
           {
            "colorbar": {
             "outlinewidth": 0,
             "ticks": ""
            },
            "colorscale": [
             [
              0,
              "#0d0887"
             ],
             [
              0.1111111111111111,
              "#46039f"
             ],
             [
              0.2222222222222222,
              "#7201a8"
             ],
             [
              0.3333333333333333,
              "#9c179e"
             ],
             [
              0.4444444444444444,
              "#bd3786"
             ],
             [
              0.5555555555555556,
              "#d8576b"
             ],
             [
              0.6666666666666666,
              "#ed7953"
             ],
             [
              0.7777777777777778,
              "#fb9f3a"
             ],
             [
              0.8888888888888888,
              "#fdca26"
             ],
             [
              1,
              "#f0f921"
             ]
            ],
            "type": "contour"
           }
          ],
          "contourcarpet": [
           {
            "colorbar": {
             "outlinewidth": 0,
             "ticks": ""
            },
            "type": "contourcarpet"
           }
          ],
          "heatmap": [
           {
            "colorbar": {
             "outlinewidth": 0,
             "ticks": ""
            },
            "colorscale": [
             [
              0,
              "#0d0887"
             ],
             [
              0.1111111111111111,
              "#46039f"
             ],
             [
              0.2222222222222222,
              "#7201a8"
             ],
             [
              0.3333333333333333,
              "#9c179e"
             ],
             [
              0.4444444444444444,
              "#bd3786"
             ],
             [
              0.5555555555555556,
              "#d8576b"
             ],
             [
              0.6666666666666666,
              "#ed7953"
             ],
             [
              0.7777777777777778,
              "#fb9f3a"
             ],
             [
              0.8888888888888888,
              "#fdca26"
             ],
             [
              1,
              "#f0f921"
             ]
            ],
            "type": "heatmap"
           }
          ],
          "heatmapgl": [
           {
            "colorbar": {
             "outlinewidth": 0,
             "ticks": ""
            },
            "colorscale": [
             [
              0,
              "#0d0887"
             ],
             [
              0.1111111111111111,
              "#46039f"
             ],
             [
              0.2222222222222222,
              "#7201a8"
             ],
             [
              0.3333333333333333,
              "#9c179e"
             ],
             [
              0.4444444444444444,
              "#bd3786"
             ],
             [
              0.5555555555555556,
              "#d8576b"
             ],
             [
              0.6666666666666666,
              "#ed7953"
             ],
             [
              0.7777777777777778,
              "#fb9f3a"
             ],
             [
              0.8888888888888888,
              "#fdca26"
             ],
             [
              1,
              "#f0f921"
             ]
            ],
            "type": "heatmapgl"
           }
          ],
          "histogram": [
           {
            "marker": {
             "pattern": {
              "fillmode": "overlay",
              "size": 10,
              "solidity": 0.2
             }
            },
            "type": "histogram"
           }
          ],
          "histogram2d": [
           {
            "colorbar": {
             "outlinewidth": 0,
             "ticks": ""
            },
            "colorscale": [
             [
              0,
              "#0d0887"
             ],
             [
              0.1111111111111111,
              "#46039f"
             ],
             [
              0.2222222222222222,
              "#7201a8"
             ],
             [
              0.3333333333333333,
              "#9c179e"
             ],
             [
              0.4444444444444444,
              "#bd3786"
             ],
             [
              0.5555555555555556,
              "#d8576b"
             ],
             [
              0.6666666666666666,
              "#ed7953"
             ],
             [
              0.7777777777777778,
              "#fb9f3a"
             ],
             [
              0.8888888888888888,
              "#fdca26"
             ],
             [
              1,
              "#f0f921"
             ]
            ],
            "type": "histogram2d"
           }
          ],
          "histogram2dcontour": [
           {
            "colorbar": {
             "outlinewidth": 0,
             "ticks": ""
            },
            "colorscale": [
             [
              0,
              "#0d0887"
             ],
             [
              0.1111111111111111,
              "#46039f"
             ],
             [
              0.2222222222222222,
              "#7201a8"
             ],
             [
              0.3333333333333333,
              "#9c179e"
             ],
             [
              0.4444444444444444,
              "#bd3786"
             ],
             [
              0.5555555555555556,
              "#d8576b"
             ],
             [
              0.6666666666666666,
              "#ed7953"
             ],
             [
              0.7777777777777778,
              "#fb9f3a"
             ],
             [
              0.8888888888888888,
              "#fdca26"
             ],
             [
              1,
              "#f0f921"
             ]
            ],
            "type": "histogram2dcontour"
           }
          ],
          "mesh3d": [
           {
            "colorbar": {
             "outlinewidth": 0,
             "ticks": ""
            },
            "type": "mesh3d"
           }
          ],
          "parcoords": [
           {
            "line": {
             "colorbar": {
              "outlinewidth": 0,
              "ticks": ""
             }
            },
            "type": "parcoords"
           }
          ],
          "pie": [
           {
            "automargin": true,
            "type": "pie"
           }
          ],
          "scatter": [
           {
            "fillpattern": {
             "fillmode": "overlay",
             "size": 10,
             "solidity": 0.2
            },
            "type": "scatter"
           }
          ],
          "scatter3d": [
           {
            "line": {
             "colorbar": {
              "outlinewidth": 0,
              "ticks": ""
             }
            },
            "marker": {
             "colorbar": {
              "outlinewidth": 0,
              "ticks": ""
             }
            },
            "type": "scatter3d"
           }
          ],
          "scattercarpet": [
           {
            "marker": {
             "colorbar": {
              "outlinewidth": 0,
              "ticks": ""
             }
            },
            "type": "scattercarpet"
           }
          ],
          "scattergeo": [
           {
            "marker": {
             "colorbar": {
              "outlinewidth": 0,
              "ticks": ""
             }
            },
            "type": "scattergeo"
           }
          ],
          "scattergl": [
           {
            "marker": {
             "colorbar": {
              "outlinewidth": 0,
              "ticks": ""
             }
            },
            "type": "scattergl"
           }
          ],
          "scattermapbox": [
           {
            "marker": {
             "colorbar": {
              "outlinewidth": 0,
              "ticks": ""
             }
            },
            "type": "scattermapbox"
           }
          ],
          "scatterpolar": [
           {
            "marker": {
             "colorbar": {
              "outlinewidth": 0,
              "ticks": ""
             }
            },
            "type": "scatterpolar"
           }
          ],
          "scatterpolargl": [
           {
            "marker": {
             "colorbar": {
              "outlinewidth": 0,
              "ticks": ""
             }
            },
            "type": "scatterpolargl"
           }
          ],
          "scatterternary": [
           {
            "marker": {
             "colorbar": {
              "outlinewidth": 0,
              "ticks": ""
             }
            },
            "type": "scatterternary"
           }
          ],
          "surface": [
           {
            "colorbar": {
             "outlinewidth": 0,
             "ticks": ""
            },
            "colorscale": [
             [
              0,
              "#0d0887"
             ],
             [
              0.1111111111111111,
              "#46039f"
             ],
             [
              0.2222222222222222,
              "#7201a8"
             ],
             [
              0.3333333333333333,
              "#9c179e"
             ],
             [
              0.4444444444444444,
              "#bd3786"
             ],
             [
              0.5555555555555556,
              "#d8576b"
             ],
             [
              0.6666666666666666,
              "#ed7953"
             ],
             [
              0.7777777777777778,
              "#fb9f3a"
             ],
             [
              0.8888888888888888,
              "#fdca26"
             ],
             [
              1,
              "#f0f921"
             ]
            ],
            "type": "surface"
           }
          ],
          "table": [
           {
            "cells": {
             "fill": {
              "color": "#EBF0F8"
             },
             "line": {
              "color": "white"
             }
            },
            "header": {
             "fill": {
              "color": "#C8D4E3"
             },
             "line": {
              "color": "white"
             }
            },
            "type": "table"
           }
          ]
         },
         "layout": {
          "annotationdefaults": {
           "arrowcolor": "#2a3f5f",
           "arrowhead": 0,
           "arrowwidth": 1
          },
          "autotypenumbers": "strict",
          "coloraxis": {
           "colorbar": {
            "outlinewidth": 0,
            "ticks": ""
           }
          },
          "colorscale": {
           "diverging": [
            [
             0,
             "#8e0152"
            ],
            [
             0.1,
             "#c51b7d"
            ],
            [
             0.2,
             "#de77ae"
            ],
            [
             0.3,
             "#f1b6da"
            ],
            [
             0.4,
             "#fde0ef"
            ],
            [
             0.5,
             "#f7f7f7"
            ],
            [
             0.6,
             "#e6f5d0"
            ],
            [
             0.7,
             "#b8e186"
            ],
            [
             0.8,
             "#7fbc41"
            ],
            [
             0.9,
             "#4d9221"
            ],
            [
             1,
             "#276419"
            ]
           ],
           "sequential": [
            [
             0,
             "#0d0887"
            ],
            [
             0.1111111111111111,
             "#46039f"
            ],
            [
             0.2222222222222222,
             "#7201a8"
            ],
            [
             0.3333333333333333,
             "#9c179e"
            ],
            [
             0.4444444444444444,
             "#bd3786"
            ],
            [
             0.5555555555555556,
             "#d8576b"
            ],
            [
             0.6666666666666666,
             "#ed7953"
            ],
            [
             0.7777777777777778,
             "#fb9f3a"
            ],
            [
             0.8888888888888888,
             "#fdca26"
            ],
            [
             1,
             "#f0f921"
            ]
           ],
           "sequentialminus": [
            [
             0,
             "#0d0887"
            ],
            [
             0.1111111111111111,
             "#46039f"
            ],
            [
             0.2222222222222222,
             "#7201a8"
            ],
            [
             0.3333333333333333,
             "#9c179e"
            ],
            [
             0.4444444444444444,
             "#bd3786"
            ],
            [
             0.5555555555555556,
             "#d8576b"
            ],
            [
             0.6666666666666666,
             "#ed7953"
            ],
            [
             0.7777777777777778,
             "#fb9f3a"
            ],
            [
             0.8888888888888888,
             "#fdca26"
            ],
            [
             1,
             "#f0f921"
            ]
           ]
          },
          "colorway": [
           "#636efa",
           "#EF553B",
           "#00cc96",
           "#ab63fa",
           "#FFA15A",
           "#19d3f3",
           "#FF6692",
           "#B6E880",
           "#FF97FF",
           "#FECB52"
          ],
          "font": {
           "color": "#2a3f5f"
          },
          "geo": {
           "bgcolor": "white",
           "lakecolor": "white",
           "landcolor": "#E5ECF6",
           "showlakes": true,
           "showland": true,
           "subunitcolor": "white"
          },
          "hoverlabel": {
           "align": "left"
          },
          "hovermode": "closest",
          "mapbox": {
           "style": "light"
          },
          "paper_bgcolor": "white",
          "plot_bgcolor": "#E5ECF6",
          "polar": {
           "angularaxis": {
            "gridcolor": "white",
            "linecolor": "white",
            "ticks": ""
           },
           "bgcolor": "#E5ECF6",
           "radialaxis": {
            "gridcolor": "white",
            "linecolor": "white",
            "ticks": ""
           }
          },
          "scene": {
           "xaxis": {
            "backgroundcolor": "#E5ECF6",
            "gridcolor": "white",
            "gridwidth": 2,
            "linecolor": "white",
            "showbackground": true,
            "ticks": "",
            "zerolinecolor": "white"
           },
           "yaxis": {
            "backgroundcolor": "#E5ECF6",
            "gridcolor": "white",
            "gridwidth": 2,
            "linecolor": "white",
            "showbackground": true,
            "ticks": "",
            "zerolinecolor": "white"
           },
           "zaxis": {
            "backgroundcolor": "#E5ECF6",
            "gridcolor": "white",
            "gridwidth": 2,
            "linecolor": "white",
            "showbackground": true,
            "ticks": "",
            "zerolinecolor": "white"
           }
          },
          "shapedefaults": {
           "line": {
            "color": "#2a3f5f"
           }
          },
          "ternary": {
           "aaxis": {
            "gridcolor": "white",
            "linecolor": "white",
            "ticks": ""
           },
           "baxis": {
            "gridcolor": "white",
            "linecolor": "white",
            "ticks": ""
           },
           "bgcolor": "#E5ECF6",
           "caxis": {
            "gridcolor": "white",
            "linecolor": "white",
            "ticks": ""
           }
          },
          "title": {
           "x": 0.05
          },
          "xaxis": {
           "automargin": true,
           "gridcolor": "white",
           "linecolor": "white",
           "ticks": "",
           "title": {
            "standoff": 15
           },
           "zerolinecolor": "white",
           "zerolinewidth": 2
          },
          "yaxis": {
           "automargin": true,
           "gridcolor": "white",
           "linecolor": "white",
           "ticks": "",
           "title": {
            "standoff": 15
           },
           "zerolinecolor": "white",
           "zerolinewidth": 2
          }
         }
        },
        "title": {
         "text": "Bootstrap distribution for mean of mother's age"
        },
        "xaxis": {
         "title": {
          "text": "Bootstrap Means"
         }
        },
        "yaxis": {
         "title": {
          "text": "Frequency"
         }
        }
       }
      },
      "text/html": [
       "<div>                            <div id=\"5be0033e-8343-4aad-9c22-c558478342fe\" class=\"plotly-graph-div\" style=\"height:525px; width:100%;\"></div>            <script type=\"text/javascript\">                require([\"plotly\"], function(Plotly) {                    window.PLOTLYENV=window.PLOTLYENV || {};                                    if (document.getElementById(\"5be0033e-8343-4aad-9c22-c558478342fe\")) {                    Plotly.newPlot(                        \"5be0033e-8343-4aad-9c22-c558478342fe\",                        [{\"marker\":{\"color\":\"red\"},\"x\":[27.825],\"type\":\"histogram\"},{\"marker\":{\"color\":\"darkgrey\"},\"x\":[27.4075,27.1375,27.305,27.6425,27.01,27.405,27.185,27.1625,27.345,27.4075,27.2925,27.5075,27.7625,27.125,27.425,27.2225,27.7675,27.115,27.545,27.29,27.39,27.6,27.56,27.545,27.7125,27.245,27.815,27.805,27.4475,28.04,27.7625,27.39,27.3775,27.4125,27.2075,27.625,27.64,27.325,27.375,27.6425,27.1875,27.9775,27.815,26.9725,27.28,27.3875,26.715,27.45,27.92,27.7775,27.405,27.5625,27.47,27.3075,27.3425,27.6525,27.48,27.675,27.0575,27.25,27.5225,26.8425,27.305,27.555,27.87,27.465,27.92,27.5675,27.87,27.27,27.515,27.4525,27.44,27.5875,27.735,27.2875,27.0475,26.9975,27.8,27.105,27.18,27.0275,27.58,27.015,28.0875,27.2625,27.2925,27.8125,27.3975,27.775,27.005,27.6325,27.3325,27.3275,27.525,27.73,27.5525,27.245,27.42],\"type\":\"histogram\"}],                        {\"template\":{\"data\":{\"histogram2dcontour\":[{\"type\":\"histogram2dcontour\",\"colorbar\":{\"outlinewidth\":0,\"ticks\":\"\"},\"colorscale\":[[0.0,\"#0d0887\"],[0.1111111111111111,\"#46039f\"],[0.2222222222222222,\"#7201a8\"],[0.3333333333333333,\"#9c179e\"],[0.4444444444444444,\"#bd3786\"],[0.5555555555555556,\"#d8576b\"],[0.6666666666666666,\"#ed7953\"],[0.7777777777777778,\"#fb9f3a\"],[0.8888888888888888,\"#fdca26\"],[1.0,\"#f0f921\"]]}],\"choropleth\":[{\"type\":\"choropleth\",\"colorbar\":{\"outlinewidth\":0,\"ticks\":\"\"}}],\"histogram2d\":[{\"type\":\"histogram2d\",\"colorbar\":{\"outlinewidth\":0,\"ticks\":\"\"},\"colorscale\":[[0.0,\"#0d0887\"],[0.1111111111111111,\"#46039f\"],[0.2222222222222222,\"#7201a8\"],[0.3333333333333333,\"#9c179e\"],[0.4444444444444444,\"#bd3786\"],[0.5555555555555556,\"#d8576b\"],[0.6666666666666666,\"#ed7953\"],[0.7777777777777778,\"#fb9f3a\"],[0.8888888888888888,\"#fdca26\"],[1.0,\"#f0f921\"]]}],\"heatmap\":[{\"type\":\"heatmap\",\"colorbar\":{\"outlinewidth\":0,\"ticks\":\"\"},\"colorscale\":[[0.0,\"#0d0887\"],[0.1111111111111111,\"#46039f\"],[0.2222222222222222,\"#7201a8\"],[0.3333333333333333,\"#9c179e\"],[0.4444444444444444,\"#bd3786\"],[0.5555555555555556,\"#d8576b\"],[0.6666666666666666,\"#ed7953\"],[0.7777777777777778,\"#fb9f3a\"],[0.8888888888888888,\"#fdca26\"],[1.0,\"#f0f921\"]]}],\"heatmapgl\":[{\"type\":\"heatmapgl\",\"colorbar\":{\"outlinewidth\":0,\"ticks\":\"\"},\"colorscale\":[[0.0,\"#0d0887\"],[0.1111111111111111,\"#46039f\"],[0.2222222222222222,\"#7201a8\"],[0.3333333333333333,\"#9c179e\"],[0.4444444444444444,\"#bd3786\"],[0.5555555555555556,\"#d8576b\"],[0.6666666666666666,\"#ed7953\"],[0.7777777777777778,\"#fb9f3a\"],[0.8888888888888888,\"#fdca26\"],[1.0,\"#f0f921\"]]}],\"contourcarpet\":[{\"type\":\"contourcarpet\",\"colorbar\":{\"outlinewidth\":0,\"ticks\":\"\"}}],\"contour\":[{\"type\":\"contour\",\"colorbar\":{\"outlinewidth\":0,\"ticks\":\"\"},\"colorscale\":[[0.0,\"#0d0887\"],[0.1111111111111111,\"#46039f\"],[0.2222222222222222,\"#7201a8\"],[0.3333333333333333,\"#9c179e\"],[0.4444444444444444,\"#bd3786\"],[0.5555555555555556,\"#d8576b\"],[0.6666666666666666,\"#ed7953\"],[0.7777777777777778,\"#fb9f3a\"],[0.8888888888888888,\"#fdca26\"],[1.0,\"#f0f921\"]]}],\"surface\":[{\"type\":\"surface\",\"colorbar\":{\"outlinewidth\":0,\"ticks\":\"\"},\"colorscale\":[[0.0,\"#0d0887\"],[0.1111111111111111,\"#46039f\"],[0.2222222222222222,\"#7201a8\"],[0.3333333333333333,\"#9c179e\"],[0.4444444444444444,\"#bd3786\"],[0.5555555555555556,\"#d8576b\"],[0.6666666666666666,\"#ed7953\"],[0.7777777777777778,\"#fb9f3a\"],[0.8888888888888888,\"#fdca26\"],[1.0,\"#f0f921\"]]}],\"mesh3d\":[{\"type\":\"mesh3d\",\"colorbar\":{\"outlinewidth\":0,\"ticks\":\"\"}}],\"scatter\":[{\"fillpattern\":{\"fillmode\":\"overlay\",\"size\":10,\"solidity\":0.2},\"type\":\"scatter\"}],\"parcoords\":[{\"type\":\"parcoords\",\"line\":{\"colorbar\":{\"outlinewidth\":0,\"ticks\":\"\"}}}],\"scatterpolargl\":[{\"type\":\"scatterpolargl\",\"marker\":{\"colorbar\":{\"outlinewidth\":0,\"ticks\":\"\"}}}],\"bar\":[{\"error_x\":{\"color\":\"#2a3f5f\"},\"error_y\":{\"color\":\"#2a3f5f\"},\"marker\":{\"line\":{\"color\":\"#E5ECF6\",\"width\":0.5},\"pattern\":{\"fillmode\":\"overlay\",\"size\":10,\"solidity\":0.2}},\"type\":\"bar\"}],\"scattergeo\":[{\"type\":\"scattergeo\",\"marker\":{\"colorbar\":{\"outlinewidth\":0,\"ticks\":\"\"}}}],\"scatterpolar\":[{\"type\":\"scatterpolar\",\"marker\":{\"colorbar\":{\"outlinewidth\":0,\"ticks\":\"\"}}}],\"histogram\":[{\"marker\":{\"pattern\":{\"fillmode\":\"overlay\",\"size\":10,\"solidity\":0.2}},\"type\":\"histogram\"}],\"scattergl\":[{\"type\":\"scattergl\",\"marker\":{\"colorbar\":{\"outlinewidth\":0,\"ticks\":\"\"}}}],\"scatter3d\":[{\"type\":\"scatter3d\",\"line\":{\"colorbar\":{\"outlinewidth\":0,\"ticks\":\"\"}},\"marker\":{\"colorbar\":{\"outlinewidth\":0,\"ticks\":\"\"}}}],\"scattermapbox\":[{\"type\":\"scattermapbox\",\"marker\":{\"colorbar\":{\"outlinewidth\":0,\"ticks\":\"\"}}}],\"scatterternary\":[{\"type\":\"scatterternary\",\"marker\":{\"colorbar\":{\"outlinewidth\":0,\"ticks\":\"\"}}}],\"scattercarpet\":[{\"type\":\"scattercarpet\",\"marker\":{\"colorbar\":{\"outlinewidth\":0,\"ticks\":\"\"}}}],\"carpet\":[{\"aaxis\":{\"endlinecolor\":\"#2a3f5f\",\"gridcolor\":\"white\",\"linecolor\":\"white\",\"minorgridcolor\":\"white\",\"startlinecolor\":\"#2a3f5f\"},\"baxis\":{\"endlinecolor\":\"#2a3f5f\",\"gridcolor\":\"white\",\"linecolor\":\"white\",\"minorgridcolor\":\"white\",\"startlinecolor\":\"#2a3f5f\"},\"type\":\"carpet\"}],\"table\":[{\"cells\":{\"fill\":{\"color\":\"#EBF0F8\"},\"line\":{\"color\":\"white\"}},\"header\":{\"fill\":{\"color\":\"#C8D4E3\"},\"line\":{\"color\":\"white\"}},\"type\":\"table\"}],\"barpolar\":[{\"marker\":{\"line\":{\"color\":\"#E5ECF6\",\"width\":0.5},\"pattern\":{\"fillmode\":\"overlay\",\"size\":10,\"solidity\":0.2}},\"type\":\"barpolar\"}],\"pie\":[{\"automargin\":true,\"type\":\"pie\"}]},\"layout\":{\"autotypenumbers\":\"strict\",\"colorway\":[\"#636efa\",\"#EF553B\",\"#00cc96\",\"#ab63fa\",\"#FFA15A\",\"#19d3f3\",\"#FF6692\",\"#B6E880\",\"#FF97FF\",\"#FECB52\"],\"font\":{\"color\":\"#2a3f5f\"},\"hovermode\":\"closest\",\"hoverlabel\":{\"align\":\"left\"},\"paper_bgcolor\":\"white\",\"plot_bgcolor\":\"#E5ECF6\",\"polar\":{\"bgcolor\":\"#E5ECF6\",\"angularaxis\":{\"gridcolor\":\"white\",\"linecolor\":\"white\",\"ticks\":\"\"},\"radialaxis\":{\"gridcolor\":\"white\",\"linecolor\":\"white\",\"ticks\":\"\"}},\"ternary\":{\"bgcolor\":\"#E5ECF6\",\"aaxis\":{\"gridcolor\":\"white\",\"linecolor\":\"white\",\"ticks\":\"\"},\"baxis\":{\"gridcolor\":\"white\",\"linecolor\":\"white\",\"ticks\":\"\"},\"caxis\":{\"gridcolor\":\"white\",\"linecolor\":\"white\",\"ticks\":\"\"}},\"coloraxis\":{\"colorbar\":{\"outlinewidth\":0,\"ticks\":\"\"}},\"colorscale\":{\"sequential\":[[0.0,\"#0d0887\"],[0.1111111111111111,\"#46039f\"],[0.2222222222222222,\"#7201a8\"],[0.3333333333333333,\"#9c179e\"],[0.4444444444444444,\"#bd3786\"],[0.5555555555555556,\"#d8576b\"],[0.6666666666666666,\"#ed7953\"],[0.7777777777777778,\"#fb9f3a\"],[0.8888888888888888,\"#fdca26\"],[1.0,\"#f0f921\"]],\"sequentialminus\":[[0.0,\"#0d0887\"],[0.1111111111111111,\"#46039f\"],[0.2222222222222222,\"#7201a8\"],[0.3333333333333333,\"#9c179e\"],[0.4444444444444444,\"#bd3786\"],[0.5555555555555556,\"#d8576b\"],[0.6666666666666666,\"#ed7953\"],[0.7777777777777778,\"#fb9f3a\"],[0.8888888888888888,\"#fdca26\"],[1.0,\"#f0f921\"]],\"diverging\":[[0,\"#8e0152\"],[0.1,\"#c51b7d\"],[0.2,\"#de77ae\"],[0.3,\"#f1b6da\"],[0.4,\"#fde0ef\"],[0.5,\"#f7f7f7\"],[0.6,\"#e6f5d0\"],[0.7,\"#b8e186\"],[0.8,\"#7fbc41\"],[0.9,\"#4d9221\"],[1,\"#276419\"]]},\"xaxis\":{\"gridcolor\":\"white\",\"linecolor\":\"white\",\"ticks\":\"\",\"title\":{\"standoff\":15},\"zerolinecolor\":\"white\",\"automargin\":true,\"zerolinewidth\":2},\"yaxis\":{\"gridcolor\":\"white\",\"linecolor\":\"white\",\"ticks\":\"\",\"title\":{\"standoff\":15},\"zerolinecolor\":\"white\",\"automargin\":true,\"zerolinewidth\":2},\"scene\":{\"xaxis\":{\"backgroundcolor\":\"#E5ECF6\",\"gridcolor\":\"white\",\"linecolor\":\"white\",\"showbackground\":true,\"ticks\":\"\",\"zerolinecolor\":\"white\",\"gridwidth\":2},\"yaxis\":{\"backgroundcolor\":\"#E5ECF6\",\"gridcolor\":\"white\",\"linecolor\":\"white\",\"showbackground\":true,\"ticks\":\"\",\"zerolinecolor\":\"white\",\"gridwidth\":2},\"zaxis\":{\"backgroundcolor\":\"#E5ECF6\",\"gridcolor\":\"white\",\"linecolor\":\"white\",\"showbackground\":true,\"ticks\":\"\",\"zerolinecolor\":\"white\",\"gridwidth\":2}},\"shapedefaults\":{\"line\":{\"color\":\"#2a3f5f\"}},\"annotationdefaults\":{\"arrowcolor\":\"#2a3f5f\",\"arrowhead\":0,\"arrowwidth\":1},\"geo\":{\"bgcolor\":\"white\",\"landcolor\":\"#E5ECF6\",\"subunitcolor\":\"white\",\"showland\":true,\"showlakes\":true,\"lakecolor\":\"white\"},\"title\":{\"x\":0.05},\"mapbox\":{\"style\":\"light\"}}},\"xaxis\":{\"title\":{\"text\":\"Bootstrap Means\"}},\"yaxis\":{\"title\":{\"text\":\"Frequency\"}},\"title\":{\"text\":\"Bootstrap distribution for mean of mother's age\"},\"showlegend\":false,\"barmode\":\"stack\"},                        {\"responsive\": true}                    ).then(function(){\n",
       "                            \n",
       "var gd = document.getElementById('5be0033e-8343-4aad-9c22-c558478342fe');\n",
       "var x = new MutationObserver(function (mutations, observer) {{\n",
       "        var display = window.getComputedStyle(gd).display;\n",
       "        if (!display || display === 'none') {{\n",
       "            console.log([gd, 'removed!']);\n",
       "            Plotly.purge(gd);\n",
       "            observer.disconnect();\n",
       "        }}\n",
       "}});\n",
       "\n",
       "// Listen for the removal of the full notebook cells\n",
       "var notebookContainer = gd.closest('#notebook-container');\n",
       "if (notebookContainer) {{\n",
       "    x.observe(notebookContainer, {childList: true});\n",
       "}}\n",
       "\n",
       "// Listen for the clearing of the current output cell\n",
       "var outputEl = gd.closest('.output');\n",
       "if (outputEl) {{\n",
       "    x.observe(outputEl, {childList: true});\n",
       "}}\n",
       "\n",
       "                        })                };                });            </script>        </div>"
      ]
     },
     "metadata": {},
     "output_type": "display_data"
    }
   ],
   "source": [
    "import plotly.graph_objects as go\n",
    "np.random.seed(98)\n",
    "\n",
    "sample_size=len(gestation)\n",
    "gest_boot_means = []\n",
    "for i in range(100):\n",
    "    gest_boot_sample = np.random.choice(gestation['age'], sample_size)\n",
    "    gest_boot_means += [gest_boot_sample.mean()]\n",
    "    \n",
    "boot_means1 = pd.DataFrame({'boot_means': [gest_boot_means[0]]})\n",
    "boot_means2to100 = pd.DataFrame({'boot_means': gest_boot_means[1:]})\n",
    "\n",
    "fig = go.Figure()\n",
    "fig.add_trace(go.Histogram(x=boot_means1['boot_means'], marker_color='red'))\n",
    "fig.add_trace(go.Histogram(x=boot_means2to100['boot_means'], marker_color='darkgrey'))\n",
    "fig.update_layout(title='Bootstrap distribution for mean of mother\\'s age', xaxis_title_text='Bootstrap Means', \n",
    "                  yaxis_title_text='Frequency', showlegend=False, barmode='stack')\n",
    "\n",
    "fig.show()"
   ]
  },
  {
   "cell_type": "markdown",
   "id": "0b841e04",
   "metadata": {},
   "source": [
    "> Answer here..."
   ]
  },
  {
   "cell_type": "markdown",
   "id": "f63a015f",
   "metadata": {},
   "source": [
    "### Q17: Find a 99% bootstrap confidence interval for the mean of mother’s age using 2000 bootstrap samples.\n",
    "- Compare your confidence interval to the answer given in the ***MarkUs*** output "
   ]
  },
  {
   "cell_type": "code",
   "execution_count": 11,
   "id": "77e9b159",
   "metadata": {},
   "outputs": [],
   "source": [
    "np.random.seed(130) # Do NOT change this line - there is randomness when bootstrapping\n",
    "\n",
    "# code your answer here"
   ]
  },
  {
   "cell_type": "markdown",
   "id": "bf8be5ee",
   "metadata": {},
   "source": [
    "### Q18: Explain why the interpretation “There is a 99% chance that the true mean of a mother’s age at the time this sample was taken is between 26.7 and 28.2 years.” is INCORRECT. What is a correct interpretation?\n",
    "- Compare your response to the answer given in the ***MarkUs*** output "
   ]
  },
  {
   "cell_type": "markdown",
   "id": "d4c65b74",
   "metadata": {},
   "source": [
    "> Answer here..."
   ]
  },
  {
   "cell_type": "markdown",
   "id": "6ccf2491",
   "metadata": {},
   "source": [
    "### Q19: Find a 95% bootstrap confidence interval for the *median* of mother’s age using 2000 bootstrap samples.\n",
    "- Compare your confidence interval to the answer given in the ***MarkUs*** output "
   ]
  },
  {
   "cell_type": "code",
   "execution_count": 12,
   "id": "9414ab21",
   "metadata": {},
   "outputs": [],
   "source": [
    "np.random.seed(130) # Do NOT change this line - there is randomness when bootstrapping\n",
    "\n",
    "# code your answer here"
   ]
  },
  {
   "cell_type": "markdown",
   "id": "4576a864",
   "metadata": {},
   "source": [
    "### Q20: Write a statement interpreting this interval.\n",
    "- Compare your response to the answer given in the ***MarkUs*** output "
   ]
  },
  {
   "cell_type": "markdown",
   "id": "6ac8ba55",
   "metadata": {},
   "source": [
    "> Answer here..."
   ]
  }
 ],
 "metadata": {
  "kernelspec": {
   "display_name": "Python 3 (ipykernel)",
   "language": "python",
   "name": "python3"
  },
  "language_info": {
   "codemirror_mode": {
    "name": "ipython",
    "version": 3
   },
   "file_extension": ".py",
   "mimetype": "text/x-python",
   "name": "python",
   "nbconvert_exporter": "python",
   "pygments_lexer": "ipython3",
   "version": "3.10.8"
  }
 },
 "nbformat": 4,
 "nbformat_minor": 5
}
