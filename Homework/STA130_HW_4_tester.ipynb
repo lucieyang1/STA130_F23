{
 "cells": [
  {
   "cell_type": "markdown",
   "id": "42ab3d54",
   "metadata": {},
   "source": [
    "# Coding Homework 4: [Your Name]\n",
    "\n",
    "Go through this notebook, following the instructions! \n",
    "- You can add new cells if you need (with the \"+\" button above); but, deleting (or resorting) cells could very likely cause your notebook to fail ***MarkUs*** autotesting (and you'd have to start over and re-enter your answers into a completely fresh version of the notebook to get things to work again...)\n",
    "\n",
    "> TAs will mark this assignment by checking ***MarkUs*** autotests; then, manually confirming the correctness of plot in `Q2` and `Q13` (based on correct code usage of `replace=False`, etc.); then, manually reviewing the written response to question `Q6`. TAs may or may not spot check the presence of plots for `Q8` and `Q9` and written answers for `Q8`.\n",
    "> - The autotests for questions `Q8` and `Q9` (and `Q6`) \"automatically fail\" during automated testing with ***MarkUs*** in order to expose example answers for student consideration and review.  These failed ***MarkUs*** \"autotests\" are not counted against the student. "
   ]
  },
  {
   "cell_type": "markdown",
   "id": "c6b08913",
   "metadata": {},
   "source": [
    "## Driving on the \"Right\" Side of the Road\n",
    "Let's consider how cars drive on the right or left side of the road in different countries. World Standards' [list of left driving countries](https://www.worldstandards.eu/cars/list-of-left-driving-countries/) shows that 86 of all 270 countries in the world drive on the left side of the road."
   ]
  },
  {
   "cell_type": "code",
   "execution_count": 1,
   "id": "07099e61",
   "metadata": {},
   "outputs": [],
   "source": [
    "# Run the following code to get the data\n",
    "import pandas as pd # used immediately\n",
    "import numpy as np # to be used eventually!\n",
    "\n",
    "roaddata = pd.DataFrame({\"road_side\": [\"left\"] * 86 + [\"right\"] * (270 - 86)})"
   ]
  },
  {
   "cell_type": "code",
   "execution_count": 3,
   "id": "26ecf996",
   "metadata": {},
   "outputs": [],
   "source": [
    "# Have a look at the data!\n"
   ]
  },
  {
   "cell_type": "markdown",
   "id": "4debf2c3",
   "metadata": {},
   "source": [
    "### Q0: Are the observations (rows) in `roaddata` the entire population or a sample from a population?\n",
    "A. The entire population    \n",
    "B. A sample from the population"
   ]
  },
  {
   "cell_type": "code",
   "execution_count": 4,
   "id": "d512c280",
   "metadata": {},
   "outputs": [],
   "source": [
    "# Q0: your answer will be tested!\n",
    "Q0 = None # Assign either 'A' or 'B' to `Q0` instead of `None`\n",
    "# E.g., Q0 = 'A'"
   ]
  },
  {
   "cell_type": "code",
   "execution_count": 7,
   "id": "1757fc2f",
   "metadata": {},
   "outputs": [],
   "source": [
    "test = Q0=='A'\n",
    "hint = \"If `roaddata` was a sample, then what would the population be?\\n\"\n",
    "hint += 'If \"alternate universes\" is your answer then we have only n=1 observation(!)\\n'\n",
    "hint += 'which is a single row with many measurements\\n'\n",
    "hint += '(of the side of the road cars drive on in all the different countries on earth).'"
   ]
  },
  {
   "cell_type": "code",
   "execution_count": 8,
   "id": "a25e6a8b",
   "metadata": {},
   "outputs": [
    {
     "ename": "AssertionError",
     "evalue": "If `roaddata` was a sample, then what would the population be?\nIf \"alternative universes\" is your answer then we have only n=1 observation(!)\nwhich is a single row with many measurements\n(of the side of the road cars drive on in all the different countries on earth).",
     "output_type": "error",
     "traceback": [
      "\u001b[0;31m---------------------------------------------------------------------------\u001b[0m",
      "\u001b[0;31mAssertionError\u001b[0m                            Traceback (most recent call last)",
      "Cell \u001b[0;32mIn[8], line 3\u001b[0m\n\u001b[1;32m      1\u001b[0m \u001b[38;5;66;03m# test_Q0\u001b[39;00m\n\u001b[0;32m----> 3\u001b[0m \u001b[38;5;28;01massert\u001b[39;00m test, hint\n",
      "\u001b[0;31mAssertionError\u001b[0m: If `roaddata` was a sample, then what would the population be?\nIf \"alternative universes\" is your answer then we have only n=1 observation(!)\nwhich is a single row with many measurements\n(of the side of the road cars drive on in all the different countries on earth)."
     ]
    }
   ],
   "source": [
    "# test_Q0\n",
    "\n",
    "assert test, hint"
   ]
  },
  {
   "cell_type": "markdown",
   "id": "255ce211",
   "metadata": {},
   "source": [
    "### Q1: Select a random sample of 100 *unique* countries from `roaddata` and call it `roaddata_sample`.\n",
    "\n",
    "#### The  `roaddata_sample` object must be a `pd.DataFrame` subset of the contents of `roaddata`.\n",
    "\n",
    "> - Hint 1: Use `roaddata.sample()`; or, [google \"python pandas sample\"](https://letmegooglethat.com/?q=python+pandas+sample) and you'll want that first `pd.sample()` link that comes up.\n",
    ">\n",
    ">\n",
    "> - Hint 2: Do not use `replace=True` because this means after one of the countries is \"randomly sampled\", it is put back (\"replaced\" with `replace=True`) and can be drawn again (twice or even more!) but this is not what we want for this question! "
   ]
  },
  {
   "cell_type": "code",
   "execution_count": 5,
   "id": "a29cca1d",
   "metadata": {},
   "outputs": [],
   "source": [
    "# Q1: Your answer will be tested based on the created `roaddata_sample` `pd.DataFrame` object itself:\n",
    "#     you don't need to assign anything to a `Q1` object.\n",
    "np.random.seed(130) # Do NOT change this line: it sets the \"random number generation seed\"\n",
    "# which makes the \"pseudorandomness\" gererated in the code the same every time; which, \n",
    "# makes the code reproducible which ensures that our testing code works properly every time\n"
   ]
  },
  {
   "cell_type": "code",
   "execution_count": 19,
   "id": "85081e79",
   "metadata": {},
   "outputs": [],
   "source": [
    "# roaddata_sample = roaddata.sample(n=100)\n",
    "hint = \"Make sure you're using the specified seed\\n\"\n",
    "hint += \"and that you're not using `replace=True` because we want 100 UNIQUE countries.\""
   ]
  },
  {
   "cell_type": "code",
   "execution_count": 6,
   "id": "b01fc299",
   "metadata": {},
   "outputs": [],
   "source": [
    "# test_Q1\n",
    "left_count = roaddata_sample['road_side'].value_counts()['left']\n",
    "assert left_count == 30 and len(roaddata_sample) == 100, hint"
   ]
  },
  {
   "cell_type": "markdown",
   "id": "cb8f68da",
   "metadata": {},
   "source": [
    "### Q2: Using `roaddata_sample` (as opposed to `roaddata`) create 2000 bootstrap samples and visualize the distribution of proportions of countries where cars drive on the left side of the road observed across these 2000 bootstrap samples. \n",
    "\n",
    "#### Which of the following best describes how the `plotly` histogram of the bootstrap (sampling) distribution of the proportion of countries that drive on the left side compares to the proportion observed in the original sample?\n",
    "\n",
    "A. The proportion observed in the orginal sample is on the left side of the bootstrap (sampling) distribution of proportions, which makes sense since the sample size is less than the population size  \n",
    "\n",
    "B. The proportion observed in the orginal sample is pretty much in the middle of the bootstrap (sampling) distribution of proportions, which makes sense since bootstrap data is resampled versions of the original sample  \n",
    "\n",
    "C. The proportion observed in the orginal sample is on the right side of the bootstrap (sampling) distribution of proportions, which makes sense since there are more bootstrap samples than the orignal sample size  \n",
    "\n",
    "D. None of the above  \n",
    "\n",
    "> - Hint 1: **A bootstrap sample is a resampling of another sample with replacement based on that original sample; so, bootstrapping means creating many bootstrap samples from an original sample that (a) have the same sample size as the original sample and (b) where each observation in the sample can be selected regardless of whether or not it was previously selected (which is known as \"sampling with replacement\" and in `python` is specified in code using `replace=True`)**.\n",
    ">   - If `replace=False` then the resamples (of the same size as the original sample) would just recreate the original sample!\n",
    ">\n",
    ">\n",
    "> - Hint 2: To calculate a proportion you can use coercion to change 'left' and 'right' into `0`'s and `1`'s as you create the average `(roaddata_sample['road_side'] == 'left').mean()` (which is a proportion). \n",
    ">\n",
    ">\n",
    "> - Hint 3: You can mark the proportion in the original sample on your histogram with `fig.add_vline(x=(roaddata_sample['road_side'] == 'left').mean())`.\n",
    ">\n",
    ">\n",
    "> - Hint 4: The population is `roaddata`, whereas `roaddata_sample` is a sample from this population... <br>**Bootstrapping samples from samples... samples from populations are just samples...**\n",
    ">\n",
    ">\n",
    "> - Hint 5: In the multiple choice options above, the reason \"(sampling)\" is emphasized in \"bootstrap (sampling) distribution of proportions\" is because a \"sampling distribution\" refers specifically to the notion of a \"distribution of a statistic\" (here a proportion) created from a sample (which is distinct from the distribution of the population or the sample itself). A \"sampling distribution\" can be derived theoretically in some cases; or, simulated by resampling from the population (if it's available) over and over (and recalculating the statistic in each sample and visualing the distribution of these \"sampled\" statistics). What we're doing in this problem is creating what should should be referred to as a \"bootstrap sampling distribution of proportions\", wherein we presume the sample we have is sufficiently representative of the population to allow us to proceed by using it as such: the sample then \"replaces\" the population with us pretending that it is a suitable stand in placeholder for the population. \n",
    ">   - If you had the whole population then you'd know everything about it exactly without concerning yourself with sampling *per se*; so, for situations we're you don't have the population you can emulate sampling from the population by instead bootstrap sampling from the sample that you do have as if it was the population itself...\n",
    ">\n",
    ">\n",
    "> - Hint 6: `(roaddata_sample['road_side']=='left').mean()` is different than `(roaddata_sample=='left').mean()`...\n"
   ]
  },
  {
   "cell_type": "code",
   "execution_count": null,
   "id": "1b4624b8",
   "metadata": {},
   "outputs": [],
   "source": [
    "# Complete the code here and add scratch work cells above if needed\n",
    "\n",
    "np.random.seed(130) # Use this line to create reproducible pseudorandomness for your bootstrapping\n",
    "\n",
    "number_of_bootstrap_samples = 2000 \n",
    "# -> use one of these \n",
    "#bootstrapped_proportions_v1 = []\n",
    "#bootstrapped_proportions_v2 = np.array([0.0]*number_of_bootstrap_samples, dtype='float')\n",
    "for i in range(number_of_bootstrap_samples):\n",
    "    pass # complete\n",
    "    # -> corresponding to one of these\n",
    "    # bootstrapped_proportions_v1 += [new_bootstrap_proportion] # Note `.values[0]` in hints 2 and 3...\n",
    "    # bootstrapped_proportions_v2[i] = new_bootstrap_proportion"
   ]
  },
  {
   "cell_type": "code",
   "execution_count": null,
   "id": "ad5018f0",
   "metadata": {},
   "outputs": [],
   "source": [
    "# Add a figure of `bootstrapped_proportions`"
   ]
  },
  {
   "cell_type": "code",
   "execution_count": 21,
   "id": "6f897cf5",
   "metadata": {},
   "outputs": [],
   "source": [
    "# Q2: your answer will be tested!\n",
    "Q2 = None # Assign either 'A', 'B', 'C', or 'D' to `Q2` instead of `None`\n",
    "# E.g., Q2 = 'A'"
   ]
  },
  {
   "cell_type": "code",
   "execution_count": 31,
   "id": "5d92f7cd",
   "metadata": {},
   "outputs": [],
   "source": [
    "hint = '''The following code should be helpful...\n",
    "and it also demonstrates some possible good code optimizations...'''\n",
    "\n",
    "code = '''\n",
    "\n",
    "np.random.seed(130) # Use this line to create reproducible pseudorandomness for your bootstrapping\n",
    "\n",
    "import plotly.express as px\n",
    "\n",
    "# let's just convert to 0/1 numeric -- it's more efficient to just do this once!\n",
    "roaddata_sample['numeric'] = np.where(roaddata_sample['road_side'] == 'left', 1, 0) # or\n",
    "# roaddata_sample['boolean_coercable_to_numeric'] = (roaddata_sample['road_side'] == 'left')\n",
    "sample_size_n = roaddata_sample.shape[0]\n",
    "number_of_bootstrap_samples = 2000\n",
    "bootstrapped_proportions = np.array([0.0]*number_of_bootstrap_samples, dtype='float')\n",
    "# it's more efficient to use an `np.array` rather than a `list`, especially if you make an empty list\n",
    "# `bootstrapped_proportions=[]` that you incrementally extend `bootstrapped_proportions+=[next_prop]`\n",
    "# Watch Out: without `dtype='float'` and using `[0]` instead of `[0.0]` would make np.array store integers\n",
    "# which would automatically round fractions like 0.25 to 0 and 0.75 to 1... so np.array data type matters!\n",
    "\n",
    "for i in range(number_of_bootstrap_samples):\n",
    "    # `np.random.choice` is an alternative to utilizing `roaddata_sample.sample(..., replace=True)`\n",
    "    bootstrap_sample = np.random.choice(roaddata_sample['numeric'], sample_size_n)\n",
    "    # bootstrap_sample = (bootstrap_sample == 'left').mean() # don't need this now!\n",
    "    bootstrapped_proportions[i] = bootstrap_sample.mean()\n",
    "\n",
    "fig = px.histogram(pd.DataFrame({\"Bootstrapped Proportions (i.e., means)\": bootstrapped_proportions}), \n",
    "                   x=\"Bootstrapped Proportions (i.e., means)\", histnorm='probability density', nbins=12)\n",
    "fig.add_vline(x=roaddata_sample['numeric'].mean())\n",
    "fig.show()\n",
    "'''\n",
    "test = (Q2=='B')"
   ]
  },
  {
   "cell_type": "code",
   "execution_count": 32,
   "id": "79412204",
   "metadata": {},
   "outputs": [
    {
     "ename": "AssertionError",
     "evalue": "The following code should be helpful...\nand it also demonstrates some possible good code optimizations...\n\nnp.random.seed(130) # Use this line to create reproducible pseudorandomness for your bootstrapping\n\nimport plotly.express as px\n\n# let's just convert to 0/1 numeric -- it's more efficient to just do this once!\nroaddata_sample['numeric'] = np.where(roaddata_sample['road_side'] == 'left', 1, 0) # or\n# roaddata_sample['boolean_coercable_to_numeric'] = (roaddata_sample['road_side'] == 'left')\nsample_size_n = roaddata_sample.shape[0]\nnumber_of_bootstrap_samples = 2000\nbootstrapped_proportions = np.array([0.0]*number_of_bootstrap_samples, dtype='float')\n# it's more efficient to use an `np.array` rather than a `list`, especially if you make an empty list\n# `bootstrapped_proportions=[]` that you incrementally extend `bootstrapped_proportions+=[next_prop]`\n# Watch Out: without `dtype='float'` and using `[0]` instead of `[0.0]` would make np.array store integers\n# which would automatically round fractions like 0.25 to 0 and 0.75 to 1... so np.array data type matters!\n\nfor i in range(number_of_bootstrap_samples):\n    # `np.random.choice` is an alternative to utilizing `roaddata_sample.sample(..., replace=True)`\n    bootstrap_sample = np.random.choice(roaddata_sample['numeric'], sample_size_n)\n    # bootstrap_sample = (bootstrap_sample == 'left').mean() # don't need this now!\n    bootstrapped_proportions[i] = bootstrap_sample.mean()\n\nfig = px.histogram(pd.DataFrame({\"Bootstrapped Proportions (i.e., means)\": bootstrapped_proportions}), \n                   x=\"Bootstrapped Proportions (i.e., means)\", histnorm='probability density', nbins=12)\nfig.add_vline(x=roaddata_sample['numeric'].mean())\nfig.show()\n",
     "output_type": "error",
     "traceback": [
      "\u001b[0;31m---------------------------------------------------------------------------\u001b[0m",
      "\u001b[0;31mAssertionError\u001b[0m                            Traceback (most recent call last)",
      "Cell \u001b[0;32mIn[32], line 3\u001b[0m\n\u001b[1;32m      1\u001b[0m \u001b[38;5;66;03m# test_Q2\u001b[39;00m\n\u001b[0;32m----> 3\u001b[0m \u001b[38;5;28;01massert\u001b[39;00m test, hint\u001b[38;5;241m+\u001b[39mcode\n",
      "\u001b[0;31mAssertionError\u001b[0m: The following code should be helpful...\nand it also demonstrates some possible good code optimizations...\n\nnp.random.seed(130) # Use this line to create reproducible pseudorandomness for your bootstrapping\n\nimport plotly.express as px\n\n# let's just convert to 0/1 numeric -- it's more efficient to just do this once!\nroaddata_sample['numeric'] = np.where(roaddata_sample['road_side'] == 'left', 1, 0) # or\n# roaddata_sample['boolean_coercable_to_numeric'] = (roaddata_sample['road_side'] == 'left')\nsample_size_n = roaddata_sample.shape[0]\nnumber_of_bootstrap_samples = 2000\nbootstrapped_proportions = np.array([0.0]*number_of_bootstrap_samples, dtype='float')\n# it's more efficient to use an `np.array` rather than a `list`, especially if you make an empty list\n# `bootstrapped_proportions=[]` that you incrementally extend `bootstrapped_proportions+=[next_prop]`\n# Watch Out: without `dtype='float'` and using `[0]` instead of `[0.0]` would make np.array store integers\n# which would automatically round fractions like 0.25 to 0 and 0.75 to 1... so np.array data type matters!\n\nfor i in range(number_of_bootstrap_samples):\n    # `np.random.choice` is an alternative to utilizing `roaddata_sample.sample(..., replace=True)`\n    bootstrap_sample = np.random.choice(roaddata_sample['numeric'], sample_size_n)\n    # bootstrap_sample = (bootstrap_sample == 'left').mean() # don't need this now!\n    bootstrapped_proportions[i] = bootstrap_sample.mean()\n\nfig = px.histogram(pd.DataFrame({\"Bootstrapped Proportions (i.e., means)\": bootstrapped_proportions}), \n                   x=\"Bootstrapped Proportions (i.e., means)\", histnorm='probability density', nbins=12)\nfig.add_vline(x=roaddata_sample['numeric'].mean())\nfig.show()\n"
     ]
    }
   ],
   "source": [
    "# test_Q2\n",
    "\n",
    "assert test, hint+code"
   ]
  },
  {
   "cell_type": "markdown",
   "id": "16c8ec77",
   "metadata": {},
   "source": [
    "### Q3: The proportion of countries where cars drive on the left size of the road in the original `roaddata_sample` sample is $0.3$; whereas, the overall mean of the bootstrapped proportions calculated using the solution code (given in the ***MarkUs*** hints for missed Q2 or Q3) is about $0.298155$; whereas, the actual proportion of all countries in `roaddata` where cars drive on the left side of the road is $0.31851851851851853$...\n",
    "\n",
    "\n",
    "#### Which of the following best explains why these numbers are different?\n",
    "\n",
    "A. The solution code is wrong since it uses pre-converted numeric values and a pre-allocated `np.array` that it indexes values into (as opposed to extending a list through concatenation) which is why it doesn't match the other numbers.  \n",
    "\n",
    "\n",
    "B. The larger the sample size, the closer the mean of the sample would be expected to be to the population mean (since it uses more values from the population); whereas, the overall average of a bootstrap sampling distribution would be expected to be more similar to the mean of the sample being bootstrapped (since it reflects the \"bias\" of that sample by only using values from that sample) and it should be increasingly similar as more and more bootstrap samples are averaged (and the bootstrap sampling distribution more and more accurately centers around the mean of the original sample). \n",
    "\n",
    "\n",
    "C. The overall average of a bootstrap sampling distribution will be closer to the original sample mean when there are fewer bootstrap samples, and closer to the population mean when there are more bootstrap samples.\n",
    "\n",
    "\n",
    "D. None of these are similar because none of them are related to each other.  "
   ]
  },
  {
   "cell_type": "code",
   "execution_count": null,
   "id": "6614af5e",
   "metadata": {},
   "outputs": [],
   "source": [
    "# cell for some scratch work if needed\n"
   ]
  },
  {
   "cell_type": "code",
   "execution_count": 26,
   "id": "8ccd84c6",
   "metadata": {},
   "outputs": [],
   "source": [
    "# Q3: your answer will be tested!\n",
    "Q3 = None # Assign either 'A', 'B', 'C', or 'D' to `Q3` instead of `None`\n",
    "# E.g., Q3 = 'A'"
   ]
  },
  {
   "cell_type": "code",
   "execution_count": 27,
   "id": "a1b9fff0",
   "metadata": {},
   "outputs": [],
   "source": [
    "hint = '''After running the code below, these three calcuations\n",
    "\n",
    "# mean bootstrapped proportion   sample proportion               population proportion\n",
    "bootstrapped_proportions.mean(), roaddata_sample.numeric.mean(), (roaddata=='left').values.mean()\n",
    "\n",
    "have the values (0.298155, 0.3, 0.31851851851851853)\n",
    "'''\n",
    "test = (Q3=='B')"
   ]
  },
  {
   "cell_type": "code",
   "execution_count": 28,
   "id": "b5003e5e",
   "metadata": {},
   "outputs": [
    {
     "ename": "AssertionError",
     "evalue": "After running the code below, these three calcuations\n\nbootstrapped_proportions.mean(), roaddata_sample.numeric.mean(), (roaddata=='left').values.mean()\n\nhave the values (0.29815499999999995, 0.3, 0.31851851851851853)\n\n\nnp.random.seed(130) # Use this line to create reproducible pseudorandomness for your bootstrapping\n\nimport plotly.express as px\n\n# let's just convert to 0/1 numeric once -- this is more efficient!\nroad_sample['numeric'] = np.where(road_sample['road_side'] == 'left', 1, 0) # or\n# road_sample['boolean_coercable_to_numeric'] = (road_sample['road_side'] == 'left')\nsample_size_n = 100\nnumber_of_bootstrap_samples = 2000\nbootstrapped_proportions = np.array([0.0]*number_of_bootstrap_samples, dtype='float')\n# it's more efficient to use an `np.array` rather than a `list`, especially if you make an empty list\n# `bootstrapped_proportions=[]` that you incrementally extend `bootstrapped_proportions+=[next_prop]`\nfor i in range(number_of_bootstrap_samples):\n    # `np.random.choice` is an alternative to utilizing `road_sample.sample(..., replace=True)`\n    bootstrap_sample = np.random.choice(road_sample['numeric'], sample_size_n)\n    # bootstrap_sample = (bootstrap_sample == 'left').mean() # don't need this now!\n    bootstrapped_proportions[i] = bootstrap_sample.mean()\n\nfig = px.histogram(pd.DataFrame({\"Bootstrapped Proportions (i.e., means)\": bootstrapped_proportions}), \n                   x=\"Bootstrapped Proportions (i.e., means)\", histnorm='probability density', nbins=12)\nfig.add_vline(x=road_sample['numeric'].mean())\nfig.show()\n",
     "output_type": "error",
     "traceback": [
      "\u001b[0;31m---------------------------------------------------------------------------\u001b[0m",
      "\u001b[0;31mAssertionError\u001b[0m                            Traceback (most recent call last)",
      "Cell \u001b[0;32mIn[28], line 3\u001b[0m\n\u001b[1;32m      1\u001b[0m \u001b[38;5;66;03m# test_Q3\u001b[39;00m\n\u001b[0;32m----> 3\u001b[0m \u001b[38;5;28;01massert\u001b[39;00m test, hint\u001b[38;5;241m+\u001b[39mcode\n",
      "\u001b[0;31mAssertionError\u001b[0m: After running the code below, these three calcuations\n\nbootstrapped_proportions.mean(), roaddata_sample.numeric.mean(), (roaddata=='left').values.mean()\n\nhave the values (0.29815499999999995, 0.3, 0.31851851851851853)\n\n\nnp.random.seed(130) # Use this line to create reproducible pseudorandomness for your bootstrapping\n\nimport plotly.express as px\n\n# let's just convert to 0/1 numeric once -- this is more efficient!\nroad_sample['numeric'] = np.where(road_sample['road_side'] == 'left', 1, 0) # or\n# road_sample['boolean_coercable_to_numeric'] = (road_sample['road_side'] == 'left')\nsample_size_n = 100\nnumber_of_bootstrap_samples = 2000\nbootstrapped_proportions = np.array([0.0]*number_of_bootstrap_samples, dtype='float')\n# it's more efficient to use an `np.array` rather than a `list`, especially if you make an empty list\n# `bootstrapped_proportions=[]` that you incrementally extend `bootstrapped_proportions+=[next_prop]`\nfor i in range(number_of_bootstrap_samples):\n    # `np.random.choice` is an alternative to utilizing `road_sample.sample(..., replace=True)`\n    bootstrap_sample = np.random.choice(road_sample['numeric'], sample_size_n)\n    # bootstrap_sample = (bootstrap_sample == 'left').mean() # don't need this now!\n    bootstrapped_proportions[i] = bootstrap_sample.mean()\n\nfig = px.histogram(pd.DataFrame({\"Bootstrapped Proportions (i.e., means)\": bootstrapped_proportions}), \n                   x=\"Bootstrapped Proportions (i.e., means)\", histnorm='probability density', nbins=12)\nfig.add_vline(x=road_sample['numeric'].mean())\nfig.show()\n"
     ]
    }
   ],
   "source": [
    "# test_Q3\n",
    "\n",
    "assert test, hint+code"
   ]
  },
  {
   "cell_type": "markdown",
   "id": "0edd86a3",
   "metadata": {},
   "source": [
    "### Q4: Calculate a 90% bootstrap confidence interval for the proportion of countries where cars drive on the left side of the road based on the bootstrap sampling distribution you generated in Q2.\n",
    "\n",
    "#### Give your interval limits as continuous numeric values rounded to two decimal positions.\n",
    "\n",
    "> - Hint 1: Use the `np.quantile` or `np.percentile` functions (which are slightly different... how?).\n",
    "> - Hint 2: **A 95% bootstrap confidence interval is based on the 0.025 and 97.5 percentiles of a bootstrapped sampling distribution...**"
   ]
  },
  {
   "cell_type": "code",
   "execution_count": 35,
   "id": "51619289",
   "metadata": {},
   "outputs": [
    {
     "data": {
      "text/plain": [
       "array([0.22, 0.38])"
      ]
     },
     "execution_count": 35,
     "metadata": {},
     "output_type": "execute_result"
    }
   ],
   "source": [
    "# cell for scratch work if needed\n"
   ]
  },
  {
   "cell_type": "code",
   "execution_count": 37,
   "id": "3c8a6446",
   "metadata": {},
   "outputs": [],
   "source": [
    "# Q4: your answer will be tested!\n",
    "your_2000_bootstrapped_proportions = None # Assign your list/numpy array variable here instead of `None`\n",
    "your_90percent_confidence_interval_lower_bound = None # use np.round(..., 2)\n",
    "your_90percent_confidence_interval_upper_bound = None # use np.round(..., 2)\n",
    "Q4 = (your_2000_bootstrapped_proportions, \n",
    "      (your_90percent_confidence_interval_lower_bound, your_90percent_confidence_interval_upper_bound)) \n",
    "# Assign your 1000 bootstrapped medians and `tuple` \"interval\" of two-decimal rounded `float`s \n",
    "# as another `tuple` to Q10; e.g., ([bootstrapped_prop_1, ..., bootstrapped_prop_2000], (0.12, 0.34))"
   ]
  },
  {
   "cell_type": "code",
   "execution_count": 38,
   "id": "7effc8d4",
   "metadata": {},
   "outputs": [],
   "source": [
    "# your_2000_bootstrapped_proportions = bootstrapped_proportions\n",
    "# confint_lower, confint_upper = np.quantile(your_2000_bootstrapped_proportions, (0.05, 0.95))\n",
    "\n",
    "hint = \"A 90% confidence interval refers to the middle 90% of the bootstrapped means,\\n\"\n",
    "hint += \"so make sure that the quantiles you use have a difference of 0.90.\""
   ]
  },
  {
   "cell_type": "code",
   "execution_count": 44,
   "id": "f9d59ba1",
   "metadata": {},
   "outputs": [
    {
     "ename": "AssertionError",
     "evalue": "A 90% confidence interval refers to the middle 90% of the bootstrapped means,\nso make sure that the quantiles you use have a difference of 0.90.",
     "output_type": "error",
     "traceback": [
      "\u001b[0;31m---------------------------------------------------------------------------\u001b[0m",
      "\u001b[0;31mAssertionError\u001b[0m                            Traceback (most recent call last)",
      "Cell \u001b[0;32mIn[44], line 2\u001b[0m\n\u001b[1;32m      1\u001b[0m \u001b[38;5;66;03m# test_Q4\u001b[39;00m\n\u001b[0;32m----> 2\u001b[0m \u001b[38;5;28;01massert\u001b[39;00m np\u001b[38;5;241m.\u001b[39mall(np\u001b[38;5;241m.\u001b[39mquantile(bootstrapped_proportions, (\u001b[38;5;241m0.05\u001b[39m, \u001b[38;5;241m0.95\u001b[39m))\u001b[38;5;241m==\u001b[39mnp\u001b[38;5;241m.\u001b[39marray(Q4[\u001b[38;5;241m1\u001b[39m])), hint\n",
      "\u001b[0;31mAssertionError\u001b[0m: A 90% confidence interval refers to the middle 90% of the bootstrapped means,\nso make sure that the quantiles you use have a difference of 0.90."
     ]
    }
   ],
   "source": [
    "# test_Q4\n",
    "assert np.all(np.round(np.quantile(your_2000_bootstrapped_proportions, (0.05, 0.95)), 2)==np.array(Q4[1])), hint"
   ]
  },
  {
   "cell_type": "markdown",
   "id": "5dab67ae",
   "metadata": {},
   "source": [
    "### Q5: Suppose for the sake of this question that you got a bootstrap confidence interval of (27%, 44%). Indicate whether or not each of the following statements is a correct interpretation of the confidence interval.\n",
    "\n",
    "A. We are 90% confident that between 27% and 44% of countries in our `roaddata_sample` sample are countries where cars drive on the left side of the road.   \n",
    "\n",
    "\n",
    "B. There is a 90% chance that between 27% and 44% of all countries in the population drive on the left side of the road; or, equivalently meticulously pedantically restated: at any given time there's a 90% chance that the proportions of countries in the world where cars drive on the left side of the road will be between 27% and 44%.\n",
    "\n",
    "\n",
    "C. If we consider many random samples of 100 countries in the world (such as `roaddata_sample_1`, `roaddata_sample_2`, etc.) and we calculate 90% bootstrap confidence intervals for each sample, approximately 90% of these bootstrap confidence intervals will include the true proportion of countries in the population where cars drive on the left side of the road.   \n",
    "\n",
    "\n",
    "D. The chance that we drew a sample which results in the constructed (27%, 44%) confidence interval and bounds the true proportion of countries in the population where cars drive on the left side is about 90%. \n",
    "\n",
    "\n",
    "E. We are 90% confident that between 27% and 44% of countries in the world are countries where cars drive on the left side of the road.   \n"
   ]
  },
  {
   "cell_type": "code",
   "execution_count": 45,
   "id": "658f8caf",
   "metadata": {},
   "outputs": [],
   "source": [
    "# Q5: your answer will be tested!\n",
    "Q5a = None # Assign either True or False to each of these\n",
    "Q5b = None\n",
    "Q5c = None\n",
    "Q5d = None\n",
    "Q5e = None\n",
    "Q5 = (Q5a, Q5b, Q5c, Q5d, Q5e)"
   ]
  },
  {
   "cell_type": "code",
   "execution_count": 47,
   "id": "dcad68ff",
   "metadata": {},
   "outputs": [],
   "source": [
    "test = Q5==(False, False, True, True, True)\n",
    "hint = \"This is a confidence interval for the true proportion of countries in the population\\n\"\n",
    "hint += \"(not the sample!) where cars drive on the left side of the road. There is no probability that\\n\"\n",
    "hint += \"the proportion in the population is sometimes this (here) or sometimes that (there): the population\\n\"\n",
    "hint += \"proportion (parameter) is a set fixed value. The issue is if the specific language used wrongly\\n\"\n",
    "hint += \"suggests there is randomness associated with the true proportion (parameter) of the population,\\n\"\n",
    "hint += \"then it is wrong: there is only randomness associated with the construction procedure which is\\n\"\n",
    "hint += \"induced by the randomness produced by the data sampling process itself. It is a subtle point...\\n\\n\"\n",
    "hint += \"Version 'E' is a defined 'confidence interval' language meant to specifically convey this notion.\""
   ]
  },
  {
   "cell_type": "code",
   "execution_count": 48,
   "id": "bbbe0ad0",
   "metadata": {},
   "outputs": [
    {
     "ename": "AssertionError",
     "evalue": "This is a confidence interval for the true proportion of countries in the population\n(not the sample!) where cars drive on the left side of the road. There is no probability that\nthe proportion in the population is sometimes this (here) or sometimes that (there): the population\nproportion (parameter) is a set fixed value. The issue is if the specific language used wrongly\nsuggests there is randomness associated with the true proportion (parameter) of the population,\nthen it is wrong: there is only randomness associated with the construction procedure which is\ninduced by the randomness produced by the data sampling process itself. It is a subtle point...\n\nVersion 'E' is a defined 'confidence interval' language meant to specifically convey this notion.",
     "output_type": "error",
     "traceback": [
      "\u001b[0;31m---------------------------------------------------------------------------\u001b[0m",
      "\u001b[0;31mAssertionError\u001b[0m                            Traceback (most recent call last)",
      "Cell \u001b[0;32mIn[48], line 3\u001b[0m\n\u001b[1;32m      1\u001b[0m \u001b[38;5;66;03m# test_Q5\u001b[39;00m\n\u001b[0;32m----> 3\u001b[0m \u001b[38;5;28;01massert\u001b[39;00m test, hint\n",
      "\u001b[0;31mAssertionError\u001b[0m: This is a confidence interval for the true proportion of countries in the population\n(not the sample!) where cars drive on the left side of the road. There is no probability that\nthe proportion in the population is sometimes this (here) or sometimes that (there): the population\nproportion (parameter) is a set fixed value. The issue is if the specific language used wrongly\nsuggests there is randomness associated with the true proportion (parameter) of the population,\nthen it is wrong: there is only randomness associated with the construction procedure which is\ninduced by the randomness produced by the data sampling process itself. It is a subtle point...\n\nVersion 'E' is a defined 'confidence interval' language meant to specifically convey this notion."
     ]
    }
   ],
   "source": [
    "# test_Q5\n",
    "\n",
    "assert test, hint"
   ]
  },
  {
   "cell_type": "markdown",
   "id": "7648cf60",
   "metadata": {},
   "source": [
    "### Q6: If we want to be more confident that we've captured the actual true proportion of all countries where cars drive on the left side of the road, should we use a wider or narrower confidence interval? If we want to have a more precise, understandable, and interpretable estimate, should we use a wider or narrower confidence interval? Discuss the relevant tradeoffs in explaining your answers.\n",
    "\n",
    "#### Write three or so sentences to answer this question in markdown cell below.\n",
    "- Your TA will manually review your written response."
   ]
  },
  {
   "cell_type": "markdown",
   "id": "e48e0ca3",
   "metadata": {},
   "source": [
    "> Answer here..."
   ]
  },
  {
   "cell_type": "code",
   "execution_count": 11,
   "id": "cff6d79c",
   "metadata": {},
   "outputs": [],
   "source": [
    "hint = \"\\n\\nAUTOMATICALLY FAILING AUTOTEST: DOES NOT COUNT AGAINST STUDENT\\n\"\n",
    "hint += \"Included as an example answer for feedback purposes only\\n\\n\"\n",
    "hint += \"A wider confidence interval corresponds to an increased confidence level. E.g., a 99% confidence interval\\n\"\n",
    "hint += \"is wider than a 90% confidence interval. Thus, we can be more confident that the true proportion of\\n\"\n",
    "hint += \"countries where cars drive on the left side of the road is captured by the confidence inerval for\\n\"\n",
    "hint += \"wider confidence intervals with higher confidence levels; however, these are also less sharp and precise\\n\"\n",
    "hint += \"and so are less informative and less meaningful than a more narrow interval, which may more effectively\\n\"\n",
    "hint += \"communicate the nature and implications of the estimate. So, with confidence intervals you're playing\\n\"\n",
    "hint += \"a gambling game, where you want a narrower confidence interval so it's easier to leverage and turn into\\n\"\n",
    "hint += \"an actionable message; but, the narrower your interval is the higher the chance that it has not\\n\"\n",
    "hint += \"captured the actual true parameter value it's trying to estimate...\""
   ]
  },
  {
   "cell_type": "code",
   "execution_count": 12,
   "id": "5877c496",
   "metadata": {},
   "outputs": [
    {
     "ename": "AssertionError",
     "evalue": "\n\nAUTOMATICALLY FAILING AUTOTEST: DOES NOT COUNT AGAINST STUDENT\nIncluded as an example answer for feedback purposes only\n\nA wider confidence interval corresponds to an increased confidence level. E.g., a 99% confidence interval\nis wider than a 90% confidence interval. Thus, we can be more confident that the true proportion of\ncountries where cars drive on the left side of the road is captured by the confidence inerval for\nwider confidence intervals with higher confidence levels; however, these are also less sharp and precise\nand so are less informative and less meaningful than a more narrow interval, which may more effectively\ncommunicate the nature and implications of the estimate. So, with confidence intervals you're playing\na gambling game, where you want a narrower confidence interval so it's easier to leverage and turn into\nan actionable message; but, the narrower your interval is the higher the chance that it's not captured\nthe value it's trying to estimate...",
     "output_type": "error",
     "traceback": [
      "\u001b[0;31m---------------------------------------------------------------------------\u001b[0m",
      "\u001b[0;31mAssertionError\u001b[0m                            Traceback (most recent call last)",
      "Cell \u001b[0;32mIn[12], line 2\u001b[0m\n\u001b[1;32m      1\u001b[0m \u001b[38;5;66;03m# test_Q6\u001b[39;00m\n\u001b[0;32m----> 2\u001b[0m \u001b[38;5;28;01massert\u001b[39;00m \u001b[38;5;28;01mFalse\u001b[39;00m, hint\n",
      "\u001b[0;31mAssertionError\u001b[0m: \n\nAUTOMATICALLY FAILING AUTOTEST: DOES NOT COUNT AGAINST STUDENT\nIncluded as an example answer for feedback purposes only\n\nA wider confidence interval corresponds to an increased confidence level. E.g., a 99% confidence interval\nis wider than a 90% confidence interval. Thus, we can be more confident that the true proportion of\ncountries where cars drive on the left side of the road is captured by the confidence inerval for\nwider confidence intervals with higher confidence levels; however, these are also less sharp and precise\nand so are less informative and less meaningful than a more narrow interval, which may more effectively\ncommunicate the nature and implications of the estimate. So, with confidence intervals you're playing\na gambling game, where you want a narrower confidence interval so it's easier to leverage and turn into\nan actionable message; but, the narrower your interval is the higher the chance that it's not captured\nthe value it's trying to estimate..."
     ]
    }
   ],
   "source": [
    "# test_Q6\n",
    "assert False, hint"
   ]
  },
  {
   "cell_type": "markdown",
   "id": "22a1fed5",
   "metadata": {},
   "source": [
    "## Auto Claims\n",
    "The data set `auto_claims.csv` includes claims paid (in USD) by an auto insurance company in a specific year to a sample of auto insurance claimants greater than 60 years of age. In other words, this represents a \"sample\" (the \"original sample\") of car insurance claims paid by the auto insurance company in that year."
   ]
  },
  {
   "cell_type": "code",
   "execution_count": 154,
   "id": "16d73cc4",
   "metadata": {},
   "outputs": [],
   "source": [
    "# Load the `auto_claims.csv` dataset and have a quick look at it."
   ]
  },
  {
   "cell_type": "code",
   "execution_count": 23,
   "id": "5b6f9e89",
   "metadata": {},
   "outputs": [
    {
     "data": {
      "text/html": [
       "<div>\n",
       "<style scoped>\n",
       "    .dataframe tbody tr th:only-of-type {\n",
       "        vertical-align: middle;\n",
       "    }\n",
       "\n",
       "    .dataframe tbody tr th {\n",
       "        vertical-align: top;\n",
       "    }\n",
       "\n",
       "    .dataframe thead th {\n",
       "        text-align: right;\n",
       "    }\n",
       "</style>\n",
       "<table border=\"1\" class=\"dataframe\">\n",
       "  <thead>\n",
       "    <tr style=\"text-align: right;\">\n",
       "      <th></th>\n",
       "      <th>STATE</th>\n",
       "      <th>CLASS</th>\n",
       "      <th>GENDER</th>\n",
       "      <th>AGE</th>\n",
       "      <th>PAID</th>\n",
       "    </tr>\n",
       "  </thead>\n",
       "  <tbody>\n",
       "    <tr>\n",
       "      <th>0</th>\n",
       "      <td>STATE 15</td>\n",
       "      <td>F6</td>\n",
       "      <td>F</td>\n",
       "      <td>95</td>\n",
       "      <td>2384.67</td>\n",
       "    </tr>\n",
       "    <tr>\n",
       "      <th>1</th>\n",
       "      <td>STATE 15</td>\n",
       "      <td>F6</td>\n",
       "      <td>M</td>\n",
       "      <td>95</td>\n",
       "      <td>650.00</td>\n",
       "    </tr>\n",
       "    <tr>\n",
       "      <th>2</th>\n",
       "      <td>STATE 02</td>\n",
       "      <td>C11</td>\n",
       "      <td>F</td>\n",
       "      <td>92</td>\n",
       "      <td>654.00</td>\n",
       "    </tr>\n",
       "    <tr>\n",
       "      <th>3</th>\n",
       "      <td>STATE 15</td>\n",
       "      <td>C11</td>\n",
       "      <td>M</td>\n",
       "      <td>91</td>\n",
       "      <td>3890.07</td>\n",
       "    </tr>\n",
       "    <tr>\n",
       "      <th>4</th>\n",
       "      <td>STATE 04</td>\n",
       "      <td>C6</td>\n",
       "      <td>M</td>\n",
       "      <td>91</td>\n",
       "      <td>295.99</td>\n",
       "    </tr>\n",
       "  </tbody>\n",
       "</table>\n",
       "</div>"
      ],
      "text/plain": [
       "      STATE CLASS GENDER  AGE     PAID\n",
       "0  STATE 15   F6       F   95  2384.67\n",
       "1  STATE 15   F6       M   95   650.00\n",
       "2  STATE 02   C11      F   92   654.00\n",
       "3  STATE 15   C11      M   91  3890.07\n",
       "4  STATE 04   C6       M   91   295.99"
      ]
     },
     "execution_count": 23,
     "metadata": {},
     "output_type": "execute_result"
    }
   ],
   "source": [
    "# to be removed from student facing file\n",
    "autoclaims_csv_asdf = pd.read_csv('auto_claims.csv')\n",
    "autoclaims_csv_asdf.head()"
   ]
  },
  {
   "cell_type": "markdown",
   "id": "34aa2405",
   "metadata": {},
   "source": [
    "### Q7: What is the sample size, median, and standard deviation of paid claims (in the `PAID` column) in `auto_claims.csv`?\n",
    "\n",
    "> Hint: use the `.describe()` method of a `pd.DataFrame` object.\n",
    "#### Give your answers rounded to integer values with `.round()`."
   ]
  },
  {
   "cell_type": "code",
   "execution_count": 25,
   "id": "fa6de84f",
   "metadata": {},
   "outputs": [
    {
     "data": {
      "text/html": [
       "<div>\n",
       "<style scoped>\n",
       "    .dataframe tbody tr th:only-of-type {\n",
       "        vertical-align: middle;\n",
       "    }\n",
       "\n",
       "    .dataframe tbody tr th {\n",
       "        vertical-align: top;\n",
       "    }\n",
       "\n",
       "    .dataframe thead th {\n",
       "        text-align: right;\n",
       "    }\n",
       "</style>\n",
       "<table border=\"1\" class=\"dataframe\">\n",
       "  <thead>\n",
       "    <tr style=\"text-align: right;\">\n",
       "      <th></th>\n",
       "      <th>AGE</th>\n",
       "      <th>PAID</th>\n",
       "    </tr>\n",
       "  </thead>\n",
       "  <tbody>\n",
       "    <tr>\n",
       "      <th>count</th>\n",
       "      <td>500.0</td>\n",
       "      <td>500.0</td>\n",
       "    </tr>\n",
       "    <tr>\n",
       "      <th>mean</th>\n",
       "      <td>73.0</td>\n",
       "      <td>2160.0</td>\n",
       "    </tr>\n",
       "    <tr>\n",
       "      <th>std</th>\n",
       "      <td>8.0</td>\n",
       "      <td>3100.0</td>\n",
       "    </tr>\n",
       "    <tr>\n",
       "      <th>min</th>\n",
       "      <td>61.0</td>\n",
       "      <td>25.0</td>\n",
       "    </tr>\n",
       "    <tr>\n",
       "      <th>25%</th>\n",
       "      <td>67.0</td>\n",
       "      <td>543.0</td>\n",
       "    </tr>\n",
       "    <tr>\n",
       "      <th>50%</th>\n",
       "      <td>72.0</td>\n",
       "      <td>1042.0</td>\n",
       "    </tr>\n",
       "    <tr>\n",
       "      <th>75%</th>\n",
       "      <td>79.0</td>\n",
       "      <td>2409.0</td>\n",
       "    </tr>\n",
       "    <tr>\n",
       "      <th>max</th>\n",
       "      <td>95.0</td>\n",
       "      <td>33138.0</td>\n",
       "    </tr>\n",
       "  </tbody>\n",
       "</table>\n",
       "</div>"
      ],
      "text/plain": [
       "         AGE     PAID\n",
       "count  500.0    500.0\n",
       "mean    73.0   2160.0\n",
       "std      8.0   3100.0\n",
       "min     61.0     25.0\n",
       "25%     67.0    543.0\n",
       "50%     72.0   1042.0\n",
       "75%     79.0   2409.0\n",
       "max     95.0  33138.0"
      ]
     },
     "execution_count": 25,
     "metadata": {},
     "output_type": "execute_result"
    }
   ],
   "source": [
    "autoclaims_csv_asdf.describe().round()"
   ]
  },
  {
   "cell_type": "code",
   "execution_count": 27,
   "id": "e1cb5380",
   "metadata": {},
   "outputs": [
    {
     "data": {
      "text/plain": [
       "(500, 1042.0, 3100.0)"
      ]
     },
     "execution_count": 27,
     "metadata": {},
     "output_type": "execute_result"
    }
   ],
   "source": [
    "(len(autoclaims_csv_asdf), np.round(autoclaims_csv_asdf.PAID.median()), np.std(autoclaims_csv_asdf.PAID, ddof=1).round())"
   ]
  },
  {
   "cell_type": "code",
   "execution_count": 87,
   "id": "64477b7e",
   "metadata": {},
   "outputs": [],
   "source": [
    "# Q7: Your answer will be tested!\n",
    "paid_sample_size = None\n",
    "paid_median = None\n",
    "paid_std = None\n",
    "Q7 = (paid_sample_size, paid_median, paid_std) # Assign a `tuple` of three `int`s to Q7\n",
    "# E.g., `Q7 = (1,2,3)`"
   ]
  },
  {
   "cell_type": "code",
   "execution_count": 28,
   "id": "21be0439",
   "metadata": {},
   "outputs": [
    {
     "ename": "SyntaxError",
     "evalue": "unterminated string literal (detected at line 4) (3360511165.py, line 4)",
     "output_type": "error",
     "traceback": [
      "\u001b[0;36m  Cell \u001b[0;32mIn[28], line 4\u001b[0;36m\u001b[0m\n\u001b[0;31m    hint = \"You're provided\u001b[0m\n\u001b[0m           ^\u001b[0m\n\u001b[0;31mSyntaxError\u001b[0m\u001b[0;31m:\u001b[0m unterminated string literal (detected at line 4)\n"
     ]
    }
   ],
   "source": [
    "#len(autoclaims_csv_asdf), np.round(autoclaims_csv_asdf.PAID.median()), np.round(np.std(autoclaims_csv_asdf.PAID, ddof=1))\n",
    "# autoclaims_csv_asdf.PAID.describe().round()\n",
    "\n",
    "hint = \"You're providing the sample size n, the median, and the standard deviation?\\n\"\n",
    "hint += \"There are many ways to get these, such as... `data.PAID.describe().round()`.\""
   ]
  },
  {
   "cell_type": "code",
   "execution_count": 61,
   "id": "86cb84e3",
   "metadata": {},
   "outputs": [
    {
     "ename": "AssertionError",
     "evalue": "There are many ways to do this... `data.PAID.describe()`",
     "output_type": "error",
     "traceback": [
      "\u001b[0;31m---------------------------------------------------------------------------\u001b[0m",
      "\u001b[0;31mAssertionError\u001b[0m                            Traceback (most recent call last)",
      "Cell \u001b[0;32mIn[61], line 3\u001b[0m\n\u001b[1;32m      1\u001b[0m \u001b[38;5;66;03m# test_Q7\u001b[39;00m\n\u001b[1;32m      2\u001b[0m autoclaims_csv_asdf \u001b[38;5;241m=\u001b[39m pd\u001b[38;5;241m.\u001b[39mread_csv(\u001b[38;5;124m'\u001b[39m\u001b[38;5;124mauto_claims.csv\u001b[39m\u001b[38;5;124m'\u001b[39m)\n\u001b[0;32m----> 3\u001b[0m \u001b[38;5;28;01massert\u001b[39;00m Q7\u001b[38;5;241m==\u001b[39m(\u001b[38;5;28mlen\u001b[39m(autoclaims_csv_asdf), np\u001b[38;5;241m.\u001b[39mround(autoclaims_csv_asdf\u001b[38;5;241m.\u001b[39mPAID\u001b[38;5;241m.\u001b[39mmedian()), np\u001b[38;5;241m.\u001b[39mstd(autoclaims_csv_asdf\u001b[38;5;241m.\u001b[39mPAID, ddof\u001b[38;5;241m=\u001b[39m\u001b[38;5;241m1\u001b[39m)\u001b[38;5;241m.\u001b[39mround()), hint\n",
      "\u001b[0;31mAssertionError\u001b[0m: There are many ways to do this... `data.PAID.describe()`"
     ]
    }
   ],
   "source": [
    "# test_Q7\n",
    "autoclaims_csv_asdf = pd.read_csv('auto_claims.csv')\n",
    "assert Q7==(len(autoclaims_csv_asdf), np.round(autoclaims_csv_asdf.PAID.median()), np.std(autoclaims_csv_asdf.PAID, ddof=1).round()), hint"
   ]
  },
  {
   "cell_type": "markdown",
   "id": "f30819a7",
   "metadata": {},
   "source": [
    "### Q8: Produce `plotly` histogram and boxplot visualizations of paid claims (in the `PAID` column) and comment on the shape, centre, spread, and outliers of this distribution.\n",
    "\n",
    "#### Create the plots and write your answer in the code cell and markdown cells (respectively) below.\n",
    "\n",
    "- You can compare your figure and response to the answer given in the ***MarkUs*** output: the TAs may or may not spot check the work in `Q9` "
   ]
  },
  {
   "cell_type": "code",
   "execution_count": 65,
   "id": "f8c48efa",
   "metadata": {},
   "outputs": [
    {
     "data": {
      "application/vnd.plotly.v1+json": {
       "config": {
        "plotlyServerURL": "https://plot.ly"
       },
       "data": [
        {
         "alignmentgroup": "True",
         "bingroup": "x",
         "hovertemplate": "PAID=%{x}<br>count=%{y}<extra></extra>",
         "legendgroup": "",
         "marker": {
          "color": "#636efa",
          "pattern": {
           "shape": ""
          }
         },
         "name": "",
         "nbinsx": 20,
         "offsetgroup": "",
         "orientation": "v",
         "showlegend": false,
         "type": "histogram",
         "x": [
          2384.67,
          650,
          654,
          3890.07,
          295.99,
          11756.34,
          2402,
          296.97,
          249.1,
          14833.3,
          3025,
          2750,
          2612.74,
          1259.89,
          824.85,
          669.5,
          664.34,
          408.39,
          3953.84,
          3841.66,
          239.37,
          30,
          6384,
          4467.92,
          1541.1,
          1354.93,
          1263.51,
          1045,
          519.75,
          499.28,
          365.26,
          322.34,
          122.41,
          10524.64,
          6854.02,
          3206.76,
          2724.04,
          2269,
          2169.88,
          1929.81,
          1061.8,
          945.8,
          899.13,
          7326.67,
          5301.72,
          3596.5,
          2322.72,
          1944.45,
          1491.69,
          1314.4,
          836.78,
          479,
          426.19,
          3112.89,
          2500,
          1921.22,
          1472.87,
          1444.89,
          1368.76,
          1346.36,
          772.23,
          688.67,
          362.63,
          359.41,
          354.29,
          262.81,
          244.11,
          9377.82,
          5540.07,
          3118.5,
          2495.8,
          2362.89,
          2007.78,
          1816.41,
          1500,
          1139.6,
          952.05,
          746.89,
          644.87,
          188.61,
          117.4,
          12714.43,
          10116.07,
          1949.14,
          1852.5,
          1722.82,
          1539.07,
          1476.43,
          1458.13,
          1119.52,
          990.07,
          987,
          782.44,
          459,
          377.36,
          319.67,
          176.07,
          154.75,
          8493.76,
          3809.83,
          3222.66,
          1113.38,
          766.4,
          663.17,
          640.4,
          619.06,
          419.18,
          298.62,
          160.2,
          105.5,
          8323.31,
          6291.84,
          4904.64,
          4096.58,
          3334.65,
          1755.95,
          1160.63,
          1098.37,
          818.79,
          651.57,
          646.79,
          584.61,
          417.04,
          399.9,
          371.63,
          365.5,
          275.43,
          146.56,
          14651.31,
          6754.81,
          5071.99,
          4809.52,
          2884.46,
          2591.33,
          2419.75,
          1321.7,
          1308,
          981.86,
          843.98,
          817.62,
          712,
          634.48,
          463.96,
          462.93,
          430.38,
          388.71,
          112.78,
          85,
          12151.86,
          5186.82,
          4451.39,
          3968.51,
          3392.58,
          1879.51,
          1792.54,
          1607.6,
          1238,
          1130,
          1081.71,
          1033.84,
          671.59,
          361.37,
          171.7,
          40,
          3203.35,
          3060.69,
          2171.93,
          1727.85,
          1550,
          1470.35,
          1229.01,
          1010.94,
          575.36,
          555.34,
          533.11,
          459.1,
          253.75,
          148.65,
          4184.46,
          4082.49,
          1846.1,
          1688.78,
          1118.91,
          749.64,
          725.71,
          722.02,
          648.06,
          593.46,
          516.81,
          302.54,
          300,
          278.55,
          248.68,
          131,
          28.46,
          13058.85,
          6950.54,
          2930,
          2112.46,
          2100,
          1500,
          1386.41,
          1270.17,
          1203.81,
          993.59,
          903,
          900,
          583.76,
          580.32,
          376.46,
          275.94,
          91.27,
          6013.74,
          4804.22,
          3179.28,
          2893.53,
          1916.21,
          1209.08,
          1036.74,
          986.12,
          893.03,
          754.31,
          740.38,
          694.91,
          693.13,
          564.05,
          551.78,
          549.77,
          497.85,
          403.3,
          358.7,
          284.54,
          228,
          177.6,
          177.42,
          139.79,
          33137.5,
          7293.43,
          3754.51,
          3495.14,
          3140.66,
          2137.4,
          1971.75,
          1956,
          1870.58,
          1650,
          1188.74,
          1115.89,
          1088.73,
          1074.35,
          1016.43,
          860.67,
          831.8,
          796.8,
          759.57,
          668.74,
          582.62,
          404,
          393.5,
          309.67,
          292.44,
          221.7,
          103.75,
          11511.72,
          6090.02,
          1727.33,
          1235.07,
          910.01,
          812.98,
          562.05,
          527.34,
          451.31,
          332.06,
          315.53,
          10527.4,
          7751.55,
          5711.53,
          3804.44,
          3760.07,
          2757.83,
          2565.84,
          2221.87,
          2139.9,
          2000,
          1363.23,
          1132.41,
          993.19,
          964.22,
          898.55,
          822.1,
          761.22,
          754.56,
          685.71,
          622.53,
          604.95,
          587.51,
          490.25,
          489.73,
          465.5,
          329.91,
          272.01,
          258.5,
          4643.8,
          3523.9,
          3007.96,
          2192.98,
          1752.16,
          1686.2,
          1648.41,
          1381.16,
          1336.26,
          1248.01,
          950.61,
          945.56,
          880.82,
          713.55,
          645.8,
          626.38,
          573.4,
          488.16,
          458,
          443.95,
          253.59,
          209.83,
          138.86,
          100,
          30,
          24624.44,
          8123.33,
          5158.65,
          5035.93,
          4625.47,
          1707.92,
          1694.59,
          1501.05,
          1369.74,
          946.38,
          825.66,
          682.85,
          604.95,
          585.34,
          565.02,
          529.28,
          388.03,
          377.54,
          303,
          300,
          198.98,
          135,
          47.52,
          11458.07,
          8300.31,
          7827.74,
          6261.92,
          5861.5,
          5381.14,
          4532.02,
          3656.77,
          2928.92,
          2547.5,
          2276.5,
          2017.28,
          1678.17,
          1651.86,
          1482.45,
          1480.93,
          1348.93,
          1189.96,
          1090.41,
          940.28,
          925.47,
          852.22,
          417.18,
          369.02,
          346.79,
          244.23,
          132,
          100,
          14753.58,
          11288.76,
          10175.27,
          6277.84,
          4939.5,
          4786.51,
          3167.49,
          2572.22,
          1712.27,
          1712.13,
          1396.61,
          1377.31,
          1108.42,
          1001.76,
          989.59,
          891.09,
          882.77,
          670.77,
          638.99,
          546.32,
          536.11,
          533.33,
          464.59,
          460.36,
          291.92,
          257.01,
          106,
          7487.94,
          7296.2,
          4929.65,
          2532.6,
          2344.69,
          1855.85,
          1812.47,
          1431.81,
          1226.28,
          1122.12,
          1090.75,
          1067.57,
          1012.19,
          928.2,
          861.89,
          809.34,
          782.9,
          768.05,
          698.65,
          630.11,
          617.9,
          594.8,
          585.74,
          390.02,
          291.28,
          236.53,
          10077,
          8569.3,
          6124.34,
          5335.35,
          3486.96,
          3255.88,
          2985.29,
          2418.4,
          2368.69,
          2007.64,
          1996,
          1869.49,
          1600.18,
          1278.52,
          1212.85,
          1039.69,
          834.12,
          805.18,
          676.15,
          651.18,
          586.85,
          315.61,
          311.32,
          25.44,
          9793.42,
          7620.37,
          6800.94,
          4781.43,
          3944.37,
          2406,
          1613.41,
          1340.74,
          1249.02,
          1086.9,
          941.85,
          909.99,
          903.99,
          875.28,
          738.18,
          492.22,
          468,
          443.49,
          439.22,
          359.11,
          8215.8,
          6208.2,
          5241.71,
          3912.49,
          3230.09,
          2600,
          2531.24,
          2038.05,
          1890.5,
          1704.54,
          1145.63,
          959.52,
          763.07,
          746.63,
          700,
          554.55,
          545.3,
          490.6,
          273.29,
          189.9,
          10652.59,
          5556.75,
          3403.09,
          3328.93,
          2805.73
         ],
         "xaxis": "x",
         "yaxis": "y"
        }
       ],
       "layout": {
        "barmode": "relative",
        "legend": {
         "tracegroupgap": 0
        },
        "margin": {
         "t": 60
        },
        "template": {
         "data": {
          "bar": [
           {
            "error_x": {
             "color": "#2a3f5f"
            },
            "error_y": {
             "color": "#2a3f5f"
            },
            "marker": {
             "line": {
              "color": "#E5ECF6",
              "width": 0.5
             },
             "pattern": {
              "fillmode": "overlay",
              "size": 10,
              "solidity": 0.2
             }
            },
            "type": "bar"
           }
          ],
          "barpolar": [
           {
            "marker": {
             "line": {
              "color": "#E5ECF6",
              "width": 0.5
             },
             "pattern": {
              "fillmode": "overlay",
              "size": 10,
              "solidity": 0.2
             }
            },
            "type": "barpolar"
           }
          ],
          "carpet": [
           {
            "aaxis": {
             "endlinecolor": "#2a3f5f",
             "gridcolor": "white",
             "linecolor": "white",
             "minorgridcolor": "white",
             "startlinecolor": "#2a3f5f"
            },
            "baxis": {
             "endlinecolor": "#2a3f5f",
             "gridcolor": "white",
             "linecolor": "white",
             "minorgridcolor": "white",
             "startlinecolor": "#2a3f5f"
            },
            "type": "carpet"
           }
          ],
          "choropleth": [
           {
            "colorbar": {
             "outlinewidth": 0,
             "ticks": ""
            },
            "type": "choropleth"
           }
          ],
          "contour": [
           {
            "colorbar": {
             "outlinewidth": 0,
             "ticks": ""
            },
            "colorscale": [
             [
              0,
              "#0d0887"
             ],
             [
              0.1111111111111111,
              "#46039f"
             ],
             [
              0.2222222222222222,
              "#7201a8"
             ],
             [
              0.3333333333333333,
              "#9c179e"
             ],
             [
              0.4444444444444444,
              "#bd3786"
             ],
             [
              0.5555555555555556,
              "#d8576b"
             ],
             [
              0.6666666666666666,
              "#ed7953"
             ],
             [
              0.7777777777777778,
              "#fb9f3a"
             ],
             [
              0.8888888888888888,
              "#fdca26"
             ],
             [
              1,
              "#f0f921"
             ]
            ],
            "type": "contour"
           }
          ],
          "contourcarpet": [
           {
            "colorbar": {
             "outlinewidth": 0,
             "ticks": ""
            },
            "type": "contourcarpet"
           }
          ],
          "heatmap": [
           {
            "colorbar": {
             "outlinewidth": 0,
             "ticks": ""
            },
            "colorscale": [
             [
              0,
              "#0d0887"
             ],
             [
              0.1111111111111111,
              "#46039f"
             ],
             [
              0.2222222222222222,
              "#7201a8"
             ],
             [
              0.3333333333333333,
              "#9c179e"
             ],
             [
              0.4444444444444444,
              "#bd3786"
             ],
             [
              0.5555555555555556,
              "#d8576b"
             ],
             [
              0.6666666666666666,
              "#ed7953"
             ],
             [
              0.7777777777777778,
              "#fb9f3a"
             ],
             [
              0.8888888888888888,
              "#fdca26"
             ],
             [
              1,
              "#f0f921"
             ]
            ],
            "type": "heatmap"
           }
          ],
          "heatmapgl": [
           {
            "colorbar": {
             "outlinewidth": 0,
             "ticks": ""
            },
            "colorscale": [
             [
              0,
              "#0d0887"
             ],
             [
              0.1111111111111111,
              "#46039f"
             ],
             [
              0.2222222222222222,
              "#7201a8"
             ],
             [
              0.3333333333333333,
              "#9c179e"
             ],
             [
              0.4444444444444444,
              "#bd3786"
             ],
             [
              0.5555555555555556,
              "#d8576b"
             ],
             [
              0.6666666666666666,
              "#ed7953"
             ],
             [
              0.7777777777777778,
              "#fb9f3a"
             ],
             [
              0.8888888888888888,
              "#fdca26"
             ],
             [
              1,
              "#f0f921"
             ]
            ],
            "type": "heatmapgl"
           }
          ],
          "histogram": [
           {
            "marker": {
             "pattern": {
              "fillmode": "overlay",
              "size": 10,
              "solidity": 0.2
             }
            },
            "type": "histogram"
           }
          ],
          "histogram2d": [
           {
            "colorbar": {
             "outlinewidth": 0,
             "ticks": ""
            },
            "colorscale": [
             [
              0,
              "#0d0887"
             ],
             [
              0.1111111111111111,
              "#46039f"
             ],
             [
              0.2222222222222222,
              "#7201a8"
             ],
             [
              0.3333333333333333,
              "#9c179e"
             ],
             [
              0.4444444444444444,
              "#bd3786"
             ],
             [
              0.5555555555555556,
              "#d8576b"
             ],
             [
              0.6666666666666666,
              "#ed7953"
             ],
             [
              0.7777777777777778,
              "#fb9f3a"
             ],
             [
              0.8888888888888888,
              "#fdca26"
             ],
             [
              1,
              "#f0f921"
             ]
            ],
            "type": "histogram2d"
           }
          ],
          "histogram2dcontour": [
           {
            "colorbar": {
             "outlinewidth": 0,
             "ticks": ""
            },
            "colorscale": [
             [
              0,
              "#0d0887"
             ],
             [
              0.1111111111111111,
              "#46039f"
             ],
             [
              0.2222222222222222,
              "#7201a8"
             ],
             [
              0.3333333333333333,
              "#9c179e"
             ],
             [
              0.4444444444444444,
              "#bd3786"
             ],
             [
              0.5555555555555556,
              "#d8576b"
             ],
             [
              0.6666666666666666,
              "#ed7953"
             ],
             [
              0.7777777777777778,
              "#fb9f3a"
             ],
             [
              0.8888888888888888,
              "#fdca26"
             ],
             [
              1,
              "#f0f921"
             ]
            ],
            "type": "histogram2dcontour"
           }
          ],
          "mesh3d": [
           {
            "colorbar": {
             "outlinewidth": 0,
             "ticks": ""
            },
            "type": "mesh3d"
           }
          ],
          "parcoords": [
           {
            "line": {
             "colorbar": {
              "outlinewidth": 0,
              "ticks": ""
             }
            },
            "type": "parcoords"
           }
          ],
          "pie": [
           {
            "automargin": true,
            "type": "pie"
           }
          ],
          "scatter": [
           {
            "fillpattern": {
             "fillmode": "overlay",
             "size": 10,
             "solidity": 0.2
            },
            "type": "scatter"
           }
          ],
          "scatter3d": [
           {
            "line": {
             "colorbar": {
              "outlinewidth": 0,
              "ticks": ""
             }
            },
            "marker": {
             "colorbar": {
              "outlinewidth": 0,
              "ticks": ""
             }
            },
            "type": "scatter3d"
           }
          ],
          "scattercarpet": [
           {
            "marker": {
             "colorbar": {
              "outlinewidth": 0,
              "ticks": ""
             }
            },
            "type": "scattercarpet"
           }
          ],
          "scattergeo": [
           {
            "marker": {
             "colorbar": {
              "outlinewidth": 0,
              "ticks": ""
             }
            },
            "type": "scattergeo"
           }
          ],
          "scattergl": [
           {
            "marker": {
             "colorbar": {
              "outlinewidth": 0,
              "ticks": ""
             }
            },
            "type": "scattergl"
           }
          ],
          "scattermapbox": [
           {
            "marker": {
             "colorbar": {
              "outlinewidth": 0,
              "ticks": ""
             }
            },
            "type": "scattermapbox"
           }
          ],
          "scatterpolar": [
           {
            "marker": {
             "colorbar": {
              "outlinewidth": 0,
              "ticks": ""
             }
            },
            "type": "scatterpolar"
           }
          ],
          "scatterpolargl": [
           {
            "marker": {
             "colorbar": {
              "outlinewidth": 0,
              "ticks": ""
             }
            },
            "type": "scatterpolargl"
           }
          ],
          "scatterternary": [
           {
            "marker": {
             "colorbar": {
              "outlinewidth": 0,
              "ticks": ""
             }
            },
            "type": "scatterternary"
           }
          ],
          "surface": [
           {
            "colorbar": {
             "outlinewidth": 0,
             "ticks": ""
            },
            "colorscale": [
             [
              0,
              "#0d0887"
             ],
             [
              0.1111111111111111,
              "#46039f"
             ],
             [
              0.2222222222222222,
              "#7201a8"
             ],
             [
              0.3333333333333333,
              "#9c179e"
             ],
             [
              0.4444444444444444,
              "#bd3786"
             ],
             [
              0.5555555555555556,
              "#d8576b"
             ],
             [
              0.6666666666666666,
              "#ed7953"
             ],
             [
              0.7777777777777778,
              "#fb9f3a"
             ],
             [
              0.8888888888888888,
              "#fdca26"
             ],
             [
              1,
              "#f0f921"
             ]
            ],
            "type": "surface"
           }
          ],
          "table": [
           {
            "cells": {
             "fill": {
              "color": "#EBF0F8"
             },
             "line": {
              "color": "white"
             }
            },
            "header": {
             "fill": {
              "color": "#C8D4E3"
             },
             "line": {
              "color": "white"
             }
            },
            "type": "table"
           }
          ]
         },
         "layout": {
          "annotationdefaults": {
           "arrowcolor": "#2a3f5f",
           "arrowhead": 0,
           "arrowwidth": 1
          },
          "autotypenumbers": "strict",
          "coloraxis": {
           "colorbar": {
            "outlinewidth": 0,
            "ticks": ""
           }
          },
          "colorscale": {
           "diverging": [
            [
             0,
             "#8e0152"
            ],
            [
             0.1,
             "#c51b7d"
            ],
            [
             0.2,
             "#de77ae"
            ],
            [
             0.3,
             "#f1b6da"
            ],
            [
             0.4,
             "#fde0ef"
            ],
            [
             0.5,
             "#f7f7f7"
            ],
            [
             0.6,
             "#e6f5d0"
            ],
            [
             0.7,
             "#b8e186"
            ],
            [
             0.8,
             "#7fbc41"
            ],
            [
             0.9,
             "#4d9221"
            ],
            [
             1,
             "#276419"
            ]
           ],
           "sequential": [
            [
             0,
             "#0d0887"
            ],
            [
             0.1111111111111111,
             "#46039f"
            ],
            [
             0.2222222222222222,
             "#7201a8"
            ],
            [
             0.3333333333333333,
             "#9c179e"
            ],
            [
             0.4444444444444444,
             "#bd3786"
            ],
            [
             0.5555555555555556,
             "#d8576b"
            ],
            [
             0.6666666666666666,
             "#ed7953"
            ],
            [
             0.7777777777777778,
             "#fb9f3a"
            ],
            [
             0.8888888888888888,
             "#fdca26"
            ],
            [
             1,
             "#f0f921"
            ]
           ],
           "sequentialminus": [
            [
             0,
             "#0d0887"
            ],
            [
             0.1111111111111111,
             "#46039f"
            ],
            [
             0.2222222222222222,
             "#7201a8"
            ],
            [
             0.3333333333333333,
             "#9c179e"
            ],
            [
             0.4444444444444444,
             "#bd3786"
            ],
            [
             0.5555555555555556,
             "#d8576b"
            ],
            [
             0.6666666666666666,
             "#ed7953"
            ],
            [
             0.7777777777777778,
             "#fb9f3a"
            ],
            [
             0.8888888888888888,
             "#fdca26"
            ],
            [
             1,
             "#f0f921"
            ]
           ]
          },
          "colorway": [
           "#636efa",
           "#EF553B",
           "#00cc96",
           "#ab63fa",
           "#FFA15A",
           "#19d3f3",
           "#FF6692",
           "#B6E880",
           "#FF97FF",
           "#FECB52"
          ],
          "font": {
           "color": "#2a3f5f"
          },
          "geo": {
           "bgcolor": "white",
           "lakecolor": "white",
           "landcolor": "#E5ECF6",
           "showlakes": true,
           "showland": true,
           "subunitcolor": "white"
          },
          "hoverlabel": {
           "align": "left"
          },
          "hovermode": "closest",
          "mapbox": {
           "style": "light"
          },
          "paper_bgcolor": "white",
          "plot_bgcolor": "#E5ECF6",
          "polar": {
           "angularaxis": {
            "gridcolor": "white",
            "linecolor": "white",
            "ticks": ""
           },
           "bgcolor": "#E5ECF6",
           "radialaxis": {
            "gridcolor": "white",
            "linecolor": "white",
            "ticks": ""
           }
          },
          "scene": {
           "xaxis": {
            "backgroundcolor": "#E5ECF6",
            "gridcolor": "white",
            "gridwidth": 2,
            "linecolor": "white",
            "showbackground": true,
            "ticks": "",
            "zerolinecolor": "white"
           },
           "yaxis": {
            "backgroundcolor": "#E5ECF6",
            "gridcolor": "white",
            "gridwidth": 2,
            "linecolor": "white",
            "showbackground": true,
            "ticks": "",
            "zerolinecolor": "white"
           },
           "zaxis": {
            "backgroundcolor": "#E5ECF6",
            "gridcolor": "white",
            "gridwidth": 2,
            "linecolor": "white",
            "showbackground": true,
            "ticks": "",
            "zerolinecolor": "white"
           }
          },
          "shapedefaults": {
           "line": {
            "color": "#2a3f5f"
           }
          },
          "ternary": {
           "aaxis": {
            "gridcolor": "white",
            "linecolor": "white",
            "ticks": ""
           },
           "baxis": {
            "gridcolor": "white",
            "linecolor": "white",
            "ticks": ""
           },
           "bgcolor": "#E5ECF6",
           "caxis": {
            "gridcolor": "white",
            "linecolor": "white",
            "ticks": ""
           }
          },
          "title": {
           "x": 0.05
          },
          "xaxis": {
           "automargin": true,
           "gridcolor": "white",
           "linecolor": "white",
           "ticks": "",
           "title": {
            "standoff": 15
           },
           "zerolinecolor": "white",
           "zerolinewidth": 2
          },
          "yaxis": {
           "automargin": true,
           "gridcolor": "white",
           "linecolor": "white",
           "ticks": "",
           "title": {
            "standoff": 15
           },
           "zerolinecolor": "white",
           "zerolinewidth": 2
          }
         }
        },
        "xaxis": {
         "anchor": "y",
         "domain": [
          0,
          1
         ],
         "title": {
          "text": "PAID"
         }
        },
        "yaxis": {
         "anchor": "x",
         "domain": [
          0,
          1
         ],
         "title": {
          "text": "count"
         }
        }
       }
      },
      "text/html": [
       "<div>                            <div id=\"7de2eb3c-3f99-4d32-8a30-b2fdea1c219c\" class=\"plotly-graph-div\" style=\"height:525px; width:100%;\"></div>            <script type=\"text/javascript\">                require([\"plotly\"], function(Plotly) {                    window.PLOTLYENV=window.PLOTLYENV || {};                                    if (document.getElementById(\"7de2eb3c-3f99-4d32-8a30-b2fdea1c219c\")) {                    Plotly.newPlot(                        \"7de2eb3c-3f99-4d32-8a30-b2fdea1c219c\",                        [{\"alignmentgroup\":\"True\",\"bingroup\":\"x\",\"hovertemplate\":\"PAID=%{x}\\u003cbr\\u003ecount=%{y}\\u003cextra\\u003e\\u003c\\u002fextra\\u003e\",\"legendgroup\":\"\",\"marker\":{\"color\":\"#636efa\",\"pattern\":{\"shape\":\"\"}},\"name\":\"\",\"nbinsx\":20,\"offsetgroup\":\"\",\"orientation\":\"v\",\"showlegend\":false,\"x\":[2384.67,650.0,654.0,3890.07,295.99,11756.34,2402.0,296.97,249.1,14833.3,3025.0,2750.0,2612.74,1259.89,824.85,669.5,664.34,408.39,3953.84,3841.66,239.37,30.0,6384.0,4467.92,1541.1,1354.93,1263.51,1045.0,519.75,499.28,365.26,322.34,122.41,10524.64,6854.02,3206.76,2724.04,2269.0,2169.88,1929.81,1061.8,945.8,899.13,7326.67,5301.72,3596.5,2322.72,1944.45,1491.69,1314.4,836.78,479.0,426.19,3112.89,2500.0,1921.22,1472.87,1444.89,1368.76,1346.36,772.23,688.67,362.63,359.41,354.29,262.81,244.11,9377.82,5540.07,3118.5,2495.8,2362.89,2007.78,1816.41,1500.0,1139.6,952.05,746.89,644.87,188.61,117.4,12714.43,10116.07,1949.14,1852.5,1722.82,1539.07,1476.43,1458.13,1119.52,990.07,987.0,782.44,459.0,377.36,319.67,176.07,154.75,8493.76,3809.83,3222.66,1113.38,766.4,663.17,640.4,619.06,419.18,298.62,160.2,105.5,8323.31,6291.84,4904.64,4096.58,3334.65,1755.95,1160.63,1098.37,818.79,651.57,646.79,584.61,417.04,399.9,371.63,365.5,275.43,146.56,14651.31,6754.81,5071.99,4809.52,2884.46,2591.33,2419.75,1321.7,1308.0,981.86,843.98,817.62,712.0,634.48,463.96,462.93,430.38,388.71,112.78,85.0,12151.86,5186.82,4451.39,3968.51,3392.58,1879.51,1792.54,1607.6,1238.0,1130.0,1081.71,1033.84,671.59,361.37,171.7,40.0,3203.35,3060.69,2171.93,1727.85,1550.0,1470.35,1229.01,1010.94,575.36,555.34,533.11,459.1,253.75,148.65,4184.46,4082.49,1846.1,1688.78,1118.91,749.64,725.71,722.02,648.06,593.46,516.81,302.54,300.0,278.55,248.68,131.0,28.46,13058.85,6950.54,2930.0,2112.46,2100.0,1500.0,1386.41,1270.17,1203.81,993.59,903.0,900.0,583.76,580.32,376.46,275.94,91.27,6013.74,4804.22,3179.28,2893.53,1916.21,1209.08,1036.74,986.12,893.03,754.31,740.38,694.91,693.13,564.05,551.78,549.77,497.85,403.3,358.7,284.54,228.0,177.6,177.42,139.79,33137.5,7293.43,3754.51,3495.14,3140.66,2137.4,1971.75,1956.0,1870.58,1650.0,1188.74,1115.89,1088.73,1074.35,1016.43,860.67,831.8,796.8,759.57,668.74,582.62,404.0,393.5,309.67,292.44,221.7,103.75,11511.72,6090.02,1727.33,1235.07,910.01,812.98,562.05,527.34,451.31,332.06,315.53,10527.4,7751.55,5711.53,3804.44,3760.07,2757.83,2565.84,2221.87,2139.9,2000.0,1363.23,1132.41,993.19,964.22,898.55,822.1,761.22,754.56,685.71,622.53,604.95,587.51,490.25,489.73,465.5,329.91,272.01,258.5,4643.8,3523.9,3007.96,2192.98,1752.16,1686.2,1648.41,1381.16,1336.26,1248.01,950.61,945.56,880.82,713.55,645.8,626.38,573.4,488.16,458.0,443.95,253.59,209.83,138.86,100.0,30.0,24624.44,8123.33,5158.65,5035.93,4625.47,1707.92,1694.59,1501.05,1369.74,946.38,825.66,682.85,604.95,585.34,565.02,529.28,388.03,377.54,303.0,300.0,198.98,135.0,47.52,11458.07,8300.31,7827.74,6261.92,5861.5,5381.14,4532.02,3656.77,2928.92,2547.5,2276.5,2017.28,1678.17,1651.86,1482.45,1480.93,1348.93,1189.96,1090.41,940.28,925.47,852.22,417.18,369.02,346.79,244.23,132.0,100.0,14753.58,11288.76,10175.27,6277.84,4939.5,4786.51,3167.49,2572.22,1712.27,1712.13,1396.61,1377.31,1108.42,1001.76,989.59,891.09,882.77,670.77,638.99,546.32,536.11,533.33,464.59,460.36,291.92,257.01,106.0,7487.94,7296.2,4929.65,2532.6,2344.69,1855.85,1812.47,1431.81,1226.28,1122.12,1090.75,1067.57,1012.19,928.2,861.89,809.34,782.9,768.05,698.65,630.11,617.9,594.8,585.74,390.02,291.28,236.53,10077.0,8569.3,6124.34,5335.35,3486.96,3255.88,2985.29,2418.4,2368.69,2007.64,1996.0,1869.49,1600.18,1278.52,1212.85,1039.69,834.12,805.18,676.15,651.18,586.85,315.61,311.32,25.44,9793.42,7620.37,6800.94,4781.43,3944.37,2406.0,1613.41,1340.74,1249.02,1086.9,941.85,909.99,903.99,875.28,738.18,492.22,468.0,443.49,439.22,359.11,8215.8,6208.2,5241.71,3912.49,3230.09,2600.0,2531.24,2038.05,1890.5,1704.54,1145.63,959.52,763.07,746.63,700.0,554.55,545.3,490.6,273.29,189.9,10652.59,5556.75,3403.09,3328.93,2805.73],\"xaxis\":\"x\",\"yaxis\":\"y\",\"type\":\"histogram\"}],                        {\"template\":{\"data\":{\"histogram2dcontour\":[{\"type\":\"histogram2dcontour\",\"colorbar\":{\"outlinewidth\":0,\"ticks\":\"\"},\"colorscale\":[[0.0,\"#0d0887\"],[0.1111111111111111,\"#46039f\"],[0.2222222222222222,\"#7201a8\"],[0.3333333333333333,\"#9c179e\"],[0.4444444444444444,\"#bd3786\"],[0.5555555555555556,\"#d8576b\"],[0.6666666666666666,\"#ed7953\"],[0.7777777777777778,\"#fb9f3a\"],[0.8888888888888888,\"#fdca26\"],[1.0,\"#f0f921\"]]}],\"choropleth\":[{\"type\":\"choropleth\",\"colorbar\":{\"outlinewidth\":0,\"ticks\":\"\"}}],\"histogram2d\":[{\"type\":\"histogram2d\",\"colorbar\":{\"outlinewidth\":0,\"ticks\":\"\"},\"colorscale\":[[0.0,\"#0d0887\"],[0.1111111111111111,\"#46039f\"],[0.2222222222222222,\"#7201a8\"],[0.3333333333333333,\"#9c179e\"],[0.4444444444444444,\"#bd3786\"],[0.5555555555555556,\"#d8576b\"],[0.6666666666666666,\"#ed7953\"],[0.7777777777777778,\"#fb9f3a\"],[0.8888888888888888,\"#fdca26\"],[1.0,\"#f0f921\"]]}],\"heatmap\":[{\"type\":\"heatmap\",\"colorbar\":{\"outlinewidth\":0,\"ticks\":\"\"},\"colorscale\":[[0.0,\"#0d0887\"],[0.1111111111111111,\"#46039f\"],[0.2222222222222222,\"#7201a8\"],[0.3333333333333333,\"#9c179e\"],[0.4444444444444444,\"#bd3786\"],[0.5555555555555556,\"#d8576b\"],[0.6666666666666666,\"#ed7953\"],[0.7777777777777778,\"#fb9f3a\"],[0.8888888888888888,\"#fdca26\"],[1.0,\"#f0f921\"]]}],\"heatmapgl\":[{\"type\":\"heatmapgl\",\"colorbar\":{\"outlinewidth\":0,\"ticks\":\"\"},\"colorscale\":[[0.0,\"#0d0887\"],[0.1111111111111111,\"#46039f\"],[0.2222222222222222,\"#7201a8\"],[0.3333333333333333,\"#9c179e\"],[0.4444444444444444,\"#bd3786\"],[0.5555555555555556,\"#d8576b\"],[0.6666666666666666,\"#ed7953\"],[0.7777777777777778,\"#fb9f3a\"],[0.8888888888888888,\"#fdca26\"],[1.0,\"#f0f921\"]]}],\"contourcarpet\":[{\"type\":\"contourcarpet\",\"colorbar\":{\"outlinewidth\":0,\"ticks\":\"\"}}],\"contour\":[{\"type\":\"contour\",\"colorbar\":{\"outlinewidth\":0,\"ticks\":\"\"},\"colorscale\":[[0.0,\"#0d0887\"],[0.1111111111111111,\"#46039f\"],[0.2222222222222222,\"#7201a8\"],[0.3333333333333333,\"#9c179e\"],[0.4444444444444444,\"#bd3786\"],[0.5555555555555556,\"#d8576b\"],[0.6666666666666666,\"#ed7953\"],[0.7777777777777778,\"#fb9f3a\"],[0.8888888888888888,\"#fdca26\"],[1.0,\"#f0f921\"]]}],\"surface\":[{\"type\":\"surface\",\"colorbar\":{\"outlinewidth\":0,\"ticks\":\"\"},\"colorscale\":[[0.0,\"#0d0887\"],[0.1111111111111111,\"#46039f\"],[0.2222222222222222,\"#7201a8\"],[0.3333333333333333,\"#9c179e\"],[0.4444444444444444,\"#bd3786\"],[0.5555555555555556,\"#d8576b\"],[0.6666666666666666,\"#ed7953\"],[0.7777777777777778,\"#fb9f3a\"],[0.8888888888888888,\"#fdca26\"],[1.0,\"#f0f921\"]]}],\"mesh3d\":[{\"type\":\"mesh3d\",\"colorbar\":{\"outlinewidth\":0,\"ticks\":\"\"}}],\"scatter\":[{\"fillpattern\":{\"fillmode\":\"overlay\",\"size\":10,\"solidity\":0.2},\"type\":\"scatter\"}],\"parcoords\":[{\"type\":\"parcoords\",\"line\":{\"colorbar\":{\"outlinewidth\":0,\"ticks\":\"\"}}}],\"scatterpolargl\":[{\"type\":\"scatterpolargl\",\"marker\":{\"colorbar\":{\"outlinewidth\":0,\"ticks\":\"\"}}}],\"bar\":[{\"error_x\":{\"color\":\"#2a3f5f\"},\"error_y\":{\"color\":\"#2a3f5f\"},\"marker\":{\"line\":{\"color\":\"#E5ECF6\",\"width\":0.5},\"pattern\":{\"fillmode\":\"overlay\",\"size\":10,\"solidity\":0.2}},\"type\":\"bar\"}],\"scattergeo\":[{\"type\":\"scattergeo\",\"marker\":{\"colorbar\":{\"outlinewidth\":0,\"ticks\":\"\"}}}],\"scatterpolar\":[{\"type\":\"scatterpolar\",\"marker\":{\"colorbar\":{\"outlinewidth\":0,\"ticks\":\"\"}}}],\"histogram\":[{\"marker\":{\"pattern\":{\"fillmode\":\"overlay\",\"size\":10,\"solidity\":0.2}},\"type\":\"histogram\"}],\"scattergl\":[{\"type\":\"scattergl\",\"marker\":{\"colorbar\":{\"outlinewidth\":0,\"ticks\":\"\"}}}],\"scatter3d\":[{\"type\":\"scatter3d\",\"line\":{\"colorbar\":{\"outlinewidth\":0,\"ticks\":\"\"}},\"marker\":{\"colorbar\":{\"outlinewidth\":0,\"ticks\":\"\"}}}],\"scattermapbox\":[{\"type\":\"scattermapbox\",\"marker\":{\"colorbar\":{\"outlinewidth\":0,\"ticks\":\"\"}}}],\"scatterternary\":[{\"type\":\"scatterternary\",\"marker\":{\"colorbar\":{\"outlinewidth\":0,\"ticks\":\"\"}}}],\"scattercarpet\":[{\"type\":\"scattercarpet\",\"marker\":{\"colorbar\":{\"outlinewidth\":0,\"ticks\":\"\"}}}],\"carpet\":[{\"aaxis\":{\"endlinecolor\":\"#2a3f5f\",\"gridcolor\":\"white\",\"linecolor\":\"white\",\"minorgridcolor\":\"white\",\"startlinecolor\":\"#2a3f5f\"},\"baxis\":{\"endlinecolor\":\"#2a3f5f\",\"gridcolor\":\"white\",\"linecolor\":\"white\",\"minorgridcolor\":\"white\",\"startlinecolor\":\"#2a3f5f\"},\"type\":\"carpet\"}],\"table\":[{\"cells\":{\"fill\":{\"color\":\"#EBF0F8\"},\"line\":{\"color\":\"white\"}},\"header\":{\"fill\":{\"color\":\"#C8D4E3\"},\"line\":{\"color\":\"white\"}},\"type\":\"table\"}],\"barpolar\":[{\"marker\":{\"line\":{\"color\":\"#E5ECF6\",\"width\":0.5},\"pattern\":{\"fillmode\":\"overlay\",\"size\":10,\"solidity\":0.2}},\"type\":\"barpolar\"}],\"pie\":[{\"automargin\":true,\"type\":\"pie\"}]},\"layout\":{\"autotypenumbers\":\"strict\",\"colorway\":[\"#636efa\",\"#EF553B\",\"#00cc96\",\"#ab63fa\",\"#FFA15A\",\"#19d3f3\",\"#FF6692\",\"#B6E880\",\"#FF97FF\",\"#FECB52\"],\"font\":{\"color\":\"#2a3f5f\"},\"hovermode\":\"closest\",\"hoverlabel\":{\"align\":\"left\"},\"paper_bgcolor\":\"white\",\"plot_bgcolor\":\"#E5ECF6\",\"polar\":{\"bgcolor\":\"#E5ECF6\",\"angularaxis\":{\"gridcolor\":\"white\",\"linecolor\":\"white\",\"ticks\":\"\"},\"radialaxis\":{\"gridcolor\":\"white\",\"linecolor\":\"white\",\"ticks\":\"\"}},\"ternary\":{\"bgcolor\":\"#E5ECF6\",\"aaxis\":{\"gridcolor\":\"white\",\"linecolor\":\"white\",\"ticks\":\"\"},\"baxis\":{\"gridcolor\":\"white\",\"linecolor\":\"white\",\"ticks\":\"\"},\"caxis\":{\"gridcolor\":\"white\",\"linecolor\":\"white\",\"ticks\":\"\"}},\"coloraxis\":{\"colorbar\":{\"outlinewidth\":0,\"ticks\":\"\"}},\"colorscale\":{\"sequential\":[[0.0,\"#0d0887\"],[0.1111111111111111,\"#46039f\"],[0.2222222222222222,\"#7201a8\"],[0.3333333333333333,\"#9c179e\"],[0.4444444444444444,\"#bd3786\"],[0.5555555555555556,\"#d8576b\"],[0.6666666666666666,\"#ed7953\"],[0.7777777777777778,\"#fb9f3a\"],[0.8888888888888888,\"#fdca26\"],[1.0,\"#f0f921\"]],\"sequentialminus\":[[0.0,\"#0d0887\"],[0.1111111111111111,\"#46039f\"],[0.2222222222222222,\"#7201a8\"],[0.3333333333333333,\"#9c179e\"],[0.4444444444444444,\"#bd3786\"],[0.5555555555555556,\"#d8576b\"],[0.6666666666666666,\"#ed7953\"],[0.7777777777777778,\"#fb9f3a\"],[0.8888888888888888,\"#fdca26\"],[1.0,\"#f0f921\"]],\"diverging\":[[0,\"#8e0152\"],[0.1,\"#c51b7d\"],[0.2,\"#de77ae\"],[0.3,\"#f1b6da\"],[0.4,\"#fde0ef\"],[0.5,\"#f7f7f7\"],[0.6,\"#e6f5d0\"],[0.7,\"#b8e186\"],[0.8,\"#7fbc41\"],[0.9,\"#4d9221\"],[1,\"#276419\"]]},\"xaxis\":{\"gridcolor\":\"white\",\"linecolor\":\"white\",\"ticks\":\"\",\"title\":{\"standoff\":15},\"zerolinecolor\":\"white\",\"automargin\":true,\"zerolinewidth\":2},\"yaxis\":{\"gridcolor\":\"white\",\"linecolor\":\"white\",\"ticks\":\"\",\"title\":{\"standoff\":15},\"zerolinecolor\":\"white\",\"automargin\":true,\"zerolinewidth\":2},\"scene\":{\"xaxis\":{\"backgroundcolor\":\"#E5ECF6\",\"gridcolor\":\"white\",\"linecolor\":\"white\",\"showbackground\":true,\"ticks\":\"\",\"zerolinecolor\":\"white\",\"gridwidth\":2},\"yaxis\":{\"backgroundcolor\":\"#E5ECF6\",\"gridcolor\":\"white\",\"linecolor\":\"white\",\"showbackground\":true,\"ticks\":\"\",\"zerolinecolor\":\"white\",\"gridwidth\":2},\"zaxis\":{\"backgroundcolor\":\"#E5ECF6\",\"gridcolor\":\"white\",\"linecolor\":\"white\",\"showbackground\":true,\"ticks\":\"\",\"zerolinecolor\":\"white\",\"gridwidth\":2}},\"shapedefaults\":{\"line\":{\"color\":\"#2a3f5f\"}},\"annotationdefaults\":{\"arrowcolor\":\"#2a3f5f\",\"arrowhead\":0,\"arrowwidth\":1},\"geo\":{\"bgcolor\":\"white\",\"landcolor\":\"#E5ECF6\",\"subunitcolor\":\"white\",\"showland\":true,\"showlakes\":true,\"lakecolor\":\"white\"},\"title\":{\"x\":0.05},\"mapbox\":{\"style\":\"light\"}}},\"xaxis\":{\"anchor\":\"y\",\"domain\":[0.0,1.0],\"title\":{\"text\":\"PAID\"}},\"yaxis\":{\"anchor\":\"x\",\"domain\":[0.0,1.0],\"title\":{\"text\":\"count\"}},\"legend\":{\"tracegroupgap\":0},\"margin\":{\"t\":60},\"barmode\":\"relative\"},                        {\"responsive\": true}                    ).then(function(){\n",
       "                            \n",
       "var gd = document.getElementById('7de2eb3c-3f99-4d32-8a30-b2fdea1c219c');\n",
       "var x = new MutationObserver(function (mutations, observer) {{\n",
       "        var display = window.getComputedStyle(gd).display;\n",
       "        if (!display || display === 'none') {{\n",
       "            console.log([gd, 'removed!']);\n",
       "            Plotly.purge(gd);\n",
       "            observer.disconnect();\n",
       "        }}\n",
       "}});\n",
       "\n",
       "// Listen for the removal of the full notebook cells\n",
       "var notebookContainer = gd.closest('#notebook-container');\n",
       "if (notebookContainer) {{\n",
       "    x.observe(notebookContainer, {childList: true});\n",
       "}}\n",
       "\n",
       "// Listen for the clearing of the current output cell\n",
       "var outputEl = gd.closest('.output');\n",
       "if (outputEl) {{\n",
       "    x.observe(outputEl, {childList: true});\n",
       "}}\n",
       "\n",
       "                        })                };                });            </script>        </div>"
      ]
     },
     "metadata": {},
     "output_type": "display_data"
    }
   ],
   "source": [
    "# histogram\n"
   ]
  },
  {
   "cell_type": "code",
   "execution_count": 66,
   "id": "3e6b03e9",
   "metadata": {},
   "outputs": [
    {
     "data": {
      "application/vnd.plotly.v1+json": {
       "config": {
        "plotlyServerURL": "https://plot.ly"
       },
       "data": [
        {
         "alignmentgroup": "True",
         "hovertemplate": "PAID=%{x}<extra></extra>",
         "legendgroup": "",
         "marker": {
          "color": "#636efa"
         },
         "name": "",
         "notched": false,
         "offsetgroup": "",
         "orientation": "h",
         "showlegend": false,
         "type": "box",
         "x": [
          2384.67,
          650,
          654,
          3890.07,
          295.99,
          11756.34,
          2402,
          296.97,
          249.1,
          14833.3,
          3025,
          2750,
          2612.74,
          1259.89,
          824.85,
          669.5,
          664.34,
          408.39,
          3953.84,
          3841.66,
          239.37,
          30,
          6384,
          4467.92,
          1541.1,
          1354.93,
          1263.51,
          1045,
          519.75,
          499.28,
          365.26,
          322.34,
          122.41,
          10524.64,
          6854.02,
          3206.76,
          2724.04,
          2269,
          2169.88,
          1929.81,
          1061.8,
          945.8,
          899.13,
          7326.67,
          5301.72,
          3596.5,
          2322.72,
          1944.45,
          1491.69,
          1314.4,
          836.78,
          479,
          426.19,
          3112.89,
          2500,
          1921.22,
          1472.87,
          1444.89,
          1368.76,
          1346.36,
          772.23,
          688.67,
          362.63,
          359.41,
          354.29,
          262.81,
          244.11,
          9377.82,
          5540.07,
          3118.5,
          2495.8,
          2362.89,
          2007.78,
          1816.41,
          1500,
          1139.6,
          952.05,
          746.89,
          644.87,
          188.61,
          117.4,
          12714.43,
          10116.07,
          1949.14,
          1852.5,
          1722.82,
          1539.07,
          1476.43,
          1458.13,
          1119.52,
          990.07,
          987,
          782.44,
          459,
          377.36,
          319.67,
          176.07,
          154.75,
          8493.76,
          3809.83,
          3222.66,
          1113.38,
          766.4,
          663.17,
          640.4,
          619.06,
          419.18,
          298.62,
          160.2,
          105.5,
          8323.31,
          6291.84,
          4904.64,
          4096.58,
          3334.65,
          1755.95,
          1160.63,
          1098.37,
          818.79,
          651.57,
          646.79,
          584.61,
          417.04,
          399.9,
          371.63,
          365.5,
          275.43,
          146.56,
          14651.31,
          6754.81,
          5071.99,
          4809.52,
          2884.46,
          2591.33,
          2419.75,
          1321.7,
          1308,
          981.86,
          843.98,
          817.62,
          712,
          634.48,
          463.96,
          462.93,
          430.38,
          388.71,
          112.78,
          85,
          12151.86,
          5186.82,
          4451.39,
          3968.51,
          3392.58,
          1879.51,
          1792.54,
          1607.6,
          1238,
          1130,
          1081.71,
          1033.84,
          671.59,
          361.37,
          171.7,
          40,
          3203.35,
          3060.69,
          2171.93,
          1727.85,
          1550,
          1470.35,
          1229.01,
          1010.94,
          575.36,
          555.34,
          533.11,
          459.1,
          253.75,
          148.65,
          4184.46,
          4082.49,
          1846.1,
          1688.78,
          1118.91,
          749.64,
          725.71,
          722.02,
          648.06,
          593.46,
          516.81,
          302.54,
          300,
          278.55,
          248.68,
          131,
          28.46,
          13058.85,
          6950.54,
          2930,
          2112.46,
          2100,
          1500,
          1386.41,
          1270.17,
          1203.81,
          993.59,
          903,
          900,
          583.76,
          580.32,
          376.46,
          275.94,
          91.27,
          6013.74,
          4804.22,
          3179.28,
          2893.53,
          1916.21,
          1209.08,
          1036.74,
          986.12,
          893.03,
          754.31,
          740.38,
          694.91,
          693.13,
          564.05,
          551.78,
          549.77,
          497.85,
          403.3,
          358.7,
          284.54,
          228,
          177.6,
          177.42,
          139.79,
          33137.5,
          7293.43,
          3754.51,
          3495.14,
          3140.66,
          2137.4,
          1971.75,
          1956,
          1870.58,
          1650,
          1188.74,
          1115.89,
          1088.73,
          1074.35,
          1016.43,
          860.67,
          831.8,
          796.8,
          759.57,
          668.74,
          582.62,
          404,
          393.5,
          309.67,
          292.44,
          221.7,
          103.75,
          11511.72,
          6090.02,
          1727.33,
          1235.07,
          910.01,
          812.98,
          562.05,
          527.34,
          451.31,
          332.06,
          315.53,
          10527.4,
          7751.55,
          5711.53,
          3804.44,
          3760.07,
          2757.83,
          2565.84,
          2221.87,
          2139.9,
          2000,
          1363.23,
          1132.41,
          993.19,
          964.22,
          898.55,
          822.1,
          761.22,
          754.56,
          685.71,
          622.53,
          604.95,
          587.51,
          490.25,
          489.73,
          465.5,
          329.91,
          272.01,
          258.5,
          4643.8,
          3523.9,
          3007.96,
          2192.98,
          1752.16,
          1686.2,
          1648.41,
          1381.16,
          1336.26,
          1248.01,
          950.61,
          945.56,
          880.82,
          713.55,
          645.8,
          626.38,
          573.4,
          488.16,
          458,
          443.95,
          253.59,
          209.83,
          138.86,
          100,
          30,
          24624.44,
          8123.33,
          5158.65,
          5035.93,
          4625.47,
          1707.92,
          1694.59,
          1501.05,
          1369.74,
          946.38,
          825.66,
          682.85,
          604.95,
          585.34,
          565.02,
          529.28,
          388.03,
          377.54,
          303,
          300,
          198.98,
          135,
          47.52,
          11458.07,
          8300.31,
          7827.74,
          6261.92,
          5861.5,
          5381.14,
          4532.02,
          3656.77,
          2928.92,
          2547.5,
          2276.5,
          2017.28,
          1678.17,
          1651.86,
          1482.45,
          1480.93,
          1348.93,
          1189.96,
          1090.41,
          940.28,
          925.47,
          852.22,
          417.18,
          369.02,
          346.79,
          244.23,
          132,
          100,
          14753.58,
          11288.76,
          10175.27,
          6277.84,
          4939.5,
          4786.51,
          3167.49,
          2572.22,
          1712.27,
          1712.13,
          1396.61,
          1377.31,
          1108.42,
          1001.76,
          989.59,
          891.09,
          882.77,
          670.77,
          638.99,
          546.32,
          536.11,
          533.33,
          464.59,
          460.36,
          291.92,
          257.01,
          106,
          7487.94,
          7296.2,
          4929.65,
          2532.6,
          2344.69,
          1855.85,
          1812.47,
          1431.81,
          1226.28,
          1122.12,
          1090.75,
          1067.57,
          1012.19,
          928.2,
          861.89,
          809.34,
          782.9,
          768.05,
          698.65,
          630.11,
          617.9,
          594.8,
          585.74,
          390.02,
          291.28,
          236.53,
          10077,
          8569.3,
          6124.34,
          5335.35,
          3486.96,
          3255.88,
          2985.29,
          2418.4,
          2368.69,
          2007.64,
          1996,
          1869.49,
          1600.18,
          1278.52,
          1212.85,
          1039.69,
          834.12,
          805.18,
          676.15,
          651.18,
          586.85,
          315.61,
          311.32,
          25.44,
          9793.42,
          7620.37,
          6800.94,
          4781.43,
          3944.37,
          2406,
          1613.41,
          1340.74,
          1249.02,
          1086.9,
          941.85,
          909.99,
          903.99,
          875.28,
          738.18,
          492.22,
          468,
          443.49,
          439.22,
          359.11,
          8215.8,
          6208.2,
          5241.71,
          3912.49,
          3230.09,
          2600,
          2531.24,
          2038.05,
          1890.5,
          1704.54,
          1145.63,
          959.52,
          763.07,
          746.63,
          700,
          554.55,
          545.3,
          490.6,
          273.29,
          189.9,
          10652.59,
          5556.75,
          3403.09,
          3328.93,
          2805.73
         ],
         "x0": " ",
         "xaxis": "x",
         "y0": " ",
         "yaxis": "y"
        }
       ],
       "layout": {
        "boxmode": "group",
        "legend": {
         "tracegroupgap": 0
        },
        "margin": {
         "t": 60
        },
        "template": {
         "data": {
          "bar": [
           {
            "error_x": {
             "color": "#2a3f5f"
            },
            "error_y": {
             "color": "#2a3f5f"
            },
            "marker": {
             "line": {
              "color": "#E5ECF6",
              "width": 0.5
             },
             "pattern": {
              "fillmode": "overlay",
              "size": 10,
              "solidity": 0.2
             }
            },
            "type": "bar"
           }
          ],
          "barpolar": [
           {
            "marker": {
             "line": {
              "color": "#E5ECF6",
              "width": 0.5
             },
             "pattern": {
              "fillmode": "overlay",
              "size": 10,
              "solidity": 0.2
             }
            },
            "type": "barpolar"
           }
          ],
          "carpet": [
           {
            "aaxis": {
             "endlinecolor": "#2a3f5f",
             "gridcolor": "white",
             "linecolor": "white",
             "minorgridcolor": "white",
             "startlinecolor": "#2a3f5f"
            },
            "baxis": {
             "endlinecolor": "#2a3f5f",
             "gridcolor": "white",
             "linecolor": "white",
             "minorgridcolor": "white",
             "startlinecolor": "#2a3f5f"
            },
            "type": "carpet"
           }
          ],
          "choropleth": [
           {
            "colorbar": {
             "outlinewidth": 0,
             "ticks": ""
            },
            "type": "choropleth"
           }
          ],
          "contour": [
           {
            "colorbar": {
             "outlinewidth": 0,
             "ticks": ""
            },
            "colorscale": [
             [
              0,
              "#0d0887"
             ],
             [
              0.1111111111111111,
              "#46039f"
             ],
             [
              0.2222222222222222,
              "#7201a8"
             ],
             [
              0.3333333333333333,
              "#9c179e"
             ],
             [
              0.4444444444444444,
              "#bd3786"
             ],
             [
              0.5555555555555556,
              "#d8576b"
             ],
             [
              0.6666666666666666,
              "#ed7953"
             ],
             [
              0.7777777777777778,
              "#fb9f3a"
             ],
             [
              0.8888888888888888,
              "#fdca26"
             ],
             [
              1,
              "#f0f921"
             ]
            ],
            "type": "contour"
           }
          ],
          "contourcarpet": [
           {
            "colorbar": {
             "outlinewidth": 0,
             "ticks": ""
            },
            "type": "contourcarpet"
           }
          ],
          "heatmap": [
           {
            "colorbar": {
             "outlinewidth": 0,
             "ticks": ""
            },
            "colorscale": [
             [
              0,
              "#0d0887"
             ],
             [
              0.1111111111111111,
              "#46039f"
             ],
             [
              0.2222222222222222,
              "#7201a8"
             ],
             [
              0.3333333333333333,
              "#9c179e"
             ],
             [
              0.4444444444444444,
              "#bd3786"
             ],
             [
              0.5555555555555556,
              "#d8576b"
             ],
             [
              0.6666666666666666,
              "#ed7953"
             ],
             [
              0.7777777777777778,
              "#fb9f3a"
             ],
             [
              0.8888888888888888,
              "#fdca26"
             ],
             [
              1,
              "#f0f921"
             ]
            ],
            "type": "heatmap"
           }
          ],
          "heatmapgl": [
           {
            "colorbar": {
             "outlinewidth": 0,
             "ticks": ""
            },
            "colorscale": [
             [
              0,
              "#0d0887"
             ],
             [
              0.1111111111111111,
              "#46039f"
             ],
             [
              0.2222222222222222,
              "#7201a8"
             ],
             [
              0.3333333333333333,
              "#9c179e"
             ],
             [
              0.4444444444444444,
              "#bd3786"
             ],
             [
              0.5555555555555556,
              "#d8576b"
             ],
             [
              0.6666666666666666,
              "#ed7953"
             ],
             [
              0.7777777777777778,
              "#fb9f3a"
             ],
             [
              0.8888888888888888,
              "#fdca26"
             ],
             [
              1,
              "#f0f921"
             ]
            ],
            "type": "heatmapgl"
           }
          ],
          "histogram": [
           {
            "marker": {
             "pattern": {
              "fillmode": "overlay",
              "size": 10,
              "solidity": 0.2
             }
            },
            "type": "histogram"
           }
          ],
          "histogram2d": [
           {
            "colorbar": {
             "outlinewidth": 0,
             "ticks": ""
            },
            "colorscale": [
             [
              0,
              "#0d0887"
             ],
             [
              0.1111111111111111,
              "#46039f"
             ],
             [
              0.2222222222222222,
              "#7201a8"
             ],
             [
              0.3333333333333333,
              "#9c179e"
             ],
             [
              0.4444444444444444,
              "#bd3786"
             ],
             [
              0.5555555555555556,
              "#d8576b"
             ],
             [
              0.6666666666666666,
              "#ed7953"
             ],
             [
              0.7777777777777778,
              "#fb9f3a"
             ],
             [
              0.8888888888888888,
              "#fdca26"
             ],
             [
              1,
              "#f0f921"
             ]
            ],
            "type": "histogram2d"
           }
          ],
          "histogram2dcontour": [
           {
            "colorbar": {
             "outlinewidth": 0,
             "ticks": ""
            },
            "colorscale": [
             [
              0,
              "#0d0887"
             ],
             [
              0.1111111111111111,
              "#46039f"
             ],
             [
              0.2222222222222222,
              "#7201a8"
             ],
             [
              0.3333333333333333,
              "#9c179e"
             ],
             [
              0.4444444444444444,
              "#bd3786"
             ],
             [
              0.5555555555555556,
              "#d8576b"
             ],
             [
              0.6666666666666666,
              "#ed7953"
             ],
             [
              0.7777777777777778,
              "#fb9f3a"
             ],
             [
              0.8888888888888888,
              "#fdca26"
             ],
             [
              1,
              "#f0f921"
             ]
            ],
            "type": "histogram2dcontour"
           }
          ],
          "mesh3d": [
           {
            "colorbar": {
             "outlinewidth": 0,
             "ticks": ""
            },
            "type": "mesh3d"
           }
          ],
          "parcoords": [
           {
            "line": {
             "colorbar": {
              "outlinewidth": 0,
              "ticks": ""
             }
            },
            "type": "parcoords"
           }
          ],
          "pie": [
           {
            "automargin": true,
            "type": "pie"
           }
          ],
          "scatter": [
           {
            "fillpattern": {
             "fillmode": "overlay",
             "size": 10,
             "solidity": 0.2
            },
            "type": "scatter"
           }
          ],
          "scatter3d": [
           {
            "line": {
             "colorbar": {
              "outlinewidth": 0,
              "ticks": ""
             }
            },
            "marker": {
             "colorbar": {
              "outlinewidth": 0,
              "ticks": ""
             }
            },
            "type": "scatter3d"
           }
          ],
          "scattercarpet": [
           {
            "marker": {
             "colorbar": {
              "outlinewidth": 0,
              "ticks": ""
             }
            },
            "type": "scattercarpet"
           }
          ],
          "scattergeo": [
           {
            "marker": {
             "colorbar": {
              "outlinewidth": 0,
              "ticks": ""
             }
            },
            "type": "scattergeo"
           }
          ],
          "scattergl": [
           {
            "marker": {
             "colorbar": {
              "outlinewidth": 0,
              "ticks": ""
             }
            },
            "type": "scattergl"
           }
          ],
          "scattermapbox": [
           {
            "marker": {
             "colorbar": {
              "outlinewidth": 0,
              "ticks": ""
             }
            },
            "type": "scattermapbox"
           }
          ],
          "scatterpolar": [
           {
            "marker": {
             "colorbar": {
              "outlinewidth": 0,
              "ticks": ""
             }
            },
            "type": "scatterpolar"
           }
          ],
          "scatterpolargl": [
           {
            "marker": {
             "colorbar": {
              "outlinewidth": 0,
              "ticks": ""
             }
            },
            "type": "scatterpolargl"
           }
          ],
          "scatterternary": [
           {
            "marker": {
             "colorbar": {
              "outlinewidth": 0,
              "ticks": ""
             }
            },
            "type": "scatterternary"
           }
          ],
          "surface": [
           {
            "colorbar": {
             "outlinewidth": 0,
             "ticks": ""
            },
            "colorscale": [
             [
              0,
              "#0d0887"
             ],
             [
              0.1111111111111111,
              "#46039f"
             ],
             [
              0.2222222222222222,
              "#7201a8"
             ],
             [
              0.3333333333333333,
              "#9c179e"
             ],
             [
              0.4444444444444444,
              "#bd3786"
             ],
             [
              0.5555555555555556,
              "#d8576b"
             ],
             [
              0.6666666666666666,
              "#ed7953"
             ],
             [
              0.7777777777777778,
              "#fb9f3a"
             ],
             [
              0.8888888888888888,
              "#fdca26"
             ],
             [
              1,
              "#f0f921"
             ]
            ],
            "type": "surface"
           }
          ],
          "table": [
           {
            "cells": {
             "fill": {
              "color": "#EBF0F8"
             },
             "line": {
              "color": "white"
             }
            },
            "header": {
             "fill": {
              "color": "#C8D4E3"
             },
             "line": {
              "color": "white"
             }
            },
            "type": "table"
           }
          ]
         },
         "layout": {
          "annotationdefaults": {
           "arrowcolor": "#2a3f5f",
           "arrowhead": 0,
           "arrowwidth": 1
          },
          "autotypenumbers": "strict",
          "coloraxis": {
           "colorbar": {
            "outlinewidth": 0,
            "ticks": ""
           }
          },
          "colorscale": {
           "diverging": [
            [
             0,
             "#8e0152"
            ],
            [
             0.1,
             "#c51b7d"
            ],
            [
             0.2,
             "#de77ae"
            ],
            [
             0.3,
             "#f1b6da"
            ],
            [
             0.4,
             "#fde0ef"
            ],
            [
             0.5,
             "#f7f7f7"
            ],
            [
             0.6,
             "#e6f5d0"
            ],
            [
             0.7,
             "#b8e186"
            ],
            [
             0.8,
             "#7fbc41"
            ],
            [
             0.9,
             "#4d9221"
            ],
            [
             1,
             "#276419"
            ]
           ],
           "sequential": [
            [
             0,
             "#0d0887"
            ],
            [
             0.1111111111111111,
             "#46039f"
            ],
            [
             0.2222222222222222,
             "#7201a8"
            ],
            [
             0.3333333333333333,
             "#9c179e"
            ],
            [
             0.4444444444444444,
             "#bd3786"
            ],
            [
             0.5555555555555556,
             "#d8576b"
            ],
            [
             0.6666666666666666,
             "#ed7953"
            ],
            [
             0.7777777777777778,
             "#fb9f3a"
            ],
            [
             0.8888888888888888,
             "#fdca26"
            ],
            [
             1,
             "#f0f921"
            ]
           ],
           "sequentialminus": [
            [
             0,
             "#0d0887"
            ],
            [
             0.1111111111111111,
             "#46039f"
            ],
            [
             0.2222222222222222,
             "#7201a8"
            ],
            [
             0.3333333333333333,
             "#9c179e"
            ],
            [
             0.4444444444444444,
             "#bd3786"
            ],
            [
             0.5555555555555556,
             "#d8576b"
            ],
            [
             0.6666666666666666,
             "#ed7953"
            ],
            [
             0.7777777777777778,
             "#fb9f3a"
            ],
            [
             0.8888888888888888,
             "#fdca26"
            ],
            [
             1,
             "#f0f921"
            ]
           ]
          },
          "colorway": [
           "#636efa",
           "#EF553B",
           "#00cc96",
           "#ab63fa",
           "#FFA15A",
           "#19d3f3",
           "#FF6692",
           "#B6E880",
           "#FF97FF",
           "#FECB52"
          ],
          "font": {
           "color": "#2a3f5f"
          },
          "geo": {
           "bgcolor": "white",
           "lakecolor": "white",
           "landcolor": "#E5ECF6",
           "showlakes": true,
           "showland": true,
           "subunitcolor": "white"
          },
          "hoverlabel": {
           "align": "left"
          },
          "hovermode": "closest",
          "mapbox": {
           "style": "light"
          },
          "paper_bgcolor": "white",
          "plot_bgcolor": "#E5ECF6",
          "polar": {
           "angularaxis": {
            "gridcolor": "white",
            "linecolor": "white",
            "ticks": ""
           },
           "bgcolor": "#E5ECF6",
           "radialaxis": {
            "gridcolor": "white",
            "linecolor": "white",
            "ticks": ""
           }
          },
          "scene": {
           "xaxis": {
            "backgroundcolor": "#E5ECF6",
            "gridcolor": "white",
            "gridwidth": 2,
            "linecolor": "white",
            "showbackground": true,
            "ticks": "",
            "zerolinecolor": "white"
           },
           "yaxis": {
            "backgroundcolor": "#E5ECF6",
            "gridcolor": "white",
            "gridwidth": 2,
            "linecolor": "white",
            "showbackground": true,
            "ticks": "",
            "zerolinecolor": "white"
           },
           "zaxis": {
            "backgroundcolor": "#E5ECF6",
            "gridcolor": "white",
            "gridwidth": 2,
            "linecolor": "white",
            "showbackground": true,
            "ticks": "",
            "zerolinecolor": "white"
           }
          },
          "shapedefaults": {
           "line": {
            "color": "#2a3f5f"
           }
          },
          "ternary": {
           "aaxis": {
            "gridcolor": "white",
            "linecolor": "white",
            "ticks": ""
           },
           "baxis": {
            "gridcolor": "white",
            "linecolor": "white",
            "ticks": ""
           },
           "bgcolor": "#E5ECF6",
           "caxis": {
            "gridcolor": "white",
            "linecolor": "white",
            "ticks": ""
           }
          },
          "title": {
           "x": 0.05
          },
          "xaxis": {
           "automargin": true,
           "gridcolor": "white",
           "linecolor": "white",
           "ticks": "",
           "title": {
            "standoff": 15
           },
           "zerolinecolor": "white",
           "zerolinewidth": 2
          },
          "yaxis": {
           "automargin": true,
           "gridcolor": "white",
           "linecolor": "white",
           "ticks": "",
           "title": {
            "standoff": 15
           },
           "zerolinecolor": "white",
           "zerolinewidth": 2
          }
         }
        },
        "xaxis": {
         "anchor": "y",
         "domain": [
          0,
          1
         ],
         "title": {
          "text": "PAID"
         }
        },
        "yaxis": {
         "anchor": "x",
         "domain": [
          0,
          1
         ]
        }
       }
      },
      "text/html": [
       "<div>                            <div id=\"0c1834b1-b7a2-4169-8b75-c46e9648d29f\" class=\"plotly-graph-div\" style=\"height:525px; width:100%;\"></div>            <script type=\"text/javascript\">                require([\"plotly\"], function(Plotly) {                    window.PLOTLYENV=window.PLOTLYENV || {};                                    if (document.getElementById(\"0c1834b1-b7a2-4169-8b75-c46e9648d29f\")) {                    Plotly.newPlot(                        \"0c1834b1-b7a2-4169-8b75-c46e9648d29f\",                        [{\"alignmentgroup\":\"True\",\"hovertemplate\":\"PAID=%{x}\\u003cextra\\u003e\\u003c\\u002fextra\\u003e\",\"legendgroup\":\"\",\"marker\":{\"color\":\"#636efa\"},\"name\":\"\",\"notched\":false,\"offsetgroup\":\"\",\"orientation\":\"h\",\"showlegend\":false,\"x\":[2384.67,650.0,654.0,3890.07,295.99,11756.34,2402.0,296.97,249.1,14833.3,3025.0,2750.0,2612.74,1259.89,824.85,669.5,664.34,408.39,3953.84,3841.66,239.37,30.0,6384.0,4467.92,1541.1,1354.93,1263.51,1045.0,519.75,499.28,365.26,322.34,122.41,10524.64,6854.02,3206.76,2724.04,2269.0,2169.88,1929.81,1061.8,945.8,899.13,7326.67,5301.72,3596.5,2322.72,1944.45,1491.69,1314.4,836.78,479.0,426.19,3112.89,2500.0,1921.22,1472.87,1444.89,1368.76,1346.36,772.23,688.67,362.63,359.41,354.29,262.81,244.11,9377.82,5540.07,3118.5,2495.8,2362.89,2007.78,1816.41,1500.0,1139.6,952.05,746.89,644.87,188.61,117.4,12714.43,10116.07,1949.14,1852.5,1722.82,1539.07,1476.43,1458.13,1119.52,990.07,987.0,782.44,459.0,377.36,319.67,176.07,154.75,8493.76,3809.83,3222.66,1113.38,766.4,663.17,640.4,619.06,419.18,298.62,160.2,105.5,8323.31,6291.84,4904.64,4096.58,3334.65,1755.95,1160.63,1098.37,818.79,651.57,646.79,584.61,417.04,399.9,371.63,365.5,275.43,146.56,14651.31,6754.81,5071.99,4809.52,2884.46,2591.33,2419.75,1321.7,1308.0,981.86,843.98,817.62,712.0,634.48,463.96,462.93,430.38,388.71,112.78,85.0,12151.86,5186.82,4451.39,3968.51,3392.58,1879.51,1792.54,1607.6,1238.0,1130.0,1081.71,1033.84,671.59,361.37,171.7,40.0,3203.35,3060.69,2171.93,1727.85,1550.0,1470.35,1229.01,1010.94,575.36,555.34,533.11,459.1,253.75,148.65,4184.46,4082.49,1846.1,1688.78,1118.91,749.64,725.71,722.02,648.06,593.46,516.81,302.54,300.0,278.55,248.68,131.0,28.46,13058.85,6950.54,2930.0,2112.46,2100.0,1500.0,1386.41,1270.17,1203.81,993.59,903.0,900.0,583.76,580.32,376.46,275.94,91.27,6013.74,4804.22,3179.28,2893.53,1916.21,1209.08,1036.74,986.12,893.03,754.31,740.38,694.91,693.13,564.05,551.78,549.77,497.85,403.3,358.7,284.54,228.0,177.6,177.42,139.79,33137.5,7293.43,3754.51,3495.14,3140.66,2137.4,1971.75,1956.0,1870.58,1650.0,1188.74,1115.89,1088.73,1074.35,1016.43,860.67,831.8,796.8,759.57,668.74,582.62,404.0,393.5,309.67,292.44,221.7,103.75,11511.72,6090.02,1727.33,1235.07,910.01,812.98,562.05,527.34,451.31,332.06,315.53,10527.4,7751.55,5711.53,3804.44,3760.07,2757.83,2565.84,2221.87,2139.9,2000.0,1363.23,1132.41,993.19,964.22,898.55,822.1,761.22,754.56,685.71,622.53,604.95,587.51,490.25,489.73,465.5,329.91,272.01,258.5,4643.8,3523.9,3007.96,2192.98,1752.16,1686.2,1648.41,1381.16,1336.26,1248.01,950.61,945.56,880.82,713.55,645.8,626.38,573.4,488.16,458.0,443.95,253.59,209.83,138.86,100.0,30.0,24624.44,8123.33,5158.65,5035.93,4625.47,1707.92,1694.59,1501.05,1369.74,946.38,825.66,682.85,604.95,585.34,565.02,529.28,388.03,377.54,303.0,300.0,198.98,135.0,47.52,11458.07,8300.31,7827.74,6261.92,5861.5,5381.14,4532.02,3656.77,2928.92,2547.5,2276.5,2017.28,1678.17,1651.86,1482.45,1480.93,1348.93,1189.96,1090.41,940.28,925.47,852.22,417.18,369.02,346.79,244.23,132.0,100.0,14753.58,11288.76,10175.27,6277.84,4939.5,4786.51,3167.49,2572.22,1712.27,1712.13,1396.61,1377.31,1108.42,1001.76,989.59,891.09,882.77,670.77,638.99,546.32,536.11,533.33,464.59,460.36,291.92,257.01,106.0,7487.94,7296.2,4929.65,2532.6,2344.69,1855.85,1812.47,1431.81,1226.28,1122.12,1090.75,1067.57,1012.19,928.2,861.89,809.34,782.9,768.05,698.65,630.11,617.9,594.8,585.74,390.02,291.28,236.53,10077.0,8569.3,6124.34,5335.35,3486.96,3255.88,2985.29,2418.4,2368.69,2007.64,1996.0,1869.49,1600.18,1278.52,1212.85,1039.69,834.12,805.18,676.15,651.18,586.85,315.61,311.32,25.44,9793.42,7620.37,6800.94,4781.43,3944.37,2406.0,1613.41,1340.74,1249.02,1086.9,941.85,909.99,903.99,875.28,738.18,492.22,468.0,443.49,439.22,359.11,8215.8,6208.2,5241.71,3912.49,3230.09,2600.0,2531.24,2038.05,1890.5,1704.54,1145.63,959.52,763.07,746.63,700.0,554.55,545.3,490.6,273.29,189.9,10652.59,5556.75,3403.09,3328.93,2805.73],\"x0\":\" \",\"xaxis\":\"x\",\"y0\":\" \",\"yaxis\":\"y\",\"type\":\"box\"}],                        {\"template\":{\"data\":{\"histogram2dcontour\":[{\"type\":\"histogram2dcontour\",\"colorbar\":{\"outlinewidth\":0,\"ticks\":\"\"},\"colorscale\":[[0.0,\"#0d0887\"],[0.1111111111111111,\"#46039f\"],[0.2222222222222222,\"#7201a8\"],[0.3333333333333333,\"#9c179e\"],[0.4444444444444444,\"#bd3786\"],[0.5555555555555556,\"#d8576b\"],[0.6666666666666666,\"#ed7953\"],[0.7777777777777778,\"#fb9f3a\"],[0.8888888888888888,\"#fdca26\"],[1.0,\"#f0f921\"]]}],\"choropleth\":[{\"type\":\"choropleth\",\"colorbar\":{\"outlinewidth\":0,\"ticks\":\"\"}}],\"histogram2d\":[{\"type\":\"histogram2d\",\"colorbar\":{\"outlinewidth\":0,\"ticks\":\"\"},\"colorscale\":[[0.0,\"#0d0887\"],[0.1111111111111111,\"#46039f\"],[0.2222222222222222,\"#7201a8\"],[0.3333333333333333,\"#9c179e\"],[0.4444444444444444,\"#bd3786\"],[0.5555555555555556,\"#d8576b\"],[0.6666666666666666,\"#ed7953\"],[0.7777777777777778,\"#fb9f3a\"],[0.8888888888888888,\"#fdca26\"],[1.0,\"#f0f921\"]]}],\"heatmap\":[{\"type\":\"heatmap\",\"colorbar\":{\"outlinewidth\":0,\"ticks\":\"\"},\"colorscale\":[[0.0,\"#0d0887\"],[0.1111111111111111,\"#46039f\"],[0.2222222222222222,\"#7201a8\"],[0.3333333333333333,\"#9c179e\"],[0.4444444444444444,\"#bd3786\"],[0.5555555555555556,\"#d8576b\"],[0.6666666666666666,\"#ed7953\"],[0.7777777777777778,\"#fb9f3a\"],[0.8888888888888888,\"#fdca26\"],[1.0,\"#f0f921\"]]}],\"heatmapgl\":[{\"type\":\"heatmapgl\",\"colorbar\":{\"outlinewidth\":0,\"ticks\":\"\"},\"colorscale\":[[0.0,\"#0d0887\"],[0.1111111111111111,\"#46039f\"],[0.2222222222222222,\"#7201a8\"],[0.3333333333333333,\"#9c179e\"],[0.4444444444444444,\"#bd3786\"],[0.5555555555555556,\"#d8576b\"],[0.6666666666666666,\"#ed7953\"],[0.7777777777777778,\"#fb9f3a\"],[0.8888888888888888,\"#fdca26\"],[1.0,\"#f0f921\"]]}],\"contourcarpet\":[{\"type\":\"contourcarpet\",\"colorbar\":{\"outlinewidth\":0,\"ticks\":\"\"}}],\"contour\":[{\"type\":\"contour\",\"colorbar\":{\"outlinewidth\":0,\"ticks\":\"\"},\"colorscale\":[[0.0,\"#0d0887\"],[0.1111111111111111,\"#46039f\"],[0.2222222222222222,\"#7201a8\"],[0.3333333333333333,\"#9c179e\"],[0.4444444444444444,\"#bd3786\"],[0.5555555555555556,\"#d8576b\"],[0.6666666666666666,\"#ed7953\"],[0.7777777777777778,\"#fb9f3a\"],[0.8888888888888888,\"#fdca26\"],[1.0,\"#f0f921\"]]}],\"surface\":[{\"type\":\"surface\",\"colorbar\":{\"outlinewidth\":0,\"ticks\":\"\"},\"colorscale\":[[0.0,\"#0d0887\"],[0.1111111111111111,\"#46039f\"],[0.2222222222222222,\"#7201a8\"],[0.3333333333333333,\"#9c179e\"],[0.4444444444444444,\"#bd3786\"],[0.5555555555555556,\"#d8576b\"],[0.6666666666666666,\"#ed7953\"],[0.7777777777777778,\"#fb9f3a\"],[0.8888888888888888,\"#fdca26\"],[1.0,\"#f0f921\"]]}],\"mesh3d\":[{\"type\":\"mesh3d\",\"colorbar\":{\"outlinewidth\":0,\"ticks\":\"\"}}],\"scatter\":[{\"fillpattern\":{\"fillmode\":\"overlay\",\"size\":10,\"solidity\":0.2},\"type\":\"scatter\"}],\"parcoords\":[{\"type\":\"parcoords\",\"line\":{\"colorbar\":{\"outlinewidth\":0,\"ticks\":\"\"}}}],\"scatterpolargl\":[{\"type\":\"scatterpolargl\",\"marker\":{\"colorbar\":{\"outlinewidth\":0,\"ticks\":\"\"}}}],\"bar\":[{\"error_x\":{\"color\":\"#2a3f5f\"},\"error_y\":{\"color\":\"#2a3f5f\"},\"marker\":{\"line\":{\"color\":\"#E5ECF6\",\"width\":0.5},\"pattern\":{\"fillmode\":\"overlay\",\"size\":10,\"solidity\":0.2}},\"type\":\"bar\"}],\"scattergeo\":[{\"type\":\"scattergeo\",\"marker\":{\"colorbar\":{\"outlinewidth\":0,\"ticks\":\"\"}}}],\"scatterpolar\":[{\"type\":\"scatterpolar\",\"marker\":{\"colorbar\":{\"outlinewidth\":0,\"ticks\":\"\"}}}],\"histogram\":[{\"marker\":{\"pattern\":{\"fillmode\":\"overlay\",\"size\":10,\"solidity\":0.2}},\"type\":\"histogram\"}],\"scattergl\":[{\"type\":\"scattergl\",\"marker\":{\"colorbar\":{\"outlinewidth\":0,\"ticks\":\"\"}}}],\"scatter3d\":[{\"type\":\"scatter3d\",\"line\":{\"colorbar\":{\"outlinewidth\":0,\"ticks\":\"\"}},\"marker\":{\"colorbar\":{\"outlinewidth\":0,\"ticks\":\"\"}}}],\"scattermapbox\":[{\"type\":\"scattermapbox\",\"marker\":{\"colorbar\":{\"outlinewidth\":0,\"ticks\":\"\"}}}],\"scatterternary\":[{\"type\":\"scatterternary\",\"marker\":{\"colorbar\":{\"outlinewidth\":0,\"ticks\":\"\"}}}],\"scattercarpet\":[{\"type\":\"scattercarpet\",\"marker\":{\"colorbar\":{\"outlinewidth\":0,\"ticks\":\"\"}}}],\"carpet\":[{\"aaxis\":{\"endlinecolor\":\"#2a3f5f\",\"gridcolor\":\"white\",\"linecolor\":\"white\",\"minorgridcolor\":\"white\",\"startlinecolor\":\"#2a3f5f\"},\"baxis\":{\"endlinecolor\":\"#2a3f5f\",\"gridcolor\":\"white\",\"linecolor\":\"white\",\"minorgridcolor\":\"white\",\"startlinecolor\":\"#2a3f5f\"},\"type\":\"carpet\"}],\"table\":[{\"cells\":{\"fill\":{\"color\":\"#EBF0F8\"},\"line\":{\"color\":\"white\"}},\"header\":{\"fill\":{\"color\":\"#C8D4E3\"},\"line\":{\"color\":\"white\"}},\"type\":\"table\"}],\"barpolar\":[{\"marker\":{\"line\":{\"color\":\"#E5ECF6\",\"width\":0.5},\"pattern\":{\"fillmode\":\"overlay\",\"size\":10,\"solidity\":0.2}},\"type\":\"barpolar\"}],\"pie\":[{\"automargin\":true,\"type\":\"pie\"}]},\"layout\":{\"autotypenumbers\":\"strict\",\"colorway\":[\"#636efa\",\"#EF553B\",\"#00cc96\",\"#ab63fa\",\"#FFA15A\",\"#19d3f3\",\"#FF6692\",\"#B6E880\",\"#FF97FF\",\"#FECB52\"],\"font\":{\"color\":\"#2a3f5f\"},\"hovermode\":\"closest\",\"hoverlabel\":{\"align\":\"left\"},\"paper_bgcolor\":\"white\",\"plot_bgcolor\":\"#E5ECF6\",\"polar\":{\"bgcolor\":\"#E5ECF6\",\"angularaxis\":{\"gridcolor\":\"white\",\"linecolor\":\"white\",\"ticks\":\"\"},\"radialaxis\":{\"gridcolor\":\"white\",\"linecolor\":\"white\",\"ticks\":\"\"}},\"ternary\":{\"bgcolor\":\"#E5ECF6\",\"aaxis\":{\"gridcolor\":\"white\",\"linecolor\":\"white\",\"ticks\":\"\"},\"baxis\":{\"gridcolor\":\"white\",\"linecolor\":\"white\",\"ticks\":\"\"},\"caxis\":{\"gridcolor\":\"white\",\"linecolor\":\"white\",\"ticks\":\"\"}},\"coloraxis\":{\"colorbar\":{\"outlinewidth\":0,\"ticks\":\"\"}},\"colorscale\":{\"sequential\":[[0.0,\"#0d0887\"],[0.1111111111111111,\"#46039f\"],[0.2222222222222222,\"#7201a8\"],[0.3333333333333333,\"#9c179e\"],[0.4444444444444444,\"#bd3786\"],[0.5555555555555556,\"#d8576b\"],[0.6666666666666666,\"#ed7953\"],[0.7777777777777778,\"#fb9f3a\"],[0.8888888888888888,\"#fdca26\"],[1.0,\"#f0f921\"]],\"sequentialminus\":[[0.0,\"#0d0887\"],[0.1111111111111111,\"#46039f\"],[0.2222222222222222,\"#7201a8\"],[0.3333333333333333,\"#9c179e\"],[0.4444444444444444,\"#bd3786\"],[0.5555555555555556,\"#d8576b\"],[0.6666666666666666,\"#ed7953\"],[0.7777777777777778,\"#fb9f3a\"],[0.8888888888888888,\"#fdca26\"],[1.0,\"#f0f921\"]],\"diverging\":[[0,\"#8e0152\"],[0.1,\"#c51b7d\"],[0.2,\"#de77ae\"],[0.3,\"#f1b6da\"],[0.4,\"#fde0ef\"],[0.5,\"#f7f7f7\"],[0.6,\"#e6f5d0\"],[0.7,\"#b8e186\"],[0.8,\"#7fbc41\"],[0.9,\"#4d9221\"],[1,\"#276419\"]]},\"xaxis\":{\"gridcolor\":\"white\",\"linecolor\":\"white\",\"ticks\":\"\",\"title\":{\"standoff\":15},\"zerolinecolor\":\"white\",\"automargin\":true,\"zerolinewidth\":2},\"yaxis\":{\"gridcolor\":\"white\",\"linecolor\":\"white\",\"ticks\":\"\",\"title\":{\"standoff\":15},\"zerolinecolor\":\"white\",\"automargin\":true,\"zerolinewidth\":2},\"scene\":{\"xaxis\":{\"backgroundcolor\":\"#E5ECF6\",\"gridcolor\":\"white\",\"linecolor\":\"white\",\"showbackground\":true,\"ticks\":\"\",\"zerolinecolor\":\"white\",\"gridwidth\":2},\"yaxis\":{\"backgroundcolor\":\"#E5ECF6\",\"gridcolor\":\"white\",\"linecolor\":\"white\",\"showbackground\":true,\"ticks\":\"\",\"zerolinecolor\":\"white\",\"gridwidth\":2},\"zaxis\":{\"backgroundcolor\":\"#E5ECF6\",\"gridcolor\":\"white\",\"linecolor\":\"white\",\"showbackground\":true,\"ticks\":\"\",\"zerolinecolor\":\"white\",\"gridwidth\":2}},\"shapedefaults\":{\"line\":{\"color\":\"#2a3f5f\"}},\"annotationdefaults\":{\"arrowcolor\":\"#2a3f5f\",\"arrowhead\":0,\"arrowwidth\":1},\"geo\":{\"bgcolor\":\"white\",\"landcolor\":\"#E5ECF6\",\"subunitcolor\":\"white\",\"showland\":true,\"showlakes\":true,\"lakecolor\":\"white\"},\"title\":{\"x\":0.05},\"mapbox\":{\"style\":\"light\"}}},\"xaxis\":{\"anchor\":\"y\",\"domain\":[0.0,1.0],\"title\":{\"text\":\"PAID\"}},\"yaxis\":{\"anchor\":\"x\",\"domain\":[0.0,1.0]},\"legend\":{\"tracegroupgap\":0},\"margin\":{\"t\":60},\"boxmode\":\"group\"},                        {\"responsive\": true}                    ).then(function(){\n",
       "                            \n",
       "var gd = document.getElementById('0c1834b1-b7a2-4169-8b75-c46e9648d29f');\n",
       "var x = new MutationObserver(function (mutations, observer) {{\n",
       "        var display = window.getComputedStyle(gd).display;\n",
       "        if (!display || display === 'none') {{\n",
       "            console.log([gd, 'removed!']);\n",
       "            Plotly.purge(gd);\n",
       "            observer.disconnect();\n",
       "        }}\n",
       "}});\n",
       "\n",
       "// Listen for the removal of the full notebook cells\n",
       "var notebookContainer = gd.closest('#notebook-container');\n",
       "if (notebookContainer) {{\n",
       "    x.observe(notebookContainer, {childList: true});\n",
       "}}\n",
       "\n",
       "// Listen for the clearing of the current output cell\n",
       "var outputEl = gd.closest('.output');\n",
       "if (outputEl) {{\n",
       "    x.observe(outputEl, {childList: true});\n",
       "}}\n",
       "\n",
       "                        })                };                });            </script>        </div>"
      ]
     },
     "metadata": {},
     "output_type": "display_data"
    }
   ],
   "source": [
    "# boxplot\n"
   ]
  },
  {
   "cell_type": "markdown",
   "id": "3f811202",
   "metadata": {},
   "source": [
    "> Answer here..."
   ]
  },
  {
   "cell_type": "code",
   "execution_count": 69,
   "id": "66fdd0b1",
   "metadata": {},
   "outputs": [],
   "source": [
    "hint = \"\\n\\nAUTOMATICALLY FAILING AUTOTEST: DOES NOT COUNT AGAINST STUDENT\\n\"\n",
    "hint += \"Included as an example answer for feedback purposes only\\n\\n\"\n",
    "hint += \"The distribution is skewed right with a median at approximately 1042, and a much larger\\n\"\n",
    "hint += \"standard deviation indicating the long large spread of the right tail of the data\\n\"\n",
    "hint += \"(since all claims should be larger than 0...).\\n\"\n",
    "hint += \"The mean is correspondingly about twice as large as the median; and, generally, \\n\"\n",
    "hint += \"the decaying right skew is the most definitive characteristic of this distribution,\\n\"\n",
    "hint += \"as opposed to calling it 'unimodal'. Median is probably a better characterization of\\n\"\n",
    "hint += \"'center' because the mean calculation would be less robust to large payment outliers,\\n\"\n",
    "hint += \"which become increasingly sparse from 5k to 15k and then extend out even past 30k.\"\n",
    "hint += \"\\n\\nCODE:\\n\"\n",
    "hint += '''\n",
    "fig = px.histogram(data, x=\"PAID\", nbins=20)\n",
    "fig.show()'''\n",
    "hint += '\\n\\nAND\\n'\n",
    "hint += '''\n",
    "fig = px.box(data, x=\"PAID\")\n",
    "fig.show()'''"
   ]
  },
  {
   "cell_type": "code",
   "execution_count": 70,
   "id": "d5ac5830",
   "metadata": {},
   "outputs": [
    {
     "ename": "AssertionError",
     "evalue": "\n\nAUTOMATICALLY FAILING AUTOTEST: DOES NOT COUNT AGAINST STUDENT\nIncluded as an example answer for feedback purposes only\n\nThe distribution is skewed right with a median at approximately 1042, and a much larger\nstandard deviation indicating the long large spread of the right tail of the data.\nThe mean is correspondingly about twice as large as the median; and, generally, \nthe decaying right skew is the most definitive characteristic of this distribution,\nas opposed to calling it 'unimodal'. Median is probably a better characterization of\n'center' because the mean calculation would be less robust to large payment outliers,\nwhich become increasingly sparse from 5k to 15k and then extend out even past 30k.\n\nCODE:\n\nfig = px.histogram(data, x=\"PAID\", nbins=20)\nfig.show()\n\nAND\n\nfig = px.box(data, x=\"PAID\")\nfig.show()",
     "output_type": "error",
     "traceback": [
      "\u001b[0;31m---------------------------------------------------------------------------\u001b[0m",
      "\u001b[0;31mAssertionError\u001b[0m                            Traceback (most recent call last)",
      "Cell \u001b[0;32mIn[70], line 2\u001b[0m\n\u001b[1;32m      1\u001b[0m \u001b[38;5;66;03m# test_Q8\u001b[39;00m\n\u001b[0;32m----> 2\u001b[0m \u001b[38;5;28;01massert\u001b[39;00m \u001b[38;5;28;01mFalse\u001b[39;00m, hint\n",
      "\u001b[0;31mAssertionError\u001b[0m: \n\nAUTOMATICALLY FAILING AUTOTEST: DOES NOT COUNT AGAINST STUDENT\nIncluded as an example answer for feedback purposes only\n\nThe distribution is skewed right with a median at approximately 1042, and a much larger\nstandard deviation indicating the long large spread of the right tail of the data.\nThe mean is correspondingly about twice as large as the median; and, generally, \nthe decaying right skew is the most definitive characteristic of this distribution,\nas opposed to calling it 'unimodal'. Median is probably a better characterization of\n'center' because the mean calculation would be less robust to large payment outliers,\nwhich become increasingly sparse from 5k to 15k and then extend out even past 30k.\n\nCODE:\n\nfig = px.histogram(data, x=\"PAID\", nbins=20)\nfig.show()\n\nAND\n\nfig = px.box(data, x=\"PAID\")\nfig.show()"
     ]
    }
   ],
   "source": [
    "# test_Q8\n",
    "assert False, hint"
   ]
  },
  {
   "cell_type": "markdown",
   "id": "c32edf01",
   "metadata": {},
   "source": [
    "### Q9: Simulate and visualize the bootstrap (sampling) distribution of the sample median of paid claims (in the `PAID` column) using 1000 bootstrap samples of the auto claims sample (given in the `auto_claims.csv` data).\n",
    "> - Hint 1: Remember that the sample size for each of your 1000 bootstrap samples should match the original sample size\n",
    ">   - and if your bootstrap sample is always the same as the original sample then you're not correctly setting `replace=Ture`.\n",
    ">\n",
    ">\n",
    "> - Hint 2: There is no `.median()` method for an `np.array`, but  there is an `np.median()` function.\n",
    "\n",
    "- You can compare your figure and response to the answer given in the ***MarkUs*** output: the TAs may or may not spot check the work in `Q9`"
   ]
  },
  {
   "cell_type": "code",
   "execution_count": 74,
   "id": "1e3743df",
   "metadata": {},
   "outputs": [
    {
     "data": {
      "text/plain": [
       "(500, 5)"
      ]
     },
     "execution_count": 74,
     "metadata": {},
     "output_type": "execute_result"
    }
   ],
   "source": [
    "# cell for coding your bootstrap sampling\n"
   ]
  },
  {
   "cell_type": "code",
   "execution_count": 71,
   "id": "23ce9faa",
   "metadata": {},
   "outputs": [
    {
     "data": {
      "application/vnd.plotly.v1+json": {
       "config": {
        "plotlyServerURL": "https://plot.ly"
       },
       "data": [
        {
         "alignmentgroup": "True",
         "bingroup": "x",
         "histnorm": "probability density",
         "hovertemplate": "Bootstrapped Medians=%{x}<br>probability density=%{y}<extra></extra>",
         "legendgroup": "",
         "marker": {
          "color": "#636efa",
          "pattern": {
           "shape": ""
          }
         },
         "name": "",
         "nbinsx": 12,
         "offsetgroup": "",
         "orientation": "v",
         "showlegend": false,
         "type": "histogram",
         "x": [
          1045,
          961.87,
          1081.71,
          993.19,
          1067.57,
          993.3900000000001,
          1039.69,
          1074.35,
          1042.345,
          1103.395,
          1116.145,
          989.83,
          1038.2150000000001,
          1136.005,
          981.86,
          983.99,
          983.99,
          1074.35,
          941.065,
          1132.41,
          1074.35,
          1103.3200000000002,
          1061.8,
          1045,
          943.7049999999999,
          1189.96,
          1115.89,
          970.69,
          1093.55,
          940.28,
          988.5350000000001,
          1087.815,
          1078.03,
          1116.145,
          997.475,
          1040.87,
          1086.9,
          1122.12,
          1006.975,
          991.6300000000001,
          993.59,
          1127.2649999999999,
          981.86,
          1090.41,
          1089.5700000000002,
          1050.745,
          1124.76,
          1006.975,
          1080.625,
          1038.2150000000001,
          1038.2150000000001,
          1199.52,
          1023.015,
          1039.69,
          1040.87,
          1053.4,
          1011.565,
          1094.3899999999999,
          987.855,
          1080.625,
          1050.745,
          991.6300000000001,
          1038.2150000000001,
          1013.7149999999999,
          1053.4,
          1056.2849999999999,
          1090.75,
          1010.94,
          1074.35,
          973.04,
          964.22,
          1117.4,
          1045,
          1119.52,
          1078.03,
          1086.06,
          961.87,
          1116.145,
          1042.345,
          966.235,
          1011.565,
          1061.8,
          991.6300000000001,
          1136.005,
          981.86,
          1016.43,
          989.83,
          964.22,
          991.83,
          983.99,
          989.83,
          1087.815,
          945.8,
          1061.8,
          1016.43,
          1013.685,
          1001.76,
          1131.205,
          1061.8,
          1088.73,
          993.19,
          1039.69,
          1210.965,
          1025.135,
          1036.74,
          1101.895,
          1122.12,
          1089.74,
          1110.9,
          1014.31,
          950.61,
          1085.22,
          1039.42,
          1087.815,
          990.07,
          1094.56,
          1103.3200000000002,
          997.675,
          1026.585,
          987.855,
          1227.645,
          1035.29,
          1038.2150000000001,
          1086.9,
          1086.06,
          990.07,
          1010.94,
          1103.395,
          1012.19,
          987,
          986.12,
          1078.03,
          1012.19,
          1070.96,
          1001.76,
          1024.4650000000001,
          1084.305,
          1088.73,
          1086.9,
          1130.86,
          948.2049999999999,
          1105.875,
          993.19,
          1016.43,
          1137.815,
          1012.19,
          1011.565,
          986.12,
          989.83,
          1249.02,
          991.83,
          1088.73,
          1119.2150000000001,
          1113.38,
          1119.52,
          1088.73,
          1012.19,
          1189.35,
          1050.745,
          991.6300000000001,
          1013.685,
          1035.29,
          1033.84,
          989.59,
          1090.58,
          990.07,
          941.85,
          1153.13,
          1038.2150000000001,
          1088.6550000000002,
          1243.51,
          1014.31,
          1012.19,
          945.68,
          1006.35,
          1039.42,
          1081.71,
          1016.43,
          1067.57,
          975.1700000000001,
          1025.135,
          1023.015,
          1040.87,
          1167.185,
          1103.395,
          934.24,
          1039.69,
          1124.76,
          1117.4,
          1009.095,
          1081.71,
          990.07,
          1108.42,
          1087.815,
          1042.345,
          1001.76,
          997.675,
          1215.045,
          1114.6350000000002,
          1263.2649999999999,
          1038.2150000000001,
          1094.56,
          989.59,
          1011.565,
          951.3299999999999,
          1120.5149999999999,
          1014.31,
          1011.565,
          1089.5700000000002,
          1132.41,
          1000.5050000000001,
          1087.815,
          1086.06,
          1120.82,
          948.495,
          1040.87,
          991.3900000000001,
          1035.29,
          1107.13,
          1085.22,
          1039.69,
          1099.585,
          1002.065,
          993.59,
          883.185,
          988.2950000000001,
          1196.275,
          945.68,
          1036.7649999999999,
          1094.3899999999999,
          907,
          1038.2150000000001,
          1025.94,
          1053.4,
          989.83,
          1103.395,
          1074.6399999999999,
          1090.58,
          1078.03,
          1053.63,
          1035.29,
          1036.74,
          1001.76,
          1076.105,
          893.03,
          1102.065,
          1053.4,
          1153.13,
          1026.585,
          1100.14,
          903.99,
          961.87,
          1042.345,
          1039.69,
          1039.69,
          1024.4650000000001,
          1012.19,
          1101.895,
          1067.57,
          952.95,
          1006.35,
          1131.205,
          964.22,
          1070.96,
          1314.4,
          1122.12,
          990.07,
          1160.63,
          983.99,
          1039.69,
          988.5350000000001,
          1081.71,
          925.47,
          986.56,
          987.855,
          1126.06,
          1039.69,
          1126.06,
          993.3900000000001,
          1108.42,
          1113.38,
          952.05,
          1122.12,
          1090.41,
          1137.815,
          1013.685,
          997.675,
          1006.35,
          1118.91,
          984.4300000000001,
          1127.2649999999999,
          946.38,
          1042.345,
          991.6300000000001,
          981.86,
          1081.71,
          1118.91,
          995.915,
          993.59,
          1087.815,
          1084.305,
          991.6300000000001,
          993.19,
          1119.2150000000001,
          1011.565,
          1006.35,
          1080.625,
          950.61,
          1108.42,
          1088.73,
          986.12,
          926.835,
          1010.94,
          950.61,
          990.07,
          1116.145,
          993.59,
          1064.685,
          1060.7,
          959.52,
          1010.94,
          1086.06,
          1074.6399999999999,
          991.6300000000001,
          1010.94,
          1117.4,
          1010.94,
          1119.2150000000001,
          1039.69,
          1130,
          1113.38,
          1011.565,
          945.68,
          1090.58,
          1084.305,
          945.8,
          946.38,
          1036.7649999999999,
          984.4300000000001,
          945.8,
          993.19,
          1090.58,
          1050.745,
          1122.12,
          951.3299999999999,
          964.22,
          973.04,
          1098.37,
          975.1700000000001,
          1059.675,
          1038.2150000000001,
          1132.41,
          1025.135,
          1122.12,
          1090.75,
          1090.58,
          990.07,
          993.59,
          1001.76,
          1108.42,
          1038.2150000000001,
          1090.58,
          1153.13,
          1040.87,
          948.495,
          1103.395,
          1012.19,
          1001.76,
          970.69,
          1064.685,
          973.04,
          1103.395,
          1025.135,
          986.12,
          1110.9,
          987,
          1012.19,
          991.3900000000001,
          1088.73,
          959.52,
          1089.74,
          1209.08,
          1038.2150000000001,
          1025.135,
          1208.12,
          1067.57,
          993.3900000000001,
          1012.19,
          919.105,
          955.065,
          1013.685,
          1090.75,
          1070.96,
          1126.06,
          1001.76,
          997.675,
          1036.7649999999999,
          1002.8900000000001,
          1036.7649999999999,
          1011.565,
          1078.03,
          989.83,
          1081.71,
          1012.19,
          1081.54,
          1056.2849999999999,
          1094.56,
          1146.52,
          1142.615,
          1011.565,
          1025.135,
          991.6300000000001,
          991.3900000000001,
          989.83,
          1014.31,
          1130,
          1036.7649999999999,
          1089.74,
          1090.41,
          1039.69,
          1118.91,
          1036.74,
          1002.69,
          1061.8,
          1114.6350000000002,
          1001.76,
          1028.06,
          1045,
          1067.57,
          1089.5700000000002,
          993.19,
          991.6300000000001,
          1114.6350000000002,
          945.97,
          987,
          1025.94,
          1081.71,
          1120.5149999999999,
          1011.565,
          995.675,
          1117.705,
          1001.1300000000001,
          1103.395,
          1038.2150000000001,
          1042.345,
          1001.76,
          1023.015,
          1124.76,
          1119.005,
          1012.19,
          1105.875,
          1009.095,
          993.59,
          952.05,
          1094.56,
          1116.145,
          993.3900000000001,
          1090.58,
          1033.84,
          1012.19,
          1039.69,
          1116.145,
          1110.9,
          1098.37,
          951.3299999999999,
          1103.395,
          1090.41,
          1084.305,
          1098.37,
          951.3299999999999,
          1122.12,
          1064.685,
          973.04,
          1321.7,
          1084.305,
          959.52,
          1086.9,
          984.4300000000001,
          1074.35,
          997.475,
          1053.63,
          1038.2150000000001,
          1089.5700000000002,
          1086.9,
          1130,
          991.6300000000001,
          1203.81,
          984.4300000000001,
          1090.75,
          1033.84,
          1089.5700000000002,
          1014.31,
          1113.97,
          1122.12,
          1090.58,
          1001.76,
          1014.31,
          981.86,
          983.99,
          1081.71,
          973.04,
          961.87,
          1038.2150000000001,
          964.22,
          993.3900000000001,
          1036.74,
          1036.74,
          948.495,
          1039.69,
          1011.565,
          1006.35,
          1061.8,
          1108.42,
          1089.5700000000002,
          988.2950000000001,
          1070.96,
          959.52,
          904.995,
          943.825,
          946.38,
          1108.42,
          1117.705,
          983.99,
          964.22,
          928.2,
          1086.9,
          1074.35,
          1053.4,
          1089.5700000000002,
          1077.2350000000001,
          1010.94,
          1064.685,
          987.855,
          1127.2649999999999,
          985.965,
          1012.19,
          1103.395,
          1084.305,
          1035.29,
          1025.135,
          1130,
          1142.615,
          1089.5700000000002,
          1090.41,
          1210.965,
          1081.71,
          981.86,
          961.87,
          946.38,
          1090.58,
          990.07,
          903.99,
          1061.8,
          973.04,
          993.59,
          1082.55,
          1056.2849999999999,
          1016.43,
          1103.395,
          1064.685,
          1026.585,
          1040.87,
          961.87,
          945.56,
          959.52,
          1016.43,
          1117.4,
          1122.12,
          1229.01,
          987,
          1113.38,
          1189.96,
          948.495,
          1070.96,
          1110.9,
          1025.135,
          1010.94,
          1119.52,
          1089.74,
          1009.095,
          1039.69,
          993.59,
          1001.76,
          1053.4,
          1117.4,
          1098.37,
          1006.35,
          1086.06,
          964.22,
          989.59,
          1061.8,
          1093.55,
          991.83,
          1113.665,
          1039.69,
          1084.305,
          1068.0749999999998,
          941.065,
          1117.4,
          1119.005,
          993.19,
          988.095,
          986.56,
          1103.3200000000002,
          995.915,
          1087.815,
          1108.42,
          1014.31,
          1256.2649999999999,
          1006.975,
          1120.5149999999999,
          1113.38,
          1012.19,
          1042.345,
          959.52,
          1145.63,
          1093.55,
          1010.94,
          903.99,
          961.87,
          1010.94,
          1002.2650000000001,
          1206.445,
          1116.145,
          1125.66,
          986.12,
          1118.91,
          899.565,
          1026.585,
          1086.9,
          1090.75,
          1064.685,
          945.68,
          1011.565,
          1016.43,
          1113.38,
          1023.015,
          901.5,
          1025.135,
          941.065,
          1006.35,
          1090.58,
          945.68,
          1132.41,
          986.56,
          1084.305,
          901.995,
          1080.625,
          1042.345,
          1067.57,
          1014.31,
          1036.7649999999999,
          1085.22,
          1053.4,
          1070.96,
          987,
          961.87,
          1045,
          1064.685,
          1113.38,
          993.59,
          1011.565,
          1049.27,
          988.2950000000001,
          950.61,
          948.2049999999999,
          1011.565,
          1094.56,
          1045,
          1035.29,
          1103.395,
          1098.37,
          1016.43,
          943.04,
          966.9549999999999,
          948.495,
          959.52,
          1078.03,
          1089.5700000000002,
          1053.4,
          1074.35,
          1002.2650000000001,
          1086.9,
          975.61,
          1047.82,
          1089.5700000000002,
          943.7049999999999,
          1084.305,
          1047.82,
          1085.22,
          1061.8,
          917.74,
          1039.69,
          1174.685,
          1064.685,
          1030.715,
          1068.0749999999998,
          1082.55,
          987,
          1039.69,
          1033.84,
          1023.015,
          1084.305,
          997.675,
          1164.17,
          940.28,
          1014.31,
          1042.345,
          1078.03,
          1011.565,
          993.59,
          987,
          1064.685,
          986.12,
          1099.585,
          1117.4,
          1006.975,
          1132.41,
          1038.2150000000001,
          1016.43,
          1010.94,
          1006.35,
          955.785,
          993.59,
          917.74,
          1098.37,
          991.6300000000001,
          997.675,
          991.83,
          1006.975,
          1014.31,
          986.12,
          1064.685,
          981.86,
          1012.19,
          1094.56,
          957.415,
          993.19,
          983.99,
          945.97,
          1035.29,
          1006.35,
          1011.565,
          1050.745,
          997.675,
          951.3299999999999,
          1089.5700000000002,
          1061.8,
          993.19,
          1025.135,
          988.5350000000001,
          1120.5149999999999,
          1006.35,
          1114.6350000000002,
          1203.81,
          1071.755,
          899.275,
          991.83,
          946.38,
          1235.07,
          1025.135,
          1090.41,
          1115.89,
          926.835,
          952.05,
          1235.07,
          1000.2650000000001,
          1087.815,
          1001.76,
          1001.76,
          1119.005,
          1136.005,
          1119.52,
          1090.75,
          1115.89,
          1039.69,
          991.3900000000001,
          987.855,
          961.87,
          1136.005,
          1035.29,
          1103.3200000000002,
          991.83,
          1070.96,
          1011.565,
          1131.205,
          990.07,
          1108.42,
          1064.685,
          987,
          1006.35,
          1016.43,
          1209.08,
          991.6300000000001,
          1081.71,
          989.59,
          1081.71,
          983.99,
          1125.66,
          1107.13,
          942.92,
          1088.825,
          1212.85,
          955.785,
          1011.565,
          1067.57,
          993.3900000000001,
          1061.8,
          1042.345,
          1150.115,
          987,
          1025.135,
          1002.2650000000001,
          1089.5700000000002,
          1045,
          1153.13,
          1080.625,
          993.3900000000001,
          1006.35,
          1116.145,
          946.38,
          1160.63,
          940.28,
          986.56,
          1067.57,
          1196.275,
          1086.9,
          1089.5700000000002,
          997.475,
          892.06,
          1081.71,
          986.56,
          1081.54,
          940.28,
          1014.31,
          1085.22,
          955.785,
          1012.19,
          1061.8,
          1039.69,
          1061.8,
          966.9549999999999,
          1203.81,
          1012.19,
          991.6300000000001,
          1089.74,
          1188.74,
          1090.41,
          1065.95,
          881.7950000000001,
          1115.89,
          1039.69,
          986.56,
          948.495,
          955.785,
          961.87,
          958.135,
          1103.395,
          1067.57,
          1080.625,
          1064.685,
          1033.84,
          1036.74,
          1026.585,
          1120.82,
          1014.31,
          1035.29,
          1124.76,
          1009.095,
          1070.96,
          987,
          961.87,
          964.22,
          983.99,
          1105.875,
          1061.8,
          1038.2150000000001,
          1103.395,
          1093.55,
          1053.63,
          993.3900000000001,
          993.19,
          1011.565,
          985.965,
          1016.43,
          1108.42,
          1094.56,
          952.05,
          1090.75,
          1006.35,
          1042.345,
          1071.755,
          989.83,
          1124.76,
          989.83,
          1023.015,
          1130,
          1010.94,
          988.2950000000001,
          1067.57,
          1117.705,
          950.61,
          1139.02,
          1033.84,
          1113.38,
          1132.41,
          1023.015,
          1067.57,
          1061.8,
          1201.405,
          1078.03,
          1120.5149999999999,
          1085.22,
          989.83,
          1086.9,
          1088.6550000000002,
          1059.675,
          1088.73,
          1001.76,
          1010.94,
          1001.76,
          1115.89,
          989.59,
          1012.19,
          1045,
          983.99,
          1081.71,
          988.2950000000001,
          1070.96,
          1045,
          1067.57,
          1119.52,
          948.495,
          1108.42,
          1087.815,
          1053.4,
          1013.685,
          1164.78,
          1263.51,
          986.12,
          985.725,
          1090.41,
          1025.135,
          989.59,
          981.86,
          1103.395,
          926.835,
          1033.84,
          1108.42,
          1068.0749999999998,
          1001.76,
          1025.135,
          983.99,
          1090.58,
          1114.6350000000002,
          1120.82,
          1014.31,
          1068.0749999999998,
          945.8,
          955.785,
          1067.57,
          1036.74,
          1011.565,
          991.6300000000001,
          991.3900000000001,
          1006.975,
          1094.56,
          1016.43,
          1110.9,
          1067.57,
          1067.57,
          1090.41,
          1039.69,
          990.07,
          987.5250000000001,
          1116.145,
          1136.005,
          1088.73,
          1039.69,
          1028.06,
          1089.5700000000002,
          1014.31,
          1067.57,
          1142.615,
          952.05,
          1088.73,
          1038.2150000000001,
          1001.76,
          1089.5700000000002,
          1070.96,
          1110.9,
          948.495,
          987,
          1025.135,
          1090.58,
          989.83,
          1064.685,
          1035.29,
          1093.55,
          1186.74
         ],
         "xaxis": "x",
         "yaxis": "y"
        }
       ],
       "layout": {
        "barmode": "relative",
        "legend": {
         "tracegroupgap": 0
        },
        "margin": {
         "t": 60
        },
        "template": {
         "data": {
          "bar": [
           {
            "error_x": {
             "color": "#2a3f5f"
            },
            "error_y": {
             "color": "#2a3f5f"
            },
            "marker": {
             "line": {
              "color": "#E5ECF6",
              "width": 0.5
             },
             "pattern": {
              "fillmode": "overlay",
              "size": 10,
              "solidity": 0.2
             }
            },
            "type": "bar"
           }
          ],
          "barpolar": [
           {
            "marker": {
             "line": {
              "color": "#E5ECF6",
              "width": 0.5
             },
             "pattern": {
              "fillmode": "overlay",
              "size": 10,
              "solidity": 0.2
             }
            },
            "type": "barpolar"
           }
          ],
          "carpet": [
           {
            "aaxis": {
             "endlinecolor": "#2a3f5f",
             "gridcolor": "white",
             "linecolor": "white",
             "minorgridcolor": "white",
             "startlinecolor": "#2a3f5f"
            },
            "baxis": {
             "endlinecolor": "#2a3f5f",
             "gridcolor": "white",
             "linecolor": "white",
             "minorgridcolor": "white",
             "startlinecolor": "#2a3f5f"
            },
            "type": "carpet"
           }
          ],
          "choropleth": [
           {
            "colorbar": {
             "outlinewidth": 0,
             "ticks": ""
            },
            "type": "choropleth"
           }
          ],
          "contour": [
           {
            "colorbar": {
             "outlinewidth": 0,
             "ticks": ""
            },
            "colorscale": [
             [
              0,
              "#0d0887"
             ],
             [
              0.1111111111111111,
              "#46039f"
             ],
             [
              0.2222222222222222,
              "#7201a8"
             ],
             [
              0.3333333333333333,
              "#9c179e"
             ],
             [
              0.4444444444444444,
              "#bd3786"
             ],
             [
              0.5555555555555556,
              "#d8576b"
             ],
             [
              0.6666666666666666,
              "#ed7953"
             ],
             [
              0.7777777777777778,
              "#fb9f3a"
             ],
             [
              0.8888888888888888,
              "#fdca26"
             ],
             [
              1,
              "#f0f921"
             ]
            ],
            "type": "contour"
           }
          ],
          "contourcarpet": [
           {
            "colorbar": {
             "outlinewidth": 0,
             "ticks": ""
            },
            "type": "contourcarpet"
           }
          ],
          "heatmap": [
           {
            "colorbar": {
             "outlinewidth": 0,
             "ticks": ""
            },
            "colorscale": [
             [
              0,
              "#0d0887"
             ],
             [
              0.1111111111111111,
              "#46039f"
             ],
             [
              0.2222222222222222,
              "#7201a8"
             ],
             [
              0.3333333333333333,
              "#9c179e"
             ],
             [
              0.4444444444444444,
              "#bd3786"
             ],
             [
              0.5555555555555556,
              "#d8576b"
             ],
             [
              0.6666666666666666,
              "#ed7953"
             ],
             [
              0.7777777777777778,
              "#fb9f3a"
             ],
             [
              0.8888888888888888,
              "#fdca26"
             ],
             [
              1,
              "#f0f921"
             ]
            ],
            "type": "heatmap"
           }
          ],
          "heatmapgl": [
           {
            "colorbar": {
             "outlinewidth": 0,
             "ticks": ""
            },
            "colorscale": [
             [
              0,
              "#0d0887"
             ],
             [
              0.1111111111111111,
              "#46039f"
             ],
             [
              0.2222222222222222,
              "#7201a8"
             ],
             [
              0.3333333333333333,
              "#9c179e"
             ],
             [
              0.4444444444444444,
              "#bd3786"
             ],
             [
              0.5555555555555556,
              "#d8576b"
             ],
             [
              0.6666666666666666,
              "#ed7953"
             ],
             [
              0.7777777777777778,
              "#fb9f3a"
             ],
             [
              0.8888888888888888,
              "#fdca26"
             ],
             [
              1,
              "#f0f921"
             ]
            ],
            "type": "heatmapgl"
           }
          ],
          "histogram": [
           {
            "marker": {
             "pattern": {
              "fillmode": "overlay",
              "size": 10,
              "solidity": 0.2
             }
            },
            "type": "histogram"
           }
          ],
          "histogram2d": [
           {
            "colorbar": {
             "outlinewidth": 0,
             "ticks": ""
            },
            "colorscale": [
             [
              0,
              "#0d0887"
             ],
             [
              0.1111111111111111,
              "#46039f"
             ],
             [
              0.2222222222222222,
              "#7201a8"
             ],
             [
              0.3333333333333333,
              "#9c179e"
             ],
             [
              0.4444444444444444,
              "#bd3786"
             ],
             [
              0.5555555555555556,
              "#d8576b"
             ],
             [
              0.6666666666666666,
              "#ed7953"
             ],
             [
              0.7777777777777778,
              "#fb9f3a"
             ],
             [
              0.8888888888888888,
              "#fdca26"
             ],
             [
              1,
              "#f0f921"
             ]
            ],
            "type": "histogram2d"
           }
          ],
          "histogram2dcontour": [
           {
            "colorbar": {
             "outlinewidth": 0,
             "ticks": ""
            },
            "colorscale": [
             [
              0,
              "#0d0887"
             ],
             [
              0.1111111111111111,
              "#46039f"
             ],
             [
              0.2222222222222222,
              "#7201a8"
             ],
             [
              0.3333333333333333,
              "#9c179e"
             ],
             [
              0.4444444444444444,
              "#bd3786"
             ],
             [
              0.5555555555555556,
              "#d8576b"
             ],
             [
              0.6666666666666666,
              "#ed7953"
             ],
             [
              0.7777777777777778,
              "#fb9f3a"
             ],
             [
              0.8888888888888888,
              "#fdca26"
             ],
             [
              1,
              "#f0f921"
             ]
            ],
            "type": "histogram2dcontour"
           }
          ],
          "mesh3d": [
           {
            "colorbar": {
             "outlinewidth": 0,
             "ticks": ""
            },
            "type": "mesh3d"
           }
          ],
          "parcoords": [
           {
            "line": {
             "colorbar": {
              "outlinewidth": 0,
              "ticks": ""
             }
            },
            "type": "parcoords"
           }
          ],
          "pie": [
           {
            "automargin": true,
            "type": "pie"
           }
          ],
          "scatter": [
           {
            "fillpattern": {
             "fillmode": "overlay",
             "size": 10,
             "solidity": 0.2
            },
            "type": "scatter"
           }
          ],
          "scatter3d": [
           {
            "line": {
             "colorbar": {
              "outlinewidth": 0,
              "ticks": ""
             }
            },
            "marker": {
             "colorbar": {
              "outlinewidth": 0,
              "ticks": ""
             }
            },
            "type": "scatter3d"
           }
          ],
          "scattercarpet": [
           {
            "marker": {
             "colorbar": {
              "outlinewidth": 0,
              "ticks": ""
             }
            },
            "type": "scattercarpet"
           }
          ],
          "scattergeo": [
           {
            "marker": {
             "colorbar": {
              "outlinewidth": 0,
              "ticks": ""
             }
            },
            "type": "scattergeo"
           }
          ],
          "scattergl": [
           {
            "marker": {
             "colorbar": {
              "outlinewidth": 0,
              "ticks": ""
             }
            },
            "type": "scattergl"
           }
          ],
          "scattermapbox": [
           {
            "marker": {
             "colorbar": {
              "outlinewidth": 0,
              "ticks": ""
             }
            },
            "type": "scattermapbox"
           }
          ],
          "scatterpolar": [
           {
            "marker": {
             "colorbar": {
              "outlinewidth": 0,
              "ticks": ""
             }
            },
            "type": "scatterpolar"
           }
          ],
          "scatterpolargl": [
           {
            "marker": {
             "colorbar": {
              "outlinewidth": 0,
              "ticks": ""
             }
            },
            "type": "scatterpolargl"
           }
          ],
          "scatterternary": [
           {
            "marker": {
             "colorbar": {
              "outlinewidth": 0,
              "ticks": ""
             }
            },
            "type": "scatterternary"
           }
          ],
          "surface": [
           {
            "colorbar": {
             "outlinewidth": 0,
             "ticks": ""
            },
            "colorscale": [
             [
              0,
              "#0d0887"
             ],
             [
              0.1111111111111111,
              "#46039f"
             ],
             [
              0.2222222222222222,
              "#7201a8"
             ],
             [
              0.3333333333333333,
              "#9c179e"
             ],
             [
              0.4444444444444444,
              "#bd3786"
             ],
             [
              0.5555555555555556,
              "#d8576b"
             ],
             [
              0.6666666666666666,
              "#ed7953"
             ],
             [
              0.7777777777777778,
              "#fb9f3a"
             ],
             [
              0.8888888888888888,
              "#fdca26"
             ],
             [
              1,
              "#f0f921"
             ]
            ],
            "type": "surface"
           }
          ],
          "table": [
           {
            "cells": {
             "fill": {
              "color": "#EBF0F8"
             },
             "line": {
              "color": "white"
             }
            },
            "header": {
             "fill": {
              "color": "#C8D4E3"
             },
             "line": {
              "color": "white"
             }
            },
            "type": "table"
           }
          ]
         },
         "layout": {
          "annotationdefaults": {
           "arrowcolor": "#2a3f5f",
           "arrowhead": 0,
           "arrowwidth": 1
          },
          "autotypenumbers": "strict",
          "coloraxis": {
           "colorbar": {
            "outlinewidth": 0,
            "ticks": ""
           }
          },
          "colorscale": {
           "diverging": [
            [
             0,
             "#8e0152"
            ],
            [
             0.1,
             "#c51b7d"
            ],
            [
             0.2,
             "#de77ae"
            ],
            [
             0.3,
             "#f1b6da"
            ],
            [
             0.4,
             "#fde0ef"
            ],
            [
             0.5,
             "#f7f7f7"
            ],
            [
             0.6,
             "#e6f5d0"
            ],
            [
             0.7,
             "#b8e186"
            ],
            [
             0.8,
             "#7fbc41"
            ],
            [
             0.9,
             "#4d9221"
            ],
            [
             1,
             "#276419"
            ]
           ],
           "sequential": [
            [
             0,
             "#0d0887"
            ],
            [
             0.1111111111111111,
             "#46039f"
            ],
            [
             0.2222222222222222,
             "#7201a8"
            ],
            [
             0.3333333333333333,
             "#9c179e"
            ],
            [
             0.4444444444444444,
             "#bd3786"
            ],
            [
             0.5555555555555556,
             "#d8576b"
            ],
            [
             0.6666666666666666,
             "#ed7953"
            ],
            [
             0.7777777777777778,
             "#fb9f3a"
            ],
            [
             0.8888888888888888,
             "#fdca26"
            ],
            [
             1,
             "#f0f921"
            ]
           ],
           "sequentialminus": [
            [
             0,
             "#0d0887"
            ],
            [
             0.1111111111111111,
             "#46039f"
            ],
            [
             0.2222222222222222,
             "#7201a8"
            ],
            [
             0.3333333333333333,
             "#9c179e"
            ],
            [
             0.4444444444444444,
             "#bd3786"
            ],
            [
             0.5555555555555556,
             "#d8576b"
            ],
            [
             0.6666666666666666,
             "#ed7953"
            ],
            [
             0.7777777777777778,
             "#fb9f3a"
            ],
            [
             0.8888888888888888,
             "#fdca26"
            ],
            [
             1,
             "#f0f921"
            ]
           ]
          },
          "colorway": [
           "#636efa",
           "#EF553B",
           "#00cc96",
           "#ab63fa",
           "#FFA15A",
           "#19d3f3",
           "#FF6692",
           "#B6E880",
           "#FF97FF",
           "#FECB52"
          ],
          "font": {
           "color": "#2a3f5f"
          },
          "geo": {
           "bgcolor": "white",
           "lakecolor": "white",
           "landcolor": "#E5ECF6",
           "showlakes": true,
           "showland": true,
           "subunitcolor": "white"
          },
          "hoverlabel": {
           "align": "left"
          },
          "hovermode": "closest",
          "mapbox": {
           "style": "light"
          },
          "paper_bgcolor": "white",
          "plot_bgcolor": "#E5ECF6",
          "polar": {
           "angularaxis": {
            "gridcolor": "white",
            "linecolor": "white",
            "ticks": ""
           },
           "bgcolor": "#E5ECF6",
           "radialaxis": {
            "gridcolor": "white",
            "linecolor": "white",
            "ticks": ""
           }
          },
          "scene": {
           "xaxis": {
            "backgroundcolor": "#E5ECF6",
            "gridcolor": "white",
            "gridwidth": 2,
            "linecolor": "white",
            "showbackground": true,
            "ticks": "",
            "zerolinecolor": "white"
           },
           "yaxis": {
            "backgroundcolor": "#E5ECF6",
            "gridcolor": "white",
            "gridwidth": 2,
            "linecolor": "white",
            "showbackground": true,
            "ticks": "",
            "zerolinecolor": "white"
           },
           "zaxis": {
            "backgroundcolor": "#E5ECF6",
            "gridcolor": "white",
            "gridwidth": 2,
            "linecolor": "white",
            "showbackground": true,
            "ticks": "",
            "zerolinecolor": "white"
           }
          },
          "shapedefaults": {
           "line": {
            "color": "#2a3f5f"
           }
          },
          "ternary": {
           "aaxis": {
            "gridcolor": "white",
            "linecolor": "white",
            "ticks": ""
           },
           "baxis": {
            "gridcolor": "white",
            "linecolor": "white",
            "ticks": ""
           },
           "bgcolor": "#E5ECF6",
           "caxis": {
            "gridcolor": "white",
            "linecolor": "white",
            "ticks": ""
           }
          },
          "title": {
           "x": 0.05
          },
          "xaxis": {
           "automargin": true,
           "gridcolor": "white",
           "linecolor": "white",
           "ticks": "",
           "title": {
            "standoff": 15
           },
           "zerolinecolor": "white",
           "zerolinewidth": 2
          },
          "yaxis": {
           "automargin": true,
           "gridcolor": "white",
           "linecolor": "white",
           "ticks": "",
           "title": {
            "standoff": 15
           },
           "zerolinecolor": "white",
           "zerolinewidth": 2
          }
         }
        },
        "xaxis": {
         "anchor": "y",
         "domain": [
          0,
          1
         ],
         "title": {
          "text": "Bootstrapped Medians"
         }
        },
        "yaxis": {
         "anchor": "x",
         "domain": [
          0,
          1
         ],
         "title": {
          "text": "probability density"
         }
        }
       }
      },
      "text/html": [
       "<div>                            <div id=\"9192ad84-f91f-44a4-811e-9dbbdb75e1b8\" class=\"plotly-graph-div\" style=\"height:525px; width:100%;\"></div>            <script type=\"text/javascript\">                require([\"plotly\"], function(Plotly) {                    window.PLOTLYENV=window.PLOTLYENV || {};                                    if (document.getElementById(\"9192ad84-f91f-44a4-811e-9dbbdb75e1b8\")) {                    Plotly.newPlot(                        \"9192ad84-f91f-44a4-811e-9dbbdb75e1b8\",                        [{\"alignmentgroup\":\"True\",\"bingroup\":\"x\",\"histnorm\":\"probability density\",\"hovertemplate\":\"Bootstrapped Medians=%{x}\\u003cbr\\u003eprobability density=%{y}\\u003cextra\\u003e\\u003c\\u002fextra\\u003e\",\"legendgroup\":\"\",\"marker\":{\"color\":\"#636efa\",\"pattern\":{\"shape\":\"\"}},\"name\":\"\",\"nbinsx\":12,\"offsetgroup\":\"\",\"orientation\":\"v\",\"showlegend\":false,\"x\":[1045.0,961.87,1081.71,993.19,1067.57,993.3900000000001,1039.69,1074.35,1042.345,1103.395,1116.145,989.83,1038.2150000000001,1136.005,981.86,983.99,983.99,1074.35,941.065,1132.41,1074.35,1103.3200000000002,1061.8,1045.0,943.7049999999999,1189.96,1115.89,970.69,1093.55,940.28,988.5350000000001,1087.815,1078.03,1116.145,997.475,1040.87,1086.9,1122.12,1006.975,991.6300000000001,993.59,1127.2649999999999,981.86,1090.41,1089.5700000000002,1050.745,1124.76,1006.975,1080.625,1038.2150000000001,1038.2150000000001,1199.52,1023.015,1039.69,1040.87,1053.4,1011.565,1094.3899999999999,987.855,1080.625,1050.745,991.6300000000001,1038.2150000000001,1013.7149999999999,1053.4,1056.2849999999999,1090.75,1010.94,1074.35,973.04,964.22,1117.4,1045.0,1119.52,1078.03,1086.06,961.87,1116.145,1042.345,966.235,1011.565,1061.8,991.6300000000001,1136.005,981.86,1016.43,989.83,964.22,991.83,983.99,989.83,1087.815,945.8,1061.8,1016.43,1013.685,1001.76,1131.205,1061.8,1088.73,993.19,1039.69,1210.965,1025.135,1036.74,1101.895,1122.12,1089.74,1110.9,1014.31,950.61,1085.22,1039.42,1087.815,990.07,1094.56,1103.3200000000002,997.675,1026.585,987.855,1227.645,1035.29,1038.2150000000001,1086.9,1086.06,990.07,1010.94,1103.395,1012.19,987.0,986.12,1078.03,1012.19,1070.96,1001.76,1024.4650000000001,1084.305,1088.73,1086.9,1130.86,948.2049999999999,1105.875,993.19,1016.43,1137.815,1012.19,1011.565,986.12,989.83,1249.02,991.83,1088.73,1119.2150000000001,1113.38,1119.52,1088.73,1012.19,1189.35,1050.745,991.6300000000001,1013.685,1035.29,1033.84,989.59,1090.58,990.07,941.85,1153.13,1038.2150000000001,1088.6550000000002,1243.51,1014.31,1012.19,945.68,1006.35,1039.42,1081.71,1016.43,1067.57,975.1700000000001,1025.135,1023.015,1040.87,1167.185,1103.395,934.24,1039.69,1124.76,1117.4,1009.095,1081.71,990.07,1108.42,1087.815,1042.345,1001.76,997.675,1215.045,1114.6350000000002,1263.2649999999999,1038.2150000000001,1094.56,989.59,1011.565,951.3299999999999,1120.5149999999999,1014.31,1011.565,1089.5700000000002,1132.41,1000.5050000000001,1087.815,1086.06,1120.82,948.495,1040.87,991.3900000000001,1035.29,1107.13,1085.22,1039.69,1099.585,1002.065,993.59,883.185,988.2950000000001,1196.275,945.68,1036.7649999999999,1094.3899999999999,907.0,1038.2150000000001,1025.94,1053.4,989.83,1103.395,1074.6399999999999,1090.58,1078.03,1053.63,1035.29,1036.74,1001.76,1076.105,893.03,1102.065,1053.4,1153.13,1026.585,1100.14,903.99,961.87,1042.345,1039.69,1039.69,1024.4650000000001,1012.19,1101.895,1067.57,952.95,1006.35,1131.205,964.22,1070.96,1314.4,1122.12,990.07,1160.63,983.99,1039.69,988.5350000000001,1081.71,925.47,986.56,987.855,1126.06,1039.69,1126.06,993.3900000000001,1108.42,1113.38,952.05,1122.12,1090.41,1137.815,1013.685,997.675,1006.35,1118.91,984.4300000000001,1127.2649999999999,946.38,1042.345,991.6300000000001,981.86,1081.71,1118.91,995.915,993.59,1087.815,1084.305,991.6300000000001,993.19,1119.2150000000001,1011.565,1006.35,1080.625,950.61,1108.42,1088.73,986.12,926.835,1010.94,950.61,990.07,1116.145,993.59,1064.685,1060.7,959.52,1010.94,1086.06,1074.6399999999999,991.6300000000001,1010.94,1117.4,1010.94,1119.2150000000001,1039.69,1130.0,1113.38,1011.565,945.68,1090.58,1084.305,945.8,946.38,1036.7649999999999,984.4300000000001,945.8,993.19,1090.58,1050.745,1122.12,951.3299999999999,964.22,973.04,1098.37,975.1700000000001,1059.675,1038.2150000000001,1132.41,1025.135,1122.12,1090.75,1090.58,990.07,993.59,1001.76,1108.42,1038.2150000000001,1090.58,1153.13,1040.87,948.495,1103.395,1012.19,1001.76,970.69,1064.685,973.04,1103.395,1025.135,986.12,1110.9,987.0,1012.19,991.3900000000001,1088.73,959.52,1089.74,1209.08,1038.2150000000001,1025.135,1208.12,1067.57,993.3900000000001,1012.19,919.105,955.065,1013.685,1090.75,1070.96,1126.06,1001.76,997.675,1036.7649999999999,1002.8900000000001,1036.7649999999999,1011.565,1078.03,989.83,1081.71,1012.19,1081.54,1056.2849999999999,1094.56,1146.52,1142.615,1011.565,1025.135,991.6300000000001,991.3900000000001,989.83,1014.31,1130.0,1036.7649999999999,1089.74,1090.41,1039.69,1118.91,1036.74,1002.69,1061.8,1114.6350000000002,1001.76,1028.06,1045.0,1067.57,1089.5700000000002,993.19,991.6300000000001,1114.6350000000002,945.97,987.0,1025.94,1081.71,1120.5149999999999,1011.565,995.675,1117.705,1001.1300000000001,1103.395,1038.2150000000001,1042.345,1001.76,1023.015,1124.76,1119.005,1012.19,1105.875,1009.095,993.59,952.05,1094.56,1116.145,993.3900000000001,1090.58,1033.84,1012.19,1039.69,1116.145,1110.9,1098.37,951.3299999999999,1103.395,1090.41,1084.305,1098.37,951.3299999999999,1122.12,1064.685,973.04,1321.7,1084.305,959.52,1086.9,984.4300000000001,1074.35,997.475,1053.63,1038.2150000000001,1089.5700000000002,1086.9,1130.0,991.6300000000001,1203.81,984.4300000000001,1090.75,1033.84,1089.5700000000002,1014.31,1113.97,1122.12,1090.58,1001.76,1014.31,981.86,983.99,1081.71,973.04,961.87,1038.2150000000001,964.22,993.3900000000001,1036.74,1036.74,948.495,1039.69,1011.565,1006.35,1061.8,1108.42,1089.5700000000002,988.2950000000001,1070.96,959.52,904.995,943.825,946.38,1108.42,1117.705,983.99,964.22,928.2,1086.9,1074.35,1053.4,1089.5700000000002,1077.2350000000001,1010.94,1064.685,987.855,1127.2649999999999,985.965,1012.19,1103.395,1084.305,1035.29,1025.135,1130.0,1142.615,1089.5700000000002,1090.41,1210.965,1081.71,981.86,961.87,946.38,1090.58,990.07,903.99,1061.8,973.04,993.59,1082.55,1056.2849999999999,1016.43,1103.395,1064.685,1026.585,1040.87,961.87,945.56,959.52,1016.43,1117.4,1122.12,1229.01,987.0,1113.38,1189.96,948.495,1070.96,1110.9,1025.135,1010.94,1119.52,1089.74,1009.095,1039.69,993.59,1001.76,1053.4,1117.4,1098.37,1006.35,1086.06,964.22,989.59,1061.8,1093.55,991.83,1113.665,1039.69,1084.305,1068.0749999999998,941.065,1117.4,1119.005,993.19,988.095,986.56,1103.3200000000002,995.915,1087.815,1108.42,1014.31,1256.2649999999999,1006.975,1120.5149999999999,1113.38,1012.19,1042.345,959.52,1145.63,1093.55,1010.94,903.99,961.87,1010.94,1002.2650000000001,1206.445,1116.145,1125.66,986.12,1118.91,899.565,1026.585,1086.9,1090.75,1064.685,945.68,1011.565,1016.43,1113.38,1023.015,901.5,1025.135,941.065,1006.35,1090.58,945.68,1132.41,986.56,1084.305,901.995,1080.625,1042.345,1067.57,1014.31,1036.7649999999999,1085.22,1053.4,1070.96,987.0,961.87,1045.0,1064.685,1113.38,993.59,1011.565,1049.27,988.2950000000001,950.61,948.2049999999999,1011.565,1094.56,1045.0,1035.29,1103.395,1098.37,1016.43,943.04,966.9549999999999,948.495,959.52,1078.03,1089.5700000000002,1053.4,1074.35,1002.2650000000001,1086.9,975.61,1047.82,1089.5700000000002,943.7049999999999,1084.305,1047.82,1085.22,1061.8,917.74,1039.69,1174.685,1064.685,1030.715,1068.0749999999998,1082.55,987.0,1039.69,1033.84,1023.015,1084.305,997.675,1164.17,940.28,1014.31,1042.345,1078.03,1011.565,993.59,987.0,1064.685,986.12,1099.585,1117.4,1006.975,1132.41,1038.2150000000001,1016.43,1010.94,1006.35,955.785,993.59,917.74,1098.37,991.6300000000001,997.675,991.83,1006.975,1014.31,986.12,1064.685,981.86,1012.19,1094.56,957.415,993.19,983.99,945.97,1035.29,1006.35,1011.565,1050.745,997.675,951.3299999999999,1089.5700000000002,1061.8,993.19,1025.135,988.5350000000001,1120.5149999999999,1006.35,1114.6350000000002,1203.81,1071.755,899.275,991.83,946.38,1235.07,1025.135,1090.41,1115.89,926.835,952.05,1235.07,1000.2650000000001,1087.815,1001.76,1001.76,1119.005,1136.005,1119.52,1090.75,1115.89,1039.69,991.3900000000001,987.855,961.87,1136.005,1035.29,1103.3200000000002,991.83,1070.96,1011.565,1131.205,990.07,1108.42,1064.685,987.0,1006.35,1016.43,1209.08,991.6300000000001,1081.71,989.59,1081.71,983.99,1125.66,1107.13,942.92,1088.825,1212.85,955.785,1011.565,1067.57,993.3900000000001,1061.8,1042.345,1150.115,987.0,1025.135,1002.2650000000001,1089.5700000000002,1045.0,1153.13,1080.625,993.3900000000001,1006.35,1116.145,946.38,1160.63,940.28,986.56,1067.57,1196.275,1086.9,1089.5700000000002,997.475,892.06,1081.71,986.56,1081.54,940.28,1014.31,1085.22,955.785,1012.19,1061.8,1039.69,1061.8,966.9549999999999,1203.81,1012.19,991.6300000000001,1089.74,1188.74,1090.41,1065.95,881.7950000000001,1115.89,1039.69,986.56,948.495,955.785,961.87,958.135,1103.395,1067.57,1080.625,1064.685,1033.84,1036.74,1026.585,1120.82,1014.31,1035.29,1124.76,1009.095,1070.96,987.0,961.87,964.22,983.99,1105.875,1061.8,1038.2150000000001,1103.395,1093.55,1053.63,993.3900000000001,993.19,1011.565,985.965,1016.43,1108.42,1094.56,952.05,1090.75,1006.35,1042.345,1071.755,989.83,1124.76,989.83,1023.015,1130.0,1010.94,988.2950000000001,1067.57,1117.705,950.61,1139.02,1033.84,1113.38,1132.41,1023.015,1067.57,1061.8,1201.405,1078.03,1120.5149999999999,1085.22,989.83,1086.9,1088.6550000000002,1059.675,1088.73,1001.76,1010.94,1001.76,1115.89,989.59,1012.19,1045.0,983.99,1081.71,988.2950000000001,1070.96,1045.0,1067.57,1119.52,948.495,1108.42,1087.815,1053.4,1013.685,1164.78,1263.51,986.12,985.725,1090.41,1025.135,989.59,981.86,1103.395,926.835,1033.84,1108.42,1068.0749999999998,1001.76,1025.135,983.99,1090.58,1114.6350000000002,1120.82,1014.31,1068.0749999999998,945.8,955.785,1067.57,1036.74,1011.565,991.6300000000001,991.3900000000001,1006.975,1094.56,1016.43,1110.9,1067.57,1067.57,1090.41,1039.69,990.07,987.5250000000001,1116.145,1136.005,1088.73,1039.69,1028.06,1089.5700000000002,1014.31,1067.57,1142.615,952.05,1088.73,1038.2150000000001,1001.76,1089.5700000000002,1070.96,1110.9,948.495,987.0,1025.135,1090.58,989.83,1064.685,1035.29,1093.55,1186.74],\"xaxis\":\"x\",\"yaxis\":\"y\",\"type\":\"histogram\"}],                        {\"template\":{\"data\":{\"histogram2dcontour\":[{\"type\":\"histogram2dcontour\",\"colorbar\":{\"outlinewidth\":0,\"ticks\":\"\"},\"colorscale\":[[0.0,\"#0d0887\"],[0.1111111111111111,\"#46039f\"],[0.2222222222222222,\"#7201a8\"],[0.3333333333333333,\"#9c179e\"],[0.4444444444444444,\"#bd3786\"],[0.5555555555555556,\"#d8576b\"],[0.6666666666666666,\"#ed7953\"],[0.7777777777777778,\"#fb9f3a\"],[0.8888888888888888,\"#fdca26\"],[1.0,\"#f0f921\"]]}],\"choropleth\":[{\"type\":\"choropleth\",\"colorbar\":{\"outlinewidth\":0,\"ticks\":\"\"}}],\"histogram2d\":[{\"type\":\"histogram2d\",\"colorbar\":{\"outlinewidth\":0,\"ticks\":\"\"},\"colorscale\":[[0.0,\"#0d0887\"],[0.1111111111111111,\"#46039f\"],[0.2222222222222222,\"#7201a8\"],[0.3333333333333333,\"#9c179e\"],[0.4444444444444444,\"#bd3786\"],[0.5555555555555556,\"#d8576b\"],[0.6666666666666666,\"#ed7953\"],[0.7777777777777778,\"#fb9f3a\"],[0.8888888888888888,\"#fdca26\"],[1.0,\"#f0f921\"]]}],\"heatmap\":[{\"type\":\"heatmap\",\"colorbar\":{\"outlinewidth\":0,\"ticks\":\"\"},\"colorscale\":[[0.0,\"#0d0887\"],[0.1111111111111111,\"#46039f\"],[0.2222222222222222,\"#7201a8\"],[0.3333333333333333,\"#9c179e\"],[0.4444444444444444,\"#bd3786\"],[0.5555555555555556,\"#d8576b\"],[0.6666666666666666,\"#ed7953\"],[0.7777777777777778,\"#fb9f3a\"],[0.8888888888888888,\"#fdca26\"],[1.0,\"#f0f921\"]]}],\"heatmapgl\":[{\"type\":\"heatmapgl\",\"colorbar\":{\"outlinewidth\":0,\"ticks\":\"\"},\"colorscale\":[[0.0,\"#0d0887\"],[0.1111111111111111,\"#46039f\"],[0.2222222222222222,\"#7201a8\"],[0.3333333333333333,\"#9c179e\"],[0.4444444444444444,\"#bd3786\"],[0.5555555555555556,\"#d8576b\"],[0.6666666666666666,\"#ed7953\"],[0.7777777777777778,\"#fb9f3a\"],[0.8888888888888888,\"#fdca26\"],[1.0,\"#f0f921\"]]}],\"contourcarpet\":[{\"type\":\"contourcarpet\",\"colorbar\":{\"outlinewidth\":0,\"ticks\":\"\"}}],\"contour\":[{\"type\":\"contour\",\"colorbar\":{\"outlinewidth\":0,\"ticks\":\"\"},\"colorscale\":[[0.0,\"#0d0887\"],[0.1111111111111111,\"#46039f\"],[0.2222222222222222,\"#7201a8\"],[0.3333333333333333,\"#9c179e\"],[0.4444444444444444,\"#bd3786\"],[0.5555555555555556,\"#d8576b\"],[0.6666666666666666,\"#ed7953\"],[0.7777777777777778,\"#fb9f3a\"],[0.8888888888888888,\"#fdca26\"],[1.0,\"#f0f921\"]]}],\"surface\":[{\"type\":\"surface\",\"colorbar\":{\"outlinewidth\":0,\"ticks\":\"\"},\"colorscale\":[[0.0,\"#0d0887\"],[0.1111111111111111,\"#46039f\"],[0.2222222222222222,\"#7201a8\"],[0.3333333333333333,\"#9c179e\"],[0.4444444444444444,\"#bd3786\"],[0.5555555555555556,\"#d8576b\"],[0.6666666666666666,\"#ed7953\"],[0.7777777777777778,\"#fb9f3a\"],[0.8888888888888888,\"#fdca26\"],[1.0,\"#f0f921\"]]}],\"mesh3d\":[{\"type\":\"mesh3d\",\"colorbar\":{\"outlinewidth\":0,\"ticks\":\"\"}}],\"scatter\":[{\"fillpattern\":{\"fillmode\":\"overlay\",\"size\":10,\"solidity\":0.2},\"type\":\"scatter\"}],\"parcoords\":[{\"type\":\"parcoords\",\"line\":{\"colorbar\":{\"outlinewidth\":0,\"ticks\":\"\"}}}],\"scatterpolargl\":[{\"type\":\"scatterpolargl\",\"marker\":{\"colorbar\":{\"outlinewidth\":0,\"ticks\":\"\"}}}],\"bar\":[{\"error_x\":{\"color\":\"#2a3f5f\"},\"error_y\":{\"color\":\"#2a3f5f\"},\"marker\":{\"line\":{\"color\":\"#E5ECF6\",\"width\":0.5},\"pattern\":{\"fillmode\":\"overlay\",\"size\":10,\"solidity\":0.2}},\"type\":\"bar\"}],\"scattergeo\":[{\"type\":\"scattergeo\",\"marker\":{\"colorbar\":{\"outlinewidth\":0,\"ticks\":\"\"}}}],\"scatterpolar\":[{\"type\":\"scatterpolar\",\"marker\":{\"colorbar\":{\"outlinewidth\":0,\"ticks\":\"\"}}}],\"histogram\":[{\"marker\":{\"pattern\":{\"fillmode\":\"overlay\",\"size\":10,\"solidity\":0.2}},\"type\":\"histogram\"}],\"scattergl\":[{\"type\":\"scattergl\",\"marker\":{\"colorbar\":{\"outlinewidth\":0,\"ticks\":\"\"}}}],\"scatter3d\":[{\"type\":\"scatter3d\",\"line\":{\"colorbar\":{\"outlinewidth\":0,\"ticks\":\"\"}},\"marker\":{\"colorbar\":{\"outlinewidth\":0,\"ticks\":\"\"}}}],\"scattermapbox\":[{\"type\":\"scattermapbox\",\"marker\":{\"colorbar\":{\"outlinewidth\":0,\"ticks\":\"\"}}}],\"scatterternary\":[{\"type\":\"scatterternary\",\"marker\":{\"colorbar\":{\"outlinewidth\":0,\"ticks\":\"\"}}}],\"scattercarpet\":[{\"type\":\"scattercarpet\",\"marker\":{\"colorbar\":{\"outlinewidth\":0,\"ticks\":\"\"}}}],\"carpet\":[{\"aaxis\":{\"endlinecolor\":\"#2a3f5f\",\"gridcolor\":\"white\",\"linecolor\":\"white\",\"minorgridcolor\":\"white\",\"startlinecolor\":\"#2a3f5f\"},\"baxis\":{\"endlinecolor\":\"#2a3f5f\",\"gridcolor\":\"white\",\"linecolor\":\"white\",\"minorgridcolor\":\"white\",\"startlinecolor\":\"#2a3f5f\"},\"type\":\"carpet\"}],\"table\":[{\"cells\":{\"fill\":{\"color\":\"#EBF0F8\"},\"line\":{\"color\":\"white\"}},\"header\":{\"fill\":{\"color\":\"#C8D4E3\"},\"line\":{\"color\":\"white\"}},\"type\":\"table\"}],\"barpolar\":[{\"marker\":{\"line\":{\"color\":\"#E5ECF6\",\"width\":0.5},\"pattern\":{\"fillmode\":\"overlay\",\"size\":10,\"solidity\":0.2}},\"type\":\"barpolar\"}],\"pie\":[{\"automargin\":true,\"type\":\"pie\"}]},\"layout\":{\"autotypenumbers\":\"strict\",\"colorway\":[\"#636efa\",\"#EF553B\",\"#00cc96\",\"#ab63fa\",\"#FFA15A\",\"#19d3f3\",\"#FF6692\",\"#B6E880\",\"#FF97FF\",\"#FECB52\"],\"font\":{\"color\":\"#2a3f5f\"},\"hovermode\":\"closest\",\"hoverlabel\":{\"align\":\"left\"},\"paper_bgcolor\":\"white\",\"plot_bgcolor\":\"#E5ECF6\",\"polar\":{\"bgcolor\":\"#E5ECF6\",\"angularaxis\":{\"gridcolor\":\"white\",\"linecolor\":\"white\",\"ticks\":\"\"},\"radialaxis\":{\"gridcolor\":\"white\",\"linecolor\":\"white\",\"ticks\":\"\"}},\"ternary\":{\"bgcolor\":\"#E5ECF6\",\"aaxis\":{\"gridcolor\":\"white\",\"linecolor\":\"white\",\"ticks\":\"\"},\"baxis\":{\"gridcolor\":\"white\",\"linecolor\":\"white\",\"ticks\":\"\"},\"caxis\":{\"gridcolor\":\"white\",\"linecolor\":\"white\",\"ticks\":\"\"}},\"coloraxis\":{\"colorbar\":{\"outlinewidth\":0,\"ticks\":\"\"}},\"colorscale\":{\"sequential\":[[0.0,\"#0d0887\"],[0.1111111111111111,\"#46039f\"],[0.2222222222222222,\"#7201a8\"],[0.3333333333333333,\"#9c179e\"],[0.4444444444444444,\"#bd3786\"],[0.5555555555555556,\"#d8576b\"],[0.6666666666666666,\"#ed7953\"],[0.7777777777777778,\"#fb9f3a\"],[0.8888888888888888,\"#fdca26\"],[1.0,\"#f0f921\"]],\"sequentialminus\":[[0.0,\"#0d0887\"],[0.1111111111111111,\"#46039f\"],[0.2222222222222222,\"#7201a8\"],[0.3333333333333333,\"#9c179e\"],[0.4444444444444444,\"#bd3786\"],[0.5555555555555556,\"#d8576b\"],[0.6666666666666666,\"#ed7953\"],[0.7777777777777778,\"#fb9f3a\"],[0.8888888888888888,\"#fdca26\"],[1.0,\"#f0f921\"]],\"diverging\":[[0,\"#8e0152\"],[0.1,\"#c51b7d\"],[0.2,\"#de77ae\"],[0.3,\"#f1b6da\"],[0.4,\"#fde0ef\"],[0.5,\"#f7f7f7\"],[0.6,\"#e6f5d0\"],[0.7,\"#b8e186\"],[0.8,\"#7fbc41\"],[0.9,\"#4d9221\"],[1,\"#276419\"]]},\"xaxis\":{\"gridcolor\":\"white\",\"linecolor\":\"white\",\"ticks\":\"\",\"title\":{\"standoff\":15},\"zerolinecolor\":\"white\",\"automargin\":true,\"zerolinewidth\":2},\"yaxis\":{\"gridcolor\":\"white\",\"linecolor\":\"white\",\"ticks\":\"\",\"title\":{\"standoff\":15},\"zerolinecolor\":\"white\",\"automargin\":true,\"zerolinewidth\":2},\"scene\":{\"xaxis\":{\"backgroundcolor\":\"#E5ECF6\",\"gridcolor\":\"white\",\"linecolor\":\"white\",\"showbackground\":true,\"ticks\":\"\",\"zerolinecolor\":\"white\",\"gridwidth\":2},\"yaxis\":{\"backgroundcolor\":\"#E5ECF6\",\"gridcolor\":\"white\",\"linecolor\":\"white\",\"showbackground\":true,\"ticks\":\"\",\"zerolinecolor\":\"white\",\"gridwidth\":2},\"zaxis\":{\"backgroundcolor\":\"#E5ECF6\",\"gridcolor\":\"white\",\"linecolor\":\"white\",\"showbackground\":true,\"ticks\":\"\",\"zerolinecolor\":\"white\",\"gridwidth\":2}},\"shapedefaults\":{\"line\":{\"color\":\"#2a3f5f\"}},\"annotationdefaults\":{\"arrowcolor\":\"#2a3f5f\",\"arrowhead\":0,\"arrowwidth\":1},\"geo\":{\"bgcolor\":\"white\",\"landcolor\":\"#E5ECF6\",\"subunitcolor\":\"white\",\"showland\":true,\"showlakes\":true,\"lakecolor\":\"white\"},\"title\":{\"x\":0.05},\"mapbox\":{\"style\":\"light\"}}},\"xaxis\":{\"anchor\":\"y\",\"domain\":[0.0,1.0],\"title\":{\"text\":\"Bootstrapped Medians\"}},\"yaxis\":{\"anchor\":\"x\",\"domain\":[0.0,1.0],\"title\":{\"text\":\"probability density\"}},\"legend\":{\"tracegroupgap\":0},\"margin\":{\"t\":60},\"barmode\":\"relative\"},                        {\"responsive\": true}                    ).then(function(){\n",
       "                            \n",
       "var gd = document.getElementById('9192ad84-f91f-44a4-811e-9dbbdb75e1b8');\n",
       "var x = new MutationObserver(function (mutations, observer) {{\n",
       "        var display = window.getComputedStyle(gd).display;\n",
       "        if (!display || display === 'none') {{\n",
       "            console.log([gd, 'removed!']);\n",
       "            Plotly.purge(gd);\n",
       "            observer.disconnect();\n",
       "        }}\n",
       "}});\n",
       "\n",
       "// Listen for the removal of the full notebook cells\n",
       "var notebookContainer = gd.closest('#notebook-container');\n",
       "if (notebookContainer) {{\n",
       "    x.observe(notebookContainer, {childList: true});\n",
       "}}\n",
       "\n",
       "// Listen for the clearing of the current output cell\n",
       "var outputEl = gd.closest('.output');\n",
       "if (outputEl) {{\n",
       "    x.observe(outputEl, {childList: true});\n",
       "}}\n",
       "\n",
       "                        })                };                });            </script>        </div>"
      ]
     },
     "metadata": {},
     "output_type": "display_data"
    }
   ],
   "source": [
    "import plotly.express as px\n"
   ]
  },
  {
   "cell_type": "code",
   "execution_count": 75,
   "id": "f1405442",
   "metadata": {},
   "outputs": [],
   "source": [
    "hint = \"\\n\\nAUTOMATICALLY FAILING AUTOTEST: DOES NOT COUNT AGAINST STUDENT\\n\"\n",
    "hint += \"Included as an example answer for feedback purposes only\\n\\n\"\n",
    "code = '''\n",
    "#data = pd.read_csv('auto_claims.csv')\n",
    "np.random.seed(130) # Use this line to create reproducible pseudorandomness for your bootstrapping\n",
    "\n",
    "sample_size_n = data.shape[0]\n",
    "number_of_bootstrapped_samples = 1000\n",
    "# concatenating with a list is not very efficient because growing the list\n",
    "# is a memory intensive process as opposed to preallocating the memory that will be used\n",
    "boot_medians = [] # an approach using `np.array([0.0]*number_of_bootstrapped_samples)` \n",
    "                  # would be better...\n",
    "for i in range(number_of_bootstrapped_samples):\n",
    "    # `np.random.choice` is an alternative to utilizing `data.sample(..., replace=True)`\n",
    "    boot_sample = np.random.choice(data['PAID'], sample_size_n)\n",
    "    boot_medians += [np.median(boot_sample)]\n",
    "\n",
    "fig = px.histogram(pd.DataFrame({\"Bootstrapped Medians\": boot_medians}), \n",
    "                   x=\"Bootstrapped Medians\", histnorm='probability density', nbins=12)\n",
    "fig.show()\n",
    "'''"
   ]
  },
  {
   "cell_type": "code",
   "execution_count": 76,
   "id": "16ec6085",
   "metadata": {},
   "outputs": [
    {
     "ename": "AssertionError",
     "evalue": "\n\nAUTOMATICALLY FAILING AUTOTEST: DOES NOT COUNT AGAINST STUDENT\nIncluded as an example answer for feedback purposes only\n\n\n#data = pd.read_csv('auto_claims.csv')\nnp.random.seed(130) # Use this line to create reproducible pseudorandomness for your bootstrapping\n\nsample_size_n = data.shape[0]\nnumber_of_bootstrapped_samples = 1000\n# concatenating with a list is not very efficient because growing the list\n# is a memory intensive process as opposed to preallocating the memory that will be used\nboot_medians = [] # an approach using `np.array([0.0]*number_of_bootstrapped_samples)` \n                  # would be better...\nfor i in range(number_of_bootstrapped_samples):\n    # `np.random.choice` is an alternative to utilizing `data.sample(..., replace=True)`\n    boot_sample = np.random.choice(data['PAID'], sample_size_n)\n    boot_medians += [np.median(boot_sample)]\n\nfig = px.histogram(pd.DataFrame({\"Bootstrapped Medians\": boot_medians}), \n                   x=\"Bootstrapped Medians\", histnorm='probability density', nbins=12)\nfig.show()\n",
     "output_type": "error",
     "traceback": [
      "\u001b[0;31m---------------------------------------------------------------------------\u001b[0m",
      "\u001b[0;31mAssertionError\u001b[0m                            Traceback (most recent call last)",
      "Cell \u001b[0;32mIn[76], line 2\u001b[0m\n\u001b[1;32m      1\u001b[0m \u001b[38;5;66;03m# test_Q9\u001b[39;00m\n\u001b[0;32m----> 2\u001b[0m \u001b[38;5;28;01massert\u001b[39;00m \u001b[38;5;28;01mFalse\u001b[39;00m, hint\u001b[38;5;241m+\u001b[39mcode\n",
      "\u001b[0;31mAssertionError\u001b[0m: \n\nAUTOMATICALLY FAILING AUTOTEST: DOES NOT COUNT AGAINST STUDENT\nIncluded as an example answer for feedback purposes only\n\n\n#data = pd.read_csv('auto_claims.csv')\nnp.random.seed(130) # Use this line to create reproducible pseudorandomness for your bootstrapping\n\nsample_size_n = data.shape[0]\nnumber_of_bootstrapped_samples = 1000\n# concatenating with a list is not very efficient because growing the list\n# is a memory intensive process as opposed to preallocating the memory that will be used\nboot_medians = [] # an approach using `np.array([0.0]*number_of_bootstrapped_samples)` \n                  # would be better...\nfor i in range(number_of_bootstrapped_samples):\n    # `np.random.choice` is an alternative to utilizing `data.sample(..., replace=True)`\n    boot_sample = np.random.choice(data['PAID'], sample_size_n)\n    boot_medians += [np.median(boot_sample)]\n\nfig = px.histogram(pd.DataFrame({\"Bootstrapped Medians\": boot_medians}), \n                   x=\"Bootstrapped Medians\", histnorm='probability density', nbins=12)\nfig.show()\n"
     ]
    }
   ],
   "source": [
    "# test_Q9\n",
    "assert False, hint+code"
   ]
  },
  {
   "cell_type": "markdown",
   "id": "8c2820fa",
   "metadata": {},
   "source": [
    "### Q10: Create a 95% bootstrap confidence interval for the median of paid claims using the simulation in `Q9`.\n",
    "#### Give your answer as a continuous numeric value rounded to two decimal positions."
   ]
  },
  {
   "cell_type": "code",
   "execution_count": 8,
   "id": "1a955d4c",
   "metadata": {},
   "outputs": [
    {
     "data": {
      "text/plain": [
       "array([ 940.28 , 1196.275])"
      ]
     },
     "execution_count": 8,
     "metadata": {},
     "output_type": "execute_result"
    }
   ],
   "source": []
  },
  {
   "cell_type": "code",
   "execution_count": 77,
   "id": "213e4f97",
   "metadata": {},
   "outputs": [],
   "source": [
    "# Q10: your answer will be tested!\n",
    "your_1000_bootstrapped_medians = None # Assign your list/numpy array variable here instead of `None`\n",
    "your_95percent_confidence_interval_lower_bound = None # use np.round(..., 2)\n",
    "your_95percent_confidence_interval_upper_bound = None # use np.round(..., 2)\n",
    "Q10 = (your_1000_bootstrapped_medians, \n",
    "       (your_95percent_confidence_interval_lower_bound, your_95percent_confidence_interval_upper_bound))\n",
    "# Assign your 1000 bootstrapped medians and `tuple` \"interval\" of two-decimal rounded `float`s \n",
    "# as another `tuple` to Q10; e.g., ([bootstrapped_prop_1, ..., bootstrapped_prop_2000], (0.12, 0.34))"
   ]
  },
  {
   "cell_type": "code",
   "execution_count": 78,
   "id": "642ca78a",
   "metadata": {},
   "outputs": [],
   "source": [
    "hint = \"A 95% confidence interval refers to the middle 95% of the bootstrapped means, \"\n",
    "hint += \"so make sure that the quantiles you use have a difference of 0.95.\"\n",
    "# np.quantile(boot_medians, (0.025, 0.975))"
   ]
  },
  {
   "cell_type": "code",
   "execution_count": 3,
   "id": "b083da55",
   "metadata": {},
   "outputs": [
    {
     "ename": "NameError",
     "evalue": "name 'your_1000_bootstrapped_medians' is not defined",
     "output_type": "error",
     "traceback": [
      "\u001b[1;31m---------------------------------------------------------------------------\u001b[0m",
      "\u001b[1;31mNameError\u001b[0m                                 Traceback (most recent call last)",
      "Cell \u001b[1;32mIn[3], line 2\u001b[0m\n\u001b[0;32m      1\u001b[0m \u001b[39m# test_Q10\u001b[39;00m\n\u001b[1;32m----> 2\u001b[0m \u001b[39massert\u001b[39;00m np\u001b[39m.\u001b[39mall(np\u001b[39m.\u001b[39mround(np\u001b[39m.\u001b[39mquantile(your_1000_bootstrapped_medians, (\u001b[39m0.025\u001b[39m, \u001b[39m0.975\u001b[39m)), \u001b[39m2\u001b[39m)\u001b[39m==\u001b[39mnp\u001b[39m.\u001b[39marray(Q10[\u001b[39m1\u001b[39m])), hint\n",
      "\u001b[1;31mNameError\u001b[0m: name 'your_1000_bootstrapped_medians' is not defined"
     ]
    }
   ],
   "source": [
    "# test_Q10\n",
    "assert np.all(np.round(np.quantile(your_1000_bootstrapped_medians, (0.025, 0.975)), 2)==np.array(Q10[1])), hint"
   ]
  },
  {
   "cell_type": "markdown",
   "id": "2fbe34ad",
   "metadata": {},
   "source": [
    "### Q11: Load the population defined by `auto_claims_population.csv`, compute the median and standard deviation parameters of the paid claims (`PAID` column) of the population, and select which of the following is the most accurate characterization of the sample in `auto_claims.csv` with respect to this population.\n",
    "\n",
    "A. The sample and population medians are very similar and within \\$10 of each other, whereas the sample and population standard deviations are not; however, the 95\\% bootstrap confidence interval for the sample median captures the true population median nonetheless.  \n",
    "\n",
    "B. The sample and population medians are not within \\$10 of each other, whereas the sample and population standard deviations are; however, the 95\\% bootstrap confidence interval for the sample median captures the true population median nonetheless.  \n",
    "\n",
    "C. The sample and population medians are very similar and within \\$10 of each other, whereas the sample and population standard deviations are not; and, the 95\\% bootstrap confidence interval for the sample median does not capture the true population median as a result.  \n",
    "\n",
    "D. The sample and population medians are not within \\$10 of each other, whereas the sample and population standard deviations are; and, the 95\\% bootstrap confidence interval for the sample median does not capture the true population median as a result.  \n",
    "\n",
    "> Hint: the population and the sample distributions could be visually compared using the following:\n",
    "> ```python\n",
    "> px.box(pd.DataFrame({'x1':pd.read_csv('auto_claims_population.csv').PAID,\n",
    ">                      'x2':pd.read_csv('auto_claims.csv').PAID}))\n",
    "> ```\n"
   ]
  },
  {
   "cell_type": "code",
   "execution_count": null,
   "id": "3704f98c",
   "metadata": {},
   "outputs": [],
   "source": [
    "# Import 'auto_claims_population.csv'"
   ]
  },
  {
   "cell_type": "code",
   "execution_count": 116,
   "id": "3d52738c",
   "metadata": {},
   "outputs": [],
   "source": [
    "# Q11: your answer will be tested!\n",
    "Q11 = None # Assign either 'A', 'B', 'C', or 'D' to `Q11` instead of `None`\n",
    "# E.g., Q11 = 'A'"
   ]
  },
  {
   "cell_type": "code",
   "execution_count": 121,
   "id": "adc91616",
   "metadata": {},
   "outputs": [],
   "source": [
    "test = Q11=='A'"
   ]
  },
  {
   "cell_type": "code",
   "execution_count": 127,
   "id": "625be797",
   "metadata": {},
   "outputs": [
    {
     "ename": "AssertionError",
     "evalue": "Consider consulting the above functions...",
     "output_type": "error",
     "traceback": [
      "\u001b[0;31m---------------------------------------------------------------------------\u001b[0m",
      "\u001b[0;31mAssertionError\u001b[0m                            Traceback (most recent call last)",
      "Cell \u001b[0;32mIn[127], line 5\u001b[0m\n\u001b[1;32m      1\u001b[0m \u001b[38;5;66;03m# test_Q11\u001b[39;00m\n\u001b[1;32m      2\u001b[0m \n\u001b[1;32m      3\u001b[0m \u001b[38;5;66;03m# pd.read_csv('auto_claims_population.csv').describe()\u001b[39;00m\n\u001b[1;32m      4\u001b[0m \u001b[38;5;66;03m# pd.read_csv('auto_claims.csv').describe()\u001b[39;00m\n\u001b[0;32m----> 5\u001b[0m \u001b[38;5;28;01massert\u001b[39;00m test, \u001b[38;5;124m\"\u001b[39m\u001b[38;5;124mConsider consulting the above functions...\u001b[39m\u001b[38;5;124m\"\u001b[39m\n",
      "\u001b[0;31mAssertionError\u001b[0m: Consider consulting the above functions..."
     ]
    }
   ],
   "source": [
    "# test_Q11\n",
    "\n",
    "# pd.read_csv('auto_claims_population.csv').describe()\n",
    "# pd.read_csv('auto_claims.csv').describe()\n",
    "assert test, \"Consider consulting the above functions...\""
   ]
  },
  {
   "cell_type": "markdown",
   "id": "ea681f94",
   "metadata": {},
   "source": [
    "### Q12: Which of the following gives the best extended follow-up explanation for the previous problem?\n",
    "\n",
    "A. The sample is a very poor representation of the population as judged by their relative difference in standard deviation, which is why the 95% bootstrap confidence interval was not able to capture the true population median. \n",
    "\n",
    "B. The sample is a very poor representation of the population as judged by their relative difference in standard deviation; but, since the sample median was close to the population median, the 95% bootstrap confidence interval was always going to very easily capture the true population median. \n",
    "\n",
    "C. The sample is a fairly good representation of the population; but, since the sample median was very different from the population median, the 95% bootstrap confidence interval was not able to capture the true population median. \n",
    "\n",
    "D. The sample is a fairly good representation of the population; and, since the sample median was very close to the population median, the 95% bootstrap confidence interval was always going to very easily capture the true population median.  \n"
   ]
  },
  {
   "cell_type": "code",
   "execution_count": null,
   "id": "c733bbb0",
   "metadata": {},
   "outputs": [],
   "source": [
    "# Q12: your answer will be tested!\n",
    "Q12 = None # Assign either 'A', 'B', 'C', or 'D' to `Q12` instead of `None`\n",
    "# E.g., Q12 = 'A'"
   ]
  },
  {
   "cell_type": "code",
   "execution_count": null,
   "id": "be22be8f",
   "metadata": {},
   "outputs": [],
   "source": [
    "test = Q12=='D'"
   ]
  },
  {
   "cell_type": "code",
   "execution_count": 125,
   "id": "aa31857a",
   "metadata": {},
   "outputs": [
    {
     "ename": "AssertionError",
     "evalue": "Have a look at these two distributions side by side with a boxplot",
     "output_type": "error",
     "traceback": [
      "\u001b[0;31m---------------------------------------------------------------------------\u001b[0m",
      "\u001b[0;31mAssertionError\u001b[0m                            Traceback (most recent call last)",
      "Cell \u001b[0;32mIn[125], line 5\u001b[0m\n\u001b[1;32m      1\u001b[0m \u001b[38;5;66;03m# test_Q12\u001b[39;00m\n\u001b[1;32m      2\u001b[0m \n\u001b[1;32m      3\u001b[0m \u001b[38;5;66;03m# px.box(pd.DataFrame({'x1':pd.read_csv('auto_claims_population.csv').PAID,\u001b[39;00m\n\u001b[1;32m      4\u001b[0m \u001b[38;5;66;03m#                      'x2':pd.read_csv('auto_claims.csv').PAID}))\u001b[39;00m\n\u001b[0;32m----> 5\u001b[0m \u001b[38;5;28;01massert\u001b[39;00m test, \u001b[38;5;124m\"\u001b[39m\u001b[38;5;124mHave a look at these two distributions side by side with a boxplot\u001b[39m\u001b[38;5;124m\"\u001b[39m\n",
      "\u001b[0;31mAssertionError\u001b[0m: Have a look at these two distributions side by side with a boxplot"
     ]
    }
   ],
   "source": [
    "# test_Q12\n",
    "\n",
    "# px.box(pd.DataFrame({'x1':pd.read_csv('auto_claims_population.csv').PAID,\n",
    "#                      'x2':pd.read_csv('auto_claims.csv').PAID}))\n",
    "assert test, \"Have a look at these two distributions side by side with a boxplot\""
   ]
  },
  {
   "cell_type": "markdown",
   "id": "e08f001b",
   "metadata": {},
   "source": [
    "### Q13: Create 1000 samples of sample size $n=500$ from the population of claims stored in the `auto_claims_population.csv` data set; use `plotly` to visualize the simiulated sampling distrubution of the median paid claims based on these 1000 samples; and choose which of the following options is correct. \n",
    "\n",
    "#### Use `fig.add_vline(x=...)` and `fig.add_annotation` to mark the mean of these medians, the `auto_claims_population.csv` population median, and the `auto_claims.csv` sample median on this visualization. \n",
    "\n",
    "A. The mean of the sampling distribution of the sample medians is unexpectedly close to the population median; and, in this case the `auto_claims.csv` sample median happens to not be a very unusual value relative to this sampling distribution either, indicating this sample is likely not very representative of the population.\n",
    "\n",
    "B. The mean of the sampling distribution of the sample medians is unexpectedly close to the population median; whereas, in this case the `auto_claims.csv` sample median is very unusual value relative to this sampling distribution, indicating this sample is likely not very representative of the population.\n",
    "\n",
    "C. The mean of the sampling distribution of the sample medians is very close to the population median, as would be expected; and, in this case the `auto_claims.csv` sample median happens to not be a very unusual value relative to this sampling distribution either, indicating this sample is likely relatively representative of the population (at least with respect to the population median).\n",
    "\n",
    "D. The mean of the sampling distribution of the sample medians is very close to the population median, as would be expected; whereas, in this case the `auto_claims.csv` sample median is very unusual value relative to this sampling distribution, indicating this sample is likely not very representative of the population. \n",
    "\n",
    "> - Hint 1: Ensure each sample is created without replacement, so there are no repeated observations within each sample: <br>**this question is not asking for bootstrapping... it's asking you to create 1000 different samples from a population...**\n",
    "> - Hint 2: The default for `df.sample()` is `replace=False`, whereas the default for `np.random.choice(x, n)` is `replace=True`.\n",
    "\n",
    "- Your `for` loop code and figure will be manually confirmed (for the correct usage of `replace=False`, etc.) during marking."
   ]
  },
  {
   "cell_type": "code",
   "execution_count": 31,
   "id": "72fc7577",
   "metadata": {},
   "outputs": [],
   "source": [
    "# Create 1000 samples from the `auto_claims_population.csv` population.\n",
    "# Visualize the medians created from each of these samples, their average, and the\n",
    "# relative `auto_claims_population.csv` population and `auto_claims.csv` sample medians.\n"
   ]
  },
  {
   "cell_type": "code",
   "execution_count": 167,
   "id": "110ea0fc",
   "metadata": {},
   "outputs": [
    {
     "data": {
      "application/vnd.plotly.v1+json": {
       "config": {
        "plotlyServerURL": "https://plot.ly"
       },
       "data": [
        {
         "alignmentgroup": "True",
         "bingroup": "x",
         "histnorm": "probability density",
         "hovertemplate": "Sample Medians=%{x}<br>probability density=%{y}<extra></extra>",
         "legendgroup": "",
         "marker": {
          "color": "#636efa",
          "pattern": {
           "shape": ""
          }
         },
         "name": "",
         "nbinsx": 10,
         "offsetgroup": "",
         "orientation": "v",
         "showlegend": false,
         "type": "histogram",
         "x": [
          1063.895,
          1038.385,
          1120.82,
          1049.2649999999999,
          1079.7350000000001,
          1126.06,
          1026.7549999999999,
          1053.0949999999998,
          1036.9099999999999,
          1035.885,
          1069.375,
          1078.03,
          1010.12,
          1034.435,
          1062.8400000000001,
          1034.435,
          1046.96,
          956.89,
          1119.2150000000001,
          1042.72,
          1053.0949999999998,
          1088.6550000000002,
          1070.96,
          1070.96,
          1099.38,
          1049.2649999999999,
          988.5350000000001,
          1053.6999999999998,
          1097.75,
          1042.72,
          1023.8499999999999,
          1088.6550000000002,
          1110.62,
          1053.355,
          1092.9099999999999,
          1062.595,
          992.36,
          1078.03,
          1052.75,
          1049.2649999999999,
          1097.525,
          1057.185,
          1013.06,
          1009.495,
          1024.4099999999999,
          1043.5500000000002,
          1085.22,
          1026.7549999999999,
          990.915,
          1053.0949999999998,
          1043.1750000000002,
          984.4300000000001,
          1046.96,
          1138.2150000000001,
          1046.81,
          1014.4549999999999,
          961.87,
          977.79,
          1035.29,
          1042.5700000000002,
          1097.525,
          1078.03,
          1092.9099999999999,
          1024.4099999999999,
          1042.72,
          1094.56,
          1063.1,
          1090.58,
          992.835,
          1043.5500000000002,
          1010.12,
          985.965,
          1103.395,
          991.8,
          1045.68,
          1059.795,
          1043.5500000000002,
          1042.72,
          1050.6399999999999,
          1097.73,
          1099.1550000000002,
          1059.5349999999999,
          1114.6350000000002,
          1114.6350000000002,
          1100.535,
          1060.5900000000001,
          1130.4,
          1049.2649999999999,
          1122.9099999999999,
          1110.9,
          1065.9850000000001,
          1047.155,
          1148.2649999999999,
          1012.4300000000001,
          1074.6399999999999,
          1098.7600000000002,
          1126.85,
          1106.605,
          1013.3,
          1087.815,
          1039.42,
          992.835,
          1046.96,
          989.1800000000001,
          1011.565,
          1084.305,
          1025.135,
          1090.58,
          1049.2649999999999,
          1057.185,
          1042.5700000000002,
          1063.895,
          1062.335,
          1151.8600000000001,
          1052.225,
          1096.495,
          1042.1950000000002,
          1119.2150000000001,
          1043.5500000000002,
          1014.4549999999999,
          1044.85,
          973.04,
          1112.1550000000002,
          1042.72,
          1089.5700000000002,
          1079.7350000000001,
          1025.135,
          1049.2649999999999,
          1036.9099999999999,
          1036.0549999999998,
          1068.0749999999998,
          1151.8600000000001,
          1044.65,
          1053.0949999999998,
          1080.625,
          1042.5700000000002,
          1040.065,
          1044.305,
          1090.58,
          1046.96,
          1047.3049999999998,
          1080.625,
          1057.185,
          1130.4,
          1026.585,
          1060.5900000000001,
          1038.2150000000001,
          1117.4,
          1060.49,
          1059.5349999999999,
          1059.5349999999999,
          1035.885,
          1092.9099999999999,
          1030.565,
          1041.04,
          1042.5700000000002,
          1035.885,
          1014.31,
          1010.3599999999999,
          1013.825,
          1119.005,
          1097.525,
          1004.905,
          1009.495,
          1089.74,
          992.835,
          1047.3049999999998,
          1087.815,
          1084.305,
          983.99,
          975.22,
          1097.525,
          991.9200000000001,
          1069.375,
          1121.6100000000001,
          1025.135,
          1014.55,
          1063.895,
          1046.96,
          1084.305,
          1025.73,
          961.87,
          992.36,
          1090.58,
          1119.795,
          1040.8899999999999,
          1057.185,
          1053.1399999999999,
          1059.5349999999999,
          1065.9850000000001,
          1002.4549999999999,
          1092.74,
          1059.9850000000001,
          1126.06,
          961.87,
          1117.75,
          1038.5900000000001,
          1085.22,
          993.0350000000001,
          1000.62,
          1049.2649999999999,
          1042.5700000000002,
          1085.22,
          1059.19,
          992.36,
          1114.355,
          1110.9,
          1013.825,
          1130.4,
          1048.135,
          948.495,
          1013.06,
          1035.885,
          998.53,
          1060.49,
          1040.87,
          941.6800000000001,
          1106.75,
          1096.1,
          991.8,
          1084.305,
          1001.59,
          1003.12,
          1042.1950000000002,
          998.53,
          1025.73,
          1055.445,
          992.715,
          1042.5700000000002,
          1004.905,
          1087.815,
          1024.4099999999999,
          1063.1,
          1084.305,
          1065.9850000000001,
          1062.595,
          961.78,
          1084.305,
          1045.83,
          1035.885,
          1011.8050000000001,
          1045.68,
          1014.55,
          1006.35,
          1059.19,
          1126.85,
          991.8,
          1049.2649999999999,
          1093.94,
          1097.75,
          1063.895,
          1100.535,
          1074.6399999999999,
          1206.445,
          1060.5900000000001,
          1098.7600000000002,
          988.2950000000001,
          1025.135,
          1038.76,
          1100.535,
          1042.5700000000002,
          1037.3600000000001,
          1053.0949999999998,
          1053.355,
          1003.12,
          1098.145,
          1061.54,
          1092.9099999999999,
          994.4449999999999,
          1065.48,
          1091.9,
          1025.135,
          1006.35,
          1089.74,
          1113.1,
          1025.135,
          1065.9850000000001,
          1110.62,
          943.7049999999999,
          1078.03,
          1044.85,
          1120.82,
          1043.5500000000002,
          1057.185,
          1044.85,
          1006.35,
          1099.525,
          1040.065,
          1087.815,
          1004.905,
          1084.305,
          1035.46,
          1040.065,
          994.245,
          1110.62,
          1071.495,
          1047.155,
          1114.6350000000002,
          1037.7350000000001,
          1084.305,
          1099.38,
          1025.135,
          1025.73,
          1064.685,
          941.6800000000001,
          1040.065,
          1006.35,
          1097.525,
          1061.54,
          1099.38,
          1014.31,
          1062.335,
          1012.4300000000001,
          1063.895,
          1063.895,
          997.475,
          1045.83,
          1097.525,
          1053.6999999999998,
          1048.51,
          993.0350000000001,
          1092.74,
          1069.375,
          1049.2649999999999,
          991.8,
          1042.5700000000002,
          1195.56,
          1061.54,
          1089.5700000000002,
          1106.75,
          1013.825,
          1053.0949999999998,
          1114.355,
          1094.3899999999999,
          1000.8199999999999,
          983.99,
          1057.185,
          968.06,
          992.835,
          1090.58,
          1007.2149999999999,
          1099.525,
          1119.2150000000001,
          1074.6399999999999,
          1024.4099999999999,
          1042.345,
          1122.9099999999999,
          1042.345,
          1047.79,
          1116.145,
          1080.88,
          1119.2150000000001,
          1042.345,
          1042.5700000000002,
          1098.145,
          993.77,
          1106.605,
          1006.975,
          1006.35,
          1074.6399999999999,
          1014.4549999999999,
          1099.525,
          1080.625,
          1036.9099999999999,
          1047.79,
          1078.03,
          1009.495,
          1114.6350000000002,
          1025.135,
          953.155,
          988.5350000000001,
          984.4300000000001,
          1092.93,
          1014.4549999999999,
          1049.2649999999999,
          988.5350000000001,
          1053.0949999999998,
          1089.5700000000002,
          1053.6999999999998,
          988.2950000000001,
          1057.185,
          1035.885,
          1052.75,
          1040.8899999999999,
          1059.5349999999999,
          950.3199999999999,
          1097.525,
          1143.065,
          1092.74,
          988.5350000000001,
          1061.54,
          1027.335,
          1002.8900000000001,
          1087.815,
          1063.1,
          1048.135,
          1025.8600000000001,
          1100.535,
          954.62,
          1013.3,
          1062.595,
          994.245,
          1035.885,
          1065.9850000000001,
          1013.3,
          1078.03,
          1096.495,
          1100.535,
          1109.795,
          1070.96,
          1061.54,
          1003.12,
          1012.4300000000001,
          1096.1,
          1042.345,
          991.8,
          1070.96,
          1047.79,
          1053.6999999999998,
          997.675,
          1025.135,
          1028.06,
          993.3900000000001,
          1089.74,
          1085.22,
          990.715,
          1057.185,
          1092.74,
          1062.0749999999998,
          1003.12,
          1180.995,
          1077.4050000000002,
          1063.1,
          1040.065,
          1081.54,
          1156.4450000000002,
          1042.345,
          942.92,
          1059.5349999999999,
          1093.94,
          1207.23,
          1011.565,
          1013.06,
          1048.135,
          1036.9099999999999,
          1119.2150000000001,
          943.825,
          994.4449999999999,
          964.05,
          1074.0900000000001,
          1013.06,
          1023.885,
          1062.335,
          1047.79,
          991.8,
          1097.75,
          1061.54,
          1115.865,
          1084.305,
          1013.3,
          1034.435,
          1097.75,
          1070.96,
          1099.38,
          1014.4549999999999,
          961.4200000000001,
          990.475,
          1042.5700000000002,
          1077.4050000000002,
          1006.975,
          1135.1999999999998,
          1092.015,
          1106.75,
          1037.3600000000001,
          1011.8050000000001,
          1087.815,
          1034.435,
          1034.435,
          1092.015,
          1026.585,
          1058.9299999999998,
          990.715,
          990.715,
          1013.06,
          1100.535,
          1034.435,
          1040.8899999999999,
          1051.395,
          1055.705,
          1055.445,
          1060.5900000000001,
          1061.54,
          1046.96,
          1038.76,
          1098.145,
          1036.9099999999999,
          1046.96,
          1087.815,
          1064.425,
          1094.3899999999999,
          1049.2649999999999,
          1015.7049999999999,
          1126.06,
          1057.185,
          1012.4300000000001,
          1097.75,
          989.62,
          1057.185,
          1015.7049999999999,
          1036.7649999999999,
          1009.495,
          1025.135,
          1038.2150000000001,
          1013.3,
          1047.79,
          993.3900000000001,
          987.855,
          1061.54,
          1091.9,
          989.1800000000001,
          1090.58,
          1025.005,
          1035.885,
          1014.4549999999999,
          1146.08,
          1036.7649999999999,
          1061.54,
          1025.135,
          1026.585,
          1035.46,
          1114.6350000000002,
          1063.895,
          1014.4549999999999,
          1046.81,
          941.6800000000001,
          1042.1950000000002,
          1092.74,
          1087.815,
          1025.73,
          1025.005,
          1037.3600000000001,
          1146.08,
          1026.585,
          1117.705,
          993.3900000000001,
          1081.54,
          1131.205,
          1049.2649999999999,
          1096.495,
          1053.6999999999998,
          1064.425,
          1034.435,
          1045.68,
          1093.94,
          990.715,
          1117.705,
          1156.045,
          1047.79,
          989.83,
          1035.885,
          1049.2649999999999,
          1092.74,
          998.53,
          1030.565,
          1049.2649999999999,
          1013.06,
          1061.54,
          1050.6399999999999,
          1059.5349999999999,
          1092.015,
          1043.5500000000002,
          1062.595,
          1098.145,
          1131.605,
          1051.395,
          1104.5500000000002,
          1097.525,
          1078.03,
          1120.82,
          1042.5700000000002,
          1047.3049999999998,
          1001.675,
          954.62,
          1034.435,
          1092.9099999999999,
          1040.0149999999999,
          1089.74,
          1086.06,
          1042.1950000000002,
          1014.4549999999999,
          992.36,
          1140.4,
          1041.87,
          1070.96,
          1013.3,
          1044.85,
          1131.205,
          1004.905,
          1141.935,
          1130.4,
          1099.38,
          1071.755,
          1113.1,
          1110.9,
          1044.85,
          1097.525,
          1126.46,
          1088.825,
          1011.8050000000001,
          1011.565,
          1013.3,
          1114.355,
          1099.3000000000002,
          1051.62,
          1014.4549999999999,
          1015.7049999999999,
          1013.3,
          1059.795,
          1035.46,
          1015.18,
          1087.815,
          992.835,
          1136.005,
          1042.5700000000002,
          1046.96,
          1089.815,
          1048.135,
          1070.96,
          1025.135,
          1136.005,
          1104.5500000000002,
          992.36,
          1014.4549999999999,
          1096.495,
          1049.2649999999999,
          1098.145,
          1099.585,
          1004.905,
          1045.83,
          1113.1,
          1110.62,
          992.715,
          1096.1,
          1036.9099999999999,
          1084.305,
          956.89,
          1089.5700000000002,
          1025.135,
          1074.6399999999999,
          1062.595,
          1076.06,
          997.475,
          1012.4300000000001,
          1025.005,
          993.3900000000001,
          966.4000000000001,
          1097.525,
          1110.62,
          1043.5500000000002,
          966.4000000000001,
          1094.335,
          991.9200000000001,
          1156.4450000000002,
          1072.5500000000002,
          1040.065,
          1106.605,
          1143.065,
          1035.885,
          1086.23,
          1080.625,
          1053.355,
          1156.4450000000002,
          1087.815,
          964.05,
          1061.54,
          1011.8050000000001,
          1038.2150000000001,
          1042.72,
          1098.145,
          1063.1,
          1078.15,
          1084.305,
          1023.2549999999999,
          1089.74,
          1087.815,
          1053.0949999999998,
          1040.065,
          1040.065,
          1044.85,
          1042.5700000000002,
          1011.565,
          990.715,
          1122.9099999999999,
          1013.825,
          1014.55,
          1044.85,
          1126.06,
          1065.9850000000001,
          1063.895,
          1098.145,
          1046.96,
          954.62,
          1059.5349999999999,
          1089.74,
          997.675,
          1025.135,
          1126.85,
          1005.01,
          1114.355,
          1088.825,
          1012.4300000000001,
          1065.48,
          1113.1,
          959.24,
          1065.9850000000001,
          986.56,
          993.0350000000001,
          1069.375,
          1042.72,
          1013.585,
          994.245,
          1059.5349999999999,
          1036.9099999999999,
          1134.8,
          983.99,
          1057.185,
          1036.0549999999998,
          1044.85,
          1148.995,
          1036.0549999999998,
          993.0350000000001,
          1044.85,
          1096.1,
          957.25,
          1025.135,
          1057.185,
          1053.0949999999998,
          1025.135,
          1050.79,
          1061.54,
          1059.5349999999999,
          1098.145,
          1147.815,
          1012.4300000000001,
          1052.75,
          1065.48,
          1062.595,
          1069.375,
          1063.1,
          1009.495,
          1042.5700000000002,
          1036.9099999999999,
          1110.62,
          1086.23,
          1053.6999999999998,
          1060.5900000000001,
          992.915,
          1013.06,
          1050.79,
          1038.385,
          1001.7750000000001,
          1093.94,
          1094.56,
          985.725,
          992.36,
          1024.4099999999999,
          1012.4300000000001,
          1120.5149999999999,
          990.475,
          1038.2150000000001,
          994.4449999999999,
          1028.06,
          1010.12,
          1113.1,
          1078.03,
          1062.595,
          1074.6399999999999,
          988.5350000000001,
          1099.1550000000002,
          992.36,
          1012.4300000000001,
          1053.6999999999998,
          1012.96,
          992.835,
          1011.565,
          1078.03,
          993.89,
          1042.5700000000002,
          1059.5349999999999,
          1036.9099999999999,
          1013.06,
          1063.895,
          1100.535,
          1106.75,
          1013.585,
          1092.9099999999999,
          1124.455,
          1053.0949999999998,
          950.6800000000001,
          1038.385,
          1103.17,
          1043.1750000000002,
          992.835,
          1059.795,
          1084.305,
          1025.73,
          1090.58,
          957.25,
          1042.1950000000002,
          1065.48,
          1044.85,
          1143.065,
          1052.75,
          994.245,
          1046.96,
          1048.135,
          1077.0700000000002,
          1114.6350000000002,
          1062.335,
          1131.605,
          1038.76,
          953.155,
          1057.185,
          1068.87,
          943.7049999999999,
          1080.625,
          1049.2649999999999,
          1065.9850000000001,
          1035.29,
          1100.535,
          1053.6999999999998,
          1063.895,
          1094.56,
          993.89,
          1100.535,
          1065.9850000000001,
          1126.85,
          1104.5500000000002,
          1070.96,
          1099.38,
          1042.72,
          1038.2150000000001,
          1012.4300000000001,
          1059.5349999999999,
          1063.895,
          1081.54,
          1041.04,
          1086.06,
          1084.305,
          1052.75,
          991.9200000000001,
          1099.585,
          1089.5700000000002,
          1038.2150000000001,
          1063.1,
          998.53,
          1100.535,
          1015.7049999999999,
          977.79,
          1104.4050000000002,
          1098.7600000000002,
          1014.4549999999999,
          1015.7049999999999,
          1038.76,
          992.36,
          943.7049999999999,
          1038.385,
          959.24,
          1045.83,
          1015.7049999999999,
          1084.305,
          1053.6999999999998,
          1034.435,
          1038.2150000000001,
          994.4449999999999,
          1089.5700000000002,
          1001.675,
          998.53,
          1010.3599999999999,
          1062.595,
          1047.3049999999998,
          997.675,
          953.155,
          1097.525,
          1042.5700000000002,
          1009.495,
          1014.4549999999999,
          1014.55,
          1047.79,
          1047.79,
          933.24,
          1060.49,
          1089.5700000000002,
          1086.06,
          1137.815,
          989.1800000000001,
          1062.595,
          943.7049999999999,
          1068.87,
          1106.8850000000002,
          1089.5700000000002,
          1096.1,
          1059.5349999999999,
          1011.565,
          1041.04,
          1159.45,
          990.475,
          1057.185,
          1062.6799999999998,
          992.36,
          1042.5700000000002,
          1062.8400000000001,
          1035.46,
          1040.8899999999999,
          992.835,
          1065.48,
          1015.7049999999999,
          1038.76,
          1139.02,
          1015.7049999999999,
          1070.96,
          1040.065,
          1011.8050000000001,
          1035.885,
          1038.385,
          1042.72,
          1054.23,
          1013.3,
          990.475,
          1096.7199999999998,
          1025.8600000000001,
          1025.135,
          1117.4,
          1053.6999999999998,
          1120.82,
          1088.6550000000002,
          1040.065,
          946.0899999999999,
          1097.525,
          1036.9099999999999,
          1121.6100000000001,
          1093.77,
          1099.3000000000002,
          1130.4,
          1077.2350000000001,
          1011.565,
          1094.335,
          1059.19,
          1099.38,
          1003.745,
          1059.5349999999999,
          1023.2549999999999,
          1075.65,
          1053.355,
          992.835,
          1011.8050000000001,
          1059.5349999999999,
          1038.385,
          1013.825,
          1096.495,
          1011.8050000000001,
          1038.2150000000001,
          1044.68,
          1052.75,
          1053.0949999999998,
          1093.94,
          1059.9850000000001,
          1040.8899999999999,
          1058.245,
          1038.76,
          1059.5349999999999,
          1044.305,
          1098.9050000000002,
          1052.225,
          1093.77,
          1057.185,
          1011.8050000000001,
          1043.1750000000002,
          1025.005,
          1126.85,
          1000.62,
          994.4449999999999,
          1081.54,
          1057.185,
          1090.58,
          1065.48,
          1035.29,
          1045.83,
          1063.895,
          1059.19,
          1012.4300000000001,
          1049.2649999999999,
          1042.5700000000002,
          1053.0949999999998,
          1059.795,
          1049.2649999999999,
          1124.76,
          1014.4549999999999,
          1106.605,
          1063.1
         ],
         "xaxis": "x",
         "yaxis": "y"
        }
       ],
       "layout": {
        "annotations": [
         {
          "text": "median average",
          "x": 1052.029335,
          "y": 0
         },
         {
          "text": "sample median",
          "x": 1042.345,
          "y": 0.001
         },
         {
          "text": "population median",
          "x": 1049.2649999999999,
          "y": 0.002
         }
        ],
        "barmode": "relative",
        "legend": {
         "tracegroupgap": 0
        },
        "margin": {
         "t": 60
        },
        "shapes": [
         {
          "type": "line",
          "x0": 1052.029335,
          "x1": 1052.029335,
          "xref": "x",
          "y0": 0,
          "y1": 1,
          "yref": "y domain"
         },
         {
          "line": {
           "color": "red"
          },
          "type": "line",
          "x0": 1042.345,
          "x1": 1042.345,
          "xref": "x",
          "y0": 0,
          "y1": 1,
          "yref": "y domain"
         },
         {
          "line": {
           "color": "blue"
          },
          "type": "line",
          "x0": 1049.2649999999999,
          "x1": 1049.2649999999999,
          "xref": "x",
          "y0": 0,
          "y1": 1,
          "yref": "y domain"
         }
        ],
        "template": {
         "data": {
          "bar": [
           {
            "error_x": {
             "color": "#2a3f5f"
            },
            "error_y": {
             "color": "#2a3f5f"
            },
            "marker": {
             "line": {
              "color": "#E5ECF6",
              "width": 0.5
             },
             "pattern": {
              "fillmode": "overlay",
              "size": 10,
              "solidity": 0.2
             }
            },
            "type": "bar"
           }
          ],
          "barpolar": [
           {
            "marker": {
             "line": {
              "color": "#E5ECF6",
              "width": 0.5
             },
             "pattern": {
              "fillmode": "overlay",
              "size": 10,
              "solidity": 0.2
             }
            },
            "type": "barpolar"
           }
          ],
          "carpet": [
           {
            "aaxis": {
             "endlinecolor": "#2a3f5f",
             "gridcolor": "white",
             "linecolor": "white",
             "minorgridcolor": "white",
             "startlinecolor": "#2a3f5f"
            },
            "baxis": {
             "endlinecolor": "#2a3f5f",
             "gridcolor": "white",
             "linecolor": "white",
             "minorgridcolor": "white",
             "startlinecolor": "#2a3f5f"
            },
            "type": "carpet"
           }
          ],
          "choropleth": [
           {
            "colorbar": {
             "outlinewidth": 0,
             "ticks": ""
            },
            "type": "choropleth"
           }
          ],
          "contour": [
           {
            "colorbar": {
             "outlinewidth": 0,
             "ticks": ""
            },
            "colorscale": [
             [
              0,
              "#0d0887"
             ],
             [
              0.1111111111111111,
              "#46039f"
             ],
             [
              0.2222222222222222,
              "#7201a8"
             ],
             [
              0.3333333333333333,
              "#9c179e"
             ],
             [
              0.4444444444444444,
              "#bd3786"
             ],
             [
              0.5555555555555556,
              "#d8576b"
             ],
             [
              0.6666666666666666,
              "#ed7953"
             ],
             [
              0.7777777777777778,
              "#fb9f3a"
             ],
             [
              0.8888888888888888,
              "#fdca26"
             ],
             [
              1,
              "#f0f921"
             ]
            ],
            "type": "contour"
           }
          ],
          "contourcarpet": [
           {
            "colorbar": {
             "outlinewidth": 0,
             "ticks": ""
            },
            "type": "contourcarpet"
           }
          ],
          "heatmap": [
           {
            "colorbar": {
             "outlinewidth": 0,
             "ticks": ""
            },
            "colorscale": [
             [
              0,
              "#0d0887"
             ],
             [
              0.1111111111111111,
              "#46039f"
             ],
             [
              0.2222222222222222,
              "#7201a8"
             ],
             [
              0.3333333333333333,
              "#9c179e"
             ],
             [
              0.4444444444444444,
              "#bd3786"
             ],
             [
              0.5555555555555556,
              "#d8576b"
             ],
             [
              0.6666666666666666,
              "#ed7953"
             ],
             [
              0.7777777777777778,
              "#fb9f3a"
             ],
             [
              0.8888888888888888,
              "#fdca26"
             ],
             [
              1,
              "#f0f921"
             ]
            ],
            "type": "heatmap"
           }
          ],
          "heatmapgl": [
           {
            "colorbar": {
             "outlinewidth": 0,
             "ticks": ""
            },
            "colorscale": [
             [
              0,
              "#0d0887"
             ],
             [
              0.1111111111111111,
              "#46039f"
             ],
             [
              0.2222222222222222,
              "#7201a8"
             ],
             [
              0.3333333333333333,
              "#9c179e"
             ],
             [
              0.4444444444444444,
              "#bd3786"
             ],
             [
              0.5555555555555556,
              "#d8576b"
             ],
             [
              0.6666666666666666,
              "#ed7953"
             ],
             [
              0.7777777777777778,
              "#fb9f3a"
             ],
             [
              0.8888888888888888,
              "#fdca26"
             ],
             [
              1,
              "#f0f921"
             ]
            ],
            "type": "heatmapgl"
           }
          ],
          "histogram": [
           {
            "marker": {
             "pattern": {
              "fillmode": "overlay",
              "size": 10,
              "solidity": 0.2
             }
            },
            "type": "histogram"
           }
          ],
          "histogram2d": [
           {
            "colorbar": {
             "outlinewidth": 0,
             "ticks": ""
            },
            "colorscale": [
             [
              0,
              "#0d0887"
             ],
             [
              0.1111111111111111,
              "#46039f"
             ],
             [
              0.2222222222222222,
              "#7201a8"
             ],
             [
              0.3333333333333333,
              "#9c179e"
             ],
             [
              0.4444444444444444,
              "#bd3786"
             ],
             [
              0.5555555555555556,
              "#d8576b"
             ],
             [
              0.6666666666666666,
              "#ed7953"
             ],
             [
              0.7777777777777778,
              "#fb9f3a"
             ],
             [
              0.8888888888888888,
              "#fdca26"
             ],
             [
              1,
              "#f0f921"
             ]
            ],
            "type": "histogram2d"
           }
          ],
          "histogram2dcontour": [
           {
            "colorbar": {
             "outlinewidth": 0,
             "ticks": ""
            },
            "colorscale": [
             [
              0,
              "#0d0887"
             ],
             [
              0.1111111111111111,
              "#46039f"
             ],
             [
              0.2222222222222222,
              "#7201a8"
             ],
             [
              0.3333333333333333,
              "#9c179e"
             ],
             [
              0.4444444444444444,
              "#bd3786"
             ],
             [
              0.5555555555555556,
              "#d8576b"
             ],
             [
              0.6666666666666666,
              "#ed7953"
             ],
             [
              0.7777777777777778,
              "#fb9f3a"
             ],
             [
              0.8888888888888888,
              "#fdca26"
             ],
             [
              1,
              "#f0f921"
             ]
            ],
            "type": "histogram2dcontour"
           }
          ],
          "mesh3d": [
           {
            "colorbar": {
             "outlinewidth": 0,
             "ticks": ""
            },
            "type": "mesh3d"
           }
          ],
          "parcoords": [
           {
            "line": {
             "colorbar": {
              "outlinewidth": 0,
              "ticks": ""
             }
            },
            "type": "parcoords"
           }
          ],
          "pie": [
           {
            "automargin": true,
            "type": "pie"
           }
          ],
          "scatter": [
           {
            "fillpattern": {
             "fillmode": "overlay",
             "size": 10,
             "solidity": 0.2
            },
            "type": "scatter"
           }
          ],
          "scatter3d": [
           {
            "line": {
             "colorbar": {
              "outlinewidth": 0,
              "ticks": ""
             }
            },
            "marker": {
             "colorbar": {
              "outlinewidth": 0,
              "ticks": ""
             }
            },
            "type": "scatter3d"
           }
          ],
          "scattercarpet": [
           {
            "marker": {
             "colorbar": {
              "outlinewidth": 0,
              "ticks": ""
             }
            },
            "type": "scattercarpet"
           }
          ],
          "scattergeo": [
           {
            "marker": {
             "colorbar": {
              "outlinewidth": 0,
              "ticks": ""
             }
            },
            "type": "scattergeo"
           }
          ],
          "scattergl": [
           {
            "marker": {
             "colorbar": {
              "outlinewidth": 0,
              "ticks": ""
             }
            },
            "type": "scattergl"
           }
          ],
          "scattermapbox": [
           {
            "marker": {
             "colorbar": {
              "outlinewidth": 0,
              "ticks": ""
             }
            },
            "type": "scattermapbox"
           }
          ],
          "scatterpolar": [
           {
            "marker": {
             "colorbar": {
              "outlinewidth": 0,
              "ticks": ""
             }
            },
            "type": "scatterpolar"
           }
          ],
          "scatterpolargl": [
           {
            "marker": {
             "colorbar": {
              "outlinewidth": 0,
              "ticks": ""
             }
            },
            "type": "scatterpolargl"
           }
          ],
          "scatterternary": [
           {
            "marker": {
             "colorbar": {
              "outlinewidth": 0,
              "ticks": ""
             }
            },
            "type": "scatterternary"
           }
          ],
          "surface": [
           {
            "colorbar": {
             "outlinewidth": 0,
             "ticks": ""
            },
            "colorscale": [
             [
              0,
              "#0d0887"
             ],
             [
              0.1111111111111111,
              "#46039f"
             ],
             [
              0.2222222222222222,
              "#7201a8"
             ],
             [
              0.3333333333333333,
              "#9c179e"
             ],
             [
              0.4444444444444444,
              "#bd3786"
             ],
             [
              0.5555555555555556,
              "#d8576b"
             ],
             [
              0.6666666666666666,
              "#ed7953"
             ],
             [
              0.7777777777777778,
              "#fb9f3a"
             ],
             [
              0.8888888888888888,
              "#fdca26"
             ],
             [
              1,
              "#f0f921"
             ]
            ],
            "type": "surface"
           }
          ],
          "table": [
           {
            "cells": {
             "fill": {
              "color": "#EBF0F8"
             },
             "line": {
              "color": "white"
             }
            },
            "header": {
             "fill": {
              "color": "#C8D4E3"
             },
             "line": {
              "color": "white"
             }
            },
            "type": "table"
           }
          ]
         },
         "layout": {
          "annotationdefaults": {
           "arrowcolor": "#2a3f5f",
           "arrowhead": 0,
           "arrowwidth": 1
          },
          "autotypenumbers": "strict",
          "coloraxis": {
           "colorbar": {
            "outlinewidth": 0,
            "ticks": ""
           }
          },
          "colorscale": {
           "diverging": [
            [
             0,
             "#8e0152"
            ],
            [
             0.1,
             "#c51b7d"
            ],
            [
             0.2,
             "#de77ae"
            ],
            [
             0.3,
             "#f1b6da"
            ],
            [
             0.4,
             "#fde0ef"
            ],
            [
             0.5,
             "#f7f7f7"
            ],
            [
             0.6,
             "#e6f5d0"
            ],
            [
             0.7,
             "#b8e186"
            ],
            [
             0.8,
             "#7fbc41"
            ],
            [
             0.9,
             "#4d9221"
            ],
            [
             1,
             "#276419"
            ]
           ],
           "sequential": [
            [
             0,
             "#0d0887"
            ],
            [
             0.1111111111111111,
             "#46039f"
            ],
            [
             0.2222222222222222,
             "#7201a8"
            ],
            [
             0.3333333333333333,
             "#9c179e"
            ],
            [
             0.4444444444444444,
             "#bd3786"
            ],
            [
             0.5555555555555556,
             "#d8576b"
            ],
            [
             0.6666666666666666,
             "#ed7953"
            ],
            [
             0.7777777777777778,
             "#fb9f3a"
            ],
            [
             0.8888888888888888,
             "#fdca26"
            ],
            [
             1,
             "#f0f921"
            ]
           ],
           "sequentialminus": [
            [
             0,
             "#0d0887"
            ],
            [
             0.1111111111111111,
             "#46039f"
            ],
            [
             0.2222222222222222,
             "#7201a8"
            ],
            [
             0.3333333333333333,
             "#9c179e"
            ],
            [
             0.4444444444444444,
             "#bd3786"
            ],
            [
             0.5555555555555556,
             "#d8576b"
            ],
            [
             0.6666666666666666,
             "#ed7953"
            ],
            [
             0.7777777777777778,
             "#fb9f3a"
            ],
            [
             0.8888888888888888,
             "#fdca26"
            ],
            [
             1,
             "#f0f921"
            ]
           ]
          },
          "colorway": [
           "#636efa",
           "#EF553B",
           "#00cc96",
           "#ab63fa",
           "#FFA15A",
           "#19d3f3",
           "#FF6692",
           "#B6E880",
           "#FF97FF",
           "#FECB52"
          ],
          "font": {
           "color": "#2a3f5f"
          },
          "geo": {
           "bgcolor": "white",
           "lakecolor": "white",
           "landcolor": "#E5ECF6",
           "showlakes": true,
           "showland": true,
           "subunitcolor": "white"
          },
          "hoverlabel": {
           "align": "left"
          },
          "hovermode": "closest",
          "mapbox": {
           "style": "light"
          },
          "paper_bgcolor": "white",
          "plot_bgcolor": "#E5ECF6",
          "polar": {
           "angularaxis": {
            "gridcolor": "white",
            "linecolor": "white",
            "ticks": ""
           },
           "bgcolor": "#E5ECF6",
           "radialaxis": {
            "gridcolor": "white",
            "linecolor": "white",
            "ticks": ""
           }
          },
          "scene": {
           "xaxis": {
            "backgroundcolor": "#E5ECF6",
            "gridcolor": "white",
            "gridwidth": 2,
            "linecolor": "white",
            "showbackground": true,
            "ticks": "",
            "zerolinecolor": "white"
           },
           "yaxis": {
            "backgroundcolor": "#E5ECF6",
            "gridcolor": "white",
            "gridwidth": 2,
            "linecolor": "white",
            "showbackground": true,
            "ticks": "",
            "zerolinecolor": "white"
           },
           "zaxis": {
            "backgroundcolor": "#E5ECF6",
            "gridcolor": "white",
            "gridwidth": 2,
            "linecolor": "white",
            "showbackground": true,
            "ticks": "",
            "zerolinecolor": "white"
           }
          },
          "shapedefaults": {
           "line": {
            "color": "#2a3f5f"
           }
          },
          "ternary": {
           "aaxis": {
            "gridcolor": "white",
            "linecolor": "white",
            "ticks": ""
           },
           "baxis": {
            "gridcolor": "white",
            "linecolor": "white",
            "ticks": ""
           },
           "bgcolor": "#E5ECF6",
           "caxis": {
            "gridcolor": "white",
            "linecolor": "white",
            "ticks": ""
           }
          },
          "title": {
           "x": 0.05
          },
          "xaxis": {
           "automargin": true,
           "gridcolor": "white",
           "linecolor": "white",
           "ticks": "",
           "title": {
            "standoff": 15
           },
           "zerolinecolor": "white",
           "zerolinewidth": 2
          },
          "yaxis": {
           "automargin": true,
           "gridcolor": "white",
           "linecolor": "white",
           "ticks": "",
           "title": {
            "standoff": 15
           },
           "zerolinecolor": "white",
           "zerolinewidth": 2
          }
         }
        },
        "xaxis": {
         "anchor": "y",
         "domain": [
          0,
          1
         ],
         "title": {
          "text": "Sample Medians"
         }
        },
        "yaxis": {
         "anchor": "x",
         "domain": [
          0,
          1
         ],
         "title": {
          "text": "probability density"
         }
        }
       }
      },
      "text/html": [
       "<div>                            <div id=\"425e46e6-ff6d-49eb-8590-9a8caca354f1\" class=\"plotly-graph-div\" style=\"height:525px; width:100%;\"></div>            <script type=\"text/javascript\">                require([\"plotly\"], function(Plotly) {                    window.PLOTLYENV=window.PLOTLYENV || {};                                    if (document.getElementById(\"425e46e6-ff6d-49eb-8590-9a8caca354f1\")) {                    Plotly.newPlot(                        \"425e46e6-ff6d-49eb-8590-9a8caca354f1\",                        [{\"alignmentgroup\":\"True\",\"bingroup\":\"x\",\"histnorm\":\"probability density\",\"hovertemplate\":\"Sample Medians=%{x}\\u003cbr\\u003eprobability density=%{y}\\u003cextra\\u003e\\u003c\\u002fextra\\u003e\",\"legendgroup\":\"\",\"marker\":{\"color\":\"#636efa\",\"pattern\":{\"shape\":\"\"}},\"name\":\"\",\"nbinsx\":10,\"offsetgroup\":\"\",\"orientation\":\"v\",\"showlegend\":false,\"x\":[1063.895,1038.385,1120.82,1049.2649999999999,1079.7350000000001,1126.06,1026.7549999999999,1053.0949999999998,1036.9099999999999,1035.885,1069.375,1078.03,1010.12,1034.435,1062.8400000000001,1034.435,1046.96,956.89,1119.2150000000001,1042.72,1053.0949999999998,1088.6550000000002,1070.96,1070.96,1099.38,1049.2649999999999,988.5350000000001,1053.6999999999998,1097.75,1042.72,1023.8499999999999,1088.6550000000002,1110.62,1053.355,1092.9099999999999,1062.595,992.36,1078.03,1052.75,1049.2649999999999,1097.525,1057.185,1013.06,1009.495,1024.4099999999999,1043.5500000000002,1085.22,1026.7549999999999,990.915,1053.0949999999998,1043.1750000000002,984.4300000000001,1046.96,1138.2150000000001,1046.81,1014.4549999999999,961.87,977.79,1035.29,1042.5700000000002,1097.525,1078.03,1092.9099999999999,1024.4099999999999,1042.72,1094.56,1063.1,1090.58,992.835,1043.5500000000002,1010.12,985.965,1103.395,991.8,1045.68,1059.795,1043.5500000000002,1042.72,1050.6399999999999,1097.73,1099.1550000000002,1059.5349999999999,1114.6350000000002,1114.6350000000002,1100.535,1060.5900000000001,1130.4,1049.2649999999999,1122.9099999999999,1110.9,1065.9850000000001,1047.155,1148.2649999999999,1012.4300000000001,1074.6399999999999,1098.7600000000002,1126.85,1106.605,1013.3,1087.815,1039.42,992.835,1046.96,989.1800000000001,1011.565,1084.305,1025.135,1090.58,1049.2649999999999,1057.185,1042.5700000000002,1063.895,1062.335,1151.8600000000001,1052.225,1096.495,1042.1950000000002,1119.2150000000001,1043.5500000000002,1014.4549999999999,1044.85,973.04,1112.1550000000002,1042.72,1089.5700000000002,1079.7350000000001,1025.135,1049.2649999999999,1036.9099999999999,1036.0549999999998,1068.0749999999998,1151.8600000000001,1044.65,1053.0949999999998,1080.625,1042.5700000000002,1040.065,1044.305,1090.58,1046.96,1047.3049999999998,1080.625,1057.185,1130.4,1026.585,1060.5900000000001,1038.2150000000001,1117.4,1060.49,1059.5349999999999,1059.5349999999999,1035.885,1092.9099999999999,1030.565,1041.04,1042.5700000000002,1035.885,1014.31,1010.3599999999999,1013.825,1119.005,1097.525,1004.905,1009.495,1089.74,992.835,1047.3049999999998,1087.815,1084.305,983.99,975.22,1097.525,991.9200000000001,1069.375,1121.6100000000001,1025.135,1014.55,1063.895,1046.96,1084.305,1025.73,961.87,992.36,1090.58,1119.795,1040.8899999999999,1057.185,1053.1399999999999,1059.5349999999999,1065.9850000000001,1002.4549999999999,1092.74,1059.9850000000001,1126.06,961.87,1117.75,1038.5900000000001,1085.22,993.0350000000001,1000.62,1049.2649999999999,1042.5700000000002,1085.22,1059.19,992.36,1114.355,1110.9,1013.825,1130.4,1048.135,948.495,1013.06,1035.885,998.53,1060.49,1040.87,941.6800000000001,1106.75,1096.1,991.8,1084.305,1001.59,1003.12,1042.1950000000002,998.53,1025.73,1055.445,992.715,1042.5700000000002,1004.905,1087.815,1024.4099999999999,1063.1,1084.305,1065.9850000000001,1062.595,961.78,1084.305,1045.83,1035.885,1011.8050000000001,1045.68,1014.55,1006.35,1059.19,1126.85,991.8,1049.2649999999999,1093.94,1097.75,1063.895,1100.535,1074.6399999999999,1206.445,1060.5900000000001,1098.7600000000002,988.2950000000001,1025.135,1038.76,1100.535,1042.5700000000002,1037.3600000000001,1053.0949999999998,1053.355,1003.12,1098.145,1061.54,1092.9099999999999,994.4449999999999,1065.48,1091.9,1025.135,1006.35,1089.74,1113.1,1025.135,1065.9850000000001,1110.62,943.7049999999999,1078.03,1044.85,1120.82,1043.5500000000002,1057.185,1044.85,1006.35,1099.525,1040.065,1087.815,1004.905,1084.305,1035.46,1040.065,994.245,1110.62,1071.495,1047.155,1114.6350000000002,1037.7350000000001,1084.305,1099.38,1025.135,1025.73,1064.685,941.6800000000001,1040.065,1006.35,1097.525,1061.54,1099.38,1014.31,1062.335,1012.4300000000001,1063.895,1063.895,997.475,1045.83,1097.525,1053.6999999999998,1048.51,993.0350000000001,1092.74,1069.375,1049.2649999999999,991.8,1042.5700000000002,1195.56,1061.54,1089.5700000000002,1106.75,1013.825,1053.0949999999998,1114.355,1094.3899999999999,1000.8199999999999,983.99,1057.185,968.06,992.835,1090.58,1007.2149999999999,1099.525,1119.2150000000001,1074.6399999999999,1024.4099999999999,1042.345,1122.9099999999999,1042.345,1047.79,1116.145,1080.88,1119.2150000000001,1042.345,1042.5700000000002,1098.145,993.77,1106.605,1006.975,1006.35,1074.6399999999999,1014.4549999999999,1099.525,1080.625,1036.9099999999999,1047.79,1078.03,1009.495,1114.6350000000002,1025.135,953.155,988.5350000000001,984.4300000000001,1092.93,1014.4549999999999,1049.2649999999999,988.5350000000001,1053.0949999999998,1089.5700000000002,1053.6999999999998,988.2950000000001,1057.185,1035.885,1052.75,1040.8899999999999,1059.5349999999999,950.3199999999999,1097.525,1143.065,1092.74,988.5350000000001,1061.54,1027.335,1002.8900000000001,1087.815,1063.1,1048.135,1025.8600000000001,1100.535,954.62,1013.3,1062.595,994.245,1035.885,1065.9850000000001,1013.3,1078.03,1096.495,1100.535,1109.795,1070.96,1061.54,1003.12,1012.4300000000001,1096.1,1042.345,991.8,1070.96,1047.79,1053.6999999999998,997.675,1025.135,1028.06,993.3900000000001,1089.74,1085.22,990.715,1057.185,1092.74,1062.0749999999998,1003.12,1180.995,1077.4050000000002,1063.1,1040.065,1081.54,1156.4450000000002,1042.345,942.92,1059.5349999999999,1093.94,1207.23,1011.565,1013.06,1048.135,1036.9099999999999,1119.2150000000001,943.825,994.4449999999999,964.05,1074.0900000000001,1013.06,1023.885,1062.335,1047.79,991.8,1097.75,1061.54,1115.865,1084.305,1013.3,1034.435,1097.75,1070.96,1099.38,1014.4549999999999,961.4200000000001,990.475,1042.5700000000002,1077.4050000000002,1006.975,1135.1999999999998,1092.015,1106.75,1037.3600000000001,1011.8050000000001,1087.815,1034.435,1034.435,1092.015,1026.585,1058.9299999999998,990.715,990.715,1013.06,1100.535,1034.435,1040.8899999999999,1051.395,1055.705,1055.445,1060.5900000000001,1061.54,1046.96,1038.76,1098.145,1036.9099999999999,1046.96,1087.815,1064.425,1094.3899999999999,1049.2649999999999,1015.7049999999999,1126.06,1057.185,1012.4300000000001,1097.75,989.62,1057.185,1015.7049999999999,1036.7649999999999,1009.495,1025.135,1038.2150000000001,1013.3,1047.79,993.3900000000001,987.855,1061.54,1091.9,989.1800000000001,1090.58,1025.005,1035.885,1014.4549999999999,1146.08,1036.7649999999999,1061.54,1025.135,1026.585,1035.46,1114.6350000000002,1063.895,1014.4549999999999,1046.81,941.6800000000001,1042.1950000000002,1092.74,1087.815,1025.73,1025.005,1037.3600000000001,1146.08,1026.585,1117.705,993.3900000000001,1081.54,1131.205,1049.2649999999999,1096.495,1053.6999999999998,1064.425,1034.435,1045.68,1093.94,990.715,1117.705,1156.045,1047.79,989.83,1035.885,1049.2649999999999,1092.74,998.53,1030.565,1049.2649999999999,1013.06,1061.54,1050.6399999999999,1059.5349999999999,1092.015,1043.5500000000002,1062.595,1098.145,1131.605,1051.395,1104.5500000000002,1097.525,1078.03,1120.82,1042.5700000000002,1047.3049999999998,1001.675,954.62,1034.435,1092.9099999999999,1040.0149999999999,1089.74,1086.06,1042.1950000000002,1014.4549999999999,992.36,1140.4,1041.87,1070.96,1013.3,1044.85,1131.205,1004.905,1141.935,1130.4,1099.38,1071.755,1113.1,1110.9,1044.85,1097.525,1126.46,1088.825,1011.8050000000001,1011.565,1013.3,1114.355,1099.3000000000002,1051.62,1014.4549999999999,1015.7049999999999,1013.3,1059.795,1035.46,1015.18,1087.815,992.835,1136.005,1042.5700000000002,1046.96,1089.815,1048.135,1070.96,1025.135,1136.005,1104.5500000000002,992.36,1014.4549999999999,1096.495,1049.2649999999999,1098.145,1099.585,1004.905,1045.83,1113.1,1110.62,992.715,1096.1,1036.9099999999999,1084.305,956.89,1089.5700000000002,1025.135,1074.6399999999999,1062.595,1076.06,997.475,1012.4300000000001,1025.005,993.3900000000001,966.4000000000001,1097.525,1110.62,1043.5500000000002,966.4000000000001,1094.335,991.9200000000001,1156.4450000000002,1072.5500000000002,1040.065,1106.605,1143.065,1035.885,1086.23,1080.625,1053.355,1156.4450000000002,1087.815,964.05,1061.54,1011.8050000000001,1038.2150000000001,1042.72,1098.145,1063.1,1078.15,1084.305,1023.2549999999999,1089.74,1087.815,1053.0949999999998,1040.065,1040.065,1044.85,1042.5700000000002,1011.565,990.715,1122.9099999999999,1013.825,1014.55,1044.85,1126.06,1065.9850000000001,1063.895,1098.145,1046.96,954.62,1059.5349999999999,1089.74,997.675,1025.135,1126.85,1005.01,1114.355,1088.825,1012.4300000000001,1065.48,1113.1,959.24,1065.9850000000001,986.56,993.0350000000001,1069.375,1042.72,1013.585,994.245,1059.5349999999999,1036.9099999999999,1134.8,983.99,1057.185,1036.0549999999998,1044.85,1148.995,1036.0549999999998,993.0350000000001,1044.85,1096.1,957.25,1025.135,1057.185,1053.0949999999998,1025.135,1050.79,1061.54,1059.5349999999999,1098.145,1147.815,1012.4300000000001,1052.75,1065.48,1062.595,1069.375,1063.1,1009.495,1042.5700000000002,1036.9099999999999,1110.62,1086.23,1053.6999999999998,1060.5900000000001,992.915,1013.06,1050.79,1038.385,1001.7750000000001,1093.94,1094.56,985.725,992.36,1024.4099999999999,1012.4300000000001,1120.5149999999999,990.475,1038.2150000000001,994.4449999999999,1028.06,1010.12,1113.1,1078.03,1062.595,1074.6399999999999,988.5350000000001,1099.1550000000002,992.36,1012.4300000000001,1053.6999999999998,1012.96,992.835,1011.565,1078.03,993.89,1042.5700000000002,1059.5349999999999,1036.9099999999999,1013.06,1063.895,1100.535,1106.75,1013.585,1092.9099999999999,1124.455,1053.0949999999998,950.6800000000001,1038.385,1103.17,1043.1750000000002,992.835,1059.795,1084.305,1025.73,1090.58,957.25,1042.1950000000002,1065.48,1044.85,1143.065,1052.75,994.245,1046.96,1048.135,1077.0700000000002,1114.6350000000002,1062.335,1131.605,1038.76,953.155,1057.185,1068.87,943.7049999999999,1080.625,1049.2649999999999,1065.9850000000001,1035.29,1100.535,1053.6999999999998,1063.895,1094.56,993.89,1100.535,1065.9850000000001,1126.85,1104.5500000000002,1070.96,1099.38,1042.72,1038.2150000000001,1012.4300000000001,1059.5349999999999,1063.895,1081.54,1041.04,1086.06,1084.305,1052.75,991.9200000000001,1099.585,1089.5700000000002,1038.2150000000001,1063.1,998.53,1100.535,1015.7049999999999,977.79,1104.4050000000002,1098.7600000000002,1014.4549999999999,1015.7049999999999,1038.76,992.36,943.7049999999999,1038.385,959.24,1045.83,1015.7049999999999,1084.305,1053.6999999999998,1034.435,1038.2150000000001,994.4449999999999,1089.5700000000002,1001.675,998.53,1010.3599999999999,1062.595,1047.3049999999998,997.675,953.155,1097.525,1042.5700000000002,1009.495,1014.4549999999999,1014.55,1047.79,1047.79,933.24,1060.49,1089.5700000000002,1086.06,1137.815,989.1800000000001,1062.595,943.7049999999999,1068.87,1106.8850000000002,1089.5700000000002,1096.1,1059.5349999999999,1011.565,1041.04,1159.45,990.475,1057.185,1062.6799999999998,992.36,1042.5700000000002,1062.8400000000001,1035.46,1040.8899999999999,992.835,1065.48,1015.7049999999999,1038.76,1139.02,1015.7049999999999,1070.96,1040.065,1011.8050000000001,1035.885,1038.385,1042.72,1054.23,1013.3,990.475,1096.7199999999998,1025.8600000000001,1025.135,1117.4,1053.6999999999998,1120.82,1088.6550000000002,1040.065,946.0899999999999,1097.525,1036.9099999999999,1121.6100000000001,1093.77,1099.3000000000002,1130.4,1077.2350000000001,1011.565,1094.335,1059.19,1099.38,1003.745,1059.5349999999999,1023.2549999999999,1075.65,1053.355,992.835,1011.8050000000001,1059.5349999999999,1038.385,1013.825,1096.495,1011.8050000000001,1038.2150000000001,1044.68,1052.75,1053.0949999999998,1093.94,1059.9850000000001,1040.8899999999999,1058.245,1038.76,1059.5349999999999,1044.305,1098.9050000000002,1052.225,1093.77,1057.185,1011.8050000000001,1043.1750000000002,1025.005,1126.85,1000.62,994.4449999999999,1081.54,1057.185,1090.58,1065.48,1035.29,1045.83,1063.895,1059.19,1012.4300000000001,1049.2649999999999,1042.5700000000002,1053.0949999999998,1059.795,1049.2649999999999,1124.76,1014.4549999999999,1106.605,1063.1],\"xaxis\":\"x\",\"yaxis\":\"y\",\"type\":\"histogram\"}],                        {\"template\":{\"data\":{\"histogram2dcontour\":[{\"type\":\"histogram2dcontour\",\"colorbar\":{\"outlinewidth\":0,\"ticks\":\"\"},\"colorscale\":[[0.0,\"#0d0887\"],[0.1111111111111111,\"#46039f\"],[0.2222222222222222,\"#7201a8\"],[0.3333333333333333,\"#9c179e\"],[0.4444444444444444,\"#bd3786\"],[0.5555555555555556,\"#d8576b\"],[0.6666666666666666,\"#ed7953\"],[0.7777777777777778,\"#fb9f3a\"],[0.8888888888888888,\"#fdca26\"],[1.0,\"#f0f921\"]]}],\"choropleth\":[{\"type\":\"choropleth\",\"colorbar\":{\"outlinewidth\":0,\"ticks\":\"\"}}],\"histogram2d\":[{\"type\":\"histogram2d\",\"colorbar\":{\"outlinewidth\":0,\"ticks\":\"\"},\"colorscale\":[[0.0,\"#0d0887\"],[0.1111111111111111,\"#46039f\"],[0.2222222222222222,\"#7201a8\"],[0.3333333333333333,\"#9c179e\"],[0.4444444444444444,\"#bd3786\"],[0.5555555555555556,\"#d8576b\"],[0.6666666666666666,\"#ed7953\"],[0.7777777777777778,\"#fb9f3a\"],[0.8888888888888888,\"#fdca26\"],[1.0,\"#f0f921\"]]}],\"heatmap\":[{\"type\":\"heatmap\",\"colorbar\":{\"outlinewidth\":0,\"ticks\":\"\"},\"colorscale\":[[0.0,\"#0d0887\"],[0.1111111111111111,\"#46039f\"],[0.2222222222222222,\"#7201a8\"],[0.3333333333333333,\"#9c179e\"],[0.4444444444444444,\"#bd3786\"],[0.5555555555555556,\"#d8576b\"],[0.6666666666666666,\"#ed7953\"],[0.7777777777777778,\"#fb9f3a\"],[0.8888888888888888,\"#fdca26\"],[1.0,\"#f0f921\"]]}],\"heatmapgl\":[{\"type\":\"heatmapgl\",\"colorbar\":{\"outlinewidth\":0,\"ticks\":\"\"},\"colorscale\":[[0.0,\"#0d0887\"],[0.1111111111111111,\"#46039f\"],[0.2222222222222222,\"#7201a8\"],[0.3333333333333333,\"#9c179e\"],[0.4444444444444444,\"#bd3786\"],[0.5555555555555556,\"#d8576b\"],[0.6666666666666666,\"#ed7953\"],[0.7777777777777778,\"#fb9f3a\"],[0.8888888888888888,\"#fdca26\"],[1.0,\"#f0f921\"]]}],\"contourcarpet\":[{\"type\":\"contourcarpet\",\"colorbar\":{\"outlinewidth\":0,\"ticks\":\"\"}}],\"contour\":[{\"type\":\"contour\",\"colorbar\":{\"outlinewidth\":0,\"ticks\":\"\"},\"colorscale\":[[0.0,\"#0d0887\"],[0.1111111111111111,\"#46039f\"],[0.2222222222222222,\"#7201a8\"],[0.3333333333333333,\"#9c179e\"],[0.4444444444444444,\"#bd3786\"],[0.5555555555555556,\"#d8576b\"],[0.6666666666666666,\"#ed7953\"],[0.7777777777777778,\"#fb9f3a\"],[0.8888888888888888,\"#fdca26\"],[1.0,\"#f0f921\"]]}],\"surface\":[{\"type\":\"surface\",\"colorbar\":{\"outlinewidth\":0,\"ticks\":\"\"},\"colorscale\":[[0.0,\"#0d0887\"],[0.1111111111111111,\"#46039f\"],[0.2222222222222222,\"#7201a8\"],[0.3333333333333333,\"#9c179e\"],[0.4444444444444444,\"#bd3786\"],[0.5555555555555556,\"#d8576b\"],[0.6666666666666666,\"#ed7953\"],[0.7777777777777778,\"#fb9f3a\"],[0.8888888888888888,\"#fdca26\"],[1.0,\"#f0f921\"]]}],\"mesh3d\":[{\"type\":\"mesh3d\",\"colorbar\":{\"outlinewidth\":0,\"ticks\":\"\"}}],\"scatter\":[{\"fillpattern\":{\"fillmode\":\"overlay\",\"size\":10,\"solidity\":0.2},\"type\":\"scatter\"}],\"parcoords\":[{\"type\":\"parcoords\",\"line\":{\"colorbar\":{\"outlinewidth\":0,\"ticks\":\"\"}}}],\"scatterpolargl\":[{\"type\":\"scatterpolargl\",\"marker\":{\"colorbar\":{\"outlinewidth\":0,\"ticks\":\"\"}}}],\"bar\":[{\"error_x\":{\"color\":\"#2a3f5f\"},\"error_y\":{\"color\":\"#2a3f5f\"},\"marker\":{\"line\":{\"color\":\"#E5ECF6\",\"width\":0.5},\"pattern\":{\"fillmode\":\"overlay\",\"size\":10,\"solidity\":0.2}},\"type\":\"bar\"}],\"scattergeo\":[{\"type\":\"scattergeo\",\"marker\":{\"colorbar\":{\"outlinewidth\":0,\"ticks\":\"\"}}}],\"scatterpolar\":[{\"type\":\"scatterpolar\",\"marker\":{\"colorbar\":{\"outlinewidth\":0,\"ticks\":\"\"}}}],\"histogram\":[{\"marker\":{\"pattern\":{\"fillmode\":\"overlay\",\"size\":10,\"solidity\":0.2}},\"type\":\"histogram\"}],\"scattergl\":[{\"type\":\"scattergl\",\"marker\":{\"colorbar\":{\"outlinewidth\":0,\"ticks\":\"\"}}}],\"scatter3d\":[{\"type\":\"scatter3d\",\"line\":{\"colorbar\":{\"outlinewidth\":0,\"ticks\":\"\"}},\"marker\":{\"colorbar\":{\"outlinewidth\":0,\"ticks\":\"\"}}}],\"scattermapbox\":[{\"type\":\"scattermapbox\",\"marker\":{\"colorbar\":{\"outlinewidth\":0,\"ticks\":\"\"}}}],\"scatterternary\":[{\"type\":\"scatterternary\",\"marker\":{\"colorbar\":{\"outlinewidth\":0,\"ticks\":\"\"}}}],\"scattercarpet\":[{\"type\":\"scattercarpet\",\"marker\":{\"colorbar\":{\"outlinewidth\":0,\"ticks\":\"\"}}}],\"carpet\":[{\"aaxis\":{\"endlinecolor\":\"#2a3f5f\",\"gridcolor\":\"white\",\"linecolor\":\"white\",\"minorgridcolor\":\"white\",\"startlinecolor\":\"#2a3f5f\"},\"baxis\":{\"endlinecolor\":\"#2a3f5f\",\"gridcolor\":\"white\",\"linecolor\":\"white\",\"minorgridcolor\":\"white\",\"startlinecolor\":\"#2a3f5f\"},\"type\":\"carpet\"}],\"table\":[{\"cells\":{\"fill\":{\"color\":\"#EBF0F8\"},\"line\":{\"color\":\"white\"}},\"header\":{\"fill\":{\"color\":\"#C8D4E3\"},\"line\":{\"color\":\"white\"}},\"type\":\"table\"}],\"barpolar\":[{\"marker\":{\"line\":{\"color\":\"#E5ECF6\",\"width\":0.5},\"pattern\":{\"fillmode\":\"overlay\",\"size\":10,\"solidity\":0.2}},\"type\":\"barpolar\"}],\"pie\":[{\"automargin\":true,\"type\":\"pie\"}]},\"layout\":{\"autotypenumbers\":\"strict\",\"colorway\":[\"#636efa\",\"#EF553B\",\"#00cc96\",\"#ab63fa\",\"#FFA15A\",\"#19d3f3\",\"#FF6692\",\"#B6E880\",\"#FF97FF\",\"#FECB52\"],\"font\":{\"color\":\"#2a3f5f\"},\"hovermode\":\"closest\",\"hoverlabel\":{\"align\":\"left\"},\"paper_bgcolor\":\"white\",\"plot_bgcolor\":\"#E5ECF6\",\"polar\":{\"bgcolor\":\"#E5ECF6\",\"angularaxis\":{\"gridcolor\":\"white\",\"linecolor\":\"white\",\"ticks\":\"\"},\"radialaxis\":{\"gridcolor\":\"white\",\"linecolor\":\"white\",\"ticks\":\"\"}},\"ternary\":{\"bgcolor\":\"#E5ECF6\",\"aaxis\":{\"gridcolor\":\"white\",\"linecolor\":\"white\",\"ticks\":\"\"},\"baxis\":{\"gridcolor\":\"white\",\"linecolor\":\"white\",\"ticks\":\"\"},\"caxis\":{\"gridcolor\":\"white\",\"linecolor\":\"white\",\"ticks\":\"\"}},\"coloraxis\":{\"colorbar\":{\"outlinewidth\":0,\"ticks\":\"\"}},\"colorscale\":{\"sequential\":[[0.0,\"#0d0887\"],[0.1111111111111111,\"#46039f\"],[0.2222222222222222,\"#7201a8\"],[0.3333333333333333,\"#9c179e\"],[0.4444444444444444,\"#bd3786\"],[0.5555555555555556,\"#d8576b\"],[0.6666666666666666,\"#ed7953\"],[0.7777777777777778,\"#fb9f3a\"],[0.8888888888888888,\"#fdca26\"],[1.0,\"#f0f921\"]],\"sequentialminus\":[[0.0,\"#0d0887\"],[0.1111111111111111,\"#46039f\"],[0.2222222222222222,\"#7201a8\"],[0.3333333333333333,\"#9c179e\"],[0.4444444444444444,\"#bd3786\"],[0.5555555555555556,\"#d8576b\"],[0.6666666666666666,\"#ed7953\"],[0.7777777777777778,\"#fb9f3a\"],[0.8888888888888888,\"#fdca26\"],[1.0,\"#f0f921\"]],\"diverging\":[[0,\"#8e0152\"],[0.1,\"#c51b7d\"],[0.2,\"#de77ae\"],[0.3,\"#f1b6da\"],[0.4,\"#fde0ef\"],[0.5,\"#f7f7f7\"],[0.6,\"#e6f5d0\"],[0.7,\"#b8e186\"],[0.8,\"#7fbc41\"],[0.9,\"#4d9221\"],[1,\"#276419\"]]},\"xaxis\":{\"gridcolor\":\"white\",\"linecolor\":\"white\",\"ticks\":\"\",\"title\":{\"standoff\":15},\"zerolinecolor\":\"white\",\"automargin\":true,\"zerolinewidth\":2},\"yaxis\":{\"gridcolor\":\"white\",\"linecolor\":\"white\",\"ticks\":\"\",\"title\":{\"standoff\":15},\"zerolinecolor\":\"white\",\"automargin\":true,\"zerolinewidth\":2},\"scene\":{\"xaxis\":{\"backgroundcolor\":\"#E5ECF6\",\"gridcolor\":\"white\",\"linecolor\":\"white\",\"showbackground\":true,\"ticks\":\"\",\"zerolinecolor\":\"white\",\"gridwidth\":2},\"yaxis\":{\"backgroundcolor\":\"#E5ECF6\",\"gridcolor\":\"white\",\"linecolor\":\"white\",\"showbackground\":true,\"ticks\":\"\",\"zerolinecolor\":\"white\",\"gridwidth\":2},\"zaxis\":{\"backgroundcolor\":\"#E5ECF6\",\"gridcolor\":\"white\",\"linecolor\":\"white\",\"showbackground\":true,\"ticks\":\"\",\"zerolinecolor\":\"white\",\"gridwidth\":2}},\"shapedefaults\":{\"line\":{\"color\":\"#2a3f5f\"}},\"annotationdefaults\":{\"arrowcolor\":\"#2a3f5f\",\"arrowhead\":0,\"arrowwidth\":1},\"geo\":{\"bgcolor\":\"white\",\"landcolor\":\"#E5ECF6\",\"subunitcolor\":\"white\",\"showland\":true,\"showlakes\":true,\"lakecolor\":\"white\"},\"title\":{\"x\":0.05},\"mapbox\":{\"style\":\"light\"}}},\"xaxis\":{\"anchor\":\"y\",\"domain\":[0.0,1.0],\"title\":{\"text\":\"Sample Medians\"}},\"yaxis\":{\"anchor\":\"x\",\"domain\":[0.0,1.0],\"title\":{\"text\":\"probability density\"}},\"legend\":{\"tracegroupgap\":0},\"margin\":{\"t\":60},\"barmode\":\"relative\",\"shapes\":[{\"type\":\"line\",\"x0\":1052.029335,\"x1\":1052.029335,\"xref\":\"x\",\"y0\":0,\"y1\":1,\"yref\":\"y domain\"},{\"line\":{\"color\":\"red\"},\"type\":\"line\",\"x0\":1042.345,\"x1\":1042.345,\"xref\":\"x\",\"y0\":0,\"y1\":1,\"yref\":\"y domain\"},{\"line\":{\"color\":\"blue\"},\"type\":\"line\",\"x0\":1049.2649999999999,\"x1\":1049.2649999999999,\"xref\":\"x\",\"y0\":0,\"y1\":1,\"yref\":\"y domain\"}],\"annotations\":[{\"text\":\"median average\",\"x\":1052.029335,\"y\":0.0},{\"text\":\"sample median\",\"x\":1042.345,\"y\":0.001},{\"text\":\"population median\",\"x\":1049.2649999999999,\"y\":0.002}]},                        {\"responsive\": true}                    ).then(function(){\n",
       "                            \n",
       "var gd = document.getElementById('425e46e6-ff6d-49eb-8590-9a8caca354f1');\n",
       "var x = new MutationObserver(function (mutations, observer) {{\n",
       "        var display = window.getComputedStyle(gd).display;\n",
       "        if (!display || display === 'none') {{\n",
       "            console.log([gd, 'removed!']);\n",
       "            Plotly.purge(gd);\n",
       "            observer.disconnect();\n",
       "        }}\n",
       "}});\n",
       "\n",
       "// Listen for the removal of the full notebook cells\n",
       "var notebookContainer = gd.closest('#notebook-container');\n",
       "if (notebookContainer) {{\n",
       "    x.observe(notebookContainer, {childList: true});\n",
       "}}\n",
       "\n",
       "// Listen for the clearing of the current output cell\n",
       "var outputEl = gd.closest('.output');\n",
       "if (outputEl) {{\n",
       "    x.observe(outputEl, {childList: true});\n",
       "}}\n",
       "\n",
       "                        })                };                });            </script>        </div>"
      ]
     },
     "metadata": {},
     "output_type": "display_data"
    },
    {
     "data": {
      "text/plain": [
       "(2017.5019499999999, 1049.2649999999999, 1052.029335)"
      ]
     },
     "execution_count": 167,
     "metadata": {},
     "output_type": "execute_result"
    }
   ],
   "source": [
    "# remove from student facing file...\n",
    "\n",
    "import plotly.express as px\n",
    "population = pd.read_csv('auto_claims_population.csv')\n",
    "np.random.seed(130) # Use this line to create reproducible pseudorandomness for your RANDOM SAMPLING\n",
    "\n",
    "sample_size_n = 500\n",
    "number_of_samples = 1000\n",
    "sample_medians = []\n",
    "for i in range(number_of_samples):\n",
    "    # `np.random.choice` is an alternative to utilizing `df.sample()` which uses `replace=False` by default\n",
    "    a_sample = np.random.choice(population['PAID'], sample_size_n, replace=False)\n",
    "    sample_medians += [np.median(a_sample)]\n",
    "\n",
    "fig = px.histogram(pd.DataFrame({\"Sample Medians\": sample_medians}), \n",
    "                   x=\"Sample Medians\", histnorm='probability density', nbins=10)\n",
    "fig.add_vline(x=np.mean(sample_medians))\n",
    "fig.add_annotation(x=np.mean(sample_medians), y=0.000, text=\"median average\")\n",
    "fig.add_vline(x=pd.read_csv('auto_claims.csv').PAID.median(), line_color='red')\n",
    "fig.add_annotation(x=pd.read_csv('auto_claims.csv').PAID.median(), y=0.001, text=\"sample median\")\n",
    "fig.add_vline(x=pd.read_csv('auto_claims_population.csv').PAID.median(), line_color='blue')\n",
    "fig.add_annotation(x=pd.read_csv('auto_claims_population.csv').PAID.median(), y=0.002, text=\"population median\")\n",
    "fig.show()\n",
    "\n",
    "pd.read_csv('auto_claims_population.csv').PAID.mean(), \\\n",
    "pd.read_csv('auto_claims_population.csv').PAID.median(), np.mean(sample_medians)"
   ]
  },
  {
   "cell_type": "code",
   "execution_count": 145,
   "id": "12c18019",
   "metadata": {},
   "outputs": [],
   "source": [
    "# Q13: your answer will be tested!\n",
    "Q13 = None # Assign either 'A', 'B', 'C', or 'D' to `Q13` instead of `None`\n",
    "# E.g., Q13 = 'A'"
   ]
  },
  {
   "cell_type": "code",
   "execution_count": 146,
   "id": "11722264",
   "metadata": {},
   "outputs": [],
   "source": [
    "code = '''\n",
    "import plotly.express as px\n",
    "population = pd.read_csv('auto_claims_population.csv')\n",
    "np.random.seed(130) # Use this line to create reproducible pseudorandomness for your RANDOM SAMPLING\n",
    "\n",
    "sample_size_n = 500\n",
    "number_of_samples = 1000\n",
    "sample_medians = []\n",
    "for i in range(number_of_samples):\n",
    "    # `np.random.choice` is an alternative to utilizing `df.sample()` which uses `replace=False` by default\n",
    "    a_sample = np.random.choice(population['PAID'], sample_size_n, replace=False) # SAMPLING from population\n",
    "    sample_medians += [np.median(a_sample)]                                       # ...not bootstrapping...\n",
    "\n",
    "fig = px.histogram(pd.DataFrame({\"Sample Medians\": sample_medians}), \n",
    "                   x=\"Sample Medians\", histnorm='probability density', nbins=10)\n",
    "fig.add_vline(x=np.mean(sample_medians))\n",
    "fig.add_annotation(x=np.mean(sample_medians), y=0.000, text=\"median average\")\n",
    "fig.add_vline(x=pd.read_csv('auto_claims.csv').PAID.median(), line_color='red')\n",
    "fig.add_annotation(x=pd.read_csv('auto_claims.csv').PAID.median(), y=0.001, text=\"sample median\")\n",
    "fig.add_vline(x=pd.read_csv('auto_claims_population.csv').PAID.median(), line_color='blue')\n",
    "fig.add_annotation(x=pd.read_csv('auto_claims_population.csv').PAID.median(), y=0.002, text=\"population median\")\n",
    "fig.show()\n",
    "\n",
    "pd.read_csv('auto_claims_population.csv').PAID.mean(), \\\n",
    "pd.read_csv('auto_claims_population.csv').PAID.median(), np.mean(sample_medians)\n",
    "'''\n",
    "test = Q13 == 'C'"
   ]
  },
  {
   "cell_type": "code",
   "execution_count": 147,
   "id": "ca1ca789",
   "metadata": {},
   "outputs": [
    {
     "ename": "AssertionError",
     "evalue": "\nimport plotly.express as px\npopulation = pd.read_csv('auto_claims_population.csv')\nnp.random.seed(130) # Use this line to create reproducible pseudorandomness for your bootstrapping\n\nsample_size_n = 500\nnumber_of_bootstrap_samples = 1000\nboot_medians = []\nfor i in range(number_of_bootstrap_samples):\n    # `np.random.choice` is an alternative to utilizing `df.sample()` which uses `replace=False` by default\n    boots_sample = np.random.choice(population['PAID'], sample_size_n, replace=False)\n    boot_medians += [np.median(boots_sample)]\n\nfig = px.histogram(pd.DataFrame({\"Bootstrapped Medians\": boot_medians}), \n                   x=\"Bootstrapped Medians\", histnorm='probability density', nbins=10)\nfig.add_vline(x=np.mean(boot_medians))\nfig.add_annotation(x=np.mean(boot_medians), y=0.000, text=\"median average\")\nfig.add_vline(x=pd.read_csv('auto_claims.csv').PAID.median(), line_color='red')\nfig.add_annotation(x=pd.read_csv('auto_claims.csv').PAID.median(), y=0.001, text=\"sample median\")\nfig.add_vline(x=pd.read_csv('auto_claims_population.csv').PAID.median(), line_color='blue')\nfig.add_annotation(x=pd.read_csv('auto_claims_population.csv').PAID.median(), y=0.002, text=\"population median\")\nfig.show()\n\npd.read_csv('auto_claims_population.csv').PAID.mean(), pd.read_csv('auto_claims_population.csv').PAID.median(), np.mean(boot_medians)\n",
     "output_type": "error",
     "traceback": [
      "\u001b[0;31m---------------------------------------------------------------------------\u001b[0m",
      "\u001b[0;31mAssertionError\u001b[0m                            Traceback (most recent call last)",
      "Cell \u001b[0;32mIn[147], line 1\u001b[0m\n\u001b[0;32m----> 1\u001b[0m \u001b[38;5;28;01massert\u001b[39;00m test, code\n",
      "\u001b[0;31mAssertionError\u001b[0m: \nimport plotly.express as px\npopulation = pd.read_csv('auto_claims_population.csv')\nnp.random.seed(130) # Use this line to create reproducible pseudorandomness for your bootstrapping\n\nsample_size_n = 500\nnumber_of_bootstrap_samples = 1000\nboot_medians = []\nfor i in range(number_of_bootstrap_samples):\n    # `np.random.choice` is an alternative to utilizing `df.sample()` which uses `replace=False` by default\n    boots_sample = np.random.choice(population['PAID'], sample_size_n, replace=False)\n    boot_medians += [np.median(boots_sample)]\n\nfig = px.histogram(pd.DataFrame({\"Bootstrapped Medians\": boot_medians}), \n                   x=\"Bootstrapped Medians\", histnorm='probability density', nbins=10)\nfig.add_vline(x=np.mean(boot_medians))\nfig.add_annotation(x=np.mean(boot_medians), y=0.000, text=\"median average\")\nfig.add_vline(x=pd.read_csv('auto_claims.csv').PAID.median(), line_color='red')\nfig.add_annotation(x=pd.read_csv('auto_claims.csv').PAID.median(), y=0.001, text=\"sample median\")\nfig.add_vline(x=pd.read_csv('auto_claims_population.csv').PAID.median(), line_color='blue')\nfig.add_annotation(x=pd.read_csv('auto_claims_population.csv').PAID.median(), y=0.002, text=\"population median\")\nfig.show()\n\npd.read_csv('auto_claims_population.csv').PAID.mean(), pd.read_csv('auto_claims_population.csv').PAID.median(), np.mean(boot_medians)\n"
     ]
    }
   ],
   "source": [
    "# test_Q13\n",
    "assert test, code"
   ]
  },
  {
   "cell_type": "markdown",
   "id": "36b55b93",
   "metadata": {},
   "source": [
    "### Q14: Which of the following statements are true?\n",
    "\n",
    "A. The median paid claim amount in the population is given by `pd.read_csv('auto_claims_population.csv').PAID.median()`\n",
    "\n",
    "B. Each median computed in Q13 estimates this, and the overall average of these means estimates it even better; but, it's a little silly to do this because since we have the whole population we can just calculate the median paid claim amount in the population exactly.\n",
    "\n",
    "C. The sample that is bootstrapped from in Q9 is like one of the samples in Q13, so the median of that sample is an estimate of the population median and the bootstrap confidence interval created based on that sample gives us a range estimate of the population median.\n",
    "\n",
    "D. The bootstrap medians in Q9 estimate the median of the original sample being bootstrapped (which we can already calculate exactly); but, if the \"auto_claims.csv\" sample is fairly representative \"auto_claims_population.csv\" population, then the bootstrap sampling distribution of the sample median created in Q9 will behave similarly to the sampling distribution created here in Q11 (but it will just be \"biased\" to be centered around the median of the original sample as opposed to the median of the popuation), so it will give us an idea about the variability of the true sampling distribution of the sample median.\n",
    "\n",
    "E. All of the above\n",
    "\n"
   ]
  },
  {
   "cell_type": "code",
   "execution_count": 148,
   "id": "637fde19",
   "metadata": {},
   "outputs": [],
   "source": [
    "# Q14: your answer will be tested!\n",
    "Q14 = None # Assign either 'A', 'B', 'C', or 'D' to `Q14` instead of `None`\n",
    "# E.g., Q14 = 'A'"
   ]
  },
  {
   "cell_type": "code",
   "execution_count": 149,
   "id": "7cde6b21",
   "metadata": {},
   "outputs": [
    {
     "ename": "AssertionError",
     "evalue": "Review the answers you're unsure about again...",
     "output_type": "error",
     "traceback": [
      "\u001b[0;31m---------------------------------------------------------------------------\u001b[0m",
      "\u001b[0;31mAssertionError\u001b[0m                            Traceback (most recent call last)",
      "Cell \u001b[0;32mIn[149], line 2\u001b[0m\n\u001b[1;32m      1\u001b[0m \u001b[38;5;66;03m# test_Q11\u001b[39;00m\n\u001b[0;32m----> 2\u001b[0m \u001b[38;5;28;01massert\u001b[39;00m Q11\u001b[38;5;241m==\u001b[39m\u001b[38;5;124m'\u001b[39m\u001b[38;5;124mE\u001b[39m\u001b[38;5;124m'\u001b[39m, \u001b[38;5;124m\"\u001b[39m\u001b[38;5;124mReview the answers you\u001b[39m\u001b[38;5;124m'\u001b[39m\u001b[38;5;124mre unsure about again...\u001b[39m\u001b[38;5;124m\"\u001b[39m\n",
      "\u001b[0;31mAssertionError\u001b[0m: Review the answers you're unsure about again..."
     ]
    }
   ],
   "source": [
    "# test_Q14\n",
    "assert Q14=='E', \"Review the answers you're unsure about again...\""
   ]
  },
  {
   "cell_type": "markdown",
   "id": "d477d4b0",
   "metadata": {},
   "source": [
    "### Q15: There's always a chance that once a 95% bootstrap confidence interval is constructed it won't have ended up actually capturing the population parameter it's estimating... for a 95% bootstrap confidence interval this chance is the approximately 100%-95% = 5% chance that a sample randomly drawn from the population will not end up being sufficiently representative of the population it's drawn from so as to result in an confidence interval that does not end up capturing the true population parameter it estimates... \n",
    "\n",
    "#### Since the `\"auto_claims.csv\"` \"sample\" was created based on selecting claims for the $n=500$ oldest individuals in the population (which roughly amounted to selecting `AGE>60`), which of the following comments are accurate?\n",
    "\n",
    "> Hint: Consider that the original `auto_claims.csv` \"sample\" is a \"sample\" of auto insurance claimants greater than 60 years of age, while the population includes other ages; whereas, the randomly drawn samples in `Q13` are not based upon this systematic constraint of the sample relative to the population...\n",
    "\n",
    "\n",
    "A. Based on the behaviour of random sampling, we would expect there to be about a 95% chance that the 95% bootstrap confidence interval created in Q9 would end up capturing the true population median, and it did!\n",
    "\n",
    "B. Based on the behaviour of random sampling, we would expect there to be about a 5% chance that the 95% bootstrap confidence interval created in Q9 would not end up capturing the true population median, but fortunately it did!\n",
    "\n",
    "C. While the 95% bootstrap confidence interval created in Q9 did indeed capture the true population median, there were no specific probabilistic guarantees or expectations as to the chance that it would since it was not based on a random sample from the population.\n",
    "\n",
    "D. Intentionally creating a sample in a systematically non-random manner such as only choosing claims where `AGE>60` is an efficient way to get a sample to use for creating a confidence interval. "
   ]
  },
  {
   "cell_type": "code",
   "execution_count": 1,
   "id": "4bfa68db",
   "metadata": {},
   "outputs": [],
   "source": [
    "# Q15: your answer will be tested!\n",
    "Q15 = None # Assign either 'A', 'B', 'C', or 'D' to `Q15` instead of `None`\n",
    "# E.g., Q15 = 'A'"
   ]
  },
  {
   "cell_type": "code",
   "execution_count": 10,
   "id": "61e97192",
   "metadata": {},
   "outputs": [],
   "source": [
    "test = (Q15=='C')\n",
    "hint = \"Choosing samples on the basis of `AGE` is not random:\\n\"\n",
    "hint += \"Insurance claims may tend to have different values for differently aged people\\n\"\n",
    "hint += \"which could bias things...\"\n",
    "hint += \"\\n\\n\"\n",
    "hint += \"The original sample may not tend to be representative of the population in the same way\\n\"\n",
    "hint += \"a truly randomly selected sample would tend to be. Therefore, the 95% confidence interval\\n\"\n",
    "hint += \"may not offer the \\\"guarantee\\\" that about 95% of the time it's proceedure will work and\\n\"\n",
    "hint += \"indeed capture the true population median that is available from assuming a random sample. \\n\\n\"\n",
    "hint += \"Although, in this case, it seems like the distribution of paid claims from the original sample\\n\"\n",
    "hint += \"is actually relatively representative of our population and that a 95% confidence interval from\\n\"\n",
    "hint += \"the original sample would probably be pretty similar to one calculated based on random samples.\\n\"\n",
    "hint += \"This will not always be the case though, and it is important to consider potential biases in\\n\"\n",
    "hint += \"the sample (sampling bias!) that could affect our estimations.\\n\""
   ]
  },
  {
   "cell_type": "code",
   "execution_count": 11,
   "id": "ba43aa69",
   "metadata": {},
   "outputs": [
    {
     "ename": "AssertionError",
     "evalue": "Choosing samples on the basis of `AGE` is not random:\nInsurance claims may tend to have different values for differently aged people\nwhich could bias things...\n\nThe original sample may not tend to be representative of the population in the same way\na truly randomly selected sample would tend to be. Therefore, the 95% confidence interval\nmay not offer the \"guarantee\" that about 95% of the time it's proceedure will work and\nindeed capture the true population median that is available from assuming a random sample. \n\nAlthough, in this case, it seems like the distribution of paid claims from the original sample\nis actually relatively representative of our population and that a 95% confidence interval from\nthe original sample would probably be pretty similar to one calculated based on random samples.\nThis will not always be the case though, and it is important to consider potential biases in\nthe sample (sampling bias!) that could affect our estimations.\n",
     "output_type": "error",
     "traceback": [
      "\u001b[0;31m---------------------------------------------------------------------------\u001b[0m",
      "\u001b[0;31mAssertionError\u001b[0m                            Traceback (most recent call last)",
      "Cell \u001b[0;32mIn[11], line 2\u001b[0m\n\u001b[1;32m      1\u001b[0m \u001b[38;5;66;03m# test_Q15\u001b[39;00m\n\u001b[0;32m----> 2\u001b[0m \u001b[38;5;28;01massert\u001b[39;00m test, hint\n",
      "\u001b[0;31mAssertionError\u001b[0m: Choosing samples on the basis of `AGE` is not random:\nInsurance claims may tend to have different values for differently aged people\nwhich could bias things...\n\nThe original sample may not tend to be representative of the population in the same way\na truly randomly selected sample would tend to be. Therefore, the 95% confidence interval\nmay not offer the \"guarantee\" that about 95% of the time it's proceedure will work and\nindeed capture the true population median that is available from assuming a random sample. \n\nAlthough, in this case, it seems like the distribution of paid claims from the original sample\nis actually relatively representative of our population and that a 95% confidence interval from\nthe original sample would probably be pretty similar to one calculated based on random samples.\nThis will not always be the case though, and it is important to consider potential biases in\nthe sample (sampling bias!) that could affect our estimations.\n"
     ]
    }
   ],
   "source": [
    "# test_Q15\n",
    "assert test, hint"
   ]
  },
  {
   "cell_type": "markdown",
   "id": "9df40363",
   "metadata": {},
   "source": [
    "### Q16: Why have we been focused on median insurance claims, as opposed to mean insurance claims?\n",
    "\n",
    "A. Using either means or medians here doesn't matter much since the distribution under consideration is symmetric.\n",
    "\n",
    "B. Using medians is better because means in this case don't represent proportions like they would for binary data.\n",
    "\n",
    "C. Means are not robust to outliers whereas medians are not affected by the actual value of outliers, so in addition to perhaps being a more meaningful measure of \"typical\" insurance claim amounts, it will also likely be easier to provide tighter confidence intervals for medians compared to means.\n",
    "\n",
    "D. Medians are easier to use than means and automatically provide an \"apples to apples\" comparision when we're working with both bootstrapping samples as well as actual samples from an actual population, whereas means would result in a more \"apples to oranges\" comparision between bootstrap sampling and population sampling."
   ]
  },
  {
   "cell_type": "code",
   "execution_count": null,
   "id": "6cbac373",
   "metadata": {},
   "outputs": [],
   "source": [
    "# Q16: your answer will be tested!\n",
    "Q16 = None # Assign either 'A', 'B', 'C', or 'D' to `Q16` instead of `None`\n",
    "# E.g., Q16 = 'A'"
   ]
  },
  {
   "cell_type": "code",
   "execution_count": null,
   "id": "a4809480",
   "metadata": {},
   "outputs": [],
   "source": [
    "test = (Q16=='C')\n",
    "hint = \"Try again... what's your next best guess?\""
   ]
  },
  {
   "cell_type": "code",
   "execution_count": null,
   "id": "8a392985",
   "metadata": {},
   "outputs": [],
   "source": [
    "# test_Q16\n",
    "assert test, hint"
   ]
  },
  {
   "cell_type": "markdown",
   "id": "b055dcd8",
   "metadata": {},
   "source": [
    "### Q17: Return to your simulation in `Q13`, but this time draw samples of size $n=100$ and add another `for` loop into your code (inside of your first `for` loop which created the 1000 samples) which creates 80% bootstrap confidence intervals for the median of paid claims for each sample (now of size $n=100$) and checks whether or not each of these intervals capture the true population median.\n",
    "\n",
    "#### Save the 1000 samples (now each of size $n=100$) taken from the population as a list of `np.array`s and report how many of them produced an 80% confidence interval that captures the population median.\n"
   ]
  },
  {
   "cell_type": "code",
   "execution_count": 21,
   "id": "32928dc9",
   "metadata": {},
   "outputs": [],
   "source": [
    "# Q17: your results below will be tested:\n",
    "#      you don't need to assign anything into Q17\n",
    "\n",
    "# Complete the code here\n",
    "np.random.seed(130) # Use this line to create reproducible pseudorandomness for your bootstrapping\n",
    "# Leave the line above as is as it is required for testing purposes\n",
    "population = pd.read_csv('auto_claims_population.csv')\n",
    "\n",
    "sample_size_n = 100 # this has changed: use this value now\n",
    "number_of_samples = 1000\n",
    "number_of_bootstrap_samples_per_sample = 100 # this has changed: use this value now\n",
    "number_of_80percent_bootstrap_confidence_intervals_capture_population_median = 0\n",
    "all_samples = []\n",
    "for i in range(number_of_samples):\n",
    "    # `np.random.choice` is an alternative to utilizing `df.sample()` which uses `replace=False` by default\n",
    "    one_sample = np.random.choice(population['PAID'], sample_size_n, replace=False)\n",
    "    # samples are of size 30\n",
    "    all_samples += [one_sample]\n",
    "\n",
    "    for j in range(number_of_bootstrap_samples_per_sample):\n",
    "        pass # Simulate bootstrap sampling distribution of sample median...\n",
    "        \n",
    "    # create 80% bootstrap confidence interval for the current sample\n",
    "        \n",
    "    if True: # fix to check if created interval capture the true population median\n",
    "        number_of_80percent_bootstrap_confidence_intervals_capture_population_median += 1\n",
    "    "
   ]
  },
  {
   "cell_type": "code",
   "execution_count": 230,
   "id": "a0e29e05",
   "metadata": {},
   "outputs": [
    {
     "ename": "AssertionError",
     "evalue": "See above...",
     "output_type": "error",
     "traceback": [
      "\u001b[0;31m---------------------------------------------------------------------------\u001b[0m",
      "\u001b[0;31mAssertionError\u001b[0m                            Traceback (most recent call last)",
      "Cell \u001b[0;32mIn[230], line 17\u001b[0m\n\u001b[1;32m     14\u001b[0m     \u001b[38;5;28;01mif\u001b[39;00m ((interval[\u001b[38;5;241m0\u001b[39m] \u001b[38;5;241m<\u001b[39m\u001b[38;5;241m=\u001b[39m pop_med) \u001b[38;5;129;01mand\u001b[39;00m (pop_med \u001b[38;5;241m<\u001b[39m\u001b[38;5;241m=\u001b[39m interval[\u001b[38;5;241m1\u001b[39m])):\n\u001b[1;32m     15\u001b[0m         total_captures \u001b[38;5;241m+\u001b[39m\u001b[38;5;241m=\u001b[39m \u001b[38;5;241m1\u001b[39m\n\u001b[0;32m---> 17\u001b[0m \u001b[38;5;28;01massert\u001b[39;00m (number_of_80percent_bootstrap_confidence_intervals_capture_population_median\u001b[38;5;241m==\u001b[39mtotal_captures), \u001b[38;5;124m\"\u001b[39m\u001b[38;5;124mSee above...\u001b[39m\u001b[38;5;124m\"\u001b[39m\n",
      "\u001b[0;31mAssertionError\u001b[0m: See above..."
     ]
    }
   ],
   "source": [
    "# test_Q17\n",
    "\n",
    "pop_med = pd.read_csv('auto_claims_population.csv').PAID.median()\n",
    "total_captures = 0\n",
    "np.random.seed(130)\n",
    "bootstrapped_medians = np.array([0.0]*number_of_bootstrap_samples_per_sample)\n",
    "for one_sample in all_samples:\n",
    "    # This is needed to make the RNG usage template match the students structure \n",
    "    np.random.choice(population['PAID'], sample_size_n, replace=False)\n",
    "    \n",
    "    for j in range(number_of_bootstrap_samples_per_sample):\n",
    "        bootstrapped_medians[j] = np.median(np.random.choice(one_sample, sample_size_n, replace=True))\n",
    "        \n",
    "    interval = np.quantile(bootstrapped_medians, (0.1, 0.9))\n",
    "    #if ((pop_med <= interval).sum() == 1) and ((pop_med >= interval).sum() == 1):\n",
    "    if ((interval[0] <= pop_med) and (pop_med <= interval[1])):\n",
    "        total_captures += 1\n",
    "\n",
    "assert (number_of_80percent_bootstrap_confidence_intervals_capture_population_median==total_captures), \"See above...\""
   ]
  },
  {
   "cell_type": "code",
   "execution_count": null,
   "id": "7c07065f",
   "metadata": {},
   "outputs": [],
   "source": []
  }
 ],
 "metadata": {
  "kernelspec": {
   "display_name": "Python 3 (ipykernel)",
   "language": "python",
   "name": "python3"
  },
  "language_info": {
   "codemirror_mode": {
    "name": "ipython",
    "version": 3
   },
   "file_extension": ".py",
   "mimetype": "text/x-python",
   "name": "python",
   "nbconvert_exporter": "python",
   "pygments_lexer": "ipython3",
   "version": "3.10.8"
  }
 },
 "nbformat": 4,
 "nbformat_minor": 5
}
