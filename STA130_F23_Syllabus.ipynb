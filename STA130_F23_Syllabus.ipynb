{
 "cells": [
  {
   "cell_type": "markdown",
   "id": "37002971",
   "metadata": {},
   "source": [
    "# Land Acknowledgement\n",
    "\n",
    "The land on which the University of Toronto operates has for thousands of years been the traditional land of the [Huron-Wendat](http://www.thecanadianencyclopedia.ca/en/article/huron/), the [Seneca](http://www.thecanadianencyclopedia.ca/en/article/seneca/), and most recently, the [Mississaugas of the Credit](http://mncfn.ca/). Today, this meeting place is still the home to many Indigenous people from across Turtle Island and we are grateful to have the opportunity to live, work, learn, and grow on this land.\n"
   ]
  },
  {
   "cell_type": "markdown",
   "id": "c4c4d9e0",
   "metadata": {
    "slideshow": {
     "slide_type": "slide"
    }
   },
   "source": [
    "# STA130: <br>Introduction to Statistical Reasoning and Data Science\n",
    "\n",
    "We observe phenomenon in the environments around us and take measurements to create data sets to help us derive understanding about our world that can benefit us moving forward. Statistics seeks to quantify the reliability of conclusions we might draw from the data, while Data Science seeks to leverage generalizable conclusions to improve business effectiveness and create competitive advantages. Statistics is thus the science of learning from data, while Data Science is a relatively new interdisciplinary field that includes the computational aspects of acquiring, managing, and analysing data.  What really makes these desciplines useful, however, is our ability to communicate our findings in a clear and convincing manner that cataylzes appropriate actions and respnoses from decision makers and key stakeholders.\n",
    "\n",
    "> This course will focus on the reasoning, computation, and communication skills which are central to the related disciplines of Statistics and Data Science. We'll use the `python` programming language and the UofT JupyterHub cloud computing environment (which students will need to access through personal computers or university computer workstations) and students will gain practical experience understanding and performing statistical and data science topics and communicating about these methodologies and analyses. \n",
    "\n",
    "![Dr. Julia Lowndes' version of Grolemund & Wickham's classic R4DS schematic illustrated by @Allison_Horst](https://bookdown.org/gavinmasterson/dvfc/images/environmental-data-science-r4ds-general.png)\n",
    "\n",
    "[Dr. Julia Lowndes'](https://github.com/allisonhorst/stats-illustrations/raw/master/openscapes/) version of [Grolemund & Wickham's](https://r4ds.had.co.nz/introduction.html#what-you-will-learn) classic R4DS schematic [illustrated](https://github.com/allisonhorst/stats-illustrations#hello) by [@Allison_Horst](https://twitter.com/allison_horst?lang=en)"
   ]
  },
  {
   "cell_type": "markdown",
   "id": "122d6c37",
   "metadata": {},
   "source": [
    "# Objectives\n",
    "\n",
    "1. Enable students to write code to perform data analysis, including normalizing troubleshooting and learning as routine activities of this exercise \n",
    "    - Class lectures will be based on on-the-fly coding demonstrations; and, students will practice coding through homework exercises\n",
    "    - A group-based course project will additionally provide students with practical coding based data analysis experience throughout the semester \n",
    "2. Instill a deep understanding of key data analysis concepts: data wrangling, populations and samples, visualizations, parameters and statistics, sampling distributions, simulation and bootstrapping, confidence intervals, hypothesis testing, linear regression and classification, etc.\n",
    "    - Class tutorials will use the more intimate and interactive format to further examine key concepts underlying the methods demonstrated in class\n",
    "    - Homeworks and exams will push the limit of understanding by considering generalizations of the topics and concepts presented in class\n",
    "3. Improve communication skill and ability through frequent writing exercises and a course project presentation involving a group presentation\n",
    "    - The course involves a lot of coding, but the coding homeworks often include expositions introducing students to new topics as part of the homework and include many writing based questions; and, tutorial activities and tutorial assignments are typically writing assignments\n",
    "4. Acclimate and Integrate into your new life as a university student and learn how to be successful here at UofT through structured study habits \n",
    "    - Make friends and a community where you belong through Tutorials, [Recognized Study Groups](https://sidneysmithcommons.artsci.utoronto.ca/recognized-study-groups/), [Meet to Complete](https://q.utoronto.ca/enroll/8CXECE), and other UofT Groups\n",
    "    - Engage in the UofT The STA130 Mentorship Program designed to faciliate finding opportunities to join in and build community here at UofT\n",
    "    \n",
    "\n",
    "\n",
    "\n"
   ]
  },
  {
   "cell_type": "markdown",
   "id": "74e2f319",
   "metadata": {
    "slideshow": {
     "slide_type": "slide"
    }
   },
   "source": [
    "# Topics\n",
    "\n",
    "0. [Sep 11/15] **Course Introduction**<br>$\\hspace{.725in}$\n",
    "    Quercus, Github, Markdown, $\\LaTeX$, why we're using `Python` rather than `R`,<br>$\\hspace{.725in}$ JupyterHub, `.ipynb` Notebooks, and MarkUs, Syllabus, Course Project, etc.\n",
    "    \n",
    "    \n",
    "1. [Sep 18/22] **Data Wrangling**<br>$\\hspace{.725in}$\n",
    "    Data manipulation with `pandas` (built on `numpy`), etc.\n",
    "    \n",
    "    \n",
    "2. [Sep 25/29] **Distributions**<br>$\\hspace{.725in}$\n",
    "    Data Types, `plotly`, Populations/Samples and Parameters/Statistics\n",
    "    \n",
    "    \n",
    "3. [Oct 02/06] **Confidence Intervals**<br>$\\hspace{.725in}$\n",
    "    `scipy.stats` sampling distribution simulation and bootstrapping (`for`, `list`, `numpy`, etc.)<br>$\\hspace{.725in}$ Parameters/Statistics and Populations/Samples \n",
    "     \n",
    "\n",
    "- [Oct ~09~/13] **Introduction of the \"Course Project Notebook\", the Course Project Data, and Course Project Assignment Dates**<br>$\\hspace{.725in}$\n",
    "    **The Thanksgiving holiday will be observed at UofT on Thursday Oct 9th; so, there is no class lecture on Monday Oct 9th**\n",
    "    \n",
    "    \n",
    "4. [Oct 16/20] **One Sample Hypothesis Tests**<br>$\\hspace{.725in}$\n",
    "    Parameters/Statistics and Populations/Samples, simulated **p-value** construction and usage, as well as<br>$\\hspace{.725in}$ \n",
    "    theoretical nonparametric and parametric alternatives using `scipy.stats.binom` and `scipy.stats.ttest_1samp` \n",
    "\n",
    "\n",
    "5. [Oct 23/27] **Two Sample Hypothesis Tests (and Confidence Intervals)**<br>$\\hspace{.725in}$\n",
    "    Label shuffling based sampling distribution simulation for two sample **p-values**, **confidence intervals** for parameter differences,<br>$\\hspace{.725in}$\n",
    "    and `scipy.stats.ttest_ind`, and `scipy.stats.median_test` and `scipy.stats.wilcoxon`, etc.\n",
    "\n",
    "\n",
    "- [Oct 30/---] **Midterm (MT) Exam Review and Formal Official Course Project Introductions with Christine (UofT) and Evan (UNICEF)**<br>$\\hspace{.725in}$\n",
    "\n",
    "\n",
    "- [Nov ---/03] **Midterm (MT) Exam**<br>$\\hspace{.725in}$\n",
    "    **MT** covers all the above Coding, Confidence Intervals, and Hypothesis Testing topics<br>$\\hspace{.725in}$and takes place during normally scheduled **Tutorial** periods (location TBA)\n",
    "\n",
    "\n",
    "- ***Reading Week***\n",
    "\n",
    "\n",
    "6. [Nov 13/17] **Simple Linear Regression**<br>$\\hspace{.725in}$\n",
    "    Correlation, assumptions of statistical regression analysis, interpretation and `statsmodels` usage, indicator variables\n",
    "    \n",
    "\n",
    "\n",
    "7. [Nov 20/24] **Multivariate Linear Regression**<br>$\\hspace{.725in}$\n",
    "    `statsmodels`, ordinary least squares, interactions and higher order terms (etc.), overfitting and $R^2$ versus training-testing\n",
    "\n",
    "\n",
    "8. [Nov 27]/[Dec 01] **Binary Classification Decision Trees**<br>$\\hspace{.725in}$\n",
    "    `sklearn.tree.DecisionTreeClassifier`, `Graphviz`, visualization and interpretation, confusion matrices <br>$\\hspace{.725in}$\n",
    "    and accuracy versus sensitivity/specificity, feature importances and partial dependency plots, etc.\n",
    "    <!-- `sklearn.model_selection.train_test_split`,  `sklearn.model_selection.GridSearchCV`,--> \n",
    "\n",
    "\n",
    "9. [Dec 04] **Final Examination Review and Ethics Guest Lecture**<br>$\\hspace{.725in}$\n",
    "    Philosophy Prof. Steven Coyne will provide a presentation on Algorithmic Discrimination\n",
    "    \n",
    "\n"
   ]
  },
  {
   "cell_type": "markdown",
   "id": "ac90056f",
   "metadata": {
    "slideshow": {
     "slide_type": "fragment"
    }
   },
   "source": [
    "$$\\Huge\n",
    "\\begin{align*}\n",
    "H_0: \\mu = {} & 0 &\\quad&\\quad& H_0: \\mu_1 = {} & \\mu_2\\\\\n",
    "H_A: \\mu \\neq {} & 0 &\\quad&\\quad& H_A: \\mu_1 \\neq {} & \\mu_2\n",
    "\\end{align*}$$"
   ]
  },
  {
   "cell_type": "markdown",
   "id": "f6f3656b",
   "metadata": {
    "slideshow": {
     "slide_type": "slide"
    }
   },
   "source": [
    "$$\\LARGE \\displaystyle \\int e^{-\\frac{1}{2}\\left(\\frac{X-\\mu}{\\sigma}\\right)^2} dx = \\; ?$$\n",
    "\n",
    "- This is not something we'll cover in STA130... it's just meant to demonstrate some fun $\\LaTeX$."
   ]
  },
  {
   "cell_type": "markdown",
   "id": "1fee2845",
   "metadata": {},
   "source": [
    "# Python VS R... and Coding, generally\n"
   ]
  },
  {
   "cell_type": "code",
   "execution_count": 5,
   "id": "444dd813",
   "metadata": {},
   "outputs": [
    {
     "name": "stdout",
     "output_type": "stream",
     "text": [
      "Collecting rpy2\n",
      "  Downloading rpy2-3.5.13.tar.gz (218 kB)\n",
      "\u001b[2K     \u001b[90m━━━━━━━━━━━━━━━━━━━━━━━━━━━━━━━━━━━━━━━\u001b[0m \u001b[32m218.8/218.8 kB\u001b[0m \u001b[31m1.8 MB/s\u001b[0m eta \u001b[36m0:00:00\u001b[0m00:01\u001b[0m\n",
      "\u001b[?25h  Installing build dependencies ... \u001b[?25ldone\n",
      "\u001b[?25h  Getting requirements to build wheel ... \u001b[?25ldone\n",
      "\u001b[?25h  Preparing metadata (pyproject.toml) ... \u001b[?25ldone\n",
      "\u001b[?25hRequirement already satisfied: cffi>=1.10.0 in /opt/conda/lib/python3.10/site-packages (from rpy2) (1.15.1)\n",
      "Requirement already satisfied: jinja2 in /opt/conda/lib/python3.10/site-packages (from rpy2) (3.1.2)\n",
      "Collecting tzlocal (from rpy2)\n",
      "  Downloading tzlocal-5.0.1-py3-none-any.whl (20 kB)\n",
      "Requirement already satisfied: pycparser in /opt/conda/lib/python3.10/site-packages (from cffi>=1.10.0->rpy2) (2.21)\n",
      "Requirement already satisfied: MarkupSafe>=2.0 in /opt/conda/lib/python3.10/site-packages (from jinja2->rpy2) (2.1.3)\n",
      "Building wheels for collected packages: rpy2\n",
      "  Building wheel for rpy2 (pyproject.toml) ... \u001b[?25ldone\n",
      "\u001b[?25h  Created wheel for rpy2: filename=rpy2-3.5.13-cp310-cp310-linux_x86_64.whl size=261541 sha256=33b1e1a9f7b3a6a76f824548c0e8dde69cf8a317186868654eaa42ac29941565\n",
      "  Stored in directory: /home/jovyan/.cache/pip/wheels/b3/10/14/333faaf40f9cd461b2cd5a785a32d593b88e08b1834f081bd5\n",
      "Successfully built rpy2\n",
      "Installing collected packages: tzlocal, rpy2\n",
      "Successfully installed rpy2-3.5.13 tzlocal-5.0.1\n"
     ]
    }
   ],
   "source": [
    "! pip install rpy2"
   ]
  },
  {
   "cell_type": "code",
   "execution_count": 6,
   "id": "23fd0eae",
   "metadata": {},
   "outputs": [],
   "source": [
    "import rpy2\n",
    "%load_ext rpy2.ipython"
   ]
  },
  {
   "cell_type": "code",
   "execution_count": 7,
   "id": "e5c3ee30",
   "metadata": {},
   "outputs": [
    {
     "data": {
      "text/plain": [
       "In addition: Warning message:\n",
       "In (function (package, help, pos = 2, lib.loc = NULL, character.only = FALSE,  :\n",
       "  library ‘/usr/local/lib/R/site-library’ contains no packages\n"
      ]
     },
     "metadata": {},
     "output_type": "display_data"
    }
   ],
   "source": [
    "%%R\n",
    "install.packages('tidyverse', repos='http://cran.us.r-project.org', quiet=TRUE)\n",
    "install.packages('ggplot2', repos='http://cran.us.r-project.org', quiet=TRUE)\n",
    "install.packages('palmerpenguins', repos='http://cran.us.r-project.org', quiet=TRUE)"
   ]
  },
  {
   "cell_type": "code",
   "execution_count": 8,
   "id": "e8aee582",
   "metadata": {},
   "outputs": [
    {
     "data": {
      "text/html": [
       "<div>\n",
       "<style scoped>\n",
       "    .dataframe tbody tr th:only-of-type {\n",
       "        vertical-align: middle;\n",
       "    }\n",
       "\n",
       "    .dataframe tbody tr th {\n",
       "        vertical-align: top;\n",
       "    }\n",
       "\n",
       "    .dataframe thead th {\n",
       "        text-align: right;\n",
       "    }\n",
       "</style>\n",
       "<table border=\"1\" class=\"dataframe\">\n",
       "  <thead>\n",
       "    <tr style=\"text-align: right;\">\n",
       "      <th></th>\n",
       "      <th>x_var</th>\n",
       "      <th>y_var</th>\n",
       "    </tr>\n",
       "  </thead>\n",
       "  <tbody>\n",
       "    <tr>\n",
       "      <th>0</th>\n",
       "      <td>0</td>\n",
       "      <td>3</td>\n",
       "    </tr>\n",
       "    <tr>\n",
       "      <th>1</th>\n",
       "      <td>1</td>\n",
       "      <td>5</td>\n",
       "    </tr>\n",
       "    <tr>\n",
       "      <th>2</th>\n",
       "      <td>2</td>\n",
       "      <td>7</td>\n",
       "    </tr>\n",
       "    <tr>\n",
       "      <th>3</th>\n",
       "      <td>3</td>\n",
       "      <td>6</td>\n",
       "    </tr>\n",
       "    <tr>\n",
       "      <th>4</th>\n",
       "      <td>4</td>\n",
       "      <td>9</td>\n",
       "    </tr>\n",
       "    <tr>\n",
       "      <th>5</th>\n",
       "      <td>5</td>\n",
       "      <td>8</td>\n",
       "    </tr>\n",
       "    <tr>\n",
       "      <th>6</th>\n",
       "      <td>6</td>\n",
       "      <td>10</td>\n",
       "    </tr>\n",
       "    <tr>\n",
       "      <th>7</th>\n",
       "      <td>7</td>\n",
       "      <td>12</td>\n",
       "    </tr>\n",
       "    <tr>\n",
       "      <th>8</th>\n",
       "      <td>8</td>\n",
       "      <td>13</td>\n",
       "    </tr>\n",
       "    <tr>\n",
       "      <th>9</th>\n",
       "      <td>9</td>\n",
       "      <td>11</td>\n",
       "    </tr>\n",
       "  </tbody>\n",
       "</table>\n",
       "</div>"
      ],
      "text/plain": [
       "   x_var  y_var\n",
       "0      0      3\n",
       "1      1      5\n",
       "2      2      7\n",
       "3      3      6\n",
       "4      4      9\n",
       "5      5      8\n",
       "6      6     10\n",
       "7      7     12\n",
       "8      8     13\n",
       "9      9     11"
      ]
     },
     "execution_count": 8,
     "metadata": {},
     "output_type": "execute_result"
    }
   ],
   "source": [
    "import pandas as pd\n",
    "\n",
    "df = pd.DataFrame({\n",
    "    'x_var': [0, 1, 2, 3, 4, 5, 6, 7, 8, 9],\n",
    "    'y_var': [3, 5, 7, 6, 9, 8, 10, 12, 13, 11]\n",
    "})\n",
    "df"
   ]
  },
  {
   "cell_type": "code",
   "execution_count": 9,
   "id": "7dc7a777",
   "metadata": {},
   "outputs": [
    {
     "name": "stdout",
     "output_type": "stream",
     "text": [
      "── Attaching core tidyverse packages ──────────────────────── tidyverse 2.0.0 ──\n",
      "✔ dplyr     1.1.2     ✔ readr     2.1.4\n",
      "✔ forcats   1.0.0     ✔ stringr   1.5.0\n",
      "✔ lubridate 1.9.2     ✔ tibble    3.2.1\n",
      "✔ purrr     1.0.1     ✔ tidyr     1.3.0\n",
      "── Conflicts ────────────────────────────────────────── tidyverse_conflicts() ──\n",
      "✖ dplyr::filter() masks stats::filter()\n",
      "✖ dplyr::lag()    masks stats::lag()\n",
      "ℹ Use the conflicted package (<http://conflicted.r-lib.org/>) to force all conflicts to become errors\n"
     ]
    }
   ],
   "source": [
    "%%R\n",
    "library(ggplot2)\n",
    "library(tidyverse)\n",
    "library(palmerpenguins)"
   ]
  },
  {
   "cell_type": "code",
   "execution_count": 10,
   "id": "2af8f710",
   "metadata": {},
   "outputs": [
    {
     "name": "stdout",
     "output_type": "stream",
     "text": [
      "# A tibble: 3 × 8\n",
      "  species   island bill_length_mm bill_depth_mm flipper_length_mm body_mass_g\n",
      "  <fct>      <dbl>          <dbl>         <dbl>             <dbl>       <dbl>\n",
      "1 Adelie        NA           38.8          18.3              190.       3701.\n",
      "2 Chinstrap     NA           48.8          18.4              196.       3733.\n",
      "3 Gentoo        NA           47.5          15.0              217.       5076.\n",
      "# ℹ 2 more variables: sex <dbl>, year <dbl>\n"
     ]
    },
    {
     "data": {
      "text/plain": [
       "In addition: Warning message:\n",
       "There were 7 warnings in `summarize()`.\n",
       "The first warning was:\n",
       "ℹ In argument: `across(!where(is.character), mean, na.rm = TRUE)`.\n",
       "ℹ In group 1: `species = Adelie`.\n",
       "Caused by warning:\n",
       "! The `...` argument of `across()` is deprecated as of dplyr 1.1.0.\n",
       "Supply arguments directly to `.fns` through an anonymous function instead.\n",
       "\n",
       "  # Previously\n",
       "  across(a:b, mean, na.rm = TRUE)\n",
       "\n",
       "  # Now\n",
       "  across(a:b, \\(x) mean(x, na.rm = TRUE))\n",
       "This warning is displayed once every 8 hours.\n",
       "Call `lifecycle::last_lifecycle_warnings()` to see where this warning was\n",
       "generated.\n",
       "ℹ Run `dplyr::last_dplyr_warnings()` to see the 6 remaining warnings. \n"
      ]
     },
     "metadata": {},
     "output_type": "display_data"
    }
   ],
   "source": [
    "%%R\n",
    "(penguins %>%\n",
    "  group_by(species) %>%\n",
    "  summarize(across(!where(is.character), mean, na.rm = TRUE)))"
   ]
  },
  {
   "cell_type": "code",
   "execution_count": 13,
   "id": "aae2f305",
   "metadata": {},
   "outputs": [
    {
     "name": "stdout",
     "output_type": "stream",
     "text": [
      "`geom_smooth()` using method = 'loess' and formula = 'y ~ x'\n"
     ]
    },
    {
     "name": "stderr",
     "output_type": "stream",
     "text": [
      "R[write to console]: In addition: \n",
      "R[write to console]: Warning messages:\n",
      "\n",
      "R[write to console]: 1: Removed 2 rows containing non-finite values (`stat_smooth()`). \n",
      "\n",
      "R[write to console]: 2: Removed 2 rows containing missing values (`geom_point()`). \n",
      "\n"
     ]
    },
    {
     "data": {
      "image/png": "[encoded data removed]",
      "text/plain": [
       "<IPython.core.display.Image object>"
      ]
     },
     "metadata": {},
     "output_type": "display_data"
    }
   ],
   "source": [
    "%%R\n",
    "ggplot(data = penguins, aes(x = bill_length_mm, y = bill_depth_mm)) +\n",
    "  geom_point(color = 'red', size = 4) + stat_smooth()"
   ]
  },
  {
   "cell_type": "markdown",
   "id": "e3b4355b",
   "metadata": {},
   "source": [
    "# Cadence\n",
    "\n",
    "- Course Materials: [GitHub Course Repository](https://github.com/pointOfive/STA130_F23)\n",
    "- Weekly Homework Submissions: [MarkUs Testing](https://markus.teach.cs.toronto.edu/schwartztest/?locale=en)\n",
    "- All Other Submissions: [Quercus Course Webpage](https://q.utoronto.ca/courses/316754)\n",
    "\n",
    "|      | Monday | Tuesday & Wednesday | Thursday | Friday | |\n",
    "|-|:-|:-|-|-|-|\n",
    "| |Demonstration<br>Coding Lecture | Office Hours & Piazza<br>Weekly Homework | Submit Completed<br>Weekly Homework | Tutorial Lectures &<br>In-Person Activity\n",
    "| Section L0101 | **9-11 AM**<br>BA1160 |  || **9-11 AM** Tutorial Lecture<br>See ACORN for location |\n",
    "|  |\n",
    "| Section L0201  | **1-3 PM**<br>MC102 | || **1-3 PM** Tutorial Lecture<br>See ACORN for location  |\n",
    "|   |\n",
    "| L0101 & L0201 | **9 AM** due on [Quercus](https://q.utoronto.ca/courses/316754) <br> *Tutorial Assignment | **11AM-1PM & 5-7PM**<br>Various Office Hours | **5 PM** due on [MarkUs](https://markus.teach.cs.toronto.edu/schwartztest/?locale=en) <br> Weekly Homework | *Tutorial Assignment <br>Due \"Next Monday\" |\n",
    "|   | \n",
    "\n",
    "- All times ET. \n",
    "- It is expected that students will attend their assigned lecture/tutorial sections; however, accomodation exceptions may be requested at STA130@utoronto.ca. \n",
    "- **Demonstration Coding Lectures** will be recorded so long as no technical difficulties are encountered; however, it is not expected that **Tutorial Lectures** will be recorded and there are currently no plans for doing so.\n",
    "\n",
    "> - BA1160 is Bahen Centre Information Centre Adel Sedra Autitorium room 1160: [Map 1](https://map.utoronto.ca/?id=1809#!m/494470?s/), [Map 2](https://engineeringcareers.utoronto.ca/venue/ba-1160-bahen-centre-2/), [More Info](https://lsm.utoronto.ca/ws/f?p=210:1:::::P1_BLDG,P1_ROOM:BA,1160)\n",
    "> - MC102 is the Mechanical Engineering Building room 102: [Map 1](https://map.utoronto.ca/?id=1809#!m/494474?s/), [Map 2](https://www.classfind.com/toronto/room/MC102), [More Info](https://lsm.utoronto.ca/ws/f?p=210:1:::::P1_BLDG,P1_ROOM:MC,102)\n",
    "\n",
    "\n",
    "<!--\n",
    "> - Tutorial buildings are available through the [UofT Timetable](https://ttb.utoronto.ca) by setting *Faculty / Division* to \"Faculty of Arts and Science\", *Session* to Fall 2023 (F), use *Course Code, Course Title, or Keyword* \"STA130H1 F An Introduction to Statistical Reasoning and Data Science\", and *Department* to \"Department of Statistical Sciences\", and as seen there, specific room locations regarding tutorials are available through ACORN.\n",
    "--> "
   ]
  },
  {
   "cell_type": "markdown",
   "id": "5ccdf731",
   "metadata": {},
   "source": [
    "# Workload\n",
    "\n",
    "Students will generally be attending the 4 hours of weekly lectures and tutorials. Beyond that, it is expected that the average student will devote at least an additional 6 hours per week outside of these hours to general studying, weekly homework, and tutorial assignments. This might end up being something like 4 hours of working on the weekly homework while reviewing the lecture notebooks and recordings to help with the coding homework completion, and then an hour or so getting some help from an office hour or piazza, and then another hour to complete the tutorial assignment on Friday or over the weekend. It is also expected that some weeks will require additional hours of effort beyond this.  For example, students struggling with a particular concept or idea or generally needing more help with coding due to being newer to coding would likely need to devote additional time seeking out help through office hours.  Additionally, while Course Project related submissions occur in weeks where there are no other assigments, they may nonetheless be quite time demanding. Specifically, in the week of Oct 30 **Project Assignment #1** is due on Nov 3 the same day as the **Midterm Exam** which students will likely want to devote study time towards. And the weeks of Nov 20, Nov 27, and Dec 4 at the end of the semester will likely be extra busy as well since the Course Project is due on Dec 7, and it will very likely be the case that course project groups will end up spending additional time finalizing their projects in order to be ready for their Dec 7 presentations. \n",
    "\n",
    "<!-- > All exam questions will be written answer questions, and will many times involve code and writing code. Additionally, the final exam is necessarily comprehensive as the material in the course naturally builds on itself and depends on previously introduced topics in order to develop and extend into the more advanced concepts.  The way to do well in the course, then, is to solidly understand all the coding and concepts intoduced in the class.  This way, when new topics and ideas are presented on the exams which are variants of the topics we've covered in class, you will be familiar and comfortable with the concepts of the course and be able to generalize what you know in order to answer the exam questions. -->"
   ]
  },
  {
   "cell_type": "markdown",
   "id": "78ed3f66",
   "metadata": {
    "slideshow": {
     "slide_type": "subslide"
    }
   },
   "source": [
    "# Office Hours\n",
    "\n",
    "- Get help from your peers and TAs as soon as you need it, **especially if you're new to coding**\n",
    "\n",
    "> Tutorial services are an available option, but bear in mind that the course has been rebuilt for the first time for `python` so our STA130 TAs will have a head start on the details of the course materials that are specific to our version of the rebuilt course compared to an external tutoring service that's oriented towards previous versions of the course. \n",
    ">\n",
    "> - To bolster their baseline ability with STA130 topics, STA130 TAs are expected to have spent about 60 minutes in preparation for OH.\n",
    "> - While some of the STA130 TAs will have some familiarity with `python`, it is also expected that many of them will be learning `python` in a \"just in time\" and \"on the fly\" manner alongside the course students (which is in line with the instructional design of the course): the `python` coding in this course is statistics and data science oriented so even \"newer to `python`\" STA130 TAs are going to be a good place to start looking for help.\n",
    "> \n",
    "> > STA130 TAs are meant to serve and mentors and role models for STA130 students. As such, while TAs may be able to immediately provide the answers you need, it's equally useful when they demonstrate how to go about approaching and figuring out something you don't know the answer to. Given the newly rebuilt nature of this course, it is expected and intended that this will occur authentically as our STA130 TAs figure out how to help you with your questions; and, in the best case scenario the student should leave the interaction thinking, \"I saw how they went about figuring that out... I would be able to do that, too!\"\n",
    "\n",
    " \n",
    "    \n",
    "| Office Hours | Location | Times | TA notes|\n",
    "|-|-|-|-|\n",
    "| General/Coding Questions | **SS 621** | Tue & Wed 11AM-1PM & 5-7PM | 8TAs @ 1 hrs/TA (8hrs total) |\n",
    "| General/Coding Questions | Online | Tue & Wed 11AM-1PM & 5-7PM | 8TAs @ 1 hrs/TA (8hrs total) |\n",
    "| Coding Demonstration | Online | Tue & Wed 11AM-1PM & 5-7PM | 4TAs @ 2 hrs/TA (8hrs total) | \n",
    "| [Discussion Board](https://piazza.com/utoronto.ca/fall2023/sta130) | [Piazza](https://piazza.com/class/lll7afsmjfiat) | Reviewed Mon-Thur 4-6PM | 4TAs @ 2 hrs/TA (8hrs total) |\n",
    "| Professor Schwartz | [zoom](https://utoronto.zoom.us/j/2910373742) | F12-1PM | \n",
    "\n",
    "\n",
    "- **SS 621** is the Sidney Smith building rooms 621 and 621A: [Map 1](https://map.utoronto.ca/?id=1809#!m/494510?s/), [Map 2](https://www.classfind.com/toronto/room/SS621), [More Info](https://www.statistics.utoronto.ca/undergraduate-student-resources/statistics-aid-centres)\n",
    "> Sidney Smith 621 and 621A also houses the [Statistics Aid Centre](https://www.statistics.utoronto.ca/undergraduate-student-resources/statistics-aid-centres); however, STA130 TAs are your best first choice for TA support as our TAs will be the most familiar with the details and specific requirements of STA course and are here to provided dedicated support for STA130 students.\n",
    "\n",
    "- Zoom links for online TA Office Hours will be listed on Quercus\n",
    "> - TA Office Hours may sometimes be rescheduled outside of the standard hours to accomodate TA availability\n",
    "> - TA Office Hours scheduling subject to change based on student usage\n"
   ]
  },
  {
   "cell_type": "markdown",
   "id": "bce6e020",
   "metadata": {
    "slideshow": {
     "slide_type": "slide"
    }
   },
   "source": [
    "# Grades \n",
    "\n",
    "\n",
    "|Exercise|  | Points | Policies | Addition Details |\n",
    "|-|:-|-|:-|:-|\n",
    "| Coding Homework | 1 (x9) | 7 | Best 7 of 9 | Due Thursdays 5 PM ET weekly |\n",
    "| Tutorial Activity | 1 (x9) | 7 | Best 7 of 9 | Based on in-person particiation |\n",
    "| Tutorial Assignment | 1 (x9) | 7 | Best 7 of 9 | Due Mondays 9 AM ET weekly |\n",
    "| Midterm Exam |  | 25 | During Tutorial<br>Friday, Nov 3 | Location information below;<br>Reweights to Final if missed |\n",
    "| Final Exam |  | 33 | Date TBA | FAS handles [exam deferral petitions](https://www.artsci.utoronto.ca/current/faculty-registrar/petitions/deferred-exams) | \n",
    "| Course Project |  | 18 | See below | Points and due date details below |\n",
    "| Mentorship | 1 (x3) | 3 | Dates TBA | Due by Dec 7 | \n",
    "\n",
    "### Additional Policies\n",
    "\n",
    "- Students who have been waitlisted and enrolled in the course after Sep 11 may submit one **weekly homework**, one **tutorial activity**, and one **tutorial assignment** late\n",
    "- There is no \"late submission due to sickness\" policy as assignments missed due to sickness are covered by the \"Best 7 of 9\" policy\n",
    "- In the ocasional event that a TA is too sick to lead a Tutorial in-person, the Tutorials may be transitioned into remote zoom meeting \n",
    "    - If a Tutorial cannot be transitioned and delivered as remote zoom meeting, the **Tutorial Activity** and **Tutorial Assignment** are still due, with the **Tutorial Activity** completed and submitted as a separate document alongside the submitted **Tutorial Assignment**\n",
    "- If you believe a Weekly Homework, Tutorial Activity, Tutorial Assignment, or Course Project related submission has been marked incorrectly, please email sta130@utoronto.ca detailing your specific concern and proposed correction along with your justification for the adjustment\n",
    "    - Inquiries with insufficient contextual information will be replied to with \"Please email sta130@utoronto.ca detailing your specific concern and proposed correction along with your justification for the adjustment\"\n",
    "    - Declined inquiries will receive the message \"Your concern regarding this mark has been noted and reviewed; but, it has been determined that your mark will not be adjusted\"\n",
    "- All other requests for additional accomodation or consideration must be initiated through [Accessibility Services](https://studentlife.utoronto.ca/department/accessibility-services/) (accessibility.services@utoronto.ca) or your [College Registrar](https://registrar.utoronto.ca/)"
   ]
  },
  {
   "cell_type": "code",
   "execution_count": 1,
   "id": "6574fe13",
   "metadata": {
    "slideshow": {
     "slide_type": "fragment"
    }
   },
   "outputs": [
    {
     "data": {
      "text/plain": [
       "100"
      ]
     },
     "execution_count": 1,
     "metadata": {},
     "output_type": "execute_result"
    }
   ],
   "source": [
    "7+7+7+25+33+18+3"
   ]
  },
  {
   "cell_type": "markdown",
   "id": "e3f89142",
   "metadata": {
    "slideshow": {
     "slide_type": "slide"
    }
   },
   "source": [
    "# Calendar\n",
    "\n",
    "- There are no lectures or tutorials scheduled during Reading Week (**RW**).\n",
    "- The Midterm (**MT**) will take place during the normally scheduled tutorial session on Fri, Nov 3rd; but, \n",
    "    - the location of the **MT** will take place in a different place (TBA) than the normal tutorial room locations.\n",
    "- Classes on Monday Oct 9th are optionally reschedule for Thursday Dec 7th in order to observe the Thanksgiving (**TG**) on Monday Oct 9th. \n",
    "    - Course project presentations will thus be conveniently scheduled to coincide with (Monday) lecture periods rescheduled for Thursday Dec 7th.\n",
    "\n",
    "\n",
    "\n",
    "|      | Monday Lectures | Friday Tutorials | Topics |\n",
    "|-|:-|:-| |\n",
    "| **Sep** | 11, 18, 25 | 15, 22, 29 | (11/15) Course Introduction; (18/22) data wrangling; (25/29) distributional visualizations |\n",
    "| **Oct** | 2, **TG**~.9.~, 16, 23 | 6, 13(**CP**), 20, 27 |  (2/6) Confidence Intervals; (13) Course Project (**CP**); (16/20/23/27) Hypothesis Testing |\n",
    "|  | 30 | | **MT** Review + Formal Course Project Introduction: Christine (UofT) and Evan (UNICEF)|\n",
    "| **Nov** | | 3(**MT**) | **MT** covers all the above Coding, Confidence Intervals, and Hypothesis Testing topics |\n",
    "|||| L0101 **MT** **9-11 AM Fri, Nov 3**: EX100 (capacity 309) & L0201 **MT** **1-3 PM Fri, Nov 3**:<br>EX300  (capacity 90), MP102 (capacity 98), MP202 (capacity 98), WB130 (capacity 40)\n",
    "|  | **RW**~.6.~, 13, 20, 27 | **RW**~.10.~, 17, 24 | (13/17/20/24) Simple and Multiple Linear Regression; (27/1)  Binary Classification Trees  |\n",
    "| **Dec** | | 1 (Last tutorial) | \n",
    "|  | 4 | [No tutorial Dec 8] | (24/4) Ethics Guest Lecture with Philosophy Prof. Steven Coyne and Final Exam Review\n",
    "|  | **7 (Dec 7 is Thursday)** | | **Course Project Presentations: normal lecture time (except Thursday) location TBA**\n",
    "| | | |\n",
    "| Final Exam Scheduling TBA for **Dec** | | | **Final is COMPREHENSIVE and takes place during Term Final Exam Testing Period** | \n",
    "\n",
    "> To accomodate the 24 tutorial sections across both lecture sections (576 students) **MT Exam** scheduling is as follows:\n",
    "> - **MT 9-11 AM Fri, Nov 3**<br>L0101 has 264 students (BA1160 has a 278 capacity limit; so, 264/278 of this capacity supports 11 tutorial sections of 24 students)\n",
    "> > - EX100 is [room 100](https://lsm.utoronto.ca/ws/f?p=210:1:::::P1_BLDG,P1_ROOM:EX,100) in the [Exam Centre on 255 McCaul Street](https://map.utoronto.ca/?id=1809#!ce/48654?ct/45469?m/494453?s/)<br>(and has capacity for 309 students)\n",
    ">\n",
    ">\n",
    "> - **MT 1-3 PM Fri, Nov 3**<br>L0201 has 312 students (MC102 has a 354 capacity limit; so, 312/354 of this capacity supports 13 tutorial sections of 24 students)  \n",
    "> > - EX300 is [room 300 carrels](https://lsm.utoronto.ca/ws/f?p=210:1:::::P1_BLDG,P1_ROOM:EX,300) in the [Exam Centre on 255 McCaul Street](https://map.utoronto.ca/?id=1809#!ce/48654?ct/45469?m/494453?s/)<br>(and has capacity for 90 students)\n",
    "> > - MP102 is [room 102](https://lsm.utoronto.ca/ws/f?p=210:1:::::P1_BLDG,P1_ROOM:MP,102) in the [McLennan Physical Laboratories building](https://www.classfind.com/toronto/room/MP102) on [255 Huron Street](https://map.utoronto.ca/?id=1809#!m/494490?sbc/)<br>(and has capacity for 98=196/2 students since students may not sit next to one another)\n",
    "> > - MP202 is [room 202](https://lsm.utoronto.ca/ws/f?p=210:1:::::P1_BLDG,P1_ROOM:MP,202) in the [McLennan Physical Laboratories building](https://www.classfind.com/toronto/room/MP202) on [255 Huron Street](https://map.utoronto.ca/?id=1809#!m/494490?sbc/)<br>(and has capacity for 98=196/2 students since students may not sit next to one another)\n",
    "> > - WB130 is [room 130](https://lsm.utoronto.ca/ws/f?p=210:1:::::P1_BLDG,P1_ROOM:WB,130) in the [Wallberg Building](https://www.classfind.com/toronto/room/WB130) on [184-200 College Street](https://map.utoronto.ca/?id=1809#!m/494460?sbc/)<br>(and has capacity for 40=80/2 students since students may not sit next to one another)\n",
    "\n",
    "\n"
   ]
  },
  {
   "cell_type": "markdown",
   "id": "b940e11d",
   "metadata": {},
   "source": [
    "### Due Dates\n",
    "\n",
    "- Weekly Homework and Tutorial Activities and Tutorial Assignments are each worth 1 point with lowest two scores dropped from each.\n",
    "\n",
    "| | Weekly Homework<br>DUE Thu 5 PM ET| Tutorial Activity<br>In-Person | Tutorial Assignment<br>DUE Mon 9 AM ET | Course Project Assignments<br>DUE Mon 9 AM ET| \n",
    "|:-|:-:|:-:|:-:|:-|\n",
    "|1: JupyterHub+MarkUs          | Sep 14 | Sep 15 | Sep 18 |\n",
    "|2: Using `pandas`             | Sep 21 | Sep 22 | Sep 25 | \n",
    "|3: `plotly` Distributions     | Sep 28 | Sep 29 | Oct 02 |\n",
    "|4: Confidence Intervals       | Oct 05 | Oct 06 | Oct 09 |\n",
    "|UofT Thanksgiving<br>observed on Oct 9|        | Oct 13 **Project**<br>**Tutorial Activity** | Oct 16 **Project**<br>**Tutorial Assignment** | <u>Oct 13 Tutorial: Course Project Notebook</u><br>Oct 13: Project Assignments #1 and #2 Available  \n",
    "| |        |  |  | Oct 13: Project Team Groupings DUE (2 points) <br>Oct 13: In-Person **Project Tutorial Acitivty** (1 point)<br>Oct 16: **Project Tutorial Asignment** DUE (1 point)  \n",
    "|5: Hypothesis Tests I         | Oct 19 | Oct 20 | Oct 23 | |\n",
    "|6: Hypothesis Tests II        | Oct 26 | Oct 27 | Oct 30 | |  |\n",
    "|$\\bullet$ <u>Oct 30 Monday Lecture:</u><br>&nbsp;&nbsp;&nbsp;**MT Exam** Review & Formal<br>&nbsp;&nbsp;&nbsp;Course Project Introductions |   |        |        | \n",
    "|$\\bullet$ **MT Exam** takes place during<br>&nbsp;&nbsp;&nbsp;<u>Nov 03 Friday Tutorial period</u> | | | | Nov 03: Project Assignment #1 DUE (1 point)<br>&nbsp;&nbsp;&nbsp;&nbsp;&nbsp;&nbsp;&nbsp;&nbsp;&nbsp;&nbsp;&nbsp;&nbsp;&nbsp;This is good practice for **MT exam**\n",
    "|$\\bullet$ Reading Week        |        |        |        | Nov 13: Project Assignment #2 DUE (2 points)\n",
    "|7: Simple Linear Regression   | Nov 16 | Nov 17 | Nov 20 | \n",
    "|8: Multiple Linear Regression | Nov 23 | Nov 24 | Nov 27 |\n",
    "|9: Binary Classification Trees| Nov 31 | Dec 01 | Dec 04 |\n",
    "|$\\bullet$ Dec 04: Final Review $+$ <br>&nbsp;&nbsp;&nbsp;Ethics Guest Speaker<!--9: Ethics and Generalization-->  | <!--Dec 07--> |        |        |  Dec 7: Presentation Slides DUE (5 points)<br>***Late Slides may be turned in by<br>Dec 11 for a 2 point deduction***\n",
    "| **Final Exam TBA for Dec**<br>Final Exam Testing Period| |||  Dec 7: Project Presentations (6 points)<br>***Missed Presentations may be rescheduled<br>but this will incur a 3 point penalty***\n",
    "\n"
   ]
  },
  {
   "cell_type": "markdown",
   "id": "3cccea2a",
   "metadata": {
    "slideshow": {
     "slide_type": "slide"
    }
   },
   "source": [
    "# Course Project\n",
    "\n",
    "- $\\leq (11+13)\\times 24 = 576$ students in the course \n",
    "- $\\leq 11\\times 24 = 264$ students in the L0101 section \n",
    "- $\\leq 13\\times 24 = 312$ students in the L0201 section \n",
    "\n",
    "\n",
    "- Group sizes will ideally be 5 students and secondarily 4 students, with exceptions for groups of 3 students made in special circumstances \n",
    "    - Project groups will be formed within tutorial sections, with the only exception being a critical necessity to merge two small groups\n",
    "    - Groups of 3 contributing students is \"sufficiently large\" and so is not viewed as having an \"undue burden\" of increased workload\n",
    "    - The course project assignments, standards, and evaluations do not change on the basis of project group size\n",
    "    - Larger group sizes are preferrable to partially protect against potentially detrimental effects of non-contributing group members\n",
    "      > Hopefully it won't be the case for the course project; but, you may have to practice navigating the injustice that in life some people don't receive as much credit as they should, while others receive more credit than they are entitled to. Consider  who you'd rather be though: a person who works harder and does more, or a person who isn't actually able to contribute appropriately? In the long run, which of these people do you think stands the best chance of finding success and advancing in a meaningful way?\n",
    "- There will ideally be 4-5 project groups in each tutorial section, with exceptions for 6 project groups made in special circumstances \n",
    "    - There should be 44-55 project groups in the L0101 section and 52-65 project groups in the L0201 section\n",
    "    - There should be a total of somehwere between 96-120 STA130 final project groups, or something somewhat near that range as needed\n",
    "\n",
    "\n",
    "> TAs may remove non-contributing group members from productive groups if (a) the other group members request that the TA do so (or email sta130@utronto.ca with this request) and (b) the removal is approved by the course professor\n",
    ">    - Concerns with group member contributions in regards to the **Project Tutorial Activity and Assignment** of Oct 13 or **Project Assignments #1 and #2** due on Nov 3 and Nov 13 should be indicated by the group along with the groups submission.\n",
    ">    - Concerns that are unexpectedly raised towards the final Dec 7 course project due date may be hard to resolve smoothely; so, please try to address group concerns internally and appropriately, setting appropriate expectations regarding group contributions, and minimizing undue conflict wherever possible. \n",
    ">    - Students removed from groups forfeit their elgiblility for the 11 points of the course project associated with the Project Slides and Presentations; but, they may recover up to 4 points by scheduling an oral examination covering the topics of the course project\n",
    "        \n",
    "\n",
    "### Dates\n",
    "- *Sep 11*: The structure of the **Course Project** is introduced along with the syllabus.\n",
    "- *Oct 2*: A reminder that project team grouping requirements for the **Course Project** are Due on Oct 13 is made.\n",
    "- *Oct 9*: A reminder that project team grouping requirements for the **Course Project** are Due on Oct 13 is made.\n",
    "- *Oct 13*: The **Course Project** notebook is introduced during the Friday, Oct 13 Tutorial. \n",
    "- *Oct 13*: Project Teams must be formed by the Friday, Oct 13 Tutorial (2 points).<br>Delays in project groupings or the necessity of interventions to create project teams will result in a loss of award points.\n",
    "    - Students who have not been assigned into groups of size $5$ and $4$ (and possibly $3$) by the Oct 13 TUT will be \"randomly\" assigned into groups on the basis of group sizes, and groups of $4$ or less may be \"randomly\" assigned an additional team member.\n",
    "    - Project team groupings should be finalized as soon as possible, with requests regarding special cases (e.g., for smaller groups) being raised and resolved in as timely a manner as possible. \n",
    "\n",
    "- *Oct 13*: The **Project Tutorial Activity** (1 point) for the Friday, Oct 13 Tutorial is based on attendance and subsequent participation and engagement. \n",
    "- *Oct 16*: The **Project Tutorial Assignment** (1 point) asociated with the Friday, Oct 13 Tutorial is DUE on MOnday, Oct 16 at 9 AM ET.\n",
    "    \n",
    "- *Nov 3*: **Project Assignment #1** (1 point) is DUE on Friday, Nov 3 at 9 AM ET.\n",
    "- *Nov 13*: **Project Assignment #2** (2 point) is DUE on Monday, Nov 13 at 9 AM ET.\n",
    "- *Dec 7*: Presentation Slides DUE (5 points) *[Late Slides may be turned in by\n",
    "Dec 11 for a 2 point deduction]*\n",
    "- *Dec 7*: Project Presentations (6 points) *[Missed Presentations may be rescheduled\n",
    "but this will incur a 3 point penalty]*\n",
    "\n",
    "|<img src=\"im/poster_fair.JPG\" alt=\"Drawing\" style=\"height: 500px;\"/>|<img src=\"im/poster_fair_2.jpg\" alt=\"Drawing\" style=\"height: 500px;\"/>|\n",
    "|-|-|        "
   ]
  },
  {
   "cell_type": "markdown",
   "id": "3a14f77e",
   "metadata": {},
   "source": [
    "# Instructional Team\n",
    "\n",
    "- All instructional team members should be reached at STA130@utoronto.ca or through the course piazza [Discussion Board](https://piazza.com/class/lll7afsmjfiat) (sign up [here](https://piazza.com/utoronto.ca/fall2023/sta130)).\n",
    "\n",
    "\n",
    "| <img src='im/ProfSchwartz.jpg' alt=\"Prof. Schwartz\" style=\"width:200px\"> | <img src='im/QuinXie.JPG' alt=\"Prof. Schwartz\" style=\"width:200px\"> | <img src='im/IvanNguyen.jpeg' alt=\"Ivan Nguyen\" style=\"width:200px\"> |\n",
    "|-|-|-|\n",
    "| Teaching Stream Assistant Professor and <br>Director of DoSS Data Science Programs | STA130 Head TA and Graduate Research <br>Assistant at The Hospital for Sick Children | Mentorship Programs Coordinator for <br>the Department of Statistical Sciences  |\n",
    "| Prof. Schwartz | Quin Xie | Ivan Nguyen | \n",
    "\n",
    "\n",
    "| L0101 TAs | L0201 TAs | \n",
    "|-|-|\n",
    "| Oliver Gatalo | Ijeoma Itanyi |\n",
    "| Konstantinos Tsiolis | Hriday Chheda |\n",
    "| Tanya Thaker | Xiaoxuan Han |\n",
    "| Nicholas Susanto | ~~Shirley Wang~~ |\n",
    "| Zan Liang | Jun Ni Du |\n",
    "| Wai Yu Amanda Ng | Kevin Sun |\n",
    "| Qiaowei Lin | Yujin Liu |\n",
    "| Yuxin Shi | Yinyue Tan | \n",
    "| Rebecca Wu | Laurie Liu |\n",
    "| Ling Dong | Tong Su |\n",
    "| Siqi Zheng | Weilin Fu |\n",
    "| | Yushu Zou |\n",
    "| | George Stefan |\n",
    "\n",
    "\n"
   ]
  },
  {
   "cell_type": "markdown",
   "id": "e1836336",
   "metadata": {},
   "source": [
    "# The STA130 Mentorship Program\n",
    "\n",
    "Finding community and support on campus will increase your chances of academic success and fuel your mental well-being, making university life much, much more fun. The STA130 Mentorship Program provides a way to create opportunities to start engaging in the community here at UofT.  The program entails three pillars of learning & support:\n",
    "\n",
    "- social/personal development\n",
    "- career exploration\n",
    "- peer-to-peer 1:1 mentorship (from upper-year students who used to be in your shoes!)\n",
    "\n",
    "Engagement in the Mentorship Program is worth 3% of your mark (1% for each of the learning pillars). To get credit, attend one event from each of the first two pillars, and meet with an STA130 mentor. For each activity, you'll write and submit a paragraph with your reflections on what you learned from the activity. Please allow up to 2 weeks from the date of activity and your reflections submission for the grade to be recorded. You can register for the events on the Mentorship SharePoint page via this link [HERE](https%3A%2F%2Futoronto.sharepoint.com%2Fsites%2FArtSci-STA%2FMentorship%2FSitePages%2FSTA130-Mentorship-Program-Home.aspx).\n",
    "\n",
    "#### Tips for a successful mentorship program experience\n",
    "- Start early, don't wait until the last minute and get stuck without activities to attend or mentors to chat with.\n",
    "- Choose your mentor(s): check out the mentor biographies  to find someone with a common interest or program or experience in an area you're interested in. Come to your meeting prepared with questions; the mentors are friendly and ready to answer questions about it all (academic, social, homesickness, time planning, and more). \n",
    "- While most of the information on the mentorship program is found on the mentorship SharePoint site, you will submit your reflections and receive your grades through Quercus."
   ]
  },
  {
   "cell_type": "markdown",
   "id": "3d9128ea",
   "metadata": {},
   "source": [
    "# Course Design / ~Textbook~\n",
    "\n",
    "The course professor and STA130 TAs are your mentors, modeling how to operate in the modern statistics and data science context.  STA130 provides ample \"practice\" material through which we wish to build your autonomy (the confidence that you can do this through on your own effort and initiative) and coding resiliance (increasingly figuring out how to do things to your own). \n",
    "\n",
    "\n",
    "- **Professor Class Lectures** will be coding demonstations, engaging in conceptual explanations topics as time allows.\n",
    "    - Ideally, the professor is a role model showing that indeed \"This can be done; and, eventually, it's pretty easy!\"\n",
    "- **TA Tutorial Presentations** will be more oriented towards conceptual explanations of topics through structured slides and activies.\n",
    "    - Tutorial is intended to be the place to better learn the courses conceptual ideas from your peers and peer role models (the STA130 TAs).\n",
    "- **Practice Homework** will provide hands-on practice with the course material upon which the course exams and course project are based. \n",
    "    - Homework will also often introduce extensions to the topics under consideration, which will convey the style of STA130 exam questions. \n",
    "- **Tutorial Activities and Assignments** will be oriented around the communication aspects of STA130. \n",
    "    - Activities will be completed during the tutorial; whereas, assignments will be introduced in the tutorial but completed outside of the tutorial.\n",
    "    \n",
    "*It is intended that all conceptual and coding materials necessary for STA130 will be available within the content of the course (in prerecorded lectures, lecture notebooks, homework materials, and tutorial materials); but, in the modern statistical and data science landscape, everything you need to figure out how to perform a given analysis can be found online.*  **STA130 thus intends and expects for you to find and use your own complementary resources online as needed.**\n",
    "\n",
    "> At this stage in your learning career, it is better to build comfort and skill finding and using resources online (while not getting distracted with all the other recommendations and notifications seeking your attention and engagement...); so, while the following textbooks have been made \"optional\" in past versions of STA130, and they are good learning materials, it is recommended that you seek out your own resources online customized to your own learning needs as they arise. \n",
    "> - Diez, D. M., Barr, C.D., and Cetinkaya-Rundel, M. Introdcutory Statistics with Randomization and Simulation First Edition. A free book.\n",
    "> - The following `R`-based books could be helpful, but of course `python` analogs would likely provide more relevant exposition...\n",
    ">   - Baumer, B.S., Kaplan, D.T., and Horton, N.J. Modern Data Science with R. 2017. CRC Press.\n",
    ">   - R for Data Science, by Hadley Wickham and Garrett Grolemund is a wonderful resource. A free book.\n",
    ">   - Hands-On Programming with R, by Garrett Grolemund. This is a free book.\n",
    "\n",
    "\n"
   ]
  },
  {
   "cell_type": "markdown",
   "id": "0dd8be30",
   "metadata": {
    "slideshow": {
     "slide_type": "skip"
    }
   },
   "source": [
    "# TA Assignments (125 hours total)\n",
    "\n",
    "This section is primarily for STA130 TAs but, understanding the (central) roles of STA130 TAs in STA130 helps explain how STA130 works as a course.\n",
    "\n",
    "- If weekly tasking is taking more than 10 hours TAs must immediately inform the head TA \n",
    "- TA performance/utilization/contribution is evaluated for re-hiring purposes\n",
    "\n",
    "|Task | Hours | Running Total | Cadence | Details |\n",
    "|-|-|:-|-|:-|\n",
    "| Weekly<br>Marking | 4 (x9) | 36 |  Weekly | HW: \\~4min per \\~24 students $\\approx$ 90min<br>TUT(Activity): just entering marks $\\approx$ 30min <br>TUT(Assignment): \\~5min per \\~24 students $\\approx$ 120min \n",
    "| TUT Prep | 2 (x10) | 56 | Weekly | Target ~60 minutes preparation for OH by review<br>of lecture code notebook and HW (if time permits)<br>Target ~60 minutes preparation with TUT materials\n",
    "| Lead TUT | 2 (x10) | 76 | Weekly | TUT content consists of highly structured lectures<br>and activities which will be delivered as specified\n",
    "| Group Project<br>Assignments | 2 (x3) | 82 | Weeks of Oct <br>16, Nov 6, 13  | TAs have 4-6 project teams so can spend 20-30<br>minutes evaluating each of these project teams\n",
    "| OH | 1-2 (x12) | 94-106 | Weekly | TAs will not have yet reviewed the homework<br>but can help guide your approach and thinking\n",
    "| Midterm | 0-10 | - | Reading Week | TAs will be assigned to mark written answer<br>questions for about \\~576 students (\\~1min/student)\n",
    "| Final | 0-10 | - | Finals Period | TAs will be assigned to mark written answer<br>questions for about \\~576 students (\\~1min/student)\n",
    "| Project | 0-10 | 125 | Finals Period | TAs will review poster day (and possibly late) project<br>presentations, and submitted course project slides \n",
    "\n",
    "Course lectures given by professors are usually conceptual, covering the main topics of the course; however, the main topic of this course is coding up statistical and data science analyses; so, that's what I (the professor) plan to do and demonstrate in my lectures. Course lectures will of course comment on relevant related conceptual understandings as necessary and helpful; but, time will be limited so it's more important to me (the professor) that I spend my time demonstrating how to practically go about doing something, rather than just discussing \"theoretically\" what the different aspects and considerations of a given topic are.\n",
    "\n",
    "> The weekly coding practice through homeworks and office hours are meant to provide ample reinforcement and support as you learn to practically apply coding to perform statistical and data science analyses. **Building coding comfort is a primary objective of the course**. *The approach to the course being taken here is directly intended as strategy designed to better address this objective*.\n",
    "\n",
    "Even with all of the above in mind, the conceptual understanding of a topic is of course certainly relevant and often highly useful in facilitating actual practical applied analysis; so, we still need to spend time on the coneptual topics of the methodologies examined in the course. Some of the relevant conceptual topics related to the practical analyses of the course has been moved into the homework that explore the topics and homework exercises. But the majority of the effort in the course put towards understanding statistical and data science concepts is now going to take place as part of the STA130 tutorials.\n",
    "\n",
    "> STA130 TAs begin the week preparing for \\~60 minutes for 60-120 minutes of office hours; then, they spend \\~90 minutes marking the weeks homework and then another \\~60 minutes preparing to the presentations and activities they'll give during the \\~120 minutes of the STA130 tutorial. They'll then spend another \\~150 minutes marking student tutorial activity and assignment submissions into the following week.\n",
    "\n",
    "STA130 tutorials will review the topics of the course, but with the overall processes of the methodologies having already been covered in class, the tutorials can now more deeply discuss and explore the conceputal understandings related to these analyses. Further, since the STA130 TAs have more recently experienced the learning process that STA130 students are going through, STA130 TAs will be well positioned to highlight and emphasize the key explainations that they feel are most effective useful for understanding the topics at hand. STA130 tutorials are thus viewed as a critical and essential component of STA130, and this is reflected in their contribution to the overall course grade. \n",
    "\n",
    "> STA130 tutorials use presentations and activies specifically designed to faciliate exploring and learning the most important topics and concepts in STA130. The sequencing of the STA130 tutorial presentation topics and activies are intentional and tightly regulared in terms of allotted time expectations.\n"
   ]
  },
  {
   "cell_type": "markdown",
   "id": "405ff8fb",
   "metadata": {},
   "source": [
    "# Marking\n",
    "\n",
    "## Homework\n",
    "\n",
    "TAs have been alloted \\~90 minutes to mark the Homework for the \\~24 students. This means that TAs have \\~4 minutes to review and enter the mark for each students Homework. This will not be enough time to provide any substantive feedback on homework submissions; however, homework feedback is highly automated through MarkUs. So, it is not the TAs job to provide feedback on the homework; rather, it is the TAs job to assign a reasonably fair scores for demonstration of effort and correct completion on the homework assignment submission.  \n",
    "\n",
    "Homework marks are thus assigned though the following two-stage process:\n",
    "\n",
    "1. A rough “proportion completed” score is quickly assigned based on a quick characterization of student submissions suggested by a glance assessment of the MarkUs autotesting results\n",
    "\n",
    "    | 0 | no substantive submission |\n",
    "    |-|-|\n",
    "    |1/4:| about 1/4 of the problems completed with reasonable effort|\n",
    "    |1/2:| about 1/2 of the problems completed with reasonable effort|\n",
    "    |3/4:| about 3/4 of the problems completed with reasonable effort|\n",
    "    |1:| all problems completed with reasonable effort|\n",
    "\n",
    "  where “completed with reasonable effort” means that MarkUs autotests are correct \"more often than not\".\n",
    "\n",
    "    - The TAs will carefully note which MarkUs autotests are intentionally designed to automatically fail for the purposes of provided example solutions to students and do not count these against the students as \"wrong/red\" \n",
    "    - So, if the autotests are \"mostly green\", then the \"proportion completed\" just roughly estimates where \"mostly green\" stops and \"all the rest are wrong/red\" begins (ignoring automatically failing autotests).\n",
    "    - Students can run autotests; so, if a student homework submission is not working, the student is responsible for noticing this and correcting any problem with the coding that's causing the error. \n",
    "\n",
    "\n",
    "2. Secondly, there will be a handful of problems which are assigned manual review by the TAs.  If a TA does not think an answer demonstrates sufficient understanding of the topics in question in any question they are directed to manually review, they will deduct 1/4 point from the initial  \"proportion completed\" score for each problem they are not satisfied with (down to a lowset score of 0, as assigned HW scores will not be negative). \n",
    "\n",
    "    - TAs should only deduct points when an answer fails to reasonably demonstrate an understanding of the topics of its contents, or fails to understand the prompt of a question \n",
    "\n",
    "\n",
    "\n",
    "## Tutorial Assignment\n",
    "\n",
    "TAs have been alloted \\~120 minutes to mark the Tutorial Assignment for the \\~24 students which means that TAs have \\~5 minutes to review, provide feedback, and enter the mark for each students Tutorial Assignment.  **The Tutorial Assignment itself is expected to take \\~60 minutes for students to complete outside of tutorial after tutorial has finished; typically involves a written submission of somewhere between 200 to 500 words; and, is  typically based on an electronic submission through Quercus. Tutorial Assignments are made at the end of Tutorials on Friday; are due by 9 AM the following Monday of the next week; and may be submitted without attending tutorial.** The default Rubric for a Tutorial Assignment generally conforms to the sum of the following two columns, with allowances for adjustments of 1/8 for submissions that fall somehwere in between the levels indicated below.  \n",
    "\n",
    "| | General Impression of Written Communication | Substantive Correctness of Answer Content | \n",
    "|-|--------------|---------------------|\n",
    "| Clear and Understandable | 1/2          | 1/2                 |\n",
    "| Mostly makes sense and can generally be followed | 1/4          | 1/4                 |\n",
    "| Hard to follow and not comfortably communicated | 0          | 0                 |\n",
    "\n",
    "Tyically, recieving points for the \"General Impression of Written Communication\" would be expected to in some sense be prerequesite for recieving points for the \"Substantive Correctness of Answer Content\". There may quite possibly not be any single specific answer which is correct. In which case, \"Impression\" and \"Correctness\" are assessed on the basis of internal coherrency, consistency, and sensibility of the provided arguments and statements. \n",
    "\n",
    "## Tutorial Activity\n",
    "\n",
    "The Tutorial Activity takes place during tutorials and is a participation and engagement score that requires attendance during the tutorial. **Typically the Tutorial Activity requires students to hand in written submissions on a physical sheet of paper during the tutorial.**  The TAs will not review the answers of these Tutorial Activity submissions, however; and, they will only use them for entering marks for completion of the tutorial activity. The answers to Tutorial Activity will typically be conversationally reviewed as part of the tutorial presentation.  TAs have been alloted \\~30 minute to enter Tutorial Activity marks into Quercus; but, since this is more time than is needed, the TAs will use the excess time in completing the other marking activities as needed. \n"
   ]
  },
  {
   "cell_type": "markdown",
   "id": "32f97f65",
   "metadata": {
    "slideshow": {
     "slide_type": "slide"
    }
   },
   "source": [
    "# JupyterHub and MarkUs\n",
    "\n",
    "- Quick Demos\n",
    "\n",
    "- Some conversation about how Autotesting works in MarkUs\n"
   ]
  }
 ],
 "metadata": {
  "celltoolbar": "Slideshow",
  "kernelspec": {
   "display_name": "Python 3 (ipykernel)",
   "language": "python",
   "name": "python3"
  },
  "language_info": {
   "codemirror_mode": {
    "name": "ipython",
    "version": 3
   },
   "file_extension": ".py",
   "mimetype": "text/x-python",
   "name": "python",
   "nbconvert_exporter": "python",
   "pygments_lexer": "ipython3",
   "version": "3.10.8"
  }
 },
 "nbformat": 4,
 "nbformat_minor": 5
}
